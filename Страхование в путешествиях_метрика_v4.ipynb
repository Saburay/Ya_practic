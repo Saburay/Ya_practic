{
 "cells": [
  {
   "cell_type": "code",
   "execution_count": 115,
   "id": "5626a1b9",
   "metadata": {},
   "outputs": [],
   "source": [
    "import pandas as pd\n",
    "import numpy as np\n",
    "from sklearn.model_selection import train_test_split\n",
    "from sklearn.metrics import accuracy_score\n",
    "from sklearn.linear_model import LogisticRegression\n",
    "from sklearn.preprocessing import OrdinalEncoder \n",
    "from sklearn.tree import DecisionTreeClassifier\n",
    "from sklearn.preprocessing import StandardScaler \n",
    "import matplotlib.pyplot as plt\n",
    "\n",
    "from sklearn.metrics import confusion_matrix\n",
    "from sklearn.metrics import recall_score\n",
    "from sklearn.metrics import precision_score\n",
    "from sklearn.metrics import f1_score\n",
    "from sklearn.utils import shuffle \n",
    "from sklearn.metrics import roc_curve\n",
    "from sklearn.metrics import roc_auc_score "
   ]
  },
  {
   "cell_type": "markdown",
   "id": "085052b0",
   "metadata": {},
   "source": [
    "[Метрики классификации](#metrica)\n"
   ]
  },
  {
   "cell_type": "code",
   "execution_count": null,
   "id": "07bf6847",
   "metadata": {},
   "outputs": [],
   "source": []
  },
  {
   "cell_type": "code",
   "execution_count": 3,
   "id": "0760f2ea",
   "metadata": {},
   "outputs": [],
   "source": [
    "data = pd.read_csv('travel_insurance.csv')"
   ]
  },
  {
   "cell_type": "code",
   "execution_count": 4,
   "id": "2bb7b8a9",
   "metadata": {},
   "outputs": [
    {
     "data": {
      "text/html": [
       "<div>\n",
       "<style scoped>\n",
       "    .dataframe tbody tr th:only-of-type {\n",
       "        vertical-align: middle;\n",
       "    }\n",
       "\n",
       "    .dataframe tbody tr th {\n",
       "        vertical-align: top;\n",
       "    }\n",
       "\n",
       "    .dataframe thead th {\n",
       "        text-align: right;\n",
       "    }\n",
       "</style>\n",
       "<table border=\"1\" class=\"dataframe\">\n",
       "  <thead>\n",
       "    <tr style=\"text-align: right;\">\n",
       "      <th></th>\n",
       "      <th>Agency</th>\n",
       "      <th>Agency Type</th>\n",
       "      <th>Distribution Channel</th>\n",
       "      <th>Product Name</th>\n",
       "      <th>Claim</th>\n",
       "      <th>Duration</th>\n",
       "      <th>Destination</th>\n",
       "      <th>Net Sales</th>\n",
       "      <th>Commission (in value)</th>\n",
       "      <th>Gender</th>\n",
       "      <th>Age</th>\n",
       "    </tr>\n",
       "  </thead>\n",
       "  <tbody>\n",
       "    <tr>\n",
       "      <th>0</th>\n",
       "      <td>JZI</td>\n",
       "      <td>Airlines</td>\n",
       "      <td>Online</td>\n",
       "      <td>Value Plan</td>\n",
       "      <td>0</td>\n",
       "      <td>12</td>\n",
       "      <td>TAIWAN, PROVINCE OF CHINA</td>\n",
       "      <td>45.0</td>\n",
       "      <td>15.75</td>\n",
       "      <td>M</td>\n",
       "      <td>39</td>\n",
       "    </tr>\n",
       "    <tr>\n",
       "      <th>1</th>\n",
       "      <td>EPX</td>\n",
       "      <td>Travel Agency</td>\n",
       "      <td>Online</td>\n",
       "      <td>Cancellation Plan</td>\n",
       "      <td>0</td>\n",
       "      <td>50</td>\n",
       "      <td>JAPAN</td>\n",
       "      <td>22.0</td>\n",
       "      <td>0.00</td>\n",
       "      <td>None</td>\n",
       "      <td>36</td>\n",
       "    </tr>\n",
       "    <tr>\n",
       "      <th>2</th>\n",
       "      <td>EPX</td>\n",
       "      <td>Travel Agency</td>\n",
       "      <td>Online</td>\n",
       "      <td>Cancellation Plan</td>\n",
       "      <td>0</td>\n",
       "      <td>251</td>\n",
       "      <td>BRAZIL</td>\n",
       "      <td>80.0</td>\n",
       "      <td>0.00</td>\n",
       "      <td>None</td>\n",
       "      <td>36</td>\n",
       "    </tr>\n",
       "    <tr>\n",
       "      <th>3</th>\n",
       "      <td>EPX</td>\n",
       "      <td>Travel Agency</td>\n",
       "      <td>Online</td>\n",
       "      <td>Cancellation Plan</td>\n",
       "      <td>0</td>\n",
       "      <td>6</td>\n",
       "      <td>INDIA</td>\n",
       "      <td>-10.0</td>\n",
       "      <td>0.00</td>\n",
       "      <td>None</td>\n",
       "      <td>36</td>\n",
       "    </tr>\n",
       "    <tr>\n",
       "      <th>4</th>\n",
       "      <td>JZI</td>\n",
       "      <td>Airlines</td>\n",
       "      <td>Online</td>\n",
       "      <td>Value Plan</td>\n",
       "      <td>0</td>\n",
       "      <td>5</td>\n",
       "      <td>CHINA</td>\n",
       "      <td>45.0</td>\n",
       "      <td>15.75</td>\n",
       "      <td>M</td>\n",
       "      <td>34</td>\n",
       "    </tr>\n",
       "  </tbody>\n",
       "</table>\n",
       "</div>"
      ],
      "text/plain": [
       "  Agency    Agency Type Distribution Channel       Product Name  Claim  \\\n",
       "0    JZI       Airlines               Online         Value Plan      0   \n",
       "1    EPX  Travel Agency               Online  Cancellation Plan      0   \n",
       "2    EPX  Travel Agency               Online  Cancellation Plan      0   \n",
       "3    EPX  Travel Agency               Online  Cancellation Plan      0   \n",
       "4    JZI       Airlines               Online         Value Plan      0   \n",
       "\n",
       "   Duration                Destination  Net Sales  Commission (in value)  \\\n",
       "0        12  TAIWAN, PROVINCE OF CHINA       45.0                  15.75   \n",
       "1        50                      JAPAN       22.0                   0.00   \n",
       "2       251                     BRAZIL       80.0                   0.00   \n",
       "3         6                      INDIA      -10.0                   0.00   \n",
       "4         5                      CHINA       45.0                  15.75   \n",
       "\n",
       "  Gender  Age  \n",
       "0      M   39  \n",
       "1   None   36  \n",
       "2   None   36  \n",
       "3   None   36  \n",
       "4      M   34  "
      ]
     },
     "execution_count": 4,
     "metadata": {},
     "output_type": "execute_result"
    }
   ],
   "source": [
    "data.head(5)"
   ]
  },
  {
   "cell_type": "markdown",
   "id": "2bcf0af4",
   "metadata": {},
   "source": [
    "Признаки, с которыми будем работать:\n",
    "\n",
    "\n",
    "Agency — название страхового агентства\n",
    "\n",
    "Agency Type — тип страхового агентства\n",
    "\n",
    "Distribution Channel — канал продвижения страхового агентства\n",
    "\n",
    "Product Name — название страхового продукта\n",
    "\n",
    "Duration — длительность поездки (количество дней)\n",
    "\n",
    "Destination — направление поездки\n",
    "\n",
    "Net Sales — сумма продаж ($)\n",
    "\n",
    "Commission — комиссия страхового агентства ($)\n",
    "\n",
    "Gender — пол застрахованного\n",
    "\n",
    "Age — возраст застрахованного\n",
    "\n",
    "Целевой признак:\n",
    "Claim (англ. «претензия») — потребовалась ли страховая выплата: «да» — 1, «нет» — 0"
   ]
  },
  {
   "cell_type": "code",
   "execution_count": 5,
   "id": "f7dc56f7",
   "metadata": {},
   "outputs": [
    {
     "data": {
      "text/html": [
       "<div>\n",
       "<style scoped>\n",
       "    .dataframe tbody tr th:only-of-type {\n",
       "        vertical-align: middle;\n",
       "    }\n",
       "\n",
       "    .dataframe tbody tr th {\n",
       "        vertical-align: top;\n",
       "    }\n",
       "\n",
       "    .dataframe thead th {\n",
       "        text-align: right;\n",
       "    }\n",
       "</style>\n",
       "<table border=\"1\" class=\"dataframe\">\n",
       "  <thead>\n",
       "    <tr style=\"text-align: right;\">\n",
       "      <th></th>\n",
       "      <th>Claim</th>\n",
       "      <th>Duration</th>\n",
       "      <th>Net Sales</th>\n",
       "      <th>Commission (in value)</th>\n",
       "      <th>Age</th>\n",
       "    </tr>\n",
       "  </thead>\n",
       "  <tbody>\n",
       "    <tr>\n",
       "      <th>count</th>\n",
       "      <td>50660.000000</td>\n",
       "      <td>50660.000000</td>\n",
       "      <td>50660.000000</td>\n",
       "      <td>50660.000000</td>\n",
       "      <td>50660.000000</td>\n",
       "    </tr>\n",
       "    <tr>\n",
       "      <th>mean</th>\n",
       "      <td>0.014864</td>\n",
       "      <td>49.587150</td>\n",
       "      <td>40.749961</td>\n",
       "      <td>9.800755</td>\n",
       "      <td>39.957284</td>\n",
       "    </tr>\n",
       "    <tr>\n",
       "      <th>std</th>\n",
       "      <td>0.121009</td>\n",
       "      <td>103.629611</td>\n",
       "      <td>48.470030</td>\n",
       "      <td>19.716468</td>\n",
       "      <td>14.027618</td>\n",
       "    </tr>\n",
       "    <tr>\n",
       "      <th>min</th>\n",
       "      <td>0.000000</td>\n",
       "      <td>-2.000000</td>\n",
       "      <td>-389.000000</td>\n",
       "      <td>0.000000</td>\n",
       "      <td>0.000000</td>\n",
       "    </tr>\n",
       "    <tr>\n",
       "      <th>25%</th>\n",
       "      <td>0.000000</td>\n",
       "      <td>9.000000</td>\n",
       "      <td>18.000000</td>\n",
       "      <td>0.000000</td>\n",
       "      <td>35.000000</td>\n",
       "    </tr>\n",
       "    <tr>\n",
       "      <th>50%</th>\n",
       "      <td>0.000000</td>\n",
       "      <td>22.000000</td>\n",
       "      <td>27.000000</td>\n",
       "      <td>0.000000</td>\n",
       "      <td>36.000000</td>\n",
       "    </tr>\n",
       "    <tr>\n",
       "      <th>75%</th>\n",
       "      <td>0.000000</td>\n",
       "      <td>53.000000</td>\n",
       "      <td>49.000000</td>\n",
       "      <td>11.550000</td>\n",
       "      <td>43.000000</td>\n",
       "    </tr>\n",
       "    <tr>\n",
       "      <th>max</th>\n",
       "      <td>1.000000</td>\n",
       "      <td>4881.000000</td>\n",
       "      <td>682.000000</td>\n",
       "      <td>262.760000</td>\n",
       "      <td>118.000000</td>\n",
       "    </tr>\n",
       "  </tbody>\n",
       "</table>\n",
       "</div>"
      ],
      "text/plain": [
       "              Claim      Duration     Net Sales  Commission (in value)  \\\n",
       "count  50660.000000  50660.000000  50660.000000           50660.000000   \n",
       "mean       0.014864     49.587150     40.749961               9.800755   \n",
       "std        0.121009    103.629611     48.470030              19.716468   \n",
       "min        0.000000     -2.000000   -389.000000               0.000000   \n",
       "25%        0.000000      9.000000     18.000000               0.000000   \n",
       "50%        0.000000     22.000000     27.000000               0.000000   \n",
       "75%        0.000000     53.000000     49.000000              11.550000   \n",
       "max        1.000000   4881.000000    682.000000             262.760000   \n",
       "\n",
       "                Age  \n",
       "count  50660.000000  \n",
       "mean      39.957284  \n",
       "std       14.027618  \n",
       "min        0.000000  \n",
       "25%       35.000000  \n",
       "50%       36.000000  \n",
       "75%       43.000000  \n",
       "max      118.000000  "
      ]
     },
     "execution_count": 5,
     "metadata": {},
     "output_type": "execute_result"
    }
   ],
   "source": [
    "data.describe()"
   ]
  },
  {
   "cell_type": "markdown",
   "id": "68f55884",
   "metadata": {},
   "source": [
    "\n",
    "Разбейте исходные данные на две выборки:\n",
    "\n",
    "обучающую (train);\n",
    "валидационную (valid). Это 25% исходных данных.\n",
    "\n",
    "Установите параметр (random_state) равным 12345.\n",
    "\n",
    "Объявите четыре переменные и запишите в них:\n",
    "\n",
    "признаки: features_train, features_valid;\n",
    "\n",
    "целевой признак: target_train, target_valid.\n",
    "\n",
    "Выведите на экран размеры таблиц, которые хранятся в переменных: features_train и features_valid."
   ]
  },
  {
   "cell_type": "code",
   "execution_count": 6,
   "id": "7d1d9f7d",
   "metadata": {},
   "outputs": [],
   "source": [
    "features = data.drop(['Claim'],axis=1)"
   ]
  },
  {
   "cell_type": "code",
   "execution_count": 7,
   "id": "4f53fc4f",
   "metadata": {},
   "outputs": [],
   "source": [
    "target = data['Claim']"
   ]
  },
  {
   "cell_type": "code",
   "execution_count": 8,
   "id": "5d6fc701",
   "metadata": {},
   "outputs": [],
   "source": [
    "features_train, features_valid,target_train, target_valid = train_test_split(features,target,test_size=0.25,random_state=12345)"
   ]
  },
  {
   "cell_type": "code",
   "execution_count": 9,
   "id": "6293e44a",
   "metadata": {},
   "outputs": [
    {
     "name": "stdout",
     "output_type": "stream",
     "text": [
      "(37995, 10)\n",
      "(12665, 10)\n"
     ]
    }
   ],
   "source": [
    "print(features_train.shape)\n",
    "print(features_valid.shape)"
   ]
  },
  {
   "cell_type": "markdown",
   "id": "f41ea86e",
   "metadata": {},
   "source": [
    "Принадлежность к категории логистическая регрессия вычисляет по формуле, состоящей из признаков. Они могут быть только численные. Наши данные содержали и категориальные признаки тоже — в этом и была ошибка.\n",
    "\n",
    "Проверьте, признаки какого типа хранятся в таблице. Выведите их на экран. Затем напечатайте первые пять значений столбца Gender."
   ]
  },
  {
   "cell_type": "code",
   "execution_count": 10,
   "id": "c3f8b79f",
   "metadata": {},
   "outputs": [
    {
     "name": "stdout",
     "output_type": "stream",
     "text": [
      "Agency                    object\n",
      "Agency Type               object\n",
      "Distribution Channel      object\n",
      "Product Name              object\n",
      "Claim                      int64\n",
      "Duration                   int64\n",
      "Destination               object\n",
      "Net Sales                float64\n",
      "Commission (in value)    float64\n",
      "Gender                    object\n",
      "Age                        int64\n",
      "dtype: object\n"
     ]
    }
   ],
   "source": [
    "print(data.dtypes)"
   ]
  },
  {
   "cell_type": "code",
   "execution_count": 11,
   "id": "b503cad9",
   "metadata": {},
   "outputs": [
    {
     "name": "stdout",
     "output_type": "stream",
     "text": [
      "0       M\n",
      "1    None\n",
      "2    None\n",
      "3    None\n",
      "4       M\n",
      "Name: Gender, dtype: object\n"
     ]
    }
   ],
   "source": [
    "print(data['Gender'].head(5))"
   ]
  },
  {
   "cell_type": "markdown",
   "id": "faac1a79",
   "metadata": {},
   "source": [
    "Прямое кодирование\n",
    "Преобразовать категориальные признаки в численные поможет техника прямого кодирования, или отображения (англ. One-Hot Encoding, OHE).\n",
    "Принцип работы One-Hot Encoding объясним на значениях признака Gender.\n",
    "Для каждого значения признака Gender (F, M, None) создаётся столбец: \n",
    "Gender_F (от англ. female, «женщина»),\n",
    "Gender_M (от англ. male, «мужчина»),\n",
    "Gender_None (данных о поле нет).\n",
    "Когда ставить единицу в добавленные столбцы, зависит от того, каково значение Gender. Например, если F, то 1 записывается в столбец Gender_F, а M — в Gender_M. \n",
    "image\n",
    "\n",
    " \n",
    "Резюмируем. Техникой OHE категориальные признаки переводятся в численные в два этапа:\n",
    "Для каждого значения признака создаётся новый столбец;\n",
    "Если объекту категория подходит, присваивается 1, если нет — 0.\n",
    "Новые признаки (Gender_F, Gender_M, Gender_None) называются дамми-переменными, или дамми-признаками (англ. dummy variable, «фиктивная переменная»).\n",
    "Для прямого кодирования в библиотеке pandas есть функция pd.get_dummies() (от англ. «получить фиктивные переменные»)."
   ]
  },
  {
   "cell_type": "markdown",
   "id": "a1d40ecb",
   "metadata": {},
   "source": [
    "## Преобразуйте колонку Gender техникой OHE.\n",
    "Вызовите функцию pd.get_dummies() и напечатайте на экране первые пять записей изменённой таблицы."
   ]
  },
  {
   "cell_type": "code",
   "execution_count": 12,
   "id": "76174361",
   "metadata": {},
   "outputs": [
    {
     "name": "stdout",
     "output_type": "stream",
     "text": [
      "   M  None\n",
      "0  1     0\n",
      "1  0     1\n",
      "2  0     1\n",
      "3  0     1\n",
      "4  1     0\n"
     ]
    }
   ],
   "source": [
    "print(pd.get_dummies(data['Gender'].head(5)))"
   ]
  },
  {
   "cell_type": "markdown",
   "id": "32b6e5f1",
   "metadata": {},
   "source": [
    "Когда данных в избытке, можно угодить в ловушку фиктивных признаков.\n",
    "\n",
    "### Дамми-ловушка\n",
    "\n",
    "Пример:\n",
    "тобы подать документы на шенгенскую визу, нужно доказать, что деньги у вас есть.\n",
    "\n",
    "Вы решили перестраховаться, поэтому взяли и выписку с банковского счёта, и справку с работы, и 2-НДФЛ. Хотя визовому центру достаточно двух документов. Вашей модели лишняя информация тоже не очень-то нужна. \n",
    "\n",
    "Если оставить всё как есть, обучаться она будет сложнее. \n",
    "В таблицу добавились три новых столбца. Поскольку они сильно связаны между собой, один удалим без сожаления. Восстановить столбец можно по оставшимся двум. Так мы не попадём в дамми-ловушку (англ. dummy trap, «ловушка фиктивных признаков»).\n",
    "\n",
    "\n",
    "Столбец уберём вызовом функции:\n",
    "\n",
    "### pd.get_dummies() с аргументом drop_first (от англ. «сбросьте первый»).\n",
    "\n",
    "Он удаляет первую колонку и передаётся как drop_first=True или drop_first=False (True — первый столбец сбрасывается, False — не сбрасывается)."
   ]
  },
  {
   "cell_type": "code",
   "execution_count": 13,
   "id": "19f969a2",
   "metadata": {},
   "outputs": [
    {
     "name": "stdout",
     "output_type": "stream",
     "text": [
      "   M  None\n",
      "0  1     0\n",
      "1  0     1\n",
      "2  0     1\n",
      "3  0     1\n",
      "4  1     0\n"
     ]
    }
   ],
   "source": [
    "print(pd.get_dummies(data['Gender'],drop_first=True).head(5))"
   ]
  },
  {
   "cell_type": "markdown",
   "id": "dc091e67",
   "metadata": {},
   "source": [
    "\n",
    "Примените прямое кодирование ко всему датафрейму. Вызовите функцию pd.get_dummies() c аргументом drop_first. Сохраните таблицу в переменной data_ohe.\n",
    "Выведите на экран первые три строки преобразованной таблицы."
   ]
  },
  {
   "cell_type": "code",
   "execution_count": 14,
   "id": "0853cb55",
   "metadata": {},
   "outputs": [],
   "source": [
    "data_ohe = pd.get_dummies(data,drop_first=True)"
   ]
  },
  {
   "cell_type": "code",
   "execution_count": 15,
   "id": "e13a6028",
   "metadata": {},
   "outputs": [
    {
     "data": {
      "text/html": [
       "<div>\n",
       "<style scoped>\n",
       "    .dataframe tbody tr th:only-of-type {\n",
       "        vertical-align: middle;\n",
       "    }\n",
       "\n",
       "    .dataframe tbody tr th {\n",
       "        vertical-align: top;\n",
       "    }\n",
       "\n",
       "    .dataframe thead th {\n",
       "        text-align: right;\n",
       "    }\n",
       "</style>\n",
       "<table border=\"1\" class=\"dataframe\">\n",
       "  <thead>\n",
       "    <tr style=\"text-align: right;\">\n",
       "      <th></th>\n",
       "      <th>Claim</th>\n",
       "      <th>Duration</th>\n",
       "      <th>Net Sales</th>\n",
       "      <th>Commission (in value)</th>\n",
       "      <th>Age</th>\n",
       "      <th>Agency_ART</th>\n",
       "      <th>Agency_C2B</th>\n",
       "      <th>Agency_CBH</th>\n",
       "      <th>Agency_CCR</th>\n",
       "      <th>Agency_CSR</th>\n",
       "      <th>...</th>\n",
       "      <th>Destination_UNITED STATES</th>\n",
       "      <th>Destination_URUGUAY</th>\n",
       "      <th>Destination_UZBEKISTAN</th>\n",
       "      <th>Destination_VANUATU</th>\n",
       "      <th>Destination_VENEZUELA</th>\n",
       "      <th>Destination_VIET NAM</th>\n",
       "      <th>Destination_ZAMBIA</th>\n",
       "      <th>Destination_ZIMBABWE</th>\n",
       "      <th>Gender_M</th>\n",
       "      <th>Gender_None</th>\n",
       "    </tr>\n",
       "  </thead>\n",
       "  <tbody>\n",
       "    <tr>\n",
       "      <th>0</th>\n",
       "      <td>0</td>\n",
       "      <td>12</td>\n",
       "      <td>45.0</td>\n",
       "      <td>15.75</td>\n",
       "      <td>39</td>\n",
       "      <td>0</td>\n",
       "      <td>0</td>\n",
       "      <td>0</td>\n",
       "      <td>0</td>\n",
       "      <td>0</td>\n",
       "      <td>...</td>\n",
       "      <td>0</td>\n",
       "      <td>0</td>\n",
       "      <td>0</td>\n",
       "      <td>0</td>\n",
       "      <td>0</td>\n",
       "      <td>0</td>\n",
       "      <td>0</td>\n",
       "      <td>0</td>\n",
       "      <td>1</td>\n",
       "      <td>0</td>\n",
       "    </tr>\n",
       "    <tr>\n",
       "      <th>1</th>\n",
       "      <td>0</td>\n",
       "      <td>50</td>\n",
       "      <td>22.0</td>\n",
       "      <td>0.00</td>\n",
       "      <td>36</td>\n",
       "      <td>0</td>\n",
       "      <td>0</td>\n",
       "      <td>0</td>\n",
       "      <td>0</td>\n",
       "      <td>0</td>\n",
       "      <td>...</td>\n",
       "      <td>0</td>\n",
       "      <td>0</td>\n",
       "      <td>0</td>\n",
       "      <td>0</td>\n",
       "      <td>0</td>\n",
       "      <td>0</td>\n",
       "      <td>0</td>\n",
       "      <td>0</td>\n",
       "      <td>0</td>\n",
       "      <td>1</td>\n",
       "    </tr>\n",
       "    <tr>\n",
       "      <th>2</th>\n",
       "      <td>0</td>\n",
       "      <td>251</td>\n",
       "      <td>80.0</td>\n",
       "      <td>0.00</td>\n",
       "      <td>36</td>\n",
       "      <td>0</td>\n",
       "      <td>0</td>\n",
       "      <td>0</td>\n",
       "      <td>0</td>\n",
       "      <td>0</td>\n",
       "      <td>...</td>\n",
       "      <td>0</td>\n",
       "      <td>0</td>\n",
       "      <td>0</td>\n",
       "      <td>0</td>\n",
       "      <td>0</td>\n",
       "      <td>0</td>\n",
       "      <td>0</td>\n",
       "      <td>0</td>\n",
       "      <td>0</td>\n",
       "      <td>1</td>\n",
       "    </tr>\n",
       "  </tbody>\n",
       "</table>\n",
       "<p>3 rows × 189 columns</p>\n",
       "</div>"
      ],
      "text/plain": [
       "   Claim  Duration  Net Sales  Commission (in value)  Age  Agency_ART  \\\n",
       "0      0        12       45.0                  15.75   39           0   \n",
       "1      0        50       22.0                   0.00   36           0   \n",
       "2      0       251       80.0                   0.00   36           0   \n",
       "\n",
       "   Agency_C2B  Agency_CBH  Agency_CCR  Agency_CSR  ...  \\\n",
       "0           0           0           0           0  ...   \n",
       "1           0           0           0           0  ...   \n",
       "2           0           0           0           0  ...   \n",
       "\n",
       "   Destination_UNITED STATES  Destination_URUGUAY  Destination_UZBEKISTAN  \\\n",
       "0                          0                    0                       0   \n",
       "1                          0                    0                       0   \n",
       "2                          0                    0                       0   \n",
       "\n",
       "   Destination_VANUATU  Destination_VENEZUELA  Destination_VIET NAM  \\\n",
       "0                    0                      0                     0   \n",
       "1                    0                      0                     0   \n",
       "2                    0                      0                     0   \n",
       "\n",
       "   Destination_ZAMBIA  Destination_ZIMBABWE  Gender_M  Gender_None  \n",
       "0                   0                     0         1            0  \n",
       "1                   0                     0         0            1  \n",
       "2                   0                     0         0            1  \n",
       "\n",
       "[3 rows x 189 columns]"
      ]
     },
     "execution_count": 15,
     "metadata": {},
     "output_type": "execute_result"
    }
   ],
   "source": [
    "data_ohe.head(3)"
   ]
  },
  {
   "cell_type": "markdown",
   "id": "3f39d2c4",
   "metadata": {},
   "source": [
    "Разбейте исходные данные на две выборки в соотношении 75:25 (%):\n",
    "обучающую (train);\n",
    "валидационную (valid).\n",
    "\n",
    "Объявите четыре переменные и запишите в них:\n",
    "признаки: features_train, features_valid;\n",
    "целевой признак: target_train, target_valid.\n",
    "\n",
    "Вам предстоит освоить альтернативный способ работы с функцией train_test_split(): когда на вход подаются две переменные (признаки и целевой признак). Поработайте с документацией.\n",
    "\n",
    "Обучите логистическую регрессию.\n",
    "Напечатайте на экране текст \"Обучено!\" (уже в прекоде). Так вы убедитесь, что код выполнился без ошибок.\n",
    "\n",
    "Вложите и в train_test_split(), и в LogisticRegression() параметр random_state, равный 12345."
   ]
  },
  {
   "cell_type": "code",
   "execution_count": 16,
   "id": "6a0f7b13",
   "metadata": {},
   "outputs": [],
   "source": [
    "data_ohe = pd.get_dummies(data, drop_first=True)\n",
    "target = data_ohe['Claim']\n",
    "features = data_ohe.drop('Claim', axis=1)"
   ]
  },
  {
   "cell_type": "code",
   "execution_count": 17,
   "id": "263369ed",
   "metadata": {},
   "outputs": [],
   "source": [
    "features_train, features_valid, target_train, target_valid = train_test_split(features, target, test_size = 0.25, random_state = 12345)"
   ]
  },
  {
   "cell_type": "code",
   "execution_count": 18,
   "id": "da64f1aa",
   "metadata": {},
   "outputs": [
    {
     "name": "stdout",
     "output_type": "stream",
     "text": [
      "Обучено!\n"
     ]
    }
   ],
   "source": [
    "model = LogisticRegression(random_state=12345,solver='liblinear')\n",
    "model.fit(features_train, target_train)\n",
    "print(\"Обучено!\")"
   ]
  },
  {
   "cell_type": "markdown",
   "id": "19ee4232",
   "metadata": {},
   "source": [
    "### Порядковое кодирование\n",
    "\n",
    "Расскажем о другой технике кодирования признаков в решающем дереве и случайном лесе.\n",
    "\n",
    "Ordinal Encoding (от англ. «кодирование по номеру категории»). Она работает так:\n",
    "\n",
    "Фиксируется, какой цифрой кодируется класс;\n",
    "\n",
    "Цифры размещаются в столбце.\n",
    "\n",
    "Техника подходит для преобразования признаков в решающем дереве и случайном лесе (он состоит из деревьев)."
   ]
  },
  {
   "cell_type": "markdown",
   "id": "1b21dca3",
   "metadata": {},
   "source": [
    "Чтобы выполнить кодирование, в sklearn есть структура данных OrdinalEncoder (англ. «порядковый кодировщик»). Она находится в модуле sklearn.preprocessing (от англ. «предобработка»). \n",
    "Импортируем OrdinalEncoder из библиотеки:\n",
    "\n",
    "from sklearn.preprocessing import OrdinalEncoder \n",
    "Преобразование выполняется в три этапа: \n",
    "\n",
    "Создаём объект этой структуры данных.\n",
    "encoder = OrdinalEncoder() \n",
    "\n",
    "Чтобы получить список категориальных признаков, вызываем метод fit() — как и в обучении модели. Передаём ему данные как аргумент.\n",
    "encoder.fit(data) \n",
    "\n",
    "Преобразуем данные функцией transform() (англ. «преобразовать»). Изменённые данные будут храниться в переменной data_ordinal (англ. «порядковые данные»).\n",
    "data_ordinal = encoder.transform(data) \n",
    "\n",
    "Чтобы код добавил названия столбцов, оформим данные в структуру DataFrame():\n",
    "### data_ordinal = pd.DataFrame(encoder.transform(data), columns=data.columns) \n",
    "                                                      \n",
    "Если преобразование признаков требуется лишь один раз, как в нашей задаче, код можно упростить вызовом функции fit_transform() (от англ. «подогнать и преобразовать»).\n",
    "Она объединяет функции: fit() и transform(). \n",
    "\n",
    "\n",
    "### data_ordinal = pd.DataFrame(encoder.fit_transform(data), columns=data.columns) "
   ]
  },
  {
   "cell_type": "markdown",
   "id": "bd87de72",
   "metadata": {},
   "source": [
    "Преобразуйте признаки техникой Ordinal Encoding.\n",
    "Импортируйте OrdinalEncoder из модуля sklearn.preprocessing. \n",
    "\n",
    "Сохраните результат в переменной data_ordinal. Оформите данные в структуру DataFrame().\n",
    "\n",
    "Напечатайте на экране первые пять строк таблицыю"
   ]
  },
  {
   "cell_type": "code",
   "execution_count": 19,
   "id": "02538b7d",
   "metadata": {},
   "outputs": [],
   "source": [
    "encoder = OrdinalEncoder()"
   ]
  },
  {
   "cell_type": "code",
   "execution_count": 20,
   "id": "c494aa64",
   "metadata": {},
   "outputs": [],
   "source": [
    "data_ordinal = pd.DataFrame(encoder.fit_transform(data), columns = data.columns)"
   ]
  },
  {
   "cell_type": "code",
   "execution_count": 21,
   "id": "a4634b50",
   "metadata": {},
   "outputs": [
    {
     "name": "stdout",
     "output_type": "stream",
     "text": [
      "   Agency  Agency Type  Distribution Channel  Product Name  Claim  Duration  \\\n",
      "0     9.0          0.0                   1.0          24.0    0.0      14.0   \n",
      "1     7.0          1.0                   1.0          10.0    0.0      52.0   \n",
      "2     7.0          1.0                   1.0          10.0    0.0     253.0   \n",
      "3     7.0          1.0                   1.0          10.0    0.0       8.0   \n",
      "4     9.0          0.0                   1.0          24.0    0.0       7.0   \n",
      "\n",
      "   Destination  Net Sales  Commission (in value)  Gender   Age  \n",
      "0        121.0      602.0                  486.0     1.0  37.0  \n",
      "1         61.0      470.0                    0.0     2.0  34.0  \n",
      "2         16.0      735.0                    0.0     2.0  34.0  \n",
      "3         54.0      121.0                    0.0     2.0  34.0  \n",
      "4         24.0      602.0                  486.0     1.0  32.0  \n"
     ]
    }
   ],
   "source": [
    "print(data_ordinal.head(5))"
   ]
  },
  {
   "cell_type": "markdown",
   "id": "f13ff03d",
   "metadata": {},
   "source": [
    "\n",
    "Обучите решающее дерево на преобразованных данных. Напечатайте на экране текст  \"Обучено!\"  (уже в прекоде). Так вы убедитесь, что код выполнился без ошибок"
   ]
  },
  {
   "cell_type": "code",
   "execution_count": 22,
   "id": "9072d251",
   "metadata": {},
   "outputs": [],
   "source": [
    "features = data_ordinal.drop('Claim',axis=1)\n",
    "target = data_ordinal['Claim']"
   ]
  },
  {
   "cell_type": "code",
   "execution_count": 23,
   "id": "5e4ea614",
   "metadata": {},
   "outputs": [],
   "source": [
    "features_train, features_valid, target_train, target_valid = train_test_split(features,target,test_size=0.25,random_state=12345)"
   ]
  },
  {
   "cell_type": "code",
   "execution_count": 24,
   "id": "5b7b29ab",
   "metadata": {},
   "outputs": [],
   "source": [
    "model = DecisionTreeClassifier(random_state=12345)"
   ]
  },
  {
   "cell_type": "code",
   "execution_count": 25,
   "id": "c3c421b0",
   "metadata": {},
   "outputs": [
    {
     "data": {
      "text/plain": [
       "DecisionTreeClassifier(random_state=12345)"
      ]
     },
     "execution_count": 25,
     "metadata": {},
     "output_type": "execute_result"
    }
   ],
   "source": [
    "model.fit(features_train,target_train)"
   ]
  },
  {
   "cell_type": "code",
   "execution_count": 26,
   "id": "d275cb32",
   "metadata": {},
   "outputs": [
    {
     "name": "stdout",
     "output_type": "stream",
     "text": [
      "Обучено!\n"
     ]
    }
   ],
   "source": [
    "print('Обучено!')"
   ]
  },
  {
   "cell_type": "markdown",
   "id": "4ca99af1",
   "metadata": {},
   "source": [
    "### Подведём итог:\n",
    "\n",
    "Когда все признаки должны стать количественными-подходит техника OHE;\n",
    "\n",
    "Если все признаки категориальные, и их нужно преобразовать в числа — Ordinal Encoding."
   ]
  },
  {
   "cell_type": "markdown",
   "id": "1b35997d",
   "metadata": {},
   "source": [
    "Почему Ordinal Encoding не подходит для логистической регрессии? Она всё норовит посчитать по формуле. Если речь идёт о признаке Age, то это разумно, а вот с Gender есть трудности. Например, сложив значения «1» и «0» («женщина» и «мужчина») и разделив на «2», «средний пол» не получить."
   ]
  },
  {
   "cell_type": "markdown",
   "id": "ebb9ca15",
   "metadata": {},
   "source": [
    "### Масштабирование признаков\n",
    "\n",
    "Что делать, если у признаков разный масштаб? Стандартизировать их!\n",
    "В данных есть столбцы: Age и Commission. Допустим, возможен возраст от 0 до 100 лет, а страховая комиссия — от 100 долларов до 1000. Значения и их разбросы в столбце Commission больше, поэтому алгоритм автоматически решит, что этот признак важнее возраста. А это не так: все признаки значимы.\n",
    "Чтобы избежать этой ловушки, признаки масштабируют — приводят к одному масштабу.\n",
    "Один из методов масштабирования — стандартизация данных. \n",
    "Предположим, что все признаки распределены нормально, среднее (англ. mean, M) и дисперсия (лат. dispersio, D) определяются по выборке. Значения признака преобразуются по формуле:\n",
    "Новое значение = Старое значение - М, поделённое на квадратный корень из D.\n",
    "У нового признака устанавливается среднее, равное 0, и дисперсия, равная 1.\n",
    "В sklearn есть отдельная структура для стандартизации данных — StandardScaler (от англ. «преобразователь масштаба методом стандартизации»). Он находится в модуле sklearn.preprocessing. "
   ]
  },
  {
   "cell_type": "markdown",
   "id": "7b556b61",
   "metadata": {},
   "source": [
    "Стандартизируйте численные признаки. Импортируйте StandardScaler из модуля sklearn.preprocessing.\n",
    "Создайте объект структуры StandardScaler() и настройте его на обучающих данных. В переменной numeric уже есть список всех численных признаков.\n",
    "Сохраните преобразованные обучающую и валидационную выборки в переменных: features_train и features_valid. \n",
    "Напечатайте на экране первые пять строк таблицы."
   ]
  },
  {
   "cell_type": "markdown",
   "id": "62bf2790",
   "metadata": {},
   "source": [
    "При записи изменённых признаков в исходный датафрейм код может вызывать предупреждение SettingWithCopy. Причина в особенности поведения sklearn и pandas.  Специалисты уже привыкли игнорировать такое сообщение."
   ]
  },
  {
   "cell_type": "code",
   "execution_count": 27,
   "id": "3697e107",
   "metadata": {},
   "outputs": [
    {
     "ename": "NameError",
     "evalue": "name 'numeric' is not defined",
     "output_type": "error",
     "traceback": [
      "\u001b[1;31m---------------------------------------------------------------------------\u001b[0m",
      "\u001b[1;31mNameError\u001b[0m                                 Traceback (most recent call last)",
      "\u001b[1;32m~\\AppData\\Local\\Temp\\ipykernel_832\\1326208561.py\u001b[0m in \u001b[0;36m<module>\u001b[1;34m\u001b[0m\n\u001b[0;32m      2\u001b[0m \u001b[0mpd\u001b[0m\u001b[1;33m.\u001b[0m\u001b[0moptions\u001b[0m\u001b[1;33m.\u001b[0m\u001b[0mmode\u001b[0m\u001b[1;33m.\u001b[0m\u001b[0mchained_assignment\u001b[0m \u001b[1;33m=\u001b[0m \u001b[1;32mNone\u001b[0m\u001b[1;33m\u001b[0m\u001b[1;33m\u001b[0m\u001b[0m\n\u001b[0;32m      3\u001b[0m \u001b[0mscaller\u001b[0m \u001b[1;33m=\u001b[0m \u001b[0mStandardScaler\u001b[0m\u001b[1;33m(\u001b[0m\u001b[1;33m)\u001b[0m\u001b[1;33m\u001b[0m\u001b[1;33m\u001b[0m\u001b[0m\n\u001b[1;32m----> 4\u001b[1;33m \u001b[0mscaller\u001b[0m\u001b[1;33m.\u001b[0m\u001b[0mfit\u001b[0m\u001b[1;33m(\u001b[0m\u001b[0mfeatures_train\u001b[0m\u001b[1;33m[\u001b[0m\u001b[0mnumeric\u001b[0m\u001b[1;33m]\u001b[0m\u001b[1;33m)\u001b[0m\u001b[1;33m\u001b[0m\u001b[1;33m\u001b[0m\u001b[0m\n\u001b[0m",
      "\u001b[1;31mNameError\u001b[0m: name 'numeric' is not defined"
     ]
    }
   ],
   "source": [
    "#Чтобы предупреждение не появлялось, в код добавляют строчку:\n",
    "pd.options.mode.chained_assignment = None\n",
    "scaller = StandardScaler()\n",
    "scaller.fit(features_train[numeric])"
   ]
  },
  {
   "cell_type": "code",
   "execution_count": 28,
   "id": "7b2a36cb",
   "metadata": {},
   "outputs": [],
   "source": [
    "numeric = ['Duration', 'Net Sales', 'Commission (in value)', 'Age']"
   ]
  },
  {
   "cell_type": "code",
   "execution_count": null,
   "id": "88bcf305",
   "metadata": {},
   "outputs": [],
   "source": []
  },
  {
   "cell_type": "code",
   "execution_count": 29,
   "id": "84e372aa",
   "metadata": {},
   "outputs": [
    {
     "ename": "NotFittedError",
     "evalue": "This StandardScaler instance is not fitted yet. Call 'fit' with appropriate arguments before using this estimator.",
     "output_type": "error",
     "traceback": [
      "\u001b[1;31m---------------------------------------------------------------------------\u001b[0m",
      "\u001b[1;31mNotFittedError\u001b[0m                            Traceback (most recent call last)",
      "\u001b[1;32m~\\AppData\\Local\\Temp\\ipykernel_832\\274941640.py\u001b[0m in \u001b[0;36m<module>\u001b[1;34m\u001b[0m\n\u001b[1;32m----> 1\u001b[1;33m \u001b[0mfeatures_train\u001b[0m\u001b[1;33m[\u001b[0m\u001b[0mnumeric\u001b[0m\u001b[1;33m]\u001b[0m \u001b[1;33m=\u001b[0m \u001b[0mscaller\u001b[0m\u001b[1;33m.\u001b[0m\u001b[0mtransform\u001b[0m\u001b[1;33m(\u001b[0m\u001b[0mfeatures_train\u001b[0m\u001b[1;33m[\u001b[0m\u001b[0mnumeric\u001b[0m\u001b[1;33m]\u001b[0m\u001b[1;33m)\u001b[0m\u001b[1;33m\u001b[0m\u001b[1;33m\u001b[0m\u001b[0m\n\u001b[0m\u001b[0;32m      2\u001b[0m \u001b[0mfeatures_valid\u001b[0m\u001b[1;33m[\u001b[0m\u001b[0mnumeric\u001b[0m\u001b[1;33m]\u001b[0m \u001b[1;33m=\u001b[0m \u001b[0mscaller\u001b[0m\u001b[1;33m.\u001b[0m\u001b[0mtransform\u001b[0m\u001b[1;33m(\u001b[0m\u001b[0mfeatures_valid\u001b[0m\u001b[1;33m[\u001b[0m\u001b[0mnumeric\u001b[0m\u001b[1;33m]\u001b[0m\u001b[1;33m)\u001b[0m\u001b[1;33m\u001b[0m\u001b[1;33m\u001b[0m\u001b[0m\n",
      "\u001b[1;32m~\\anaconda3\\envs\\ML_STEPIC\\lib\\site-packages\\sklearn\\preprocessing\\_data.py\u001b[0m in \u001b[0;36mtransform\u001b[1;34m(self, X, copy)\u001b[0m\n\u001b[0;32m    786\u001b[0m             \u001b[0mCopy\u001b[0m \u001b[0mthe\u001b[0m \u001b[0minput\u001b[0m \u001b[0mX\u001b[0m \u001b[1;32mor\u001b[0m \u001b[1;32mnot\u001b[0m\u001b[1;33m.\u001b[0m\u001b[1;33m\u001b[0m\u001b[1;33m\u001b[0m\u001b[0m\n\u001b[0;32m    787\u001b[0m         \"\"\"\n\u001b[1;32m--> 788\u001b[1;33m         \u001b[0mcheck_is_fitted\u001b[0m\u001b[1;33m(\u001b[0m\u001b[0mself\u001b[0m\u001b[1;33m)\u001b[0m\u001b[1;33m\u001b[0m\u001b[1;33m\u001b[0m\u001b[0m\n\u001b[0m\u001b[0;32m    789\u001b[0m \u001b[1;33m\u001b[0m\u001b[0m\n\u001b[0;32m    790\u001b[0m         \u001b[0mcopy\u001b[0m \u001b[1;33m=\u001b[0m \u001b[0mcopy\u001b[0m \u001b[1;32mif\u001b[0m \u001b[0mcopy\u001b[0m \u001b[1;32mis\u001b[0m \u001b[1;32mnot\u001b[0m \u001b[1;32mNone\u001b[0m \u001b[1;32melse\u001b[0m \u001b[0mself\u001b[0m\u001b[1;33m.\u001b[0m\u001b[0mcopy\u001b[0m\u001b[1;33m\u001b[0m\u001b[1;33m\u001b[0m\u001b[0m\n",
      "\u001b[1;32m~\\anaconda3\\envs\\ML_STEPIC\\lib\\site-packages\\sklearn\\utils\\validation.py\u001b[0m in \u001b[0;36minner_f\u001b[1;34m(*args, **kwargs)\u001b[0m\n\u001b[0;32m     70\u001b[0m                           FutureWarning)\n\u001b[0;32m     71\u001b[0m         \u001b[0mkwargs\u001b[0m\u001b[1;33m.\u001b[0m\u001b[0mupdate\u001b[0m\u001b[1;33m(\u001b[0m\u001b[1;33m{\u001b[0m\u001b[0mk\u001b[0m\u001b[1;33m:\u001b[0m \u001b[0marg\u001b[0m \u001b[1;32mfor\u001b[0m \u001b[0mk\u001b[0m\u001b[1;33m,\u001b[0m \u001b[0marg\u001b[0m \u001b[1;32min\u001b[0m \u001b[0mzip\u001b[0m\u001b[1;33m(\u001b[0m\u001b[0msig\u001b[0m\u001b[1;33m.\u001b[0m\u001b[0mparameters\u001b[0m\u001b[1;33m,\u001b[0m \u001b[0margs\u001b[0m\u001b[1;33m)\u001b[0m\u001b[1;33m}\u001b[0m\u001b[1;33m)\u001b[0m\u001b[1;33m\u001b[0m\u001b[1;33m\u001b[0m\u001b[0m\n\u001b[1;32m---> 72\u001b[1;33m         \u001b[1;32mreturn\u001b[0m \u001b[0mf\u001b[0m\u001b[1;33m(\u001b[0m\u001b[1;33m**\u001b[0m\u001b[0mkwargs\u001b[0m\u001b[1;33m)\u001b[0m\u001b[1;33m\u001b[0m\u001b[1;33m\u001b[0m\u001b[0m\n\u001b[0m\u001b[0;32m     73\u001b[0m     \u001b[1;32mreturn\u001b[0m \u001b[0minner_f\u001b[0m\u001b[1;33m\u001b[0m\u001b[1;33m\u001b[0m\u001b[0m\n\u001b[0;32m     74\u001b[0m \u001b[1;33m\u001b[0m\u001b[0m\n",
      "\u001b[1;32m~\\anaconda3\\envs\\ML_STEPIC\\lib\\site-packages\\sklearn\\utils\\validation.py\u001b[0m in \u001b[0;36mcheck_is_fitted\u001b[1;34m(estimator, attributes, msg, all_or_any)\u001b[0m\n\u001b[0;32m   1017\u001b[0m \u001b[1;33m\u001b[0m\u001b[0m\n\u001b[0;32m   1018\u001b[0m     \u001b[1;32mif\u001b[0m \u001b[1;32mnot\u001b[0m \u001b[0mattrs\u001b[0m\u001b[1;33m:\u001b[0m\u001b[1;33m\u001b[0m\u001b[1;33m\u001b[0m\u001b[0m\n\u001b[1;32m-> 1019\u001b[1;33m         \u001b[1;32mraise\u001b[0m \u001b[0mNotFittedError\u001b[0m\u001b[1;33m(\u001b[0m\u001b[0mmsg\u001b[0m \u001b[1;33m%\u001b[0m \u001b[1;33m{\u001b[0m\u001b[1;34m'name'\u001b[0m\u001b[1;33m:\u001b[0m \u001b[0mtype\u001b[0m\u001b[1;33m(\u001b[0m\u001b[0mestimator\u001b[0m\u001b[1;33m)\u001b[0m\u001b[1;33m.\u001b[0m\u001b[0m__name__\u001b[0m\u001b[1;33m}\u001b[0m\u001b[1;33m)\u001b[0m\u001b[1;33m\u001b[0m\u001b[1;33m\u001b[0m\u001b[0m\n\u001b[0m\u001b[0;32m   1020\u001b[0m \u001b[1;33m\u001b[0m\u001b[0m\n\u001b[0;32m   1021\u001b[0m \u001b[1;33m\u001b[0m\u001b[0m\n",
      "\u001b[1;31mNotFittedError\u001b[0m: This StandardScaler instance is not fitted yet. Call 'fit' with appropriate arguments before using this estimator."
     ]
    }
   ],
   "source": [
    "features_train[numeric] = scaller.transform(features_train[numeric])\n",
    "features_valid[numeric] = scaller.transform(features_valid[numeric])"
   ]
  },
  {
   "cell_type": "code",
   "execution_count": 30,
   "id": "e2f4ede1",
   "metadata": {},
   "outputs": [
    {
     "name": "stdout",
     "output_type": "stream",
     "text": [
      "       Agency  Agency Type  Distribution Channel  Product Name  Duration  \\\n",
      "33312     7.0          1.0                   1.0          10.0      79.0   \n",
      "50154     7.0          1.0                   1.0          10.0      22.0   \n",
      "26729     7.0          1.0                   1.0          10.0      15.0   \n",
      "37842     7.0          1.0                   1.0           1.0      44.0   \n",
      "23588     7.0          1.0                   1.0           1.0      10.0   \n",
      "\n",
      "       Destination  Net Sales  Commission (in value)  Gender   Age  \n",
      "33312         24.0      414.0                    0.0     2.0  34.0  \n",
      "50154        113.0      398.0                    0.0     2.0  34.0  \n",
      "26729         76.0      343.0                    0.0     2.0  28.0  \n",
      "37842        124.0      597.0                    0.0     2.0  33.0  \n",
      "23588         76.0      457.0                    0.0     2.0  32.0  \n"
     ]
    }
   ],
   "source": [
    "print(features_train.head(5))"
   ]
  },
  {
   "cell_type": "markdown",
   "id": "b176057a",
   "metadata": {},
   "source": [
    "## Метрики классификации\n",
    "<a id='metrica'></a>"
   ]
  },
  {
   "cell_type": "code",
   "execution_count": 31,
   "id": "53ac59b0",
   "metadata": {},
   "outputs": [],
   "source": [
    "datam = pd.read_csv('travel_insurance_preprocessed.csv')"
   ]
  },
  {
   "cell_type": "markdown",
   "id": "ff8b4808",
   "metadata": {},
   "source": [
    "Обучите модель решающего дерева.\n",
    "\n",
    "Посчитайте значение accuracy на валидационной выборке.\n",
    "\n",
    "Сохраните результат в переменной accuracy_valid.\n",
    "\n",
    "Напечатайте его на экране."
   ]
  },
  {
   "cell_type": "code",
   "execution_count": 32,
   "id": "e2e063a7",
   "metadata": {},
   "outputs": [],
   "source": [
    "features = datam.drop('Claim',axis=1)\n",
    "target = datam['Claim']"
   ]
  },
  {
   "cell_type": "code",
   "execution_count": 33,
   "id": "7726c871",
   "metadata": {},
   "outputs": [],
   "source": [
    "features_train, features_valid, target_train, target_valid = train_test_split(features,target,test_size=0.25,random_state=12345)"
   ]
  },
  {
   "cell_type": "code",
   "execution_count": 34,
   "id": "c13f8bfa",
   "metadata": {},
   "outputs": [
    {
     "data": {
      "text/plain": [
       "DecisionTreeClassifier(random_state=12345)"
      ]
     },
     "execution_count": 34,
     "metadata": {},
     "output_type": "execute_result"
    }
   ],
   "source": [
    "model = DecisionTreeClassifier(random_state=12345)\n",
    "model.fit(features_train,target_train)"
   ]
  },
  {
   "cell_type": "code",
   "execution_count": 35,
   "id": "2ff511e0",
   "metadata": {},
   "outputs": [],
   "source": [
    "predict_valid = model.predict(features_valid)"
   ]
  },
  {
   "cell_type": "code",
   "execution_count": 36,
   "id": "7f7ac399",
   "metadata": {},
   "outputs": [],
   "source": [
    "accuracy_valid = accuracy_score(target_valid,predict_valid)"
   ]
  },
  {
   "cell_type": "code",
   "execution_count": 37,
   "id": "d147f979",
   "metadata": {},
   "outputs": [
    {
     "name": "stdout",
     "output_type": "stream",
     "text": [
      "0.974496644295302\n"
     ]
    }
   ],
   "source": [
    "print(accuracy_valid)"
   ]
  },
  {
   "cell_type": "markdown",
   "id": "52ce495d",
   "metadata": {},
   "source": [
    "## Проверка адекватности модели\n",
    "\n",
    "Доля правильных ответов — 97%. Это много или мало?\n",
    "\n",
    "Исследуем целевой признак.\n",
    "Чтобы оценить адекватность модели, проверим, как часто в целевом признаке встречается класс «1» или «0».\n",
    "\n",
    "Количество уникальных значений подсчитывается методом value_counts().\n",
    "\n",
    "Он группирует строго одинаковые величины."
   ]
  },
  {
   "cell_type": "markdown",
   "id": "58de8555",
   "metadata": {},
   "source": [
    "\n",
    "Для подсчёта классов в целевом признаке примените метод value_counts(). Сделайте частоты относительными (от 0 до 1): в этом поможет документация Pandas.\n",
    "Значения сохраните в переменной class_frequency. Напечатайте их на экране. \n",
    "Методом plot() c аргументом kind='bar' постройте диаграмму."
   ]
  },
  {
   "cell_type": "code",
   "execution_count": 38,
   "id": "8f8d73b8",
   "metadata": {},
   "outputs": [],
   "source": [
    "class_frequency = data['Claim'].value_counts(normalize = True)"
   ]
  },
  {
   "cell_type": "code",
   "execution_count": 39,
   "id": "65ef8682",
   "metadata": {},
   "outputs": [
    {
     "name": "stdout",
     "output_type": "stream",
     "text": [
      "0    0.985136\n",
      "1    0.014864\n",
      "Name: Claim, dtype: float64\n"
     ]
    }
   ],
   "source": [
    "print(class_frequency)"
   ]
  },
  {
   "cell_type": "code",
   "execution_count": 40,
   "id": "b39c2cc4",
   "metadata": {},
   "outputs": [
    {
     "data": {
      "text/plain": [
       "<AxesSubplot:>"
      ]
     },
     "execution_count": 40,
     "metadata": {},
     "output_type": "execute_result"
    },
    {
     "data": {
      "image/png": "[encoded data removed]",
      "text/plain": [
       "<Figure size 640x480 with 1 Axes>"
      ]
     },
     "metadata": {},
     "output_type": "display_data"
    }
   ],
   "source": [
    "class_frequency.plot(kind='bar')"
   ]
  },
  {
   "cell_type": "markdown",
   "id": "54e920c5",
   "metadata": {},
   "source": [
    "Проанализируйте частоты классов в результатах предсказаний решающего дерева (переменная predicted_valid). \n",
    "\n",
    "Всё то же самое:\n",
    "\n",
    "Примените метод value_counts(). Сделайте частоты относительными.\n",
    "\n",
    "Значения сохраните в переменной class_frequency. Напечатайте их на экране.\n",
    "\n",
    "Методом plot() c аргументом kind='bar' постройте диаграмму."
   ]
  },
  {
   "cell_type": "code",
   "execution_count": 41,
   "id": "47da0fc5",
   "metadata": {},
   "outputs": [],
   "source": [
    "# чтобы работала функция value_counts(),\n",
    "# мы преобразовали результат к pd.Series \n",
    "predict_valid = pd.Series(model.predict(features_valid))"
   ]
  },
  {
   "cell_type": "code",
   "execution_count": 42,
   "id": "1b11df09",
   "metadata": {},
   "outputs": [
    {
     "name": "stdout",
     "output_type": "stream",
     "text": [
      "0    0.985946\n",
      "1    0.014054\n",
      "dtype: float64\n"
     ]
    },
    {
     "data": {
      "text/plain": [
       "<AxesSubplot:>"
      ]
     },
     "execution_count": 42,
     "metadata": {},
     "output_type": "execute_result"
    },
    {
     "data": {
      "image/png": "[encoded data removed]",
      "text/plain": [
       "<Figure size 640x480 with 1 Axes>"
      ]
     },
     "metadata": {},
     "output_type": "display_data"
    }
   ],
   "source": [
    "class_frequency = predict_valid.value_counts(normalize=True)\n",
    "print(class_frequency)\n",
    "class_frequency.plot(kind = 'bar')"
   ]
  },
  {
   "cell_type": "markdown",
   "id": "1756a27c",
   "metadata": {},
   "source": [
    "Cоздайте константную модель: любому объекту она прогнозирует класс «0». Сохраните её предсказания в переменной target_pred_constant. \n",
    "Напечатайте на экране значение accuracy."
   ]
  },
  {
   "cell_type": "code",
   "execution_count": 43,
   "id": "75d7eb43",
   "metadata": {},
   "outputs": [
    {
     "name": "stdout",
     "output_type": "stream",
     "text": [
      "0.9851362021318595\n"
     ]
    }
   ],
   "source": [
    "target_pred_constant = pd.Series(0, index=target.index)\n",
    "print(accuracy_score(target, target_pred_constant))  "
   ]
  },
  {
   "cell_type": "markdown",
   "id": "6dc8d5a0",
   "metadata": {},
   "source": [
    "Вы уже знаете, что класс с меткой «1» называется положительным, с меткой «0» — отрицательным.\n",
    "Если сравнить эти ответы с предсказаниями, получается такое деление:\n",
    "истинно положительные (англ. True Positive, TP) и истинно отрицательные ответы (англ. True Negative, TN);\n",
    "ложноположительные (англ. False Positive, FP) и ложноотрицательные ответы (англ. False Negative, FN).\n",
    "Резюмируем. Характеристики «положительный» и «отрицательный» относятся к предсказанию, а «истинный» и «ложный» — к его правильности."
   ]
  },
  {
   "cell_type": "markdown",
   "id": "85555642",
   "metadata": {},
   "source": [
    "Истинно положительные ответы\n",
    "Справиться с дисбалансом и более точно классифицировать ответы помогут новые метрики.\n",
    "Что значит истинно положительный ответ (TP)? Модель пометила объект единицей, и его настоящее значение тоже — 1.\n",
    "В нашей задаче истинно положительный ответ — это количество застрахованных, которые:\n",
    "по прогнозу модели обратились за компенсацией;\n",
    "фактически запросили страховую выплату."
   ]
  },
  {
   "cell_type": "code",
   "execution_count": 44,
   "id": "3229c166",
   "metadata": {},
   "outputs": [],
   "source": [
    "#пример предсказаний и правильных ответов.\n",
    "#Посчитайте количество TP-ответов и напечатайте результат на экране.\n",
    "target = pd.Series([1, 0, 0, 1, 1, 0, 1, 0, 1, 1, 0, 0, 0, 1])\n",
    "predictions = pd.Series([1, 1, 0, 0, 1, 1, 1, 0, 0, 1, 0, 1, 0, 1])"
   ]
  },
  {
   "cell_type": "code",
   "execution_count": 45,
   "id": "32ad6807",
   "metadata": {},
   "outputs": [
    {
     "name": "stdout",
     "output_type": "stream",
     "text": [
      "5\n"
     ]
    }
   ],
   "source": [
    "print(len([i for i in range(len(target)) if target[i]==1 and predictions[i]==1]))"
   ]
  },
  {
   "cell_type": "markdown",
   "id": "219c1eef",
   "metadata": {},
   "source": [
    "Истинно отрицательные ответы\n",
    "Если предсказанное и фактическое значение класса отрицательные, ответ истинно отрицательный.\n",
    "В нашей задаче истинно отрицательный ответ (TN) — это количество застрахованных, которые:\n",
    "по прогнозу модели не запросили выплату;\n",
    "фактически не обратились за компенсацией по страховке."
   ]
  },
  {
   "cell_type": "code",
   "execution_count": 46,
   "id": "2577dba8",
   "metadata": {},
   "outputs": [
    {
     "name": "stdout",
     "output_type": "stream",
     "text": [
      "4\n"
     ]
    }
   ],
   "source": [
    "#Посчитайте количество TN-ответов.\n",
    "#Напечатайте результат на экране.\n",
    "print(len([i for i in range(len(target)) if target[i]==0 and predictions[i]==0]))"
   ]
  },
  {
   "cell_type": "markdown",
   "id": "f0f924ad",
   "metadata": {},
   "source": [
    "### Ложноположительные ответы\n",
    "\n",
    "Алгоритмы имеют право на ошибки. Только двух видов.\n",
    "Ошибка первого рода — это ложноположительные ответы (FP). Они возникают, когда модель предсказала «1», а вот действительное значение класса — «0».\n",
    "\n",
    "В нашей задаче ложноположительный ответ — это количество застрахованных, которые:\n",
    "\n",
    "по прогнозу модели запросили выплату;\n",
    "\n",
    "фактически не обратились за компенсацией."
   ]
  },
  {
   "cell_type": "code",
   "execution_count": 47,
   "id": "6feeb103",
   "metadata": {},
   "outputs": [
    {
     "name": "stdout",
     "output_type": "stream",
     "text": [
      "3\n"
     ]
    }
   ],
   "source": [
    "print(len([i for i in range(len(target)) if target[i]==0 and predictions[i]==1]))"
   ]
  },
  {
   "cell_type": "markdown",
   "id": "10c0d30d",
   "metadata": {},
   "source": [
    "### Ложноотрицательные ответы\n",
    "\n",
    "Ошибка второго рода — ложноотрицательные ответы (FN).\n",
    "Ложноотрицательные ответы появляются, когда модель предсказала «0», а действительное значение класса — «1».\n",
    "\n",
    "В нашей задаче ложноотрицательный ответ — это количество застрахованных, которые:\n",
    "\n",
    "по прогнозу модели не запросили выплату;\n",
    "\n",
    "фактически обратились за компенсацией."
   ]
  },
  {
   "cell_type": "code",
   "execution_count": 48,
   "id": "d6462d42",
   "metadata": {},
   "outputs": [
    {
     "name": "stdout",
     "output_type": "stream",
     "text": [
      "2\n"
     ]
    }
   ],
   "source": [
    "print(len([i for i in range(len(target)) if target[i]==1 and predictions[i]==0]))"
   ]
  },
  {
   "cell_type": "markdown",
   "id": "fb6cf210",
   "metadata": {},
   "source": [
    "Матрица ошибок\n",
    "TP, FP, TN, FN собираются в одну таблицу — матрицу ошибок, или матрицу неточностей (англ. сonfusion matrix).\n",
    "Матрица формируется так:\n",
    "по горизонтали («Предсказания») располагаются метки алгоритма от 0 до 1;\n",
    "по вертикали («Ответы») — истинные метки класса от 0 до 1.\n",
    "Что получаем:\n",
    "По главной диагонали (от верхнего левого угла) выстроены правильные прогнозы:\n",
    "TN в левом верхнем углу;\n",
    "TP в правом нижнем углу.\n",
    "Вне главной диагонали — ошибочные варианты:\n",
    "FP в правом верхнем углу;\n",
    "FN в левом нижнем углу.\n",
    "\n",
    "   0    _______  TrueNegative     _____FalsePositive\n",
    "   \n",
    "   1    _______   FalseNegative   ______ TruePositive\n",
    "   \n",
    "             0               1\n",
    "             \n",
    "Наглядно представить результаты вычислений метрик точности и полноты позволяет матрица ошибок.\n",
    "\n",
    "Матрица неточностей находится в знакомом модуле sklearn.metrics. \n",
    "\n",
    "Функция confusion_matrix() принимает на вход верные ответы и предсказания, а возвращает матрицу ошибок."
   ]
  },
  {
   "cell_type": "code",
   "execution_count": 49,
   "id": "f54ab40d",
   "metadata": {},
   "outputs": [
    {
     "name": "stdout",
     "output_type": "stream",
     "text": [
      "[[4 3]\n",
      " [2 5]]\n"
     ]
    }
   ],
   "source": [
    "# Рассчитайте матрицу ошибок функцией confusion_matrix(). \n",
    "# Импортируйте её из модуля sklearn.metrics.\n",
    "# Напечатайте результат на экране.\n",
    "print(confusion_matrix(target,predictions))"
   ]
  },
  {
   "cell_type": "markdown",
   "id": "8854b568",
   "metadata": {},
   "source": [
    "Постройте матрицу ошибок для решающего дерева.\n",
    "\n",
    "Как и в прошлом задании, вызовите функцию confusion_matrix(). \n",
    "\n",
    "Напечатайте результат на экране."
   ]
  },
  {
   "cell_type": "code",
   "execution_count": 50,
   "id": "a46f3725",
   "metadata": {},
   "outputs": [],
   "source": [
    "data = pd.read_csv('travel_insurance_preprocessed.csv')"
   ]
  },
  {
   "cell_type": "code",
   "execution_count": 51,
   "id": "fb9f073d",
   "metadata": {},
   "outputs": [],
   "source": [
    "features = data.drop('Claim',axis=1)\n",
    "target = data['Claim']"
   ]
  },
  {
   "cell_type": "code",
   "execution_count": 52,
   "id": "1a4fef2a",
   "metadata": {},
   "outputs": [],
   "source": [
    "ftrs_tr,ftrs_valid,trgt_tr,trgt_valid = train_test_split(features,target,test_size=0.25,random_state=12345)"
   ]
  },
  {
   "cell_type": "code",
   "execution_count": 53,
   "id": "865672ba",
   "metadata": {},
   "outputs": [
    {
     "data": {
      "text/plain": [
       "DecisionTreeClassifier(random_state=12345)"
      ]
     },
     "execution_count": 53,
     "metadata": {},
     "output_type": "execute_result"
    }
   ],
   "source": [
    "model = DecisionTreeClassifier(random_state=12345)\n",
    "model.fit(ftrs_tr,trgt_tr)"
   ]
  },
  {
   "cell_type": "code",
   "execution_count": 54,
   "id": "ef5e5191",
   "metadata": {},
   "outputs": [],
   "source": [
    "predicted_valid = model.predict(ftrs_valid)"
   ]
  },
  {
   "cell_type": "code",
   "execution_count": 55,
   "id": "c2eba527",
   "metadata": {},
   "outputs": [
    {
     "name": "stdout",
     "output_type": "stream",
     "text": [
      "[[12330   166]\n",
      " [  157    12]]\n"
     ]
    }
   ],
   "source": [
    "print( confusion_matrix(trgt_valid,predicted_valid))"
   ]
  },
  {
   "cell_type": "markdown",
   "id": "95533072",
   "metadata": {},
   "source": [
    "### Полнота\n",
    "Матрица ошибок поможет построить новые метрики. Начнём с полноты (англ. recall).\n",
    "\n",
    "Полнота выявляет, какую долю положительных среди всех ответов выделила модель. Обычно они на вес золота, и важно понимать, как хорошо модель их находит. \n",
    "Recall рассчитывается по такой формуле:\n",
    "\n",
    "### Recall = TP / (TP + FN)\n",
    "\n",
    "Разберём на примере нашей задачи:\n",
    "за компенсацией обратились 100 застрахованных. Это количество всех положительных объектов, или TP + FN;\n",
    "\n",
    "модель определила из них правильно только 20;\n",
    "\n",
    "recall равна 0.2.\n",
    "Полнота — это доля TP-ответов среди всех, у которых истинная метка 1.\n",
    "\n",
    "Хорошо, когда значение recall близко к единице: модель хорошо ищет положительные объекты. \n",
    "\n",
    "Если ближе к нулю — модель надо перепроверить и починить."
   ]
  },
  {
   "cell_type": "markdown",
   "id": "b27da6a1",
   "metadata": {},
   "source": [
    "\n",
    "\n",
    "Найдите в модуле sklearn.metrics функцию, которая отвечает за вычисление полноты.\n",
    "\n",
    "Импортируйте её. \n",
    "\n",
    "Функция принимает на вход верные ответы и предсказания, а возвращает долю правильных ответов, найденных моделью. Напечатайте результат на экране."
   ]
  },
  {
   "cell_type": "code",
   "execution_count": 56,
   "id": "caa60947",
   "metadata": {},
   "outputs": [],
   "source": [
    "rec = recall_score(trgt_valid,predicted_valid)"
   ]
  },
  {
   "cell_type": "markdown",
   "id": "a24ac8f7",
   "metadata": {},
   "source": [
    "### Точность\n",
    "\n",
    "Ещё одна метрика для оценки качества прогноза целевого класса — точность (англ. precision).\n",
    "Точность определяет, как много отрицательных ответов нашла модель, пока искала положительные. Чем больше отрицательных, тем ниже точность.\n",
    "Precision рассчитывается по такой формуле:\n",
    "Precision = TP / (TP + FP)\n",
    "Разберём на примере нашей задачи:\n",
    "по прогнозу модели за компенсацией обратится 100 застрахованных. Это количество всех объектов с положительным прогнозом, или TP + FP;\n",
    "20 из них действительно запросили страховую выплату (предсказание совпало с ответом, и ответ положительный — TP).\n",
    "precision равна 0.2.\n",
    "Напомним, TP — это истинно положительные ответы. FP — отмеченные моделью положительные ответы. Нам нужна точность, близкая к единице."
   ]
  },
  {
   "cell_type": "code",
   "execution_count": 57,
   "id": "7e565460",
   "metadata": {},
   "outputs": [],
   "source": [
    "# Найдите в модуле sklearn.metrics функцию, которая отвечает за вычисление точности. Импортируйте её. \n",
    "# Функция принимает на вход верные ответы и предсказания. \n",
    "# Возвращает, какая доля объектов, отмеченных моделью как положительные, на самом деле такие.\n",
    "# Напечатайте результат на экране.\n",
    "precis = precision_score(target_valid, predicted_valid)"
   ]
  },
  {
   "cell_type": "code",
   "execution_count": 58,
   "id": "8c72c7e4",
   "metadata": {},
   "outputs": [],
   "source": [
    "f1 = 2*(rec*precis)/(rec+precis)\n"
   ]
  },
  {
   "cell_type": "code",
   "execution_count": 59,
   "id": "19afeb79",
   "metadata": {},
   "outputs": [
    {
     "data": {
      "text/plain": [
       "0.069164265129683"
      ]
     },
     "execution_count": 59,
     "metadata": {},
     "output_type": "execute_result"
    }
   ],
   "source": [
    "f1"
   ]
  },
  {
   "cell_type": "code",
   "execution_count": 60,
   "id": "bf89a16e",
   "metadata": {},
   "outputs": [],
   "source": [
    "f1 = f1_score(trgt_valid,predicted_valid)"
   ]
  },
  {
   "cell_type": "code",
   "execution_count": 61,
   "id": "991da82b",
   "metadata": {},
   "outputs": [
    {
     "data": {
      "text/plain": [
       "0.069164265129683"
      ]
     },
     "execution_count": 61,
     "metadata": {},
     "output_type": "execute_result"
    }
   ],
   "source": [
    "f1"
   ]
  },
  {
   "cell_type": "markdown",
   "id": "811de67d",
   "metadata": {},
   "source": [
    "### Взвешивание классов\n",
    "\n",
    "Придадим объектам редкого класса больший вес.\n",
    "Например, вы готовитесь к экзаменам и проходите тест. За решение одного вида задач вы получите один балл, другого — два. Чтобы получить более высокую оценку, вы сосредоточились только на «двухбалльных» задачах. Так и модели проще запоминать объекты бóльшей значимости.\n",
    "Алгоритмы машинного обучения считают все объекты обучающей выборки равнозначными по умолчанию. Если важно указать, что какие-то объекты важнее, их классу присваивается вес (англ. class_weight, «вес класса»).\n",
    "В алгоритме логистической регрессии в библиотеке sklearn есть аргумент class_weight. По умолчанию он равен None, т. е. классы равнозначны:\n",
    "вес класса «0» = 1.0\n",
    "вес класса «1» = 1.0\n",
    "\n",
    "\n",
    "Если указать class_weight='balanced' (англ. «сбалансированный»), алгоритм посчитает, во сколько раз класс «0» встречается чаще класса «1». Обозначим это число N (неизвестное количество раз). Новые веса классов выглядят так:\n",
    "вес класса «0» = 1.0\n",
    "вес класса «1» = N\n",
    "Бóльший вес будет у редкого класса.\n",
    "\n",
    "Аргумент class_weight также есть у решающего дерева и случайного леса."
   ]
  },
  {
   "cell_type": "code",
   "execution_count": 62,
   "id": "4fd5ff1c",
   "metadata": {},
   "outputs": [],
   "source": [
    "#делайте веса классов сбалансированными.\n",
    "#Обратите внимание, как изменится значение F1-меры.\n",
    "data = pd.read_csv('travel_insurance_preprocessed.csv')"
   ]
  },
  {
   "cell_type": "code",
   "execution_count": 63,
   "id": "7b610671",
   "metadata": {},
   "outputs": [],
   "source": [
    "features = data.drop('Claim',axis=1)\n",
    "target = data['Claim']"
   ]
  },
  {
   "cell_type": "code",
   "execution_count": 64,
   "id": "5586149a",
   "metadata": {},
   "outputs": [],
   "source": [
    "features_train,features_valid,target_train,target_valid=train_test_split(features,target,test_size=0.25,random_state=12345)"
   ]
  },
  {
   "cell_type": "code",
   "execution_count": 65,
   "id": "c57ca6b8",
   "metadata": {},
   "outputs": [
    {
     "data": {
      "text/plain": [
       "LogisticRegression(class_weight='balanced', random_state=12345,\n",
       "                   solver='liblinear')"
      ]
     },
     "execution_count": 65,
     "metadata": {},
     "output_type": "execute_result"
    }
   ],
   "source": [
    "model = LogisticRegression(random_state=12345, solver='liblinear', class_weight='balanced')\n",
    "model.fit(features_train, target_train)\n"
   ]
  },
  {
   "cell_type": "code",
   "execution_count": 66,
   "id": "acab0404",
   "metadata": {},
   "outputs": [],
   "source": [
    "predict_valid = model.predict(features_valid)"
   ]
  },
  {
   "cell_type": "code",
   "execution_count": 67,
   "id": "6f9e2dc1",
   "metadata": {},
   "outputs": [
    {
     "name": "stdout",
     "output_type": "stream",
     "text": [
      "F1: 0.069164265129683\n"
     ]
    }
   ],
   "source": [
    "print(\"F1:\", f1_score(target_valid, predicted_valid))"
   ]
  },
  {
   "cell_type": "markdown",
   "id": "42c40559",
   "metadata": {},
   "source": [
    "### Увеличение выборки\n",
    "\n",
    "Как сделать объекты редкого класса не такими редкими в данных?\n",
    "Теперь в тесте за решение любой задачи вы получаете 1 балл. Самые важные задачи повторяются по несколько раз, чтобы их легче запомнить. \n",
    "\n",
    "Когда обучают модели, такая техника называется upsampling (от англ. up, «вверх»; sampling, «выборка»).\n",
    "\n",
    "Преобразование проходит в несколько этапов:\n",
    "Разделить обучающую выборку на отрицательные и положительные объекты;\n",
    "Скопировать несколько раз положительные объекты;\n",
    "С учётом полученных данных создать новую обучающую выборку;\n",
    "Перемешать данные: идущие друг за другом одинаковые вопросы не помогут обучению.\n",
    "\n",
    "Скопировать объекты несколько раз поможет синтаксис умножения списков в Python. Чтобы повторить элементы списка, он умножается на число (нужное количество раз):\n",
    "answers = [0, 1, 0]\n",
    "print(answers)\n",
    "answers_x3 = answers * 3\n",
    "print(answers_x3) \n",
    "[0, 1, 0]\n",
    "[0, 1, 0, 0, 1, 0, 0, 1, 0] "
   ]
  },
  {
   "cell_type": "markdown",
   "id": "d5c3266c",
   "metadata": {},
   "source": [
    ".\n",
    "Мы разделили обучающую выборку на отрицательные и положительные объекты. \n",
    "Объявите четыре переменные и запишите в них:\n",
    "\n",
    "features_zeros — признаки объектов с ответом «0»;\n",
    "\n",
    "features_ones — признаки объектов с ответом «1»;\n",
    "\n",
    "target_zeros — целевой признак объектов, у которых ответы только «0»;\n",
    "\n",
    "target_ones — целевой признак объектов, у которых ответы только «1».\n",
    "Напечатайте на экране размеры таблиц, которые хранятся в четырёх переменных (уже в прекоде)."
   ]
  },
  {
   "cell_type": "code",
   "execution_count": 68,
   "id": "86f2442d",
   "metadata": {},
   "outputs": [],
   "source": [
    "target = data['Claim']\n",
    "features = data.drop('Claim', axis=1)\n",
    "features_train, features_valid, target_train, target_valid = train_test_split(\n",
    "    features, target, test_size=0.25, random_state=12345)\n",
    "\n",
    "# < напишите код здесь >\n",
    "features_zeros = features_train[target_train == 0]\n",
    "features_ones = features_train[target_train == 1]\n",
    "target_zeros = target_train[target_train == 0]\n",
    "target_ones = target_train[target_train == 1]"
   ]
  },
  {
   "cell_type": "code",
   "execution_count": 69,
   "id": "59f5e5a2",
   "metadata": {},
   "outputs": [
    {
     "name": "stdout",
     "output_type": "stream",
     "text": [
      "(37411, 196) \n",
      " (584, 196)\n",
      "(37411,) \n",
      " (584,)\n"
     ]
    }
   ],
   "source": [
    "print( features_zeros.shape,'\\n',features_ones.shape)\n",
    "print( target_zeros.shape,'\\n',target_ones.shape)"
   ]
  },
  {
   "cell_type": "markdown",
   "id": "25564541",
   "metadata": {},
   "source": [
    "Продублируйте объекты положительного класса и объедините их с объектами отрицательного класса. Чтобы соединить таблицы, воспользуйтесь функцией pd.concat() (от англ. concatenate, «сцепить»). Поработайте с документацией.\n",
    "Мы объединили таблицы с признаками и сохранили результат в переменной features_upsampled (признаки, преобразованные техникой upsampling). Сделайте то же самое для целевого признака и объявите переменную target_upsampled (целевой признак, преобразованный техникой upsampling). \n",
    "Количество повторений уже сохранено в переменной repeat (англ. «повторять»).\n",
    "Напечатайте на экране размеры новых переменных (в прекоде)."
   ]
  },
  {
   "cell_type": "code",
   "execution_count": 70,
   "id": "f71fc7e0",
   "metadata": {},
   "outputs": [],
   "source": [
    "repeat = 10\n",
    "features_upsampled = pd.concat([features_zeros] + [features_ones] * repeat) \n",
    "\n",
    "target_upsampled = pd.concat([target_zeros]+[target_ones]*repeat)"
   ]
  },
  {
   "cell_type": "code",
   "execution_count": 71,
   "id": "5fbf00d7",
   "metadata": {},
   "outputs": [
    {
     "name": "stdout",
     "output_type": "stream",
     "text": [
      "(43251, 196) \n",
      " (43251,)\n"
     ]
    }
   ],
   "source": [
    "print(features_upsampled.shape,'\\n',target_upsampled.shape)"
   ]
  },
  {
   "cell_type": "markdown",
   "id": "991c1faf",
   "metadata": {},
   "source": [
    "Перемешайте данные. Импортируйте функцию shuffle() (англ. «перетасовать») из модуля sklearn.utils (от англ. «утилиты»).\n",
    "Создайте функцию upsample() с тремя параметрами:\n",
    "\n",
    "features — признаки,\n",
    "\n",
    "target — целевой признак,\n",
    "\n",
    "repeat — количество повторений.\n",
    "Функция вернёт признаки и целевой признак после операции upsampling.\n",
    "Вызовите функцию для обучающих данных. Если всё будет верно, размеры преобразованных выборок появятся на экране."
   ]
  },
  {
   "cell_type": "code",
   "execution_count": 72,
   "id": "1f59b3ce",
   "metadata": {},
   "outputs": [],
   "source": [
    "def upsample(features, target, repeat):\n",
    "    features_zeros = features[target == 0]\n",
    "    features_ones = features[target == 1]\n",
    "    target_zeros = target_train[target_train == 0]\n",
    "    target_ones = target_train[target_train == 1]\n",
    "    \n",
    "    features_upsampled = pd.concat([features_zeros] + [features_ones] * repeat) \n",
    "    target_upsampled = pd.concat([target_zeros]+[target_ones]*repeat)\n",
    "    \n",
    "    return shuffle(features_upsampled,target_upsampled)"
   ]
  },
  {
   "cell_type": "code",
   "execution_count": 73,
   "id": "a6d110cc",
   "metadata": {},
   "outputs": [],
   "source": [
    "features_upsampled, target_upsampled = upsample(features_train, target_train, 10)"
   ]
  },
  {
   "cell_type": "code",
   "execution_count": 74,
   "id": "a0f93ad2",
   "metadata": {},
   "outputs": [
    {
     "name": "stdout",
     "output_type": "stream",
     "text": [
      "F1: 0.13714285714285715\n"
     ]
    }
   ],
   "source": [
    "model = LogisticRegression(random_state = 12345, solver='liblinear')\n",
    "model.fit(features_upsampled, target_upsampled)\n",
    "predicted_valid =model.predict(features_valid)\n",
    "print(\"F1:\", f1_score(target_valid, predicted_valid))"
   ]
  },
  {
   "cell_type": "markdown",
   "id": "0c05774f",
   "metadata": {},
   "source": [
    "### Уменьшение выборки\n",
    "\n",
    "Как сделать объекты частого класса не такими частыми?\n",
    "Вместо повторения важных вопросов убрать часть неважных.\n",
    "Это можно сделать техникой downsampling (от англ. down — «вниз»; sampling — «выборка»).\n",
    "Преобразование проходит в несколько этапов:\n",
    "Разделить обучающую выборку на отрицательные и положительные объекты;\n",
    "Случайным образом отбросить часть из отрицательных объектов;\n",
    "С учётом полученных данных создать новую обучающую выборку;\n",
    "Перемешать данные. Положительные не должны идти следом за отрицательными: алгоритмам будет сложнее обучаться.\n",
    "\n",
    "Чтобы выбросить из таблицы случайные элементы, примените функцию sample(). На вход она принимает аргумент frac (от англ. fraction, «доля»). Возвращает случайные элементы в таком количестве, чтобы их доля от исходной таблицы была равна frac.\n",
    "\n",
    "print(features_train.shape)\n",
    "\n",
    "features_sample = features_train.sample(frac=0.1, random_state=12345)\n",
    "\n",
    "print(features_sample.shape) \n",
    "(37995, 196)\n",
    "(3800, 196) \n",
    "Чтобы ваши результаты сошлись с нашими, указывайте random_state=12345."
   ]
  },
  {
   "cell_type": "markdown",
   "id": "365d85dc",
   "metadata": {},
   "source": [
    "Чтобы выполнить downsampling, напишите функцию downsample() с тремя аргументами:\n",
    "\n",
    "features — признаки;\n",
    "\n",
    "target — целевой признак;\n",
    "\n",
    "fraction — доля отрицательных объектов, которые нужно сохранить.\n",
    "\n",
    "Функция вернёт признаки и целевой признак после операции downsampling.\n",
    "Вызовите функцию для обучающих данных с аргументом fraction, равным 0.1. Код выведет на экран размеры выборок."
   ]
  },
  {
   "cell_type": "code",
   "execution_count": 75,
   "id": "e02154d3",
   "metadata": {},
   "outputs": [],
   "source": [
    "def downsample(features, target, fraction):\n",
    "    features_zeros = features[target == 0]\n",
    "    features_ones = features[target == 1]\n",
    "    target_zeros = target[target == 0]\n",
    "    target_ones = target[target == 1]\n",
    "\n",
    "    # < напишите код здесь >\n",
    "    features_downsampled = pd.concat([features_zeros.sample(frac=fraction, random_state=12345)] + [features_ones])\n",
    "    target_downsampled = pd.concat([target_zeros.sample(frac=fraction, random_state=12345)] + [target_ones])\n",
    "    features_downsampled, target_downsampled = shuffle(features_downsampled, target_downsampled, random_state=12345)\n",
    "    return features_downsampled, target_downsampled"
   ]
  },
  {
   "cell_type": "code",
   "execution_count": 76,
   "id": "15ce537f",
   "metadata": {},
   "outputs": [],
   "source": [
    "features_downsampled, target_downsampled = downsample(features_train, target_train, 0.1)"
   ]
  },
  {
   "cell_type": "code",
   "execution_count": null,
   "id": "c4e05ac7",
   "metadata": {},
   "outputs": [],
   "source": []
  },
  {
   "cell_type": "code",
   "execution_count": 100,
   "id": "4e48aa11",
   "metadata": {},
   "outputs": [
    {
     "name": "stdout",
     "output_type": "stream",
     "text": [
      "F1: 0.13333333333333333\n"
     ]
    }
   ],
   "source": [
    "#Обучите на новых данных модель LogisticRegression. \n",
    "#Найдите для неё значение F1-меры, и код выведет его на экран.\n",
    "model = LogisticRegression(random_state = 12345, solver='liblinear')\n",
    "model.fit(features_downsampled, target_downsampled)\n",
    "predicted_valid = model.predict(features_valid)\n",
    "score = model.score(features_valid, target_valid)\n",
    "print(\"F1:\", f1_score(target_valid, predicted_valid))"
   ]
  },
  {
   "cell_type": "markdown",
   "id": "83488dd6",
   "metadata": {},
   "source": [
    "### Изменение порога\n",
    "\n",
    "Изменим значение порога и посмотрим, какими станут метрики.\n",
    "В библиотеке sklearn вероятность классов вычисляет функция \n",
    "\n",
    "predict_proba() (от англ. predict probabilities, «предсказать вероятности»).\n",
    "\n",
    "На вход она получает признаки объектов, а возвращает вероятности:\n",
    "probabilities = model.predict_proba(features) \n",
    "Строки соответствуют объектам. В первом столбце указана вероятность отрицательного класса, а во втором — положительного (сумма вероятностей равна единице). Выведем их на экран."
   ]
  },
  {
   "cell_type": "code",
   "execution_count": 101,
   "id": "90188359",
   "metadata": {},
   "outputs": [],
   "source": [
    "probabilities = model.predict_proba(features)"
   ]
  },
  {
   "cell_type": "markdown",
   "id": "da93aaa1",
   "metadata": {},
   "source": [
    "Найдите значения вероятностей классов для валидационной выборки. \n",
    "\n",
    "Значения вероятностей класса «1» сохраните в переменной probabilities_one_valid.\n",
    "\n",
    "Напечатайте на экране первые пять элементов этой переменной (уже в прекоде)."
   ]
  },
  {
   "cell_type": "code",
   "execution_count": 102,
   "id": "c35bfeff",
   "metadata": {},
   "outputs": [],
   "source": [
    "probabilities_one_valid = probabilities[:,1:]"
   ]
  },
  {
   "cell_type": "code",
   "execution_count": 103,
   "id": "c693269a",
   "metadata": {},
   "outputs": [
    {
     "name": "stdout",
     "output_type": "stream",
     "text": [
      "[[0.08614001]\n",
      " [0.01569162]\n",
      " [0.02874363]\n",
      " [0.00794546]\n",
      " [0.08628918]]\n"
     ]
    }
   ],
   "source": [
    "print(probabilities_one_valid[:5])"
   ]
  },
  {
   "cell_type": "markdown",
   "id": "a7e28932",
   "metadata": {},
   "source": [
    "Переберите значения порогов от 0 до 0.3 с шагом 0.02. Найдите для каждого значения точность и полноту. \n",
    "\n",
    "Напечатайте результаты на экране (в прекоде).\n",
    "Чтобы создать цикл с нужным диапазоном, мы применили функцию arange() (от англ. «упорядочивать») библиотеки numpy.\n",
    "\n",
    "Как и range(), функция перебирает указанные элементы диапазона, но работает не только с целыми, но и дробными числами. \n",
    "\n",
    "Средства библиотеки numpy вы ещё изучите."
   ]
  },
  {
   "cell_type": "code",
   "execution_count": null,
   "id": "ed4d56e8",
   "metadata": {},
   "outputs": [],
   "source": []
  },
  {
   "cell_type": "code",
   "execution_count": 109,
   "id": "cc6021cd",
   "metadata": {},
   "outputs": [],
   "source": [
    "model = LogisticRegression(random_state=12345, solver='liblinear')\n",
    "model.fit(features_train, target_train)\n",
    "probabilities_valid = model.predict_proba(features_valid)\n",
    "probabilities_one_valid = probabilities_valid[:, 1]\n"
   ]
  },
  {
   "cell_type": "code",
   "execution_count": 110,
   "id": "7325ac00",
   "metadata": {},
   "outputs": [
    {
     "name": "stdout",
     "output_type": "stream",
     "text": [
      "Порог = 0.00 | Точность = 0.013, Полнота = 1.000\n",
      "Порог = 0.02 | Точность = 0.052, Полнота = 0.645\n",
      "Порог = 0.04 | Точность = 0.061, Полнота = 0.609\n",
      "Порог = 0.06 | Точность = 0.072, Полнота = 0.367\n",
      "Порог = 0.08 | Точность = 0.097, Полнота = 0.254\n",
      "Порог = 0.10 | Точность = 0.112, Полнота = 0.178\n",
      "Порог = 0.12 | Точность = 0.146, Полнота = 0.107\n",
      "Порог = 0.14 | Точность = 0.033, Полнота = 0.012\n",
      "Порог = 0.16 | Точность = 0.036, Полнота = 0.006\n",
      "Порог = 0.18 | Точность = 0.000, Полнота = 0.000\n",
      "Порог = 0.20 | Точность = 0.000, Полнота = 0.000\n",
      "Порог = 0.22 | Точность = 0.000, Полнота = 0.000\n",
      "Порог = 0.24 | Точность = 0.000, Полнота = 0.000\n",
      "Порог = 0.26 | Точность = 0.000, Полнота = 0.000\n",
      "Порог = 0.28 | Точность = 0.000, Полнота = 0.000\n"
     ]
    }
   ],
   "source": [
    "for threshold in np.arange(0, 0.3, 0.02):\n",
    "    predicted_valid = probabilities_one_valid > threshold # < напишите код здесь >\n",
    "    precision = precision_score(target_valid, predicted_valid)# < напишите код здесь >\n",
    "    recall = recall_score(target_valid, predicted_valid)# < напишите код здесь >\n",
    "\n",
    "    print(\"Порог = {:.2f} | Точность = {:.3f}, Полнота = {:.3f}\".format(\n",
    "        threshold, precision, recall))\n",
    "    "
   ]
  },
  {
   "cell_type": "markdown",
   "id": "accce327",
   "metadata": {},
   "source": [
    "### ROC-кривая\n",
    "Мы стали свидетелями нового противостояния — TPR против FPR. Изобразим его на графике.\n",
    "\n",
    "По горизонтали нанесём долю ложноположительных ответов (FPR), а по вертикали — долю истинно положительных ответов (TPR). Переберём значения порога логистической регрессии и проведём кривую. \n",
    "Она называется ROC-кривая, или кривая ошибок (от англ. receiver operating characteristic, «характеристика работы приёмника»; термин пришёл из теории обработки сигналов).\n",
    "\n",
    "Для модели, которая всегда отвечает случайно, ROC-кривая выглядит как прямая, идущая из левого нижнего угла в верхний правый. Чем график выше, тем больше значение TPR и лучше качество модели."
   ]
  },
  {
   "cell_type": "markdown",
   "id": "75fe789a",
   "metadata": {},
   "source": [
    "Чтобы выявить, как сильно наша модель отличается от случайной, посчитаем площадь под ROC-кривой — AUC-ROC (от англ. Area Under Curve ROC, «площадь под ROC-кривой»).\n",
    "\n",
    "Это новая метрика качества, которая изменяется от 0 до 1. AUC-ROC случайной модели равна 0.5.\n",
    "\n",
    "Построить ROC-кривую поможет функция roc_curve() (англ. ROC-кривая) из модуля sklearn.metrics:\n",
    "\n",
    "#### from sklearn.metrics import roc_curve \n",
    "\n",
    "На вход она принимает значения целевого признака и вероятности положительного класса. Перебирает разные пороги и возвращает три списка: значения FPR, значения TPR и рассмотренные пороги.\n",
    "fpr, tpr, thresholds = roc_curve(target, probabilities) "
   ]
  },
  {
   "cell_type": "code",
   "execution_count": 114,
   "id": "57e918e0",
   "metadata": {},
   "outputs": [
    {
     "data": {
      "image/png": "[encoded data removed]",
      "text/plain": [
       "<Figure size 640x480 with 1 Axes>"
      ]
     },
     "metadata": {},
     "output_type": "display_data"
    }
   ],
   "source": [
    "# Постройте ROC-кривую для логистической регрессии и изобразите её на графике.\n",
    "# Вам поможет инструкция в коде. \n",
    "# Для удобства мы уже добавили в код график ROC-кривой случайной модели.\n",
    "model.fit(features_train, target_train)\n",
    "\n",
    "probabilities_valid = model.predict_proba(features_valid)\n",
    "probabilities_one_valid = probabilities_valid[:, 1]\n",
    "\n",
    "fpr, tpr, thresholds = roc_curve(target_valid, probabilities_one_valid) # < напишите код здесь >\n",
    "\n",
    "plt.show()\n",
    "plt.figure()# < постройте график >\n",
    "plt.plot(fpr, tpr)\n",
    "\n",
    "# ROC-кривая случайной модели (выглядит как прямая)\n",
    "plt.plot([0, 1], [0, 1], linestyle='--')\n",
    "\n",
    "plt.xlim([0.0, 1.0])# < примените функции plt.xlim() и plt.ylim(), чтобы\n",
    "plt.ylim([0.0, 1.0])#   установить границы осей от 0 до 1 >\n",
    "\n",
    "plt.xlabel('False Positive Rate')# < примените функции plt.xlabel() и plt.ylabel(), чтобы\n",
    "plt.ylabel('True Positive Rate')#   подписать оси \"False Positive Rate\" и \"True Positive Rate\" >\n",
    "\n",
    "plt.title('ROC-кривая')# < добавьте к графику заголовок \"ROC-кривая\" функцией plt.title() >\n",
    "\n",
    "plt.show()"
   ]
  },
  {
   "cell_type": "code",
   "execution_count": 117,
   "id": "7f614670",
   "metadata": {},
   "outputs": [
    {
     "name": "stdout",
     "output_type": "stream",
     "text": [
      "0.8222702270643766\n"
     ]
    }
   ],
   "source": [
    "#roc_auc_score \n",
    "# Посчитайте для логистической регрессии AUC-ROC. \n",
    "# В документации sklearn найдите, как функция расчёта этой площади называется и как она работает.\n",
    "# Импортируйте её. \n",
    "# Напечатайте  значение AUC-ROC на экране.\n",
    "auc_roc = roc_auc_score(target_valid, probabilities_one_valid) \n",
    "print(auc_roc)"
   ]
  },
  {
   "cell_type": "code",
   "execution_count": null,
   "id": "c4ea8f79",
   "metadata": {},
   "outputs": [],
   "source": []
  }
 ],
 "metadata": {
  "kernelspec": {
   "display_name": "Python 3 (ipykernel)",
   "language": "python",
   "name": "python3"
  },
  "language_info": {
   "codemirror_mode": {
    "name": "ipython",
    "version": 3
   },
   "file_extension": ".py",
   "mimetype": "text/x-python",
   "name": "python",
   "nbconvert_exporter": "python",
   "pygments_lexer": "ipython3",
   "version": "3.7.16"
  }
 },
 "nbformat": 4,
 "nbformat_minor": 5
}
