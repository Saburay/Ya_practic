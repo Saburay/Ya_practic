{
 "cells": [
  {
   "cell_type": "code",
   "execution_count": 1,
   "id": "cac88e16",
   "metadata": {},
   "outputs": [],
   "source": [
    "import pandas as pd"
   ]
  },
  {
   "cell_type": "markdown",
   "id": "02754cf3",
   "metadata": {},
   "source": [
    "[Перевод строковых значений в числа](#str_to_num)"
   ]
  },
  {
   "cell_type": "markdown",
   "id": "515ced12",
   "metadata": {},
   "source": [
    "[Методы Pandas для работы с датой и временем](#D_T)"
   ]
  },
  {
   "cell_type": "markdown",
   "id": "0a79df38",
   "metadata": {},
   "source": [
    "«Определить, какие товарные категории и подкатегории на сайте представлены в поисковиках хуже всего» \n"
   ]
  },
  {
   "cell_type": "code",
   "execution_count": 2,
   "id": "7381ad18",
   "metadata": {},
   "outputs": [],
   "source": [
    "data = pd.read_excel('seo_data.xlsx',sheet_name='traffic_data')"
   ]
  },
  {
   "cell_type": "code",
   "execution_count": 3,
   "id": "27c2c251",
   "metadata": {},
   "outputs": [
    {
     "name": "stdout",
     "output_type": "stream",
     "text": [
      "<class 'pandas.core.frame.DataFrame'>\n",
      "RangeIndex: 1930 entries, 0 to 1929\n",
      "Data columns (total 4 columns):\n",
      " #   Column          Non-Null Count  Dtype  \n",
      "---  ------          --------------  -----  \n",
      " 0   subcategory_id  1930 non-null   object \n",
      " 1   source          1930 non-null   object \n",
      " 2   visits          1930 non-null   object \n",
      " 3   Unnamed: 3      0 non-null      float64\n",
      "dtypes: float64(1), object(3)\n",
      "memory usage: 60.4+ KB\n"
     ]
    },
    {
     "data": {
      "text/plain": [
       "None"
      ]
     },
     "metadata": {},
     "output_type": "display_data"
    },
    {
     "data": {
      "text/html": [
       "<div>\n",
       "<style scoped>\n",
       "    .dataframe tbody tr th:only-of-type {\n",
       "        vertical-align: middle;\n",
       "    }\n",
       "\n",
       "    .dataframe tbody tr th {\n",
       "        vertical-align: top;\n",
       "    }\n",
       "\n",
       "    .dataframe thead th {\n",
       "        text-align: right;\n",
       "    }\n",
       "</style>\n",
       "<table border=\"1\" class=\"dataframe\">\n",
       "  <thead>\n",
       "    <tr style=\"text-align: right;\">\n",
       "      <th></th>\n",
       "      <th>subcategory_id</th>\n",
       "      <th>source</th>\n",
       "      <th>visits</th>\n",
       "      <th>Unnamed: 3</th>\n",
       "    </tr>\n",
       "  </thead>\n",
       "  <tbody>\n",
       "    <tr>\n",
       "      <th>0</th>\n",
       "      <td>cf2e61c7af</td>\n",
       "      <td>direct</td>\n",
       "      <td>501165.668858</td>\n",
       "      <td>NaN</td>\n",
       "    </tr>\n",
       "    <tr>\n",
       "      <th>1</th>\n",
       "      <td>0cd903d1cc</td>\n",
       "      <td>direct</td>\n",
       "      <td>126342.359505</td>\n",
       "      <td>NaN</td>\n",
       "    </tr>\n",
       "    <tr>\n",
       "      <th>2</th>\n",
       "      <td>ef35bc88a7</td>\n",
       "      <td>direct</td>\n",
       "      <td>95626.321402</td>\n",
       "      <td>NaN</td>\n",
       "    </tr>\n",
       "    <tr>\n",
       "      <th>3</th>\n",
       "      <td>6ff9f4014c</td>\n",
       "      <td>direct</td>\n",
       "      <td>75680.653002</td>\n",
       "      <td>NaN</td>\n",
       "    </tr>\n",
       "    <tr>\n",
       "      <th>4</th>\n",
       "      <td>72bc238e4d</td>\n",
       "      <td>direct</td>\n",
       "      <td>64435.934651</td>\n",
       "      <td>NaN</td>\n",
       "    </tr>\n",
       "    <tr>\n",
       "      <th>5</th>\n",
       "      <td>88c78ea685</td>\n",
       "      <td>direct</td>\n",
       "      <td>39638.202995</td>\n",
       "      <td>NaN</td>\n",
       "    </tr>\n",
       "    <tr>\n",
       "      <th>6</th>\n",
       "      <td>179bfacf4a</td>\n",
       "      <td>direct</td>\n",
       "      <td>31007.471245</td>\n",
       "      <td>NaN</td>\n",
       "    </tr>\n",
       "    <tr>\n",
       "      <th>7</th>\n",
       "      <td>b0fb8f259a</td>\n",
       "      <td>direct</td>\n",
       "      <td>30324.097324</td>\n",
       "      <td>NaN</td>\n",
       "    </tr>\n",
       "    <tr>\n",
       "      <th>8</th>\n",
       "      <td>3c67eb2d90</td>\n",
       "      <td>direct</td>\n",
       "      <td>25878.814329</td>\n",
       "      <td>NaN</td>\n",
       "    </tr>\n",
       "    <tr>\n",
       "      <th>9</th>\n",
       "      <td>24e6c815c6</td>\n",
       "      <td>direct</td>\n",
       "      <td>25276.373358</td>\n",
       "      <td>NaN</td>\n",
       "    </tr>\n",
       "  </tbody>\n",
       "</table>\n",
       "</div>"
      ],
      "text/plain": [
       "  subcategory_id  source         visits  Unnamed: 3\n",
       "0     cf2e61c7af  direct  501165.668858         NaN\n",
       "1     0cd903d1cc  direct  126342.359505         NaN\n",
       "2     ef35bc88a7  direct   95626.321402         NaN\n",
       "3     6ff9f4014c  direct   75680.653002         NaN\n",
       "4     72bc238e4d  direct   64435.934651         NaN\n",
       "5     88c78ea685  direct   39638.202995         NaN\n",
       "6     179bfacf4a  direct   31007.471245         NaN\n",
       "7     b0fb8f259a  direct   30324.097324         NaN\n",
       "8     3c67eb2d90  direct   25878.814329         NaN\n",
       "9     24e6c815c6  direct   25276.373358         NaN"
      ]
     },
     "execution_count": 3,
     "metadata": {},
     "output_type": "execute_result"
    }
   ],
   "source": [
    "display(data.info())\n",
    "data.head(10)"
   ]
  },
  {
   "cell_type": "code",
   "execution_count": 4,
   "id": "22c07d29",
   "metadata": {},
   "outputs": [
    {
     "data": {
      "text/plain": [
       "array(['direct', 'organic'], dtype=object)"
      ]
     },
     "execution_count": 4,
     "metadata": {},
     "output_type": "execute_result"
    }
   ],
   "source": [
    "data['source'].unique()"
   ]
  },
  {
   "cell_type": "code",
   "execution_count": 5,
   "id": "675947d0",
   "metadata": {},
   "outputs": [],
   "source": [
    "subcategory_dict = pd.read_excel('seo_data.xlsx',sheet_name= 'subcategory_ids')"
   ]
  },
  {
   "cell_type": "code",
   "execution_count": 6,
   "id": "d3af50b6",
   "metadata": {},
   "outputs": [
    {
     "data": {
      "text/html": [
       "<div>\n",
       "<style scoped>\n",
       "    .dataframe tbody tr th:only-of-type {\n",
       "        vertical-align: middle;\n",
       "    }\n",
       "\n",
       "    .dataframe tbody tr th {\n",
       "        vertical-align: top;\n",
       "    }\n",
       "\n",
       "    .dataframe thead th {\n",
       "        text-align: right;\n",
       "    }\n",
       "</style>\n",
       "<table border=\"1\" class=\"dataframe\">\n",
       "  <thead>\n",
       "    <tr style=\"text-align: right;\">\n",
       "      <th></th>\n",
       "      <th>subcategory_id</th>\n",
       "      <th>subcategory_name</th>\n",
       "      <th>category_id</th>\n",
       "    </tr>\n",
       "  </thead>\n",
       "  <tbody>\n",
       "    <tr>\n",
       "      <th>0</th>\n",
       "      <td>cf2e61c7af</td>\n",
       "      <td>Мобильные телефоны</td>\n",
       "      <td>09f279a643</td>\n",
       "    </tr>\n",
       "    <tr>\n",
       "      <th>1</th>\n",
       "      <td>0cd903d1cc</td>\n",
       "      <td>Ноутбуки</td>\n",
       "      <td>3509869a61</td>\n",
       "    </tr>\n",
       "    <tr>\n",
       "      <th>2</th>\n",
       "      <td>ef35bc88a7</td>\n",
       "      <td>Телевизоры</td>\n",
       "      <td>09f279a643</td>\n",
       "    </tr>\n",
       "    <tr>\n",
       "      <th>3</th>\n",
       "      <td>6ff9f4014c</td>\n",
       "      <td>Планшеты</td>\n",
       "      <td>3509869a61</td>\n",
       "    </tr>\n",
       "    <tr>\n",
       "      <th>4</th>\n",
       "      <td>72bc238e4d</td>\n",
       "      <td>Наушники и Bluetooth-гарнитуры</td>\n",
       "      <td>09f279a643</td>\n",
       "    </tr>\n",
       "    <tr>\n",
       "      <th>5</th>\n",
       "      <td>88c78ea685</td>\n",
       "      <td>Шины</td>\n",
       "      <td>65922fa39c</td>\n",
       "    </tr>\n",
       "    <tr>\n",
       "      <th>6</th>\n",
       "      <td>179bfacf4a</td>\n",
       "      <td>Умные часы и браслеты</td>\n",
       "      <td>09f279a643</td>\n",
       "    </tr>\n",
       "    <tr>\n",
       "      <th>7</th>\n",
       "      <td>b0fb8f259a</td>\n",
       "      <td>Мониторы</td>\n",
       "      <td>3509869a61</td>\n",
       "    </tr>\n",
       "    <tr>\n",
       "      <th>8</th>\n",
       "      <td>3c67eb2d90</td>\n",
       "      <td>Наручные часы</td>\n",
       "      <td>6074ad29ac</td>\n",
       "    </tr>\n",
       "    <tr>\n",
       "      <th>9</th>\n",
       "      <td>24e6c815c6</td>\n",
       "      <td>Лекарственные препараты и БАДы</td>\n",
       "      <td>10a493e03b</td>\n",
       "    </tr>\n",
       "  </tbody>\n",
       "</table>\n",
       "</div>"
      ],
      "text/plain": [
       "  subcategory_id                subcategory_name category_id\n",
       "0     cf2e61c7af              Мобильные телефоны  09f279a643\n",
       "1     0cd903d1cc                        Ноутбуки  3509869a61\n",
       "2     ef35bc88a7                      Телевизоры  09f279a643\n",
       "3     6ff9f4014c                        Планшеты  3509869a61\n",
       "4     72bc238e4d  Наушники и Bluetooth-гарнитуры  09f279a643\n",
       "5     88c78ea685                            Шины  65922fa39c\n",
       "6     179bfacf4a           Умные часы и браслеты  09f279a643\n",
       "7     b0fb8f259a                        Мониторы  3509869a61\n",
       "8     3c67eb2d90                   Наручные часы  6074ad29ac\n",
       "9     24e6c815c6  Лекарственные препараты и БАДы  10a493e03b"
      ]
     },
     "execution_count": 6,
     "metadata": {},
     "output_type": "execute_result"
    }
   ],
   "source": [
    "subcategory_dict.head(10)"
   ]
  },
  {
   "cell_type": "code",
   "execution_count": 7,
   "id": "28db702b",
   "metadata": {},
   "outputs": [],
   "source": [
    "category_dict = pd.read_excel('seo_data.xlsx',sheet_name= 'category_ids')"
   ]
  },
  {
   "cell_type": "code",
   "execution_count": 8,
   "id": "83ababdc",
   "metadata": {},
   "outputs": [
    {
     "data": {
      "text/html": [
       "<div>\n",
       "<style scoped>\n",
       "    .dataframe tbody tr th:only-of-type {\n",
       "        vertical-align: middle;\n",
       "    }\n",
       "\n",
       "    .dataframe tbody tr th {\n",
       "        vertical-align: top;\n",
       "    }\n",
       "\n",
       "    .dataframe thead th {\n",
       "        text-align: right;\n",
       "    }\n",
       "</style>\n",
       "<table border=\"1\" class=\"dataframe\">\n",
       "  <thead>\n",
       "    <tr style=\"text-align: right;\">\n",
       "      <th></th>\n",
       "      <th>category_id</th>\n",
       "      <th>category_name</th>\n",
       "    </tr>\n",
       "  </thead>\n",
       "  <tbody>\n",
       "    <tr>\n",
       "      <th>0</th>\n",
       "      <td>09f279a643</td>\n",
       "      <td>Электроника</td>\n",
       "    </tr>\n",
       "    <tr>\n",
       "      <th>1</th>\n",
       "      <td>3509869a61</td>\n",
       "      <td>Компьютерная техника</td>\n",
       "    </tr>\n",
       "    <tr>\n",
       "      <th>2</th>\n",
       "      <td>65922fa39c</td>\n",
       "      <td>Авто</td>\n",
       "    </tr>\n",
       "    <tr>\n",
       "      <th>3</th>\n",
       "      <td>6074ad29ac</td>\n",
       "      <td>Одежда, обувь и аксессуары</td>\n",
       "    </tr>\n",
       "    <tr>\n",
       "      <th>4</th>\n",
       "      <td>10a493e03b</td>\n",
       "      <td>Товары для здоровья</td>\n",
       "    </tr>\n",
       "    <tr>\n",
       "      <th>5</th>\n",
       "      <td>5a0d8ac946</td>\n",
       "      <td>Бытовая техника</td>\n",
       "    </tr>\n",
       "    <tr>\n",
       "      <th>6</th>\n",
       "      <td>7dbac4c1a3</td>\n",
       "      <td>Детские товары</td>\n",
       "    </tr>\n",
       "    <tr>\n",
       "      <th>7</th>\n",
       "      <td>ae99947659</td>\n",
       "      <td>Спорт и отдых</td>\n",
       "    </tr>\n",
       "    <tr>\n",
       "      <th>8</th>\n",
       "      <td>655ccc3c49</td>\n",
       "      <td>Товары для красоты</td>\n",
       "    </tr>\n",
       "    <tr>\n",
       "      <th>9</th>\n",
       "      <td>394f20d8fa</td>\n",
       "      <td>Строительство и ремонт</td>\n",
       "    </tr>\n",
       "  </tbody>\n",
       "</table>\n",
       "</div>"
      ],
      "text/plain": [
       "  category_id               category_name\n",
       "0  09f279a643                 Электроника\n",
       "1  3509869a61        Компьютерная техника\n",
       "2  65922fa39c                        Авто\n",
       "3  6074ad29ac  Одежда, обувь и аксессуары\n",
       "4  10a493e03b         Товары для здоровья\n",
       "5  5a0d8ac946             Бытовая техника\n",
       "6  7dbac4c1a3              Детские товары\n",
       "7  ae99947659               Спорт и отдых\n",
       "8  655ccc3c49          Товары для красоты\n",
       "9  394f20d8fa      Строительство и ремонт"
      ]
     },
     "execution_count": 8,
     "metadata": {},
     "output_type": "execute_result"
    }
   ],
   "source": [
    "category_dict.head(10)"
   ]
  },
  {
   "cell_type": "code",
   "execution_count": 9,
   "id": "d467211e",
   "metadata": {},
   "outputs": [
    {
     "name": "stdout",
     "output_type": "stream",
     "text": [
      "source\n",
      "direct     965\n",
      "organic    965\n",
      "Name: source, dtype: int64\n"
     ]
    }
   ],
   "source": [
    "print(data.groupby('source')['source'].count()) "
   ]
  },
  {
   "cell_type": "code",
   "execution_count": 10,
   "id": "95f2f62a",
   "metadata": {},
   "outputs": [
    {
     "name": "stdout",
     "output_type": "stream",
     "text": [
      "<class 'pandas.core.frame.DataFrame'>\n",
      "RangeIndex: 1930 entries, 0 to 1929\n",
      "Data columns (total 4 columns):\n",
      " #   Column          Non-Null Count  Dtype  \n",
      "---  ------          --------------  -----  \n",
      " 0   subcategory_id  1930 non-null   object \n",
      " 1   source          1930 non-null   object \n",
      " 2   visits          1930 non-null   object \n",
      " 3   Unnamed: 3      0 non-null      float64\n",
      "dtypes: float64(1), object(3)\n",
      "memory usage: 60.4+ KB\n",
      "None\n"
     ]
    }
   ],
   "source": [
    "print(data.info())"
   ]
  },
  {
   "cell_type": "markdown",
   "id": "ef445d59",
   "metadata": {},
   "source": [
    "## Перевод строковых значений в числа\n",
    "<a id='str_to_num'></a>"
   ]
  },
  {
   "cell_type": "code",
   "execution_count": 11,
   "id": "053f1be7",
   "metadata": {},
   "outputs": [],
   "source": [
    "transactions = pd.read_excel('ids.xlsx')"
   ]
  },
  {
   "cell_type": "code",
   "execution_count": 12,
   "id": "d1982032",
   "metadata": {},
   "outputs": [
    {
     "data": {
      "text/plain": [
       "array(['C', 'B', 'D', 'A', 'E', 'Null'], dtype=object)"
      ]
     },
     "metadata": {},
     "output_type": "display_data"
    },
    {
     "data": {
      "text/html": [
       "<div>\n",
       "<style scoped>\n",
       "    .dataframe tbody tr th:only-of-type {\n",
       "        vertical-align: middle;\n",
       "    }\n",
       "\n",
       "    .dataframe tbody tr th {\n",
       "        vertical-align: top;\n",
       "    }\n",
       "\n",
       "    .dataframe thead th {\n",
       "        text-align: right;\n",
       "    }\n",
       "</style>\n",
       "<table border=\"1\" class=\"dataframe\">\n",
       "  <thead>\n",
       "    <tr style=\"text-align: right;\">\n",
       "      <th></th>\n",
       "      <th>id</th>\n",
       "      <th>category</th>\n",
       "      <th>amount</th>\n",
       "    </tr>\n",
       "  </thead>\n",
       "  <tbody>\n",
       "    <tr>\n",
       "      <th>0</th>\n",
       "      <td>600748331392</td>\n",
       "      <td>C</td>\n",
       "      <td>17515.36</td>\n",
       "    </tr>\n",
       "    <tr>\n",
       "      <th>1</th>\n",
       "      <td>600748331404</td>\n",
       "      <td>B</td>\n",
       "      <td>10117.56</td>\n",
       "    </tr>\n",
       "    <tr>\n",
       "      <th>2</th>\n",
       "      <td>600748331412</td>\n",
       "      <td>B</td>\n",
       "      <td>18489.26</td>\n",
       "    </tr>\n",
       "    <tr>\n",
       "      <th>3</th>\n",
       "      <td>600748331430</td>\n",
       "      <td>B</td>\n",
       "      <td>6620.22</td>\n",
       "    </tr>\n",
       "    <tr>\n",
       "      <th>4</th>\n",
       "      <td>600748331447</td>\n",
       "      <td>C</td>\n",
       "      <td>7559.9</td>\n",
       "    </tr>\n",
       "  </tbody>\n",
       "</table>\n",
       "</div>"
      ],
      "text/plain": [
       "             id category    amount\n",
       "0  600748331392        C  17515.36\n",
       "1  600748331404        B  10117.56\n",
       "2  600748331412        B  18489.26\n",
       "3  600748331430        B   6620.22\n",
       "4  600748331447        C    7559.9"
      ]
     },
     "execution_count": 12,
     "metadata": {},
     "output_type": "execute_result"
    }
   ],
   "source": [
    "display(transactions['category'].unique())\n",
    "transactions.head()"
   ]
  },
  {
   "cell_type": "code",
   "execution_count": 13,
   "id": "c282d9af",
   "metadata": {},
   "outputs": [
    {
     "name": "stdout",
     "output_type": "stream",
     "text": [
      "<class 'pandas.core.frame.DataFrame'>\n",
      "RangeIndex: 49 entries, 0 to 48\n",
      "Data columns (total 3 columns):\n",
      " #   Column    Non-Null Count  Dtype \n",
      "---  ------    --------------  ----- \n",
      " 0   id        49 non-null     object\n",
      " 1   category  49 non-null     object\n",
      " 2   amount    49 non-null     object\n",
      "dtypes: object(3)\n",
      "memory usage: 1.3+ KB\n"
     ]
    }
   ],
   "source": [
    "transactions.info()"
   ]
  },
  {
   "cell_type": "markdown",
   "id": "3b30f20c",
   "metadata": {},
   "source": [
    "transactions['amount'] = pd.to_numeric(transactions['amount']) \n",
    "\n",
    "\n",
    "У метода to_numeric() есть параметр errors. От значений, принимаемых errors, зависят действия to_numeric при встрече с некорректным значением:\n",
    "`errors='raise' — дефолтное поведение: при встрече с некорректным значением выдаётся ошибка, операция перевода в числа прерывается;\n",
    "\n",
    "\n",
    "`errors='coerce' — некорректные значения принудительно заменяются на NaN;\n",
    "\n",
    "\n",
    "`errors='ignore' — некорректные значения игнорируются, но остаются.\n",
    "\n",
    "\n",
    "transactions['amount'] = pd.to_numeric(transactions['amount'], errors='coerce') \n",
    "Методом to_numeric() мы не только превратим строки в числовой тип там, где это возможно, но и выясним, на каких значениях метод не работает.\n",
    "Особенность метода to_numeric() в том, что при переводе все числа будут иметь тип данных float. Это подходит далеко не всем значениям. Но есть и хорошие новости: в нужный тип значения переводят методом astype(). Например, аргумент ('int') метода astype() означает, что значение нужно перевести в целое число:"
   ]
  },
  {
   "cell_type": "code",
   "execution_count": 14,
   "id": "18064e75",
   "metadata": {},
   "outputs": [],
   "source": [
    "transactions['id'] = pd.to_numeric(transactions['id'],errors='coerce')"
   ]
  },
  {
   "cell_type": "code",
   "execution_count": 15,
   "id": "7ec3a886",
   "metadata": {},
   "outputs": [
    {
     "data": {
      "text/plain": [
       "44    6.007483e+11\n",
       "45    6.007483e+11\n",
       "46    6.007483e+11\n",
       "47    6.007483e+11\n",
       "48             NaN\n",
       "Name: id, dtype: float64"
      ]
     },
     "execution_count": 15,
     "metadata": {},
     "output_type": "execute_result"
    }
   ],
   "source": [
    "transactions['id'].tail(5)"
   ]
  },
  {
   "cell_type": "code",
   "execution_count": 16,
   "id": "2caac956",
   "metadata": {},
   "outputs": [
    {
     "name": "stdout",
     "output_type": "stream",
     "text": [
      "<class 'pandas.core.frame.DataFrame'>\n",
      "RangeIndex: 49 entries, 0 to 48\n",
      "Data columns (total 3 columns):\n",
      " #   Column    Non-Null Count  Dtype  \n",
      "---  ------    --------------  -----  \n",
      " 0   id        48 non-null     float64\n",
      " 1   category  49 non-null     object \n",
      " 2   amount    49 non-null     object \n",
      "dtypes: float64(1), object(2)\n",
      "memory usage: 1.3+ KB\n"
     ]
    }
   ],
   "source": [
    "transactions.info()"
   ]
  },
  {
   "cell_type": "code",
   "execution_count": 17,
   "id": "b187bc24",
   "metadata": {},
   "outputs": [],
   "source": [
    "transactions['amount'] = pd.to_numeric(transactions['amount'],errors='coerce')"
   ]
  },
  {
   "cell_type": "code",
   "execution_count": 18,
   "id": "9a43cc36",
   "metadata": {},
   "outputs": [
    {
     "name": "stdout",
     "output_type": "stream",
     "text": [
      "<class 'pandas.core.frame.DataFrame'>\n",
      "RangeIndex: 49 entries, 0 to 48\n",
      "Data columns (total 3 columns):\n",
      " #   Column    Non-Null Count  Dtype  \n",
      "---  ------    --------------  -----  \n",
      " 0   id        48 non-null     float64\n",
      " 1   category  49 non-null     object \n",
      " 2   amount    45 non-null     float64\n",
      "dtypes: float64(2), object(1)\n",
      "memory usage: 1.3+ KB\n"
     ]
    }
   ],
   "source": [
    "transactions.info()"
   ]
  },
  {
   "cell_type": "code",
   "execution_count": 19,
   "id": "cc14da64",
   "metadata": {},
   "outputs": [
    {
     "data": {
      "text/plain": [
       "596107.1"
      ]
     },
     "execution_count": 19,
     "metadata": {},
     "output_type": "execute_result"
    }
   ],
   "source": [
    "transactions['amount'].sum()"
   ]
  },
  {
   "cell_type": "markdown",
   "id": "90991f79",
   "metadata": {},
   "source": [
    "\n",
    "Рассчитайте сумму продаж для каждой категории и сохраните в переменной transactions_per_category. Для этого сгруппируйте датафрейм transactions по столбцу category и примените метод sum() к столбцу amount. Выведите результат на экран."
   ]
  },
  {
   "cell_type": "code",
   "execution_count": 20,
   "id": "6e1d427c",
   "metadata": {},
   "outputs": [],
   "source": [
    " transactions_per_category = transactions.groupby('category')['amount'].sum()"
   ]
  },
  {
   "cell_type": "code",
   "execution_count": 21,
   "id": "1d02efc1",
   "metadata": {},
   "outputs": [
    {
     "name": "stdout",
     "output_type": "stream",
     "text": [
      "category\n",
      "A       133988.50\n",
      "B       168617.89\n",
      "C       173332.50\n",
      "D        62630.82\n",
      "E        57537.39\n",
      "Null         0.00\n",
      "Name: amount, dtype: float64\n"
     ]
    }
   ],
   "source": [
    "print(transactions_per_category)"
   ]
  },
  {
   "cell_type": "code",
   "execution_count": 22,
   "id": "bed3e5fa",
   "metadata": {},
   "outputs": [
    {
     "data": {
      "text/html": [
       "<div>\n",
       "<style scoped>\n",
       "    .dataframe tbody tr th:only-of-type {\n",
       "        vertical-align: middle;\n",
       "    }\n",
       "\n",
       "    .dataframe tbody tr th {\n",
       "        vertical-align: top;\n",
       "    }\n",
       "\n",
       "    .dataframe thead th {\n",
       "        text-align: right;\n",
       "    }\n",
       "</style>\n",
       "<table border=\"1\" class=\"dataframe\">\n",
       "  <thead>\n",
       "    <tr style=\"text-align: right;\">\n",
       "      <th></th>\n",
       "      <th>subcategory_id</th>\n",
       "      <th>source</th>\n",
       "      <th>visits</th>\n",
       "      <th>Unnamed: 3</th>\n",
       "    </tr>\n",
       "  </thead>\n",
       "  <tbody>\n",
       "    <tr>\n",
       "      <th>0</th>\n",
       "      <td>cf2e61c7af</td>\n",
       "      <td>direct</td>\n",
       "      <td>501165.668858</td>\n",
       "      <td>NaN</td>\n",
       "    </tr>\n",
       "    <tr>\n",
       "      <th>1</th>\n",
       "      <td>0cd903d1cc</td>\n",
       "      <td>direct</td>\n",
       "      <td>126342.359505</td>\n",
       "      <td>NaN</td>\n",
       "    </tr>\n",
       "    <tr>\n",
       "      <th>2</th>\n",
       "      <td>ef35bc88a7</td>\n",
       "      <td>direct</td>\n",
       "      <td>95626.321402</td>\n",
       "      <td>NaN</td>\n",
       "    </tr>\n",
       "    <tr>\n",
       "      <th>3</th>\n",
       "      <td>6ff9f4014c</td>\n",
       "      <td>direct</td>\n",
       "      <td>75680.653002</td>\n",
       "      <td>NaN</td>\n",
       "    </tr>\n",
       "    <tr>\n",
       "      <th>4</th>\n",
       "      <td>72bc238e4d</td>\n",
       "      <td>direct</td>\n",
       "      <td>64435.934651</td>\n",
       "      <td>NaN</td>\n",
       "    </tr>\n",
       "    <tr>\n",
       "      <th>...</th>\n",
       "      <td>...</td>\n",
       "      <td>...</td>\n",
       "      <td>...</td>\n",
       "      <td>...</td>\n",
       "    </tr>\n",
       "    <tr>\n",
       "      <th>1925</th>\n",
       "      <td>c51343bf77</td>\n",
       "      <td>organic</td>\n",
       "      <td>15.640773</td>\n",
       "      <td>NaN</td>\n",
       "    </tr>\n",
       "    <tr>\n",
       "      <th>1926</th>\n",
       "      <td>d942687638</td>\n",
       "      <td>organic</td>\n",
       "      <td>13.87554</td>\n",
       "      <td>NaN</td>\n",
       "    </tr>\n",
       "    <tr>\n",
       "      <th>1927</th>\n",
       "      <td>976642886f</td>\n",
       "      <td>organic</td>\n",
       "      <td>9.204211</td>\n",
       "      <td>NaN</td>\n",
       "    </tr>\n",
       "    <tr>\n",
       "      <th>1928</th>\n",
       "      <td>075994491e</td>\n",
       "      <td>organic</td>\n",
       "      <td>4.606261</td>\n",
       "      <td>NaN</td>\n",
       "    </tr>\n",
       "    <tr>\n",
       "      <th>1929</th>\n",
       "      <td>total</td>\n",
       "      <td>organic</td>\n",
       "      <td>\"5687882\"</td>\n",
       "      <td>NaN</td>\n",
       "    </tr>\n",
       "  </tbody>\n",
       "</table>\n",
       "<p>1930 rows × 4 columns</p>\n",
       "</div>"
      ],
      "text/plain": [
       "     subcategory_id   source         visits  Unnamed: 3\n",
       "0        cf2e61c7af   direct  501165.668858         NaN\n",
       "1        0cd903d1cc   direct  126342.359505         NaN\n",
       "2        ef35bc88a7   direct   95626.321402         NaN\n",
       "3        6ff9f4014c   direct   75680.653002         NaN\n",
       "4        72bc238e4d   direct   64435.934651         NaN\n",
       "...             ...      ...            ...         ...\n",
       "1925     c51343bf77  organic      15.640773         NaN\n",
       "1926     d942687638  organic       13.87554         NaN\n",
       "1927     976642886f  organic       9.204211         NaN\n",
       "1928     075994491e  organic       4.606261         NaN\n",
       "1929          total  organic      \"5687882\"         NaN\n",
       "\n",
       "[1930 rows x 4 columns]"
      ]
     },
     "execution_count": 22,
     "metadata": {},
     "output_type": "execute_result"
    }
   ],
   "source": [
    "data"
   ]
  },
  {
   "cell_type": "code",
   "execution_count": 23,
   "id": "05d295f2",
   "metadata": {},
   "outputs": [
    {
     "ename": "ValueError",
     "evalue": "Unable to parse string \"\"2369468\"\" at position 964",
     "output_type": "error",
     "traceback": [
      "\u001b[1;31m---------------------------------------------------------------------------\u001b[0m",
      "\u001b[1;31mValueError\u001b[0m                                Traceback (most recent call last)",
      "\u001b[1;32mpandas\\_libs\\lib.pyx\u001b[0m in \u001b[0;36mpandas._libs.lib.maybe_convert_numeric\u001b[1;34m()\u001b[0m\n",
      "\u001b[1;31mValueError\u001b[0m: Unable to parse string \"\"2369468\"\"",
      "\nDuring handling of the above exception, another exception occurred:\n",
      "\u001b[1;31mValueError\u001b[0m                                Traceback (most recent call last)",
      "\u001b[1;32m<ipython-input-23-9d2de36f9689>\u001b[0m in \u001b[0;36m<module>\u001b[1;34m\u001b[0m\n\u001b[1;32m----> 1\u001b[1;33m \u001b[0mpd\u001b[0m\u001b[1;33m.\u001b[0m\u001b[0mto_numeric\u001b[0m\u001b[1;33m(\u001b[0m\u001b[0mdata\u001b[0m\u001b[1;33m[\u001b[0m\u001b[1;34m'visits'\u001b[0m\u001b[1;33m]\u001b[0m\u001b[1;33m)\u001b[0m\u001b[1;33m\u001b[0m\u001b[1;33m\u001b[0m\u001b[0m\n\u001b[0m",
      "\u001b[1;32m~\\anaconda3\\lib\\site-packages\\pandas\\core\\tools\\numeric.py\u001b[0m in \u001b[0;36mto_numeric\u001b[1;34m(arg, errors, downcast)\u001b[0m\n\u001b[0;32m    152\u001b[0m         \u001b[0mcoerce_numeric\u001b[0m \u001b[1;33m=\u001b[0m \u001b[0merrors\u001b[0m \u001b[1;32mnot\u001b[0m \u001b[1;32min\u001b[0m \u001b[1;33m(\u001b[0m\u001b[1;34m\"ignore\"\u001b[0m\u001b[1;33m,\u001b[0m \u001b[1;34m\"raise\"\u001b[0m\u001b[1;33m)\u001b[0m\u001b[1;33m\u001b[0m\u001b[1;33m\u001b[0m\u001b[0m\n\u001b[0;32m    153\u001b[0m         \u001b[1;32mtry\u001b[0m\u001b[1;33m:\u001b[0m\u001b[1;33m\u001b[0m\u001b[1;33m\u001b[0m\u001b[0m\n\u001b[1;32m--> 154\u001b[1;33m             values = lib.maybe_convert_numeric(\n\u001b[0m\u001b[0;32m    155\u001b[0m                 \u001b[0mvalues\u001b[0m\u001b[1;33m,\u001b[0m \u001b[0mset\u001b[0m\u001b[1;33m(\u001b[0m\u001b[1;33m)\u001b[0m\u001b[1;33m,\u001b[0m \u001b[0mcoerce_numeric\u001b[0m\u001b[1;33m=\u001b[0m\u001b[0mcoerce_numeric\u001b[0m\u001b[1;33m\u001b[0m\u001b[1;33m\u001b[0m\u001b[0m\n\u001b[0;32m    156\u001b[0m             )\n",
      "\u001b[1;32mpandas\\_libs\\lib.pyx\u001b[0m in \u001b[0;36mpandas._libs.lib.maybe_convert_numeric\u001b[1;34m()\u001b[0m\n",
      "\u001b[1;31mValueError\u001b[0m: Unable to parse string \"\"2369468\"\" at position 964"
     ]
    }
   ],
   "source": [
    "pd.to_numeric(data['visits'])"
   ]
  },
  {
   "cell_type": "code",
   "execution_count": 24,
   "id": "8a9f9e51",
   "metadata": {},
   "outputs": [
    {
     "data": {
      "text/plain": [
       "subcategory_id        total\n",
       "source               direct\n",
       "visits            \"2369468\"\n",
       "Unnamed: 3              NaN\n",
       "Name: 964, dtype: object"
      ]
     },
     "execution_count": 24,
     "metadata": {},
     "output_type": "execute_result"
    }
   ],
   "source": [
    "data.loc[964]"
   ]
  },
  {
   "cell_type": "code",
   "execution_count": 25,
   "id": "755682a8",
   "metadata": {},
   "outputs": [
    {
     "data": {
      "text/html": [
       "<div>\n",
       "<style scoped>\n",
       "    .dataframe tbody tr th:only-of-type {\n",
       "        vertical-align: middle;\n",
       "    }\n",
       "\n",
       "    .dataframe tbody tr th {\n",
       "        vertical-align: top;\n",
       "    }\n",
       "\n",
       "    .dataframe thead th {\n",
       "        text-align: right;\n",
       "    }\n",
       "</style>\n",
       "<table border=\"1\" class=\"dataframe\">\n",
       "  <thead>\n",
       "    <tr style=\"text-align: right;\">\n",
       "      <th></th>\n",
       "      <th>subcategory_id</th>\n",
       "      <th>source</th>\n",
       "      <th>visits</th>\n",
       "      <th>Unnamed: 3</th>\n",
       "    </tr>\n",
       "  </thead>\n",
       "  <tbody>\n",
       "    <tr>\n",
       "      <th>964</th>\n",
       "      <td>total</td>\n",
       "      <td>direct</td>\n",
       "      <td>\"2369468\"</td>\n",
       "      <td>NaN</td>\n",
       "    </tr>\n",
       "    <tr>\n",
       "      <th>1929</th>\n",
       "      <td>total</td>\n",
       "      <td>organic</td>\n",
       "      <td>\"5687882\"</td>\n",
       "      <td>NaN</td>\n",
       "    </tr>\n",
       "  </tbody>\n",
       "</table>\n",
       "</div>"
      ],
      "text/plain": [
       "     subcategory_id   source     visits  Unnamed: 3\n",
       "964           total   direct  \"2369468\"         NaN\n",
       "1929          total  organic  \"5687882\"         NaN"
      ]
     },
     "execution_count": 25,
     "metadata": {},
     "output_type": "execute_result"
    }
   ],
   "source": [
    "data[data['subcategory_id']=='total']"
   ]
  },
  {
   "cell_type": "code",
   "execution_count": 26,
   "id": "03194eed",
   "metadata": {},
   "outputs": [],
   "source": [
    "data = data[data['subcategory_id']!='total']"
   ]
  },
  {
   "cell_type": "code",
   "execution_count": 27,
   "id": "d9fe22bf",
   "metadata": {},
   "outputs": [
    {
     "data": {
      "text/html": [
       "<div>\n",
       "<style scoped>\n",
       "    .dataframe tbody tr th:only-of-type {\n",
       "        vertical-align: middle;\n",
       "    }\n",
       "\n",
       "    .dataframe tbody tr th {\n",
       "        vertical-align: top;\n",
       "    }\n",
       "\n",
       "    .dataframe thead th {\n",
       "        text-align: right;\n",
       "    }\n",
       "</style>\n",
       "<table border=\"1\" class=\"dataframe\">\n",
       "  <thead>\n",
       "    <tr style=\"text-align: right;\">\n",
       "      <th></th>\n",
       "      <th>subcategory_id</th>\n",
       "      <th>source</th>\n",
       "      <th>visits</th>\n",
       "      <th>Unnamed: 3</th>\n",
       "    </tr>\n",
       "  </thead>\n",
       "  <tbody>\n",
       "  </tbody>\n",
       "</table>\n",
       "</div>"
      ],
      "text/plain": [
       "Empty DataFrame\n",
       "Columns: [subcategory_id, source, visits, Unnamed: 3]\n",
       "Index: []"
      ]
     },
     "execution_count": 27,
     "metadata": {},
     "output_type": "execute_result"
    }
   ],
   "source": [
    "data[data['subcategory_id']=='total']"
   ]
  },
  {
   "cell_type": "code",
   "execution_count": 28,
   "id": "4a09fff7",
   "metadata": {},
   "outputs": [
    {
     "name": "stderr",
     "output_type": "stream",
     "text": [
      "<ipython-input-28-c5deef310c65>:1: SettingWithCopyWarning: \n",
      "A value is trying to be set on a copy of a slice from a DataFrame.\n",
      "Try using .loc[row_indexer,col_indexer] = value instead\n",
      "\n",
      "See the caveats in the documentation: https://pandas.pydata.org/pandas-docs/stable/user_guide/indexing.html#returning-a-view-versus-a-copy\n",
      "  data['visits'] = data['visits'].astype('int')\n"
     ]
    }
   ],
   "source": [
    "data['visits'] = data['visits'].astype('int')"
   ]
  },
  {
   "cell_type": "code",
   "execution_count": 29,
   "id": "0b7eb60b",
   "metadata": {},
   "outputs": [
    {
     "name": "stdout",
     "output_type": "stream",
     "text": [
      "<class 'pandas.core.frame.DataFrame'>\n",
      "Int64Index: 1928 entries, 0 to 1928\n",
      "Data columns (total 4 columns):\n",
      " #   Column          Non-Null Count  Dtype  \n",
      "---  ------          --------------  -----  \n",
      " 0   subcategory_id  1928 non-null   object \n",
      " 1   source          1928 non-null   object \n",
      " 2   visits          1928 non-null   int32  \n",
      " 3   Unnamed: 3      0 non-null      float64\n",
      "dtypes: float64(1), int32(1), object(2)\n",
      "memory usage: 67.8+ KB\n"
     ]
    }
   ],
   "source": [
    "data.info()"
   ]
  },
  {
   "cell_type": "code",
   "execution_count": 31,
   "id": "25d1bec5",
   "metadata": {},
   "outputs": [
    {
     "data": {
      "text/plain": [
       "source\n",
       "direct     2368980\n",
       "organic    5687407\n",
       "Name: visits, dtype: int32"
      ]
     },
     "execution_count": 31,
     "metadata": {},
     "output_type": "execute_result"
    }
   ],
   "source": [
    "data.groupby('source')['visits'].sum()"
   ]
  },
  {
   "cell_type": "markdown",
   "id": "ca037fbc",
   "metadata": {},
   "source": [
    "<a id='D_T'></a>"
   ]
  },
  {
   "cell_type": "markdown",
   "id": "043d2f98",
   "metadata": {},
   "source": [
    "Вне зависимости от способа записи, дату и время нужно вводить в арифметические операции. Для этого в Python существует особый тип данных — datetime. \n"
   ]
  },
  {
   "cell_type": "markdown",
   "id": "e66a2dd5",
   "metadata": {},
   "source": [
    "Методом to_datetime() превратим содержимое этого столбца в понятные для Python даты.\n",
    "Для этого строку форматируют, обращаясь к специальной системе обозначений, где:\n",
    "\n",
    "%d — день месяца (от 01 до 31)\n",
    "\n",
    "%m — номер месяца (от 01 до 12)\n",
    "\n",
    "%Y — четырёхзначный номер года (например, 2019)\n",
    "\n",
    "Z — стандартный разделитель даты и времени\n",
    "\n",
    "%H — номер часа в 24-часовом формате\n",
    "\n",
    "%I — номер часа в 12-часовом формате\n",
    "\n",
    "%M — минуты (от 00 до 59)\n",
    "\n",
    "%S — секунды (от 00 до 59)\n",
    "\n",
    "Преобразуем формат даты 01.04.2019Z11:03:00 из первой строчки датафрейма:\n",
    "\n",
    "\n",
    "Сначала номер дня месяца. В соответствии с таблицей форматов заменяем его на %d:\n",
    "%d.04.2019Z11:03:00\n",
    "\n",
    "\n",
    "Далее точка (ее оставляем без изменений), потом номер месяца: %m: %d.%m.2019Z11:03:00\n",
    "\n",
    "\n",
    "После четырёхзначный номер года, заменяем 2019 на %Y: %d.%m.%YZ11:03:00\n",
    "\n",
    "\n",
    "Букву Z оставляем без изменений: %d.%m.%YZ11:03:00\n",
    "Номер часа в 24-часовом формате заменим на %H: %d.%m.%YZ%H:03:00\n",
    "Количество минут обозначим %M: %d.%m.%YZ%H:%M:00\n",
    "Завершим форматирование обозначением секунд %S: %d.%m.%YZ%H:%M:%S"
   ]
  },
  {
   "cell_type": "markdown",
   "id": "506b0312",
   "metadata": {},
   "source": [
    "## arrivals['date_datetime'] = pd.to_datetime(arrivals['date'], format='%d.%m.%YZ%H:%M:%S')\n",
    "## print(arrivals.head()) "
   ]
  },
  {
   "cell_type": "markdown",
   "id": "f0b787e3",
   "metadata": {},
   "source": [
    "А у значений столбца '*target_time*' другой способ записи даты: 2019-04-01Z11:00:00. Значит, и в аргументе format сохраним другое выражение: '%Y-%m-%dZ%H:%M:%S':\n",
    "\n",
    "\n",
    "## arrivals['target_datetime'] = pd.to_datetime(\n",
    "##    arrivals['target_time'], format='%Y-%m-%dZ%H:%M:%S')"
   ]
  },
  {
   "cell_type": "code",
   "execution_count": 32,
   "id": "6a3beda8",
   "metadata": {},
   "outputs": [],
   "source": [
    "position = pd.read_csv('position.csv')"
   ]
  },
  {
   "cell_type": "code",
   "execution_count": 34,
   "id": "2b90beb0",
   "metadata": {},
   "outputs": [
    {
     "data": {
      "text/html": [
       "<div>\n",
       "<style scoped>\n",
       "    .dataframe tbody tr th:only-of-type {\n",
       "        vertical-align: middle;\n",
       "    }\n",
       "\n",
       "    .dataframe tbody tr th {\n",
       "        vertical-align: top;\n",
       "    }\n",
       "\n",
       "    .dataframe thead th {\n",
       "        text-align: right;\n",
       "    }\n",
       "</style>\n",
       "<table border=\"1\" class=\"dataframe\">\n",
       "  <thead>\n",
       "    <tr style=\"text-align: right;\">\n",
       "      <th></th>\n",
       "      <th>timestamp</th>\n",
       "      <th>level</th>\n",
       "      <th>page_id</th>\n",
       "    </tr>\n",
       "  </thead>\n",
       "  <tbody>\n",
       "    <tr>\n",
       "      <th>0</th>\n",
       "      <td>2019-02-04T13:22:34</td>\n",
       "      <td>1</td>\n",
       "      <td>6ukoNykP</td>\n",
       "    </tr>\n",
       "    <tr>\n",
       "      <th>1</th>\n",
       "      <td>2019-02-06T15:30:54</td>\n",
       "      <td>1</td>\n",
       "      <td>Q62R1Ue7</td>\n",
       "    </tr>\n",
       "    <tr>\n",
       "      <th>2</th>\n",
       "      <td>2019-02-08T14:53:45</td>\n",
       "      <td>1</td>\n",
       "      <td>GmfSxgPs</td>\n",
       "    </tr>\n",
       "    <tr>\n",
       "      <th>3</th>\n",
       "      <td>2019-02-10T16:50:22</td>\n",
       "      <td>2</td>\n",
       "      <td>M56OK96C</td>\n",
       "    </tr>\n",
       "    <tr>\n",
       "      <th>4</th>\n",
       "      <td>2019-02-12T14:16:28</td>\n",
       "      <td>1</td>\n",
       "      <td>q2fqVqPc</td>\n",
       "    </tr>\n",
       "    <tr>\n",
       "      <th>5</th>\n",
       "      <td>2019-02-14T15:10:45</td>\n",
       "      <td>1</td>\n",
       "      <td>LioXfSPk</td>\n",
       "    </tr>\n",
       "    <tr>\n",
       "      <th>6</th>\n",
       "      <td>2019-02-16T14:52:23</td>\n",
       "      <td>3</td>\n",
       "      <td>bQXWpQ2z</td>\n",
       "    </tr>\n",
       "    <tr>\n",
       "      <th>7</th>\n",
       "      <td>2019-02-18T15:45:33</td>\n",
       "      <td>2</td>\n",
       "      <td>gsFVGOTy</td>\n",
       "    </tr>\n",
       "    <tr>\n",
       "      <th>8</th>\n",
       "      <td>2019-02-20T16:35:12</td>\n",
       "      <td>3</td>\n",
       "      <td>zVuiSTm1</td>\n",
       "    </tr>\n",
       "    <tr>\n",
       "      <th>9</th>\n",
       "      <td>2019-02-22T15:52:27</td>\n",
       "      <td>1</td>\n",
       "      <td>kuULtbnm</td>\n",
       "    </tr>\n",
       "    <tr>\n",
       "      <th>10</th>\n",
       "      <td>2019-02-24T12:39:30</td>\n",
       "      <td>2</td>\n",
       "      <td>MKDhBt9L</td>\n",
       "    </tr>\n",
       "    <tr>\n",
       "      <th>11</th>\n",
       "      <td>2019-02-26T12:45:10</td>\n",
       "      <td>3</td>\n",
       "      <td>FEgRztcr</td>\n",
       "    </tr>\n",
       "    <tr>\n",
       "      <th>12</th>\n",
       "      <td>2019-03-04T15:34:46</td>\n",
       "      <td>4</td>\n",
       "      <td>OUBWQSCl</td>\n",
       "    </tr>\n",
       "    <tr>\n",
       "      <th>13</th>\n",
       "      <td>2019-03-06T14:20:57</td>\n",
       "      <td>5</td>\n",
       "      <td>6YeTUHgm</td>\n",
       "    </tr>\n",
       "    <tr>\n",
       "      <th>14</th>\n",
       "      <td>2019-03-08T12:34:43</td>\n",
       "      <td>6</td>\n",
       "      <td>zlrBrZ0d</td>\n",
       "    </tr>\n",
       "  </tbody>\n",
       "</table>\n",
       "</div>"
      ],
      "text/plain": [
       "              timestamp  level   page_id\n",
       "0   2019-02-04T13:22:34      1  6ukoNykP\n",
       "1   2019-02-06T15:30:54      1  Q62R1Ue7\n",
       "2   2019-02-08T14:53:45      1  GmfSxgPs\n",
       "3   2019-02-10T16:50:22      2  M56OK96C\n",
       "4   2019-02-12T14:16:28      1  q2fqVqPc\n",
       "5   2019-02-14T15:10:45      1  LioXfSPk\n",
       "6   2019-02-16T14:52:23      3  bQXWpQ2z\n",
       "7   2019-02-18T15:45:33      2  gsFVGOTy\n",
       "8   2019-02-20T16:35:12      3  zVuiSTm1\n",
       "9   2019-02-22T15:52:27      1  kuULtbnm\n",
       "10  2019-02-24T12:39:30      2  MKDhBt9L\n",
       "11  2019-02-26T12:45:10      3  FEgRztcr\n",
       "12  2019-03-04T15:34:46      4  OUBWQSCl\n",
       "13  2019-03-06T14:20:57      5  6YeTUHgm\n",
       "14  2019-03-08T12:34:43      6  zlrBrZ0d"
      ]
     },
     "execution_count": 34,
     "metadata": {},
     "output_type": "execute_result"
    }
   ],
   "source": [
    "position.head(15)"
   ]
  },
  {
   "cell_type": "code",
   "execution_count": 35,
   "id": "12d54457",
   "metadata": {},
   "outputs": [
    {
     "name": "stdout",
     "output_type": "stream",
     "text": [
      "<class 'pandas.core.frame.DataFrame'>\n",
      "RangeIndex: 39 entries, 0 to 38\n",
      "Data columns (total 3 columns):\n",
      " #   Column     Non-Null Count  Dtype \n",
      "---  ------     --------------  ----- \n",
      " 0   timestamp  39 non-null     object\n",
      " 1   level      39 non-null     int64 \n",
      " 2   page_id    39 non-null     object\n",
      "dtypes: int64(1), object(2)\n",
      "memory usage: 1.0+ KB\n"
     ]
    }
   ],
   "source": [
    "position.info()"
   ]
  },
  {
   "cell_type": "code",
   "execution_count": 37,
   "id": "213ac11e",
   "metadata": {},
   "outputs": [],
   "source": [
    "position['timestamp'] = pd.to_datetime(position['timestamp'],format='%Y-%m-%dT%H:%M:%S')"
   ]
  },
  {
   "cell_type": "code",
   "execution_count": 39,
   "id": "c261009b",
   "metadata": {},
   "outputs": [
    {
     "name": "stdout",
     "output_type": "stream",
     "text": [
      "<class 'pandas.core.frame.DataFrame'>\n",
      "RangeIndex: 39 entries, 0 to 38\n",
      "Data columns (total 3 columns):\n",
      " #   Column     Non-Null Count  Dtype         \n",
      "---  ------     --------------  -----         \n",
      " 0   timestamp  39 non-null     datetime64[ns]\n",
      " 1   level      39 non-null     int64         \n",
      " 2   page_id    39 non-null     object        \n",
      "dtypes: datetime64[ns](1), int64(1), object(1)\n",
      "memory usage: 1.0+ KB\n"
     ]
    }
   ],
   "source": [
    "position.info()"
   ]
  },
  {
   "cell_type": "code",
   "execution_count": null,
   "id": "71be29f0",
   "metadata": {},
   "outputs": [],
   "source": []
  }
 ],
 "metadata": {
  "kernelspec": {
   "display_name": "Python 3",
   "language": "python",
   "name": "python3"
  },
  "language_info": {
   "codemirror_mode": {
    "name": "ipython",
    "version": 3
   },
   "file_extension": ".py",
   "mimetype": "text/x-python",
   "name": "python",
   "nbconvert_exporter": "python",
   "pygments_lexer": "ipython3",
   "version": "3.8.8"
  }
 },
 "nbformat": 4,
 "nbformat_minor": 5
}
