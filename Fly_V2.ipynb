{
 "cells": [
  {
   "cell_type": "markdown",
   "id": "470fee7c",
   "metadata": {},
   "source": [
    "### Обучите модель, которая предскажет время задержки авиарейсов."
   ]
  },
  {
   "cell_type": "code",
   "execution_count": 126,
   "id": "c36e268a",
   "metadata": {},
   "outputs": [],
   "source": [
    "import pandas as pd\n",
    "import numpy as np\n",
    "from sklearn.linear_model import LinearRegression\n",
    "from sklearn.tree import DecisionTreeRegressor\n",
    "from sklearn.ensemble import RandomForestRegressor\n",
    "\n",
    "from sklearn.model_selection import train_test_split\n",
    "from sklearn.preprocessing import StandardScaler\n",
    "from sklearn.metrics import mean_squared_error\n",
    "from sklearn.metrics import mean_absolute_error\n",
    "from sklearn.metrics import r2_score "
   ]
  },
  {
   "cell_type": "markdown",
   "id": "613ef0ae",
   "metadata": {},
   "source": [
    "#### Подготовка данных\n",
    "Разберём задачу, загрузим данные и изучим признаки.\n",
    "Нагрузка на инфраструктуру авиалиний растёт с каждым годом. Например, в декабре 2018 года международный аэропорт Мумбаи (бывший Бомбей, Индия) установил мировой рекорд: за сутки взлёт и посадку выполнили 1007 самолётов! \n",
    "Задержка рейса вносит беспорядок в работу аэропорта. И приносит убытки ему и авиакомпании.\n",
    "Решая задачу регрессии, обучим модель, которая спрогнозирует задержку рейса в минутах.\n",
    "чёрно-белая иллюстрация: на взлётной полосе тюлень. Девушка читает сообщение, что рейс задержан из-за тюленя.\n",
    "Описание данных\n",
    "Признаки, с которыми будем работать:\n",
    "    \n",
    "Month — месяц авиаперелёта\n",
    "\n",
    "Day — день авиаперелёта\n",
    "\n",
    "Day Of Week — день недели перелёта\n",
    "\n",
    "Airline — название авиакомпани\n",
    "\n",
    "Origin Airport Delay Rate — частота задержек рейсов из аэропорта вылета\n",
    "\n",
    "Destination Airport Delay Rate — частота задержек рейсов в аэропорт прилёта\n",
    "\n",
    "Scheduled Time — запланированное время в пути\n",
    "\n",
    "Distance — дальность полёта\n",
    "\n",
    "Scheduled Departure Hour — запланированное время вылета (час)\n",
    "\n",
    "Scheduled Departure Minute — запланированное время вылета (минута)\n",
    "\n",
    "#### Целевой признак\n",
    "\n",
    "Arrival Delay — задержка прилёта (минуты)"
   ]
  },
  {
   "cell_type": "code",
   "execution_count": 4,
   "id": "e93ad933",
   "metadata": {},
   "outputs": [],
   "source": [
    "# Загрузите данные из файла flights.csv.\n",
    "# Напечатайте на экране:\n",
    "# размер таблицы;\n",
    "# первые пять строк таблицы.\n",
    "# Изучите данные.\n",
    "df = pd.read_csv('flights.csv')"
   ]
  },
  {
   "cell_type": "code",
   "execution_count": 7,
   "id": "08abdd9d",
   "metadata": {},
   "outputs": [
    {
     "data": {
      "text/plain": [
       "(77909, 11)"
      ]
     },
     "execution_count": 7,
     "metadata": {},
     "output_type": "execute_result"
    }
   ],
   "source": [
    "df.shape"
   ]
  },
  {
   "cell_type": "code",
   "execution_count": 8,
   "id": "a7d47c8f",
   "metadata": {},
   "outputs": [
    {
     "data": {
      "text/html": [
       "<div>\n",
       "<style scoped>\n",
       "    .dataframe tbody tr th:only-of-type {\n",
       "        vertical-align: middle;\n",
       "    }\n",
       "\n",
       "    .dataframe tbody tr th {\n",
       "        vertical-align: top;\n",
       "    }\n",
       "\n",
       "    .dataframe thead th {\n",
       "        text-align: right;\n",
       "    }\n",
       "</style>\n",
       "<table border=\"1\" class=\"dataframe\">\n",
       "  <thead>\n",
       "    <tr style=\"text-align: right;\">\n",
       "      <th></th>\n",
       "      <th>Month</th>\n",
       "      <th>Day</th>\n",
       "      <th>Day Of Week</th>\n",
       "      <th>Airline</th>\n",
       "      <th>Origin Airport Delay Rate</th>\n",
       "      <th>Destination Airport Delay Rate</th>\n",
       "      <th>Scheduled Time</th>\n",
       "      <th>Distance</th>\n",
       "      <th>Scheduled Departure Hour</th>\n",
       "      <th>Scheduled Departure Minute</th>\n",
       "      <th>Arrival Delay</th>\n",
       "    </tr>\n",
       "  </thead>\n",
       "  <tbody>\n",
       "    <tr>\n",
       "      <th>0</th>\n",
       "      <td>1</td>\n",
       "      <td>2</td>\n",
       "      <td>5</td>\n",
       "      <td>WN</td>\n",
       "      <td>0.000000</td>\n",
       "      <td>0.000000</td>\n",
       "      <td>225</td>\n",
       "      <td>1390</td>\n",
       "      <td>8</td>\n",
       "      <td>55</td>\n",
       "      <td>-13.0</td>\n",
       "    </tr>\n",
       "    <tr>\n",
       "      <th>1</th>\n",
       "      <td>1</td>\n",
       "      <td>4</td>\n",
       "      <td>7</td>\n",
       "      <td>AA</td>\n",
       "      <td>0.000000</td>\n",
       "      <td>0.590909</td>\n",
       "      <td>172</td>\n",
       "      <td>1096</td>\n",
       "      <td>8</td>\n",
       "      <td>30</td>\n",
       "      <td>-12.0</td>\n",
       "    </tr>\n",
       "    <tr>\n",
       "      <th>2</th>\n",
       "      <td>1</td>\n",
       "      <td>4</td>\n",
       "      <td>7</td>\n",
       "      <td>US</td>\n",
       "      <td>0.000000</td>\n",
       "      <td>0.000000</td>\n",
       "      <td>46</td>\n",
       "      <td>130</td>\n",
       "      <td>0</td>\n",
       "      <td>30</td>\n",
       "      <td>189.0</td>\n",
       "    </tr>\n",
       "    <tr>\n",
       "      <th>3</th>\n",
       "      <td>1</td>\n",
       "      <td>3</td>\n",
       "      <td>6</td>\n",
       "      <td>WN</td>\n",
       "      <td>0.000000</td>\n",
       "      <td>0.000000</td>\n",
       "      <td>160</td>\n",
       "      <td>925</td>\n",
       "      <td>9</td>\n",
       "      <td>25</td>\n",
       "      <td>-7.0</td>\n",
       "    </tr>\n",
       "    <tr>\n",
       "      <th>4</th>\n",
       "      <td>1</td>\n",
       "      <td>5</td>\n",
       "      <td>1</td>\n",
       "      <td>EV</td>\n",
       "      <td>0.633333</td>\n",
       "      <td>0.000000</td>\n",
       "      <td>69</td>\n",
       "      <td>113</td>\n",
       "      <td>5</td>\n",
       "      <td>46</td>\n",
       "      <td>-4.0</td>\n",
       "    </tr>\n",
       "  </tbody>\n",
       "</table>\n",
       "</div>"
      ],
      "text/plain": [
       "   Month  Day  Day Of Week Airline  Origin Airport Delay Rate  \\\n",
       "0      1    2            5      WN                   0.000000   \n",
       "1      1    4            7      AA                   0.000000   \n",
       "2      1    4            7      US                   0.000000   \n",
       "3      1    3            6      WN                   0.000000   \n",
       "4      1    5            1      EV                   0.633333   \n",
       "\n",
       "   Destination Airport Delay Rate  Scheduled Time  Distance  \\\n",
       "0                        0.000000             225      1390   \n",
       "1                        0.590909             172      1096   \n",
       "2                        0.000000              46       130   \n",
       "3                        0.000000             160       925   \n",
       "4                        0.000000              69       113   \n",
       "\n",
       "   Scheduled Departure Hour  Scheduled Departure Minute  Arrival Delay  \n",
       "0                         8                          55          -13.0  \n",
       "1                         8                          30          -12.0  \n",
       "2                         0                          30          189.0  \n",
       "3                         9                          25           -7.0  \n",
       "4                         5                          46           -4.0  "
      ]
     },
     "execution_count": 8,
     "metadata": {},
     "output_type": "execute_result"
    }
   ],
   "source": [
    "df.head(5)"
   ]
  },
  {
   "cell_type": "markdown",
   "id": "8d924220",
   "metadata": {},
   "source": [
    "Преобразуйте категориальный признак техникой OHE. \n",
    "\n",
    "Приведите численные признаки к одному масштабу. \n",
    "\n",
    "Напечатайте на экране размеры таблиц (уже в прекоде)."
   ]
  },
  {
   "cell_type": "code",
   "execution_count": 11,
   "id": "ae1e2361",
   "metadata": {},
   "outputs": [
    {
     "data": {
      "text/plain": [
       "Month                               int64\n",
       "Day                                 int64\n",
       "Day Of Week                         int64\n",
       "Airline                            object\n",
       "Origin Airport Delay Rate         float64\n",
       "Destination Airport Delay Rate    float64\n",
       "Scheduled Time                      int64\n",
       "Distance                            int64\n",
       "Scheduled Departure Hour            int64\n",
       "Scheduled Departure Minute          int64\n",
       "Arrival Delay                     float64\n",
       "dtype: object"
      ]
     },
     "execution_count": 11,
     "metadata": {},
     "output_type": "execute_result"
    }
   ],
   "source": [
    "df.dtypes"
   ]
  },
  {
   "cell_type": "code",
   "execution_count": 12,
   "id": "71617128",
   "metadata": {},
   "outputs": [
    {
     "name": "stdout",
     "output_type": "stream",
     "text": [
      "   AA  EV  US  WN\n",
      "0   0   0   0   1\n",
      "1   1   0   0   0\n",
      "2   0   0   1   0\n",
      "3   0   0   0   1\n",
      "4   0   1   0   0\n"
     ]
    }
   ],
   "source": [
    "print(pd.get_dummies(df['Airline'].head(5)))"
   ]
  },
  {
   "cell_type": "markdown",
   "id": "71166ced",
   "metadata": {},
   "source": [
    "Приведите численные признаки к одному масштабу. Напечатайте на экране размеры таблиц (уже в прекоде)."
   ]
  },
  {
   "cell_type": "code",
   "execution_count": 19,
   "id": "1682c0fb",
   "metadata": {},
   "outputs": [
    {
     "name": "stdout",
     "output_type": "stream",
     "text": [
      "(58431, 22)\n",
      "(19478, 22)\n"
     ]
    },
    {
     "name": "stderr",
     "output_type": "stream",
     "text": [
      "C:\\Users\\radim\\anaconda3\\envs\\ML_STEPIC\\lib\\site-packages\\ipykernel_launcher.py:19: SettingWithCopyWarning: \n",
      "A value is trying to be set on a copy of a slice from a DataFrame.\n",
      "Try using .loc[row_indexer,col_indexer] = value instead\n",
      "\n",
      "See the caveats in the documentation: https://pandas.pydata.org/pandas-docs/stable/user_guide/indexing.html#returning-a-view-versus-a-copy\n",
      "C:\\Users\\radim\\anaconda3\\envs\\ML_STEPIC\\lib\\site-packages\\pandas\\core\\indexing.py:1736: SettingWithCopyWarning: \n",
      "A value is trying to be set on a copy of a slice from a DataFrame.\n",
      "Try using .loc[row_indexer,col_indexer] = value instead\n",
      "\n",
      "See the caveats in the documentation: https://pandas.pydata.org/pandas-docs/stable/user_guide/indexing.html#returning-a-view-versus-a-copy\n",
      "  isetter(loc, value[:, i].tolist())\n"
     ]
    }
   ],
   "source": [
    "#< преобразуйте данные так, чтобы избежать дамми-ловушки >\n",
    "data_ohe = pd.get_dummies(df, drop_first=True)\n",
    " \n",
    " \n",
    "target = data_ohe['Arrival Delay']\n",
    "features = data_ohe.drop(['Arrival Delay'] , axis=1)\n",
    "features_train, features_valid, target_train, target_valid = train_test_split(\n",
    " features, target, test_size=0.25, random_state=12345)\n",
    " \n",
    "    \n",
    "numeric = ['Day', 'Day Of Week', 'Origin Airport Delay Rate',\n",
    "       'Destination Airport Delay Rate', 'Scheduled Time', 'Distance',\n",
    "       'Scheduled Departure Hour', 'Scheduled Departure Minute']\n",
    " \n",
    "scaler = StandardScaler()\n",
    "scaler.fit(features_train[numeric],)\n",
    "\n",
    "# < преобразуйте валидационную выборку >\n",
    "features_valid[numeric] = scaler.transform(features_valid[numeric])\n",
    " \n",
    "print(features_train.shape)\n",
    "print(features_valid.shape)"
   ]
  },
  {
   "cell_type": "raw",
   "id": "1a217ffc",
   "metadata": {},
   "source": [
    "### MSE в задаче регрессии\n",
    "Какая метрика подходит для задачи регрессии? MSE! Обучим модель и проверим её качество.\n",
    "\n",
    "Повторим, как вычисляется MSE (средняя квадратичная ошибка) и RMSE (квадратный корень из средней квадратичной ошибки)."
   ]
  },
  {
   "cell_type": "code",
   "execution_count": 28,
   "id": "5dfefb57",
   "metadata": {},
   "outputs": [],
   "source": [
    "# Загрузите данные из файла /datasets/flights_preprocessed.csv.\n",
    "# Обучите линейную регрессию.\n",
    "# Посчитайте значение MSE на валидационной выборке и сохраните его в переменной mse. \n",
    "# Напечатайте на экране значения MSE и RMSE (уже в прекоде).\n",
    "df = pd.read_csv('flights_preprocessed.csv')"
   ]
  },
  {
   "cell_type": "code",
   "execution_count": 31,
   "id": "d9840c90",
   "metadata": {},
   "outputs": [],
   "source": [
    "X = df.drop('Arrival Delay',axis=1)"
   ]
  },
  {
   "cell_type": "code",
   "execution_count": 33,
   "id": "11dc7835",
   "metadata": {},
   "outputs": [],
   "source": [
    "y = df['Arrival Delay']"
   ]
  },
  {
   "cell_type": "code",
   "execution_count": 35,
   "id": "85b4b03e",
   "metadata": {},
   "outputs": [],
   "source": [
    "X_train,X_test,y_train,y_test = train_test_split(X,y,test_size=0.25,random_state=12345)"
   ]
  },
  {
   "cell_type": "code",
   "execution_count": 39,
   "id": "a3adcc70",
   "metadata": {},
   "outputs": [
    {
     "data": {
      "text/plain": [
       "LinearRegression()"
      ]
     },
     "execution_count": 39,
     "metadata": {},
     "output_type": "execute_result"
    }
   ],
   "source": [
    "model_lr = LinearRegression()\n",
    "model_lr.fit(X_train,y_train)"
   ]
  },
  {
   "cell_type": "code",
   "execution_count": 41,
   "id": "c9572472",
   "metadata": {},
   "outputs": [],
   "source": [
    "pred_test = model_lr.predict(X_test)"
   ]
  },
  {
   "cell_type": "code",
   "execution_count": 42,
   "id": "22f9a996",
   "metadata": {},
   "outputs": [],
   "source": [
    "mse = mean_squared_error(y_test,pred_test)"
   ]
  },
  {
   "cell_type": "code",
   "execution_count": 46,
   "id": "9bb5453b",
   "metadata": {},
   "outputs": [
    {
     "name": "stdout",
     "output_type": "stream",
     "text": [
      "MSE: 2129.8240528555293\n",
      "RMSE: 46.1500168240005\n"
     ]
    }
   ],
   "source": [
    "print(f'MSE: {mse}')\n",
    "print(f'RMSE: {mse**0.5}')"
   ]
  },
  {
   "cell_type": "code",
   "execution_count": 47,
   "id": "83186c61",
   "metadata": {},
   "outputs": [],
   "source": [
    "# Вычислите MSE и RMSE для константной модели: каждому объекту она прогнозирует среднее значение целевого признака.\n",
    "# Сохраните её предсказания в переменной predicted_valid. \n",
    "# Напечатайте на экране значения MSE и RMSE (уже в прекоде)\n",
    "predicted_valid = pd.Series(y_train.mean(), index=y_test.index)\n",
    "mse = mean_squared_error(y_test,predicted_valid ) "
   ]
  },
  {
   "cell_type": "code",
   "execution_count": 50,
   "id": "b0db8a82",
   "metadata": {},
   "outputs": [
    {
     "name": "stdout",
     "output_type": "stream",
     "text": [
      "Mean\n",
      "MSE = 2358.8874869200226\n",
      "RMSE = 48.568379496540985\n"
     ]
    }
   ],
   "source": [
    "print(\"Mean\")\n",
    "print(f\"MSE = {mse}\")\n",
    "print(f\"RMSE = {mse ** 0.5}\")"
   ]
  },
  {
   "cell_type": "markdown",
   "id": "cdda0729",
   "metadata": {},
   "source": [
    "### Коэффициент детерминации\n",
    "Чтобы не пришлось всё время сравнивать модель со средним, введём новую метрику. Она выражена не в абсолютных значениях, а в относительных.\n",
    "Коэффициент детерминации, или метрика R2 (англ. coefficient of determination; R-squared), вычисляет долю средней квадратичной ошибки модели от MSE среднего, а затем вычитает эту величину из единицы.\n",
    "#### Увеличение метрики означает прирост качества модели. \n",
    "Формула расчёта R2 выглядит так:\n",
    "\n",
    "R2 = 1 - MSE модели / MSE среднего\n",
    "\n",
    "Значение метрики R2 равно единице только в одном случае, если MSE нулевое. \n",
    "Такая модель предсказывает все ответы идеально.\n",
    "\n",
    "R2 равно нулю: модель работает так же, как и среднее.\n",
    "\n",
    "Если метрика R2 отрицательна, качество модели очень низкое.\n",
    "#### Значения R2 больше единицы быть не может."
   ]
  },
  {
   "cell_type": "code",
   "execution_count": 57,
   "id": "43e58a66",
   "metadata": {},
   "outputs": [],
   "source": [
    "# Вычислите для линейной регрессии значение R2.\n",
    "# Найдите в документации sklearn.metrics функцию для подсчёта этой метрики. \n",
    "# Импортируйте её. \n",
    "# Напечатайте результат на экране (уже в прекоде).\n",
    "# from sklearn.metrics import r2_score \n",
    "df_r2 = pd.read_csv('flights_preprocessed.csv')"
   ]
  },
  {
   "cell_type": "code",
   "execution_count": 59,
   "id": "03cac7cf",
   "metadata": {},
   "outputs": [],
   "source": [
    "X = df_r2.drop('Arrival Delay',axis=1)\n",
    "y = df_r2['Arrival Delay']"
   ]
  },
  {
   "cell_type": "code",
   "execution_count": 60,
   "id": "f141ee39",
   "metadata": {},
   "outputs": [],
   "source": [
    "X_train,X_test,y_train,y_test = train_test_split(X,y,test_size=0.25,random_state=32)"
   ]
  },
  {
   "cell_type": "code",
   "execution_count": 62,
   "id": "c9fe9722",
   "metadata": {},
   "outputs": [
    {
     "data": {
      "text/plain": [
       "LinearRegression()"
      ]
     },
     "execution_count": 62,
     "metadata": {},
     "output_type": "execute_result"
    }
   ],
   "source": [
    "model = LinearRegression()\n",
    "model.fit(X_train,y_train)"
   ]
  },
  {
   "cell_type": "code",
   "execution_count": 63,
   "id": "a801d86b",
   "metadata": {},
   "outputs": [],
   "source": [
    "predicted_valid = model.predict(X_test)"
   ]
  },
  {
   "cell_type": "code",
   "execution_count": 93,
   "id": "fbccdc23",
   "metadata": {},
   "outputs": [
    {
     "name": "stdout",
     "output_type": "stream",
     "text": [
      "R2=0.09961145060220278\n"
     ]
    }
   ],
   "source": [
    "print(f'R2={r2_score(y_test,predicted_valid)}')"
   ]
  },
  {
   "cell_type": "markdown",
   "id": "025302f5",
   "metadata": {},
   "source": [
    "#### Вы найдёте модель с наибольшим значением R2. \n",
    "\n",
    "Поэкспериментируйте в Jupyter Notebook и доведите эту метрику до 0.14.  "
   ]
  },
  {
   "cell_type": "code",
   "execution_count": 72,
   "id": "5292ca80",
   "metadata": {},
   "outputs": [],
   "source": [
    "data = pd.read_csv('flights_preprocessed.csv')\n",
    "\n",
    "target = data['Arrival Delay']\n",
    "features = data.drop(['Arrival Delay'] , axis=1)\n",
    "features_train, features_valid, target_train, target_valid = train_test_split(\n",
    "    features, target, test_size=0.25, random_state=34)"
   ]
  },
  {
   "cell_type": "code",
   "execution_count": 73,
   "id": "a5d36d9b",
   "metadata": {},
   "outputs": [
    {
     "name": "stdout",
     "output_type": "stream",
     "text": [
      "0.10231294291475224\n"
     ]
    }
   ],
   "source": [
    "model = LinearRegression()\n",
    "model.fit(features_train, target_train)\n",
    "print(model.score(features_valid, target_valid))"
   ]
  },
  {
   "cell_type": "code",
   "execution_count": 85,
   "id": "68a7bc27",
   "metadata": {},
   "outputs": [
    {
     "name": "stdout",
     "output_type": "stream",
     "text": [
      "Accuracy наилучшей модели на валидационной выборке: 0.17518341571423668 Количество деревьев 11\n",
      "Wall time: 24min 29s\n"
     ]
    }
   ],
   "source": [
    "%%time\n",
    "\n",
    "best_model = None\n",
    "best_result = 0\n",
    "for depth in range(1,16,1):\n",
    "    model = RandomForestRegressor(n_estimators=30, max_depth=depth,random_state=34)\n",
    "    model.fit(features_train,target_train)\n",
    "    result = model.score(features_valid,target_valid)\n",
    "    if result>best_result:\n",
    "        best_model = model\n",
    "        best_result = result\n",
    "        depth_model = depth\n",
    "print(f\"Accuracy наилучшей модели на валидационной выборке: {best_result}\",\\\n",
    "      f'Количество деревьев {depth_model}')"
   ]
  },
  {
   "cell_type": "code",
   "execution_count": 86,
   "id": "95d6e456",
   "metadata": {},
   "outputs": [
    {
     "name": "stdout",
     "output_type": "stream",
     "text": [
      "0.393672671430619\n",
      "0.16919868955541173\n",
      "Wall time: 11.9 s\n"
     ]
    }
   ],
   "source": [
    "%%time\n",
    "\n",
    "model = RandomForestRegressor(n_estimators=60, max_depth= 11, random_state=12345)\n",
    "model.fit(features_train, target_train)\n",
    "print(model.score(features_train, target_train))\n",
    "print(model.score(features_valid, target_valid))\n"
   ]
  },
  {
   "cell_type": "markdown",
   "id": "097ae476",
   "metadata": {},
   "source": [
    "### Максимизация R2: проверка наилучшей модели\n",
    "Вы подобрали наилучшую модель. Пришло время проверить её качество на тестовых данных."
   ]
  },
  {
   "cell_type": "markdown",
   "id": "4084ad94",
   "metadata": {},
   "source": [
    "Разбейте данные на обучающую и валидационную выборки.\n",
    "Инициализируйте модель с гиперпараметрами, которые дали наилучшее значение R2 в прошлом уроке.\n",
    "Обучите модель на обучающей выборке.\n",
    "На валидационной выборке посчитайте значение R2.\n",
    "Если на тестовой выборке значение R2 получилось меньше 0.14,\n",
    "вернитесь в прошлый урок и попробуйте другие параметры RandomForestRegressor().\n",
    "Или подсмотрите гиперпараметры в подсказке."
   ]
  },
  {
   "cell_type": "code",
   "execution_count": 91,
   "id": "ad025312",
   "metadata": {},
   "outputs": [
    {
     "name": "stdout",
     "output_type": "stream",
     "text": [
      "Наилучшая модель\n",
      "R2 на обучающей выборке:  0.393672671430619\n",
      "R2 на валидационной выборке:  0.16919868955541173\n"
     ]
    }
   ],
   "source": [
    "print(\"Наилучшая модель\")\n",
    " # найдите значение метрики R2 на обучающей выборке\n",
    "print(\"R2 на обучающей выборке: \", model.score(features_train, target_train))\n",
    "# найдите значение метрики R2 на валидационной выборке\n",
    "print(\"R2 на валидационной выборке: \", model.score(features_valid, target_valid)) "
   ]
  },
  {
   "cell_type": "markdown",
   "id": "d6014b38",
   "metadata": {},
   "source": [
    "### Среднее абсолютное отклонение\n",
    "Познакомимся с новой метрикой качества — MAE (англ. mean absolute error). Она похожа на MSE, но в ней нет возведения в квадрат."
   ]
  },
  {
   "cell_type": "markdown",
   "id": "c4b0f803",
   "metadata": {},
   "source": [
    "Напишите функцию mae() на основе формулы. На вход она принимает правильные ответы и предсказания. \n",
    "Возвращает значение среднего абсолютного отклонения. \n",
    "Обратите внимание: в Python модуль от числа вычисляется функцией abs() (от англ. absolute, «абсолютный»).\n",
    "Проверьте работу функции на примере в прекоде. Напечатайте результат на экране."
   ]
  },
  {
   "cell_type": "code",
   "execution_count": 102,
   "id": "0bc3c4a6",
   "metadata": {},
   "outputs": [
    {
     "name": "stdout",
     "output_type": "stream",
     "text": [
      "0.17500000000000004\n",
      "Wall time: 1 ms\n"
     ]
    }
   ],
   "source": [
    "%%time\n",
    "def my_mae(y,y_pred):\n",
    "    return sum([abs(y[i]-y_pred[i]) for i in range(len(y))])/len(y)\n",
    "    \n",
    "    \n",
    "target = pd.Series([-0.5, 2.1, 1.5, 0.3])\n",
    "predictions = pd.Series([-0.6, 1.7, 1.6, 0.2])\n",
    "\n",
    "print(my_mae(target,predictions))"
   ]
  },
  {
   "cell_type": "code",
   "execution_count": 113,
   "id": "2e77fe58",
   "metadata": {},
   "outputs": [
    {
     "name": "stdout",
     "output_type": "stream",
     "text": [
      "0.17500000000000004\n",
      "Wall time: 2 ms\n"
     ]
    }
   ],
   "source": [
    "%%time\n",
    "\n",
    "def mae(target, predictions):\n",
    "    # < напишите код здесь >\n",
    "    mae = 1/len(target)*(abs(target-predictions)).sum()\n",
    "    return mae\n",
    "\n",
    "target = pd.Series([-0.5, 2.1, 1.5, 0.3])\n",
    "predictions = pd.Series([-0.6, 1.7, 1.6, 0.2])\n",
    "\n",
    "print(mae(target, predictions))\n",
    "\n"
   ]
  },
  {
   "cell_type": "markdown",
   "id": "6ebd3227",
   "metadata": {},
   "source": [
    "Посчитайте среднее абсолютное отклонение для линейной регрессии. \n",
    "Найдите функцию расчёта MAE в документации sklearn. Импортируйте её. Напечатайте значение на экране."
   ]
  },
  {
   "cell_type": "code",
   "execution_count": 123,
   "id": "14514822",
   "metadata": {},
   "outputs": [],
   "source": [
    "#from sklearn.metrics import mean_absolute_error\n",
    "df = pd.read_csv('flights_preprocessed.csv')"
   ]
  },
  {
   "cell_type": "code",
   "execution_count": 116,
   "id": "34f2f8a2",
   "metadata": {},
   "outputs": [],
   "source": [
    "y = df['Arrival Delay']\n",
    "X = df.drop('Arrival Delay',axis=1)"
   ]
  },
  {
   "cell_type": "code",
   "execution_count": 117,
   "id": "09af4562",
   "metadata": {},
   "outputs": [],
   "source": [
    "X_train,X_test,y_train,y_test = train_test_split(X,y,test_size=0.25,random_state=42)"
   ]
  },
  {
   "cell_type": "code",
   "execution_count": 119,
   "id": "4b5a6809",
   "metadata": {},
   "outputs": [],
   "source": [
    "model_lr = LinearRegression()\n",
    "model_lr.fit(X_train,y_train)\n",
    "predicted_valid = model_lr.predict(X_test)"
   ]
  },
  {
   "cell_type": "code",
   "execution_count": 127,
   "id": "9d458c3f",
   "metadata": {},
   "outputs": [
    {
     "name": "stdout",
     "output_type": "stream",
     "text": [
      "27.731301820950662\n"
     ]
    }
   ],
   "source": [
    "print( mean_absolute_error(y_test,predicted_valid))"
   ]
  },
  {
   "cell_type": "markdown",
   "id": "0706e631",
   "metadata": {},
   "source": [
    "### Интерпретация MAE\n",
    "Чтобы рассчитать MSE, за константу мы принимали среднее значение. \n",
    "Но подойдёт ли оно для вычисления MAE? Разберёмся.\n",
    "\n",
    "Константная модель выбирается так, чтобы значение метрики MAE было предельно низким.\n",
    "Нужно найти такое значение a, при котором достигается минимум\n",
    "\n",
    "Минимум получается, когда a равно медиане целевого признака"
   ]
  },
  {
   "cell_type": "code",
   "execution_count": 129,
   "id": "ed8c2d07",
   "metadata": {},
   "outputs": [
    {
     "name": "stdout",
     "output_type": "stream",
     "text": [
      "Linear Regression\n",
      "27.731301820950662\n",
      "\n"
     ]
    }
   ],
   "source": [
    "# Вычислите значение метрики MAE для медианы целевого признака.\n",
    "# Расчёт MAE линейной регрессии есть в прекоде. Сравните значения.\n",
    "# Напечатайте результат на экране.\n",
    "print(\"Linear Regression\")\n",
    "print(mean_absolute_error(y_test, predicted_valid))\n",
    "print()"
   ]
  },
  {
   "cell_type": "code",
   "execution_count": 131,
   "id": "7a007b0b",
   "metadata": {},
   "outputs": [
    {
     "name": "stdout",
     "output_type": "stream",
     "text": [
      "Median\n",
      "27.39829551288633\n"
     ]
    }
   ],
   "source": [
    "predicted_valid = pd.Series(y_train.median(), index=y_test.index)   # < напишите код здесь >\n",
    "print(\"Median\")\n",
    "print(mean_absolute_error(y_test, predicted_valid))"
   ]
  },
  {
   "cell_type": "code",
   "execution_count": null,
   "id": "fd65e0ed",
   "metadata": {},
   "outputs": [],
   "source": []
  }
 ],
 "metadata": {
  "kernelspec": {
   "display_name": "Python 3 (ipykernel)",
   "language": "python",
   "name": "python3"
  },
  "language_info": {
   "codemirror_mode": {
    "name": "ipython",
    "version": 3
   },
   "file_extension": ".py",
   "mimetype": "text/x-python",
   "name": "python",
   "nbconvert_exporter": "python",
   "pygments_lexer": "ipython3",
   "version": "3.7.16"
  }
 },
 "nbformat": 4,
 "nbformat_minor": 5
}
