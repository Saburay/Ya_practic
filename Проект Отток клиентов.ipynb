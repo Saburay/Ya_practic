{
 "cells": [
  {
   "cell_type": "markdown",
   "id": "2048ec54",
   "metadata": {},
   "source": [
    "Из «Бета-Банка» стали уходить клиенты. Каждый месяц. Немного, но заметно. Банковские маркетологи посчитали: сохранять текущих клиентов дешевле, чем привлекать новых.\n",
    "Нужно спрогнозировать, уйдёт клиент из банка в ближайшее время или нет. Вам предоставлены исторические данные о поведении клиентов и расторжении договоров с банком. \n",
    "Постройте модель с предельно большим значением F1-меры. Чтобы сдать проект успешно, нужно довести метрику до 0.59. Проверьте F1-меру на тестовой выборке самостоятельно.\n",
    "Дополнительно измеряйте AUC-ROC, сравнивайте её значение с F1-мерой.\n",
    "\n",
    "Описание данных\n",
    "Данные находятся в файле /datasets/Churn.csv (англ. «отток клиентов»). Скачать датасет\n",
    "Признаки\n",
    "RowNumber — индекс строки в данных\n",
    "CustomerId — уникальный идентификатор клиента\n",
    "Surname — фамилия\n",
    "CreditScore — кредитный рейтинг\n",
    "Geography — страна проживания\n",
    "Gender — пол\n",
    "Age — возраст\n",
    "Tenure — сколько лет человек является клиентом банка\n",
    "Balance — баланс на счёте\n",
    "NumOfProducts — количество продуктов банка, используемых клиентом\n",
    "HasCrCard — наличие кредитной карты\n",
    "IsActiveMember — активность клиента\n",
    "EstimatedSalary — предполагаемая зарплата\n",
    "Целевой признак\n",
    "Exited — факт ухода клиента"
   ]
  },
  {
   "cell_type": "markdown",
   "id": "af2e08d4",
   "metadata": {},
   "source": [
    "Загрузите и подготовьте данные. Поясните порядок действий.\n",
    "Исследуйте баланс классов, обучите модель без учёта дисбаланса. Кратко опишите выводы.\n",
    "Улучшите качество модели, учитывая дисбаланс классов. Обучите разные модели и найдите лучшую. Кратко опишите выводы.\n",
    "Проведите финальное тестирование."
   ]
  },
  {
   "cell_type": "code",
   "execution_count": 2,
   "id": "753b3d59",
   "metadata": {},
   "outputs": [],
   "source": [
    "import pandas as pd\n",
    "import seaborn as sns\n",
    "import numpy as np\n",
    "import matplotlib.pyplot as plt\n",
    "\n",
    "from sklearn import tree\n",
    "from sklearn.utils import shuffle\n",
    "from sklearn.preprocessing import OneHotEncoder, LabelEncoder\n",
    "from sklearn.metrics import accuracy_score, f1_score, recall_score, precision_score, roc_auc_score, roc_curve,\\\n",
    "                            confusion_matrix, mean_absolute_error\n",
    "from sklearn.preprocessing import StandardScaler \n",
    "from sklearn.model_selection import train_test_split\n",
    "from sklearn.linear_model import LogisticRegression\n",
    "from sklearn.tree import DecisionTreeClassifier\n",
    "from sklearn.ensemble import RandomForestClassifier"
   ]
  },
  {
   "cell_type": "code",
   "execution_count": 20,
   "id": "c11df111",
   "metadata": {},
   "outputs": [],
   "source": [
    "try:\n",
    "    df = pd.read_csv('/datasets/Churn.csv')\n",
    "except:\n",
    "    df = pd.read_csv('Churn.csv') "
   ]
  },
  {
   "cell_type": "code",
   "execution_count": 13,
   "id": "a4acb825",
   "metadata": {},
   "outputs": [
    {
     "data": {
      "text/html": [
       "<div>\n",
       "<style scoped>\n",
       "    .dataframe tbody tr th:only-of-type {\n",
       "        vertical-align: middle;\n",
       "    }\n",
       "\n",
       "    .dataframe tbody tr th {\n",
       "        vertical-align: top;\n",
       "    }\n",
       "\n",
       "    .dataframe thead th {\n",
       "        text-align: right;\n",
       "    }\n",
       "</style>\n",
       "<table border=\"1\" class=\"dataframe\">\n",
       "  <thead>\n",
       "    <tr style=\"text-align: right;\">\n",
       "      <th></th>\n",
       "      <th>RowNumber</th>\n",
       "      <th>CustomerId</th>\n",
       "      <th>Surname</th>\n",
       "      <th>CreditScore</th>\n",
       "      <th>Geography</th>\n",
       "      <th>Gender</th>\n",
       "      <th>Age</th>\n",
       "      <th>Tenure</th>\n",
       "      <th>Balance</th>\n",
       "      <th>NumOfProducts</th>\n",
       "      <th>HasCrCard</th>\n",
       "      <th>IsActiveMember</th>\n",
       "      <th>EstimatedSalary</th>\n",
       "      <th>Exited</th>\n",
       "    </tr>\n",
       "  </thead>\n",
       "  <tbody>\n",
       "    <tr>\n",
       "      <th>0</th>\n",
       "      <td>1</td>\n",
       "      <td>15634602</td>\n",
       "      <td>Hargrave</td>\n",
       "      <td>619</td>\n",
       "      <td>France</td>\n",
       "      <td>Female</td>\n",
       "      <td>42</td>\n",
       "      <td>2</td>\n",
       "      <td>0.00</td>\n",
       "      <td>1</td>\n",
       "      <td>1</td>\n",
       "      <td>1</td>\n",
       "      <td>101348.88</td>\n",
       "      <td>1</td>\n",
       "    </tr>\n",
       "    <tr>\n",
       "      <th>1</th>\n",
       "      <td>2</td>\n",
       "      <td>15647311</td>\n",
       "      <td>Hill</td>\n",
       "      <td>608</td>\n",
       "      <td>Spain</td>\n",
       "      <td>Female</td>\n",
       "      <td>41</td>\n",
       "      <td>1</td>\n",
       "      <td>83807.86</td>\n",
       "      <td>1</td>\n",
       "      <td>0</td>\n",
       "      <td>1</td>\n",
       "      <td>112542.58</td>\n",
       "      <td>0</td>\n",
       "    </tr>\n",
       "    <tr>\n",
       "      <th>2</th>\n",
       "      <td>3</td>\n",
       "      <td>15619304</td>\n",
       "      <td>Onio</td>\n",
       "      <td>502</td>\n",
       "      <td>France</td>\n",
       "      <td>Female</td>\n",
       "      <td>42</td>\n",
       "      <td>8</td>\n",
       "      <td>159660.80</td>\n",
       "      <td>3</td>\n",
       "      <td>1</td>\n",
       "      <td>0</td>\n",
       "      <td>113931.57</td>\n",
       "      <td>1</td>\n",
       "    </tr>\n",
       "    <tr>\n",
       "      <th>3</th>\n",
       "      <td>4</td>\n",
       "      <td>15701354</td>\n",
       "      <td>Boni</td>\n",
       "      <td>699</td>\n",
       "      <td>France</td>\n",
       "      <td>Female</td>\n",
       "      <td>39</td>\n",
       "      <td>1</td>\n",
       "      <td>0.00</td>\n",
       "      <td>2</td>\n",
       "      <td>0</td>\n",
       "      <td>0</td>\n",
       "      <td>93826.63</td>\n",
       "      <td>0</td>\n",
       "    </tr>\n",
       "    <tr>\n",
       "      <th>4</th>\n",
       "      <td>5</td>\n",
       "      <td>15737888</td>\n",
       "      <td>Mitchell</td>\n",
       "      <td>850</td>\n",
       "      <td>Spain</td>\n",
       "      <td>Female</td>\n",
       "      <td>43</td>\n",
       "      <td>2</td>\n",
       "      <td>125510.82</td>\n",
       "      <td>1</td>\n",
       "      <td>1</td>\n",
       "      <td>1</td>\n",
       "      <td>79084.10</td>\n",
       "      <td>0</td>\n",
       "    </tr>\n",
       "  </tbody>\n",
       "</table>\n",
       "</div>"
      ],
      "text/plain": [
       "   RowNumber  CustomerId   Surname  CreditScore Geography  Gender  Age  \\\n",
       "0          1    15634602  Hargrave          619    France  Female   42   \n",
       "1          2    15647311      Hill          608     Spain  Female   41   \n",
       "2          3    15619304      Onio          502    France  Female   42   \n",
       "3          4    15701354      Boni          699    France  Female   39   \n",
       "4          5    15737888  Mitchell          850     Spain  Female   43   \n",
       "\n",
       "   Tenure    Balance  NumOfProducts  HasCrCard  IsActiveMember  \\\n",
       "0       2       0.00              1          1               1   \n",
       "1       1   83807.86              1          0               1   \n",
       "2       8  159660.80              3          1               0   \n",
       "3       1       0.00              2          0               0   \n",
       "4       2  125510.82              1          1               1   \n",
       "\n",
       "   EstimatedSalary  Exited  \n",
       "0        101348.88       1  \n",
       "1        112542.58       0  \n",
       "2        113931.57       1  \n",
       "3         93826.63       0  \n",
       "4         79084.10       0  "
      ]
     },
     "execution_count": 13,
     "metadata": {},
     "output_type": "execute_result"
    }
   ],
   "source": [
    "df.head()"
   ]
  },
  {
   "cell_type": "code",
   "execution_count": 14,
   "id": "2ad086f9",
   "metadata": {},
   "outputs": [
    {
     "data": {
      "text/plain": [
       "(10000, 14)"
      ]
     },
     "execution_count": 14,
     "metadata": {},
     "output_type": "execute_result"
    }
   ],
   "source": [
    "df.shape"
   ]
  },
  {
   "cell_type": "code",
   "execution_count": 15,
   "id": "f4ce2a53",
   "metadata": {},
   "outputs": [
    {
     "name": "stdout",
     "output_type": "stream",
     "text": [
      "<class 'pandas.core.frame.DataFrame'>\n",
      "RangeIndex: 10000 entries, 0 to 9999\n",
      "Data columns (total 14 columns):\n",
      " #   Column           Non-Null Count  Dtype  \n",
      "---  ------           --------------  -----  \n",
      " 0   RowNumber        10000 non-null  int64  \n",
      " 1   CustomerId       10000 non-null  int64  \n",
      " 2   Surname          10000 non-null  object \n",
      " 3   CreditScore      10000 non-null  int64  \n",
      " 4   Geography        10000 non-null  object \n",
      " 5   Gender           10000 non-null  object \n",
      " 6   Age              10000 non-null  int64  \n",
      " 7   Tenure           10000 non-null  int64  \n",
      " 8   Balance          10000 non-null  float64\n",
      " 9   NumOfProducts    10000 non-null  int64  \n",
      " 10  HasCrCard        10000 non-null  int64  \n",
      " 11  IsActiveMember   10000 non-null  int64  \n",
      " 12  EstimatedSalary  10000 non-null  float64\n",
      " 13  Exited           10000 non-null  int64  \n",
      "dtypes: float64(2), int64(9), object(3)\n",
      "memory usage: 1.1+ MB\n"
     ]
    }
   ],
   "source": [
    "df.info()"
   ]
  },
  {
   "cell_type": "markdown",
   "id": "531acde8",
   "metadata": {},
   "source": [
    "**Названия столбцов:**\n",
    " - RowNumber — индекс строки в данных\n",
    " - CustomerId — уникальный идентификатор клиента\n",
    " - Surname — фамилия\n",
    " - CreditScore — кредитный рейтинг\n",
    " - Geography — страна проживания\n",
    " - Gender — пол\n",
    " - Age — возраст\n",
    " - Tenure — сколько лет человек является клиентом банка\n",
    " - Balance — баланс на счёте\n",
    " - NumOfProducts — количество продуктов банка, используемых клиентом\n",
    " - HasCrCard — наличие кредитной карты\n",
    " - IsActiveMember — активность клиента\n",
    " - EstimatedSalary — предполагаемая зарплата\n",
    " - Exited — факт ухода клиента"
   ]
  },
  {
   "cell_type": "code",
   "execution_count": 16,
   "id": "ae2390a8",
   "metadata": {},
   "outputs": [
    {
     "data": {
      "text/html": [
       "<style  type=\"text/css\" >\n",
       "#T_2d0beb74_0382_11ee_bf3d_e82aea9cd7b7row0_col0,#T_2d0beb74_0382_11ee_bf3d_e82aea9cd7b7row1_col0,#T_2d0beb74_0382_11ee_bf3d_e82aea9cd7b7row2_col0,#T_2d0beb74_0382_11ee_bf3d_e82aea9cd7b7row3_col0,#T_2d0beb74_0382_11ee_bf3d_e82aea9cd7b7row4_col0,#T_2d0beb74_0382_11ee_bf3d_e82aea9cd7b7row5_col0,#T_2d0beb74_0382_11ee_bf3d_e82aea9cd7b7row6_col0,#T_2d0beb74_0382_11ee_bf3d_e82aea9cd7b7row7_col0,#T_2d0beb74_0382_11ee_bf3d_e82aea9cd7b7row8_col0,#T_2d0beb74_0382_11ee_bf3d_e82aea9cd7b7row9_col0,#T_2d0beb74_0382_11ee_bf3d_e82aea9cd7b7row10_col0,#T_2d0beb74_0382_11ee_bf3d_e82aea9cd7b7row11_col0,#T_2d0beb74_0382_11ee_bf3d_e82aea9cd7b7row12_col0,#T_2d0beb74_0382_11ee_bf3d_e82aea9cd7b7row13_col0{\n",
       "            background-color:  #3b4cc0;\n",
       "            color:  #f1f1f1;\n",
       "        }</style><table id=\"T_2d0beb74_0382_11ee_bf3d_e82aea9cd7b7\" ><thead>    <tr>        <th class=\"blank level0\" ></th>        <th class=\"col_heading level0 col0\" >0</th>    </tr></thead><tbody>\n",
       "                <tr>\n",
       "                        <th id=\"T_2d0beb74_0382_11ee_bf3d_e82aea9cd7b7level0_row0\" class=\"row_heading level0 row0\" >RowNumber</th>\n",
       "                        <td id=\"T_2d0beb74_0382_11ee_bf3d_e82aea9cd7b7row0_col0\" class=\"data row0 col0\" >0.000000</td>\n",
       "            </tr>\n",
       "            <tr>\n",
       "                        <th id=\"T_2d0beb74_0382_11ee_bf3d_e82aea9cd7b7level0_row1\" class=\"row_heading level0 row1\" >CustomerId</th>\n",
       "                        <td id=\"T_2d0beb74_0382_11ee_bf3d_e82aea9cd7b7row1_col0\" class=\"data row1 col0\" >0.000000</td>\n",
       "            </tr>\n",
       "            <tr>\n",
       "                        <th id=\"T_2d0beb74_0382_11ee_bf3d_e82aea9cd7b7level0_row2\" class=\"row_heading level0 row2\" >Surname</th>\n",
       "                        <td id=\"T_2d0beb74_0382_11ee_bf3d_e82aea9cd7b7row2_col0\" class=\"data row2 col0\" >0.000000</td>\n",
       "            </tr>\n",
       "            <tr>\n",
       "                        <th id=\"T_2d0beb74_0382_11ee_bf3d_e82aea9cd7b7level0_row3\" class=\"row_heading level0 row3\" >CreditScore</th>\n",
       "                        <td id=\"T_2d0beb74_0382_11ee_bf3d_e82aea9cd7b7row3_col0\" class=\"data row3 col0\" >0.000000</td>\n",
       "            </tr>\n",
       "            <tr>\n",
       "                        <th id=\"T_2d0beb74_0382_11ee_bf3d_e82aea9cd7b7level0_row4\" class=\"row_heading level0 row4\" >Geography</th>\n",
       "                        <td id=\"T_2d0beb74_0382_11ee_bf3d_e82aea9cd7b7row4_col0\" class=\"data row4 col0\" >0.000000</td>\n",
       "            </tr>\n",
       "            <tr>\n",
       "                        <th id=\"T_2d0beb74_0382_11ee_bf3d_e82aea9cd7b7level0_row5\" class=\"row_heading level0 row5\" >Gender</th>\n",
       "                        <td id=\"T_2d0beb74_0382_11ee_bf3d_e82aea9cd7b7row5_col0\" class=\"data row5 col0\" >0.000000</td>\n",
       "            </tr>\n",
       "            <tr>\n",
       "                        <th id=\"T_2d0beb74_0382_11ee_bf3d_e82aea9cd7b7level0_row6\" class=\"row_heading level0 row6\" >Age</th>\n",
       "                        <td id=\"T_2d0beb74_0382_11ee_bf3d_e82aea9cd7b7row6_col0\" class=\"data row6 col0\" >0.000000</td>\n",
       "            </tr>\n",
       "            <tr>\n",
       "                        <th id=\"T_2d0beb74_0382_11ee_bf3d_e82aea9cd7b7level0_row7\" class=\"row_heading level0 row7\" >Tenure</th>\n",
       "                        <td id=\"T_2d0beb74_0382_11ee_bf3d_e82aea9cd7b7row7_col0\" class=\"data row7 col0\" >0.000000</td>\n",
       "            </tr>\n",
       "            <tr>\n",
       "                        <th id=\"T_2d0beb74_0382_11ee_bf3d_e82aea9cd7b7level0_row8\" class=\"row_heading level0 row8\" >Balance</th>\n",
       "                        <td id=\"T_2d0beb74_0382_11ee_bf3d_e82aea9cd7b7row8_col0\" class=\"data row8 col0\" >0.000000</td>\n",
       "            </tr>\n",
       "            <tr>\n",
       "                        <th id=\"T_2d0beb74_0382_11ee_bf3d_e82aea9cd7b7level0_row9\" class=\"row_heading level0 row9\" >NumOfProducts</th>\n",
       "                        <td id=\"T_2d0beb74_0382_11ee_bf3d_e82aea9cd7b7row9_col0\" class=\"data row9 col0\" >0.000000</td>\n",
       "            </tr>\n",
       "            <tr>\n",
       "                        <th id=\"T_2d0beb74_0382_11ee_bf3d_e82aea9cd7b7level0_row10\" class=\"row_heading level0 row10\" >HasCrCard</th>\n",
       "                        <td id=\"T_2d0beb74_0382_11ee_bf3d_e82aea9cd7b7row10_col0\" class=\"data row10 col0\" >0.000000</td>\n",
       "            </tr>\n",
       "            <tr>\n",
       "                        <th id=\"T_2d0beb74_0382_11ee_bf3d_e82aea9cd7b7level0_row11\" class=\"row_heading level0 row11\" >IsActiveMember</th>\n",
       "                        <td id=\"T_2d0beb74_0382_11ee_bf3d_e82aea9cd7b7row11_col0\" class=\"data row11 col0\" >0.000000</td>\n",
       "            </tr>\n",
       "            <tr>\n",
       "                        <th id=\"T_2d0beb74_0382_11ee_bf3d_e82aea9cd7b7level0_row12\" class=\"row_heading level0 row12\" >EstimatedSalary</th>\n",
       "                        <td id=\"T_2d0beb74_0382_11ee_bf3d_e82aea9cd7b7row12_col0\" class=\"data row12 col0\" >0.000000</td>\n",
       "            </tr>\n",
       "            <tr>\n",
       "                        <th id=\"T_2d0beb74_0382_11ee_bf3d_e82aea9cd7b7level0_row13\" class=\"row_heading level0 row13\" >Exited</th>\n",
       "                        <td id=\"T_2d0beb74_0382_11ee_bf3d_e82aea9cd7b7row13_col0\" class=\"data row13 col0\" >0.000000</td>\n",
       "            </tr>\n",
       "    </tbody></table>"
      ],
      "text/plain": [
       "<pandas.io.formats.style.Styler at 0x243eb19d7c8>"
      ]
     },
     "execution_count": 16,
     "metadata": {},
     "output_type": "execute_result"
    }
   ],
   "source": [
    "#Теперь посмотрим на пропуски,используя  градиент:\n",
    "pd.DataFrame(round(df.isna().mean()*100,1)).style.background_gradient('coolwarm')"
   ]
  },
  {
   "cell_type": "markdown",
   "id": "edc05648",
   "metadata": {},
   "source": []
  },
  {
   "cell_type": "code",
   "execution_count": 21,
   "id": "48706b5a",
   "metadata": {},
   "outputs": [],
   "source": []
  },
  {
   "cell_type": "code",
   "execution_count": 25,
   "id": "df0e78c9",
   "metadata": {},
   "outputs": [
    {
     "data": {
      "text/plain": [
       "Index(['CreditScore', 'Geography', 'Gender', 'Age', 'Tenure', 'Balance',\n",
       "       'NumOfProducts', 'HasCrCard', 'IsActiveMember', 'EstimatedSalary',\n",
       "       'Exited'],\n",
       "      dtype='object')"
      ]
     },
     "execution_count": 25,
     "metadata": {},
     "output_type": "execute_result"
    }
   ],
   "source": [
    "#correctness of column names\n",
    "df.columns"
   ]
  },
  {
   "cell_type": "code",
   "execution_count": 26,
   "id": "157befac",
   "metadata": {},
   "outputs": [
    {
     "name": "stdout",
     "output_type": "stream",
     "text": [
      "Count duplicated: 0\n"
     ]
    }
   ],
   "source": [
    "print(f'Count duplicated: {df.duplicated().sum()}')"
   ]
  },
  {
   "cell_type": "markdown",
   "id": "d44a5f78",
   "metadata": {},
   "source": [
    "### Исследование задачи"
   ]
  },
  {
   "cell_type": "code",
   "execution_count": 28,
   "id": "700e9d50",
   "metadata": {},
   "outputs": [],
   "source": [
    "#Удалим из дальнейшей работы столбцы с индексом строки, id клиента и фамилиями,\n",
    "#для построения моделей машинного обучения они нам не потребуются \n",
    "df = df.drop(['RowNumber', 'CustomerId', 'Surname'] , axis=1)"
   ]
  },
  {
   "cell_type": "code",
   "execution_count": 33,
   "id": "c05d6581",
   "metadata": {},
   "outputs": [
    {
     "data": {
      "text/plain": [
       "3"
      ]
     },
     "execution_count": 33,
     "metadata": {},
     "output_type": "execute_result"
    }
   ],
   "source": [
    "df.Geography.nunique()"
   ]
  },
  {
   "cell_type": "code",
   "execution_count": 38,
   "id": "b6812df1",
   "metadata": {},
   "outputs": [
    {
     "data": {
      "text/plain": [
       "<AxesSubplot:>"
      ]
     },
     "execution_count": 38,
     "metadata": {},
     "output_type": "execute_result"
    },
    {
     "data": {
      "image/png": "[encoded data removed]",
      "text/plain": [
       "<Figure size 900x500 with 1 Axes>"
      ]
     },
     "metadata": {},
     "output_type": "display_data"
    }
   ],
   "source": [
    "# Exited — факт ухода клиента,посмотрим графически на распределение данных в колонке\n",
    "df.Exited.value_counts().plot(kind='bar',figsize=(9,5),color=['g','r'],grid=True)"
   ]
  },
  {
   "cell_type": "code",
   "execution_count": 42,
   "id": "8f6c0abc",
   "metadata": {},
   "outputs": [
    {
     "data": {
      "text/plain": [
       "<AxesSubplot:>"
      ]
     },
     "execution_count": 42,
     "metadata": {},
     "output_type": "execute_result"
    },
    {
     "data": {
      "image/png": "[encoded data removed]",
      "text/plain": [
       "<Figure size 640x480 with 2 Axes>"
      ]
     },
     "metadata": {},
     "output_type": "display_data"
    }
   ],
   "source": [
    "#корреляция целевого показателя в разрезе признаков\n",
    "sns.heatmap(df.corr())\n"
   ]
  },
  {
   "cell_type": "code",
   "execution_count": null,
   "id": "505da616",
   "metadata": {},
   "outputs": [],
   "source": []
  }
 ],
 "metadata": {
  "kernelspec": {
   "display_name": "Python 3 (ipykernel)",
   "language": "python",
   "name": "python3"
  },
  "language_info": {
   "codemirror_mode": {
    "name": "ipython",
    "version": 3
   },
   "file_extension": ".py",
   "mimetype": "text/x-python",
   "name": "python",
   "nbconvert_exporter": "python",
   "pygments_lexer": "ipython3",
   "version": "3.7.16"
  }
 },
 "nbformat": 4,
 "nbformat_minor": 5
}
