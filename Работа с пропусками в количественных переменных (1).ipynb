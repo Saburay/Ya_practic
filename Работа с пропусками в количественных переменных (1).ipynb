{
 "cells": [
  {
   "cell_type": "code",
   "execution_count": 2,
   "id": "7414ac52",
   "metadata": {},
   "outputs": [],
   "source": [
    "import pandas as pd"
   ]
  },
  {
   "cell_type": "code",
   "execution_count": 4,
   "id": "de976640",
   "metadata": {},
   "outputs": [],
   "source": [
    "metrica = pd.read_csv('metrica_data.csv')"
   ]
  },
  {
   "cell_type": "code",
   "execution_count": 5,
   "id": "33251426",
   "metadata": {},
   "outputs": [
    {
     "name": "stdout",
     "output_type": "stream",
     "text": [
      "<class 'pandas.core.frame.DataFrame'>\n",
      "RangeIndex: 100000 entries, 0 to 99999\n",
      "Data columns (total 4 columns):\n",
      " #   Column       Non-Null Count   Dtype  \n",
      "---  ------       --------------   -----  \n",
      " 0   user_id      100000 non-null  int64  \n",
      " 1   device_type  100000 non-null  object \n",
      " 2   age          94228 non-null   float64\n",
      " 3   time         75411 non-null   float64\n",
      "dtypes: float64(2), int64(1), object(1)\n",
      "memory usage: 3.1+ MB\n"
     ]
    }
   ],
   "source": [
    "metrica.info()"
   ]
  },
  {
   "cell_type": "code",
   "execution_count": 7,
   "id": "89f34bc4",
   "metadata": {},
   "outputs": [
    {
     "data": {
      "text/plain": [
       "array(['desktop', 'mobile'], dtype=object)"
      ]
     },
     "execution_count": 7,
     "metadata": {},
     "output_type": "execute_result"
    }
   ],
   "source": [
    "metrica['device_type'].unique()"
   ]
  },
  {
   "cell_type": "code",
   "execution_count": 10,
   "id": "fd13187c",
   "metadata": {},
   "outputs": [
    {
     "data": {
      "text/html": [
       "<div>\n",
       "<style scoped>\n",
       "    .dataframe tbody tr th:only-of-type {\n",
       "        vertical-align: middle;\n",
       "    }\n",
       "\n",
       "    .dataframe tbody tr th {\n",
       "        vertical-align: top;\n",
       "    }\n",
       "\n",
       "    .dataframe thead tr th {\n",
       "        text-align: left;\n",
       "    }\n",
       "\n",
       "    .dataframe thead tr:last-of-type th {\n",
       "        text-align: right;\n",
       "    }\n",
       "</style>\n",
       "<table border=\"1\" class=\"dataframe\">\n",
       "  <thead>\n",
       "    <tr>\n",
       "      <th></th>\n",
       "      <th colspan=\"4\" halign=\"left\">age</th>\n",
       "    </tr>\n",
       "    <tr>\n",
       "      <th></th>\n",
       "      <th>mean</th>\n",
       "      <th>min</th>\n",
       "      <th>max</th>\n",
       "      <th>count</th>\n",
       "    </tr>\n",
       "    <tr>\n",
       "      <th>device_type</th>\n",
       "      <th></th>\n",
       "      <th></th>\n",
       "      <th></th>\n",
       "      <th></th>\n",
       "    </tr>\n",
       "  </thead>\n",
       "  <tbody>\n",
       "    <tr>\n",
       "      <th>desktop</th>\n",
       "      <td>32.497339</td>\n",
       "      <td>25.0</td>\n",
       "      <td>40.0</td>\n",
       "      <td>69524</td>\n",
       "    </tr>\n",
       "    <tr>\n",
       "      <th>mobile</th>\n",
       "      <td>32.468062</td>\n",
       "      <td>25.0</td>\n",
       "      <td>40.0</td>\n",
       "      <td>24704</td>\n",
       "    </tr>\n",
       "  </tbody>\n",
       "</table>\n",
       "</div>"
      ],
      "text/plain": [
       "                   age                   \n",
       "                  mean   min   max  count\n",
       "device_type                              \n",
       "desktop      32.497339  25.0  40.0  69524\n",
       "mobile       32.468062  25.0  40.0  24704"
      ]
     },
     "execution_count": 10,
     "metadata": {},
     "output_type": "execute_result"
    }
   ],
   "source": [
    "metrica.groupby('device_type').agg({'age':['mean','min','max','count']})"
   ]
  },
  {
   "cell_type": "code",
   "execution_count": 30,
   "id": "a94cd637",
   "metadata": {},
   "outputs": [],
   "source": [
    "metrica['age'] = metrica['age'].fillna(metrica['age'].mean())"
   ]
  },
  {
   "cell_type": "code",
   "execution_count": 31,
   "id": "155ffeed",
   "metadata": {},
   "outputs": [
    {
     "data": {
      "text/plain": [
       "0"
      ]
     },
     "execution_count": 31,
     "metadata": {},
     "output_type": "execute_result"
    }
   ],
   "source": [
    "metrica['age'].isna().sum()"
   ]
  },
  {
   "cell_type": "code",
   "execution_count": 32,
   "id": "7dd5ad9b",
   "metadata": {},
   "outputs": [
    {
     "data": {
      "text/plain": [
       "0        33.0\n",
       "1        30.0\n",
       "2        25.0\n",
       "3        25.0\n",
       "4        27.0\n",
       "         ... \n",
       "99995    26.0\n",
       "99996    36.0\n",
       "99997    28.0\n",
       "99998    36.0\n",
       "99999    25.0\n",
       "Name: age, Length: 100000, dtype: float64"
      ]
     },
     "execution_count": 32,
     "metadata": {},
     "output_type": "execute_result"
    }
   ],
   "source": [
    "metrica['age']"
   ]
  },
  {
   "cell_type": "code",
   "execution_count": 33,
   "id": "97031e4a",
   "metadata": {},
   "outputs": [],
   "source": [
    "time_avg = metrica['time'].mean()"
   ]
  },
  {
   "cell_type": "code",
   "execution_count": 34,
   "id": "c4e5fd14",
   "metadata": {},
   "outputs": [
    {
     "data": {
      "text/plain": [
       "1430.1294506106535"
      ]
     },
     "execution_count": 34,
     "metadata": {},
     "output_type": "execute_result"
    }
   ],
   "source": [
    "time_avg"
   ]
  },
  {
   "cell_type": "markdown",
   "id": "77b3d259",
   "metadata": {},
   "source": [
    "Выберите строки таблицы с данными о просмотрах с компьютера, т.е. такие, где в столбце 'device_type' указано значение 'desktop'. Сохраните результат в переменной desktop_data"
   ]
  },
  {
   "cell_type": "code",
   "execution_count": 38,
   "id": "9f043353",
   "metadata": {},
   "outputs": [],
   "source": [
    "desktop_data = metrica.loc[metrica['device_type']=='desktop']"
   ]
  },
  {
   "cell_type": "code",
   "execution_count": 39,
   "id": "91f285c7",
   "metadata": {},
   "outputs": [
    {
     "data": {
      "text/html": [
       "<div>\n",
       "<style scoped>\n",
       "    .dataframe tbody tr th:only-of-type {\n",
       "        vertical-align: middle;\n",
       "    }\n",
       "\n",
       "    .dataframe tbody tr th {\n",
       "        vertical-align: top;\n",
       "    }\n",
       "\n",
       "    .dataframe thead th {\n",
       "        text-align: right;\n",
       "    }\n",
       "</style>\n",
       "<table border=\"1\" class=\"dataframe\">\n",
       "  <thead>\n",
       "    <tr style=\"text-align: right;\">\n",
       "      <th></th>\n",
       "      <th>user_id</th>\n",
       "      <th>device_type</th>\n",
       "      <th>age</th>\n",
       "      <th>time</th>\n",
       "    </tr>\n",
       "  </thead>\n",
       "  <tbody>\n",
       "    <tr>\n",
       "      <th>0</th>\n",
       "      <td>7141786820</td>\n",
       "      <td>desktop</td>\n",
       "      <td>33.0</td>\n",
       "      <td>2127.0</td>\n",
       "    </tr>\n",
       "    <tr>\n",
       "      <th>2</th>\n",
       "      <td>1914055396</td>\n",
       "      <td>desktop</td>\n",
       "      <td>25.0</td>\n",
       "      <td>NaN</td>\n",
       "    </tr>\n",
       "    <tr>\n",
       "      <th>3</th>\n",
       "      <td>4099355752</td>\n",
       "      <td>desktop</td>\n",
       "      <td>25.0</td>\n",
       "      <td>2123.0</td>\n",
       "    </tr>\n",
       "    <tr>\n",
       "      <th>4</th>\n",
       "      <td>6032477554</td>\n",
       "      <td>desktop</td>\n",
       "      <td>27.0</td>\n",
       "      <td>59.0</td>\n",
       "    </tr>\n",
       "    <tr>\n",
       "      <th>7</th>\n",
       "      <td>3512872755</td>\n",
       "      <td>desktop</td>\n",
       "      <td>40.0</td>\n",
       "      <td>65.0</td>\n",
       "    </tr>\n",
       "    <tr>\n",
       "      <th>...</th>\n",
       "      <td>...</td>\n",
       "      <td>...</td>\n",
       "      <td>...</td>\n",
       "      <td>...</td>\n",
       "    </tr>\n",
       "    <tr>\n",
       "      <th>99992</th>\n",
       "      <td>7964851413</td>\n",
       "      <td>desktop</td>\n",
       "      <td>35.0</td>\n",
       "      <td>2095.0</td>\n",
       "    </tr>\n",
       "    <tr>\n",
       "      <th>99994</th>\n",
       "      <td>7751404712</td>\n",
       "      <td>desktop</td>\n",
       "      <td>40.0</td>\n",
       "      <td>NaN</td>\n",
       "    </tr>\n",
       "    <tr>\n",
       "      <th>99995</th>\n",
       "      <td>7823848431</td>\n",
       "      <td>desktop</td>\n",
       "      <td>26.0</td>\n",
       "      <td>2093.0</td>\n",
       "    </tr>\n",
       "    <tr>\n",
       "      <th>99998</th>\n",
       "      <td>8228213054</td>\n",
       "      <td>desktop</td>\n",
       "      <td>36.0</td>\n",
       "      <td>2096.0</td>\n",
       "    </tr>\n",
       "    <tr>\n",
       "      <th>99999</th>\n",
       "      <td>79268366</td>\n",
       "      <td>desktop</td>\n",
       "      <td>25.0</td>\n",
       "      <td>2137.0</td>\n",
       "    </tr>\n",
       "  </tbody>\n",
       "</table>\n",
       "<p>73764 rows × 4 columns</p>\n",
       "</div>"
      ],
      "text/plain": [
       "          user_id device_type   age    time\n",
       "0      7141786820     desktop  33.0  2127.0\n",
       "2      1914055396     desktop  25.0     NaN\n",
       "3      4099355752     desktop  25.0  2123.0\n",
       "4      6032477554     desktop  27.0    59.0\n",
       "7      3512872755     desktop  40.0    65.0\n",
       "...           ...         ...   ...     ...\n",
       "99992  7964851413     desktop  35.0  2095.0\n",
       "99994  7751404712     desktop  40.0     NaN\n",
       "99995  7823848431     desktop  26.0  2093.0\n",
       "99998  8228213054     desktop  36.0  2096.0\n",
       "99999    79268366     desktop  25.0  2137.0\n",
       "\n",
       "[73764 rows x 4 columns]"
      ]
     },
     "execution_count": 39,
     "metadata": {},
     "output_type": "execute_result"
    }
   ],
   "source": [
    "desktop_data"
   ]
  },
  {
   "cell_type": "markdown",
   "id": "c7a9924c",
   "metadata": {},
   "source": [
    "\n",
    "Установите, сколько времени в среднем проводят на сайте пользователи компьютеров. Результат сохраните в переменной desktop_data_time_avg."
   ]
  },
  {
   "cell_type": "code",
   "execution_count": 43,
   "id": "5766551b",
   "metadata": {},
   "outputs": [],
   "source": [
    "desktop_data_time_avg = desktop_data['time'].mean()\n",
    "#metrica.loc[metrica['device_type']=='desktop']['time'].mean()"
   ]
  },
  {
   "cell_type": "code",
   "execution_count": 44,
   "id": "44b42661",
   "metadata": {},
   "outputs": [
    {
     "data": {
      "text/plain": [
       "1741.8747158537378"
      ]
     },
     "execution_count": 44,
     "metadata": {},
     "output_type": "execute_result"
    }
   ],
   "source": [
    "desktop_data_time_avg"
   ]
  },
  {
   "cell_type": "markdown",
   "id": "347f27a2",
   "metadata": {},
   "source": [
    "Получите таблицу с данными о просмотрах с мобильных платформ. Сохраните результат в переменной mobile_data"
   ]
  },
  {
   "cell_type": "code",
   "execution_count": 48,
   "id": "cb837ef6",
   "metadata": {},
   "outputs": [],
   "source": [
    "mobile_data = metrica.loc[metrica['device_type']=='mobile']"
   ]
  },
  {
   "cell_type": "code",
   "execution_count": 49,
   "id": "c133ad31",
   "metadata": {},
   "outputs": [
    {
     "data": {
      "text/html": [
       "<div>\n",
       "<style scoped>\n",
       "    .dataframe tbody tr th:only-of-type {\n",
       "        vertical-align: middle;\n",
       "    }\n",
       "\n",
       "    .dataframe tbody tr th {\n",
       "        vertical-align: top;\n",
       "    }\n",
       "\n",
       "    .dataframe thead th {\n",
       "        text-align: right;\n",
       "    }\n",
       "</style>\n",
       "<table border=\"1\" class=\"dataframe\">\n",
       "  <thead>\n",
       "    <tr style=\"text-align: right;\">\n",
       "      <th></th>\n",
       "      <th>user_id</th>\n",
       "      <th>device_type</th>\n",
       "      <th>age</th>\n",
       "      <th>time</th>\n",
       "    </tr>\n",
       "  </thead>\n",
       "  <tbody>\n",
       "    <tr>\n",
       "      <th>1</th>\n",
       "      <td>5644686960</td>\n",
       "      <td>mobile</td>\n",
       "      <td>30.000000</td>\n",
       "      <td>35.0</td>\n",
       "    </tr>\n",
       "    <tr>\n",
       "      <th>5</th>\n",
       "      <td>5872473344</td>\n",
       "      <td>mobile</td>\n",
       "      <td>27.000000</td>\n",
       "      <td>NaN</td>\n",
       "    </tr>\n",
       "    <tr>\n",
       "      <th>6</th>\n",
       "      <td>7977025176</td>\n",
       "      <td>mobile</td>\n",
       "      <td>32.489663</td>\n",
       "      <td>NaN</td>\n",
       "    </tr>\n",
       "    <tr>\n",
       "      <th>10</th>\n",
       "      <td>7172802697</td>\n",
       "      <td>mobile</td>\n",
       "      <td>30.000000</td>\n",
       "      <td>NaN</td>\n",
       "    </tr>\n",
       "    <tr>\n",
       "      <th>14</th>\n",
       "      <td>9312844109</td>\n",
       "      <td>mobile</td>\n",
       "      <td>32.489663</td>\n",
       "      <td>40.0</td>\n",
       "    </tr>\n",
       "    <tr>\n",
       "      <th>...</th>\n",
       "      <td>...</td>\n",
       "      <td>...</td>\n",
       "      <td>...</td>\n",
       "      <td>...</td>\n",
       "    </tr>\n",
       "    <tr>\n",
       "      <th>99988</th>\n",
       "      <td>5652872698</td>\n",
       "      <td>mobile</td>\n",
       "      <td>27.000000</td>\n",
       "      <td>NaN</td>\n",
       "    </tr>\n",
       "    <tr>\n",
       "      <th>99991</th>\n",
       "      <td>3373532849</td>\n",
       "      <td>mobile</td>\n",
       "      <td>28.000000</td>\n",
       "      <td>49.0</td>\n",
       "    </tr>\n",
       "    <tr>\n",
       "      <th>99993</th>\n",
       "      <td>8576390025</td>\n",
       "      <td>mobile</td>\n",
       "      <td>32.000000</td>\n",
       "      <td>NaN</td>\n",
       "    </tr>\n",
       "    <tr>\n",
       "      <th>99996</th>\n",
       "      <td>3586574436</td>\n",
       "      <td>mobile</td>\n",
       "      <td>36.000000</td>\n",
       "      <td>40.0</td>\n",
       "    </tr>\n",
       "    <tr>\n",
       "      <th>99997</th>\n",
       "      <td>859960707</td>\n",
       "      <td>mobile</td>\n",
       "      <td>28.000000</td>\n",
       "      <td>30.0</td>\n",
       "    </tr>\n",
       "  </tbody>\n",
       "</table>\n",
       "<p>26236 rows × 4 columns</p>\n",
       "</div>"
      ],
      "text/plain": [
       "          user_id device_type        age  time\n",
       "1      5644686960      mobile  30.000000  35.0\n",
       "5      5872473344      mobile  27.000000   NaN\n",
       "6      7977025176      mobile  32.489663   NaN\n",
       "10     7172802697      mobile  30.000000   NaN\n",
       "14     9312844109      mobile  32.489663  40.0\n",
       "...           ...         ...        ...   ...\n",
       "99988  5652872698      mobile  27.000000   NaN\n",
       "99991  3373532849      mobile  28.000000  49.0\n",
       "99993  8576390025      mobile  32.000000   NaN\n",
       "99996  3586574436      mobile  36.000000  40.0\n",
       "99997   859960707      mobile  28.000000  30.0\n",
       "\n",
       "[26236 rows x 4 columns]"
      ]
     },
     "execution_count": 49,
     "metadata": {},
     "output_type": "execute_result"
    }
   ],
   "source": [
    "mobile_data"
   ]
  },
  {
   "cell_type": "markdown",
   "id": "1c31d969",
   "metadata": {},
   "source": [
    "Посчитайте среднее время пребывания на сайте пользователей мобильных платформ. Результат сохраните в переменной mobile_data_time_avg."
   ]
  },
  {
   "cell_type": "code",
   "execution_count": 50,
   "id": "c006a9d1",
   "metadata": {},
   "outputs": [],
   "source": [
    "mobile_data_time_avg = metrica.loc[metrica['device_type']=='mobile']['time'].mean()"
   ]
  },
  {
   "cell_type": "code",
   "execution_count": 51,
   "id": "c60c8af9",
   "metadata": {},
   "outputs": [
    {
     "data": {
      "text/plain": [
       "41.15691239238949"
      ]
     },
     "execution_count": 51,
     "metadata": {},
     "output_type": "execute_result"
    }
   ],
   "source": [
    "mobile_data_time_avg"
   ]
  },
  {
   "cell_type": "code",
   "execution_count": 52,
   "id": "cf7653a3",
   "metadata": {},
   "outputs": [
    {
     "name": "stdout",
     "output_type": "stream",
     "text": [
      "0\n"
     ]
    }
   ],
   "source": [
    "# перебираем каждый тип девайса в наборе уникальных значений столба device_type\n",
    "for d in metrica['device_type'].unique():\n",
    "    # на каждом шаге цикла с помощью атрибута loc выбираем строки,\n",
    "    # в которых в device_type текущий тип девайса (d) и есть пропуски в time \n",
    "    metrica.loc[(metrica['device_type'] == d) & (metrica['time'].isna()), 'time'] = \\\n",
    "    metrica.loc[(metrica['device_type'] == d), 'time'].mean()\n",
    "    # и записываем в них среднее значение time среди строк с текущим типом девайса (d)\n",
    "\n",
    "# проверяем, что все пропуски заполнены\n",
    "print(metrica['time'].isna().sum())"
   ]
  },
  {
   "cell_type": "code",
   "execution_count": null,
   "id": "827193ee",
   "metadata": {},
   "outputs": [],
   "source": []
  }
 ],
 "metadata": {
  "kernelspec": {
   "display_name": "Python 3",
   "language": "python",
   "name": "python3"
  },
  "language_info": {
   "codemirror_mode": {
    "name": "ipython",
    "version": 3
   },
   "file_extension": ".py",
   "mimetype": "text/x-python",
   "name": "python",
   "nbconvert_exporter": "python",
   "pygments_lexer": "ipython3",
   "version": "3.8.8"
  }
 },
 "nbformat": 4,
 "nbformat_minor": 5
}
