{
 "cells": [
  {
   "cell_type": "code",
   "execution_count": 17,
   "id": "cac88e16",
   "metadata": {},
   "outputs": [],
   "source": [
    "import pandas as pd"
   ]
  },
  {
   "cell_type": "markdown",
   "id": "cd0a24fd",
   "metadata": {},
   "source": [
    "[Перевод строковых значений в числа](#str_to_num)"
   ]
  },
  {
   "cell_type": "markdown",
   "id": "cdeaa93f",
   "metadata": {},
   "source": [
    "[Методы Pandas для работы с датой и временем](#D_T)"
   ]
  },
  {
   "cell_type": "markdown",
   "id": "fa892264",
   "metadata": {},
   "source": [
    "[Обработка ошибок try-except](#try_except)"
   ]
  },
  {
   "cell_type": "markdown",
   "id": "41ff46d6",
   "metadata": {},
   "source": [
    "[Сводные таблицы](#pivot_table)"
   ]
  },
  {
   "cell_type": "markdown",
   "id": "56b6ad0a",
   "metadata": {},
   "source": [
    "[Лаборатория ручного поиска дубликатов](#dupl)"
   ]
  },
  {
   "cell_type": "markdown",
   "id": "0a79df38",
   "metadata": {},
   "source": [
    "«Определить, какие товарные категории и подкатегории на сайте представлены в поисковиках хуже всего» \n"
   ]
  },
  {
   "cell_type": "code",
   "execution_count": 18,
   "id": "7381ad18",
   "metadata": {},
   "outputs": [],
   "source": [
    "data = pd.read_excel('seo_data.xlsx',sheet_name='traffic_data')"
   ]
  },
  {
   "cell_type": "code",
   "execution_count": 19,
   "id": "27c2c251",
   "metadata": {},
   "outputs": [
    {
     "name": "stdout",
     "output_type": "stream",
     "text": [
      "<class 'pandas.core.frame.DataFrame'>\n",
      "RangeIndex: 1930 entries, 0 to 1929\n",
      "Data columns (total 3 columns):\n",
      " #   Column          Non-Null Count  Dtype \n",
      "---  ------          --------------  ----- \n",
      " 0   subcategory_id  1930 non-null   object\n",
      " 1   source          1930 non-null   object\n",
      " 2   visits          1930 non-null   object\n",
      "dtypes: object(3)\n",
      "memory usage: 45.4+ KB\n"
     ]
    },
    {
     "data": {
      "text/plain": [
       "None"
      ]
     },
     "metadata": {},
     "output_type": "display_data"
    },
    {
     "data": {
      "text/html": [
       "<div>\n",
       "<style scoped>\n",
       "    .dataframe tbody tr th:only-of-type {\n",
       "        vertical-align: middle;\n",
       "    }\n",
       "\n",
       "    .dataframe tbody tr th {\n",
       "        vertical-align: top;\n",
       "    }\n",
       "\n",
       "    .dataframe thead th {\n",
       "        text-align: right;\n",
       "    }\n",
       "</style>\n",
       "<table border=\"1\" class=\"dataframe\">\n",
       "  <thead>\n",
       "    <tr style=\"text-align: right;\">\n",
       "      <th></th>\n",
       "      <th>subcategory_id</th>\n",
       "      <th>source</th>\n",
       "      <th>visits</th>\n",
       "    </tr>\n",
       "  </thead>\n",
       "  <tbody>\n",
       "    <tr>\n",
       "      <th>1920</th>\n",
       "      <td>657ad4152e</td>\n",
       "      <td>organic</td>\n",
       "      <td>24.748969</td>\n",
       "    </tr>\n",
       "    <tr>\n",
       "      <th>1921</th>\n",
       "      <td>ee2093ef96</td>\n",
       "      <td>organic</td>\n",
       "      <td>24.468693</td>\n",
       "    </tr>\n",
       "    <tr>\n",
       "      <th>1922</th>\n",
       "      <td>94f5224c98</td>\n",
       "      <td>organic</td>\n",
       "      <td>24.433584</td>\n",
       "    </tr>\n",
       "    <tr>\n",
       "      <th>1923</th>\n",
       "      <td>3f7f42af50</td>\n",
       "      <td>organic</td>\n",
       "      <td>21.544606</td>\n",
       "    </tr>\n",
       "    <tr>\n",
       "      <th>1924</th>\n",
       "      <td>779e246861</td>\n",
       "      <td>organic</td>\n",
       "      <td>15.813045</td>\n",
       "    </tr>\n",
       "    <tr>\n",
       "      <th>1925</th>\n",
       "      <td>c51343bf77</td>\n",
       "      <td>organic</td>\n",
       "      <td>15.640773</td>\n",
       "    </tr>\n",
       "    <tr>\n",
       "      <th>1926</th>\n",
       "      <td>d942687638</td>\n",
       "      <td>organic</td>\n",
       "      <td>13.87554</td>\n",
       "    </tr>\n",
       "    <tr>\n",
       "      <th>1927</th>\n",
       "      <td>976642886f</td>\n",
       "      <td>organic</td>\n",
       "      <td>9.204211</td>\n",
       "    </tr>\n",
       "    <tr>\n",
       "      <th>1928</th>\n",
       "      <td>075994491e</td>\n",
       "      <td>organic</td>\n",
       "      <td>4.606261</td>\n",
       "    </tr>\n",
       "    <tr>\n",
       "      <th>1929</th>\n",
       "      <td>total</td>\n",
       "      <td>organic</td>\n",
       "      <td>\"5687882\"</td>\n",
       "    </tr>\n",
       "  </tbody>\n",
       "</table>\n",
       "</div>"
      ],
      "text/plain": [
       "     subcategory_id   source     visits\n",
       "1920     657ad4152e  organic  24.748969\n",
       "1921     ee2093ef96  organic  24.468693\n",
       "1922     94f5224c98  organic  24.433584\n",
       "1923     3f7f42af50  organic  21.544606\n",
       "1924     779e246861  organic  15.813045\n",
       "1925     c51343bf77  organic  15.640773\n",
       "1926     d942687638  organic   13.87554\n",
       "1927     976642886f  organic   9.204211\n",
       "1928     075994491e  organic   4.606261\n",
       "1929          total  organic  \"5687882\""
      ]
     },
     "execution_count": 19,
     "metadata": {},
     "output_type": "execute_result"
    }
   ],
   "source": [
    "display(data.info())\n",
    "data.tail(10)"
   ]
  },
  {
   "cell_type": "code",
   "execution_count": 20,
   "id": "22c07d29",
   "metadata": {},
   "outputs": [
    {
     "data": {
      "text/plain": [
       "array(['direct', 'organic'], dtype=object)"
      ]
     },
     "execution_count": 20,
     "metadata": {},
     "output_type": "execute_result"
    }
   ],
   "source": [
    "data['source'].unique()"
   ]
  },
  {
   "cell_type": "code",
   "execution_count": 21,
   "id": "675947d0",
   "metadata": {},
   "outputs": [],
   "source": [
    "subcategory_dict = pd.read_excel('seo_data.xlsx',sheet_name= 'subcategory_ids')"
   ]
  },
  {
   "cell_type": "code",
   "execution_count": 22,
   "id": "d3af50b6",
   "metadata": {},
   "outputs": [
    {
     "data": {
      "text/html": [
       "<div>\n",
       "<style scoped>\n",
       "    .dataframe tbody tr th:only-of-type {\n",
       "        vertical-align: middle;\n",
       "    }\n",
       "\n",
       "    .dataframe tbody tr th {\n",
       "        vertical-align: top;\n",
       "    }\n",
       "\n",
       "    .dataframe thead th {\n",
       "        text-align: right;\n",
       "    }\n",
       "</style>\n",
       "<table border=\"1\" class=\"dataframe\">\n",
       "  <thead>\n",
       "    <tr style=\"text-align: right;\">\n",
       "      <th></th>\n",
       "      <th>subcategory_id</th>\n",
       "      <th>subcategory_name</th>\n",
       "      <th>category_id</th>\n",
       "    </tr>\n",
       "  </thead>\n",
       "  <tbody>\n",
       "    <tr>\n",
       "      <th>0</th>\n",
       "      <td>cf2e61c7af</td>\n",
       "      <td>Мобильные телефоны</td>\n",
       "      <td>09f279a643</td>\n",
       "    </tr>\n",
       "    <tr>\n",
       "      <th>1</th>\n",
       "      <td>0cd903d1cc</td>\n",
       "      <td>Ноутбуки</td>\n",
       "      <td>3509869a61</td>\n",
       "    </tr>\n",
       "    <tr>\n",
       "      <th>2</th>\n",
       "      <td>ef35bc88a7</td>\n",
       "      <td>Телевизоры</td>\n",
       "      <td>09f279a643</td>\n",
       "    </tr>\n",
       "    <tr>\n",
       "      <th>3</th>\n",
       "      <td>6ff9f4014c</td>\n",
       "      <td>Планшеты</td>\n",
       "      <td>3509869a61</td>\n",
       "    </tr>\n",
       "    <tr>\n",
       "      <th>4</th>\n",
       "      <td>72bc238e4d</td>\n",
       "      <td>Наушники и Bluetooth-гарнитуры</td>\n",
       "      <td>09f279a643</td>\n",
       "    </tr>\n",
       "    <tr>\n",
       "      <th>5</th>\n",
       "      <td>88c78ea685</td>\n",
       "      <td>Шины</td>\n",
       "      <td>65922fa39c</td>\n",
       "    </tr>\n",
       "    <tr>\n",
       "      <th>6</th>\n",
       "      <td>179bfacf4a</td>\n",
       "      <td>Умные часы и браслеты</td>\n",
       "      <td>09f279a643</td>\n",
       "    </tr>\n",
       "    <tr>\n",
       "      <th>7</th>\n",
       "      <td>b0fb8f259a</td>\n",
       "      <td>Мониторы</td>\n",
       "      <td>3509869a61</td>\n",
       "    </tr>\n",
       "    <tr>\n",
       "      <th>8</th>\n",
       "      <td>3c67eb2d90</td>\n",
       "      <td>Наручные часы</td>\n",
       "      <td>6074ad29ac</td>\n",
       "    </tr>\n",
       "    <tr>\n",
       "      <th>9</th>\n",
       "      <td>24e6c815c6</td>\n",
       "      <td>Лекарственные препараты и БАДы</td>\n",
       "      <td>10a493e03b</td>\n",
       "    </tr>\n",
       "  </tbody>\n",
       "</table>\n",
       "</div>"
      ],
      "text/plain": [
       "  subcategory_id                subcategory_name category_id\n",
       "0     cf2e61c7af              Мобильные телефоны  09f279a643\n",
       "1     0cd903d1cc                        Ноутбуки  3509869a61\n",
       "2     ef35bc88a7                      Телевизоры  09f279a643\n",
       "3     6ff9f4014c                        Планшеты  3509869a61\n",
       "4     72bc238e4d  Наушники и Bluetooth-гарнитуры  09f279a643\n",
       "5     88c78ea685                            Шины  65922fa39c\n",
       "6     179bfacf4a           Умные часы и браслеты  09f279a643\n",
       "7     b0fb8f259a                        Мониторы  3509869a61\n",
       "8     3c67eb2d90                   Наручные часы  6074ad29ac\n",
       "9     24e6c815c6  Лекарственные препараты и БАДы  10a493e03b"
      ]
     },
     "execution_count": 22,
     "metadata": {},
     "output_type": "execute_result"
    }
   ],
   "source": [
    "subcategory_dict.head(10)"
   ]
  },
  {
   "cell_type": "code",
   "execution_count": 23,
   "id": "28db702b",
   "metadata": {},
   "outputs": [],
   "source": [
    "category_dict = pd.read_excel('seo_data.xlsx',sheet_name= 'category_ids')"
   ]
  },
  {
   "cell_type": "code",
   "execution_count": 24,
   "id": "83ababdc",
   "metadata": {},
   "outputs": [
    {
     "data": {
      "text/html": [
       "<div>\n",
       "<style scoped>\n",
       "    .dataframe tbody tr th:only-of-type {\n",
       "        vertical-align: middle;\n",
       "    }\n",
       "\n",
       "    .dataframe tbody tr th {\n",
       "        vertical-align: top;\n",
       "    }\n",
       "\n",
       "    .dataframe thead th {\n",
       "        text-align: right;\n",
       "    }\n",
       "</style>\n",
       "<table border=\"1\" class=\"dataframe\">\n",
       "  <thead>\n",
       "    <tr style=\"text-align: right;\">\n",
       "      <th></th>\n",
       "      <th>category_id</th>\n",
       "      <th>category_name</th>\n",
       "    </tr>\n",
       "  </thead>\n",
       "  <tbody>\n",
       "    <tr>\n",
       "      <th>0</th>\n",
       "      <td>09f279a643</td>\n",
       "      <td>Электроника</td>\n",
       "    </tr>\n",
       "    <tr>\n",
       "      <th>1</th>\n",
       "      <td>3509869a61</td>\n",
       "      <td>Компьютерная техника</td>\n",
       "    </tr>\n",
       "    <tr>\n",
       "      <th>2</th>\n",
       "      <td>65922fa39c</td>\n",
       "      <td>Авто</td>\n",
       "    </tr>\n",
       "    <tr>\n",
       "      <th>3</th>\n",
       "      <td>6074ad29ac</td>\n",
       "      <td>Одежда, обувь и аксессуары</td>\n",
       "    </tr>\n",
       "    <tr>\n",
       "      <th>4</th>\n",
       "      <td>10a493e03b</td>\n",
       "      <td>Товары для здоровья</td>\n",
       "    </tr>\n",
       "    <tr>\n",
       "      <th>5</th>\n",
       "      <td>5a0d8ac946</td>\n",
       "      <td>Бытовая техника</td>\n",
       "    </tr>\n",
       "    <tr>\n",
       "      <th>6</th>\n",
       "      <td>7dbac4c1a3</td>\n",
       "      <td>Детские товары</td>\n",
       "    </tr>\n",
       "    <tr>\n",
       "      <th>7</th>\n",
       "      <td>ae99947659</td>\n",
       "      <td>Спорт и отдых</td>\n",
       "    </tr>\n",
       "    <tr>\n",
       "      <th>8</th>\n",
       "      <td>655ccc3c49</td>\n",
       "      <td>Товары для красоты</td>\n",
       "    </tr>\n",
       "    <tr>\n",
       "      <th>9</th>\n",
       "      <td>394f20d8fa</td>\n",
       "      <td>Строительство и ремонт</td>\n",
       "    </tr>\n",
       "  </tbody>\n",
       "</table>\n",
       "</div>"
      ],
      "text/plain": [
       "  category_id               category_name\n",
       "0  09f279a643                 Электроника\n",
       "1  3509869a61        Компьютерная техника\n",
       "2  65922fa39c                        Авто\n",
       "3  6074ad29ac  Одежда, обувь и аксессуары\n",
       "4  10a493e03b         Товары для здоровья\n",
       "5  5a0d8ac946             Бытовая техника\n",
       "6  7dbac4c1a3              Детские товары\n",
       "7  ae99947659               Спорт и отдых\n",
       "8  655ccc3c49          Товары для красоты\n",
       "9  394f20d8fa      Строительство и ремонт"
      ]
     },
     "execution_count": 24,
     "metadata": {},
     "output_type": "execute_result"
    }
   ],
   "source": [
    "category_dict.head(10)"
   ]
  },
  {
   "cell_type": "code",
   "execution_count": 25,
   "id": "d467211e",
   "metadata": {},
   "outputs": [
    {
     "name": "stdout",
     "output_type": "stream",
     "text": [
      "source\n",
      "direct     965\n",
      "organic    965\n",
      "Name: source, dtype: int64\n"
     ]
    }
   ],
   "source": [
    "print(data.groupby('source')['source'].count()) "
   ]
  },
  {
   "cell_type": "code",
   "execution_count": 26,
   "id": "95f2f62a",
   "metadata": {},
   "outputs": [
    {
     "name": "stdout",
     "output_type": "stream",
     "text": [
      "<class 'pandas.core.frame.DataFrame'>\n",
      "RangeIndex: 1930 entries, 0 to 1929\n",
      "Data columns (total 3 columns):\n",
      " #   Column          Non-Null Count  Dtype \n",
      "---  ------          --------------  ----- \n",
      " 0   subcategory_id  1930 non-null   object\n",
      " 1   source          1930 non-null   object\n",
      " 2   visits          1930 non-null   object\n",
      "dtypes: object(3)\n",
      "memory usage: 45.4+ KB\n",
      "None\n"
     ]
    }
   ],
   "source": [
    "print(data.info())"
   ]
  },
  {
   "cell_type": "markdown",
   "id": "d615a314",
   "metadata": {},
   "source": [
    "Объединим несколько таблиц в одну методом merge(). Передавая тот или иной аргумент методу merge(), можно по-разному объединять таблицы. Подробнее об этом будет рассказано в следующем спринте.\n",
    "merge() применяют к таблице, к которой присоединяют другую. У метода следующие аргументы:\n",
    "right — имя DataFrame или Series, присоединяемого к исходной таблице.\n",
    "on — название общего списка в двух соединяемых таблицах: по нему происходит слияние.\n",
    "how — чьи id включать в итоговую таблицу. Аргумент how может принять значение left: тогда в итоговую таблицу будут включены id из левой таблицы. Аргумент right включает id из правой таблицы."
   ]
  },
  {
   "cell_type": "code",
   "execution_count": 27,
   "id": "61e1a5ef",
   "metadata": {},
   "outputs": [],
   "source": [
    "#Объедините самостоятельно таблицы из переменных subcategory_dict и data. Результат сохраните в переменной data_subcategory\n",
    "data_subcategory = data.merge(subcategory_dict,on='subcategory_id',how='left')"
   ]
  },
  {
   "cell_type": "code",
   "execution_count": 28,
   "id": "2135ed79",
   "metadata": {},
   "outputs": [
    {
     "data": {
      "text/html": [
       "<div>\n",
       "<style scoped>\n",
       "    .dataframe tbody tr th:only-of-type {\n",
       "        vertical-align: middle;\n",
       "    }\n",
       "\n",
       "    .dataframe tbody tr th {\n",
       "        vertical-align: top;\n",
       "    }\n",
       "\n",
       "    .dataframe thead th {\n",
       "        text-align: right;\n",
       "    }\n",
       "</style>\n",
       "<table border=\"1\" class=\"dataframe\">\n",
       "  <thead>\n",
       "    <tr style=\"text-align: right;\">\n",
       "      <th></th>\n",
       "      <th>subcategory_id</th>\n",
       "      <th>source</th>\n",
       "      <th>visits</th>\n",
       "      <th>subcategory_name</th>\n",
       "      <th>category_id</th>\n",
       "    </tr>\n",
       "  </thead>\n",
       "  <tbody>\n",
       "    <tr>\n",
       "      <th>0</th>\n",
       "      <td>cf2e61c7af</td>\n",
       "      <td>direct</td>\n",
       "      <td>501165.668858</td>\n",
       "      <td>Мобильные телефоны</td>\n",
       "      <td>09f279a643</td>\n",
       "    </tr>\n",
       "    <tr>\n",
       "      <th>1</th>\n",
       "      <td>0cd903d1cc</td>\n",
       "      <td>direct</td>\n",
       "      <td>126342.359505</td>\n",
       "      <td>Ноутбуки</td>\n",
       "      <td>3509869a61</td>\n",
       "    </tr>\n",
       "    <tr>\n",
       "      <th>2</th>\n",
       "      <td>ef35bc88a7</td>\n",
       "      <td>direct</td>\n",
       "      <td>95626.321402</td>\n",
       "      <td>Телевизоры</td>\n",
       "      <td>09f279a643</td>\n",
       "    </tr>\n",
       "    <tr>\n",
       "      <th>3</th>\n",
       "      <td>6ff9f4014c</td>\n",
       "      <td>direct</td>\n",
       "      <td>75680.653002</td>\n",
       "      <td>Планшеты</td>\n",
       "      <td>3509869a61</td>\n",
       "    </tr>\n",
       "    <tr>\n",
       "      <th>4</th>\n",
       "      <td>72bc238e4d</td>\n",
       "      <td>direct</td>\n",
       "      <td>64435.934651</td>\n",
       "      <td>Наушники и Bluetooth-гарнитуры</td>\n",
       "      <td>09f279a643</td>\n",
       "    </tr>\n",
       "    <tr>\n",
       "      <th>...</th>\n",
       "      <td>...</td>\n",
       "      <td>...</td>\n",
       "      <td>...</td>\n",
       "      <td>...</td>\n",
       "      <td>...</td>\n",
       "    </tr>\n",
       "    <tr>\n",
       "      <th>1925</th>\n",
       "      <td>c51343bf77</td>\n",
       "      <td>organic</td>\n",
       "      <td>15.640773</td>\n",
       "      <td>Свитеры и кардиганы</td>\n",
       "      <td>6074ad29ac</td>\n",
       "    </tr>\n",
       "    <tr>\n",
       "      <th>1926</th>\n",
       "      <td>d942687638</td>\n",
       "      <td>organic</td>\n",
       "      <td>13.87554</td>\n",
       "      <td>Термобелье</td>\n",
       "      <td>6074ad29ac</td>\n",
       "    </tr>\n",
       "    <tr>\n",
       "      <th>1927</th>\n",
       "      <td>976642886f</td>\n",
       "      <td>organic</td>\n",
       "      <td>9.204211</td>\n",
       "      <td>Наклейки, шильдики и значки</td>\n",
       "      <td>65922fa39c</td>\n",
       "    </tr>\n",
       "    <tr>\n",
       "      <th>1928</th>\n",
       "      <td>075994491e</td>\n",
       "      <td>organic</td>\n",
       "      <td>4.606261</td>\n",
       "      <td>Гигиена полости рта</td>\n",
       "      <td>7dbac4c1a3</td>\n",
       "    </tr>\n",
       "    <tr>\n",
       "      <th>1929</th>\n",
       "      <td>total</td>\n",
       "      <td>organic</td>\n",
       "      <td>\"5687882\"</td>\n",
       "      <td>NaN</td>\n",
       "      <td>NaN</td>\n",
       "    </tr>\n",
       "  </tbody>\n",
       "</table>\n",
       "<p>1930 rows × 5 columns</p>\n",
       "</div>"
      ],
      "text/plain": [
       "     subcategory_id   source         visits                subcategory_name  \\\n",
       "0        cf2e61c7af   direct  501165.668858              Мобильные телефоны   \n",
       "1        0cd903d1cc   direct  126342.359505                        Ноутбуки   \n",
       "2        ef35bc88a7   direct   95626.321402                      Телевизоры   \n",
       "3        6ff9f4014c   direct   75680.653002                        Планшеты   \n",
       "4        72bc238e4d   direct   64435.934651  Наушники и Bluetooth-гарнитуры   \n",
       "...             ...      ...            ...                             ...   \n",
       "1925     c51343bf77  organic      15.640773             Свитеры и кардиганы   \n",
       "1926     d942687638  organic       13.87554                      Термобелье   \n",
       "1927     976642886f  organic       9.204211     Наклейки, шильдики и значки   \n",
       "1928     075994491e  organic       4.606261             Гигиена полости рта   \n",
       "1929          total  organic      \"5687882\"                             NaN   \n",
       "\n",
       "     category_id  \n",
       "0     09f279a643  \n",
       "1     3509869a61  \n",
       "2     09f279a643  \n",
       "3     3509869a61  \n",
       "4     09f279a643  \n",
       "...          ...  \n",
       "1925  6074ad29ac  \n",
       "1926  6074ad29ac  \n",
       "1927  65922fa39c  \n",
       "1928  7dbac4c1a3  \n",
       "1929         NaN  \n",
       "\n",
       "[1930 rows x 5 columns]"
      ]
     },
     "execution_count": 28,
     "metadata": {},
     "output_type": "execute_result"
    }
   ],
   "source": [
    "data_subcategory"
   ]
  },
  {
   "cell_type": "code",
   "execution_count": 29,
   "id": "da1cc4b3",
   "metadata": {},
   "outputs": [],
   "source": [
    "#Объедините таблицы из переменных data_subcategory и category_dict.\n",
    "#Результат сохраните в переменной data_final\n",
    "data_final = data_subcategory.merge(category_dict,on='category_id',how='left')"
   ]
  },
  {
   "cell_type": "code",
   "execution_count": 30,
   "id": "ac1d7ee7",
   "metadata": {},
   "outputs": [
    {
     "data": {
      "text/html": [
       "<div>\n",
       "<style scoped>\n",
       "    .dataframe tbody tr th:only-of-type {\n",
       "        vertical-align: middle;\n",
       "    }\n",
       "\n",
       "    .dataframe tbody tr th {\n",
       "        vertical-align: top;\n",
       "    }\n",
       "\n",
       "    .dataframe thead th {\n",
       "        text-align: right;\n",
       "    }\n",
       "</style>\n",
       "<table border=\"1\" class=\"dataframe\">\n",
       "  <thead>\n",
       "    <tr style=\"text-align: right;\">\n",
       "      <th></th>\n",
       "      <th>subcategory_id</th>\n",
       "      <th>source</th>\n",
       "      <th>visits</th>\n",
       "      <th>subcategory_name</th>\n",
       "      <th>category_id</th>\n",
       "      <th>category_name</th>\n",
       "    </tr>\n",
       "  </thead>\n",
       "  <tbody>\n",
       "    <tr>\n",
       "      <th>0</th>\n",
       "      <td>cf2e61c7af</td>\n",
       "      <td>direct</td>\n",
       "      <td>501165.668858</td>\n",
       "      <td>Мобильные телефоны</td>\n",
       "      <td>09f279a643</td>\n",
       "      <td>Электроника</td>\n",
       "    </tr>\n",
       "    <tr>\n",
       "      <th>1</th>\n",
       "      <td>0cd903d1cc</td>\n",
       "      <td>direct</td>\n",
       "      <td>126342.359505</td>\n",
       "      <td>Ноутбуки</td>\n",
       "      <td>3509869a61</td>\n",
       "      <td>Компьютерная техника</td>\n",
       "    </tr>\n",
       "    <tr>\n",
       "      <th>2</th>\n",
       "      <td>ef35bc88a7</td>\n",
       "      <td>direct</td>\n",
       "      <td>95626.321402</td>\n",
       "      <td>Телевизоры</td>\n",
       "      <td>09f279a643</td>\n",
       "      <td>Электроника</td>\n",
       "    </tr>\n",
       "    <tr>\n",
       "      <th>3</th>\n",
       "      <td>6ff9f4014c</td>\n",
       "      <td>direct</td>\n",
       "      <td>75680.653002</td>\n",
       "      <td>Планшеты</td>\n",
       "      <td>3509869a61</td>\n",
       "      <td>Компьютерная техника</td>\n",
       "    </tr>\n",
       "    <tr>\n",
       "      <th>4</th>\n",
       "      <td>72bc238e4d</td>\n",
       "      <td>direct</td>\n",
       "      <td>64435.934651</td>\n",
       "      <td>Наушники и Bluetooth-гарнитуры</td>\n",
       "      <td>09f279a643</td>\n",
       "      <td>Электроника</td>\n",
       "    </tr>\n",
       "    <tr>\n",
       "      <th>...</th>\n",
       "      <td>...</td>\n",
       "      <td>...</td>\n",
       "      <td>...</td>\n",
       "      <td>...</td>\n",
       "      <td>...</td>\n",
       "      <td>...</td>\n",
       "    </tr>\n",
       "    <tr>\n",
       "      <th>1925</th>\n",
       "      <td>c51343bf77</td>\n",
       "      <td>organic</td>\n",
       "      <td>15.640773</td>\n",
       "      <td>Свитеры и кардиганы</td>\n",
       "      <td>6074ad29ac</td>\n",
       "      <td>Одежда, обувь и аксессуары</td>\n",
       "    </tr>\n",
       "    <tr>\n",
       "      <th>1926</th>\n",
       "      <td>d942687638</td>\n",
       "      <td>organic</td>\n",
       "      <td>13.87554</td>\n",
       "      <td>Термобелье</td>\n",
       "      <td>6074ad29ac</td>\n",
       "      <td>Одежда, обувь и аксессуары</td>\n",
       "    </tr>\n",
       "    <tr>\n",
       "      <th>1927</th>\n",
       "      <td>976642886f</td>\n",
       "      <td>organic</td>\n",
       "      <td>9.204211</td>\n",
       "      <td>Наклейки, шильдики и значки</td>\n",
       "      <td>65922fa39c</td>\n",
       "      <td>Авто</td>\n",
       "    </tr>\n",
       "    <tr>\n",
       "      <th>1928</th>\n",
       "      <td>075994491e</td>\n",
       "      <td>organic</td>\n",
       "      <td>4.606261</td>\n",
       "      <td>Гигиена полости рта</td>\n",
       "      <td>7dbac4c1a3</td>\n",
       "      <td>Детские товары</td>\n",
       "    </tr>\n",
       "    <tr>\n",
       "      <th>1929</th>\n",
       "      <td>total</td>\n",
       "      <td>organic</td>\n",
       "      <td>\"5687882\"</td>\n",
       "      <td>NaN</td>\n",
       "      <td>NaN</td>\n",
       "      <td>NaN</td>\n",
       "    </tr>\n",
       "  </tbody>\n",
       "</table>\n",
       "<p>1930 rows × 6 columns</p>\n",
       "</div>"
      ],
      "text/plain": [
       "     subcategory_id   source         visits                subcategory_name  \\\n",
       "0        cf2e61c7af   direct  501165.668858              Мобильные телефоны   \n",
       "1        0cd903d1cc   direct  126342.359505                        Ноутбуки   \n",
       "2        ef35bc88a7   direct   95626.321402                      Телевизоры   \n",
       "3        6ff9f4014c   direct   75680.653002                        Планшеты   \n",
       "4        72bc238e4d   direct   64435.934651  Наушники и Bluetooth-гарнитуры   \n",
       "...             ...      ...            ...                             ...   \n",
       "1925     c51343bf77  organic      15.640773             Свитеры и кардиганы   \n",
       "1926     d942687638  organic       13.87554                      Термобелье   \n",
       "1927     976642886f  organic       9.204211     Наклейки, шильдики и значки   \n",
       "1928     075994491e  organic       4.606261             Гигиена полости рта   \n",
       "1929          total  organic      \"5687882\"                             NaN   \n",
       "\n",
       "     category_id               category_name  \n",
       "0     09f279a643                 Электроника  \n",
       "1     3509869a61        Компьютерная техника  \n",
       "2     09f279a643                 Электроника  \n",
       "3     3509869a61        Компьютерная техника  \n",
       "4     09f279a643                 Электроника  \n",
       "...          ...                         ...  \n",
       "1925  6074ad29ac  Одежда, обувь и аксессуары  \n",
       "1926  6074ad29ac  Одежда, обувь и аксессуары  \n",
       "1927  65922fa39c                        Авто  \n",
       "1928  7dbac4c1a3              Детские товары  \n",
       "1929         NaN                         NaN  \n",
       "\n",
       "[1930 rows x 6 columns]"
      ]
     },
     "execution_count": 30,
     "metadata": {},
     "output_type": "execute_result"
    }
   ],
   "source": [
    "data_final"
   ]
  },
  {
   "cell_type": "markdown",
   "id": "b0182959",
   "metadata": {},
   "source": [
    "## Перевод строковых значений в числа\n",
    "<a id='str_to_num'></a>"
   ]
  },
  {
   "cell_type": "code",
   "execution_count": 31,
   "id": "053f1be7",
   "metadata": {},
   "outputs": [
    {
     "ename": "FileNotFoundError",
     "evalue": "[Errno 2] No such file or directory: 'ids.xlsx'",
     "output_type": "error",
     "traceback": [
      "\u001b[1;31m---------------------------------------------------------------------------\u001b[0m",
      "\u001b[1;31mFileNotFoundError\u001b[0m                         Traceback (most recent call last)",
      "Input \u001b[1;32mIn [31]\u001b[0m, in \u001b[0;36m<cell line: 1>\u001b[1;34m()\u001b[0m\n\u001b[1;32m----> 1\u001b[0m transactions \u001b[38;5;241m=\u001b[39m \u001b[43mpd\u001b[49m\u001b[38;5;241;43m.\u001b[39;49m\u001b[43mread_excel\u001b[49m\u001b[43m(\u001b[49m\u001b[38;5;124;43m'\u001b[39;49m\u001b[38;5;124;43mids.xlsx\u001b[39;49m\u001b[38;5;124;43m'\u001b[39;49m\u001b[43m)\u001b[49m\n",
      "File \u001b[1;32m~\\anaconda3\\lib\\site-packages\\pandas\\util\\_decorators.py:311\u001b[0m, in \u001b[0;36mdeprecate_nonkeyword_arguments.<locals>.decorate.<locals>.wrapper\u001b[1;34m(*args, **kwargs)\u001b[0m\n\u001b[0;32m    305\u001b[0m \u001b[38;5;28;01mif\u001b[39;00m \u001b[38;5;28mlen\u001b[39m(args) \u001b[38;5;241m>\u001b[39m num_allow_args:\n\u001b[0;32m    306\u001b[0m     warnings\u001b[38;5;241m.\u001b[39mwarn(\n\u001b[0;32m    307\u001b[0m         msg\u001b[38;5;241m.\u001b[39mformat(arguments\u001b[38;5;241m=\u001b[39marguments),\n\u001b[0;32m    308\u001b[0m         \u001b[38;5;167;01mFutureWarning\u001b[39;00m,\n\u001b[0;32m    309\u001b[0m         stacklevel\u001b[38;5;241m=\u001b[39mstacklevel,\n\u001b[0;32m    310\u001b[0m     )\n\u001b[1;32m--> 311\u001b[0m \u001b[38;5;28;01mreturn\u001b[39;00m func(\u001b[38;5;241m*\u001b[39margs, \u001b[38;5;241m*\u001b[39m\u001b[38;5;241m*\u001b[39mkwargs)\n",
      "File \u001b[1;32m~\\anaconda3\\lib\\site-packages\\pandas\\io\\excel\\_base.py:457\u001b[0m, in \u001b[0;36mread_excel\u001b[1;34m(io, sheet_name, header, names, index_col, usecols, squeeze, dtype, engine, converters, true_values, false_values, skiprows, nrows, na_values, keep_default_na, na_filter, verbose, parse_dates, date_parser, thousands, decimal, comment, skipfooter, convert_float, mangle_dupe_cols, storage_options)\u001b[0m\n\u001b[0;32m    455\u001b[0m \u001b[38;5;28;01mif\u001b[39;00m \u001b[38;5;129;01mnot\u001b[39;00m \u001b[38;5;28misinstance\u001b[39m(io, ExcelFile):\n\u001b[0;32m    456\u001b[0m     should_close \u001b[38;5;241m=\u001b[39m \u001b[38;5;28;01mTrue\u001b[39;00m\n\u001b[1;32m--> 457\u001b[0m     io \u001b[38;5;241m=\u001b[39m \u001b[43mExcelFile\u001b[49m\u001b[43m(\u001b[49m\u001b[43mio\u001b[49m\u001b[43m,\u001b[49m\u001b[43m \u001b[49m\u001b[43mstorage_options\u001b[49m\u001b[38;5;241;43m=\u001b[39;49m\u001b[43mstorage_options\u001b[49m\u001b[43m,\u001b[49m\u001b[43m \u001b[49m\u001b[43mengine\u001b[49m\u001b[38;5;241;43m=\u001b[39;49m\u001b[43mengine\u001b[49m\u001b[43m)\u001b[49m\n\u001b[0;32m    458\u001b[0m \u001b[38;5;28;01melif\u001b[39;00m engine \u001b[38;5;129;01mand\u001b[39;00m engine \u001b[38;5;241m!=\u001b[39m io\u001b[38;5;241m.\u001b[39mengine:\n\u001b[0;32m    459\u001b[0m     \u001b[38;5;28;01mraise\u001b[39;00m \u001b[38;5;167;01mValueError\u001b[39;00m(\n\u001b[0;32m    460\u001b[0m         \u001b[38;5;124m\"\u001b[39m\u001b[38;5;124mEngine should not be specified when passing \u001b[39m\u001b[38;5;124m\"\u001b[39m\n\u001b[0;32m    461\u001b[0m         \u001b[38;5;124m\"\u001b[39m\u001b[38;5;124man ExcelFile - ExcelFile already has the engine set\u001b[39m\u001b[38;5;124m\"\u001b[39m\n\u001b[0;32m    462\u001b[0m     )\n",
      "File \u001b[1;32m~\\anaconda3\\lib\\site-packages\\pandas\\io\\excel\\_base.py:1376\u001b[0m, in \u001b[0;36mExcelFile.__init__\u001b[1;34m(self, path_or_buffer, engine, storage_options)\u001b[0m\n\u001b[0;32m   1374\u001b[0m     ext \u001b[38;5;241m=\u001b[39m \u001b[38;5;124m\"\u001b[39m\u001b[38;5;124mxls\u001b[39m\u001b[38;5;124m\"\u001b[39m\n\u001b[0;32m   1375\u001b[0m \u001b[38;5;28;01melse\u001b[39;00m:\n\u001b[1;32m-> 1376\u001b[0m     ext \u001b[38;5;241m=\u001b[39m \u001b[43minspect_excel_format\u001b[49m\u001b[43m(\u001b[49m\n\u001b[0;32m   1377\u001b[0m \u001b[43m        \u001b[49m\u001b[43mcontent_or_path\u001b[49m\u001b[38;5;241;43m=\u001b[39;49m\u001b[43mpath_or_buffer\u001b[49m\u001b[43m,\u001b[49m\u001b[43m \u001b[49m\u001b[43mstorage_options\u001b[49m\u001b[38;5;241;43m=\u001b[39;49m\u001b[43mstorage_options\u001b[49m\n\u001b[0;32m   1378\u001b[0m \u001b[43m    \u001b[49m\u001b[43m)\u001b[49m\n\u001b[0;32m   1379\u001b[0m     \u001b[38;5;28;01mif\u001b[39;00m ext \u001b[38;5;129;01mis\u001b[39;00m \u001b[38;5;28;01mNone\u001b[39;00m:\n\u001b[0;32m   1380\u001b[0m         \u001b[38;5;28;01mraise\u001b[39;00m \u001b[38;5;167;01mValueError\u001b[39;00m(\n\u001b[0;32m   1381\u001b[0m             \u001b[38;5;124m\"\u001b[39m\u001b[38;5;124mExcel file format cannot be determined, you must specify \u001b[39m\u001b[38;5;124m\"\u001b[39m\n\u001b[0;32m   1382\u001b[0m             \u001b[38;5;124m\"\u001b[39m\u001b[38;5;124man engine manually.\u001b[39m\u001b[38;5;124m\"\u001b[39m\n\u001b[0;32m   1383\u001b[0m         )\n",
      "File \u001b[1;32m~\\anaconda3\\lib\\site-packages\\pandas\\io\\excel\\_base.py:1250\u001b[0m, in \u001b[0;36minspect_excel_format\u001b[1;34m(content_or_path, storage_options)\u001b[0m\n\u001b[0;32m   1247\u001b[0m \u001b[38;5;28;01mif\u001b[39;00m \u001b[38;5;28misinstance\u001b[39m(content_or_path, \u001b[38;5;28mbytes\u001b[39m):\n\u001b[0;32m   1248\u001b[0m     content_or_path \u001b[38;5;241m=\u001b[39m BytesIO(content_or_path)\n\u001b[1;32m-> 1250\u001b[0m \u001b[38;5;28;01mwith\u001b[39;00m \u001b[43mget_handle\u001b[49m\u001b[43m(\u001b[49m\n\u001b[0;32m   1251\u001b[0m \u001b[43m    \u001b[49m\u001b[43mcontent_or_path\u001b[49m\u001b[43m,\u001b[49m\u001b[43m \u001b[49m\u001b[38;5;124;43m\"\u001b[39;49m\u001b[38;5;124;43mrb\u001b[39;49m\u001b[38;5;124;43m\"\u001b[39;49m\u001b[43m,\u001b[49m\u001b[43m \u001b[49m\u001b[43mstorage_options\u001b[49m\u001b[38;5;241;43m=\u001b[39;49m\u001b[43mstorage_options\u001b[49m\u001b[43m,\u001b[49m\u001b[43m \u001b[49m\u001b[43mis_text\u001b[49m\u001b[38;5;241;43m=\u001b[39;49m\u001b[38;5;28;43;01mFalse\u001b[39;49;00m\n\u001b[0;32m   1252\u001b[0m \u001b[43m\u001b[49m\u001b[43m)\u001b[49m \u001b[38;5;28;01mas\u001b[39;00m handle:\n\u001b[0;32m   1253\u001b[0m     stream \u001b[38;5;241m=\u001b[39m handle\u001b[38;5;241m.\u001b[39mhandle\n\u001b[0;32m   1254\u001b[0m     stream\u001b[38;5;241m.\u001b[39mseek(\u001b[38;5;241m0\u001b[39m)\n",
      "File \u001b[1;32m~\\anaconda3\\lib\\site-packages\\pandas\\io\\common.py:798\u001b[0m, in \u001b[0;36mget_handle\u001b[1;34m(path_or_buf, mode, encoding, compression, memory_map, is_text, errors, storage_options)\u001b[0m\n\u001b[0;32m    789\u001b[0m         handle \u001b[38;5;241m=\u001b[39m \u001b[38;5;28mopen\u001b[39m(\n\u001b[0;32m    790\u001b[0m             handle,\n\u001b[0;32m    791\u001b[0m             ioargs\u001b[38;5;241m.\u001b[39mmode,\n\u001b[1;32m   (...)\u001b[0m\n\u001b[0;32m    794\u001b[0m             newline\u001b[38;5;241m=\u001b[39m\u001b[38;5;124m\"\u001b[39m\u001b[38;5;124m\"\u001b[39m,\n\u001b[0;32m    795\u001b[0m         )\n\u001b[0;32m    796\u001b[0m     \u001b[38;5;28;01melse\u001b[39;00m:\n\u001b[0;32m    797\u001b[0m         \u001b[38;5;66;03m# Binary mode\u001b[39;00m\n\u001b[1;32m--> 798\u001b[0m         handle \u001b[38;5;241m=\u001b[39m \u001b[38;5;28;43mopen\u001b[39;49m\u001b[43m(\u001b[49m\u001b[43mhandle\u001b[49m\u001b[43m,\u001b[49m\u001b[43m \u001b[49m\u001b[43mioargs\u001b[49m\u001b[38;5;241;43m.\u001b[39;49m\u001b[43mmode\u001b[49m\u001b[43m)\u001b[49m\n\u001b[0;32m    799\u001b[0m     handles\u001b[38;5;241m.\u001b[39mappend(handle)\n\u001b[0;32m    801\u001b[0m \u001b[38;5;66;03m# Convert BytesIO or file objects passed with an encoding\u001b[39;00m\n",
      "\u001b[1;31mFileNotFoundError\u001b[0m: [Errno 2] No such file or directory: 'ids.xlsx'"
     ]
    }
   ],
   "source": [
    "transactions = pd.read_excel('ids.xlsx')"
   ]
  },
  {
   "cell_type": "code",
   "execution_count": null,
   "id": "7b2b3c95",
   "metadata": {},
   "outputs": [],
   "source": [
    "display(transactions['category'].unique())\n",
    "transactions.head()"
   ]
  },
  {
   "cell_type": "code",
   "execution_count": 32,
   "id": "b96ef1b4",
   "metadata": {},
   "outputs": [
    {
     "ename": "NameError",
     "evalue": "name 'transactions' is not defined",
     "output_type": "error",
     "traceback": [
      "\u001b[1;31m---------------------------------------------------------------------------\u001b[0m",
      "\u001b[1;31mNameError\u001b[0m                                 Traceback (most recent call last)",
      "Input \u001b[1;32mIn [32]\u001b[0m, in \u001b[0;36m<cell line: 1>\u001b[1;34m()\u001b[0m\n\u001b[1;32m----> 1\u001b[0m \u001b[43mtransactions\u001b[49m\u001b[38;5;241m.\u001b[39minfo()\n",
      "\u001b[1;31mNameError\u001b[0m: name 'transactions' is not defined"
     ]
    }
   ],
   "source": [
    "transactions.info()"
   ]
  },
  {
   "cell_type": "markdown",
   "id": "fb7f3e5a",
   "metadata": {},
   "source": [
    "\n",
    "\n",
    "\n",
    "\n",
    "\n",
    "\n",
    "\n",
    "\n",
    "\n",
    "\n",
    "\n",
    "\n",
    "\n",
    "\n",
    "\n",
    "\n",
    "\n",
    "\n",
    "\n",
    "\n",
    "\n",
    "\n",
    "\n",
    "\n",
    "\n",
    "\n",
    "\n",
    "\n",
    "\n",
    "\n",
    "\n",
    "\n",
    "\n",
    "\n",
    "transactions['amount'] = pd.to_numeric(transactions['amount']) \n",
    "\n",
    "\n",
    "У метода to_numeric() есть параметр errors. От значений, принимаемых errors, зависят действия to_numeric при встрече с некорректным значением:\n",
    "`errors='raise' — дефолтное поведение: при встрече с некорректным значением выдаётся ошибка, операция перевода в числа прерывается;\n",
    "\n",
    "\n",
    "`errors='coerce' — некорректные значения принудительно заменяются на NaN;\n",
    "\n",
    "\n",
    "`errors='ignore' — некорректные значения игнорируются, но остаются.\n",
    "\n",
    "\n",
    "transactions['amount'] = pd.to_numeric(transactions['amount'], errors='coerce') \n",
    "Методом to_numeric() мы не только превратим строки в числовой тип там, где это возможно, но и выясним, на каких значениях метод не работает.\n",
    "Особенность метода to_numeric() в том, что при переводе все числа будут иметь тип данных float. Это подходит далеко не всем значениям. Но есть и хорошие новости: в нужный тип значения переводят методом astype(). Например, аргумент ('int') метода astype() означает, что значение нужно перевести в целое число:"
   ]
  },
  {
   "cell_type": "code",
   "execution_count": 33,
   "id": "0e06f359",
   "metadata": {},
   "outputs": [
    {
     "ename": "NameError",
     "evalue": "name 'transactions' is not defined",
     "output_type": "error",
     "traceback": [
      "\u001b[1;31m---------------------------------------------------------------------------\u001b[0m",
      "\u001b[1;31mNameError\u001b[0m                                 Traceback (most recent call last)",
      "Input \u001b[1;32mIn [33]\u001b[0m, in \u001b[0;36m<cell line: 1>\u001b[1;34m()\u001b[0m\n\u001b[1;32m----> 1\u001b[0m transactions[\u001b[38;5;124m'\u001b[39m\u001b[38;5;124mid\u001b[39m\u001b[38;5;124m'\u001b[39m] \u001b[38;5;241m=\u001b[39m pd\u001b[38;5;241m.\u001b[39mto_numeric(\u001b[43mtransactions\u001b[49m[\u001b[38;5;124m'\u001b[39m\u001b[38;5;124mid\u001b[39m\u001b[38;5;124m'\u001b[39m],errors\u001b[38;5;241m=\u001b[39m\u001b[38;5;124m'\u001b[39m\u001b[38;5;124mcoerce\u001b[39m\u001b[38;5;124m'\u001b[39m)\n",
      "\u001b[1;31mNameError\u001b[0m: name 'transactions' is not defined"
     ]
    }
   ],
   "source": [
    "transactions['id'] = pd.to_numeric(transactions['id'],errors='coerce')"
   ]
  },
  {
   "cell_type": "code",
   "execution_count": 34,
   "id": "da54571c",
   "metadata": {},
   "outputs": [
    {
     "ename": "NameError",
     "evalue": "name 'transactions' is not defined",
     "output_type": "error",
     "traceback": [
      "\u001b[1;31m---------------------------------------------------------------------------\u001b[0m",
      "\u001b[1;31mNameError\u001b[0m                                 Traceback (most recent call last)",
      "Input \u001b[1;32mIn [34]\u001b[0m, in \u001b[0;36m<cell line: 1>\u001b[1;34m()\u001b[0m\n\u001b[1;32m----> 1\u001b[0m \u001b[43mtransactions\u001b[49m[\u001b[38;5;124m'\u001b[39m\u001b[38;5;124mid\u001b[39m\u001b[38;5;124m'\u001b[39m]\u001b[38;5;241m.\u001b[39mtail(\u001b[38;5;241m5\u001b[39m)\n",
      "\u001b[1;31mNameError\u001b[0m: name 'transactions' is not defined"
     ]
    }
   ],
   "source": [
    "transactions['id'].tail(5)"
   ]
  },
  {
   "cell_type": "code",
   "execution_count": 35,
   "id": "4dc96cbe",
   "metadata": {},
   "outputs": [
    {
     "ename": "NameError",
     "evalue": "name 'transactions' is not defined",
     "output_type": "error",
     "traceback": [
      "\u001b[1;31m---------------------------------------------------------------------------\u001b[0m",
      "\u001b[1;31mNameError\u001b[0m                                 Traceback (most recent call last)",
      "Input \u001b[1;32mIn [35]\u001b[0m, in \u001b[0;36m<cell line: 1>\u001b[1;34m()\u001b[0m\n\u001b[1;32m----> 1\u001b[0m \u001b[43mtransactions\u001b[49m\u001b[38;5;241m.\u001b[39minfo()\n",
      "\u001b[1;31mNameError\u001b[0m: name 'transactions' is not defined"
     ]
    }
   ],
   "source": [
    "transactions.info()"
   ]
  },
  {
   "cell_type": "code",
   "execution_count": 36,
   "id": "87c7556f",
   "metadata": {},
   "outputs": [
    {
     "ename": "NameError",
     "evalue": "name 'transactions' is not defined",
     "output_type": "error",
     "traceback": [
      "\u001b[1;31m---------------------------------------------------------------------------\u001b[0m",
      "\u001b[1;31mNameError\u001b[0m                                 Traceback (most recent call last)",
      "Input \u001b[1;32mIn [36]\u001b[0m, in \u001b[0;36m<cell line: 1>\u001b[1;34m()\u001b[0m\n\u001b[1;32m----> 1\u001b[0m transactions[\u001b[38;5;124m'\u001b[39m\u001b[38;5;124mamount\u001b[39m\u001b[38;5;124m'\u001b[39m] \u001b[38;5;241m=\u001b[39m pd\u001b[38;5;241m.\u001b[39mto_numeric(\u001b[43mtransactions\u001b[49m[\u001b[38;5;124m'\u001b[39m\u001b[38;5;124mamount\u001b[39m\u001b[38;5;124m'\u001b[39m],errors\u001b[38;5;241m=\u001b[39m\u001b[38;5;124m'\u001b[39m\u001b[38;5;124mcoerce\u001b[39m\u001b[38;5;124m'\u001b[39m)\n",
      "\u001b[1;31mNameError\u001b[0m: name 'transactions' is not defined"
     ]
    }
   ],
   "source": [
    "transactions['amount'] = pd.to_numeric(transactions['amount'],errors='coerce')"
   ]
  },
  {
   "cell_type": "code",
   "execution_count": 37,
   "id": "e5eb1223",
   "metadata": {},
   "outputs": [
    {
     "ename": "NameError",
     "evalue": "name 'transactions' is not defined",
     "output_type": "error",
     "traceback": [
      "\u001b[1;31m---------------------------------------------------------------------------\u001b[0m",
      "\u001b[1;31mNameError\u001b[0m                                 Traceback (most recent call last)",
      "Input \u001b[1;32mIn [37]\u001b[0m, in \u001b[0;36m<cell line: 1>\u001b[1;34m()\u001b[0m\n\u001b[1;32m----> 1\u001b[0m \u001b[43mtransactions\u001b[49m\u001b[38;5;241m.\u001b[39minfo()\n",
      "\u001b[1;31mNameError\u001b[0m: name 'transactions' is not defined"
     ]
    }
   ],
   "source": [
    "transactions.info()"
   ]
  },
  {
   "cell_type": "code",
   "execution_count": 38,
   "id": "9629266a",
   "metadata": {},
   "outputs": [
    {
     "ename": "NameError",
     "evalue": "name 'transactions' is not defined",
     "output_type": "error",
     "traceback": [
      "\u001b[1;31m---------------------------------------------------------------------------\u001b[0m",
      "\u001b[1;31mNameError\u001b[0m                                 Traceback (most recent call last)",
      "Input \u001b[1;32mIn [38]\u001b[0m, in \u001b[0;36m<cell line: 1>\u001b[1;34m()\u001b[0m\n\u001b[1;32m----> 1\u001b[0m \u001b[43mtransactions\u001b[49m[\u001b[38;5;124m'\u001b[39m\u001b[38;5;124mamount\u001b[39m\u001b[38;5;124m'\u001b[39m]\u001b[38;5;241m.\u001b[39msum()\n",
      "\u001b[1;31mNameError\u001b[0m: name 'transactions' is not defined"
     ]
    }
   ],
   "source": [
    "transactions['amount'].sum()"
   ]
  },
  {
   "cell_type": "markdown",
   "id": "276b6a9b",
   "metadata": {},
   "source": [
    "\n",
    "Рассчитайте сумму продаж для каждой категории и сохраните в переменной transactions_per_category. Для этого сгруппируйте датафрейм transactions по столбцу category и примените метод sum() к столбцу amount. Выведите результат на экран."
   ]
  },
  {
   "cell_type": "code",
   "execution_count": 39,
   "id": "bd608aca",
   "metadata": {},
   "outputs": [
    {
     "ename": "NameError",
     "evalue": "name 'transactions' is not defined",
     "output_type": "error",
     "traceback": [
      "\u001b[1;31m---------------------------------------------------------------------------\u001b[0m",
      "\u001b[1;31mNameError\u001b[0m                                 Traceback (most recent call last)",
      "Input \u001b[1;32mIn [39]\u001b[0m, in \u001b[0;36m<cell line: 1>\u001b[1;34m()\u001b[0m\n\u001b[1;32m----> 1\u001b[0m transactions_per_category \u001b[38;5;241m=\u001b[39m \u001b[43mtransactions\u001b[49m\u001b[38;5;241m.\u001b[39mgroupby(\u001b[38;5;124m'\u001b[39m\u001b[38;5;124mcategory\u001b[39m\u001b[38;5;124m'\u001b[39m)[\u001b[38;5;124m'\u001b[39m\u001b[38;5;124mamount\u001b[39m\u001b[38;5;124m'\u001b[39m]\u001b[38;5;241m.\u001b[39msum()\n",
      "\u001b[1;31mNameError\u001b[0m: name 'transactions' is not defined"
     ]
    }
   ],
   "source": [
    " transactions_per_category = transactions.groupby('category')['amount'].sum()"
   ]
  },
  {
   "cell_type": "code",
   "execution_count": 40,
   "id": "1b34291d",
   "metadata": {},
   "outputs": [
    {
     "ename": "NameError",
     "evalue": "name 'transactions_per_category' is not defined",
     "output_type": "error",
     "traceback": [
      "\u001b[1;31m---------------------------------------------------------------------------\u001b[0m",
      "\u001b[1;31mNameError\u001b[0m                                 Traceback (most recent call last)",
      "Input \u001b[1;32mIn [40]\u001b[0m, in \u001b[0;36m<cell line: 1>\u001b[1;34m()\u001b[0m\n\u001b[1;32m----> 1\u001b[0m \u001b[38;5;28mprint\u001b[39m(\u001b[43mtransactions_per_category\u001b[49m)\n",
      "\u001b[1;31mNameError\u001b[0m: name 'transactions_per_category' is not defined"
     ]
    }
   ],
   "source": [
    "print(transactions_per_category)"
   ]
  },
  {
   "cell_type": "code",
   "execution_count": 41,
   "id": "6e0b3114",
   "metadata": {},
   "outputs": [
    {
     "data": {
      "text/html": [
       "<div>\n",
       "<style scoped>\n",
       "    .dataframe tbody tr th:only-of-type {\n",
       "        vertical-align: middle;\n",
       "    }\n",
       "\n",
       "    .dataframe tbody tr th {\n",
       "        vertical-align: top;\n",
       "    }\n",
       "\n",
       "    .dataframe thead th {\n",
       "        text-align: right;\n",
       "    }\n",
       "</style>\n",
       "<table border=\"1\" class=\"dataframe\">\n",
       "  <thead>\n",
       "    <tr style=\"text-align: right;\">\n",
       "      <th></th>\n",
       "      <th>subcategory_id</th>\n",
       "      <th>source</th>\n",
       "      <th>visits</th>\n",
       "    </tr>\n",
       "  </thead>\n",
       "  <tbody>\n",
       "    <tr>\n",
       "      <th>0</th>\n",
       "      <td>cf2e61c7af</td>\n",
       "      <td>direct</td>\n",
       "      <td>501165.668858</td>\n",
       "    </tr>\n",
       "    <tr>\n",
       "      <th>1</th>\n",
       "      <td>0cd903d1cc</td>\n",
       "      <td>direct</td>\n",
       "      <td>126342.359505</td>\n",
       "    </tr>\n",
       "    <tr>\n",
       "      <th>2</th>\n",
       "      <td>ef35bc88a7</td>\n",
       "      <td>direct</td>\n",
       "      <td>95626.321402</td>\n",
       "    </tr>\n",
       "    <tr>\n",
       "      <th>3</th>\n",
       "      <td>6ff9f4014c</td>\n",
       "      <td>direct</td>\n",
       "      <td>75680.653002</td>\n",
       "    </tr>\n",
       "    <tr>\n",
       "      <th>4</th>\n",
       "      <td>72bc238e4d</td>\n",
       "      <td>direct</td>\n",
       "      <td>64435.934651</td>\n",
       "    </tr>\n",
       "    <tr>\n",
       "      <th>...</th>\n",
       "      <td>...</td>\n",
       "      <td>...</td>\n",
       "      <td>...</td>\n",
       "    </tr>\n",
       "    <tr>\n",
       "      <th>1925</th>\n",
       "      <td>c51343bf77</td>\n",
       "      <td>organic</td>\n",
       "      <td>15.640773</td>\n",
       "    </tr>\n",
       "    <tr>\n",
       "      <th>1926</th>\n",
       "      <td>d942687638</td>\n",
       "      <td>organic</td>\n",
       "      <td>13.87554</td>\n",
       "    </tr>\n",
       "    <tr>\n",
       "      <th>1927</th>\n",
       "      <td>976642886f</td>\n",
       "      <td>organic</td>\n",
       "      <td>9.204211</td>\n",
       "    </tr>\n",
       "    <tr>\n",
       "      <th>1928</th>\n",
       "      <td>075994491e</td>\n",
       "      <td>organic</td>\n",
       "      <td>4.606261</td>\n",
       "    </tr>\n",
       "    <tr>\n",
       "      <th>1929</th>\n",
       "      <td>total</td>\n",
       "      <td>organic</td>\n",
       "      <td>\"5687882\"</td>\n",
       "    </tr>\n",
       "  </tbody>\n",
       "</table>\n",
       "<p>1930 rows × 3 columns</p>\n",
       "</div>"
      ],
      "text/plain": [
       "     subcategory_id   source         visits\n",
       "0        cf2e61c7af   direct  501165.668858\n",
       "1        0cd903d1cc   direct  126342.359505\n",
       "2        ef35bc88a7   direct   95626.321402\n",
       "3        6ff9f4014c   direct   75680.653002\n",
       "4        72bc238e4d   direct   64435.934651\n",
       "...             ...      ...            ...\n",
       "1925     c51343bf77  organic      15.640773\n",
       "1926     d942687638  organic       13.87554\n",
       "1927     976642886f  organic       9.204211\n",
       "1928     075994491e  organic       4.606261\n",
       "1929          total  organic      \"5687882\"\n",
       "\n",
       "[1930 rows x 3 columns]"
      ]
     },
     "execution_count": 41,
     "metadata": {},
     "output_type": "execute_result"
    }
   ],
   "source": [
    "data"
   ]
  },
  {
   "cell_type": "code",
   "execution_count": 42,
   "id": "6e766bd2",
   "metadata": {},
   "outputs": [
    {
     "ename": "ValueError",
     "evalue": "Unable to parse string \"\"2369468\"\" at position 964",
     "output_type": "error",
     "traceback": [
      "\u001b[1;31m---------------------------------------------------------------------------\u001b[0m",
      "\u001b[1;31mValueError\u001b[0m                                Traceback (most recent call last)",
      "File \u001b[1;32m~\\anaconda3\\lib\\site-packages\\pandas\\_libs\\lib.pyx:2315\u001b[0m, in \u001b[0;36mpandas._libs.lib.maybe_convert_numeric\u001b[1;34m()\u001b[0m\n",
      "\u001b[1;31mValueError\u001b[0m: Unable to parse string \"\"2369468\"\"",
      "\nDuring handling of the above exception, another exception occurred:\n",
      "\u001b[1;31mValueError\u001b[0m                                Traceback (most recent call last)",
      "Input \u001b[1;32mIn [42]\u001b[0m, in \u001b[0;36m<cell line: 1>\u001b[1;34m()\u001b[0m\n\u001b[1;32m----> 1\u001b[0m \u001b[43mpd\u001b[49m\u001b[38;5;241;43m.\u001b[39;49m\u001b[43mto_numeric\u001b[49m\u001b[43m(\u001b[49m\u001b[43mdata\u001b[49m\u001b[43m[\u001b[49m\u001b[38;5;124;43m'\u001b[39;49m\u001b[38;5;124;43mvisits\u001b[39;49m\u001b[38;5;124;43m'\u001b[39;49m\u001b[43m]\u001b[49m\u001b[43m)\u001b[49m\n",
      "File \u001b[1;32m~\\anaconda3\\lib\\site-packages\\pandas\\core\\tools\\numeric.py:184\u001b[0m, in \u001b[0;36mto_numeric\u001b[1;34m(arg, errors, downcast)\u001b[0m\n\u001b[0;32m    182\u001b[0m coerce_numeric \u001b[38;5;241m=\u001b[39m errors \u001b[38;5;129;01mnot\u001b[39;00m \u001b[38;5;129;01min\u001b[39;00m (\u001b[38;5;124m\"\u001b[39m\u001b[38;5;124mignore\u001b[39m\u001b[38;5;124m\"\u001b[39m, \u001b[38;5;124m\"\u001b[39m\u001b[38;5;124mraise\u001b[39m\u001b[38;5;124m\"\u001b[39m)\n\u001b[0;32m    183\u001b[0m \u001b[38;5;28;01mtry\u001b[39;00m:\n\u001b[1;32m--> 184\u001b[0m     values, _ \u001b[38;5;241m=\u001b[39m \u001b[43mlib\u001b[49m\u001b[38;5;241;43m.\u001b[39;49m\u001b[43mmaybe_convert_numeric\u001b[49m\u001b[43m(\u001b[49m\n\u001b[0;32m    185\u001b[0m \u001b[43m        \u001b[49m\u001b[43mvalues\u001b[49m\u001b[43m,\u001b[49m\u001b[43m \u001b[49m\u001b[38;5;28;43mset\u001b[39;49m\u001b[43m(\u001b[49m\u001b[43m)\u001b[49m\u001b[43m,\u001b[49m\u001b[43m \u001b[49m\u001b[43mcoerce_numeric\u001b[49m\u001b[38;5;241;43m=\u001b[39;49m\u001b[43mcoerce_numeric\u001b[49m\n\u001b[0;32m    186\u001b[0m \u001b[43m    \u001b[49m\u001b[43m)\u001b[49m\n\u001b[0;32m    187\u001b[0m \u001b[38;5;28;01mexcept\u001b[39;00m (\u001b[38;5;167;01mValueError\u001b[39;00m, \u001b[38;5;167;01mTypeError\u001b[39;00m):\n\u001b[0;32m    188\u001b[0m     \u001b[38;5;28;01mif\u001b[39;00m errors \u001b[38;5;241m==\u001b[39m \u001b[38;5;124m\"\u001b[39m\u001b[38;5;124mraise\u001b[39m\u001b[38;5;124m\"\u001b[39m:\n",
      "File \u001b[1;32m~\\anaconda3\\lib\\site-packages\\pandas\\_libs\\lib.pyx:2357\u001b[0m, in \u001b[0;36mpandas._libs.lib.maybe_convert_numeric\u001b[1;34m()\u001b[0m\n",
      "\u001b[1;31mValueError\u001b[0m: Unable to parse string \"\"2369468\"\" at position 964"
     ]
    }
   ],
   "source": [
    "pd.to_numeric(data['visits'])"
   ]
  },
  {
   "cell_type": "code",
   "execution_count": null,
   "id": "be39bb68",
   "metadata": {},
   "outputs": [],
   "source": [
    "data.loc[964]"
   ]
  },
  {
   "cell_type": "code",
   "execution_count": 43,
   "id": "77bfb8f1",
   "metadata": {},
   "outputs": [
    {
     "data": {
      "text/html": [
       "<div>\n",
       "<style scoped>\n",
       "    .dataframe tbody tr th:only-of-type {\n",
       "        vertical-align: middle;\n",
       "    }\n",
       "\n",
       "    .dataframe tbody tr th {\n",
       "        vertical-align: top;\n",
       "    }\n",
       "\n",
       "    .dataframe thead th {\n",
       "        text-align: right;\n",
       "    }\n",
       "</style>\n",
       "<table border=\"1\" class=\"dataframe\">\n",
       "  <thead>\n",
       "    <tr style=\"text-align: right;\">\n",
       "      <th></th>\n",
       "      <th>subcategory_id</th>\n",
       "      <th>source</th>\n",
       "      <th>visits</th>\n",
       "    </tr>\n",
       "  </thead>\n",
       "  <tbody>\n",
       "    <tr>\n",
       "      <th>964</th>\n",
       "      <td>total</td>\n",
       "      <td>direct</td>\n",
       "      <td>\"2369468\"</td>\n",
       "    </tr>\n",
       "    <tr>\n",
       "      <th>1929</th>\n",
       "      <td>total</td>\n",
       "      <td>organic</td>\n",
       "      <td>\"5687882\"</td>\n",
       "    </tr>\n",
       "  </tbody>\n",
       "</table>\n",
       "</div>"
      ],
      "text/plain": [
       "     subcategory_id   source     visits\n",
       "964           total   direct  \"2369468\"\n",
       "1929          total  organic  \"5687882\""
      ]
     },
     "execution_count": 43,
     "metadata": {},
     "output_type": "execute_result"
    }
   ],
   "source": [
    "data[data['subcategory_id']=='total']"
   ]
  },
  {
   "cell_type": "code",
   "execution_count": 44,
   "id": "de6c58c0",
   "metadata": {},
   "outputs": [],
   "source": [
    "data = data[data['subcategory_id']!='total']"
   ]
  },
  {
   "cell_type": "code",
   "execution_count": 45,
   "id": "84d99006",
   "metadata": {},
   "outputs": [
    {
     "data": {
      "text/html": [
       "<div>\n",
       "<style scoped>\n",
       "    .dataframe tbody tr th:only-of-type {\n",
       "        vertical-align: middle;\n",
       "    }\n",
       "\n",
       "    .dataframe tbody tr th {\n",
       "        vertical-align: top;\n",
       "    }\n",
       "\n",
       "    .dataframe thead th {\n",
       "        text-align: right;\n",
       "    }\n",
       "</style>\n",
       "<table border=\"1\" class=\"dataframe\">\n",
       "  <thead>\n",
       "    <tr style=\"text-align: right;\">\n",
       "      <th></th>\n",
       "      <th>subcategory_id</th>\n",
       "      <th>source</th>\n",
       "      <th>visits</th>\n",
       "    </tr>\n",
       "  </thead>\n",
       "  <tbody>\n",
       "  </tbody>\n",
       "</table>\n",
       "</div>"
      ],
      "text/plain": [
       "Empty DataFrame\n",
       "Columns: [subcategory_id, source, visits]\n",
       "Index: []"
      ]
     },
     "execution_count": 45,
     "metadata": {},
     "output_type": "execute_result"
    }
   ],
   "source": [
    "data[data['subcategory_id']=='total']"
   ]
  },
  {
   "cell_type": "code",
   "execution_count": 46,
   "id": "0f947da2",
   "metadata": {},
   "outputs": [
    {
     "name": "stderr",
     "output_type": "stream",
     "text": [
      "C:\\Users\\Admin\\AppData\\Local\\Temp\\ipykernel_15048\\4179413987.py:1: SettingWithCopyWarning: \n",
      "A value is trying to be set on a copy of a slice from a DataFrame.\n",
      "Try using .loc[row_indexer,col_indexer] = value instead\n",
      "\n",
      "See the caveats in the documentation: https://pandas.pydata.org/pandas-docs/stable/user_guide/indexing.html#returning-a-view-versus-a-copy\n",
      "  data['visits'] = data['visits'].astype('int')\n"
     ]
    }
   ],
   "source": [
    "data['visits'] = data['visits'].astype('int')"
   ]
  },
  {
   "cell_type": "code",
   "execution_count": 47,
   "id": "5c937f8b",
   "metadata": {},
   "outputs": [
    {
     "name": "stdout",
     "output_type": "stream",
     "text": [
      "<class 'pandas.core.frame.DataFrame'>\n",
      "Int64Index: 1928 entries, 0 to 1928\n",
      "Data columns (total 3 columns):\n",
      " #   Column          Non-Null Count  Dtype \n",
      "---  ------          --------------  ----- \n",
      " 0   subcategory_id  1928 non-null   object\n",
      " 1   source          1928 non-null   object\n",
      " 2   visits          1928 non-null   int32 \n",
      "dtypes: int32(1), object(2)\n",
      "memory usage: 52.7+ KB\n"
     ]
    }
   ],
   "source": [
    "data.info()"
   ]
  },
  {
   "cell_type": "code",
   "execution_count": 48,
   "id": "619d8c6e",
   "metadata": {},
   "outputs": [
    {
     "data": {
      "text/plain": [
       "source\n",
       "direct     2368980\n",
       "organic    5687407\n",
       "Name: visits, dtype: int32"
      ]
     },
     "execution_count": 48,
     "metadata": {},
     "output_type": "execute_result"
    }
   ],
   "source": [
    "data.groupby('source')['visits'].sum()"
   ]
  },
  {
   "cell_type": "markdown",
   "id": "af1cb80d",
   "metadata": {},
   "source": [
    "## Методы Pandas для работы с датой и временем\n",
    "<a id='D_T'></a>"
   ]
  },
  {
   "cell_type": "markdown",
   "id": "8af1042f",
   "metadata": {},
   "source": [
    "Вне зависимости от способа записи, дату и время нужно вводить в арифметические операции. Для этого в Python существует особый тип данных — datetime. \n"
   ]
  },
  {
   "cell_type": "markdown",
   "id": "049e9c29",
   "metadata": {},
   "source": [
    "Методом to_datetime() превратим содержимое этого столбца в понятные для Python даты.\n",
    "Для этого строку форматируют, обращаясь к специальной системе обозначений, где:\n",
    "\n",
    "%d — день месяца (от 01 до 31)\n",
    "\n",
    "%m — номер месяца (от 01 до 12)\n",
    "\n",
    "%Y — четырёхзначный номер года (например, 2019)\n",
    "\n",
    "Z — стандартный разделитель даты и времени\n",
    "\n",
    "%H — номер часа в 24-часовом формате\n",
    "\n",
    "%I — номер часа в 12-часовом формате\n",
    "\n",
    "%M — минуты (от 00 до 59)\n",
    "\n",
    "%S — секунды (от 00 до 59)\n",
    "\n",
    "Преобразуем формат даты 01.04.2019Z11:03:00 из первой строчки датафрейма:\n",
    "\n",
    "\n",
    "Сначала номер дня месяца. В соответствии с таблицей форматов заменяем его на %d:\n",
    "%d.04.2019Z11:03:00\n",
    "\n",
    "\n",
    "Далее точка (ее оставляем без изменений), потом номер месяца: %m: %d.%m.2019Z11:03:00\n",
    "\n",
    "\n",
    "После четырёхзначный номер года, заменяем 2019 на %Y: %d.%m.%YZ11:03:00\n",
    "\n",
    "\n",
    "Букву Z оставляем без изменений: %d.%m.%YZ11:03:00\n",
    "Номер часа в 24-часовом формате заменим на %H: %d.%m.%YZ%H:03:00\n",
    "Количество минут обозначим %M: %d.%m.%YZ%H:%M:00\n",
    "Завершим форматирование обозначением секунд %S: %d.%m.%YZ%H:%M:%S"
   ]
  },
  {
   "cell_type": "markdown",
   "id": "126977c4",
   "metadata": {},
   "source": [
    "## arrivals['date_datetime'] = pd.to_datetime(arrivals['date'], format='%d.%m.%YZ%H:%M:%S')\n",
    "## print(arrivals.head()) "
   ]
  },
  {
   "cell_type": "markdown",
   "id": "23167238",
   "metadata": {},
   "source": [
    "А у значений столбца '*target_time*' другой способ записи даты: 2019-04-01Z11:00:00. Значит, и в аргументе format сохраним другое выражение: '%Y-%m-%dZ%H:%M:%S':\n",
    "\n",
    "\n",
    "## arrivals['target_datetime'] = pd.to_datetime(\n",
    "##    arrivals['target_time'], format='%Y-%m-%dZ%H:%M:%S')"
   ]
  },
  {
   "cell_type": "code",
   "execution_count": 49,
   "id": "9ee3d618",
   "metadata": {},
   "outputs": [
    {
     "ename": "FileNotFoundError",
     "evalue": "[Errno 2] No such file or directory: 'position.csv'",
     "output_type": "error",
     "traceback": [
      "\u001b[1;31m---------------------------------------------------------------------------\u001b[0m",
      "\u001b[1;31mFileNotFoundError\u001b[0m                         Traceback (most recent call last)",
      "Input \u001b[1;32mIn [49]\u001b[0m, in \u001b[0;36m<cell line: 1>\u001b[1;34m()\u001b[0m\n\u001b[1;32m----> 1\u001b[0m position \u001b[38;5;241m=\u001b[39m \u001b[43mpd\u001b[49m\u001b[38;5;241;43m.\u001b[39;49m\u001b[43mread_csv\u001b[49m\u001b[43m(\u001b[49m\u001b[38;5;124;43m'\u001b[39;49m\u001b[38;5;124;43mposition.csv\u001b[39;49m\u001b[38;5;124;43m'\u001b[39;49m\u001b[43m)\u001b[49m\n",
      "File \u001b[1;32m~\\anaconda3\\lib\\site-packages\\pandas\\util\\_decorators.py:311\u001b[0m, in \u001b[0;36mdeprecate_nonkeyword_arguments.<locals>.decorate.<locals>.wrapper\u001b[1;34m(*args, **kwargs)\u001b[0m\n\u001b[0;32m    305\u001b[0m \u001b[38;5;28;01mif\u001b[39;00m \u001b[38;5;28mlen\u001b[39m(args) \u001b[38;5;241m>\u001b[39m num_allow_args:\n\u001b[0;32m    306\u001b[0m     warnings\u001b[38;5;241m.\u001b[39mwarn(\n\u001b[0;32m    307\u001b[0m         msg\u001b[38;5;241m.\u001b[39mformat(arguments\u001b[38;5;241m=\u001b[39marguments),\n\u001b[0;32m    308\u001b[0m         \u001b[38;5;167;01mFutureWarning\u001b[39;00m,\n\u001b[0;32m    309\u001b[0m         stacklevel\u001b[38;5;241m=\u001b[39mstacklevel,\n\u001b[0;32m    310\u001b[0m     )\n\u001b[1;32m--> 311\u001b[0m \u001b[38;5;28;01mreturn\u001b[39;00m func(\u001b[38;5;241m*\u001b[39margs, \u001b[38;5;241m*\u001b[39m\u001b[38;5;241m*\u001b[39mkwargs)\n",
      "File \u001b[1;32m~\\anaconda3\\lib\\site-packages\\pandas\\io\\parsers\\readers.py:680\u001b[0m, in \u001b[0;36mread_csv\u001b[1;34m(filepath_or_buffer, sep, delimiter, header, names, index_col, usecols, squeeze, prefix, mangle_dupe_cols, dtype, engine, converters, true_values, false_values, skipinitialspace, skiprows, skipfooter, nrows, na_values, keep_default_na, na_filter, verbose, skip_blank_lines, parse_dates, infer_datetime_format, keep_date_col, date_parser, dayfirst, cache_dates, iterator, chunksize, compression, thousands, decimal, lineterminator, quotechar, quoting, doublequote, escapechar, comment, encoding, encoding_errors, dialect, error_bad_lines, warn_bad_lines, on_bad_lines, delim_whitespace, low_memory, memory_map, float_precision, storage_options)\u001b[0m\n\u001b[0;32m    665\u001b[0m kwds_defaults \u001b[38;5;241m=\u001b[39m _refine_defaults_read(\n\u001b[0;32m    666\u001b[0m     dialect,\n\u001b[0;32m    667\u001b[0m     delimiter,\n\u001b[1;32m   (...)\u001b[0m\n\u001b[0;32m    676\u001b[0m     defaults\u001b[38;5;241m=\u001b[39m{\u001b[38;5;124m\"\u001b[39m\u001b[38;5;124mdelimiter\u001b[39m\u001b[38;5;124m\"\u001b[39m: \u001b[38;5;124m\"\u001b[39m\u001b[38;5;124m,\u001b[39m\u001b[38;5;124m\"\u001b[39m},\n\u001b[0;32m    677\u001b[0m )\n\u001b[0;32m    678\u001b[0m kwds\u001b[38;5;241m.\u001b[39mupdate(kwds_defaults)\n\u001b[1;32m--> 680\u001b[0m \u001b[38;5;28;01mreturn\u001b[39;00m \u001b[43m_read\u001b[49m\u001b[43m(\u001b[49m\u001b[43mfilepath_or_buffer\u001b[49m\u001b[43m,\u001b[49m\u001b[43m \u001b[49m\u001b[43mkwds\u001b[49m\u001b[43m)\u001b[49m\n",
      "File \u001b[1;32m~\\anaconda3\\lib\\site-packages\\pandas\\io\\parsers\\readers.py:575\u001b[0m, in \u001b[0;36m_read\u001b[1;34m(filepath_or_buffer, kwds)\u001b[0m\n\u001b[0;32m    572\u001b[0m _validate_names(kwds\u001b[38;5;241m.\u001b[39mget(\u001b[38;5;124m\"\u001b[39m\u001b[38;5;124mnames\u001b[39m\u001b[38;5;124m\"\u001b[39m, \u001b[38;5;28;01mNone\u001b[39;00m))\n\u001b[0;32m    574\u001b[0m \u001b[38;5;66;03m# Create the parser.\u001b[39;00m\n\u001b[1;32m--> 575\u001b[0m parser \u001b[38;5;241m=\u001b[39m TextFileReader(filepath_or_buffer, \u001b[38;5;241m*\u001b[39m\u001b[38;5;241m*\u001b[39mkwds)\n\u001b[0;32m    577\u001b[0m \u001b[38;5;28;01mif\u001b[39;00m chunksize \u001b[38;5;129;01mor\u001b[39;00m iterator:\n\u001b[0;32m    578\u001b[0m     \u001b[38;5;28;01mreturn\u001b[39;00m parser\n",
      "File \u001b[1;32m~\\anaconda3\\lib\\site-packages\\pandas\\io\\parsers\\readers.py:933\u001b[0m, in \u001b[0;36mTextFileReader.__init__\u001b[1;34m(self, f, engine, **kwds)\u001b[0m\n\u001b[0;32m    930\u001b[0m     \u001b[38;5;28mself\u001b[39m\u001b[38;5;241m.\u001b[39moptions[\u001b[38;5;124m\"\u001b[39m\u001b[38;5;124mhas_index_names\u001b[39m\u001b[38;5;124m\"\u001b[39m] \u001b[38;5;241m=\u001b[39m kwds[\u001b[38;5;124m\"\u001b[39m\u001b[38;5;124mhas_index_names\u001b[39m\u001b[38;5;124m\"\u001b[39m]\n\u001b[0;32m    932\u001b[0m \u001b[38;5;28mself\u001b[39m\u001b[38;5;241m.\u001b[39mhandles: IOHandles \u001b[38;5;241m|\u001b[39m \u001b[38;5;28;01mNone\u001b[39;00m \u001b[38;5;241m=\u001b[39m \u001b[38;5;28;01mNone\u001b[39;00m\n\u001b[1;32m--> 933\u001b[0m \u001b[38;5;28mself\u001b[39m\u001b[38;5;241m.\u001b[39m_engine \u001b[38;5;241m=\u001b[39m \u001b[38;5;28;43mself\u001b[39;49m\u001b[38;5;241;43m.\u001b[39;49m\u001b[43m_make_engine\u001b[49m\u001b[43m(\u001b[49m\u001b[43mf\u001b[49m\u001b[43m,\u001b[49m\u001b[43m \u001b[49m\u001b[38;5;28;43mself\u001b[39;49m\u001b[38;5;241;43m.\u001b[39;49m\u001b[43mengine\u001b[49m\u001b[43m)\u001b[49m\n",
      "File \u001b[1;32m~\\anaconda3\\lib\\site-packages\\pandas\\io\\parsers\\readers.py:1217\u001b[0m, in \u001b[0;36mTextFileReader._make_engine\u001b[1;34m(self, f, engine)\u001b[0m\n\u001b[0;32m   1213\u001b[0m     mode \u001b[38;5;241m=\u001b[39m \u001b[38;5;124m\"\u001b[39m\u001b[38;5;124mrb\u001b[39m\u001b[38;5;124m\"\u001b[39m\n\u001b[0;32m   1214\u001b[0m \u001b[38;5;66;03m# error: No overload variant of \"get_handle\" matches argument types\u001b[39;00m\n\u001b[0;32m   1215\u001b[0m \u001b[38;5;66;03m# \"Union[str, PathLike[str], ReadCsvBuffer[bytes], ReadCsvBuffer[str]]\"\u001b[39;00m\n\u001b[0;32m   1216\u001b[0m \u001b[38;5;66;03m# , \"str\", \"bool\", \"Any\", \"Any\", \"Any\", \"Any\", \"Any\"\u001b[39;00m\n\u001b[1;32m-> 1217\u001b[0m \u001b[38;5;28mself\u001b[39m\u001b[38;5;241m.\u001b[39mhandles \u001b[38;5;241m=\u001b[39m \u001b[43mget_handle\u001b[49m\u001b[43m(\u001b[49m\u001b[43m  \u001b[49m\u001b[38;5;66;43;03m# type: ignore[call-overload]\u001b[39;49;00m\n\u001b[0;32m   1218\u001b[0m \u001b[43m    \u001b[49m\u001b[43mf\u001b[49m\u001b[43m,\u001b[49m\n\u001b[0;32m   1219\u001b[0m \u001b[43m    \u001b[49m\u001b[43mmode\u001b[49m\u001b[43m,\u001b[49m\n\u001b[0;32m   1220\u001b[0m \u001b[43m    \u001b[49m\u001b[43mencoding\u001b[49m\u001b[38;5;241;43m=\u001b[39;49m\u001b[38;5;28;43mself\u001b[39;49m\u001b[38;5;241;43m.\u001b[39;49m\u001b[43moptions\u001b[49m\u001b[38;5;241;43m.\u001b[39;49m\u001b[43mget\u001b[49m\u001b[43m(\u001b[49m\u001b[38;5;124;43m\"\u001b[39;49m\u001b[38;5;124;43mencoding\u001b[39;49m\u001b[38;5;124;43m\"\u001b[39;49m\u001b[43m,\u001b[49m\u001b[43m \u001b[49m\u001b[38;5;28;43;01mNone\u001b[39;49;00m\u001b[43m)\u001b[49m\u001b[43m,\u001b[49m\n\u001b[0;32m   1221\u001b[0m \u001b[43m    \u001b[49m\u001b[43mcompression\u001b[49m\u001b[38;5;241;43m=\u001b[39;49m\u001b[38;5;28;43mself\u001b[39;49m\u001b[38;5;241;43m.\u001b[39;49m\u001b[43moptions\u001b[49m\u001b[38;5;241;43m.\u001b[39;49m\u001b[43mget\u001b[49m\u001b[43m(\u001b[49m\u001b[38;5;124;43m\"\u001b[39;49m\u001b[38;5;124;43mcompression\u001b[39;49m\u001b[38;5;124;43m\"\u001b[39;49m\u001b[43m,\u001b[49m\u001b[43m \u001b[49m\u001b[38;5;28;43;01mNone\u001b[39;49;00m\u001b[43m)\u001b[49m\u001b[43m,\u001b[49m\n\u001b[0;32m   1222\u001b[0m \u001b[43m    \u001b[49m\u001b[43mmemory_map\u001b[49m\u001b[38;5;241;43m=\u001b[39;49m\u001b[38;5;28;43mself\u001b[39;49m\u001b[38;5;241;43m.\u001b[39;49m\u001b[43moptions\u001b[49m\u001b[38;5;241;43m.\u001b[39;49m\u001b[43mget\u001b[49m\u001b[43m(\u001b[49m\u001b[38;5;124;43m\"\u001b[39;49m\u001b[38;5;124;43mmemory_map\u001b[39;49m\u001b[38;5;124;43m\"\u001b[39;49m\u001b[43m,\u001b[49m\u001b[43m \u001b[49m\u001b[38;5;28;43;01mFalse\u001b[39;49;00m\u001b[43m)\u001b[49m\u001b[43m,\u001b[49m\n\u001b[0;32m   1223\u001b[0m \u001b[43m    \u001b[49m\u001b[43mis_text\u001b[49m\u001b[38;5;241;43m=\u001b[39;49m\u001b[43mis_text\u001b[49m\u001b[43m,\u001b[49m\n\u001b[0;32m   1224\u001b[0m \u001b[43m    \u001b[49m\u001b[43merrors\u001b[49m\u001b[38;5;241;43m=\u001b[39;49m\u001b[38;5;28;43mself\u001b[39;49m\u001b[38;5;241;43m.\u001b[39;49m\u001b[43moptions\u001b[49m\u001b[38;5;241;43m.\u001b[39;49m\u001b[43mget\u001b[49m\u001b[43m(\u001b[49m\u001b[38;5;124;43m\"\u001b[39;49m\u001b[38;5;124;43mencoding_errors\u001b[39;49m\u001b[38;5;124;43m\"\u001b[39;49m\u001b[43m,\u001b[49m\u001b[43m \u001b[49m\u001b[38;5;124;43m\"\u001b[39;49m\u001b[38;5;124;43mstrict\u001b[39;49m\u001b[38;5;124;43m\"\u001b[39;49m\u001b[43m)\u001b[49m\u001b[43m,\u001b[49m\n\u001b[0;32m   1225\u001b[0m \u001b[43m    \u001b[49m\u001b[43mstorage_options\u001b[49m\u001b[38;5;241;43m=\u001b[39;49m\u001b[38;5;28;43mself\u001b[39;49m\u001b[38;5;241;43m.\u001b[39;49m\u001b[43moptions\u001b[49m\u001b[38;5;241;43m.\u001b[39;49m\u001b[43mget\u001b[49m\u001b[43m(\u001b[49m\u001b[38;5;124;43m\"\u001b[39;49m\u001b[38;5;124;43mstorage_options\u001b[39;49m\u001b[38;5;124;43m\"\u001b[39;49m\u001b[43m,\u001b[49m\u001b[43m \u001b[49m\u001b[38;5;28;43;01mNone\u001b[39;49;00m\u001b[43m)\u001b[49m\u001b[43m,\u001b[49m\n\u001b[0;32m   1226\u001b[0m \u001b[43m\u001b[49m\u001b[43m)\u001b[49m\n\u001b[0;32m   1227\u001b[0m \u001b[38;5;28;01massert\u001b[39;00m \u001b[38;5;28mself\u001b[39m\u001b[38;5;241m.\u001b[39mhandles \u001b[38;5;129;01mis\u001b[39;00m \u001b[38;5;129;01mnot\u001b[39;00m \u001b[38;5;28;01mNone\u001b[39;00m\n\u001b[0;32m   1228\u001b[0m f \u001b[38;5;241m=\u001b[39m \u001b[38;5;28mself\u001b[39m\u001b[38;5;241m.\u001b[39mhandles\u001b[38;5;241m.\u001b[39mhandle\n",
      "File \u001b[1;32m~\\anaconda3\\lib\\site-packages\\pandas\\io\\common.py:789\u001b[0m, in \u001b[0;36mget_handle\u001b[1;34m(path_or_buf, mode, encoding, compression, memory_map, is_text, errors, storage_options)\u001b[0m\n\u001b[0;32m    784\u001b[0m \u001b[38;5;28;01melif\u001b[39;00m \u001b[38;5;28misinstance\u001b[39m(handle, \u001b[38;5;28mstr\u001b[39m):\n\u001b[0;32m    785\u001b[0m     \u001b[38;5;66;03m# Check whether the filename is to be opened in binary mode.\u001b[39;00m\n\u001b[0;32m    786\u001b[0m     \u001b[38;5;66;03m# Binary mode does not support 'encoding' and 'newline'.\u001b[39;00m\n\u001b[0;32m    787\u001b[0m     \u001b[38;5;28;01mif\u001b[39;00m ioargs\u001b[38;5;241m.\u001b[39mencoding \u001b[38;5;129;01mand\u001b[39;00m \u001b[38;5;124m\"\u001b[39m\u001b[38;5;124mb\u001b[39m\u001b[38;5;124m\"\u001b[39m \u001b[38;5;129;01mnot\u001b[39;00m \u001b[38;5;129;01min\u001b[39;00m ioargs\u001b[38;5;241m.\u001b[39mmode:\n\u001b[0;32m    788\u001b[0m         \u001b[38;5;66;03m# Encoding\u001b[39;00m\n\u001b[1;32m--> 789\u001b[0m         handle \u001b[38;5;241m=\u001b[39m \u001b[38;5;28;43mopen\u001b[39;49m\u001b[43m(\u001b[49m\n\u001b[0;32m    790\u001b[0m \u001b[43m            \u001b[49m\u001b[43mhandle\u001b[49m\u001b[43m,\u001b[49m\n\u001b[0;32m    791\u001b[0m \u001b[43m            \u001b[49m\u001b[43mioargs\u001b[49m\u001b[38;5;241;43m.\u001b[39;49m\u001b[43mmode\u001b[49m\u001b[43m,\u001b[49m\n\u001b[0;32m    792\u001b[0m \u001b[43m            \u001b[49m\u001b[43mencoding\u001b[49m\u001b[38;5;241;43m=\u001b[39;49m\u001b[43mioargs\u001b[49m\u001b[38;5;241;43m.\u001b[39;49m\u001b[43mencoding\u001b[49m\u001b[43m,\u001b[49m\n\u001b[0;32m    793\u001b[0m \u001b[43m            \u001b[49m\u001b[43merrors\u001b[49m\u001b[38;5;241;43m=\u001b[39;49m\u001b[43merrors\u001b[49m\u001b[43m,\u001b[49m\n\u001b[0;32m    794\u001b[0m \u001b[43m            \u001b[49m\u001b[43mnewline\u001b[49m\u001b[38;5;241;43m=\u001b[39;49m\u001b[38;5;124;43m\"\u001b[39;49m\u001b[38;5;124;43m\"\u001b[39;49m\u001b[43m,\u001b[49m\n\u001b[0;32m    795\u001b[0m \u001b[43m        \u001b[49m\u001b[43m)\u001b[49m\n\u001b[0;32m    796\u001b[0m     \u001b[38;5;28;01melse\u001b[39;00m:\n\u001b[0;32m    797\u001b[0m         \u001b[38;5;66;03m# Binary mode\u001b[39;00m\n\u001b[0;32m    798\u001b[0m         handle \u001b[38;5;241m=\u001b[39m \u001b[38;5;28mopen\u001b[39m(handle, ioargs\u001b[38;5;241m.\u001b[39mmode)\n",
      "\u001b[1;31mFileNotFoundError\u001b[0m: [Errno 2] No such file or directory: 'position.csv'"
     ]
    }
   ],
   "source": [
    "position = pd.read_csv('position.csv')"
   ]
  },
  {
   "cell_type": "code",
   "execution_count": null,
   "id": "4490a2aa",
   "metadata": {},
   "outputs": [],
   "source": [
    "position.head(15)"
   ]
  },
  {
   "cell_type": "code",
   "execution_count": null,
   "id": "dcc2e3b0",
   "metadata": {},
   "outputs": [],
   "source": [
    "position.info()"
   ]
  },
  {
   "cell_type": "code",
   "execution_count": null,
   "id": "10c585ae",
   "metadata": {},
   "outputs": [],
   "source": [
    "position['timestamp'] = pd.to_datetime(position['timestamp'],format='%Y-%m-%dT%H:%M:%S')"
   ]
  },
  {
   "cell_type": "code",
   "execution_count": null,
   "id": "835e20db",
   "metadata": {},
   "outputs": [],
   "source": [
    "position.info()"
   ]
  },
  {
   "cell_type": "code",
   "execution_count": null,
   "id": "44774651",
   "metadata": {},
   "outputs": [],
   "source": [
    "position.sort_values(by = 'level',ascending=False)"
   ]
  },
  {
   "cell_type": "code",
   "execution_count": 50,
   "id": "f3baeab2",
   "metadata": {},
   "outputs": [
    {
     "ename": "NameError",
     "evalue": "name 'position' is not defined",
     "output_type": "error",
     "traceback": [
      "\u001b[1;31m---------------------------------------------------------------------------\u001b[0m",
      "\u001b[1;31mNameError\u001b[0m                                 Traceback (most recent call last)",
      "Input \u001b[1;32mIn [50]\u001b[0m, in \u001b[0;36m<cell line: 1>\u001b[1;34m()\u001b[0m\n\u001b[1;32m----> 1\u001b[0m position[\u001b[38;5;124m'\u001b[39m\u001b[38;5;124mmonth\u001b[39m\u001b[38;5;124m'\u001b[39m] \u001b[38;5;241m=\u001b[39m pd\u001b[38;5;241m.\u001b[39mDatetimeIndex(\u001b[43mposition\u001b[49m[\u001b[38;5;124m'\u001b[39m\u001b[38;5;124mtimestamp\u001b[39m\u001b[38;5;124m'\u001b[39m])\u001b[38;5;241m.\u001b[39mmonth\n",
      "\u001b[1;31mNameError\u001b[0m: name 'position' is not defined"
     ]
    }
   ],
   "source": [
    "position['month'] = pd.DatetimeIndex(position['timestamp']).month"
   ]
  },
  {
   "cell_type": "code",
   "execution_count": 51,
   "id": "94e2cd7d",
   "metadata": {},
   "outputs": [
    {
     "ename": "NameError",
     "evalue": "name 'position' is not defined",
     "output_type": "error",
     "traceback": [
      "\u001b[1;31m---------------------------------------------------------------------------\u001b[0m",
      "\u001b[1;31mNameError\u001b[0m                                 Traceback (most recent call last)",
      "Input \u001b[1;32mIn [51]\u001b[0m, in \u001b[0;36m<cell line: 1>\u001b[1;34m()\u001b[0m\n\u001b[1;32m----> 1\u001b[0m \u001b[43mposition\u001b[49m\u001b[38;5;241m.\u001b[39mhead()\n",
      "\u001b[1;31mNameError\u001b[0m: name 'position' is not defined"
     ]
    }
   ],
   "source": [
    "position.head()"
   ]
  },
  {
   "cell_type": "code",
   "execution_count": 52,
   "id": "1fe862d1",
   "metadata": {},
   "outputs": [
    {
     "ename": "NameError",
     "evalue": "name 'position' is not defined",
     "output_type": "error",
     "traceback": [
      "\u001b[1;31m---------------------------------------------------------------------------\u001b[0m",
      "\u001b[1;31mNameError\u001b[0m                                 Traceback (most recent call last)",
      "Input \u001b[1;32mIn [52]\u001b[0m, in \u001b[0;36m<cell line: 1>\u001b[1;34m()\u001b[0m\n\u001b[1;32m----> 1\u001b[0m \u001b[43mposition\u001b[49m\u001b[38;5;241m.\u001b[39mgroupby(\u001b[38;5;124m'\u001b[39m\u001b[38;5;124mmonth\u001b[39m\u001b[38;5;124m'\u001b[39m)[\u001b[38;5;124m'\u001b[39m\u001b[38;5;124mlevel\u001b[39m\u001b[38;5;124m'\u001b[39m]\u001b[38;5;241m.\u001b[39mmean()\n",
      "\u001b[1;31mNameError\u001b[0m: name 'position' is not defined"
     ]
    }
   ],
   "source": [
    "position.groupby('month')['level'].mean()"
   ]
  },
  {
   "cell_type": "markdown",
   "id": "d713de60",
   "metadata": {},
   "source": [
    "## Обработка ошибок: try-except\n",
    "<a id='try_except'></a>"
   ]
  },
  {
   "cell_type": "code",
   "execution_count": 53,
   "id": "3e81c34e",
   "metadata": {},
   "outputs": [],
   "source": [
    "position = [\n",
    "    ['2019-05-01', '6'],\n",
    "    ['2019-05-02', '5'],\n",
    "    ['2019-05-03', '5'],\n",
    "    ['2019-05-04', '4'],\n",
    "    ['2019-05-05', '5'],\n",
    "    ['2019-05-06', '5'],\n",
    "    ['2019-05-07', '4'],\n",
    "    ['2019-05-08', '4'],\n",
    "    ['2019-05-09', '3'],\n",
    "    ['2019-05-10', '3'],\n",
    "]"
   ]
  },
  {
   "cell_type": "code",
   "execution_count": 54,
   "id": "c94c9fcf",
   "metadata": {},
   "outputs": [],
   "source": [
    "count_lines = 0\n",
    "total_position = 0"
   ]
  },
  {
   "cell_type": "code",
   "execution_count": 55,
   "id": "fed0813d",
   "metadata": {},
   "outputs": [],
   "source": [
    "for row in position:\n",
    "    count_lines += 1\n",
    "    level = int(row[1]) #в этой переменной сохраните позицию в выдаче \n",
    "    total_position += level#сложите все позиции в этой переменной "
   ]
  },
  {
   "cell_type": "code",
   "execution_count": 56,
   "id": "d89cb456",
   "metadata": {},
   "outputs": [
    {
     "name": "stdout",
     "output_type": "stream",
     "text": [
      "4.4\n"
     ]
    }
   ],
   "source": [
    "print(total_position/count_lines)"
   ]
  },
  {
   "cell_type": "markdown",
   "id": "0a712cf8",
   "metadata": {},
   "source": [
    "Формат выгрузки часто согласуют заранее: это помогает избежать проблем с некорректными данными. Вот и вам разработчики прислали формат на согласование: позиция сайта в выдаче на конкретную дату.\n",
    "Напишите цикл, подсчитывающий количество строк в данных. Результат выведите на экран."
   ]
  },
  {
   "cell_type": "code",
   "execution_count": 57,
   "id": "20539612",
   "metadata": {},
   "outputs": [
    {
     "ename": "ValueError",
     "evalue": "invalid literal for int() with base 10: '- 6'",
     "output_type": "error",
     "traceback": [
      "\u001b[1;31m---------------------------------------------------------------------------\u001b[0m",
      "\u001b[1;31mValueError\u001b[0m                                Traceback (most recent call last)",
      "Input \u001b[1;32mIn [57]\u001b[0m, in \u001b[0;36m<cell line: 16>\u001b[1;34m()\u001b[0m\n\u001b[0;32m     16\u001b[0m \u001b[38;5;28;01mfor\u001b[39;00m row \u001b[38;5;129;01min\u001b[39;00m position:\n\u001b[0;32m     17\u001b[0m     count_lines \u001b[38;5;241m+\u001b[39m\u001b[38;5;241m=\u001b[39m \u001b[38;5;241m1\u001b[39m\n\u001b[1;32m---> 18\u001b[0m     level \u001b[38;5;241m=\u001b[39m \u001b[38;5;28;43mint\u001b[39;49m\u001b[43m(\u001b[49m\u001b[43mrow\u001b[49m\u001b[43m[\u001b[49m\u001b[38;5;241;43m1\u001b[39;49m\u001b[43m]\u001b[49m\u001b[43m)\u001b[49m \u001b[38;5;66;03m#в этой переменной сохраните позицию в выдаче \u001b[39;00m\n\u001b[0;32m     19\u001b[0m     total_position \u001b[38;5;241m+\u001b[39m\u001b[38;5;241m=\u001b[39m level\n",
      "\u001b[1;31mValueError\u001b[0m: invalid literal for int() with base 10: '- 6'"
     ]
    }
   ],
   "source": [
    "position = [\n",
    "    ['2019-05-01', '- 6'],\n",
    "    ['2019-05-02', '+5'],\n",
    "    ['2019-05-03', ' 5'],\n",
    "    ['2019-05-04', '4'],\n",
    "    ['2019-05-05', '5'],\n",
    "    ['2019-05-06', '5'],\n",
    "    ['2019-05-07', '4'],\n",
    "    ['2019-05-08', 'Error 5'],\n",
    "    ['2019-05-09', '3'],\n",
    "    ['2019-05-10', '3'],\n",
    "]\n",
    "count_lines = 0\n",
    "total_position = 0\n",
    "\n",
    "for row in position:\n",
    "    count_lines += 1\n",
    "    level = int(row[1]) #в этой переменной сохраните позицию в выдаче \n",
    "    total_position += level #сложите все позиции в этой переменной"
   ]
  },
  {
   "cell_type": "code",
   "execution_count": 58,
   "id": "a2c4807e",
   "metadata": {},
   "outputs": [
    {
     "name": "stdout",
     "output_type": "stream",
     "text": [
      "0.0\n"
     ]
    }
   ],
   "source": [
    "print(total_position/count_lines)"
   ]
  },
  {
   "cell_type": "code",
   "execution_count": 59,
   "id": "a531a228",
   "metadata": {},
   "outputs": [
    {
     "data": {
      "text/plain": [
       "1"
      ]
     },
     "execution_count": 59,
     "metadata": {},
     "output_type": "execute_result"
    }
   ],
   "source": [
    "int(+1)"
   ]
  },
  {
   "cell_type": "code",
   "execution_count": 60,
   "id": "f72cf375",
   "metadata": {},
   "outputs": [
    {
     "name": "stdout",
     "output_type": "stream",
     "text": [
      "Количество измерений 10\n",
      "Некорректные строки [['2019-05-01', '- 6'], ['2019-05-08', 'Error 5']]\n"
     ]
    }
   ],
   "source": [
    "position = [\n",
    "    ['2019-05-01', '- 6'],\n",
    "    ['2019-05-02', '+5'],\n",
    "    ['2019-05-03', ' 5'],\n",
    "    ['2019-05-04', '4'],\n",
    "    ['2019-05-05', '5'],\n",
    "    ['2019-05-06', '5'],\n",
    "    ['2019-05-07', '4'],\n",
    "    ['2019-05-08', 'Error 5'],\n",
    "    ['2019-05-09', '3'],\n",
    "    ['2019-05-10', '3'],\n",
    "]\n",
    "\n",
    "\n",
    "count_lines = 0\n",
    "wrong_lines_content = []\n",
    "\n",
    "for row in position:\n",
    "    count_lines+=1\n",
    "    try:\n",
    "        level = int(row[1])\n",
    "        \n",
    "    except:\n",
    "        wrong_lines_content.append(row)\n",
    "print('Количество измерений', count_lines)\n",
    "print('Некорректные строки', wrong_lines_content)"
   ]
  },
  {
   "cell_type": "code",
   "execution_count": 61,
   "id": "28104389",
   "metadata": {},
   "outputs": [
    {
     "data": {
      "text/html": [
       "<div>\n",
       "<style scoped>\n",
       "    .dataframe tbody tr th:only-of-type {\n",
       "        vertical-align: middle;\n",
       "    }\n",
       "\n",
       "    .dataframe tbody tr th {\n",
       "        vertical-align: top;\n",
       "    }\n",
       "\n",
       "    .dataframe thead th {\n",
       "        text-align: right;\n",
       "    }\n",
       "</style>\n",
       "<table border=\"1\" class=\"dataframe\">\n",
       "  <thead>\n",
       "    <tr style=\"text-align: right;\">\n",
       "      <th></th>\n",
       "      <th>subcategory_id</th>\n",
       "      <th>source</th>\n",
       "      <th>visits</th>\n",
       "      <th>subcategory_name</th>\n",
       "      <th>category_id</th>\n",
       "      <th>category_name</th>\n",
       "    </tr>\n",
       "  </thead>\n",
       "  <tbody>\n",
       "    <tr>\n",
       "      <th>0</th>\n",
       "      <td>cf2e61c7af</td>\n",
       "      <td>direct</td>\n",
       "      <td>501165.668858</td>\n",
       "      <td>Мобильные телефоны</td>\n",
       "      <td>09f279a643</td>\n",
       "      <td>Электроника</td>\n",
       "    </tr>\n",
       "    <tr>\n",
       "      <th>1</th>\n",
       "      <td>0cd903d1cc</td>\n",
       "      <td>direct</td>\n",
       "      <td>126342.359505</td>\n",
       "      <td>Ноутбуки</td>\n",
       "      <td>3509869a61</td>\n",
       "      <td>Компьютерная техника</td>\n",
       "    </tr>\n",
       "    <tr>\n",
       "      <th>2</th>\n",
       "      <td>ef35bc88a7</td>\n",
       "      <td>direct</td>\n",
       "      <td>95626.321402</td>\n",
       "      <td>Телевизоры</td>\n",
       "      <td>09f279a643</td>\n",
       "      <td>Электроника</td>\n",
       "    </tr>\n",
       "    <tr>\n",
       "      <th>3</th>\n",
       "      <td>6ff9f4014c</td>\n",
       "      <td>direct</td>\n",
       "      <td>75680.653002</td>\n",
       "      <td>Планшеты</td>\n",
       "      <td>3509869a61</td>\n",
       "      <td>Компьютерная техника</td>\n",
       "    </tr>\n",
       "    <tr>\n",
       "      <th>4</th>\n",
       "      <td>72bc238e4d</td>\n",
       "      <td>direct</td>\n",
       "      <td>64435.934651</td>\n",
       "      <td>Наушники и Bluetooth-гарнитуры</td>\n",
       "      <td>09f279a643</td>\n",
       "      <td>Электроника</td>\n",
       "    </tr>\n",
       "    <tr>\n",
       "      <th>...</th>\n",
       "      <td>...</td>\n",
       "      <td>...</td>\n",
       "      <td>...</td>\n",
       "      <td>...</td>\n",
       "      <td>...</td>\n",
       "      <td>...</td>\n",
       "    </tr>\n",
       "    <tr>\n",
       "      <th>1925</th>\n",
       "      <td>c51343bf77</td>\n",
       "      <td>organic</td>\n",
       "      <td>15.640773</td>\n",
       "      <td>Свитеры и кардиганы</td>\n",
       "      <td>6074ad29ac</td>\n",
       "      <td>Одежда, обувь и аксессуары</td>\n",
       "    </tr>\n",
       "    <tr>\n",
       "      <th>1926</th>\n",
       "      <td>d942687638</td>\n",
       "      <td>organic</td>\n",
       "      <td>13.87554</td>\n",
       "      <td>Термобелье</td>\n",
       "      <td>6074ad29ac</td>\n",
       "      <td>Одежда, обувь и аксессуары</td>\n",
       "    </tr>\n",
       "    <tr>\n",
       "      <th>1927</th>\n",
       "      <td>976642886f</td>\n",
       "      <td>organic</td>\n",
       "      <td>9.204211</td>\n",
       "      <td>Наклейки, шильдики и значки</td>\n",
       "      <td>65922fa39c</td>\n",
       "      <td>Авто</td>\n",
       "    </tr>\n",
       "    <tr>\n",
       "      <th>1928</th>\n",
       "      <td>075994491e</td>\n",
       "      <td>organic</td>\n",
       "      <td>4.606261</td>\n",
       "      <td>Гигиена полости рта</td>\n",
       "      <td>7dbac4c1a3</td>\n",
       "      <td>Детские товары</td>\n",
       "    </tr>\n",
       "    <tr>\n",
       "      <th>1929</th>\n",
       "      <td>total</td>\n",
       "      <td>organic</td>\n",
       "      <td>\"5687882\"</td>\n",
       "      <td>NaN</td>\n",
       "      <td>NaN</td>\n",
       "      <td>NaN</td>\n",
       "    </tr>\n",
       "  </tbody>\n",
       "</table>\n",
       "<p>1930 rows × 6 columns</p>\n",
       "</div>"
      ],
      "text/plain": [
       "     subcategory_id   source         visits                subcategory_name  \\\n",
       "0        cf2e61c7af   direct  501165.668858              Мобильные телефоны   \n",
       "1        0cd903d1cc   direct  126342.359505                        Ноутбуки   \n",
       "2        ef35bc88a7   direct   95626.321402                      Телевизоры   \n",
       "3        6ff9f4014c   direct   75680.653002                        Планшеты   \n",
       "4        72bc238e4d   direct   64435.934651  Наушники и Bluetooth-гарнитуры   \n",
       "...             ...      ...            ...                             ...   \n",
       "1925     c51343bf77  organic      15.640773             Свитеры и кардиганы   \n",
       "1926     d942687638  organic       13.87554                      Термобелье   \n",
       "1927     976642886f  organic       9.204211     Наклейки, шильдики и значки   \n",
       "1928     075994491e  organic       4.606261             Гигиена полости рта   \n",
       "1929          total  organic      \"5687882\"                             NaN   \n",
       "\n",
       "     category_id               category_name  \n",
       "0     09f279a643                 Электроника  \n",
       "1     3509869a61        Компьютерная техника  \n",
       "2     09f279a643                 Электроника  \n",
       "3     3509869a61        Компьютерная техника  \n",
       "4     09f279a643                 Электроника  \n",
       "...          ...                         ...  \n",
       "1925  6074ad29ac  Одежда, обувь и аксессуары  \n",
       "1926  6074ad29ac  Одежда, обувь и аксессуары  \n",
       "1927  65922fa39c                        Авто  \n",
       "1928  7dbac4c1a3              Детские товары  \n",
       "1929         NaN                         NaN  \n",
       "\n",
       "[1930 rows x 6 columns]"
      ]
     },
     "execution_count": 61,
     "metadata": {},
     "output_type": "execute_result"
    }
   ],
   "source": [
    "data_final"
   ]
  },
  {
   "cell_type": "markdown",
   "id": "eea1ca56",
   "metadata": {},
   "source": [
    "## Сводные таблицы\n",
    "<a id='pivot_table'></a>"
   ]
  },
  {
   "cell_type": "markdown",
   "id": "2cb74e50",
   "metadata": {},
   "source": [
    " Pandas для подготовки сводных таблиц вызывают метод pivot_table().\n",
    "Аргументы метода:\n",
    "## index — столбец или столбцы, по которым группируют данные (название товара)\n",
    "## columns — столбец, по значениям которого происходит группировка (даты)\n",
    "## values — значения, по которым мы хотим увидеть сводную таблицу (количество проданного товара)\n",
    "## aggfunc — функция, применяемая к значениям (сумма товаров)"
   ]
  },
  {
   "cell_type": "code",
   "execution_count": 62,
   "id": "ba54b453",
   "metadata": {},
   "outputs": [],
   "source": [
    "data_pivot = data_final.pivot_table(index=['category_name','subcategory_name'],columns='source',values='visits',aggfunc='sum')"
   ]
  },
  {
   "cell_type": "code",
   "execution_count": 63,
   "id": "3e21fdd2",
   "metadata": {},
   "outputs": [
    {
     "data": {
      "text/html": [
       "<div>\n",
       "<style scoped>\n",
       "    .dataframe tbody tr th:only-of-type {\n",
       "        vertical-align: middle;\n",
       "    }\n",
       "\n",
       "    .dataframe tbody tr th {\n",
       "        vertical-align: top;\n",
       "    }\n",
       "\n",
       "    .dataframe thead th {\n",
       "        text-align: right;\n",
       "    }\n",
       "</style>\n",
       "<table border=\"1\" class=\"dataframe\">\n",
       "  <thead>\n",
       "    <tr style=\"text-align: right;\">\n",
       "      <th></th>\n",
       "      <th>source</th>\n",
       "      <th>direct</th>\n",
       "      <th>organic</th>\n",
       "    </tr>\n",
       "    <tr>\n",
       "      <th>category_name</th>\n",
       "      <th>subcategory_name</th>\n",
       "      <th></th>\n",
       "      <th></th>\n",
       "    </tr>\n",
       "  </thead>\n",
       "  <tbody>\n",
       "    <tr>\n",
       "      <th rowspan=\"5\" valign=\"top\">Авто</th>\n",
       "      <th>Автоакустика</th>\n",
       "      <td>5915.606541</td>\n",
       "      <td>15433.405558</td>\n",
       "    </tr>\n",
       "    <tr>\n",
       "      <th>Автомагнитолы</th>\n",
       "      <td>7783.806626</td>\n",
       "      <td>18690.016622</td>\n",
       "    </tr>\n",
       "    <tr>\n",
       "      <th>Автомобильные инверторы</th>\n",
       "      <td>145.925199</td>\n",
       "      <td>150.592871</td>\n",
       "    </tr>\n",
       "    <tr>\n",
       "      <th>Автомобильные компрессоры</th>\n",
       "      <td>407.264303</td>\n",
       "      <td>790.164679</td>\n",
       "    </tr>\n",
       "    <tr>\n",
       "      <th>Автомобильные телевизоры</th>\n",
       "      <td>975.978827</td>\n",
       "      <td>2246.595618</td>\n",
       "    </tr>\n",
       "    <tr>\n",
       "      <th>...</th>\n",
       "      <th>...</th>\n",
       "      <td>...</td>\n",
       "      <td>...</td>\n",
       "    </tr>\n",
       "    <tr>\n",
       "      <th rowspan=\"5\" valign=\"top\">Электроника</th>\n",
       "      <th>Чехлы</th>\n",
       "      <td>4582.490928</td>\n",
       "      <td>11758.626255</td>\n",
       "    </tr>\n",
       "    <tr>\n",
       "      <th>Чехлы-аккумуляторы</th>\n",
       "      <td>219.497835</td>\n",
       "      <td>331.593190</td>\n",
       "    </tr>\n",
       "    <tr>\n",
       "      <th>Штативы и моноподы</th>\n",
       "      <td>1152.649574</td>\n",
       "      <td>2540.285866</td>\n",
       "    </tr>\n",
       "    <tr>\n",
       "      <th>Экшн-камеры</th>\n",
       "      <td>4757.007263</td>\n",
       "      <td>12376.961199</td>\n",
       "    </tr>\n",
       "    <tr>\n",
       "      <th>Электронные книги</th>\n",
       "      <td>4515.013986</td>\n",
       "      <td>11364.344055</td>\n",
       "    </tr>\n",
       "  </tbody>\n",
       "</table>\n",
       "<p>934 rows × 2 columns</p>\n",
       "</div>"
      ],
      "text/plain": [
       "source                                        direct       organic\n",
       "category_name subcategory_name                                    \n",
       "Авто          Автоакустика               5915.606541  15433.405558\n",
       "              Автомагнитолы              7783.806626  18690.016622\n",
       "              Автомобильные инверторы     145.925199    150.592871\n",
       "              Автомобильные компрессоры   407.264303    790.164679\n",
       "              Автомобильные телевизоры    975.978827   2246.595618\n",
       "...                                              ...           ...\n",
       "Электроника   Чехлы                      4582.490928  11758.626255\n",
       "              Чехлы-аккумуляторы          219.497835    331.593190\n",
       "              Штативы и моноподы         1152.649574   2540.285866\n",
       "              Экшн-камеры                4757.007263  12376.961199\n",
       "              Электронные книги          4515.013986  11364.344055\n",
       "\n",
       "[934 rows x 2 columns]"
      ]
     },
     "execution_count": 63,
     "metadata": {},
     "output_type": "execute_result"
    }
   ],
   "source": [
    "data_pivot"
   ]
  },
  {
   "cell_type": "code",
   "execution_count": 64,
   "id": "877111b9",
   "metadata": {},
   "outputs": [
    {
     "name": "stdout",
     "output_type": "stream",
     "text": [
      "source category_name            subcategory_name       direct       organic\n",
      "0               Авто                Автоакустика  5915.606541  15433.405558\n",
      "1               Авто               Автомагнитолы  7783.806626  18690.016622\n",
      "2               Авто     Автомобильные инверторы   145.925199    150.592871\n",
      "3               Авто   Автомобильные компрессоры   407.264303    790.164679\n",
      "4               Авто    Автомобильные телевизоры   975.978827   2246.595618\n",
      "5               Авто  Автомобильные холодильники   204.631014    285.110834\n",
      "6               Авто            Автосигнализации   494.025691   1026.092391\n",
      "7               Авто      Аккумуляторные батареи  1175.227510   2657.217881\n",
      "8               Авто                   Антифризы   736.588757   1568.277621\n",
      "9               Авто         Багажники, рейлинги   342.372257    664.308906\n"
     ]
    }
   ],
   "source": [
    "data_pivot_with_reset_index = data_pivot.reset_index()\n",
    "print(data_pivot_with_reset_index.head(10))"
   ]
  },
  {
   "cell_type": "code",
   "execution_count": 65,
   "id": "d24b5d3e",
   "metadata": {},
   "outputs": [],
   "source": [
    "data_pivot['ratio'] = data_pivot['organic']/data_pivot['direct']"
   ]
  },
  {
   "cell_type": "code",
   "execution_count": 66,
   "id": "f82da2ce",
   "metadata": {},
   "outputs": [
    {
     "data": {
      "text/html": [
       "<div>\n",
       "<style scoped>\n",
       "    .dataframe tbody tr th:only-of-type {\n",
       "        vertical-align: middle;\n",
       "    }\n",
       "\n",
       "    .dataframe tbody tr th {\n",
       "        vertical-align: top;\n",
       "    }\n",
       "\n",
       "    .dataframe thead th {\n",
       "        text-align: right;\n",
       "    }\n",
       "</style>\n",
       "<table border=\"1\" class=\"dataframe\">\n",
       "  <thead>\n",
       "    <tr style=\"text-align: right;\">\n",
       "      <th></th>\n",
       "      <th>source</th>\n",
       "      <th>direct</th>\n",
       "      <th>organic</th>\n",
       "      <th>ratio</th>\n",
       "    </tr>\n",
       "    <tr>\n",
       "      <th>category_name</th>\n",
       "      <th>subcategory_name</th>\n",
       "      <th></th>\n",
       "      <th></th>\n",
       "      <th></th>\n",
       "    </tr>\n",
       "  </thead>\n",
       "  <tbody>\n",
       "    <tr>\n",
       "      <th rowspan=\"5\" valign=\"top\">Авто</th>\n",
       "      <th>Автоакустика</th>\n",
       "      <td>5915.606541</td>\n",
       "      <td>15433.405558</td>\n",
       "      <td>2.608930</td>\n",
       "    </tr>\n",
       "    <tr>\n",
       "      <th>Автомагнитолы</th>\n",
       "      <td>7783.806626</td>\n",
       "      <td>18690.016622</td>\n",
       "      <td>2.401141</td>\n",
       "    </tr>\n",
       "    <tr>\n",
       "      <th>Автомобильные инверторы</th>\n",
       "      <td>145.925199</td>\n",
       "      <td>150.592871</td>\n",
       "      <td>1.031987</td>\n",
       "    </tr>\n",
       "    <tr>\n",
       "      <th>Автомобильные компрессоры</th>\n",
       "      <td>407.264303</td>\n",
       "      <td>790.164679</td>\n",
       "      <td>1.940177</td>\n",
       "    </tr>\n",
       "    <tr>\n",
       "      <th>Автомобильные телевизоры</th>\n",
       "      <td>975.978827</td>\n",
       "      <td>2246.595618</td>\n",
       "      <td>2.301890</td>\n",
       "    </tr>\n",
       "    <tr>\n",
       "      <th>...</th>\n",
       "      <th>...</th>\n",
       "      <td>...</td>\n",
       "      <td>...</td>\n",
       "      <td>...</td>\n",
       "    </tr>\n",
       "    <tr>\n",
       "      <th rowspan=\"5\" valign=\"top\">Электроника</th>\n",
       "      <th>Чехлы</th>\n",
       "      <td>4582.490928</td>\n",
       "      <td>11758.626255</td>\n",
       "      <td>2.565990</td>\n",
       "    </tr>\n",
       "    <tr>\n",
       "      <th>Чехлы-аккумуляторы</th>\n",
       "      <td>219.497835</td>\n",
       "      <td>331.593190</td>\n",
       "      <td>1.510690</td>\n",
       "    </tr>\n",
       "    <tr>\n",
       "      <th>Штативы и моноподы</th>\n",
       "      <td>1152.649574</td>\n",
       "      <td>2540.285866</td>\n",
       "      <td>2.203867</td>\n",
       "    </tr>\n",
       "    <tr>\n",
       "      <th>Экшн-камеры</th>\n",
       "      <td>4757.007263</td>\n",
       "      <td>12376.961199</td>\n",
       "      <td>2.601838</td>\n",
       "    </tr>\n",
       "    <tr>\n",
       "      <th>Электронные книги</th>\n",
       "      <td>4515.013986</td>\n",
       "      <td>11364.344055</td>\n",
       "      <td>2.517012</td>\n",
       "    </tr>\n",
       "  </tbody>\n",
       "</table>\n",
       "<p>934 rows × 3 columns</p>\n",
       "</div>"
      ],
      "text/plain": [
       "source                                        direct       organic     ratio\n",
       "category_name subcategory_name                                              \n",
       "Авто          Автоакустика               5915.606541  15433.405558  2.608930\n",
       "              Автомагнитолы              7783.806626  18690.016622  2.401141\n",
       "              Автомобильные инверторы     145.925199    150.592871  1.031987\n",
       "              Автомобильные компрессоры   407.264303    790.164679  1.940177\n",
       "              Автомобильные телевизоры    975.978827   2246.595618  2.301890\n",
       "...                                              ...           ...       ...\n",
       "Электроника   Чехлы                      4582.490928  11758.626255  2.565990\n",
       "              Чехлы-аккумуляторы          219.497835    331.593190  1.510690\n",
       "              Штативы и моноподы         1152.649574   2540.285866  2.203867\n",
       "              Экшн-камеры                4757.007263  12376.961199  2.601838\n",
       "              Электронные книги          4515.013986  11364.344055  2.517012\n",
       "\n",
       "[934 rows x 3 columns]"
      ]
     },
     "execution_count": 66,
     "metadata": {},
     "output_type": "execute_result"
    }
   ],
   "source": [
    "data_pivot"
   ]
  },
  {
   "cell_type": "code",
   "execution_count": 67,
   "id": "5e0efc3a",
   "metadata": {
    "scrolled": true
   },
   "outputs": [
    {
     "name": "stdout",
     "output_type": "stream",
     "text": [
      "source                                                       direct  \\\n",
      "category_name              subcategory_name                           \n",
      "Авто                       Шины                        39638.202995   \n",
      "Бытовая техника            Стиральные машины           22064.436847   \n",
      "Спорт и отдых              Велосипеды                  16009.579071   \n",
      "Детские товары             Коляски                     18079.643217   \n",
      "Строительство и ремонт     Сварочные аппараты           6175.438323   \n",
      "...                                                             ...   \n",
      "Товары для здоровья        Бандажи и ортезы             1659.195233   \n",
      "Электроника                Защитные пленки и стекла     1560.395673   \n",
      "Строительство и ремонт     Нивелиры и лазерные уровни   1651.947395   \n",
      "Одежда, обувь и аксессуары Туфли                        1036.253838   \n",
      "                           Сапоги                       1009.586105   \n",
      "\n",
      "source                                                       organic     ratio  \n",
      "category_name              subcategory_name                                     \n",
      "Авто                       Шины                        153859.454228  3.881595  \n",
      "Бытовая техника            Стиральные машины            64570.606526  2.926456  \n",
      "Спорт и отдых              Велосипеды                   46087.870786  2.878768  \n",
      "Детские товары             Коляски                      52005.251013  2.876453  \n",
      "Строительство и ремонт     Сварочные аппараты           17325.802396  2.805599  \n",
      "...                                                              ...       ...  \n",
      "Товары для здоровья        Бандажи и ортезы              3453.165773  2.081229  \n",
      "Электроника                Защитные пленки и стекла      3246.629811  2.080645  \n",
      "Строительство и ремонт     Нивелиры и лазерные уровни    3436.972506  2.080558  \n",
      "Одежда, обувь и аксессуары Туфли                         2097.368209  2.023991  \n",
      "                           Сапоги                        2021.903456  2.002705  \n",
      "\n",
      "[266 rows x 3 columns]\n"
     ]
    }
   ],
   "source": [
    "print(data_pivot.loc[data_pivot['direct']>1000].sort_values(by='ratio',ascending=False))"
   ]
  },
  {
   "cell_type": "code",
   "execution_count": 68,
   "id": "d04332cb",
   "metadata": {},
   "outputs": [
    {
     "name": "stdout",
     "output_type": "stream",
     "text": [
      "Сырок Мечта        2\n",
      "Сырок Дружба       2\n",
      "Молоко Отличное    1\n",
      "Молоко Вкусное     1\n",
      "Name: name, dtype: int64\n"
     ]
    }
   ],
   "source": [
    "df = pd.DataFrame({\n",
    "    'name': ['Сырок Мечта', 'Молоко Отличное', 'Сырок Мечта', 'Сырок Дружба',\\\n",
    "             'Сырок Дружба', 'Молоко Вкусное'],\n",
    "    'count': [120, 200, 125, 100, 35, 500]\n",
    "})\n",
    "\n",
    "print(df['name'].value_counts())"
   ]
  },
  {
   "cell_type": "code",
   "execution_count": 69,
   "id": "7f8a892c",
   "metadata": {},
   "outputs": [
    {
     "data": {
      "text/html": [
       "<div>\n",
       "<style scoped>\n",
       "    .dataframe tbody tr th:only-of-type {\n",
       "        vertical-align: middle;\n",
       "    }\n",
       "\n",
       "    .dataframe tbody tr th {\n",
       "        vertical-align: top;\n",
       "    }\n",
       "\n",
       "    .dataframe thead th {\n",
       "        text-align: right;\n",
       "    }\n",
       "</style>\n",
       "<table border=\"1\" class=\"dataframe\">\n",
       "  <thead>\n",
       "    <tr style=\"text-align: right;\">\n",
       "      <th></th>\n",
       "      <th>name</th>\n",
       "      <th>count</th>\n",
       "    </tr>\n",
       "  </thead>\n",
       "  <tbody>\n",
       "    <tr>\n",
       "      <th>0</th>\n",
       "      <td>Сырок Мечта</td>\n",
       "      <td>120</td>\n",
       "    </tr>\n",
       "    <tr>\n",
       "      <th>1</th>\n",
       "      <td>Молоко Отличное</td>\n",
       "      <td>200</td>\n",
       "    </tr>\n",
       "    <tr>\n",
       "      <th>2</th>\n",
       "      <td>Сырок Мечта</td>\n",
       "      <td>125</td>\n",
       "    </tr>\n",
       "    <tr>\n",
       "      <th>3</th>\n",
       "      <td>Сырок Дружба</td>\n",
       "      <td>100</td>\n",
       "    </tr>\n",
       "    <tr>\n",
       "      <th>4</th>\n",
       "      <td>Сырок Дружба</td>\n",
       "      <td>35</td>\n",
       "    </tr>\n",
       "    <tr>\n",
       "      <th>5</th>\n",
       "      <td>Молоко Вкусное</td>\n",
       "      <td>500</td>\n",
       "    </tr>\n",
       "  </tbody>\n",
       "</table>\n",
       "</div>"
      ],
      "text/plain": [
       "              name  count\n",
       "0      Сырок Мечта    120\n",
       "1  Молоко Отличное    200\n",
       "2      Сырок Мечта    125\n",
       "3     Сырок Дружба    100\n",
       "4     Сырок Дружба     35\n",
       "5   Молоко Вкусное    500"
      ]
     },
     "execution_count": 69,
     "metadata": {},
     "output_type": "execute_result"
    }
   ],
   "source": [
    "df"
   ]
  },
  {
   "cell_type": "code",
   "execution_count": 70,
   "id": "434d2a47",
   "metadata": {},
   "outputs": [
    {
     "data": {
      "text/plain": [
       "name\n",
       "Молоко Вкусное     500\n",
       "Молоко Отличное    200\n",
       "Сырок Дружба       135\n",
       "Сырок Мечта        245\n",
       "Name: count, dtype: int64"
      ]
     },
     "execution_count": 70,
     "metadata": {},
     "output_type": "execute_result"
    }
   ],
   "source": [
    "df.groupby('name')['count'].sum()"
   ]
  },
  {
   "cell_type": "code",
   "execution_count": 71,
   "id": "f629a857",
   "metadata": {},
   "outputs": [
    {
     "data": {
      "text/plain": [
       "0    False\n",
       "1    False\n",
       "2     True\n",
       "3    False\n",
       "4     True\n",
       "5    False\n",
       "Name: name, dtype: bool"
      ]
     },
     "execution_count": 71,
     "metadata": {},
     "output_type": "execute_result"
    }
   ],
   "source": [
    "df['name'].duplicated()"
   ]
  },
  {
   "cell_type": "code",
   "execution_count": 72,
   "id": "39f8c56a",
   "metadata": {},
   "outputs": [
    {
     "name": "stdout",
     "output_type": "stream",
     "text": [
      "              name  count\n",
      "0      Сырок Мечта    120\n",
      "1  Молоко Отличное    200\n",
      "3     Сырок Дружба    100\n",
      "5   Молоко Вкусное    500\n",
      "              name  count\n",
      "0      Сырок Мечта    120\n",
      "1  Молоко Отличное    200\n",
      "3     Сырок Дружба    100\n",
      "5   Молоко Вкусное    500\n"
     ]
    }
   ],
   "source": [
    "mechta = df[df['name'] == 'Сырок Мечта']['count'].sum()\n",
    "druzhba = df[df['name'] == 'Сырок Дружба']['count'].sum()\n",
    "\n",
    "df = df.drop_duplicates(subset=['name'], keep='first')\n",
    "print(df)\n",
    "df = df.drop_duplicates(subset=['name'], keep='last')\n",
    "print(df)"
   ]
  },
  {
   "cell_type": "code",
   "execution_count": 73,
   "id": "efeb865e",
   "metadata": {},
   "outputs": [
    {
     "name": "stdout",
     "output_type": "stream",
     "text": [
      "              name  count\n",
      "0      Сырок Мечта    120\n",
      "1  Молоко Отличное    200\n",
      "2     Сырок Дружба    100\n",
      "3   Молоко Вкусное    500\n"
     ]
    }
   ],
   "source": [
    "df = df.reset_index(drop=True)\n",
    "print(df)"
   ]
  },
  {
   "cell_type": "code",
   "execution_count": 74,
   "id": "feec16ec",
   "metadata": {},
   "outputs": [
    {
     "name": "stdout",
     "output_type": "stream",
     "text": [
      "              name  count\n",
      "0      Сырок Мечта    245\n",
      "1  Молоко Отличное    200\n",
      "2     Сырок Дружба    135\n",
      "3   Молоко Вкусное    500\n"
     ]
    }
   ],
   "source": [
    "df.loc[0, 'count'] = mechta\n",
    "df.loc[2, 'count'] = druzhba\n",
    "\n",
    "print(df)"
   ]
  },
  {
   "cell_type": "markdown",
   "id": "0c0f64b4",
   "metadata": {},
   "source": [
    "## Лаборатория ручного поиска дубликатов\n",
    "<a id='dupl'></a>"
   ]
  },
  {
   "cell_type": "code",
   "execution_count": 75,
   "id": "4b4d493f",
   "metadata": {},
   "outputs": [],
   "source": [
    "stock = pd.read_excel('stock.xlsx',sheet_name='storehouse')"
   ]
  },
  {
   "cell_type": "code",
   "execution_count": 76,
   "id": "f7f86006",
   "metadata": {},
   "outputs": [
    {
     "data": {
      "text/html": [
       "<div>\n",
       "<style scoped>\n",
       "    .dataframe tbody tr th:only-of-type {\n",
       "        vertical-align: middle;\n",
       "    }\n",
       "\n",
       "    .dataframe tbody tr th {\n",
       "        vertical-align: top;\n",
       "    }\n",
       "\n",
       "    .dataframe thead th {\n",
       "        text-align: right;\n",
       "    }\n",
       "</style>\n",
       "<table border=\"1\" class=\"dataframe\">\n",
       "  <thead>\n",
       "    <tr style=\"text-align: right;\">\n",
       "      <th></th>\n",
       "      <th>id</th>\n",
       "      <th>item</th>\n",
       "      <th>count</th>\n",
       "    </tr>\n",
       "  </thead>\n",
       "  <tbody>\n",
       "    <tr>\n",
       "      <th>0</th>\n",
       "      <td>100480924</td>\n",
       "      <td>Смартфон Xiaomi Redmi 6A 16GB</td>\n",
       "      <td>32</td>\n",
       "    </tr>\n",
       "    <tr>\n",
       "      <th>1</th>\n",
       "      <td>100480929</td>\n",
       "      <td>Смартфон Xiaomi Redmi 6A 16GB</td>\n",
       "      <td>10</td>\n",
       "    </tr>\n",
       "    <tr>\n",
       "      <th>2</th>\n",
       "      <td>100480938</td>\n",
       "      <td>Смартфон Samsung Galaxy A30 32GB</td>\n",
       "      <td>49</td>\n",
       "    </tr>\n",
       "    <tr>\n",
       "      <th>3</th>\n",
       "      <td>100480952</td>\n",
       "      <td>смартфон Samsung Galaxy A30 32gb</td>\n",
       "      <td>11</td>\n",
       "    </tr>\n",
       "    <tr>\n",
       "      <th>4</th>\n",
       "      <td>100480959</td>\n",
       "      <td>Смартфон HUAWEI P30 lite</td>\n",
       "      <td>5</td>\n",
       "    </tr>\n",
       "    <tr>\n",
       "      <th>5</th>\n",
       "      <td>100480975</td>\n",
       "      <td>Смартфон Apple iPhone Xr 64gb</td>\n",
       "      <td>10</td>\n",
       "    </tr>\n",
       "    <tr>\n",
       "      <th>6</th>\n",
       "      <td>100480988</td>\n",
       "      <td>Смартфон Honor 8X 64GB</td>\n",
       "      <td>64</td>\n",
       "    </tr>\n",
       "    <tr>\n",
       "      <th>7</th>\n",
       "      <td>100480998</td>\n",
       "      <td>Смартфон HUAWEI P30 lite</td>\n",
       "      <td>33</td>\n",
       "    </tr>\n",
       "    <tr>\n",
       "      <th>8</th>\n",
       "      <td>100481008</td>\n",
       "      <td>Смартфон Xiaomi Redmi 6A 16GB</td>\n",
       "      <td>2</td>\n",
       "    </tr>\n",
       "    <tr>\n",
       "      <th>9</th>\n",
       "      <td>100481020</td>\n",
       "      <td>Смартфон Apple iPhone Xr 64GB</td>\n",
       "      <td>19</td>\n",
       "    </tr>\n",
       "  </tbody>\n",
       "</table>\n",
       "</div>"
      ],
      "text/plain": [
       "          id                              item  count\n",
       "0  100480924     Смартфон Xiaomi Redmi 6A 16GB     32\n",
       "1  100480929     Смартфон Xiaomi Redmi 6A 16GB     10\n",
       "2  100480938  Смартфон Samsung Galaxy A30 32GB     49\n",
       "3  100480952  смартфон Samsung Galaxy A30 32gb     11\n",
       "4  100480959          Смартфон HUAWEI P30 lite      5\n",
       "5  100480975     Смартфон Apple iPhone Xr 64gb     10\n",
       "6  100480988            Смартфон Honor 8X 64GB     64\n",
       "7  100480998          Смартфон HUAWEI P30 lite     33\n",
       "8  100481008     Смартфон Xiaomi Redmi 6A 16GB      2\n",
       "9  100481020     Смартфон Apple iPhone Xr 64GB     19"
      ]
     },
     "execution_count": 76,
     "metadata": {},
     "output_type": "execute_result"
    }
   ],
   "source": [
    "stock.head(10)"
   ]
  },
  {
   "cell_type": "code",
   "execution_count": 77,
   "id": "eea53027",
   "metadata": {},
   "outputs": [
    {
     "name": "stdout",
     "output_type": "stream",
     "text": [
      "<class 'pandas.core.frame.DataFrame'>\n",
      "RangeIndex: 10 entries, 0 to 9\n",
      "Data columns (total 3 columns):\n",
      " #   Column  Non-Null Count  Dtype \n",
      "---  ------  --------------  ----- \n",
      " 0   id      10 non-null     int64 \n",
      " 1   item    10 non-null     object\n",
      " 2   count   10 non-null     int64 \n",
      "dtypes: int64(2), object(1)\n",
      "memory usage: 368.0+ bytes\n"
     ]
    }
   ],
   "source": [
    "stock.info()"
   ]
  },
  {
   "cell_type": "code",
   "execution_count": 78,
   "id": "6fe93d55",
   "metadata": {},
   "outputs": [
    {
     "data": {
      "text/plain": [
       "3"
      ]
     },
     "execution_count": 78,
     "metadata": {},
     "output_type": "execute_result"
    }
   ],
   "source": [
    "stock['item'].duplicated().sum()"
   ]
  },
  {
   "cell_type": "code",
   "execution_count": 79,
   "id": "dd2778a1",
   "metadata": {},
   "outputs": [
    {
     "data": {
      "text/plain": [
       "Смартфон Xiaomi Redmi 6A 16GB       3\n",
       "Смартфон HUAWEI P30 lite            2\n",
       "Смартфон Samsung Galaxy A30 32GB    1\n",
       "смартфон Samsung Galaxy A30 32gb    1\n",
       "Смартфон Apple iPhone Xr 64gb       1\n",
       "Смартфон Honor 8X 64GB              1\n",
       "Смартфон Apple iPhone Xr 64GB       1\n",
       "Name: item, dtype: int64"
      ]
     },
     "execution_count": 79,
     "metadata": {},
     "output_type": "execute_result"
    }
   ],
   "source": [
    "stock['item'].value_counts()"
   ]
  },
  {
   "cell_type": "code",
   "execution_count": 80,
   "id": "0b03a07b",
   "metadata": {},
   "outputs": [],
   "source": [
    "xiaomi = stock.loc[stock['item']=='Смартфон Xiaomi Redmi 6A 16GB']['count'].sum()"
   ]
  },
  {
   "cell_type": "code",
   "execution_count": 81,
   "id": "1e269281",
   "metadata": {},
   "outputs": [
    {
     "data": {
      "text/plain": [
       "44"
      ]
     },
     "execution_count": 81,
     "metadata": {},
     "output_type": "execute_result"
    }
   ],
   "source": [
    "xiaomi"
   ]
  },
  {
   "cell_type": "code",
   "execution_count": 82,
   "id": "bb185958",
   "metadata": {},
   "outputs": [],
   "source": [
    "huawei = stock.loc[stock['item']=='Смартфон HUAWEI P30 lite']['count'].sum()"
   ]
  },
  {
   "cell_type": "code",
   "execution_count": 83,
   "id": "38ced2b9",
   "metadata": {},
   "outputs": [
    {
     "data": {
      "text/plain": [
       "38"
      ]
     },
     "execution_count": 83,
     "metadata": {},
     "output_type": "execute_result"
    }
   ],
   "source": [
    "huawei\n"
   ]
  },
  {
   "cell_type": "code",
   "execution_count": 84,
   "id": "b253d7c8",
   "metadata": {},
   "outputs": [],
   "source": [
    "stock = stock.drop_duplicates(subset=['item'],keep='first')"
   ]
  },
  {
   "cell_type": "code",
   "execution_count": 85,
   "id": "c3c2b699",
   "metadata": {},
   "outputs": [],
   "source": [
    "stock = stock.reset_index(drop=True)"
   ]
  },
  {
   "cell_type": "code",
   "execution_count": 86,
   "id": "7fc4bcb1",
   "metadata": {},
   "outputs": [
    {
     "data": {
      "text/html": [
       "<div>\n",
       "<style scoped>\n",
       "    .dataframe tbody tr th:only-of-type {\n",
       "        vertical-align: middle;\n",
       "    }\n",
       "\n",
       "    .dataframe tbody tr th {\n",
       "        vertical-align: top;\n",
       "    }\n",
       "\n",
       "    .dataframe thead th {\n",
       "        text-align: right;\n",
       "    }\n",
       "</style>\n",
       "<table border=\"1\" class=\"dataframe\">\n",
       "  <thead>\n",
       "    <tr style=\"text-align: right;\">\n",
       "      <th></th>\n",
       "      <th>id</th>\n",
       "      <th>item</th>\n",
       "      <th>count</th>\n",
       "    </tr>\n",
       "  </thead>\n",
       "  <tbody>\n",
       "    <tr>\n",
       "      <th>0</th>\n",
       "      <td>100480924</td>\n",
       "      <td>Смартфон Xiaomi Redmi 6A 16GB</td>\n",
       "      <td>32</td>\n",
       "    </tr>\n",
       "    <tr>\n",
       "      <th>1</th>\n",
       "      <td>100480938</td>\n",
       "      <td>Смартфон Samsung Galaxy A30 32GB</td>\n",
       "      <td>49</td>\n",
       "    </tr>\n",
       "    <tr>\n",
       "      <th>2</th>\n",
       "      <td>100480952</td>\n",
       "      <td>смартфон Samsung Galaxy A30 32gb</td>\n",
       "      <td>11</td>\n",
       "    </tr>\n",
       "    <tr>\n",
       "      <th>3</th>\n",
       "      <td>100480959</td>\n",
       "      <td>Смартфон HUAWEI P30 lite</td>\n",
       "      <td>5</td>\n",
       "    </tr>\n",
       "    <tr>\n",
       "      <th>4</th>\n",
       "      <td>100480975</td>\n",
       "      <td>Смартфон Apple iPhone Xr 64gb</td>\n",
       "      <td>10</td>\n",
       "    </tr>\n",
       "    <tr>\n",
       "      <th>5</th>\n",
       "      <td>100480988</td>\n",
       "      <td>Смартфон Honor 8X 64GB</td>\n",
       "      <td>64</td>\n",
       "    </tr>\n",
       "    <tr>\n",
       "      <th>6</th>\n",
       "      <td>100481020</td>\n",
       "      <td>Смартфон Apple iPhone Xr 64GB</td>\n",
       "      <td>19</td>\n",
       "    </tr>\n",
       "  </tbody>\n",
       "</table>\n",
       "</div>"
      ],
      "text/plain": [
       "          id                              item  count\n",
       "0  100480924     Смартфон Xiaomi Redmi 6A 16GB     32\n",
       "1  100480938  Смартфон Samsung Galaxy A30 32GB     49\n",
       "2  100480952  смартфон Samsung Galaxy A30 32gb     11\n",
       "3  100480959          Смартфон HUAWEI P30 lite      5\n",
       "4  100480975     Смартфон Apple iPhone Xr 64gb     10\n",
       "5  100480988            Смартфон Honor 8X 64GB     64\n",
       "6  100481020     Смартфон Apple iPhone Xr 64GB     19"
      ]
     },
     "execution_count": 86,
     "metadata": {},
     "output_type": "execute_result"
    }
   ],
   "source": [
    "stock"
   ]
  },
  {
   "cell_type": "code",
   "execution_count": 87,
   "id": "256eda85",
   "metadata": {},
   "outputs": [],
   "source": [
    "stock.loc[0,'count'] = xiaomi"
   ]
  },
  {
   "cell_type": "code",
   "execution_count": 88,
   "id": "91d03f25",
   "metadata": {},
   "outputs": [],
   "source": [
    "stock.loc[3,'count'] = huawei"
   ]
  },
  {
   "cell_type": "code",
   "execution_count": 89,
   "id": "59442683",
   "metadata": {},
   "outputs": [
    {
     "data": {
      "text/html": [
       "<div>\n",
       "<style scoped>\n",
       "    .dataframe tbody tr th:only-of-type {\n",
       "        vertical-align: middle;\n",
       "    }\n",
       "\n",
       "    .dataframe tbody tr th {\n",
       "        vertical-align: top;\n",
       "    }\n",
       "\n",
       "    .dataframe thead th {\n",
       "        text-align: right;\n",
       "    }\n",
       "</style>\n",
       "<table border=\"1\" class=\"dataframe\">\n",
       "  <thead>\n",
       "    <tr style=\"text-align: right;\">\n",
       "      <th></th>\n",
       "      <th>id</th>\n",
       "      <th>item</th>\n",
       "      <th>count</th>\n",
       "    </tr>\n",
       "  </thead>\n",
       "  <tbody>\n",
       "    <tr>\n",
       "      <th>0</th>\n",
       "      <td>100480924</td>\n",
       "      <td>Смартфон Xiaomi Redmi 6A 16GB</td>\n",
       "      <td>44</td>\n",
       "    </tr>\n",
       "    <tr>\n",
       "      <th>1</th>\n",
       "      <td>100480938</td>\n",
       "      <td>Смартфон Samsung Galaxy A30 32GB</td>\n",
       "      <td>49</td>\n",
       "    </tr>\n",
       "    <tr>\n",
       "      <th>2</th>\n",
       "      <td>100480952</td>\n",
       "      <td>смартфон Samsung Galaxy A30 32gb</td>\n",
       "      <td>11</td>\n",
       "    </tr>\n",
       "    <tr>\n",
       "      <th>3</th>\n",
       "      <td>100480959</td>\n",
       "      <td>Смартфон HUAWEI P30 lite</td>\n",
       "      <td>38</td>\n",
       "    </tr>\n",
       "    <tr>\n",
       "      <th>4</th>\n",
       "      <td>100480975</td>\n",
       "      <td>Смартфон Apple iPhone Xr 64gb</td>\n",
       "      <td>10</td>\n",
       "    </tr>\n",
       "    <tr>\n",
       "      <th>5</th>\n",
       "      <td>100480988</td>\n",
       "      <td>Смартфон Honor 8X 64GB</td>\n",
       "      <td>64</td>\n",
       "    </tr>\n",
       "    <tr>\n",
       "      <th>6</th>\n",
       "      <td>100481020</td>\n",
       "      <td>Смартфон Apple iPhone Xr 64GB</td>\n",
       "      <td>19</td>\n",
       "    </tr>\n",
       "  </tbody>\n",
       "</table>\n",
       "</div>"
      ],
      "text/plain": [
       "          id                              item  count\n",
       "0  100480924     Смартфон Xiaomi Redmi 6A 16GB     44\n",
       "1  100480938  Смартфон Samsung Galaxy A30 32GB     49\n",
       "2  100480952  смартфон Samsung Galaxy A30 32gb     11\n",
       "3  100480959          Смартфон HUAWEI P30 lite     38\n",
       "4  100480975     Смартфон Apple iPhone Xr 64gb     10\n",
       "5  100480988            Смартфон Honor 8X 64GB     64\n",
       "6  100481020     Смартфон Apple iPhone Xr 64GB     19"
      ]
     },
     "execution_count": 89,
     "metadata": {},
     "output_type": "execute_result"
    }
   ],
   "source": [
    "stock"
   ]
  },
  {
   "cell_type": "markdown",
   "id": "1870df4a",
   "metadata": {},
   "source": [
    "## Знакомство с данными\n",
    "Важно уметь не только привлекать клиентов, но и удерживать их.\n",
    "Вы уже анализировали поисковую выдачу товаров Яндекс.Маркета, сравнивали источники трафика и избавлялись от дубликатов в ассортименте — всё это направлено на улучшение маркетинга. Однако не менее важны усилия по поддержке пользователей.   \n",
    "Вам передали статистику обращений в службу поддержки Яндекс.Маркета: id каждого пользователя с темой и временем обращения.\n",
    "Ваша задача — настроить приоритизацию задач по каждому виду обращений. Сейчас непонятно, за решение каких проблем браться в первую очередь, а какие могут подождать. Такой формат загрузки службы поддержки не повышает качество сервиса."
   ]
  },
  {
   "cell_type": "code",
   "execution_count": 90,
   "id": "f288ac98",
   "metadata": {},
   "outputs": [],
   "source": [
    "support = pd.read_csv('support.csv')"
   ]
  },
  {
   "cell_type": "code",
   "execution_count": 91,
   "id": "dbff1388",
   "metadata": {},
   "outputs": [
    {
     "data": {
      "text/html": [
       "<div>\n",
       "<style scoped>\n",
       "    .dataframe tbody tr th:only-of-type {\n",
       "        vertical-align: middle;\n",
       "    }\n",
       "\n",
       "    .dataframe tbody tr th {\n",
       "        vertical-align: top;\n",
       "    }\n",
       "\n",
       "    .dataframe thead th {\n",
       "        text-align: right;\n",
       "    }\n",
       "</style>\n",
       "<table border=\"1\" class=\"dataframe\">\n",
       "  <thead>\n",
       "    <tr style=\"text-align: right;\">\n",
       "      <th></th>\n",
       "      <th>user_id</th>\n",
       "      <th>Тип обращения</th>\n",
       "      <th>type_id</th>\n",
       "      <th>Время обращения</th>\n",
       "    </tr>\n",
       "  </thead>\n",
       "  <tbody>\n",
       "    <tr>\n",
       "      <th>0</th>\n",
       "      <td>DNcd8dnS</td>\n",
       "      <td>Жалоба на товар в магазине</td>\n",
       "      <td>3</td>\n",
       "      <td>2019-03-28 13:58:24</td>\n",
       "    </tr>\n",
       "    <tr>\n",
       "      <th>1</th>\n",
       "      <td>0e9MvwGs</td>\n",
       "      <td>Мошенничество</td>\n",
       "      <td>5</td>\n",
       "      <td>2019-03-08 17:11:59</td>\n",
       "    </tr>\n",
       "    <tr>\n",
       "      <th>2</th>\n",
       "      <td>boyDUG4C</td>\n",
       "      <td>Мошенничество</td>\n",
       "      <td>5</td>\n",
       "      <td>2019-03-03 17:52:34</td>\n",
       "    </tr>\n",
       "    <tr>\n",
       "      <th>3</th>\n",
       "      <td>5jMA27s1</td>\n",
       "      <td>Жалоба на товар в магазине</td>\n",
       "      <td>3</td>\n",
       "      <td>2019-03-16 15:18:21</td>\n",
       "    </tr>\n",
       "    <tr>\n",
       "      <th>4</th>\n",
       "      <td>wvtyctOK</td>\n",
       "      <td>Накрутка отзывов</td>\n",
       "      <td>2</td>\n",
       "      <td>2019-03-13 14:43:14</td>\n",
       "    </tr>\n",
       "  </tbody>\n",
       "</table>\n",
       "</div>"
      ],
      "text/plain": [
       "    user_id               Тип обращения  type_id      Время обращения\n",
       "0  DNcd8dnS  Жалоба на товар в магазине        3  2019-03-28 13:58:24\n",
       "1  0e9MvwGs               Мошенничество        5  2019-03-08 17:11:59\n",
       "2  boyDUG4C               Мошенничество        5  2019-03-03 17:52:34\n",
       "3  5jMA27s1  Жалоба на товар в магазине        3  2019-03-16 15:18:21\n",
       "4  wvtyctOK            Накрутка отзывов        2  2019-03-13 14:43:14"
      ]
     },
     "execution_count": 91,
     "metadata": {},
     "output_type": "execute_result"
    }
   ],
   "source": [
    "support.head()"
   ]
  },
  {
   "cell_type": "code",
   "execution_count": 92,
   "id": "a0a212fb",
   "metadata": {},
   "outputs": [
    {
     "name": "stdout",
     "output_type": "stream",
     "text": [
      "<class 'pandas.core.frame.DataFrame'>\n",
      "RangeIndex: 3000 entries, 0 to 2999\n",
      "Data columns (total 4 columns):\n",
      " #   Column           Non-Null Count  Dtype \n",
      "---  ------           --------------  ----- \n",
      " 0   user_id          3000 non-null   object\n",
      " 1   Тип обращения    3000 non-null   object\n",
      " 2   type_id          3000 non-null   int64 \n",
      " 3   Время обращения  3000 non-null   object\n",
      "dtypes: int64(1), object(3)\n",
      "memory usage: 93.9+ KB\n"
     ]
    }
   ],
   "source": [
    "support.info()"
   ]
  },
  {
   "cell_type": "code",
   "execution_count": 93,
   "id": "3baefe72",
   "metadata": {},
   "outputs": [
    {
     "name": "stdout",
     "output_type": "stream",
     "text": [
      "<class 'pandas.core.frame.DataFrame'>\n",
      "RangeIndex: 3000 entries, 0 to 2999\n",
      "Data columns (total 4 columns):\n",
      " #   Column        Non-Null Count  Dtype \n",
      "---  ------        --------------  ----- \n",
      " 0   user_id       3000 non-null   object\n",
      " 1   type_message  3000 non-null   object\n",
      " 2   type_id       3000 non-null   int64 \n",
      " 3   timestamp     3000 non-null   object\n",
      "dtypes: int64(1), object(3)\n",
      "memory usage: 93.9+ KB\n"
     ]
    }
   ],
   "source": [
    "support = support.rename(columns={'Тип обращения':'type_message', 'Время обращения': 'timestamp'})\n",
    "support.info()"
   ]
  },
  {
   "cell_type": "markdown",
   "id": "b44f2ab1",
   "metadata": {},
   "source": [
    "## Декомпозиция таблиц\n",
    "Типы обращений в поддержку хранятся в виде строк разной длины: \n",
    "0  DNcd8dnS   Жалоба на товар в магазине        3  2019-03-28 13:58:24\n",
    "1  0e9MvwGs                Мошенничество        5  2019-03-08 17:11:59\n",
    "2  boyDUG4C                Мошенничество        5  2019-03-03 17:52:34\n",
    "3  5jMA27s1   Жалоба на товар в магазине        3  2019-03-16 15:18:21\n",
    "4  wvtyctOK             Накрутка отзывов        2  2019-03-13 14:43:14\n",
    "5  zvN8W1tc         Жалоба на видеообзор        8  2019-03-29 20:32:17\n",
    "6  bBmybSbr             Не работает сайт        1  2019-04-08 21:37:15\n",
    "7  5JX1P5G8  Продажа запрещенных товаров        6  2019-04-06 12:15:20\n",
    "8  pbbG3xWx             Не работает сайт        1  2019-04-09 17:30:43\n",
    "9  vZWtTovT   Жалоба на товар в магазине        3  2019-04-16 12:26:16 \n",
    "\n",
    "\n",
    "К чему приводит такой способ хранения?\n",
    "Усложняется визуальная работа с таблицей.\n",
    "Увеличивается размер файла и время обработки данных.\n",
    "Чтобы отфильтровать данные по типу обращения, приходится набирать его полное название. А в нём можно ошибиться.\n",
    "Создание новых категорий и изменение старых отнимает много времени.\n",
    "\n",
    "\n",
    "Предупредить появление этих проблем можно. Создадим отдельный «справочник», где названию категории будет соответствовать номер. И в будущих таблицах будем обращаться уже не к длинной строке, а к её числовому обозначению. "
   ]
  },
  {
   "cell_type": "code",
   "execution_count": 94,
   "id": "8ee3353b",
   "metadata": {},
   "outputs": [],
   "source": [
    "support_upd = pd.read_csv('support_upd.csv')"
   ]
  },
  {
   "cell_type": "code",
   "execution_count": 95,
   "id": "170947b0",
   "metadata": {},
   "outputs": [
    {
     "data": {
      "text/html": [
       "<div>\n",
       "<style scoped>\n",
       "    .dataframe tbody tr th:only-of-type {\n",
       "        vertical-align: middle;\n",
       "    }\n",
       "\n",
       "    .dataframe tbody tr th {\n",
       "        vertical-align: top;\n",
       "    }\n",
       "\n",
       "    .dataframe thead th {\n",
       "        text-align: right;\n",
       "    }\n",
       "</style>\n",
       "<table border=\"1\" class=\"dataframe\">\n",
       "  <thead>\n",
       "    <tr style=\"text-align: right;\">\n",
       "      <th></th>\n",
       "      <th>user_id</th>\n",
       "      <th>type_message</th>\n",
       "      <th>type_id</th>\n",
       "      <th>timestamp</th>\n",
       "    </tr>\n",
       "  </thead>\n",
       "  <tbody>\n",
       "    <tr>\n",
       "      <th>0</th>\n",
       "      <td>DNcd8dnS</td>\n",
       "      <td>Жалоба на товар в магазине</td>\n",
       "      <td>3</td>\n",
       "      <td>2019-03-28 13:58:24</td>\n",
       "    </tr>\n",
       "    <tr>\n",
       "      <th>1</th>\n",
       "      <td>0e9MvwGs</td>\n",
       "      <td>Мошенничество</td>\n",
       "      <td>5</td>\n",
       "      <td>2019-03-08 17:11:59</td>\n",
       "    </tr>\n",
       "    <tr>\n",
       "      <th>2</th>\n",
       "      <td>boyDUG4C</td>\n",
       "      <td>Мошенничество</td>\n",
       "      <td>5</td>\n",
       "      <td>2019-03-03 17:52:34</td>\n",
       "    </tr>\n",
       "    <tr>\n",
       "      <th>3</th>\n",
       "      <td>5jMA27s1</td>\n",
       "      <td>Жалоба на товар в магазине</td>\n",
       "      <td>3</td>\n",
       "      <td>2019-03-16 15:18:21</td>\n",
       "    </tr>\n",
       "    <tr>\n",
       "      <th>4</th>\n",
       "      <td>wvtyctOK</td>\n",
       "      <td>Накрутка отзывов</td>\n",
       "      <td>2</td>\n",
       "      <td>2019-03-13 14:43:14</td>\n",
       "    </tr>\n",
       "    <tr>\n",
       "      <th>5</th>\n",
       "      <td>zvN8W1tc</td>\n",
       "      <td>Жалоба на видеообзор</td>\n",
       "      <td>8</td>\n",
       "      <td>2019-03-29 20:32:17</td>\n",
       "    </tr>\n",
       "    <tr>\n",
       "      <th>6</th>\n",
       "      <td>bBmybSbr</td>\n",
       "      <td>Не работает сайт</td>\n",
       "      <td>1</td>\n",
       "      <td>2019-04-08 21:37:15</td>\n",
       "    </tr>\n",
       "    <tr>\n",
       "      <th>7</th>\n",
       "      <td>5JX1P5G8</td>\n",
       "      <td>Продажа запрещенных товаров</td>\n",
       "      <td>6</td>\n",
       "      <td>2019-04-06 12:15:20</td>\n",
       "    </tr>\n",
       "    <tr>\n",
       "      <th>8</th>\n",
       "      <td>pbbG3xWx</td>\n",
       "      <td>Не работает сайт</td>\n",
       "      <td>1</td>\n",
       "      <td>2019-04-09 17:30:43</td>\n",
       "    </tr>\n",
       "    <tr>\n",
       "      <th>9</th>\n",
       "      <td>vZWtTovT</td>\n",
       "      <td>Жалоба на товар в магазине</td>\n",
       "      <td>3</td>\n",
       "      <td>2019-04-16 12:26:16</td>\n",
       "    </tr>\n",
       "  </tbody>\n",
       "</table>\n",
       "</div>"
      ],
      "text/plain": [
       "    user_id                 type_message  type_id            timestamp\n",
       "0  DNcd8dnS   Жалоба на товар в магазине        3  2019-03-28 13:58:24\n",
       "1  0e9MvwGs                Мошенничество        5  2019-03-08 17:11:59\n",
       "2  boyDUG4C                Мошенничество        5  2019-03-03 17:52:34\n",
       "3  5jMA27s1   Жалоба на товар в магазине        3  2019-03-16 15:18:21\n",
       "4  wvtyctOK             Накрутка отзывов        2  2019-03-13 14:43:14\n",
       "5  zvN8W1tc         Жалоба на видеообзор        8  2019-03-29 20:32:17\n",
       "6  bBmybSbr             Не работает сайт        1  2019-04-08 21:37:15\n",
       "7  5JX1P5G8  Продажа запрещенных товаров        6  2019-04-06 12:15:20\n",
       "8  pbbG3xWx             Не работает сайт        1  2019-04-09 17:30:43\n",
       "9  vZWtTovT   Жалоба на товар в магазине        3  2019-04-16 12:26:16"
      ]
     },
     "execution_count": 95,
     "metadata": {},
     "output_type": "execute_result"
    }
   ],
   "source": [
    "support_upd.head(10)"
   ]
  },
  {
   "cell_type": "code",
   "execution_count": 96,
   "id": "8792e1ef",
   "metadata": {},
   "outputs": [
    {
     "data": {
      "text/plain": [
       "Жалоба на товар в магазине      606\n",
       "Мошенничество                   586\n",
       "Продажа поддельной продукции    312\n",
       "Не работает сайт                311\n",
       "Продажа запрещенных товаров     303\n",
       "Накрутка отзывов                302\n",
       "Жалоба на видеообзор            297\n",
       "Отзыв удалён                    283\n",
       "Name: type_message, dtype: int64"
      ]
     },
     "execution_count": 96,
     "metadata": {},
     "output_type": "execute_result"
    }
   ],
   "source": [
    "support_upd['type_message'].value_counts()"
   ]
  },
  {
   "cell_type": "code",
   "execution_count": 97,
   "id": "17271609",
   "metadata": {},
   "outputs": [],
   "source": [
    "support_log = support_upd[['user_id', 'type_id', 'timestamp']]"
   ]
  },
  {
   "cell_type": "code",
   "execution_count": 98,
   "id": "b300288f",
   "metadata": {},
   "outputs": [
    {
     "data": {
      "text/html": [
       "<div>\n",
       "<style scoped>\n",
       "    .dataframe tbody tr th:only-of-type {\n",
       "        vertical-align: middle;\n",
       "    }\n",
       "\n",
       "    .dataframe tbody tr th {\n",
       "        vertical-align: top;\n",
       "    }\n",
       "\n",
       "    .dataframe thead th {\n",
       "        text-align: right;\n",
       "    }\n",
       "</style>\n",
       "<table border=\"1\" class=\"dataframe\">\n",
       "  <thead>\n",
       "    <tr style=\"text-align: right;\">\n",
       "      <th></th>\n",
       "      <th>user_id</th>\n",
       "      <th>type_id</th>\n",
       "      <th>timestamp</th>\n",
       "    </tr>\n",
       "  </thead>\n",
       "  <tbody>\n",
       "    <tr>\n",
       "      <th>0</th>\n",
       "      <td>DNcd8dnS</td>\n",
       "      <td>3</td>\n",
       "      <td>2019-03-28 13:58:24</td>\n",
       "    </tr>\n",
       "    <tr>\n",
       "      <th>1</th>\n",
       "      <td>0e9MvwGs</td>\n",
       "      <td>5</td>\n",
       "      <td>2019-03-08 17:11:59</td>\n",
       "    </tr>\n",
       "    <tr>\n",
       "      <th>2</th>\n",
       "      <td>boyDUG4C</td>\n",
       "      <td>5</td>\n",
       "      <td>2019-03-03 17:52:34</td>\n",
       "    </tr>\n",
       "    <tr>\n",
       "      <th>3</th>\n",
       "      <td>5jMA27s1</td>\n",
       "      <td>3</td>\n",
       "      <td>2019-03-16 15:18:21</td>\n",
       "    </tr>\n",
       "    <tr>\n",
       "      <th>4</th>\n",
       "      <td>wvtyctOK</td>\n",
       "      <td>2</td>\n",
       "      <td>2019-03-13 14:43:14</td>\n",
       "    </tr>\n",
       "    <tr>\n",
       "      <th>5</th>\n",
       "      <td>zvN8W1tc</td>\n",
       "      <td>8</td>\n",
       "      <td>2019-03-29 20:32:17</td>\n",
       "    </tr>\n",
       "    <tr>\n",
       "      <th>6</th>\n",
       "      <td>bBmybSbr</td>\n",
       "      <td>1</td>\n",
       "      <td>2019-04-08 21:37:15</td>\n",
       "    </tr>\n",
       "    <tr>\n",
       "      <th>7</th>\n",
       "      <td>5JX1P5G8</td>\n",
       "      <td>6</td>\n",
       "      <td>2019-04-06 12:15:20</td>\n",
       "    </tr>\n",
       "    <tr>\n",
       "      <th>8</th>\n",
       "      <td>pbbG3xWx</td>\n",
       "      <td>1</td>\n",
       "      <td>2019-04-09 17:30:43</td>\n",
       "    </tr>\n",
       "    <tr>\n",
       "      <th>9</th>\n",
       "      <td>vZWtTovT</td>\n",
       "      <td>3</td>\n",
       "      <td>2019-04-16 12:26:16</td>\n",
       "    </tr>\n",
       "  </tbody>\n",
       "</table>\n",
       "</div>"
      ],
      "text/plain": [
       "    user_id  type_id            timestamp\n",
       "0  DNcd8dnS        3  2019-03-28 13:58:24\n",
       "1  0e9MvwGs        5  2019-03-08 17:11:59\n",
       "2  boyDUG4C        5  2019-03-03 17:52:34\n",
       "3  5jMA27s1        3  2019-03-16 15:18:21\n",
       "4  wvtyctOK        2  2019-03-13 14:43:14\n",
       "5  zvN8W1tc        8  2019-03-29 20:32:17\n",
       "6  bBmybSbr        1  2019-04-08 21:37:15\n",
       "7  5JX1P5G8        6  2019-04-06 12:15:20\n",
       "8  pbbG3xWx        1  2019-04-09 17:30:43\n",
       "9  vZWtTovT        3  2019-04-16 12:26:16"
      ]
     },
     "execution_count": 98,
     "metadata": {},
     "output_type": "execute_result"
    }
   ],
   "source": [
    "support_log.head(10)"
   ]
  },
  {
   "cell_type": "code",
   "execution_count": 99,
   "id": "eafb9210",
   "metadata": {},
   "outputs": [],
   "source": [
    "support_dict = support_upd[['type_message', 'type_id']]"
   ]
  },
  {
   "cell_type": "code",
   "execution_count": 100,
   "id": "5ac675ba",
   "metadata": {},
   "outputs": [
    {
     "data": {
      "text/html": [
       "<div>\n",
       "<style scoped>\n",
       "    .dataframe tbody tr th:only-of-type {\n",
       "        vertical-align: middle;\n",
       "    }\n",
       "\n",
       "    .dataframe tbody tr th {\n",
       "        vertical-align: top;\n",
       "    }\n",
       "\n",
       "    .dataframe thead th {\n",
       "        text-align: right;\n",
       "    }\n",
       "</style>\n",
       "<table border=\"1\" class=\"dataframe\">\n",
       "  <thead>\n",
       "    <tr style=\"text-align: right;\">\n",
       "      <th></th>\n",
       "      <th>type_message</th>\n",
       "      <th>type_id</th>\n",
       "    </tr>\n",
       "  </thead>\n",
       "  <tbody>\n",
       "    <tr>\n",
       "      <th>0</th>\n",
       "      <td>Жалоба на товар в магазине</td>\n",
       "      <td>3</td>\n",
       "    </tr>\n",
       "    <tr>\n",
       "      <th>1</th>\n",
       "      <td>Мошенничество</td>\n",
       "      <td>5</td>\n",
       "    </tr>\n",
       "    <tr>\n",
       "      <th>2</th>\n",
       "      <td>Мошенничество</td>\n",
       "      <td>5</td>\n",
       "    </tr>\n",
       "    <tr>\n",
       "      <th>3</th>\n",
       "      <td>Жалоба на товар в магазине</td>\n",
       "      <td>3</td>\n",
       "    </tr>\n",
       "    <tr>\n",
       "      <th>4</th>\n",
       "      <td>Накрутка отзывов</td>\n",
       "      <td>2</td>\n",
       "    </tr>\n",
       "    <tr>\n",
       "      <th>5</th>\n",
       "      <td>Жалоба на видеообзор</td>\n",
       "      <td>8</td>\n",
       "    </tr>\n",
       "    <tr>\n",
       "      <th>6</th>\n",
       "      <td>Не работает сайт</td>\n",
       "      <td>1</td>\n",
       "    </tr>\n",
       "    <tr>\n",
       "      <th>7</th>\n",
       "      <td>Продажа запрещенных товаров</td>\n",
       "      <td>6</td>\n",
       "    </tr>\n",
       "    <tr>\n",
       "      <th>8</th>\n",
       "      <td>Не работает сайт</td>\n",
       "      <td>1</td>\n",
       "    </tr>\n",
       "    <tr>\n",
       "      <th>9</th>\n",
       "      <td>Жалоба на товар в магазине</td>\n",
       "      <td>3</td>\n",
       "    </tr>\n",
       "  </tbody>\n",
       "</table>\n",
       "</div>"
      ],
      "text/plain": [
       "                  type_message  type_id\n",
       "0   Жалоба на товар в магазине        3\n",
       "1                Мошенничество        5\n",
       "2                Мошенничество        5\n",
       "3   Жалоба на товар в магазине        3\n",
       "4             Накрутка отзывов        2\n",
       "5         Жалоба на видеообзор        8\n",
       "6             Не работает сайт        1\n",
       "7  Продажа запрещенных товаров        6\n",
       "8             Не работает сайт        1\n",
       "9   Жалоба на товар в магазине        3"
      ]
     },
     "execution_count": 100,
     "metadata": {},
     "output_type": "execute_result"
    }
   ],
   "source": [
    "support_dict.head(10)"
   ]
  },
  {
   "cell_type": "code",
   "execution_count": 101,
   "id": "26ce5b2e",
   "metadata": {},
   "outputs": [
    {
     "name": "stdout",
     "output_type": "stream",
     "text": [
      "                   type_message  type_id\n",
      "4              Не работает сайт        1\n",
      "2              Накрутка отзывов        2\n",
      "0    Жалоба на товар в магазине        3\n",
      "6  Продажа поддельной продукции        4\n",
      "1                 Мошенничество        5\n",
      "5   Продажа запрещенных товаров        6\n",
      "7                  Отзыв удалён        7\n",
      "3          Жалоба на видеообзор        8\n"
     ]
    }
   ],
   "source": [
    "print(support_dict.drop_duplicates(subset = 'type_message', keep = 'first').reset_index(drop = True).sort_values(by = 'type_id'))"
   ]
  },
  {
   "cell_type": "markdown",
   "id": "79f61f36",
   "metadata": {},
   "source": [
    "## Категоризация по числовым диапазонам\n",
    "метод apply(): он берёт значения столбца датафрейма и применяет к ним функцию из своего аргумента. \n",
    "Здесь apply() следует вызвать для столбца AGE, так как в нём содержатся данные, которые функция примет на вход. Аргументом метода станет сама функция age_group.\n",
    "\n",
    "\n",
    "clients['age_group'] = clients['age'].apply(age_group)"
   ]
  },
  {
   "cell_type": "code",
   "execution_count": 102,
   "id": "8362ac14",
   "metadata": {},
   "outputs": [],
   "source": [
    "support_log = pd.read_csv('support_log.csv')"
   ]
  },
  {
   "cell_type": "code",
   "execution_count": 103,
   "id": "66559b17",
   "metadata": {},
   "outputs": [
    {
     "data": {
      "text/html": [
       "<div>\n",
       "<style scoped>\n",
       "    .dataframe tbody tr th:only-of-type {\n",
       "        vertical-align: middle;\n",
       "    }\n",
       "\n",
       "    .dataframe tbody tr th {\n",
       "        vertical-align: top;\n",
       "    }\n",
       "\n",
       "    .dataframe thead th {\n",
       "        text-align: right;\n",
       "    }\n",
       "</style>\n",
       "<table border=\"1\" class=\"dataframe\">\n",
       "  <thead>\n",
       "    <tr style=\"text-align: right;\">\n",
       "      <th></th>\n",
       "      <th>Unnamed: 0</th>\n",
       "      <th>user_id</th>\n",
       "      <th>type_id</th>\n",
       "      <th>timestamp</th>\n",
       "    </tr>\n",
       "  </thead>\n",
       "  <tbody>\n",
       "    <tr>\n",
       "      <th>0</th>\n",
       "      <td>0</td>\n",
       "      <td>DNcd8dnS</td>\n",
       "      <td>3</td>\n",
       "      <td>2019-03-28 13:58:24</td>\n",
       "    </tr>\n",
       "    <tr>\n",
       "      <th>1</th>\n",
       "      <td>1</td>\n",
       "      <td>0e9MvwGs</td>\n",
       "      <td>5</td>\n",
       "      <td>2019-03-08 17:11:59</td>\n",
       "    </tr>\n",
       "    <tr>\n",
       "      <th>2</th>\n",
       "      <td>2</td>\n",
       "      <td>boyDUG4C</td>\n",
       "      <td>5</td>\n",
       "      <td>2019-03-03 17:52:34</td>\n",
       "    </tr>\n",
       "    <tr>\n",
       "      <th>3</th>\n",
       "      <td>3</td>\n",
       "      <td>5jMA27s1</td>\n",
       "      <td>3</td>\n",
       "      <td>2019-03-16 15:18:21</td>\n",
       "    </tr>\n",
       "    <tr>\n",
       "      <th>4</th>\n",
       "      <td>4</td>\n",
       "      <td>wvtyctOK</td>\n",
       "      <td>2</td>\n",
       "      <td>2019-03-13 14:43:14</td>\n",
       "    </tr>\n",
       "    <tr>\n",
       "      <th>5</th>\n",
       "      <td>5</td>\n",
       "      <td>zvN8W1tc</td>\n",
       "      <td>8</td>\n",
       "      <td>2019-03-29 20:32:17</td>\n",
       "    </tr>\n",
       "    <tr>\n",
       "      <th>6</th>\n",
       "      <td>6</td>\n",
       "      <td>bBmybSbr</td>\n",
       "      <td>1</td>\n",
       "      <td>2019-04-08 21:37:15</td>\n",
       "    </tr>\n",
       "    <tr>\n",
       "      <th>7</th>\n",
       "      <td>7</td>\n",
       "      <td>5JX1P5G8</td>\n",
       "      <td>6</td>\n",
       "      <td>2019-04-06 12:15:20</td>\n",
       "    </tr>\n",
       "    <tr>\n",
       "      <th>8</th>\n",
       "      <td>8</td>\n",
       "      <td>pbbG3xWx</td>\n",
       "      <td>1</td>\n",
       "      <td>2019-04-09 17:30:43</td>\n",
       "    </tr>\n",
       "    <tr>\n",
       "      <th>9</th>\n",
       "      <td>9</td>\n",
       "      <td>vZWtTovT</td>\n",
       "      <td>3</td>\n",
       "      <td>2019-04-16 12:26:16</td>\n",
       "    </tr>\n",
       "  </tbody>\n",
       "</table>\n",
       "</div>"
      ],
      "text/plain": [
       "   Unnamed: 0   user_id  type_id            timestamp\n",
       "0           0  DNcd8dnS        3  2019-03-28 13:58:24\n",
       "1           1  0e9MvwGs        5  2019-03-08 17:11:59\n",
       "2           2  boyDUG4C        5  2019-03-03 17:52:34\n",
       "3           3  5jMA27s1        3  2019-03-16 15:18:21\n",
       "4           4  wvtyctOK        2  2019-03-13 14:43:14\n",
       "5           5  zvN8W1tc        8  2019-03-29 20:32:17\n",
       "6           6  bBmybSbr        1  2019-04-08 21:37:15\n",
       "7           7  5JX1P5G8        6  2019-04-06 12:15:20\n",
       "8           8  pbbG3xWx        1  2019-04-09 17:30:43\n",
       "9           9  vZWtTovT        3  2019-04-16 12:26:16"
      ]
     },
     "execution_count": 103,
     "metadata": {},
     "output_type": "execute_result"
    }
   ],
   "source": [
    "support_log.head(10)"
   ]
  },
  {
   "cell_type": "code",
   "execution_count": 113,
   "id": "3430c497",
   "metadata": {},
   "outputs": [],
   "source": [
    "support_log_grouped = support_log.groupby('type_id').count()"
   ]
  },
  {
   "cell_type": "code",
   "execution_count": 114,
   "id": "69e25d95",
   "metadata": {},
   "outputs": [
    {
     "name": "stdout",
     "output_type": "stream",
     "text": [
      "<class 'pandas.core.frame.DataFrame'>\n",
      "Int64Index: 8 entries, 1 to 8\n",
      "Data columns (total 3 columns):\n",
      " #   Column      Non-Null Count  Dtype\n",
      "---  ------      --------------  -----\n",
      " 0   Unnamed: 0  8 non-null      int64\n",
      " 1   user_id     8 non-null      int64\n",
      " 2   timestamp   8 non-null      int64\n",
      "dtypes: int64(3)\n",
      "memory usage: 256.0 bytes\n"
     ]
    }
   ],
   "source": [
    "support_log_grouped.info()"
   ]
  },
  {
   "cell_type": "code",
   "execution_count": 115,
   "id": "a56b20a5",
   "metadata": {},
   "outputs": [],
   "source": [
    "def alert_group(messages):\n",
    "    if messages<=300:\n",
    "        return ('средний') \n",
    "    elif messages<=500:\n",
    "        return ('высокий')\n",
    "    else:\n",
    "        return 'критичный'"
   ]
  },
  {
   "cell_type": "code",
   "execution_count": 116,
   "id": "baada4b2",
   "metadata": {},
   "outputs": [
    {
     "name": "stdout",
     "output_type": "stream",
     "text": [
      "критичный\n"
     ]
    }
   ],
   "source": [
    "print(alert_group(550))"
   ]
  },
  {
   "cell_type": "code",
   "execution_count": 118,
   "id": "be1de03e",
   "metadata": {},
   "outputs": [],
   "source": [
    "support_log_grouped['alert_group'] = support_log_grouped['user_id'].apply(alert_group)"
   ]
  },
  {
   "cell_type": "code",
   "execution_count": 119,
   "id": "ea5c7310",
   "metadata": {},
   "outputs": [
    {
     "data": {
      "text/html": [
       "<div>\n",
       "<style scoped>\n",
       "    .dataframe tbody tr th:only-of-type {\n",
       "        vertical-align: middle;\n",
       "    }\n",
       "\n",
       "    .dataframe tbody tr th {\n",
       "        vertical-align: top;\n",
       "    }\n",
       "\n",
       "    .dataframe thead th {\n",
       "        text-align: right;\n",
       "    }\n",
       "</style>\n",
       "<table border=\"1\" class=\"dataframe\">\n",
       "  <thead>\n",
       "    <tr style=\"text-align: right;\">\n",
       "      <th></th>\n",
       "      <th>Unnamed: 0</th>\n",
       "      <th>user_id</th>\n",
       "      <th>timestamp</th>\n",
       "      <th>alert_group</th>\n",
       "    </tr>\n",
       "    <tr>\n",
       "      <th>type_id</th>\n",
       "      <th></th>\n",
       "      <th></th>\n",
       "      <th></th>\n",
       "      <th></th>\n",
       "    </tr>\n",
       "  </thead>\n",
       "  <tbody>\n",
       "    <tr>\n",
       "      <th>1</th>\n",
       "      <td>311</td>\n",
       "      <td>311</td>\n",
       "      <td>311</td>\n",
       "      <td>высокий</td>\n",
       "    </tr>\n",
       "    <tr>\n",
       "      <th>2</th>\n",
       "      <td>302</td>\n",
       "      <td>302</td>\n",
       "      <td>302</td>\n",
       "      <td>высокий</td>\n",
       "    </tr>\n",
       "    <tr>\n",
       "      <th>3</th>\n",
       "      <td>606</td>\n",
       "      <td>606</td>\n",
       "      <td>606</td>\n",
       "      <td>критичный</td>\n",
       "    </tr>\n",
       "    <tr>\n",
       "      <th>4</th>\n",
       "      <td>312</td>\n",
       "      <td>312</td>\n",
       "      <td>312</td>\n",
       "      <td>высокий</td>\n",
       "    </tr>\n",
       "    <tr>\n",
       "      <th>5</th>\n",
       "      <td>586</td>\n",
       "      <td>586</td>\n",
       "      <td>586</td>\n",
       "      <td>критичный</td>\n",
       "    </tr>\n",
       "    <tr>\n",
       "      <th>6</th>\n",
       "      <td>303</td>\n",
       "      <td>303</td>\n",
       "      <td>303</td>\n",
       "      <td>высокий</td>\n",
       "    </tr>\n",
       "    <tr>\n",
       "      <th>7</th>\n",
       "      <td>283</td>\n",
       "      <td>283</td>\n",
       "      <td>283</td>\n",
       "      <td>средний</td>\n",
       "    </tr>\n",
       "    <tr>\n",
       "      <th>8</th>\n",
       "      <td>297</td>\n",
       "      <td>297</td>\n",
       "      <td>297</td>\n",
       "      <td>средний</td>\n",
       "    </tr>\n",
       "  </tbody>\n",
       "</table>\n",
       "</div>"
      ],
      "text/plain": [
       "         Unnamed: 0  user_id  timestamp alert_group\n",
       "type_id                                            \n",
       "1               311      311        311     высокий\n",
       "2               302      302        302     высокий\n",
       "3               606      606        606   критичный\n",
       "4               312      312        312     высокий\n",
       "5               586      586        586   критичный\n",
       "6               303      303        303     высокий\n",
       "7               283      283        283     средний\n",
       "8               297      297        297     средний"
      ]
     },
     "execution_count": 119,
     "metadata": {},
     "output_type": "execute_result"
    }
   ],
   "source": [
    "support_log_grouped"
   ]
  },
  {
   "cell_type": "code",
   "execution_count": 120,
   "id": "112aa87b",
   "metadata": {},
   "outputs": [],
   "source": [
    "support_log_grouped = pd.read_csv(\"support_log_grouped.csv\")"
   ]
  },
  {
   "cell_type": "code",
   "execution_count": 121,
   "id": "07724f03",
   "metadata": {},
   "outputs": [
    {
     "data": {
      "text/html": [
       "<div>\n",
       "<style scoped>\n",
       "    .dataframe tbody tr th:only-of-type {\n",
       "        vertical-align: middle;\n",
       "    }\n",
       "\n",
       "    .dataframe tbody tr th {\n",
       "        vertical-align: top;\n",
       "    }\n",
       "\n",
       "    .dataframe thead th {\n",
       "        text-align: right;\n",
       "    }\n",
       "</style>\n",
       "<table border=\"1\" class=\"dataframe\">\n",
       "  <thead>\n",
       "    <tr style=\"text-align: right;\">\n",
       "      <th></th>\n",
       "      <th>type_id</th>\n",
       "      <th>user_id</th>\n",
       "      <th>timestamp</th>\n",
       "      <th>alert_group</th>\n",
       "      <th>importance</th>\n",
       "    </tr>\n",
       "  </thead>\n",
       "  <tbody>\n",
       "    <tr>\n",
       "      <th>0</th>\n",
       "      <td>1</td>\n",
       "      <td>311</td>\n",
       "      <td>311</td>\n",
       "      <td>высокий</td>\n",
       "      <td>1</td>\n",
       "    </tr>\n",
       "    <tr>\n",
       "      <th>1</th>\n",
       "      <td>2</td>\n",
       "      <td>302</td>\n",
       "      <td>302</td>\n",
       "      <td>высокий</td>\n",
       "      <td>0</td>\n",
       "    </tr>\n",
       "    <tr>\n",
       "      <th>2</th>\n",
       "      <td>3</td>\n",
       "      <td>606</td>\n",
       "      <td>606</td>\n",
       "      <td>критичный</td>\n",
       "      <td>0</td>\n",
       "    </tr>\n",
       "    <tr>\n",
       "      <th>3</th>\n",
       "      <td>4</td>\n",
       "      <td>312</td>\n",
       "      <td>312</td>\n",
       "      <td>высокий</td>\n",
       "      <td>1</td>\n",
       "    </tr>\n",
       "    <tr>\n",
       "      <th>4</th>\n",
       "      <td>5</td>\n",
       "      <td>586</td>\n",
       "      <td>586</td>\n",
       "      <td>критичный</td>\n",
       "      <td>1</td>\n",
       "    </tr>\n",
       "    <tr>\n",
       "      <th>5</th>\n",
       "      <td>6</td>\n",
       "      <td>303</td>\n",
       "      <td>303</td>\n",
       "      <td>высокий</td>\n",
       "      <td>1</td>\n",
       "    </tr>\n",
       "    <tr>\n",
       "      <th>6</th>\n",
       "      <td>7</td>\n",
       "      <td>283</td>\n",
       "      <td>283</td>\n",
       "      <td>средний</td>\n",
       "      <td>1</td>\n",
       "    </tr>\n",
       "    <tr>\n",
       "      <th>7</th>\n",
       "      <td>8</td>\n",
       "      <td>297</td>\n",
       "      <td>297</td>\n",
       "      <td>средний</td>\n",
       "      <td>0</td>\n",
       "    </tr>\n",
       "  </tbody>\n",
       "</table>\n",
       "</div>"
      ],
      "text/plain": [
       "   type_id  user_id  timestamp alert_group  importance\n",
       "0        1      311        311     высокий           1\n",
       "1        2      302        302     высокий           0\n",
       "2        3      606        606   критичный           0\n",
       "3        4      312        312     высокий           1\n",
       "4        5      586        586   критичный           1\n",
       "5        6      303        303     высокий           1\n",
       "6        7      283        283     средний           1\n",
       "7        8      297        297     средний           0"
      ]
     },
     "execution_count": 121,
     "metadata": {},
     "output_type": "execute_result"
    }
   ],
   "source": [
    "support_log_grouped"
   ]
  },
  {
   "cell_type": "code",
   "execution_count": 130,
   "id": "16887bc9",
   "metadata": {},
   "outputs": [],
   "source": [
    "# Напишите функцию alert_group_importance(row), работающую в соответствии со следующей логикой: \n",
    "# Если приоритет 'alert_group' средний, а важность 'importance' оценена в единицу, возвращать команду для отдела поддержки: 'обратить внимание'; \n",
    "# Если приоритет высокий, а важность — единица, возвращать: 'высокий риск';\n",
    "# Если приоритет критичный, а важность — единица, возвращать: 'блокер';\n",
    "# Во всех остальных случаях выводить: 'в порядке очереди'. \n",
    "def alert_group_importance(row):\n",
    "    if row['alert_group']=='средний' and row['importance']==1:\n",
    "        return 'обратить внимание'\n",
    "    elif row['alert_group']=='высокий' and row['importance']==1:\n",
    "        return 'высокий риск'\n",
    "    elif row['alert_group']=='высокий' and row['importance']==1:\n",
    "        return 'высокий риск'\n",
    "    elif row['alert_group']=='критичный' and row['importance']==1:\n",
    "        return 'блокер'\n",
    "    else:\n",
    "        return 'в порядке очереди'\n"
   ]
  },
  {
   "cell_type": "code",
   "execution_count": 123,
   "id": "8413dc26",
   "metadata": {},
   "outputs": [
    {
     "name": "stdout",
     "output_type": "stream",
     "text": [
      "высокий риск\n"
     ]
    }
   ],
   "source": [
    "row_values = ['высокий', 1]\n",
    "row_columns = ['alert_group', 'importance']\n",
    "row = pd.Series(data=row_values, index=row_columns)\n",
    "print(alert_group_importance(row))"
   ]
  },
  {
   "cell_type": "markdown",
   "id": "473fe156",
   "metadata": {},
   "source": [
    " Функция работает корректно. Осталось создать новый столбец clients['age_group'] со  значениями-результатами работы функции age_group_unemployed(). Как и в прошлом уроке, вызовем метод apply(), однако с двумя важными отличиями от прошлого примера: \n",
    " 1) Метод apply() применяем не к столбцу clients['age'], а к датафрейму clients.\n",
    " 2) По умолчанию Pandas передаёт в функцию age_group_unemployed() столбец. Чтобы на вход в функцию отправлялись строки, нужно указать параметр axis = 1 метода apply().   "
   ]
  },
  {
   "cell_type": "code",
   "execution_count": 131,
   "id": "8e544866",
   "metadata": {},
   "outputs": [],
   "source": [
    "# Создайте новый столбец importance_status  и сохраните в нём результаты работы функции alert_group_importance()\n",
    "support_log_grouped['importance_status'] = support_log_grouped.apply(alert_group_importance,axis=1)\n"
   ]
  },
  {
   "cell_type": "code",
   "execution_count": 129,
   "id": "607dee40",
   "metadata": {},
   "outputs": [
    {
     "data": {
      "text/plain": [
       "высокий риск         3\n",
       "в порядке очереди    3\n",
       "блокер               1\n",
       "обратить внимание    1\n",
       "Name: importance_status, dtype: int64"
      ]
     },
     "execution_count": 129,
     "metadata": {},
     "output_type": "execute_result"
    }
   ],
   "source": [
    "support_log_grouped['importance_status'].value_counts()\n"
   ]
  },
  {
   "cell_type": "code",
   "execution_count": null,
   "id": "6ec0cb35",
   "metadata": {},
   "outputs": [],
   "source": []
  }
 ],
 "metadata": {
  "kernelspec": {
   "display_name": "Python 3 (ipykernel)",
   "language": "python",
   "name": "python3"
  },
  "language_info": {
   "codemirror_mode": {
    "name": "ipython",
    "version": 3
   },
   "file_extension": ".py",
   "mimetype": "text/x-python",
   "name": "python",
   "nbconvert_exporter": "python",
   "pygments_lexer": "ipython3",
   "version": "3.9.12"
  }
 },
 "nbformat": 4,
 "nbformat_minor": 5
}
