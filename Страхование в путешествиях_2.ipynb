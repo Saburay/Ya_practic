{
 "cells": [
  {
   "cell_type": "code",
   "execution_count": 73,
   "id": "8a70810d",
   "metadata": {},
   "outputs": [],
   "source": [
    "import pandas as pd\n",
    "import numpy as np\n",
    "from sklearn.model_selection import train_test_split\n",
    "from sklearn.linear_model import LogisticRegression\n",
    "from sklearn.preprocessing import OrdinalEncoder \n",
    "from sklearn.tree import DecisionTreeClassifier\n"
   ]
  },
  {
   "cell_type": "code",
   "execution_count": 3,
   "id": "e42ed5d9",
   "metadata": {},
   "outputs": [],
   "source": [
    "data = pd.read_csv('travel_insurance.csv')"
   ]
  },
  {
   "cell_type": "code",
   "execution_count": 4,
   "id": "1c460304",
   "metadata": {},
   "outputs": [
    {
     "data": {
      "text/html": [
       "<div>\n",
       "<style scoped>\n",
       "    .dataframe tbody tr th:only-of-type {\n",
       "        vertical-align: middle;\n",
       "    }\n",
       "\n",
       "    .dataframe tbody tr th {\n",
       "        vertical-align: top;\n",
       "    }\n",
       "\n",
       "    .dataframe thead th {\n",
       "        text-align: right;\n",
       "    }\n",
       "</style>\n",
       "<table border=\"1\" class=\"dataframe\">\n",
       "  <thead>\n",
       "    <tr style=\"text-align: right;\">\n",
       "      <th></th>\n",
       "      <th>Agency</th>\n",
       "      <th>Agency Type</th>\n",
       "      <th>Distribution Channel</th>\n",
       "      <th>Product Name</th>\n",
       "      <th>Claim</th>\n",
       "      <th>Duration</th>\n",
       "      <th>Destination</th>\n",
       "      <th>Net Sales</th>\n",
       "      <th>Commission (in value)</th>\n",
       "      <th>Gender</th>\n",
       "      <th>Age</th>\n",
       "    </tr>\n",
       "  </thead>\n",
       "  <tbody>\n",
       "    <tr>\n",
       "      <th>0</th>\n",
       "      <td>JZI</td>\n",
       "      <td>Airlines</td>\n",
       "      <td>Online</td>\n",
       "      <td>Value Plan</td>\n",
       "      <td>0</td>\n",
       "      <td>12</td>\n",
       "      <td>TAIWAN, PROVINCE OF CHINA</td>\n",
       "      <td>45.0</td>\n",
       "      <td>15.75</td>\n",
       "      <td>M</td>\n",
       "      <td>39</td>\n",
       "    </tr>\n",
       "    <tr>\n",
       "      <th>1</th>\n",
       "      <td>EPX</td>\n",
       "      <td>Travel Agency</td>\n",
       "      <td>Online</td>\n",
       "      <td>Cancellation Plan</td>\n",
       "      <td>0</td>\n",
       "      <td>50</td>\n",
       "      <td>JAPAN</td>\n",
       "      <td>22.0</td>\n",
       "      <td>0.00</td>\n",
       "      <td>None</td>\n",
       "      <td>36</td>\n",
       "    </tr>\n",
       "    <tr>\n",
       "      <th>2</th>\n",
       "      <td>EPX</td>\n",
       "      <td>Travel Agency</td>\n",
       "      <td>Online</td>\n",
       "      <td>Cancellation Plan</td>\n",
       "      <td>0</td>\n",
       "      <td>251</td>\n",
       "      <td>BRAZIL</td>\n",
       "      <td>80.0</td>\n",
       "      <td>0.00</td>\n",
       "      <td>None</td>\n",
       "      <td>36</td>\n",
       "    </tr>\n",
       "    <tr>\n",
       "      <th>3</th>\n",
       "      <td>EPX</td>\n",
       "      <td>Travel Agency</td>\n",
       "      <td>Online</td>\n",
       "      <td>Cancellation Plan</td>\n",
       "      <td>0</td>\n",
       "      <td>6</td>\n",
       "      <td>INDIA</td>\n",
       "      <td>-10.0</td>\n",
       "      <td>0.00</td>\n",
       "      <td>None</td>\n",
       "      <td>36</td>\n",
       "    </tr>\n",
       "    <tr>\n",
       "      <th>4</th>\n",
       "      <td>JZI</td>\n",
       "      <td>Airlines</td>\n",
       "      <td>Online</td>\n",
       "      <td>Value Plan</td>\n",
       "      <td>0</td>\n",
       "      <td>5</td>\n",
       "      <td>CHINA</td>\n",
       "      <td>45.0</td>\n",
       "      <td>15.75</td>\n",
       "      <td>M</td>\n",
       "      <td>34</td>\n",
       "    </tr>\n",
       "  </tbody>\n",
       "</table>\n",
       "</div>"
      ],
      "text/plain": [
       "  Agency    Agency Type Distribution Channel       Product Name  Claim  \\\n",
       "0    JZI       Airlines               Online         Value Plan      0   \n",
       "1    EPX  Travel Agency               Online  Cancellation Plan      0   \n",
       "2    EPX  Travel Agency               Online  Cancellation Plan      0   \n",
       "3    EPX  Travel Agency               Online  Cancellation Plan      0   \n",
       "4    JZI       Airlines               Online         Value Plan      0   \n",
       "\n",
       "   Duration                Destination  Net Sales  Commission (in value)  \\\n",
       "0        12  TAIWAN, PROVINCE OF CHINA       45.0                  15.75   \n",
       "1        50                      JAPAN       22.0                   0.00   \n",
       "2       251                     BRAZIL       80.0                   0.00   \n",
       "3         6                      INDIA      -10.0                   0.00   \n",
       "4         5                      CHINA       45.0                  15.75   \n",
       "\n",
       "  Gender  Age  \n",
       "0      M   39  \n",
       "1   None   36  \n",
       "2   None   36  \n",
       "3   None   36  \n",
       "4      M   34  "
      ]
     },
     "execution_count": 4,
     "metadata": {},
     "output_type": "execute_result"
    }
   ],
   "source": [
    "data.head(5)"
   ]
  },
  {
   "cell_type": "markdown",
   "id": "f5725bf5",
   "metadata": {},
   "source": [
    "Признаки, с которыми будем работать:\n",
    "\n",
    "\n",
    "Agency — название страхового агентства\n",
    "\n",
    "Agency Type — тип страхового агентства\n",
    "\n",
    "Distribution Channel — канал продвижения страхового агентства\n",
    "\n",
    "Product Name — название страхового продукта\n",
    "\n",
    "Duration — длительность поездки (количество дней)\n",
    "\n",
    "Destination — направление поездки\n",
    "\n",
    "Net Sales — сумма продаж ($)\n",
    "\n",
    "Commission — комиссия страхового агентства ($)\n",
    "\n",
    "Gender — пол застрахованного\n",
    "\n",
    "Age — возраст застрахованного\n",
    "\n",
    "Целевой признак:\n",
    "Claim (англ. «претензия») — потребовалась ли страховая выплата: «да» — 1, «нет» — 0"
   ]
  },
  {
   "cell_type": "code",
   "execution_count": 5,
   "id": "6eb07839",
   "metadata": {},
   "outputs": [
    {
     "data": {
      "text/html": [
       "<div>\n",
       "<style scoped>\n",
       "    .dataframe tbody tr th:only-of-type {\n",
       "        vertical-align: middle;\n",
       "    }\n",
       "\n",
       "    .dataframe tbody tr th {\n",
       "        vertical-align: top;\n",
       "    }\n",
       "\n",
       "    .dataframe thead th {\n",
       "        text-align: right;\n",
       "    }\n",
       "</style>\n",
       "<table border=\"1\" class=\"dataframe\">\n",
       "  <thead>\n",
       "    <tr style=\"text-align: right;\">\n",
       "      <th></th>\n",
       "      <th>Claim</th>\n",
       "      <th>Duration</th>\n",
       "      <th>Net Sales</th>\n",
       "      <th>Commission (in value)</th>\n",
       "      <th>Age</th>\n",
       "    </tr>\n",
       "  </thead>\n",
       "  <tbody>\n",
       "    <tr>\n",
       "      <th>count</th>\n",
       "      <td>50660.000000</td>\n",
       "      <td>50660.000000</td>\n",
       "      <td>50660.000000</td>\n",
       "      <td>50660.000000</td>\n",
       "      <td>50660.000000</td>\n",
       "    </tr>\n",
       "    <tr>\n",
       "      <th>mean</th>\n",
       "      <td>0.014864</td>\n",
       "      <td>49.587150</td>\n",
       "      <td>40.749961</td>\n",
       "      <td>9.800755</td>\n",
       "      <td>39.957284</td>\n",
       "    </tr>\n",
       "    <tr>\n",
       "      <th>std</th>\n",
       "      <td>0.121009</td>\n",
       "      <td>103.629611</td>\n",
       "      <td>48.470030</td>\n",
       "      <td>19.716468</td>\n",
       "      <td>14.027618</td>\n",
       "    </tr>\n",
       "    <tr>\n",
       "      <th>min</th>\n",
       "      <td>0.000000</td>\n",
       "      <td>-2.000000</td>\n",
       "      <td>-389.000000</td>\n",
       "      <td>0.000000</td>\n",
       "      <td>0.000000</td>\n",
       "    </tr>\n",
       "    <tr>\n",
       "      <th>25%</th>\n",
       "      <td>0.000000</td>\n",
       "      <td>9.000000</td>\n",
       "      <td>18.000000</td>\n",
       "      <td>0.000000</td>\n",
       "      <td>35.000000</td>\n",
       "    </tr>\n",
       "    <tr>\n",
       "      <th>50%</th>\n",
       "      <td>0.000000</td>\n",
       "      <td>22.000000</td>\n",
       "      <td>27.000000</td>\n",
       "      <td>0.000000</td>\n",
       "      <td>36.000000</td>\n",
       "    </tr>\n",
       "    <tr>\n",
       "      <th>75%</th>\n",
       "      <td>0.000000</td>\n",
       "      <td>53.000000</td>\n",
       "      <td>49.000000</td>\n",
       "      <td>11.550000</td>\n",
       "      <td>43.000000</td>\n",
       "    </tr>\n",
       "    <tr>\n",
       "      <th>max</th>\n",
       "      <td>1.000000</td>\n",
       "      <td>4881.000000</td>\n",
       "      <td>682.000000</td>\n",
       "      <td>262.760000</td>\n",
       "      <td>118.000000</td>\n",
       "    </tr>\n",
       "  </tbody>\n",
       "</table>\n",
       "</div>"
      ],
      "text/plain": [
       "              Claim      Duration     Net Sales  Commission (in value)  \\\n",
       "count  50660.000000  50660.000000  50660.000000           50660.000000   \n",
       "mean       0.014864     49.587150     40.749961               9.800755   \n",
       "std        0.121009    103.629611     48.470030              19.716468   \n",
       "min        0.000000     -2.000000   -389.000000               0.000000   \n",
       "25%        0.000000      9.000000     18.000000               0.000000   \n",
       "50%        0.000000     22.000000     27.000000               0.000000   \n",
       "75%        0.000000     53.000000     49.000000              11.550000   \n",
       "max        1.000000   4881.000000    682.000000             262.760000   \n",
       "\n",
       "                Age  \n",
       "count  50660.000000  \n",
       "mean      39.957284  \n",
       "std       14.027618  \n",
       "min        0.000000  \n",
       "25%       35.000000  \n",
       "50%       36.000000  \n",
       "75%       43.000000  \n",
       "max      118.000000  "
      ]
     },
     "execution_count": 5,
     "metadata": {},
     "output_type": "execute_result"
    }
   ],
   "source": [
    "data.describe()"
   ]
  },
  {
   "cell_type": "markdown",
   "id": "70f5cfdb",
   "metadata": {},
   "source": [
    "\n",
    "Разбейте исходные данные на две выборки:\n",
    "\n",
    "обучающую (train);\n",
    "валидационную (valid). Это 25% исходных данных.\n",
    "\n",
    "Установите параметр (random_state) равным 12345.\n",
    "\n",
    "Объявите четыре переменные и запишите в них:\n",
    "\n",
    "признаки: features_train, features_valid;\n",
    "\n",
    "целевой признак: target_train, target_valid.\n",
    "\n",
    "Выведите на экран размеры таблиц, которые хранятся в переменных: features_train и features_valid."
   ]
  },
  {
   "cell_type": "code",
   "execution_count": 16,
   "id": "8be3981b",
   "metadata": {},
   "outputs": [],
   "source": [
    "features = data.drop(['Claim'],axis=1)"
   ]
  },
  {
   "cell_type": "code",
   "execution_count": 18,
   "id": "f015fb8e",
   "metadata": {},
   "outputs": [],
   "source": [
    "target = data['Claim']"
   ]
  },
  {
   "cell_type": "code",
   "execution_count": 21,
   "id": "85431d75",
   "metadata": {},
   "outputs": [],
   "source": [
    "features_train, features_valid,target_train, target_valid = train_test_split(features,target,test_size=0.25,random_state=12345)"
   ]
  },
  {
   "cell_type": "code",
   "execution_count": 23,
   "id": "26d20cbc",
   "metadata": {},
   "outputs": [
    {
     "name": "stdout",
     "output_type": "stream",
     "text": [
      "(37995, 10)\n",
      "(12665, 10)\n"
     ]
    }
   ],
   "source": [
    "print(features_train.shape)\n",
    "print(features_valid.shape)"
   ]
  },
  {
   "cell_type": "markdown",
   "id": "d30a883d",
   "metadata": {},
   "source": [
    "Принадлежность к категории логистическая регрессия вычисляет по формуле, состоящей из признаков. Они могут быть только численные. Наши данные содержали и категориальные признаки тоже — в этом и была ошибка.\n",
    "\n",
    "Проверьте, признаки какого типа хранятся в таблице. Выведите их на экран. Затем напечатайте первые пять значений столбца Gender."
   ]
  },
  {
   "cell_type": "code",
   "execution_count": 28,
   "id": "68a32059",
   "metadata": {},
   "outputs": [
    {
     "name": "stdout",
     "output_type": "stream",
     "text": [
      "Agency                    object\n",
      "Agency Type               object\n",
      "Distribution Channel      object\n",
      "Product Name              object\n",
      "Claim                      int64\n",
      "Duration                   int64\n",
      "Destination               object\n",
      "Net Sales                float64\n",
      "Commission (in value)    float64\n",
      "Gender                    object\n",
      "Age                        int64\n",
      "dtype: object\n"
     ]
    }
   ],
   "source": [
    "print(data.dtypes)"
   ]
  },
  {
   "cell_type": "code",
   "execution_count": 29,
   "id": "3a9b48ad",
   "metadata": {},
   "outputs": [
    {
     "name": "stdout",
     "output_type": "stream",
     "text": [
      "0       M\n",
      "1    None\n",
      "2    None\n",
      "3    None\n",
      "4       M\n",
      "Name: Gender, dtype: object\n"
     ]
    }
   ],
   "source": [
    "print(data['Gender'].head(5))"
   ]
  },
  {
   "cell_type": "markdown",
   "id": "a60639e7",
   "metadata": {},
   "source": [
    "Прямое кодирование\n",
    "Преобразовать категориальные признаки в численные поможет техника прямого кодирования, или отображения (англ. One-Hot Encoding, OHE).\n",
    "Принцип работы One-Hot Encoding объясним на значениях признака Gender.\n",
    "Для каждого значения признака Gender (F, M, None) создаётся столбец: \n",
    "Gender_F (от англ. female, «женщина»),\n",
    "Gender_M (от англ. male, «мужчина»),\n",
    "Gender_None (данных о поле нет).\n",
    "Когда ставить единицу в добавленные столбцы, зависит от того, каково значение Gender. Например, если F, то 1 записывается в столбец Gender_F, а M — в Gender_M. \n",
    "image\n",
    "\n",
    " \n",
    "Резюмируем. Техникой OHE категориальные признаки переводятся в численные в два этапа:\n",
    "Для каждого значения признака создаётся новый столбец;\n",
    "Если объекту категория подходит, присваивается 1, если нет — 0.\n",
    "Новые признаки (Gender_F, Gender_M, Gender_None) называются дамми-переменными, или дамми-признаками (англ. dummy variable, «фиктивная переменная»).\n",
    "Для прямого кодирования в библиотеке pandas есть функция pd.get_dummies() (от англ. «получить фиктивные переменные»)."
   ]
  },
  {
   "cell_type": "markdown",
   "id": "19d59e1e",
   "metadata": {},
   "source": [
    "## Преобразуйте колонку Gender техникой OHE.\n",
    "Вызовите функцию pd.get_dummies() и напечатайте на экране первые пять записей изменённой таблицы."
   ]
  },
  {
   "cell_type": "code",
   "execution_count": 32,
   "id": "f4bc7f33",
   "metadata": {},
   "outputs": [
    {
     "name": "stdout",
     "output_type": "stream",
     "text": [
      "   M  None\n",
      "0  1     0\n",
      "1  0     1\n",
      "2  0     1\n",
      "3  0     1\n",
      "4  1     0\n"
     ]
    }
   ],
   "source": [
    "print(pd.get_dummies(data['Gender'].head(5)))"
   ]
  },
  {
   "cell_type": "markdown",
   "id": "1f33b08e",
   "metadata": {},
   "source": [
    "Когда данных в избытке, можно угодить в ловушку фиктивных признаков.\n",
    "\n",
    "### Дамми-ловушка\n",
    "\n",
    "Пример:\n",
    "тобы подать документы на шенгенскую визу, нужно доказать, что деньги у вас есть.\n",
    "\n",
    "Вы решили перестраховаться, поэтому взяли и выписку с банковского счёта, и справку с работы, и 2-НДФЛ. Хотя визовому центру достаточно двух документов. Вашей модели лишняя информация тоже не очень-то нужна. \n",
    "\n",
    "Если оставить всё как есть, обучаться она будет сложнее. \n",
    "В таблицу добавились три новых столбца. Поскольку они сильно связаны между собой, один удалим без сожаления. Восстановить столбец можно по оставшимся двум. Так мы не попадём в дамми-ловушку (англ. dummy trap, «ловушка фиктивных признаков»).\n",
    "\n",
    "\n",
    "Столбец уберём вызовом функции:\n",
    "\n",
    "### pd.get_dummies() с аргументом drop_first (от англ. «сбросьте первый»).\n",
    "\n",
    "Он удаляет первую колонку и передаётся как drop_first=True или drop_first=False (True — первый столбец сбрасывается, False — не сбрасывается)."
   ]
  },
  {
   "cell_type": "code",
   "execution_count": 35,
   "id": "a4ba05b0",
   "metadata": {},
   "outputs": [
    {
     "name": "stdout",
     "output_type": "stream",
     "text": [
      "   M  None\n",
      "0  1     0\n",
      "1  0     1\n",
      "2  0     1\n",
      "3  0     1\n",
      "4  1     0\n"
     ]
    }
   ],
   "source": [
    "print(pd.get_dummies(data['Gender'],drop_first=True).head(5))"
   ]
  },
  {
   "cell_type": "markdown",
   "id": "9db522a6",
   "metadata": {},
   "source": [
    "\n",
    "Примените прямое кодирование ко всему датафрейму. Вызовите функцию pd.get_dummies() c аргументом drop_first. Сохраните таблицу в переменной data_ohe.\n",
    "Выведите на экран первые три строки преобразованной таблицы."
   ]
  },
  {
   "cell_type": "code",
   "execution_count": 37,
   "id": "53cc9af4",
   "metadata": {},
   "outputs": [],
   "source": [
    "data_ohe = pd.get_dummies(data,drop_first=True)"
   ]
  },
  {
   "cell_type": "code",
   "execution_count": 39,
   "id": "6ee608e7",
   "metadata": {},
   "outputs": [
    {
     "data": {
      "text/html": [
       "<div>\n",
       "<style scoped>\n",
       "    .dataframe tbody tr th:only-of-type {\n",
       "        vertical-align: middle;\n",
       "    }\n",
       "\n",
       "    .dataframe tbody tr th {\n",
       "        vertical-align: top;\n",
       "    }\n",
       "\n",
       "    .dataframe thead th {\n",
       "        text-align: right;\n",
       "    }\n",
       "</style>\n",
       "<table border=\"1\" class=\"dataframe\">\n",
       "  <thead>\n",
       "    <tr style=\"text-align: right;\">\n",
       "      <th></th>\n",
       "      <th>Claim</th>\n",
       "      <th>Duration</th>\n",
       "      <th>Net Sales</th>\n",
       "      <th>Commission (in value)</th>\n",
       "      <th>Age</th>\n",
       "      <th>Agency_ART</th>\n",
       "      <th>Agency_C2B</th>\n",
       "      <th>Agency_CBH</th>\n",
       "      <th>Agency_CCR</th>\n",
       "      <th>Agency_CSR</th>\n",
       "      <th>...</th>\n",
       "      <th>Destination_UNITED STATES</th>\n",
       "      <th>Destination_URUGUAY</th>\n",
       "      <th>Destination_UZBEKISTAN</th>\n",
       "      <th>Destination_VANUATU</th>\n",
       "      <th>Destination_VENEZUELA</th>\n",
       "      <th>Destination_VIET NAM</th>\n",
       "      <th>Destination_ZAMBIA</th>\n",
       "      <th>Destination_ZIMBABWE</th>\n",
       "      <th>Gender_M</th>\n",
       "      <th>Gender_None</th>\n",
       "    </tr>\n",
       "  </thead>\n",
       "  <tbody>\n",
       "    <tr>\n",
       "      <th>0</th>\n",
       "      <td>0</td>\n",
       "      <td>12</td>\n",
       "      <td>45.0</td>\n",
       "      <td>15.75</td>\n",
       "      <td>39</td>\n",
       "      <td>0</td>\n",
       "      <td>0</td>\n",
       "      <td>0</td>\n",
       "      <td>0</td>\n",
       "      <td>0</td>\n",
       "      <td>...</td>\n",
       "      <td>0</td>\n",
       "      <td>0</td>\n",
       "      <td>0</td>\n",
       "      <td>0</td>\n",
       "      <td>0</td>\n",
       "      <td>0</td>\n",
       "      <td>0</td>\n",
       "      <td>0</td>\n",
       "      <td>1</td>\n",
       "      <td>0</td>\n",
       "    </tr>\n",
       "    <tr>\n",
       "      <th>1</th>\n",
       "      <td>0</td>\n",
       "      <td>50</td>\n",
       "      <td>22.0</td>\n",
       "      <td>0.00</td>\n",
       "      <td>36</td>\n",
       "      <td>0</td>\n",
       "      <td>0</td>\n",
       "      <td>0</td>\n",
       "      <td>0</td>\n",
       "      <td>0</td>\n",
       "      <td>...</td>\n",
       "      <td>0</td>\n",
       "      <td>0</td>\n",
       "      <td>0</td>\n",
       "      <td>0</td>\n",
       "      <td>0</td>\n",
       "      <td>0</td>\n",
       "      <td>0</td>\n",
       "      <td>0</td>\n",
       "      <td>0</td>\n",
       "      <td>1</td>\n",
       "    </tr>\n",
       "    <tr>\n",
       "      <th>2</th>\n",
       "      <td>0</td>\n",
       "      <td>251</td>\n",
       "      <td>80.0</td>\n",
       "      <td>0.00</td>\n",
       "      <td>36</td>\n",
       "      <td>0</td>\n",
       "      <td>0</td>\n",
       "      <td>0</td>\n",
       "      <td>0</td>\n",
       "      <td>0</td>\n",
       "      <td>...</td>\n",
       "      <td>0</td>\n",
       "      <td>0</td>\n",
       "      <td>0</td>\n",
       "      <td>0</td>\n",
       "      <td>0</td>\n",
       "      <td>0</td>\n",
       "      <td>0</td>\n",
       "      <td>0</td>\n",
       "      <td>0</td>\n",
       "      <td>1</td>\n",
       "    </tr>\n",
       "  </tbody>\n",
       "</table>\n",
       "<p>3 rows × 189 columns</p>\n",
       "</div>"
      ],
      "text/plain": [
       "   Claim  Duration  Net Sales  Commission (in value)  Age  Agency_ART  \\\n",
       "0      0        12       45.0                  15.75   39           0   \n",
       "1      0        50       22.0                   0.00   36           0   \n",
       "2      0       251       80.0                   0.00   36           0   \n",
       "\n",
       "   Agency_C2B  Agency_CBH  Agency_CCR  Agency_CSR  ...  \\\n",
       "0           0           0           0           0  ...   \n",
       "1           0           0           0           0  ...   \n",
       "2           0           0           0           0  ...   \n",
       "\n",
       "   Destination_UNITED STATES  Destination_URUGUAY  Destination_UZBEKISTAN  \\\n",
       "0                          0                    0                       0   \n",
       "1                          0                    0                       0   \n",
       "2                          0                    0                       0   \n",
       "\n",
       "   Destination_VANUATU  Destination_VENEZUELA  Destination_VIET NAM  \\\n",
       "0                    0                      0                     0   \n",
       "1                    0                      0                     0   \n",
       "2                    0                      0                     0   \n",
       "\n",
       "   Destination_ZAMBIA  Destination_ZIMBABWE  Gender_M  Gender_None  \n",
       "0                   0                     0         1            0  \n",
       "1                   0                     0         0            1  \n",
       "2                   0                     0         0            1  \n",
       "\n",
       "[3 rows x 189 columns]"
      ]
     },
     "execution_count": 39,
     "metadata": {},
     "output_type": "execute_result"
    }
   ],
   "source": [
    "data_ohe.head(3)"
   ]
  },
  {
   "cell_type": "markdown",
   "id": "86d6d220",
   "metadata": {},
   "source": [
    "Разбейте исходные данные на две выборки в соотношении 75:25 (%):\n",
    "обучающую (train);\n",
    "валидационную (valid).\n",
    "\n",
    "Объявите четыре переменные и запишите в них:\n",
    "признаки: features_train, features_valid;\n",
    "целевой признак: target_train, target_valid.\n",
    "\n",
    "Вам предстоит освоить альтернативный способ работы с функцией train_test_split(): когда на вход подаются две переменные (признаки и целевой признак). Поработайте с документацией.\n",
    "\n",
    "Обучите логистическую регрессию.\n",
    "Напечатайте на экране текст \"Обучено!\" (уже в прекоде). Так вы убедитесь, что код выполнился без ошибок.\n",
    "\n",
    "Вложите и в train_test_split(), и в LogisticRegression() параметр random_state, равный 12345."
   ]
  },
  {
   "cell_type": "code",
   "execution_count": 57,
   "id": "e008e5fc",
   "metadata": {},
   "outputs": [],
   "source": [
    "data_ohe = pd.get_dummies(data, drop_first=True)\n",
    "target = data_ohe['Claim']\n",
    "features = data_ohe.drop('Claim', axis=1)"
   ]
  },
  {
   "cell_type": "code",
   "execution_count": 60,
   "id": "16cc3775",
   "metadata": {},
   "outputs": [],
   "source": [
    "features_train, features_valid, target_train, target_valid = train_test_split(features, target, test_size = 0.25, random_state = 12345)"
   ]
  },
  {
   "cell_type": "code",
   "execution_count": 61,
   "id": "d2060006",
   "metadata": {},
   "outputs": [
    {
     "name": "stdout",
     "output_type": "stream",
     "text": [
      "Обучено!\n"
     ]
    }
   ],
   "source": [
    "model = LogisticRegression(random_state=12345,solver='liblinear')\n",
    "model.fit(features_train, target_train)\n",
    "print(\"Обучено!\")"
   ]
  },
  {
   "cell_type": "markdown",
   "id": "8faa5ecd",
   "metadata": {},
   "source": [
    "### Порядковое кодирование\n",
    "\n",
    "Расскажем о другой технике кодирования признаков в решающем дереве и случайном лесе.\n",
    "\n",
    "Ordinal Encoding (от англ. «кодирование по номеру категории»). Она работает так:\n",
    "\n",
    "Фиксируется, какой цифрой кодируется класс;\n",
    "\n",
    "Цифры размещаются в столбце.\n",
    "\n",
    "Техника подходит для преобразования признаков в решающем дереве и случайном лесе (он состоит из деревьев)."
   ]
  },
  {
   "cell_type": "markdown",
   "id": "c8c73279",
   "metadata": {},
   "source": [
    "Чтобы выполнить кодирование, в sklearn есть структура данных OrdinalEncoder (англ. «порядковый кодировщик»). Она находится в модуле sklearn.preprocessing (от англ. «предобработка»). \n",
    "Импортируем OrdinalEncoder из библиотеки:\n",
    "\n",
    "from sklearn.preprocessing import OrdinalEncoder \n",
    "Преобразование выполняется в три этапа: \n",
    "\n",
    "Создаём объект этой структуры данных.\n",
    "encoder = OrdinalEncoder() \n",
    "\n",
    "Чтобы получить список категориальных признаков, вызываем метод fit() — как и в обучении модели. Передаём ему данные как аргумент.\n",
    "encoder.fit(data) \n",
    "\n",
    "Преобразуем данные функцией transform() (англ. «преобразовать»). Изменённые данные будут храниться в переменной data_ordinal (англ. «порядковые данные»).\n",
    "data_ordinal = encoder.transform(data) \n",
    "\n",
    "Чтобы код добавил названия столбцов, оформим данные в структуру DataFrame():\n",
    "### data_ordinal = pd.DataFrame(encoder.transform(data), columns=data.columns) \n",
    "                                                      \n",
    "Если преобразование признаков требуется лишь один раз, как в нашей задаче, код можно упростить вызовом функции fit_transform() (от англ. «подогнать и преобразовать»).\n",
    "Она объединяет функции: fit() и transform(). \n",
    "\n",
    "\n",
    "### data_ordinal = pd.DataFrame(encoder.fit_transform(data), columns=data.columns) "
   ]
  },
  {
   "cell_type": "markdown",
   "id": "edfc33c2",
   "metadata": {},
   "source": [
    "Преобразуйте признаки техникой Ordinal Encoding.\n",
    "Импортируйте OrdinalEncoder из модуля sklearn.preprocessing. \n",
    "\n",
    "Сохраните результат в переменной data_ordinal. Оформите данные в структуру DataFrame().\n",
    "\n",
    "Напечатайте на экране первые пять строк таблицыю"
   ]
  },
  {
   "cell_type": "code",
   "execution_count": 63,
   "id": "55fccf77",
   "metadata": {},
   "outputs": [],
   "source": [
    "encoder = OrdinalEncoder()"
   ]
  },
  {
   "cell_type": "code",
   "execution_count": 66,
   "id": "a97f4d82",
   "metadata": {},
   "outputs": [],
   "source": [
    "data_ordinal = pd.DataFrame(encoder.fit_transform(data), columns = data.columns)"
   ]
  },
  {
   "cell_type": "code",
   "execution_count": 67,
   "id": "fb7dd3d0",
   "metadata": {},
   "outputs": [
    {
     "name": "stdout",
     "output_type": "stream",
     "text": [
      "   Agency  Agency Type  Distribution Channel  Product Name  Claim  Duration  \\\n",
      "0     9.0          0.0                   1.0          24.0    0.0      14.0   \n",
      "1     7.0          1.0                   1.0          10.0    0.0      52.0   \n",
      "2     7.0          1.0                   1.0          10.0    0.0     253.0   \n",
      "3     7.0          1.0                   1.0          10.0    0.0       8.0   \n",
      "4     9.0          0.0                   1.0          24.0    0.0       7.0   \n",
      "\n",
      "   Destination  Net Sales  Commission (in value)  Gender   Age  \n",
      "0        121.0      602.0                  486.0     1.0  37.0  \n",
      "1         61.0      470.0                    0.0     2.0  34.0  \n",
      "2         16.0      735.0                    0.0     2.0  34.0  \n",
      "3         54.0      121.0                    0.0     2.0  34.0  \n",
      "4         24.0      602.0                  486.0     1.0  32.0  \n"
     ]
    }
   ],
   "source": [
    "print(data_ordinal.head(5))"
   ]
  },
  {
   "cell_type": "markdown",
   "id": "c50ec440",
   "metadata": {},
   "source": [
    "\n",
    "Обучите решающее дерево на преобразованных данных. Напечатайте на экране текст  \"Обучено!\"  (уже в прекоде). Так вы убедитесь, что код выполнился без ошибок"
   ]
  },
  {
   "cell_type": "code",
   "execution_count": 69,
   "id": "842785fd",
   "metadata": {},
   "outputs": [],
   "source": [
    "features = data_ordinal.drop('Claim',axis=1)\n",
    "target = data_ordinal['Claim']"
   ]
  },
  {
   "cell_type": "code",
   "execution_count": 70,
   "id": "5213d7b9",
   "metadata": {},
   "outputs": [],
   "source": [
    "features_train, features_valid, target_train, target_valid = train_test_split(features,target,test_size=0.25,random_state=12345)"
   ]
  },
  {
   "cell_type": "code",
   "execution_count": 74,
   "id": "362425ba",
   "metadata": {},
   "outputs": [],
   "source": [
    "model = DecisionTreeClassifier(random_state=12345)"
   ]
  },
  {
   "cell_type": "code",
   "execution_count": 75,
   "id": "bdca76dc",
   "metadata": {},
   "outputs": [
    {
     "data": {
      "text/plain": [
       "DecisionTreeClassifier(random_state=12345)"
      ]
     },
     "execution_count": 75,
     "metadata": {},
     "output_type": "execute_result"
    }
   ],
   "source": [
    "model.fit(features_train,target_train)"
   ]
  },
  {
   "cell_type": "code",
   "execution_count": 76,
   "id": "7246c4e6",
   "metadata": {},
   "outputs": [
    {
     "name": "stdout",
     "output_type": "stream",
     "text": [
      "Обучено!\n"
     ]
    }
   ],
   "source": [
    "print('Обучено!')"
   ]
  },
  {
   "cell_type": "markdown",
   "id": "622c91a9",
   "metadata": {},
   "source": [
    "### Подведём итог:\n",
    "\n",
    "Когда все признаки должны стать количественными-подходит техника OHE;\n",
    "\n",
    "Если все признаки категориальные, и их нужно преобразовать в числа — Ordinal Encoding."
   ]
  },
  {
   "cell_type": "markdown",
   "id": "a08a84bf",
   "metadata": {},
   "source": [
    "Почему Ordinal Encoding не подходит для логистической регрессии? Она всё норовит посчитать по формуле. Если речь идёт о признаке Age, то это разумно, а вот с Gender есть трудности. Например, сложив значения «1» и «0» («женщина» и «мужчина») и разделив на «2», «средний пол» не получить."
   ]
  },
  {
   "cell_type": "code",
   "execution_count": null,
   "id": "ae99f5a6",
   "metadata": {},
   "outputs": [],
   "source": []
  }
 ],
 "metadata": {
  "kernelspec": {
   "display_name": "Python 3 (ipykernel)",
   "language": "python",
   "name": "python3"
  },
  "language_info": {
   "codemirror_mode": {
    "name": "ipython",
    "version": 3
   },
   "file_extension": ".py",
   "mimetype": "text/x-python",
   "name": "python",
   "nbconvert_exporter": "python",
   "pygments_lexer": "ipython3",
   "version": "3.7.16"
  }
 },
 "nbformat": 4,
 "nbformat_minor": 5
}
