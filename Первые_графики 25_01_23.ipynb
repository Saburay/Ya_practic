{
 "cells": [
  {
   "cell_type": "code",
   "execution_count": 1,
   "id": "056f5f29",
   "metadata": {},
   "outputs": [],
   "source": [
    "import pandas as pd\n",
    "import random\n",
    "import matplotlib.pyplot as plt"
   ]
  },
  {
   "cell_type": "code",
   "execution_count": 2,
   "id": "92232cdf",
   "metadata": {},
   "outputs": [],
   "source": [
    "data = pd.read_csv('visits.csv',sep='\\t')"
   ]
  },
  {
   "cell_type": "code",
   "execution_count": 3,
   "id": "b7b8bbe6",
   "metadata": {},
   "outputs": [
    {
     "data": {
      "text/html": [
       "<div>\n",
       "<style scoped>\n",
       "    .dataframe tbody tr th:only-of-type {\n",
       "        vertical-align: middle;\n",
       "    }\n",
       "\n",
       "    .dataframe tbody tr th {\n",
       "        vertical-align: top;\n",
       "    }\n",
       "\n",
       "    .dataframe thead th {\n",
       "        text-align: right;\n",
       "    }\n",
       "</style>\n",
       "<table border=\"1\" class=\"dataframe\">\n",
       "  <thead>\n",
       "    <tr style=\"text-align: right;\">\n",
       "      <th></th>\n",
       "      <th>date_time</th>\n",
       "      <th>id</th>\n",
       "      <th>time_spent</th>\n",
       "      <th>name</th>\n",
       "    </tr>\n",
       "  </thead>\n",
       "  <tbody>\n",
       "    <tr>\n",
       "      <th>0</th>\n",
       "      <td>20180406T165358</td>\n",
       "      <td>76144fb2</td>\n",
       "      <td>98.0</td>\n",
       "      <td>Василёк</td>\n",
       "    </tr>\n",
       "    <tr>\n",
       "      <th>1</th>\n",
       "      <td>20180404T173913</td>\n",
       "      <td>76144fb2</td>\n",
       "      <td>15.0</td>\n",
       "      <td>Василёк</td>\n",
       "    </tr>\n",
       "    <tr>\n",
       "      <th>2</th>\n",
       "      <td>20180403T172824</td>\n",
       "      <td>76144fb2</td>\n",
       "      <td>220.0</td>\n",
       "      <td>Василёк</td>\n",
       "    </tr>\n",
       "    <tr>\n",
       "      <th>3</th>\n",
       "      <td>20180407T070441</td>\n",
       "      <td>76144fb2</td>\n",
       "      <td>19.0</td>\n",
       "      <td>Василёк</td>\n",
       "    </tr>\n",
       "    <tr>\n",
       "      <th>4</th>\n",
       "      <td>20180404T132049</td>\n",
       "      <td>76144fb2</td>\n",
       "      <td>14.0</td>\n",
       "      <td>Василёк</td>\n",
       "    </tr>\n",
       "    <tr>\n",
       "      <th>5</th>\n",
       "      <td>20180403T144234</td>\n",
       "      <td>76144fb2</td>\n",
       "      <td>5.0</td>\n",
       "      <td>Василёк</td>\n",
       "    </tr>\n",
       "    <tr>\n",
       "      <th>6</th>\n",
       "      <td>20180402T082321</td>\n",
       "      <td>76144fb2</td>\n",
       "      <td>555.0</td>\n",
       "      <td>Василёк</td>\n",
       "    </tr>\n",
       "    <tr>\n",
       "      <th>7</th>\n",
       "      <td>20180407T003408</td>\n",
       "      <td>76144fb2</td>\n",
       "      <td>286.0</td>\n",
       "      <td>Василёк</td>\n",
       "    </tr>\n",
       "    <tr>\n",
       "      <th>8</th>\n",
       "      <td>20180404T084711</td>\n",
       "      <td>76144fb2</td>\n",
       "      <td>14.0</td>\n",
       "      <td>Василёк</td>\n",
       "    </tr>\n",
       "    <tr>\n",
       "      <th>9</th>\n",
       "      <td>20180405T131939</td>\n",
       "      <td>76144fb2</td>\n",
       "      <td>248.0</td>\n",
       "      <td>Василёк</td>\n",
       "    </tr>\n",
       "  </tbody>\n",
       "</table>\n",
       "</div>"
      ],
      "text/plain": [
       "         date_time        id  time_spent     name\n",
       "0  20180406T165358  76144fb2        98.0  Василёк\n",
       "1  20180404T173913  76144fb2        15.0  Василёк\n",
       "2  20180403T172824  76144fb2       220.0  Василёк\n",
       "3  20180407T070441  76144fb2        19.0  Василёк\n",
       "4  20180404T132049  76144fb2        14.0  Василёк\n",
       "5  20180403T144234  76144fb2         5.0  Василёк\n",
       "6  20180402T082321  76144fb2       555.0  Василёк\n",
       "7  20180407T003408  76144fb2       286.0  Василёк\n",
       "8  20180404T084711  76144fb2        14.0  Василёк\n",
       "9  20180405T131939  76144fb2       248.0  Василёк"
      ]
     },
     "execution_count": 3,
     "metadata": {},
     "output_type": "execute_result"
    }
   ],
   "source": [
    "data.head(10)"
   ]
  },
  {
   "cell_type": "markdown",
   "id": "745b3c1b",
   "metadata": {},
   "source": [
    "С помощью pivot_table() вычислите среднее время, проведённое на заправках в каждой из сетей, и сохраните результат в переменную stat.\n",
    "Выведите на экран значение переменной stat и проанализируйте полученные данные. Не забудьте, что time_spent хранит значения в секундах."
   ]
  },
  {
   "cell_type": "code",
   "execution_count": 4,
   "id": "eb1a4019",
   "metadata": {},
   "outputs": [],
   "source": [
    " stat = data.pivot_table(index='name',values='time_spent',aggfunc='mean')"
   ]
  },
  {
   "cell_type": "code",
   "execution_count": 5,
   "id": "983333af",
   "metadata": {},
   "outputs": [
    {
     "data": {
      "text/html": [
       "<div>\n",
       "<style scoped>\n",
       "    .dataframe tbody tr th:only-of-type {\n",
       "        vertical-align: middle;\n",
       "    }\n",
       "\n",
       "    .dataframe tbody tr th {\n",
       "        vertical-align: top;\n",
       "    }\n",
       "\n",
       "    .dataframe thead th {\n",
       "        text-align: right;\n",
       "    }\n",
       "</style>\n",
       "<table border=\"1\" class=\"dataframe\">\n",
       "  <thead>\n",
       "    <tr style=\"text-align: right;\">\n",
       "      <th></th>\n",
       "      <th>time_spent</th>\n",
       "    </tr>\n",
       "    <tr>\n",
       "      <th>name</th>\n",
       "      <th></th>\n",
       "    </tr>\n",
       "  </thead>\n",
       "  <tbody>\n",
       "    <tr>\n",
       "      <th>Агератум</th>\n",
       "      <td>337.802721</td>\n",
       "    </tr>\n",
       "    <tr>\n",
       "      <th>Амарант</th>\n",
       "      <td>132.760012</td>\n",
       "    </tr>\n",
       "    <tr>\n",
       "      <th>Аммобиум</th>\n",
       "      <td>256.708042</td>\n",
       "    </tr>\n",
       "    <tr>\n",
       "      <th>Арктотис</th>\n",
       "      <td>73.879984</td>\n",
       "    </tr>\n",
       "    <tr>\n",
       "      <th>Астильба</th>\n",
       "      <td>376.143149</td>\n",
       "    </tr>\n",
       "    <tr>\n",
       "      <th>Бальзамин</th>\n",
       "      <td>134.508411</td>\n",
       "    </tr>\n",
       "    <tr>\n",
       "      <th>Бархатцы</th>\n",
       "      <td>145.300328</td>\n",
       "    </tr>\n",
       "    <tr>\n",
       "      <th>Бегония</th>\n",
       "      <td>163.200647</td>\n",
       "    </tr>\n",
       "    <tr>\n",
       "      <th>Белоцветник</th>\n",
       "      <td>100.818966</td>\n",
       "    </tr>\n",
       "    <tr>\n",
       "      <th>Василёк</th>\n",
       "      <td>268.849897</td>\n",
       "    </tr>\n",
       "    <tr>\n",
       "      <th>Вербена</th>\n",
       "      <td>190.016594</td>\n",
       "    </tr>\n",
       "    <tr>\n",
       "      <th>Вероника</th>\n",
       "      <td>220.019402</td>\n",
       "    </tr>\n",
       "    <tr>\n",
       "      <th>Гацания</th>\n",
       "      <td>160.685185</td>\n",
       "    </tr>\n",
       "    <tr>\n",
       "      <th>Гвоздика</th>\n",
       "      <td>294.317308</td>\n",
       "    </tr>\n",
       "    <tr>\n",
       "      <th>Гейхера</th>\n",
       "      <td>167.445947</td>\n",
       "    </tr>\n",
       "    <tr>\n",
       "      <th>Гелихризум</th>\n",
       "      <td>290.138643</td>\n",
       "    </tr>\n",
       "    <tr>\n",
       "      <th>Георгина</th>\n",
       "      <td>166.615555</td>\n",
       "    </tr>\n",
       "    <tr>\n",
       "      <th>Годеция</th>\n",
       "      <td>113.958333</td>\n",
       "    </tr>\n",
       "    <tr>\n",
       "      <th>Диморфотека</th>\n",
       "      <td>406.161017</td>\n",
       "    </tr>\n",
       "    <tr>\n",
       "      <th>Доротеантус</th>\n",
       "      <td>263.568916</td>\n",
       "    </tr>\n",
       "    <tr>\n",
       "      <th>Ирис</th>\n",
       "      <td>179.931159</td>\n",
       "    </tr>\n",
       "    <tr>\n",
       "      <th>Календула</th>\n",
       "      <td>207.357323</td>\n",
       "    </tr>\n",
       "    <tr>\n",
       "      <th>Колокольчик</th>\n",
       "      <td>119.131564</td>\n",
       "    </tr>\n",
       "    <tr>\n",
       "      <th>Космос</th>\n",
       "      <td>164.867797</td>\n",
       "    </tr>\n",
       "    <tr>\n",
       "      <th>Крокус</th>\n",
       "      <td>349.031746</td>\n",
       "    </tr>\n",
       "    <tr>\n",
       "      <th>Лаватера</th>\n",
       "      <td>249.992844</td>\n",
       "    </tr>\n",
       "    <tr>\n",
       "      <th>Левкой</th>\n",
       "      <td>187.465606</td>\n",
       "    </tr>\n",
       "    <tr>\n",
       "      <th>Лобулярия</th>\n",
       "      <td>96.834350</td>\n",
       "    </tr>\n",
       "    <tr>\n",
       "      <th>Люпин</th>\n",
       "      <td>235.440937</td>\n",
       "    </tr>\n",
       "    <tr>\n",
       "      <th>Малопа</th>\n",
       "      <td>76.070543</td>\n",
       "    </tr>\n",
       "    <tr>\n",
       "      <th>Мальва</th>\n",
       "      <td>136.562234</td>\n",
       "    </tr>\n",
       "    <tr>\n",
       "      <th>Нарцисс</th>\n",
       "      <td>68.166758</td>\n",
       "    </tr>\n",
       "    <tr>\n",
       "      <th>Настурция</th>\n",
       "      <td>154.859694</td>\n",
       "    </tr>\n",
       "    <tr>\n",
       "      <th>Незабудка</th>\n",
       "      <td>120.362398</td>\n",
       "    </tr>\n",
       "    <tr>\n",
       "      <th>Немезия</th>\n",
       "      <td>186.535207</td>\n",
       "    </tr>\n",
       "    <tr>\n",
       "      <th>Обриета</th>\n",
       "      <td>141.777778</td>\n",
       "    </tr>\n",
       "    <tr>\n",
       "      <th>Петуния</th>\n",
       "      <td>265.780822</td>\n",
       "    </tr>\n",
       "    <tr>\n",
       "      <th>Пион</th>\n",
       "      <td>222.565523</td>\n",
       "    </tr>\n",
       "    <tr>\n",
       "      <th>Подснежник</th>\n",
       "      <td>180.286207</td>\n",
       "    </tr>\n",
       "    <tr>\n",
       "      <th>Роза</th>\n",
       "      <td>260.877217</td>\n",
       "    </tr>\n",
       "    <tr>\n",
       "      <th>Ромашка</th>\n",
       "      <td>231.389365</td>\n",
       "    </tr>\n",
       "    <tr>\n",
       "      <th>Тюльпан</th>\n",
       "      <td>187.832210</td>\n",
       "    </tr>\n",
       "    <tr>\n",
       "      <th>Фасоль</th>\n",
       "      <td>133.631957</td>\n",
       "    </tr>\n",
       "    <tr>\n",
       "      <th>Функия</th>\n",
       "      <td>302.494737</td>\n",
       "    </tr>\n",
       "    <tr>\n",
       "      <th>Хризантема</th>\n",
       "      <td>195.738710</td>\n",
       "    </tr>\n",
       "  </tbody>\n",
       "</table>\n",
       "</div>"
      ],
      "text/plain": [
       "             time_spent\n",
       "name                   \n",
       "Агератум     337.802721\n",
       "Амарант      132.760012\n",
       "Аммобиум     256.708042\n",
       "Арктотис      73.879984\n",
       "Астильба     376.143149\n",
       "Бальзамин    134.508411\n",
       "Бархатцы     145.300328\n",
       "Бегония      163.200647\n",
       "Белоцветник  100.818966\n",
       "Василёк      268.849897\n",
       "Вербена      190.016594\n",
       "Вероника     220.019402\n",
       "Гацания      160.685185\n",
       "Гвоздика     294.317308\n",
       "Гейхера      167.445947\n",
       "Гелихризум   290.138643\n",
       "Георгина     166.615555\n",
       "Годеция      113.958333\n",
       "Диморфотека  406.161017\n",
       "Доротеантус  263.568916\n",
       "Ирис         179.931159\n",
       "Календула    207.357323\n",
       "Колокольчик  119.131564\n",
       "Космос       164.867797\n",
       "Крокус       349.031746\n",
       "Лаватера     249.992844\n",
       "Левкой       187.465606\n",
       "Лобулярия     96.834350\n",
       "Люпин        235.440937\n",
       "Малопа        76.070543\n",
       "Мальва       136.562234\n",
       "Нарцисс       68.166758\n",
       "Настурция    154.859694\n",
       "Незабудка    120.362398\n",
       "Немезия      186.535207\n",
       "Обриета      141.777778\n",
       "Петуния      265.780822\n",
       "Пион         222.565523\n",
       "Подснежник   180.286207\n",
       "Роза         260.877217\n",
       "Ромашка      231.389365\n",
       "Тюльпан      187.832210\n",
       "Фасоль       133.631957\n",
       "Функия       302.494737\n",
       "Хризантема   195.738710"
      ]
     },
     "execution_count": 5,
     "metadata": {},
     "output_type": "execute_result"
    }
   ],
   "source": [
    "stat"
   ]
  },
  {
   "cell_type": "code",
   "execution_count": 6,
   "id": "20adf528",
   "metadata": {},
   "outputs": [],
   "source": [
    "total_visits = data['date_time'].count()"
   ]
  },
  {
   "cell_type": "code",
   "execution_count": 7,
   "id": "3c855cc3",
   "metadata": {},
   "outputs": [
    {
     "name": "stdout",
     "output_type": "stream",
     "text": [
      "Количество заездов:317104\n"
     ]
    }
   ],
   "source": [
    "print(f'Количество заездов:{total_visits}')"
   ]
  },
  {
   "cell_type": "code",
   "execution_count": 8,
   "id": "bd003d55",
   "metadata": {},
   "outputs": [],
   "source": [
    "total_stations = data['id'].unique()"
   ]
  },
  {
   "cell_type": "code",
   "execution_count": 9,
   "id": "834e9a7c",
   "metadata": {},
   "outputs": [],
   "source": [
    "total_stations2 = data['id'].nunique()"
   ]
  },
  {
   "cell_type": "code",
   "execution_count": 10,
   "id": "e92d8ede",
   "metadata": {},
   "outputs": [
    {
     "data": {
      "text/plain": [
       "471"
      ]
     },
     "execution_count": 10,
     "metadata": {},
     "output_type": "execute_result"
    }
   ],
   "source": [
    "total_stations2"
   ]
  },
  {
   "cell_type": "code",
   "execution_count": 11,
   "id": "8bccf7cb",
   "metadata": {},
   "outputs": [
    {
     "name": "stdout",
     "output_type": "stream",
     "text": [
      "Количество АЗС:471\n"
     ]
    }
   ],
   "source": [
    "print(f'Количество АЗС:{len(total_stations)}')"
   ]
  },
  {
   "cell_type": "markdown",
   "id": "4ed684bf",
   "metadata": {},
   "source": [
    "Выведите минимальное и максимальное значения столбца date_time через пробел, вызвав функцию print() только один раз."
   ]
  },
  {
   "cell_type": "code",
   "execution_count": 12,
   "id": "f30ec690",
   "metadata": {},
   "outputs": [
    {
     "name": "stdout",
     "output_type": "stream",
     "text": [
      "20180402T000008 20180408T235957\n"
     ]
    }
   ],
   "source": [
    "print(data['date_time'].min(),data['date_time'].max())"
   ]
  },
  {
   "cell_type": "markdown",
   "id": "d07c89d9",
   "metadata": {},
   "source": [
    "Теперь можно найти среднее количество посещений АЗС за день. \n",
    "Сохраните в переменную total_days количество дней.\n",
    "В переменную station_visits_per_day запишите среднее количество визитов на АЗС за день. Чтобы посчитать среднее, используйте значения переменных total_visits, total_stations и total_days .\n",
    "Выведите на экран значение переменной в таком виде:\n",
    "Количество заездов на АЗС в сутки: ... "
   ]
  },
  {
   "cell_type": "code",
   "execution_count": 13,
   "id": "24ad0e67",
   "metadata": {},
   "outputs": [],
   "source": [
    "total_days = 7"
   ]
  },
  {
   "cell_type": "code",
   "execution_count": 14,
   "id": "f341d1ed",
   "metadata": {},
   "outputs": [],
   "source": [
    "station_visits_per_day = (total_visits/total_stations2)/total_days"
   ]
  },
  {
   "cell_type": "code",
   "execution_count": 15,
   "id": "0961cb3a",
   "metadata": {},
   "outputs": [
    {
     "data": {
      "text/plain": [
       "96.17955717318775"
      ]
     },
     "execution_count": 15,
     "metadata": {},
     "output_type": "execute_result"
    }
   ],
   "source": [
    "station_visits_per_day"
   ]
  },
  {
   "cell_type": "code",
   "execution_count": 16,
   "id": "cd3898ef",
   "metadata": {},
   "outputs": [
    {
     "name": "stdout",
     "output_type": "stream",
     "text": [
      "Количество заездов на АЗС в сутки: 96.17955717318775\n"
     ]
    }
   ],
   "source": [
    "print(f'Количество заездов на АЗС в сутки: {station_visits_per_day}')"
   ]
  },
  {
   "cell_type": "code",
   "execution_count": 17,
   "id": "11225bf3",
   "metadata": {},
   "outputs": [
    {
     "name": "stdout",
     "output_type": "stream",
     "text": [
      "Календула      85648\n",
      "Василёк        79006\n",
      "Георгина       34356\n",
      "Немезия        20138\n",
      "Колокольчик    18835\n",
      "Мальва         17386\n",
      "Гейхера        14125\n",
      "Доротеантус     6312\n",
      "Нарцисс         3640\n",
      "Амарант         3221\n",
      "Name: name, dtype: int64\n"
     ]
    }
   ],
   "source": [
    "print(data.name.value_counts().head(10))"
   ]
  },
  {
   "cell_type": "code",
   "execution_count": 18,
   "id": "a5577c53",
   "metadata": {},
   "outputs": [
    {
     "data": {
      "text/plain": [
       "<AxesSubplot:>"
      ]
     },
     "execution_count": 18,
     "metadata": {},
     "output_type": "execute_result"
    },
    {
     "data": {
      "image/png": "[encoded data removed]",
      "text/plain": [
       "<Figure size 432x288 with 1 Axes>"
      ]
     },
     "metadata": {
      "needs_background": "light"
     },
     "output_type": "display_data"
    }
   ],
   "source": [
    "data['time_spent'].hist()"
   ]
  },
  {
   "cell_type": "code",
   "execution_count": 19,
   "id": "8c20a772",
   "metadata": {},
   "outputs": [
    {
     "data": {
      "text/plain": [
       "<AxesSubplot:>"
      ]
     },
     "execution_count": 19,
     "metadata": {},
     "output_type": "execute_result"
    },
    {
     "data": {
      "image/png": "[encoded data removed]",
      "text/plain": [
       "<Figure size 432x288 with 1 Axes>"
      ]
     },
     "metadata": {
      "needs_background": "light"
     },
     "output_type": "display_data"
    }
   ],
   "source": [
    "data['time_spent'].hist(bins=100,range=(0,1500))"
   ]
  },
  {
   "cell_type": "code",
   "execution_count": 20,
   "id": "666299da",
   "metadata": {},
   "outputs": [],
   "source": [
    "import random\n",
    "\n",
    "\n",
    "# Функция, имитирующая один бросок монеты.\n",
    "# От англ. coin - монета, flip - бросок монеты.\n",
    "def coin_flip():\n",
    "    # возможны два варианта:\n",
    "    # - выпала решка, это +0 орлов\n",
    "    # - выпал орёл, это +1 орёл\n",
    "    score = random.randint(0, 1)\n",
    "    return score\n",
    "\n",
    "# Функция для суммирования числа орлов в нескольких бросках.\n",
    "# Орёл и решка переводятся на английский как heads и tails.\n",
    "# Аргумент repeat говорит, сколько раз бросать монету\n",
    "# (от англ. repeat - повторение).\n",
    "def flips_heads(repeat):\n",
    "    total = 0\n",
    "    for i in range(repeat):\n",
    "        flip = coin_flip()\n",
    "        total += flip\n",
    "    return total\n",
    "\n",
    "\n",
    "# Cоздаём пустой список. В него мы\n",
    "# будем складывать результаты экспериментов.\n",
    "experiments = []\n",
    "\n",
    "for i in range(1000):\n",
    "    score = flips_heads(10)\n",
    "\n",
    "    # Напомним: функция append() добавляет новый\n",
    "    # элемент score в конец списка experiments.\n",
    "    experiments.append(score)\n",
    "\n",
    "# превращаем список в DataFrame\n",
    "df_experiments = pd.DataFrame(experiments)"
   ]
  },
  {
   "cell_type": "markdown",
   "id": "481dc9de",
   "metadata": {},
   "source": [
    "Постройте гистограмму полученных значений с диапазоном значений от 0 до 11 и количеством корзин 11.\n"
   ]
  },
  {
   "cell_type": "code",
   "execution_count": 21,
   "id": "51c3a14a",
   "metadata": {},
   "outputs": [
    {
     "data": {
      "text/plain": [
       "array([[<AxesSubplot:title={'center':'0'}>]], dtype=object)"
      ]
     },
     "execution_count": 21,
     "metadata": {},
     "output_type": "execute_result"
    },
    {
     "data": {
      "image/png": "[encoded data removed]",
      "text/plain": [
       "<Figure size 432x288 with 1 Axes>"
      ]
     },
     "metadata": {
      "needs_background": "light"
     },
     "output_type": "display_data"
    }
   ],
   "source": [
    "df_experiments.hist(bins=11,range=(0,11))"
   ]
  },
  {
   "cell_type": "markdown",
   "id": "3ca90f71",
   "metadata": {},
   "source": [
    "Постройте гистограмму полученных значений с диапазоном значений от 0 до 11 и количеством корзин 11.\n"
   ]
  },
  {
   "cell_type": "code",
   "execution_count": 22,
   "id": "5a6d2637",
   "metadata": {},
   "outputs": [
    {
     "data": {
      "text/plain": [
       "array([[<AxesSubplot:title={'center':'0'}>]], dtype=object)"
      ]
     },
     "execution_count": 22,
     "metadata": {},
     "output_type": "execute_result"
    },
    {
     "data": {
      "image/png": "[encoded data removed]",
      "text/plain": [
       "<Figure size 432x288 with 1 Axes>"
      ]
     },
     "metadata": {
      "needs_background": "light"
     },
     "output_type": "display_data"
    }
   ],
   "source": [
    "df_experiments.hist(bins=11,range=(0,11))"
   ]
  },
  {
   "cell_type": "markdown",
   "id": "82639d18",
   "metadata": {},
   "source": [
    "\n",
    "Валерик каждый день едет на работу с тремя пересадками: сперва на автобусе до метро; затем по одной ветке, а потом по другой; и от метро добирается до работы на автобусе. Валерик знает, сколько продолжается поездка на каждом виде транспорта и пересадки, но вечно забывает учесть ожидание автобусов и поездов. Постройте гистограмму опозданий Валерика за 5 лет c параметром bins=10."
   ]
  },
  {
   "cell_type": "code",
   "execution_count": 23,
   "id": "5ed408ac",
   "metadata": {},
   "outputs": [],
   "source": [
    "# Функция, имитирующая время ожидания автобуса.\n",
    "# (от англ. bus - автобус, wait - ждать, time - время)\n",
    "def bus_wait_time():\n",
    "    return random.randint(0, 10)\n",
    "\n",
    "\n",
    "# Функция, имитирующая время ожидания поезда в метро.\n",
    "# (от англ. train - поезд, wait - ждать, time - время)\n",
    "def train_wait_time():\n",
    "    return random.randint(0, 5)\n",
    "\n",
    "\n",
    "# Функция подсчёта полного опоздания за день.\n",
    "# от англ. total - полный, итоговый, delay - задержка, опоздание\n",
    "def total_delay():\n",
    "    # обратите внимание, как в Python переносят длинные строки\n",
    "    return (\n",
    "        bus_wait_time()\n",
    "        + train_wait_time()\n",
    "        + train_wait_time()\n",
    "        + bus_wait_time()\n",
    "    )\n",
    "\n",
    "\n",
    "# создайте пустой список\n",
    "days = []\n",
    "\n",
    "for i in range(365 * 5):\n",
    "    delay = total_delay()\n",
    "\n",
    "    # добавьте опоздание в список days\n",
    "    days.append(delay)\n",
    "\n",
    "# превращаем список в DataFrame\n",
    "df_days = pd.DataFrame(days)"
   ]
  },
  {
   "cell_type": "code",
   "execution_count": 24,
   "id": "f57caba0",
   "metadata": {},
   "outputs": [
    {
     "data": {
      "text/plain": [
       "array([[<AxesSubplot:title={'center':'0'}>]], dtype=object)"
      ]
     },
     "execution_count": 24,
     "metadata": {},
     "output_type": "execute_result"
    },
    {
     "data": {
      "image/png": "[encoded data removed]",
      "text/plain": [
       "<Figure size 432x288 with 1 Axes>"
      ]
     },
     "metadata": {
      "needs_background": "light"
     },
     "output_type": "display_data"
    }
   ],
   "source": [
    "df_days.hist(bins=10)"
   ]
  },
  {
   "cell_type": "code",
   "execution_count": 25,
   "id": "5214b569",
   "metadata": {},
   "outputs": [
    {
     "data": {
      "text/html": [
       "<div>\n",
       "<style scoped>\n",
       "    .dataframe tbody tr th:only-of-type {\n",
       "        vertical-align: middle;\n",
       "    }\n",
       "\n",
       "    .dataframe tbody tr th {\n",
       "        vertical-align: top;\n",
       "    }\n",
       "\n",
       "    .dataframe thead th {\n",
       "        text-align: right;\n",
       "    }\n",
       "</style>\n",
       "<table border=\"1\" class=\"dataframe\">\n",
       "  <thead>\n",
       "    <tr style=\"text-align: right;\">\n",
       "      <th></th>\n",
       "      <th>time_spent</th>\n",
       "    </tr>\n",
       "  </thead>\n",
       "  <tbody>\n",
       "    <tr>\n",
       "      <th>count</th>\n",
       "      <td>317104.000000</td>\n",
       "    </tr>\n",
       "    <tr>\n",
       "      <th>mean</th>\n",
       "      <td>203.382294</td>\n",
       "    </tr>\n",
       "    <tr>\n",
       "      <th>std</th>\n",
       "      <td>395.754791</td>\n",
       "    </tr>\n",
       "    <tr>\n",
       "      <th>min</th>\n",
       "      <td>0.000000</td>\n",
       "    </tr>\n",
       "    <tr>\n",
       "      <th>25%</th>\n",
       "      <td>19.000000</td>\n",
       "    </tr>\n",
       "    <tr>\n",
       "      <th>50%</th>\n",
       "      <td>108.000000</td>\n",
       "    </tr>\n",
       "    <tr>\n",
       "      <th>75%</th>\n",
       "      <td>274.000000</td>\n",
       "    </tr>\n",
       "    <tr>\n",
       "      <th>max</th>\n",
       "      <td>28925.000000</td>\n",
       "    </tr>\n",
       "  </tbody>\n",
       "</table>\n",
       "</div>"
      ],
      "text/plain": [
       "          time_spent\n",
       "count  317104.000000\n",
       "mean      203.382294\n",
       "std       395.754791\n",
       "min         0.000000\n",
       "25%        19.000000\n",
       "50%       108.000000\n",
       "75%       274.000000\n",
       "max     28925.000000"
      ]
     },
     "execution_count": 25,
     "metadata": {},
     "output_type": "execute_result"
    }
   ],
   "source": [
    "data.describe()"
   ]
  },
  {
   "cell_type": "code",
   "execution_count": 26,
   "id": "83d7a4d1",
   "metadata": {},
   "outputs": [
    {
     "data": {
      "image/png": "[encoded data removed]",
      "text/plain": [
       "<Figure size 432x288 with 1 Axes>"
      ]
     },
     "metadata": {
      "needs_background": "light"
     },
     "output_type": "display_data"
    }
   ],
   "source": [
    "data.hist(bins=10)\n",
    "plt.show()"
   ]
  },
  {
   "cell_type": "code",
   "execution_count": 27,
   "id": "b169af44",
   "metadata": {},
   "outputs": [
    {
     "data": {
      "image/png": "[encoded data removed]",
      "text/plain": [
       "<Figure size 432x288 with 1 Axes>"
      ]
     },
     "metadata": {
      "needs_background": "light"
     },
     "output_type": "display_data"
    }
   ],
   "source": [
    "data.hist(bins=100)\n",
    "plt.show()"
   ]
  },
  {
   "cell_type": "code",
   "execution_count": 28,
   "id": "2f441492",
   "metadata": {},
   "outputs": [
    {
     "data": {
      "text/plain": [
       "114797    28925.0\n",
       "27147     28519.0\n",
       "60547     28292.0\n",
       "19042     23696.0\n",
       "118597    21184.0\n",
       "118058    20359.0\n",
       "114406    19886.0\n",
       "132164    19445.0\n",
       "281360    18614.0\n",
       "165326    18569.0\n",
       "Name: time_spent, dtype: float64"
      ]
     },
     "execution_count": 28,
     "metadata": {},
     "output_type": "execute_result"
    }
   ],
   "source": [
    "data['time_spent'].sort_values(ascending=False).head(10)"
   ]
  },
  {
   "cell_type": "markdown",
   "id": "57eda399",
   "metadata": {},
   "source": [
    "Четыре из десяти самых долгих заездов произошли на станции под номером 3c1e4c52. Аналитик данных непременно спросит: «А как распределение времени, проведённого на этой АЗС, соотносится с распределением времени заездов в целом?» Нужно проверить. Для этого сделайте срез данных и извлеките всю информацию о станции 3c1e4c52.\n",
    "Сделайте срез data по АЗС с id == \"3c1e4c52\" и сохраните результат в переменную sample.\n",
    "Выведите на экран число заездов на эту АЗС."
   ]
  },
  {
   "cell_type": "code",
   "execution_count": 29,
   "id": "1388f298",
   "metadata": {},
   "outputs": [],
   "source": [
    " sample= data.query('id==\"3c1e4c52\"')"
   ]
  },
  {
   "cell_type": "code",
   "execution_count": 30,
   "id": "c8d6957f",
   "metadata": {},
   "outputs": [
    {
     "data": {
      "text/html": [
       "<div>\n",
       "<style scoped>\n",
       "    .dataframe tbody tr th:only-of-type {\n",
       "        vertical-align: middle;\n",
       "    }\n",
       "\n",
       "    .dataframe tbody tr th {\n",
       "        vertical-align: top;\n",
       "    }\n",
       "\n",
       "    .dataframe thead th {\n",
       "        text-align: right;\n",
       "    }\n",
       "</style>\n",
       "<table border=\"1\" class=\"dataframe\">\n",
       "  <thead>\n",
       "    <tr style=\"text-align: right;\">\n",
       "      <th></th>\n",
       "      <th>date_time</th>\n",
       "      <th>id</th>\n",
       "      <th>time_spent</th>\n",
       "      <th>name</th>\n",
       "    </tr>\n",
       "  </thead>\n",
       "  <tbody>\n",
       "    <tr>\n",
       "      <th>112900</th>\n",
       "      <td>20180408T140822</td>\n",
       "      <td>3c1e4c52</td>\n",
       "      <td>55.0</td>\n",
       "      <td>Василёк</td>\n",
       "    </tr>\n",
       "    <tr>\n",
       "      <th>112901</th>\n",
       "      <td>20180404T120827</td>\n",
       "      <td>3c1e4c52</td>\n",
       "      <td>113.0</td>\n",
       "      <td>Василёк</td>\n",
       "    </tr>\n",
       "    <tr>\n",
       "      <th>112902</th>\n",
       "      <td>20180405T155422</td>\n",
       "      <td>3c1e4c52</td>\n",
       "      <td>2683.0</td>\n",
       "      <td>Василёк</td>\n",
       "    </tr>\n",
       "    <tr>\n",
       "      <th>112903</th>\n",
       "      <td>20180403T134959</td>\n",
       "      <td>3c1e4c52</td>\n",
       "      <td>14.0</td>\n",
       "      <td>Василёк</td>\n",
       "    </tr>\n",
       "    <tr>\n",
       "      <th>112904</th>\n",
       "      <td>20180405T050229</td>\n",
       "      <td>3c1e4c52</td>\n",
       "      <td>353.0</td>\n",
       "      <td>Василёк</td>\n",
       "    </tr>\n",
       "    <tr>\n",
       "      <th>...</th>\n",
       "      <td>...</td>\n",
       "      <td>...</td>\n",
       "      <td>...</td>\n",
       "      <td>...</td>\n",
       "    </tr>\n",
       "    <tr>\n",
       "      <th>118709</th>\n",
       "      <td>20180404T040613</td>\n",
       "      <td>3c1e4c52</td>\n",
       "      <td>179.0</td>\n",
       "      <td>Василёк</td>\n",
       "    </tr>\n",
       "    <tr>\n",
       "      <th>118710</th>\n",
       "      <td>20180404T213235</td>\n",
       "      <td>3c1e4c52</td>\n",
       "      <td>1604.0</td>\n",
       "      <td>Василёк</td>\n",
       "    </tr>\n",
       "    <tr>\n",
       "      <th>118711</th>\n",
       "      <td>20180404T091754</td>\n",
       "      <td>3c1e4c52</td>\n",
       "      <td>37.0</td>\n",
       "      <td>Василёк</td>\n",
       "    </tr>\n",
       "    <tr>\n",
       "      <th>118712</th>\n",
       "      <td>20180404T101710</td>\n",
       "      <td>3c1e4c52</td>\n",
       "      <td>13.0</td>\n",
       "      <td>Василёк</td>\n",
       "    </tr>\n",
       "    <tr>\n",
       "      <th>118713</th>\n",
       "      <td>20180402T091536</td>\n",
       "      <td>3c1e4c52</td>\n",
       "      <td>230.0</td>\n",
       "      <td>Василёк</td>\n",
       "    </tr>\n",
       "  </tbody>\n",
       "</table>\n",
       "<p>5814 rows × 4 columns</p>\n",
       "</div>"
      ],
      "text/plain": [
       "              date_time        id  time_spent     name\n",
       "112900  20180408T140822  3c1e4c52        55.0  Василёк\n",
       "112901  20180404T120827  3c1e4c52       113.0  Василёк\n",
       "112902  20180405T155422  3c1e4c52      2683.0  Василёк\n",
       "112903  20180403T134959  3c1e4c52        14.0  Василёк\n",
       "112904  20180405T050229  3c1e4c52       353.0  Василёк\n",
       "...                 ...       ...         ...      ...\n",
       "118709  20180404T040613  3c1e4c52       179.0  Василёк\n",
       "118710  20180404T213235  3c1e4c52      1604.0  Василёк\n",
       "118711  20180404T091754  3c1e4c52        37.0  Василёк\n",
       "118712  20180404T101710  3c1e4c52        13.0  Василёк\n",
       "118713  20180402T091536  3c1e4c52       230.0  Василёк\n",
       "\n",
       "[5814 rows x 4 columns]"
      ]
     },
     "execution_count": 30,
     "metadata": {},
     "output_type": "execute_result"
    }
   ],
   "source": [
    "sample"
   ]
  },
  {
   "cell_type": "markdown",
   "id": "1e65bcf7",
   "metadata": {},
   "source": [
    "Нужно сравнить распределение времени пребывания на станции 3c1e4c52 с распределением времени пребывания на всех АЗС. Если они сильно различаются, возможно, станция 3c1e4c52 представляет собой статистический выброс. \n",
    "Методом hist() постройте две гистограммы распределения значений в столбце time_spent: одну для объекта data, вторую — для sample. Не забудьте использовать plt.show() после каждого вызова hist().\n",
    "Для обеих гистограмм задайте одинаковые аргументы: range — от 0 до 1500, bins — 100."
   ]
  },
  {
   "cell_type": "code",
   "execution_count": 31,
   "id": "755e1190",
   "metadata": {},
   "outputs": [
    {
     "data": {
      "image/png": "[encoded data removed]",
      "text/plain": [
       "<Figure size 432x288 with 1 Axes>"
      ]
     },
     "metadata": {
      "needs_background": "light"
     },
     "output_type": "display_data"
    }
   ],
   "source": [
    "sample.hist('time_spent',range=(0,1500), bins=(100))\n",
    "plt.show()"
   ]
  },
  {
   "cell_type": "code",
   "execution_count": 32,
   "id": "262f9501",
   "metadata": {},
   "outputs": [
    {
     "data": {
      "image/png": "[encoded data removed]",
      "text/plain": [
       "<Figure size 432x288 with 1 Axes>"
      ]
     },
     "metadata": {
      "needs_background": "light"
     },
     "output_type": "display_data"
    }
   ],
   "source": [
    "data.hist('time_spent',range=(0,1500), bins=(100))\n",
    "plt.show()"
   ]
  },
  {
   "cell_type": "markdown",
   "id": "b17eb128",
   "metadata": {},
   "source": [
    "В столбце date_time дата и время заезда. Из описания данных известно, что время заезда указали в часовом поясе UTC+0, в формате ISO. Значит, сначала слитно идут год, месяц, день; затем буквенный разделитель даты и времени T; затем часы, минуты и секунды — снова слитно.\n",
    "В курсе по предобработке вы познакомились с методом to_datetime(), который переводит строки в даты.\n",
    "\n",
    "Напомним, что в аргументе format метода to_datetime() указывают специальные обозначения, порядок которых соответствует порядку чисел в строке с датой:\n",
    "### %d — день месяца (от 01 до 31);\n",
    "### %m — номер месяца (от 01 до 12);\n",
    "### %Y — четырёхзначный номер года (например, 2019);\n",
    "### %y — двузначный номер года (например, 19);\n",
    "### Z или T — стандартный разделитель даты и времени;\n",
    "### %H — номер часа в 24-часовом формате;\n",
    "### %I — номер часа в 12-часовом формате;\n",
    "### %M — минуты (от 00 до 59);\n",
    "### |%S — секунды (от 00 до 59).\n",
    "При выводе значений формата datetime на экран Python автоматически разделяет их символами - и :, чтобы человеку было проще воспринимать данные."
   ]
  },
  {
   "cell_type": "code",
   "execution_count": 33,
   "id": "032fdc5d",
   "metadata": {},
   "outputs": [],
   "source": [
    "# Измените тип столбца date_time на более удобный тип для даты. \n",
    "# Методом pd.to_datetime() переведите значения столбца date_time в таблице data в объекты datetime. В параметре format= укажите строку, соответствующую текущему формату date_time, с помощью специальных обозначений.\n",
    "# Выведите на экран первые пять строк data, чтобы проверить, что получилось.\n",
    "data['date_time'] = pd.to_datetime(data['date_time'],format='%Y-%m-%d %H:%M:%S')"
   ]
  },
  {
   "cell_type": "code",
   "execution_count": 34,
   "id": "4c8418f8",
   "metadata": {},
   "outputs": [
    {
     "data": {
      "text/plain": [
       "0   2018-04-06 16:53:58\n",
       "1   2018-04-04 17:39:13\n",
       "2   2018-04-03 17:28:24\n",
       "3   2018-04-07 07:04:41\n",
       "4   2018-04-04 13:20:49\n",
       "Name: date_time, dtype: datetime64[ns]"
      ]
     },
     "execution_count": 34,
     "metadata": {},
     "output_type": "execute_result"
    }
   ],
   "source": [
    "data['date_time'].head()"
   ]
  },
  {
   "cell_type": "markdown",
   "id": "e5994b74",
   "metadata": {},
   "source": [
    "О том, что операции предстоит выполнять именно с датами, аналитик сообщает pandas отдельно, через атрибут dt (от англ. date time). Атрибут dt указывает, что тип данных, к которым будут применены методы, — datetime. А значит, pandas не примет их за строки или числа.  \n",
    "Чтобы округлить время, применяют метод dt.round() (англ. round, «округлять»). В качестве параметра ему передают строку с шагом округления в часах, днях, минутах или секундах: \n",
    "D — day (от англ. «день»);\n",
    "H — hour (от англ. «час»);\n",
    "min или T — minute (от англ. «минута»);\n",
    "S — second (от англ. «секунда»).\n",
    "Чаще всего округляют с шагом в один час:\n",
    "import pandas as pd \n",
    "\n",
    "### df = pd.DataFrame({'time': ['2011-03-01 17:34']})\n",
    "### df['time'] = pd.to_datetime(df['time'], format='%Y-%m-%d %H:%M')\n",
    "## df['time_rounded'] = df['time'].dt.round('1H') # округляем до ближайшего значения с шагом в один час\n",
    "### print(df['time_rounded']) \n",
    "### 0   2011-03-01 18:00:00\n",
    "Name: time, dtype: datetime64[ns] "
   ]
  },
  {
   "cell_type": "markdown",
   "id": "8a41e4d1",
   "metadata": {},
   "source": [
    "Чтобы быть уверенными в том, что время будет округлено к большему значению, обращаются к методу dt.ceil() (от англ. ceiling — «потолок»). К меньшему значению, «вниз», округляют методом dt.floor() (англ. floor — «пол»).\n",
    "import pandas as pd\n",
    "\n",
    "df = pd.DataFrame({'time': ['2011-03-01 17:15']})\n",
    "df['time'] = pd.to_datetime(df['time'], format='%Y-%m-%d %H:%M')\n",
    "### df['ceil'] = df['time'].dt.ceil('1H') # округляем к потолку\n",
    "### df['floor'] = df['time'].dt.floor('1H') # округляем к полу\n",
    "print('Время, округлённое вверх', df['ceil'])\n",
    "print('Время, округлённое вниз', df['floor']) \n",
    "Время, округлённое вверх 0   2011-03-01 18:00:00\n",
    "Name: time, dtype: datetime64[ns]\n",
    "Время, округлённое вниз 0   2011-03-01 17:00:00\n",
    "Name: time, dtype: datetime64[ns] "
   ]
  },
  {
   "cell_type": "code",
   "execution_count": 35,
   "id": "2b64ab4a",
   "metadata": {},
   "outputs": [],
   "source": [
    "# Напомним, что в датафрейме записано время UTC. Московское рассчитывают как UTC + 3 часа.\n",
    "# Создайте столбец data['local_time'] и сохраните в нём сдвинутое на 3 часа время из столбца data['date_time'].\n",
    "# Напечатайте первые 5 строк таблицы data.\n",
    "data['local_time'] = data['date_time']+pd.Timedelta(hours=3)"
   ]
  },
  {
   "cell_type": "code",
   "execution_count": 36,
   "id": "8af55a62",
   "metadata": {},
   "outputs": [
    {
     "data": {
      "text/html": [
       "<div>\n",
       "<style scoped>\n",
       "    .dataframe tbody tr th:only-of-type {\n",
       "        vertical-align: middle;\n",
       "    }\n",
       "\n",
       "    .dataframe tbody tr th {\n",
       "        vertical-align: top;\n",
       "    }\n",
       "\n",
       "    .dataframe thead th {\n",
       "        text-align: right;\n",
       "    }\n",
       "</style>\n",
       "<table border=\"1\" class=\"dataframe\">\n",
       "  <thead>\n",
       "    <tr style=\"text-align: right;\">\n",
       "      <th></th>\n",
       "      <th>date_time</th>\n",
       "      <th>id</th>\n",
       "      <th>time_spent</th>\n",
       "      <th>name</th>\n",
       "      <th>local_time</th>\n",
       "    </tr>\n",
       "  </thead>\n",
       "  <tbody>\n",
       "    <tr>\n",
       "      <th>0</th>\n",
       "      <td>2018-04-06 16:53:58</td>\n",
       "      <td>76144fb2</td>\n",
       "      <td>98.0</td>\n",
       "      <td>Василёк</td>\n",
       "      <td>2018-04-06 19:53:58</td>\n",
       "    </tr>\n",
       "    <tr>\n",
       "      <th>1</th>\n",
       "      <td>2018-04-04 17:39:13</td>\n",
       "      <td>76144fb2</td>\n",
       "      <td>15.0</td>\n",
       "      <td>Василёк</td>\n",
       "      <td>2018-04-04 20:39:13</td>\n",
       "    </tr>\n",
       "    <tr>\n",
       "      <th>2</th>\n",
       "      <td>2018-04-03 17:28:24</td>\n",
       "      <td>76144fb2</td>\n",
       "      <td>220.0</td>\n",
       "      <td>Василёк</td>\n",
       "      <td>2018-04-03 20:28:24</td>\n",
       "    </tr>\n",
       "    <tr>\n",
       "      <th>3</th>\n",
       "      <td>2018-04-07 07:04:41</td>\n",
       "      <td>76144fb2</td>\n",
       "      <td>19.0</td>\n",
       "      <td>Василёк</td>\n",
       "      <td>2018-04-07 10:04:41</td>\n",
       "    </tr>\n",
       "    <tr>\n",
       "      <th>4</th>\n",
       "      <td>2018-04-04 13:20:49</td>\n",
       "      <td>76144fb2</td>\n",
       "      <td>14.0</td>\n",
       "      <td>Василёк</td>\n",
       "      <td>2018-04-04 16:20:49</td>\n",
       "    </tr>\n",
       "    <tr>\n",
       "      <th>5</th>\n",
       "      <td>2018-04-03 14:42:34</td>\n",
       "      <td>76144fb2</td>\n",
       "      <td>5.0</td>\n",
       "      <td>Василёк</td>\n",
       "      <td>2018-04-03 17:42:34</td>\n",
       "    </tr>\n",
       "    <tr>\n",
       "      <th>6</th>\n",
       "      <td>2018-04-02 08:23:21</td>\n",
       "      <td>76144fb2</td>\n",
       "      <td>555.0</td>\n",
       "      <td>Василёк</td>\n",
       "      <td>2018-04-02 11:23:21</td>\n",
       "    </tr>\n",
       "    <tr>\n",
       "      <th>7</th>\n",
       "      <td>2018-04-07 00:34:08</td>\n",
       "      <td>76144fb2</td>\n",
       "      <td>286.0</td>\n",
       "      <td>Василёк</td>\n",
       "      <td>2018-04-07 03:34:08</td>\n",
       "    </tr>\n",
       "    <tr>\n",
       "      <th>8</th>\n",
       "      <td>2018-04-04 08:47:11</td>\n",
       "      <td>76144fb2</td>\n",
       "      <td>14.0</td>\n",
       "      <td>Василёк</td>\n",
       "      <td>2018-04-04 11:47:11</td>\n",
       "    </tr>\n",
       "    <tr>\n",
       "      <th>9</th>\n",
       "      <td>2018-04-05 13:19:39</td>\n",
       "      <td>76144fb2</td>\n",
       "      <td>248.0</td>\n",
       "      <td>Василёк</td>\n",
       "      <td>2018-04-05 16:19:39</td>\n",
       "    </tr>\n",
       "  </tbody>\n",
       "</table>\n",
       "</div>"
      ],
      "text/plain": [
       "            date_time        id  time_spent     name          local_time\n",
       "0 2018-04-06 16:53:58  76144fb2        98.0  Василёк 2018-04-06 19:53:58\n",
       "1 2018-04-04 17:39:13  76144fb2        15.0  Василёк 2018-04-04 20:39:13\n",
       "2 2018-04-03 17:28:24  76144fb2       220.0  Василёк 2018-04-03 20:28:24\n",
       "3 2018-04-07 07:04:41  76144fb2        19.0  Василёк 2018-04-07 10:04:41\n",
       "4 2018-04-04 13:20:49  76144fb2        14.0  Василёк 2018-04-04 16:20:49\n",
       "5 2018-04-03 14:42:34  76144fb2         5.0  Василёк 2018-04-03 17:42:34\n",
       "6 2018-04-02 08:23:21  76144fb2       555.0  Василёк 2018-04-02 11:23:21\n",
       "7 2018-04-07 00:34:08  76144fb2       286.0  Василёк 2018-04-07 03:34:08\n",
       "8 2018-04-04 08:47:11  76144fb2        14.0  Василёк 2018-04-04 11:47:11\n",
       "9 2018-04-05 13:19:39  76144fb2       248.0  Василёк 2018-04-05 16:19:39"
      ]
     },
     "execution_count": 36,
     "metadata": {},
     "output_type": "execute_result"
    }
   ],
   "source": [
    "data.head(10)"
   ]
  },
  {
   "cell_type": "code",
   "execution_count": 37,
   "id": "d25ed3b1",
   "metadata": {},
   "outputs": [],
   "source": [
    "# Данные, связанные со временем, лучше округлять до той величины, которой будет достаточно для детального анализа. \n",
    "# Чтобы проанализировать взаимосвязь между временем прибытия на АЗС и продолжительностью заезда, \n",
    "# точность до минут и секунд не нужна. Округлите время до часов.\n",
    "# Выполните следующие шаги:\n",
    "# Создайте новый столбец date_hour и передайте ему значения столбца local_time, округлённые до часов.\n",
    "# Выведите первые пять строк data, чтобы проверить результаты.\n",
    "data['date_hour'] = data['local_time'].dt.round('1H')"
   ]
  },
  {
   "cell_type": "code",
   "execution_count": 38,
   "id": "09886229",
   "metadata": {},
   "outputs": [
    {
     "data": {
      "text/html": [
       "<div>\n",
       "<style scoped>\n",
       "    .dataframe tbody tr th:only-of-type {\n",
       "        vertical-align: middle;\n",
       "    }\n",
       "\n",
       "    .dataframe tbody tr th {\n",
       "        vertical-align: top;\n",
       "    }\n",
       "\n",
       "    .dataframe thead th {\n",
       "        text-align: right;\n",
       "    }\n",
       "</style>\n",
       "<table border=\"1\" class=\"dataframe\">\n",
       "  <thead>\n",
       "    <tr style=\"text-align: right;\">\n",
       "      <th></th>\n",
       "      <th>date_time</th>\n",
       "      <th>id</th>\n",
       "      <th>time_spent</th>\n",
       "      <th>name</th>\n",
       "      <th>local_time</th>\n",
       "      <th>date_hour</th>\n",
       "    </tr>\n",
       "  </thead>\n",
       "  <tbody>\n",
       "    <tr>\n",
       "      <th>0</th>\n",
       "      <td>2018-04-06 16:53:58</td>\n",
       "      <td>76144fb2</td>\n",
       "      <td>98.0</td>\n",
       "      <td>Василёк</td>\n",
       "      <td>2018-04-06 19:53:58</td>\n",
       "      <td>2018-04-06 20:00:00</td>\n",
       "    </tr>\n",
       "    <tr>\n",
       "      <th>1</th>\n",
       "      <td>2018-04-04 17:39:13</td>\n",
       "      <td>76144fb2</td>\n",
       "      <td>15.0</td>\n",
       "      <td>Василёк</td>\n",
       "      <td>2018-04-04 20:39:13</td>\n",
       "      <td>2018-04-04 21:00:00</td>\n",
       "    </tr>\n",
       "    <tr>\n",
       "      <th>2</th>\n",
       "      <td>2018-04-03 17:28:24</td>\n",
       "      <td>76144fb2</td>\n",
       "      <td>220.0</td>\n",
       "      <td>Василёк</td>\n",
       "      <td>2018-04-03 20:28:24</td>\n",
       "      <td>2018-04-03 20:00:00</td>\n",
       "    </tr>\n",
       "    <tr>\n",
       "      <th>3</th>\n",
       "      <td>2018-04-07 07:04:41</td>\n",
       "      <td>76144fb2</td>\n",
       "      <td>19.0</td>\n",
       "      <td>Василёк</td>\n",
       "      <td>2018-04-07 10:04:41</td>\n",
       "      <td>2018-04-07 10:00:00</td>\n",
       "    </tr>\n",
       "    <tr>\n",
       "      <th>4</th>\n",
       "      <td>2018-04-04 13:20:49</td>\n",
       "      <td>76144fb2</td>\n",
       "      <td>14.0</td>\n",
       "      <td>Василёк</td>\n",
       "      <td>2018-04-04 16:20:49</td>\n",
       "      <td>2018-04-04 16:00:00</td>\n",
       "    </tr>\n",
       "  </tbody>\n",
       "</table>\n",
       "</div>"
      ],
      "text/plain": [
       "            date_time        id  time_spent     name          local_time  \\\n",
       "0 2018-04-06 16:53:58  76144fb2        98.0  Василёк 2018-04-06 19:53:58   \n",
       "1 2018-04-04 17:39:13  76144fb2        15.0  Василёк 2018-04-04 20:39:13   \n",
       "2 2018-04-03 17:28:24  76144fb2       220.0  Василёк 2018-04-03 20:28:24   \n",
       "3 2018-04-07 07:04:41  76144fb2        19.0  Василёк 2018-04-07 10:04:41   \n",
       "4 2018-04-04 13:20:49  76144fb2        14.0  Василёк 2018-04-04 16:20:49   \n",
       "\n",
       "            date_hour  \n",
       "0 2018-04-06 20:00:00  \n",
       "1 2018-04-04 21:00:00  \n",
       "2 2018-04-03 20:00:00  \n",
       "3 2018-04-07 10:00:00  \n",
       "4 2018-04-04 16:00:00  "
      ]
     },
     "execution_count": 38,
     "metadata": {},
     "output_type": "execute_result"
    }
   ],
   "source": [
    "data.head(5)"
   ]
  },
  {
   "cell_type": "markdown",
   "id": "dba32c89",
   "metadata": {},
   "source": [
    "Номер дня в неделе находят методом dt.weekday (англ. weekday — «будний день»).  Понедельник — день под номером 0, а воскресенье — шестой день. \n",
    "import pandas as pd \n",
    "\n",
    "df = pd.DataFrame({'time': ['2011-03-07 17:15', '2011-04-02 17:15']}) # пн и сб\n",
    "df['time'] = pd.to_datetime(df['time'], format='%Y-%m-%d %H:%M')\n",
    "### df['weekday'] = df['time'].dt.weekday"
   ]
  },
  {
   "cell_type": "markdown",
   "id": "bb11411e",
   "metadata": {},
   "source": [
    "Иногда нужно переводить время в другой часовой пояс. \n",
    "### За временные сдвиги отвечает pd.Timedelta() (от англ. time delta — «дельта времени, перепад во времени»). Количество часов передают в параметре: (hours=). \n",
    "Прибавим 9 часов к московскому времени и узнаем, который час был в Петропавловске-Камчатском, когда в Москве происходили события датафрейма: \n",
    "import pandas as pd\n",
    "\n",
    "df = pd.DataFrame({'time': ['11-03-07 17:15', '11-05-02 10:20']})\n",
    "df['moscow_time'] = pd.to_datetime(df['time'], format='%y-%m-%d %H:%M')\n",
    "###df['petropavlovsk-kamchatsky_time'] = df['moscow_time'] + pd.Timedelta(hours=9)"
   ]
  },
  {
   "cell_type": "code",
   "execution_count": 39,
   "id": "73270282",
   "metadata": {},
   "outputs": [],
   "source": [
    "# Напомним, что в датафрейме записано время UTC. Московское рассчитывают как UTC + 3 часа.\n",
    "# Создайте столбец data['local_time'] и сохраните в нём сдвинутое на 3 часа время из столбца data['date_time'].\n",
    "# Напечатайте первые 5 строк таблицы data.\n",
    "data['local_time'] = data['date_time']+pd.Timedelta(hours=3)"
   ]
  },
  {
   "cell_type": "code",
   "execution_count": 40,
   "id": "2caa0799",
   "metadata": {},
   "outputs": [
    {
     "data": {
      "text/html": [
       "<div>\n",
       "<style scoped>\n",
       "    .dataframe tbody tr th:only-of-type {\n",
       "        vertical-align: middle;\n",
       "    }\n",
       "\n",
       "    .dataframe tbody tr th {\n",
       "        vertical-align: top;\n",
       "    }\n",
       "\n",
       "    .dataframe thead th {\n",
       "        text-align: right;\n",
       "    }\n",
       "</style>\n",
       "<table border=\"1\" class=\"dataframe\">\n",
       "  <thead>\n",
       "    <tr style=\"text-align: right;\">\n",
       "      <th></th>\n",
       "      <th>date_time</th>\n",
       "      <th>id</th>\n",
       "      <th>time_spent</th>\n",
       "      <th>name</th>\n",
       "      <th>local_time</th>\n",
       "      <th>date_hour</th>\n",
       "    </tr>\n",
       "  </thead>\n",
       "  <tbody>\n",
       "    <tr>\n",
       "      <th>0</th>\n",
       "      <td>2018-04-06 16:53:58</td>\n",
       "      <td>76144fb2</td>\n",
       "      <td>98.0</td>\n",
       "      <td>Василёк</td>\n",
       "      <td>2018-04-06 19:53:58</td>\n",
       "      <td>2018-04-06 20:00:00</td>\n",
       "    </tr>\n",
       "    <tr>\n",
       "      <th>1</th>\n",
       "      <td>2018-04-04 17:39:13</td>\n",
       "      <td>76144fb2</td>\n",
       "      <td>15.0</td>\n",
       "      <td>Василёк</td>\n",
       "      <td>2018-04-04 20:39:13</td>\n",
       "      <td>2018-04-04 21:00:00</td>\n",
       "    </tr>\n",
       "    <tr>\n",
       "      <th>2</th>\n",
       "      <td>2018-04-03 17:28:24</td>\n",
       "      <td>76144fb2</td>\n",
       "      <td>220.0</td>\n",
       "      <td>Василёк</td>\n",
       "      <td>2018-04-03 20:28:24</td>\n",
       "      <td>2018-04-03 20:00:00</td>\n",
       "    </tr>\n",
       "    <tr>\n",
       "      <th>3</th>\n",
       "      <td>2018-04-07 07:04:41</td>\n",
       "      <td>76144fb2</td>\n",
       "      <td>19.0</td>\n",
       "      <td>Василёк</td>\n",
       "      <td>2018-04-07 10:04:41</td>\n",
       "      <td>2018-04-07 10:00:00</td>\n",
       "    </tr>\n",
       "    <tr>\n",
       "      <th>4</th>\n",
       "      <td>2018-04-04 13:20:49</td>\n",
       "      <td>76144fb2</td>\n",
       "      <td>14.0</td>\n",
       "      <td>Василёк</td>\n",
       "      <td>2018-04-04 16:20:49</td>\n",
       "      <td>2018-04-04 16:00:00</td>\n",
       "    </tr>\n",
       "    <tr>\n",
       "      <th>...</th>\n",
       "      <td>...</td>\n",
       "      <td>...</td>\n",
       "      <td>...</td>\n",
       "      <td>...</td>\n",
       "      <td>...</td>\n",
       "      <td>...</td>\n",
       "    </tr>\n",
       "    <tr>\n",
       "      <th>317099</th>\n",
       "      <td>2018-04-08 05:31:33</td>\n",
       "      <td>9cdb5039</td>\n",
       "      <td>11.0</td>\n",
       "      <td>Гейхера</td>\n",
       "      <td>2018-04-08 08:31:33</td>\n",
       "      <td>2018-04-08 09:00:00</td>\n",
       "    </tr>\n",
       "    <tr>\n",
       "      <th>317100</th>\n",
       "      <td>2018-04-03 02:13:53</td>\n",
       "      <td>9cdb5039</td>\n",
       "      <td>181.0</td>\n",
       "      <td>Гейхера</td>\n",
       "      <td>2018-04-03 05:13:53</td>\n",
       "      <td>2018-04-03 05:00:00</td>\n",
       "    </tr>\n",
       "    <tr>\n",
       "      <th>317101</th>\n",
       "      <td>2018-04-08 06:26:36</td>\n",
       "      <td>9cdb5039</td>\n",
       "      <td>252.0</td>\n",
       "      <td>Гейхера</td>\n",
       "      <td>2018-04-08 09:26:36</td>\n",
       "      <td>2018-04-08 09:00:00</td>\n",
       "    </tr>\n",
       "    <tr>\n",
       "      <th>317102</th>\n",
       "      <td>2018-04-05 23:24:25</td>\n",
       "      <td>9cdb5039</td>\n",
       "      <td>29.0</td>\n",
       "      <td>Гейхера</td>\n",
       "      <td>2018-04-06 02:24:25</td>\n",
       "      <td>2018-04-06 02:00:00</td>\n",
       "    </tr>\n",
       "    <tr>\n",
       "      <th>317103</th>\n",
       "      <td>2018-04-05 19:42:38</td>\n",
       "      <td>9cdb5039</td>\n",
       "      <td>20.0</td>\n",
       "      <td>Гейхера</td>\n",
       "      <td>2018-04-05 22:42:38</td>\n",
       "      <td>2018-04-05 23:00:00</td>\n",
       "    </tr>\n",
       "  </tbody>\n",
       "</table>\n",
       "<p>317104 rows × 6 columns</p>\n",
       "</div>"
      ],
      "text/plain": [
       "                 date_time        id  time_spent     name          local_time  \\\n",
       "0      2018-04-06 16:53:58  76144fb2        98.0  Василёк 2018-04-06 19:53:58   \n",
       "1      2018-04-04 17:39:13  76144fb2        15.0  Василёк 2018-04-04 20:39:13   \n",
       "2      2018-04-03 17:28:24  76144fb2       220.0  Василёк 2018-04-03 20:28:24   \n",
       "3      2018-04-07 07:04:41  76144fb2        19.0  Василёк 2018-04-07 10:04:41   \n",
       "4      2018-04-04 13:20:49  76144fb2        14.0  Василёк 2018-04-04 16:20:49   \n",
       "...                    ...       ...         ...      ...                 ...   \n",
       "317099 2018-04-08 05:31:33  9cdb5039        11.0  Гейхера 2018-04-08 08:31:33   \n",
       "317100 2018-04-03 02:13:53  9cdb5039       181.0  Гейхера 2018-04-03 05:13:53   \n",
       "317101 2018-04-08 06:26:36  9cdb5039       252.0  Гейхера 2018-04-08 09:26:36   \n",
       "317102 2018-04-05 23:24:25  9cdb5039        29.0  Гейхера 2018-04-06 02:24:25   \n",
       "317103 2018-04-05 19:42:38  9cdb5039        20.0  Гейхера 2018-04-05 22:42:38   \n",
       "\n",
       "                 date_hour  \n",
       "0      2018-04-06 20:00:00  \n",
       "1      2018-04-04 21:00:00  \n",
       "2      2018-04-03 20:00:00  \n",
       "3      2018-04-07 10:00:00  \n",
       "4      2018-04-04 16:00:00  \n",
       "...                    ...  \n",
       "317099 2018-04-08 09:00:00  \n",
       "317100 2018-04-03 05:00:00  \n",
       "317101 2018-04-08 09:00:00  \n",
       "317102 2018-04-06 02:00:00  \n",
       "317103 2018-04-05 23:00:00  \n",
       "\n",
       "[317104 rows x 6 columns]"
      ]
     },
     "execution_count": 40,
     "metadata": {},
     "output_type": "execute_result"
    }
   ],
   "source": [
    "data"
   ]
  },
  {
   "cell_type": "code",
   "execution_count": null,
   "id": "9a2e3874",
   "metadata": {},
   "outputs": [],
   "source": []
  },
  {
   "cell_type": "code",
   "execution_count": 41,
   "id": "050c06c8",
   "metadata": {},
   "outputs": [],
   "source": [
    "sample = data.query('id == \"3c1e4c52\"')"
   ]
  },
  {
   "cell_type": "code",
   "execution_count": 42,
   "id": "bafebef9",
   "metadata": {},
   "outputs": [
    {
     "data": {
      "text/plain": [
       "<AxesSubplot:title={'center':'Sample'}>"
      ]
     },
     "execution_count": 42,
     "metadata": {},
     "output_type": "execute_result"
    },
    {
     "data": {
      "image/png": "[encoded data removed]",
      "text/plain": [
       "<Figure size 432x288 with 1 Axes>"
      ]
     },
     "metadata": {
      "needs_background": "light"
     },
     "output_type": "display_data"
    }
   ],
   "source": [
    "#Названия для графиков указывают строкой или переменной в параметре title (англ. «название»):\n",
    "sample.plot(title='Sample')"
   ]
  },
  {
   "cell_type": "code",
   "execution_count": 43,
   "id": "fcc4a7bc",
   "metadata": {},
   "outputs": [
    {
     "data": {
      "text/plain": [
       "<AxesSubplot:>"
      ]
     },
     "execution_count": 43,
     "metadata": {},
     "output_type": "execute_result"
    },
    {
     "data": {
      "image/png": "[encoded data removed]",
      "text/plain": [
       "<Figure size 432x288 with 1 Axes>"
      ]
     },
     "metadata": {
      "needs_background": "light"
     },
     "output_type": "display_data"
    }
   ],
   "source": [
    "# Элементов в таблице слишком мало, чтобы они складывались в непрерывную линию. \n",
    "# Добавим графику точности, передадим параметр style, со значением o, чтобы отметить значения таблицы точками.\n",
    "sample.plot(style='o') # 'o' похожа на кружок или точку, запомнить легко"
   ]
  },
  {
   "cell_type": "code",
   "execution_count": 44,
   "id": "bc1ef925",
   "metadata": {},
   "outputs": [
    {
     "data": {
      "text/plain": [
       "<AxesSubplot:>"
      ]
     },
     "execution_count": 44,
     "metadata": {},
     "output_type": "execute_result"
    },
    {
     "data": {
      "image/png": "[encoded data removed]",
      "text/plain": [
       "<Figure size 432x288 with 1 Axes>"
      ]
     },
     "metadata": {
      "needs_background": "light"
     },
     "output_type": "display_data"
    }
   ],
   "source": [
    "#Можно задать и другую форму точек. Например, style='х' пометит точки крестиками:\n",
    "sample.plot(style='x') # 'x' - точь-в-точь крестик "
   ]
  },
  {
   "cell_type": "code",
   "execution_count": 45,
   "id": "0c6fe784",
   "metadata": {},
   "outputs": [
    {
     "data": {
      "text/plain": [
       "<AxesSubplot:xlabel='local_time'>"
      ]
     },
     "execution_count": 45,
     "metadata": {},
     "output_type": "execute_result"
    },
    {
     "data": {
      "image/png": "[encoded data removed]",
      "text/plain": [
       "<Figure size 1008x504 with 1 Axes>"
      ]
     },
     "metadata": {
      "needs_background": "light"
     },
     "output_type": "display_data"
    }
   ],
   "source": [
    "#Когда нужен компромиссный вариант — и линии, и точки, — передают style='o-'.\n",
    "# Пользуясь данными sample, постройте график зависимости продолжительности заправки от времени заезда.\n",
    "# За основу возьмите соответствующие столбцы time_spent и local_time.\n",
    "# Оси X присвойте значения столбца local_time, а оси Y — значения столбца time_spent.\n",
    "# Проверьте, всё ли верно отображено на графике:\n",
    "# Каждый элемент обозначен точкой.\n",
    "# Диапазон оси Y указан от 0 до 1000.\n",
    "# Добавлены сетки.\n",
    "# Размер графика 12х6 дюймов.\n",
    "sample.plot(x='local_time', y='time_spent', ylim=(0, 1000),style='o',grid=True, figsize=(14, 7)) # 'o-' - кружок и линия"
   ]
  },
  {
   "cell_type": "code",
   "execution_count": 46,
   "id": "6519c7e4",
   "metadata": {},
   "outputs": [],
   "source": [
    "# Напомним, что по горизонтальной оси отложены индексы. \n",
    "# Но что, если такой способ представления не годится для анализа?\n",
    "# Можно изменить сами индексы или передать методу plot() параметры осей.\n",
    "# Так, оси абсцисс (x) присвоим значения столбца b, а оси ординат (y) — значения столбца a:\n",
    "# df.plot(x='b', y='a', style='o-')"
   ]
  },
  {
   "cell_type": "code",
   "execution_count": 47,
   "id": "ae018919",
   "metadata": {},
   "outputs": [
    {
     "data": {
      "text/plain": [
       "<AxesSubplot:xlabel='local_time'>"
      ]
     },
     "execution_count": 47,
     "metadata": {},
     "output_type": "execute_result"
    },
    {
     "data": {
      "image/png": "[encoded data removed]",
      "text/plain": [
       "<Figure size 864x432 with 1 Axes>"
      ]
     },
     "metadata": {
      "needs_background": "light"
     },
     "output_type": "display_data"
    }
   ],
   "source": [
    "(data\n",
    " .query('id == \"3c1e4c52\"')\n",
    " .plot(x='local_time', y='time_spent', \n",
    "       ylim=(0, 1000), style='o',\n",
    "       grid=True, figsize=(12, 6)))"
   ]
  },
  {
   "cell_type": "markdown",
   "id": "ecb873b2",
   "metadata": {},
   "source": [
    "Вернёмся к данным по АЗС. На графике слишком много точек. Чтобы сделать его нагляднее, будем отмечать не визит, а среднюю продолжительность заправки в час. Вы уже создавали столбец date_hour с округлённым временем заезда на АЗС. \n",
    "Обратимся к pivot_table(). Добавим сводную таблицу в цепочку между query() и plot():"
   ]
  },
  {
   "cell_type": "code",
   "execution_count": 48,
   "id": "f710abf1",
   "metadata": {},
   "outputs": [
    {
     "data": {
      "text/plain": [
       "<AxesSubplot:xlabel='date_hour'>"
      ]
     },
     "execution_count": 48,
     "metadata": {},
     "output_type": "execute_result"
    },
    {
     "data": {
      "image/png": "[encoded data removed]",
      "text/plain": [
       "<Figure size 1008x504 with 1 Axes>"
      ]
     },
     "metadata": {
      "needs_background": "light"
     },
     "output_type": "display_data"
    }
   ],
   "source": [
    "(\n",
    "    data.query('id == \"3c1e4c52\" and time_spent < 1000')\n",
    "    .pivot_table(index='date_hour', values='time_spent', aggfunc='median')\n",
    "    .plot(grid=True, figsize=(14, 7))\n",
    ") "
   ]
  },
  {
   "cell_type": "markdown",
   "id": "7c4fad00",
   "metadata": {},
   "source": [
    "Если между временем прибытия на АЗС и числом заездов нет никакой связи, это серьёзный повод насторожиться. Вряд ли количество заездов в два часа ночи и в восемь утра одинаково. Чтобы понять, что же происходит, постройте график зависимости между временем прибытия и количеством заездов в час.\n",
    "Выполните следующие шаги, помня о бритве Оккама:\n",
    "Сделайте срез из data по АЗС с id==\"3c1e4c52\".\n",
    "Из данных этого среза постройте сводную таблицу, которая будет отображать количество заездов по времени прибытия. Передайте параметру values значение 'time_spent'.\n",
    "Из данных сводной таблицы постройте график зависимости между временем прибытия и количеством заездов в час (по аналогии с примером в уроке). Добавьте линии сетки, задайте размер графика 12х5 дюймов."
   ]
  },
  {
   "cell_type": "code",
   "execution_count": 49,
   "id": "6b66f8d4",
   "metadata": {},
   "outputs": [
    {
     "data": {
      "text/plain": [
       "<AxesSubplot:xlabel='date_hour'>"
      ]
     },
     "execution_count": 49,
     "metadata": {},
     "output_type": "execute_result"
    },
    {
     "data": {
      "image/png": "[encoded data removed]",
      "text/plain": [
       "<Figure size 864x360 with 1 Axes>"
      ]
     },
     "metadata": {
      "needs_background": "light"
     },
     "output_type": "display_data"
    }
   ],
   "source": [
    "(\n",
    "    data.query('id == \"3c1e4c52\" and time_spent < 1000')\n",
    "    .pivot_table(index='date_hour', values='time_spent', aggfunc='count')\n",
    "    .plot(grid=True, figsize=(12, 5))\n",
    ") "
   ]
  },
  {
   "cell_type": "code",
   "execution_count": 50,
   "id": "481fe777",
   "metadata": {},
   "outputs": [
    {
     "data": {
      "text/plain": [
       "0.42213910893586964"
      ]
     },
     "execution_count": 50,
     "metadata": {},
     "output_type": "execute_result"
    }
   ],
   "source": [
    "len(data.query('time_spent<60'))/len(data)"
   ]
  },
  {
   "cell_type": "code",
   "execution_count": 51,
   "id": "aee4495d",
   "metadata": {},
   "outputs": [],
   "source": [
    "data['too_fast'] = data['time_spent'] < 60"
   ]
  },
  {
   "cell_type": "code",
   "execution_count": 52,
   "id": "2bc16618",
   "metadata": {},
   "outputs": [
    {
     "data": {
      "text/html": [
       "<div>\n",
       "<style scoped>\n",
       "    .dataframe tbody tr th:only-of-type {\n",
       "        vertical-align: middle;\n",
       "    }\n",
       "\n",
       "    .dataframe tbody tr th {\n",
       "        vertical-align: top;\n",
       "    }\n",
       "\n",
       "    .dataframe thead th {\n",
       "        text-align: right;\n",
       "    }\n",
       "</style>\n",
       "<table border=\"1\" class=\"dataframe\">\n",
       "  <thead>\n",
       "    <tr style=\"text-align: right;\">\n",
       "      <th></th>\n",
       "      <th>date_time</th>\n",
       "      <th>id</th>\n",
       "      <th>time_spent</th>\n",
       "      <th>name</th>\n",
       "      <th>local_time</th>\n",
       "      <th>date_hour</th>\n",
       "      <th>too_fast</th>\n",
       "    </tr>\n",
       "  </thead>\n",
       "  <tbody>\n",
       "    <tr>\n",
       "      <th>0</th>\n",
       "      <td>2018-04-06 16:53:58</td>\n",
       "      <td>76144fb2</td>\n",
       "      <td>98.0</td>\n",
       "      <td>Василёк</td>\n",
       "      <td>2018-04-06 19:53:58</td>\n",
       "      <td>2018-04-06 20:00:00</td>\n",
       "      <td>False</td>\n",
       "    </tr>\n",
       "    <tr>\n",
       "      <th>1</th>\n",
       "      <td>2018-04-04 17:39:13</td>\n",
       "      <td>76144fb2</td>\n",
       "      <td>15.0</td>\n",
       "      <td>Василёк</td>\n",
       "      <td>2018-04-04 20:39:13</td>\n",
       "      <td>2018-04-04 21:00:00</td>\n",
       "      <td>True</td>\n",
       "    </tr>\n",
       "    <tr>\n",
       "      <th>2</th>\n",
       "      <td>2018-04-03 17:28:24</td>\n",
       "      <td>76144fb2</td>\n",
       "      <td>220.0</td>\n",
       "      <td>Василёк</td>\n",
       "      <td>2018-04-03 20:28:24</td>\n",
       "      <td>2018-04-03 20:00:00</td>\n",
       "      <td>False</td>\n",
       "    </tr>\n",
       "    <tr>\n",
       "      <th>3</th>\n",
       "      <td>2018-04-07 07:04:41</td>\n",
       "      <td>76144fb2</td>\n",
       "      <td>19.0</td>\n",
       "      <td>Василёк</td>\n",
       "      <td>2018-04-07 10:04:41</td>\n",
       "      <td>2018-04-07 10:00:00</td>\n",
       "      <td>True</td>\n",
       "    </tr>\n",
       "    <tr>\n",
       "      <th>4</th>\n",
       "      <td>2018-04-04 13:20:49</td>\n",
       "      <td>76144fb2</td>\n",
       "      <td>14.0</td>\n",
       "      <td>Василёк</td>\n",
       "      <td>2018-04-04 16:20:49</td>\n",
       "      <td>2018-04-04 16:00:00</td>\n",
       "      <td>True</td>\n",
       "    </tr>\n",
       "    <tr>\n",
       "      <th>...</th>\n",
       "      <td>...</td>\n",
       "      <td>...</td>\n",
       "      <td>...</td>\n",
       "      <td>...</td>\n",
       "      <td>...</td>\n",
       "      <td>...</td>\n",
       "      <td>...</td>\n",
       "    </tr>\n",
       "    <tr>\n",
       "      <th>317099</th>\n",
       "      <td>2018-04-08 05:31:33</td>\n",
       "      <td>9cdb5039</td>\n",
       "      <td>11.0</td>\n",
       "      <td>Гейхера</td>\n",
       "      <td>2018-04-08 08:31:33</td>\n",
       "      <td>2018-04-08 09:00:00</td>\n",
       "      <td>True</td>\n",
       "    </tr>\n",
       "    <tr>\n",
       "      <th>317100</th>\n",
       "      <td>2018-04-03 02:13:53</td>\n",
       "      <td>9cdb5039</td>\n",
       "      <td>181.0</td>\n",
       "      <td>Гейхера</td>\n",
       "      <td>2018-04-03 05:13:53</td>\n",
       "      <td>2018-04-03 05:00:00</td>\n",
       "      <td>False</td>\n",
       "    </tr>\n",
       "    <tr>\n",
       "      <th>317101</th>\n",
       "      <td>2018-04-08 06:26:36</td>\n",
       "      <td>9cdb5039</td>\n",
       "      <td>252.0</td>\n",
       "      <td>Гейхера</td>\n",
       "      <td>2018-04-08 09:26:36</td>\n",
       "      <td>2018-04-08 09:00:00</td>\n",
       "      <td>False</td>\n",
       "    </tr>\n",
       "    <tr>\n",
       "      <th>317102</th>\n",
       "      <td>2018-04-05 23:24:25</td>\n",
       "      <td>9cdb5039</td>\n",
       "      <td>29.0</td>\n",
       "      <td>Гейхера</td>\n",
       "      <td>2018-04-06 02:24:25</td>\n",
       "      <td>2018-04-06 02:00:00</td>\n",
       "      <td>True</td>\n",
       "    </tr>\n",
       "    <tr>\n",
       "      <th>317103</th>\n",
       "      <td>2018-04-05 19:42:38</td>\n",
       "      <td>9cdb5039</td>\n",
       "      <td>20.0</td>\n",
       "      <td>Гейхера</td>\n",
       "      <td>2018-04-05 22:42:38</td>\n",
       "      <td>2018-04-05 23:00:00</td>\n",
       "      <td>True</td>\n",
       "    </tr>\n",
       "  </tbody>\n",
       "</table>\n",
       "<p>317104 rows × 7 columns</p>\n",
       "</div>"
      ],
      "text/plain": [
       "                 date_time        id  time_spent     name          local_time  \\\n",
       "0      2018-04-06 16:53:58  76144fb2        98.0  Василёк 2018-04-06 19:53:58   \n",
       "1      2018-04-04 17:39:13  76144fb2        15.0  Василёк 2018-04-04 20:39:13   \n",
       "2      2018-04-03 17:28:24  76144fb2       220.0  Василёк 2018-04-03 20:28:24   \n",
       "3      2018-04-07 07:04:41  76144fb2        19.0  Василёк 2018-04-07 10:04:41   \n",
       "4      2018-04-04 13:20:49  76144fb2        14.0  Василёк 2018-04-04 16:20:49   \n",
       "...                    ...       ...         ...      ...                 ...   \n",
       "317099 2018-04-08 05:31:33  9cdb5039        11.0  Гейхера 2018-04-08 08:31:33   \n",
       "317100 2018-04-03 02:13:53  9cdb5039       181.0  Гейхера 2018-04-03 05:13:53   \n",
       "317101 2018-04-08 06:26:36  9cdb5039       252.0  Гейхера 2018-04-08 09:26:36   \n",
       "317102 2018-04-05 23:24:25  9cdb5039        29.0  Гейхера 2018-04-06 02:24:25   \n",
       "317103 2018-04-05 19:42:38  9cdb5039        20.0  Гейхера 2018-04-05 22:42:38   \n",
       "\n",
       "                 date_hour  too_fast  \n",
       "0      2018-04-06 20:00:00     False  \n",
       "1      2018-04-04 21:00:00      True  \n",
       "2      2018-04-03 20:00:00     False  \n",
       "3      2018-04-07 10:00:00      True  \n",
       "4      2018-04-04 16:00:00      True  \n",
       "...                    ...       ...  \n",
       "317099 2018-04-08 09:00:00      True  \n",
       "317100 2018-04-03 05:00:00     False  \n",
       "317101 2018-04-08 09:00:00     False  \n",
       "317102 2018-04-06 02:00:00      True  \n",
       "317103 2018-04-05 23:00:00      True  \n",
       "\n",
       "[317104 rows x 7 columns]"
      ]
     },
     "execution_count": 52,
     "metadata": {},
     "output_type": "execute_result"
    }
   ],
   "source": [
    "data"
   ]
  },
  {
   "cell_type": "code",
   "execution_count": 53,
   "id": "00e4b205",
   "metadata": {},
   "outputs": [
    {
     "data": {
      "text/plain": [
       "0.42213910893586964"
      ]
     },
     "execution_count": 53,
     "metadata": {},
     "output_type": "execute_result"
    }
   ],
   "source": [
    "data['too_fast'].mean()"
   ]
  },
  {
   "cell_type": "markdown",
   "id": "3e7338d5",
   "metadata": {},
   "source": [
    "Переменная задана, процент посчитан, теперь можно группировать данные по АЗС. Для этого воспользуйтесь сводной таблицей.\n",
    "Создайте переменную too_fast_stat и запишите в неё значения из сводной таблицы, сгруппировав доли быстрых заездов по АЗС.\n",
    "Выведите на экран первые пять строк too_fast_stat."
   ]
  },
  {
   "cell_type": "code",
   "execution_count": 54,
   "id": "7067cea9",
   "metadata": {},
   "outputs": [],
   "source": [
    "too_fast_stat = data.pivot_table(index='id', values='too_fast')"
   ]
  },
  {
   "cell_type": "code",
   "execution_count": 55,
   "id": "02d8600e",
   "metadata": {},
   "outputs": [
    {
     "data": {
      "text/html": [
       "<div>\n",
       "<style scoped>\n",
       "    .dataframe tbody tr th:only-of-type {\n",
       "        vertical-align: middle;\n",
       "    }\n",
       "\n",
       "    .dataframe tbody tr th {\n",
       "        vertical-align: top;\n",
       "    }\n",
       "\n",
       "    .dataframe thead th {\n",
       "        text-align: right;\n",
       "    }\n",
       "</style>\n",
       "<table border=\"1\" class=\"dataframe\">\n",
       "  <thead>\n",
       "    <tr style=\"text-align: right;\">\n",
       "      <th></th>\n",
       "      <th>too_fast</th>\n",
       "    </tr>\n",
       "    <tr>\n",
       "      <th>id</th>\n",
       "      <th></th>\n",
       "    </tr>\n",
       "  </thead>\n",
       "  <tbody>\n",
       "    <tr>\n",
       "      <th>00ca1b70</th>\n",
       "      <td>0.250000</td>\n",
       "    </tr>\n",
       "    <tr>\n",
       "      <th>011f7462</th>\n",
       "      <td>0.637489</td>\n",
       "    </tr>\n",
       "    <tr>\n",
       "      <th>015eaddd</th>\n",
       "      <td>0.726190</td>\n",
       "    </tr>\n",
       "    <tr>\n",
       "      <th>0178ce70</th>\n",
       "      <td>0.211538</td>\n",
       "    </tr>\n",
       "    <tr>\n",
       "      <th>018a83ef</th>\n",
       "      <td>0.510269</td>\n",
       "    </tr>\n",
       "    <tr>\n",
       "      <th>...</th>\n",
       "      <td>...</td>\n",
       "    </tr>\n",
       "    <tr>\n",
       "      <th>fbbd8cc2</th>\n",
       "      <td>0.239669</td>\n",
       "    </tr>\n",
       "    <tr>\n",
       "      <th>fc4b1b72</th>\n",
       "      <td>0.191136</td>\n",
       "    </tr>\n",
       "    <tr>\n",
       "      <th>fc661c22</th>\n",
       "      <td>0.912344</td>\n",
       "    </tr>\n",
       "    <tr>\n",
       "      <th>fea1d1b8</th>\n",
       "      <td>0.326087</td>\n",
       "    </tr>\n",
       "    <tr>\n",
       "      <th>ff0f01d2</th>\n",
       "      <td>0.244094</td>\n",
       "    </tr>\n",
       "  </tbody>\n",
       "</table>\n",
       "<p>471 rows × 1 columns</p>\n",
       "</div>"
      ],
      "text/plain": [
       "          too_fast\n",
       "id                \n",
       "00ca1b70  0.250000\n",
       "011f7462  0.637489\n",
       "015eaddd  0.726190\n",
       "0178ce70  0.211538\n",
       "018a83ef  0.510269\n",
       "...            ...\n",
       "fbbd8cc2  0.239669\n",
       "fc4b1b72  0.191136\n",
       "fc661c22  0.912344\n",
       "fea1d1b8  0.326087\n",
       "ff0f01d2  0.244094\n",
       "\n",
       "[471 rows x 1 columns]"
      ]
     },
     "execution_count": 55,
     "metadata": {},
     "output_type": "execute_result"
    }
   ],
   "source": [
    "too_fast_stat"
   ]
  },
  {
   "cell_type": "markdown",
   "id": "5370d7a7",
   "metadata": {},
   "source": [
    "\n",
    "Теперь вы знаете, сколько быстрых заездов на первых пяти АЗС в процентном отношении. Но что делать дальше — выводить на экран остальные 466 строк и изучать значения для каждой АЗС? Слишком сложно.\n",
    "Гораздо лучше визуализировать распределение быстрых заездов сразу по всем АЗС. Гистограмма, вот что нужно!\n",
    "Постройте гистограмму распределения значений в таблице too_fast_stat на 30 корзин."
   ]
  },
  {
   "cell_type": "code",
   "execution_count": 56,
   "id": "7e728a1a",
   "metadata": {},
   "outputs": [
    {
     "data": {
      "image/png": "[encoded data removed]",
      "text/plain": [
       "<Figure size 432x288 with 1 Axes>"
      ]
     },
     "metadata": {
      "needs_background": "light"
     },
     "output_type": "display_data"
    }
   ],
   "source": [
    "too_fast_stat.hist(bins=(30))\n",
    "plt.show()"
   ]
  },
  {
   "cell_type": "markdown",
   "id": "adba8dbf",
   "metadata": {},
   "source": [
    "\n",
    "Теперь, когда вы разобрались, как использовать булевы значения для подсчёта процентов, примените этот метод для аномально долгих заправок — проверьте их распределение по АЗС. Как вы помните, заезды длиннее 1000 секунд решили исключить. Сейчас станет понятно, сколько АЗС это затронет.\n",
    "Добавьте в data столбец too_slow (пер. «слишком медленный»), в котором значения из столбца time_spent больше 1000 секунд будут отмечены как True, а все остальные — как False.\n",
    "Помня о бритве Оккама:\n",
    "Создайте сводную таблицу с процентом медленных заездов для каждой АЗС.\n",
    "Постройте гистограмму доли медленных заездов по всем АЗС на 30 корзин."
   ]
  },
  {
   "cell_type": "code",
   "execution_count": 57,
   "id": "2b791c9b",
   "metadata": {},
   "outputs": [],
   "source": [
    "data['too_slow'] = data['time_spent']>1000"
   ]
  },
  {
   "cell_type": "code",
   "execution_count": 58,
   "id": "76e6cd2e",
   "metadata": {},
   "outputs": [
    {
     "data": {
      "image/png": "[encoded data removed]",
      "text/plain": [
       "<Figure size 432x288 with 1 Axes>"
      ]
     },
     "metadata": {
      "needs_background": "light"
     },
     "output_type": "display_data"
    }
   ],
   "source": [
    "data.pivot_table(index='id', values='too_slow').hist(bins=(30))\n",
    "plt.show()"
   ]
  },
  {
   "cell_type": "code",
   "execution_count": 59,
   "id": "aece6e39",
   "metadata": {},
   "outputs": [
    {
     "name": "stdout",
     "output_type": "stream",
     "text": [
      "          too_fast\n",
      "id                \n",
      "c96c61cd  1.000000\n",
      "c527c306  1.000000\n",
      "5372547e  1.000000\n",
      "792b6ded  0.996253\n",
      "bd1d0bb0  0.982044\n"
     ]
    }
   ],
   "source": [
    "#Найдём эту проблемную АЗС. Напомним, что в прошлом уроке вы уже считали долю аномально быстрых заправок для каждой АЗС:\n",
    "print(too_fast_stat.sort_values('too_fast', ascending=False).head()) "
   ]
  },
  {
   "cell_type": "code",
   "execution_count": 60,
   "id": "383703cc",
   "metadata": {},
   "outputs": [
    {
     "data": {
      "text/html": [
       "<div>\n",
       "<style scoped>\n",
       "    .dataframe tbody tr th:only-of-type {\n",
       "        vertical-align: middle;\n",
       "    }\n",
       "\n",
       "    .dataframe tbody tr th {\n",
       "        vertical-align: top;\n",
       "    }\n",
       "\n",
       "    .dataframe thead th {\n",
       "        text-align: right;\n",
       "    }\n",
       "</style>\n",
       "<table border=\"1\" class=\"dataframe\">\n",
       "  <thead>\n",
       "    <tr style=\"text-align: right;\">\n",
       "      <th></th>\n",
       "      <th>time_spent</th>\n",
       "    </tr>\n",
       "  </thead>\n",
       "  <tbody>\n",
       "    <tr>\n",
       "      <th>count</th>\n",
       "      <td>1.0</td>\n",
       "    </tr>\n",
       "    <tr>\n",
       "      <th>mean</th>\n",
       "      <td>5.0</td>\n",
       "    </tr>\n",
       "    <tr>\n",
       "      <th>std</th>\n",
       "      <td>NaN</td>\n",
       "    </tr>\n",
       "    <tr>\n",
       "      <th>min</th>\n",
       "      <td>5.0</td>\n",
       "    </tr>\n",
       "    <tr>\n",
       "      <th>25%</th>\n",
       "      <td>5.0</td>\n",
       "    </tr>\n",
       "    <tr>\n",
       "      <th>50%</th>\n",
       "      <td>5.0</td>\n",
       "    </tr>\n",
       "    <tr>\n",
       "      <th>75%</th>\n",
       "      <td>5.0</td>\n",
       "    </tr>\n",
       "    <tr>\n",
       "      <th>max</th>\n",
       "      <td>5.0</td>\n",
       "    </tr>\n",
       "  </tbody>\n",
       "</table>\n",
       "</div>"
      ],
      "text/plain": [
       "       time_spent\n",
       "count         1.0\n",
       "mean          5.0\n",
       "std           NaN\n",
       "min           5.0\n",
       "25%           5.0\n",
       "50%           5.0\n",
       "75%           5.0\n",
       "max           5.0"
      ]
     },
     "execution_count": 60,
     "metadata": {},
     "output_type": "execute_result"
    }
   ],
   "source": [
    "#АЗС, где 100% заездов аномально быстрые, оказалось целых три! Наверное, их id нужно передать коллегам, чтобы они искали ошибку. Но сперва посмотрите сами. \n",
    "#Методом describe() можно оценить данные первой АЗС —  id == \"c96c61cd\":\n",
    "data.query('id == \"c96c61cd\"').describe() "
   ]
  },
  {
   "cell_type": "markdown",
   "id": "9f0fd69c",
   "metadata": {},
   "source": [
    "Всего один заезд. Это неудачный баг-репорт, ведь АЗС с одним заездом странная сама по себе. Если на ней и была какая-то проблема, не факт, что она массовая. \n",
    "Для баг-репорта нужна «полноценная» АЗС с достаточным числом аномально быстрых заездов. После аналогичной проверки следующих id в списке было обнаружено, что нормальная статистика есть только по АЗС 792b6ded:\n",
    "data.query('id == \"792b6ded\"').describe() "
   ]
  },
  {
   "cell_type": "markdown",
   "id": "20980983",
   "metadata": {},
   "source": [
    "Больше 4000 заездов, но почти все очень-очень короткие. 75% укладывается в 5 секунд. Первый квартиль составляет 2 секунды. Это значит, что как минимум 25% укладывается в 2 секунды.\n",
    "Это очень удачный пример для баг-репорта. Можно передать как сам id, так и статистику по этой АЗС."
   ]
  },
  {
   "cell_type": "markdown",
   "id": "2229fa10",
   "metadata": {},
   "source": [
    "### Проблема: в выборке есть АЗС, на которых длительность большинства заездов короче 60 секунд.\n",
    "Что нужно сделать: исключить эти АЗС из анализа. Так будет меньше шансов получить необъективные результаты, поскольку коротких заездов в целом больше всего.\n",
    "Правило: исключаются из анализа те АЗС, на которых длительность половины или более заездов короче 60 секунд. Если бы вы писали отчёт, это предложение непременно вошло бы в него.\n",
    "Примените правило на практике. Сначала из таблицы too_fast_stat получите id станций, которые не нарушают правило. Затем используйте эти id, чтобы отфильтровать таблицу data.\n",
    "\n",
    "\n",
    "Выполните следующие шаги:\n",
    "Создайте переменную good_ids и поместите в неё те строки из too_fast_stat, где too_fast меньше 50%.\n",
    "Не забывайте, что в таблице data too_fast является булевым значением и атрибутом заезда, но в таблице too_fast_stat too_fast — это процент заездов, длительность которых короче 60 секунд, и атрибут заправочной станции.\n",
    "Создайте переменную good_data и поместите в неё те строки из data, где в good_ids.index находится id. Другими словами, соберите все заезды, не нарушающие правило.\n",
    "Распечатайте число строк в data, а затем и число строк в good_data."
   ]
  },
  {
   "cell_type": "code",
   "execution_count": 61,
   "id": "dc5c40d7",
   "metadata": {},
   "outputs": [],
   "source": [
    "good_ids = too_fast_stat.query(' too_fast<0.5')"
   ]
  },
  {
   "cell_type": "code",
   "execution_count": 62,
   "id": "8059243c",
   "metadata": {},
   "outputs": [],
   "source": [
    "good_data = data.query('id in @good_ids.index')"
   ]
  },
  {
   "cell_type": "code",
   "execution_count": 63,
   "id": "69f5787c",
   "metadata": {},
   "outputs": [
    {
     "name": "stdout",
     "output_type": "stream",
     "text": [
      "317104\n",
      "229095\n"
     ]
    }
   ],
   "source": [
    "print(len(data))\n",
    "print(len(good_data))"
   ]
  },
  {
   "cell_type": "markdown",
   "id": "38226938",
   "metadata": {},
   "source": [
    "### Проблема: в выборке есть аномально быстрые и аномально медленные заезды. Скорее всего, их совершали не те, кто приезжал просто заправиться.\n",
    "Что нужно сделать: исключить эти заезды из анализа, чтобы получить более точные показатели. Аномальные значения могут влиять на средние значения и медианы. \n",
    "Правило: заезды, длительность которых короче 60 секунд и длиннее 1000 секунд, исключаются из анализа — это предложение тоже вошло бы в отчёт.\n",
    "Примените новое правило и получите выборку без аномальных заездов.\n",
    "Выполните следующие шаги:\n",
    "\n",
    "\n",
    "С помощью функции query() обновите таблицу good_data, выбрав строки, где time_spent в диапазоне между 60 и 1000 секунд. Убедитесь, что заезды длительностью по 60 и 1000 секунд тоже включены.\n",
    "Выведите на экран число строк в обновлённой good_data."
   ]
  },
  {
   "cell_type": "code",
   "execution_count": 64,
   "id": "66e77aa5",
   "metadata": {},
   "outputs": [
    {
     "data": {
      "text/html": [
       "<div>\n",
       "<style scoped>\n",
       "    .dataframe tbody tr th:only-of-type {\n",
       "        vertical-align: middle;\n",
       "    }\n",
       "\n",
       "    .dataframe tbody tr th {\n",
       "        vertical-align: top;\n",
       "    }\n",
       "\n",
       "    .dataframe thead th {\n",
       "        text-align: right;\n",
       "    }\n",
       "</style>\n",
       "<table border=\"1\" class=\"dataframe\">\n",
       "  <thead>\n",
       "    <tr style=\"text-align: right;\">\n",
       "      <th></th>\n",
       "      <th>date_time</th>\n",
       "      <th>id</th>\n",
       "      <th>time_spent</th>\n",
       "      <th>name</th>\n",
       "      <th>local_time</th>\n",
       "      <th>date_hour</th>\n",
       "      <th>too_fast</th>\n",
       "      <th>too_slow</th>\n",
       "    </tr>\n",
       "  </thead>\n",
       "  <tbody>\n",
       "    <tr>\n",
       "      <th>0</th>\n",
       "      <td>2018-04-06 16:53:58</td>\n",
       "      <td>76144fb2</td>\n",
       "      <td>98.0</td>\n",
       "      <td>Василёк</td>\n",
       "      <td>2018-04-06 19:53:58</td>\n",
       "      <td>2018-04-06 20:00:00</td>\n",
       "      <td>False</td>\n",
       "      <td>False</td>\n",
       "    </tr>\n",
       "    <tr>\n",
       "      <th>1</th>\n",
       "      <td>2018-04-04 17:39:13</td>\n",
       "      <td>76144fb2</td>\n",
       "      <td>15.0</td>\n",
       "      <td>Василёк</td>\n",
       "      <td>2018-04-04 20:39:13</td>\n",
       "      <td>2018-04-04 21:00:00</td>\n",
       "      <td>True</td>\n",
       "      <td>False</td>\n",
       "    </tr>\n",
       "    <tr>\n",
       "      <th>2</th>\n",
       "      <td>2018-04-03 17:28:24</td>\n",
       "      <td>76144fb2</td>\n",
       "      <td>220.0</td>\n",
       "      <td>Василёк</td>\n",
       "      <td>2018-04-03 20:28:24</td>\n",
       "      <td>2018-04-03 20:00:00</td>\n",
       "      <td>False</td>\n",
       "      <td>False</td>\n",
       "    </tr>\n",
       "    <tr>\n",
       "      <th>3</th>\n",
       "      <td>2018-04-07 07:04:41</td>\n",
       "      <td>76144fb2</td>\n",
       "      <td>19.0</td>\n",
       "      <td>Василёк</td>\n",
       "      <td>2018-04-07 10:04:41</td>\n",
       "      <td>2018-04-07 10:00:00</td>\n",
       "      <td>True</td>\n",
       "      <td>False</td>\n",
       "    </tr>\n",
       "    <tr>\n",
       "      <th>4</th>\n",
       "      <td>2018-04-04 13:20:49</td>\n",
       "      <td>76144fb2</td>\n",
       "      <td>14.0</td>\n",
       "      <td>Василёк</td>\n",
       "      <td>2018-04-04 16:20:49</td>\n",
       "      <td>2018-04-04 16:00:00</td>\n",
       "      <td>True</td>\n",
       "      <td>False</td>\n",
       "    </tr>\n",
       "    <tr>\n",
       "      <th>...</th>\n",
       "      <td>...</td>\n",
       "      <td>...</td>\n",
       "      <td>...</td>\n",
       "      <td>...</td>\n",
       "      <td>...</td>\n",
       "      <td>...</td>\n",
       "      <td>...</td>\n",
       "      <td>...</td>\n",
       "    </tr>\n",
       "    <tr>\n",
       "      <th>317099</th>\n",
       "      <td>2018-04-08 05:31:33</td>\n",
       "      <td>9cdb5039</td>\n",
       "      <td>11.0</td>\n",
       "      <td>Гейхера</td>\n",
       "      <td>2018-04-08 08:31:33</td>\n",
       "      <td>2018-04-08 09:00:00</td>\n",
       "      <td>True</td>\n",
       "      <td>False</td>\n",
       "    </tr>\n",
       "    <tr>\n",
       "      <th>317100</th>\n",
       "      <td>2018-04-03 02:13:53</td>\n",
       "      <td>9cdb5039</td>\n",
       "      <td>181.0</td>\n",
       "      <td>Гейхера</td>\n",
       "      <td>2018-04-03 05:13:53</td>\n",
       "      <td>2018-04-03 05:00:00</td>\n",
       "      <td>False</td>\n",
       "      <td>False</td>\n",
       "    </tr>\n",
       "    <tr>\n",
       "      <th>317101</th>\n",
       "      <td>2018-04-08 06:26:36</td>\n",
       "      <td>9cdb5039</td>\n",
       "      <td>252.0</td>\n",
       "      <td>Гейхера</td>\n",
       "      <td>2018-04-08 09:26:36</td>\n",
       "      <td>2018-04-08 09:00:00</td>\n",
       "      <td>False</td>\n",
       "      <td>False</td>\n",
       "    </tr>\n",
       "    <tr>\n",
       "      <th>317102</th>\n",
       "      <td>2018-04-05 23:24:25</td>\n",
       "      <td>9cdb5039</td>\n",
       "      <td>29.0</td>\n",
       "      <td>Гейхера</td>\n",
       "      <td>2018-04-06 02:24:25</td>\n",
       "      <td>2018-04-06 02:00:00</td>\n",
       "      <td>True</td>\n",
       "      <td>False</td>\n",
       "    </tr>\n",
       "    <tr>\n",
       "      <th>317103</th>\n",
       "      <td>2018-04-05 19:42:38</td>\n",
       "      <td>9cdb5039</td>\n",
       "      <td>20.0</td>\n",
       "      <td>Гейхера</td>\n",
       "      <td>2018-04-05 22:42:38</td>\n",
       "      <td>2018-04-05 23:00:00</td>\n",
       "      <td>True</td>\n",
       "      <td>False</td>\n",
       "    </tr>\n",
       "  </tbody>\n",
       "</table>\n",
       "<p>229095 rows × 8 columns</p>\n",
       "</div>"
      ],
      "text/plain": [
       "                 date_time        id  time_spent     name          local_time  \\\n",
       "0      2018-04-06 16:53:58  76144fb2        98.0  Василёк 2018-04-06 19:53:58   \n",
       "1      2018-04-04 17:39:13  76144fb2        15.0  Василёк 2018-04-04 20:39:13   \n",
       "2      2018-04-03 17:28:24  76144fb2       220.0  Василёк 2018-04-03 20:28:24   \n",
       "3      2018-04-07 07:04:41  76144fb2        19.0  Василёк 2018-04-07 10:04:41   \n",
       "4      2018-04-04 13:20:49  76144fb2        14.0  Василёк 2018-04-04 16:20:49   \n",
       "...                    ...       ...         ...      ...                 ...   \n",
       "317099 2018-04-08 05:31:33  9cdb5039        11.0  Гейхера 2018-04-08 08:31:33   \n",
       "317100 2018-04-03 02:13:53  9cdb5039       181.0  Гейхера 2018-04-03 05:13:53   \n",
       "317101 2018-04-08 06:26:36  9cdb5039       252.0  Гейхера 2018-04-08 09:26:36   \n",
       "317102 2018-04-05 23:24:25  9cdb5039        29.0  Гейхера 2018-04-06 02:24:25   \n",
       "317103 2018-04-05 19:42:38  9cdb5039        20.0  Гейхера 2018-04-05 22:42:38   \n",
       "\n",
       "                 date_hour  too_fast  too_slow  \n",
       "0      2018-04-06 20:00:00     False     False  \n",
       "1      2018-04-04 21:00:00      True     False  \n",
       "2      2018-04-03 20:00:00     False     False  \n",
       "3      2018-04-07 10:00:00      True     False  \n",
       "4      2018-04-04 16:00:00      True     False  \n",
       "...                    ...       ...       ...  \n",
       "317099 2018-04-08 09:00:00      True     False  \n",
       "317100 2018-04-03 05:00:00     False     False  \n",
       "317101 2018-04-08 09:00:00     False     False  \n",
       "317102 2018-04-06 02:00:00      True     False  \n",
       "317103 2018-04-05 23:00:00      True     False  \n",
       "\n",
       "[229095 rows x 8 columns]"
      ]
     },
     "execution_count": 64,
     "metadata": {},
     "output_type": "execute_result"
    }
   ],
   "source": [
    "good_data"
   ]
  },
  {
   "cell_type": "code",
   "execution_count": 65,
   "id": "a550efb6",
   "metadata": {},
   "outputs": [],
   "source": [
    "good_data = good_data.query('60<=time_spent<=1000')"
   ]
  },
  {
   "cell_type": "code",
   "execution_count": 66,
   "id": "e5becddb",
   "metadata": {},
   "outputs": [
    {
     "name": "stdout",
     "output_type": "stream",
     "text": [
      "154601\n"
     ]
    }
   ],
   "source": [
    "print(len(good_data))"
   ]
  },
  {
   "cell_type": "markdown",
   "id": "b2db1870",
   "metadata": {},
   "source": [
    "В предыдущих задачах вы выбросили из набора данных отдельные заезды и даже целые АЗС ради более реалистичной оценки. Проверьте, помогло ли это. Постройте гистограмму распределения медианной длительности заправки по всем АЗС.\n",
    "Выполните следующие шаги:\n",
    "Создайте переменную good_stations_stat и поместите в неё данные из таблицы с медианными значениями time_spent по каждой АЗС. Не забудьте рассчитать медианы по good_data.\n",
    "Постройте гистограмму на 50 корзин по этим медианным значениям."
   ]
  },
  {
   "cell_type": "code",
   "execution_count": 67,
   "id": "55ee3aff",
   "metadata": {},
   "outputs": [
    {
     "data": {
      "image/png": "[encoded data removed]",
      "text/plain": [
       "<Figure size 432x288 with 1 Axes>"
      ]
     },
     "metadata": {
      "needs_background": "light"
     },
     "output_type": "display_data"
    }
   ],
   "source": [
    "good_stations_stat = good_data.pivot_table(index='id', values='time_spent',aggfunc = 'median').hist(bins=(50))\n",
    "\n"
   ]
  },
  {
   "cell_type": "markdown",
   "id": "5afeebf2",
   "metadata": {},
   "source": [
    "Как вы помните, цель вашего анализа — определить сети заправок, где водители задерживаются надолго. \n",
    "\n",
    "Рассчитайте медианную продолжительность заезда для каждой сети и выведите на экран список в порядке возрастания.\n",
    "Выполните следующие шаги:\n",
    "Создайте переменную good_stat и поместите в неё данные из таблицы с медианными значениями time_spent в каждой сети, то есть по соответствующим названиям name. Рассчитайте медианы по good_data.\n",
    "Выведите на экран таблицу good_stat, отсортировав её по возрастанию медианного времени."
   ]
  },
  {
   "cell_type": "code",
   "execution_count": 68,
   "id": "6939c304",
   "metadata": {},
   "outputs": [
    {
     "name": "stdout",
     "output_type": "stream",
     "text": [
      "             time_spent  good_time_spent\n",
      "name                                    \n",
      "Агератум     337.802721            309.0\n",
      "Амарант      132.760012            187.5\n",
      "Аммобиум     256.708042            180.5\n",
      "Арктотис      73.879984            185.0\n",
      "Астильба     376.143149            423.0\n",
      "Бальзамин    134.508411            158.0\n",
      "Бархатцы     145.300328            181.5\n",
      "Бегония      163.200647            195.0\n",
      "Белоцветник  100.818966            154.0\n",
      "Василёк      268.849897            264.0\n",
      "Вербена      190.016594            199.0\n",
      "Вероника     220.019402            212.0\n",
      "Гацания      160.685185            178.5\n",
      "Гвоздика     294.317308            229.0\n",
      "Гейхера      167.445947            204.0\n",
      "Гелихризум   290.138643            342.0\n",
      "Георгина     166.615555            279.0\n",
      "Годеция      113.958333              NaN\n",
      "Диморфотека  406.161017            224.0\n",
      "Доротеантус  263.568916            220.0\n",
      "Ирис         179.931159            185.0\n",
      "Календула    207.357323            254.0\n",
      "Колокольчик  119.131564            161.0\n",
      "Космос       164.867797            267.0\n",
      "Крокус       349.031746            257.5\n",
      "Лаватера     249.992844            282.0\n",
      "Левкой       187.465606            212.5\n",
      "Лобулярия     96.834350              NaN\n",
      "Люпин        235.440937            186.0\n",
      "Малопа        76.070543            229.0\n",
      "Мальва       136.562234            182.0\n",
      "Нарцисс       68.166758              NaN\n",
      "Настурция    154.859694              NaN\n",
      "Незабудка    120.362398            161.0\n",
      "Немезия      186.535207            226.0\n",
      "Обриета      141.777778            167.0\n",
      "Петуния      265.780822            319.5\n",
      "Пион         222.565523            180.5\n",
      "Подснежник   180.286207            218.5\n",
      "Роза         260.877217            315.0\n",
      "Ромашка      231.389365            191.0\n",
      "Тюльпан      187.832210            190.0\n",
      "Фасоль       133.631957              NaN\n",
      "Функия       302.494737            171.5\n",
      "Хризантема   195.738710            188.0\n"
     ]
    }
   ],
   "source": [
    "station_stat = data.pivot_table(index='id', values='time_spent', aggfunc='median')\n",
    "good_stations_stat = good_data.pivot_table(index='id', values='time_spent', aggfunc='median')\n",
    "\n",
    "stat = data.pivot_table(index='name', values='time_spent')\n",
    "good_stat = good_data.pivot_table(index='name', values='time_spent', aggfunc='median')\n",
    "\n",
    "stat['good_time_spent'] = good_stat['time_spent']\n",
    "\n",
    "\n",
    "print(stat)"
   ]
  },
  {
   "cell_type": "code",
   "execution_count": 69,
   "id": "cfe7979a",
   "metadata": {},
   "outputs": [
    {
     "data": {
      "text/html": [
       "<div>\n",
       "<style scoped>\n",
       "    .dataframe tbody tr th:only-of-type {\n",
       "        vertical-align: middle;\n",
       "    }\n",
       "\n",
       "    .dataframe tbody tr th {\n",
       "        vertical-align: top;\n",
       "    }\n",
       "\n",
       "    .dataframe thead th {\n",
       "        text-align: right;\n",
       "    }\n",
       "</style>\n",
       "<table border=\"1\" class=\"dataframe\">\n",
       "  <thead>\n",
       "    <tr style=\"text-align: right;\">\n",
       "      <th></th>\n",
       "      <th>time_spent</th>\n",
       "    </tr>\n",
       "    <tr>\n",
       "      <th>name</th>\n",
       "      <th></th>\n",
       "    </tr>\n",
       "  </thead>\n",
       "  <tbody>\n",
       "    <tr>\n",
       "      <th>Белоцветник</th>\n",
       "      <td>154.0</td>\n",
       "    </tr>\n",
       "    <tr>\n",
       "      <th>Бальзамин</th>\n",
       "      <td>158.0</td>\n",
       "    </tr>\n",
       "    <tr>\n",
       "      <th>Незабудка</th>\n",
       "      <td>161.0</td>\n",
       "    </tr>\n",
       "    <tr>\n",
       "      <th>Колокольчик</th>\n",
       "      <td>161.0</td>\n",
       "    </tr>\n",
       "    <tr>\n",
       "      <th>Обриета</th>\n",
       "      <td>167.0</td>\n",
       "    </tr>\n",
       "    <tr>\n",
       "      <th>Функия</th>\n",
       "      <td>171.5</td>\n",
       "    </tr>\n",
       "    <tr>\n",
       "      <th>Гацания</th>\n",
       "      <td>178.5</td>\n",
       "    </tr>\n",
       "    <tr>\n",
       "      <th>Аммобиум</th>\n",
       "      <td>180.5</td>\n",
       "    </tr>\n",
       "    <tr>\n",
       "      <th>Пион</th>\n",
       "      <td>180.5</td>\n",
       "    </tr>\n",
       "    <tr>\n",
       "      <th>Бархатцы</th>\n",
       "      <td>181.5</td>\n",
       "    </tr>\n",
       "    <tr>\n",
       "      <th>Мальва</th>\n",
       "      <td>182.0</td>\n",
       "    </tr>\n",
       "    <tr>\n",
       "      <th>Ирис</th>\n",
       "      <td>185.0</td>\n",
       "    </tr>\n",
       "    <tr>\n",
       "      <th>Арктотис</th>\n",
       "      <td>185.0</td>\n",
       "    </tr>\n",
       "    <tr>\n",
       "      <th>Люпин</th>\n",
       "      <td>186.0</td>\n",
       "    </tr>\n",
       "    <tr>\n",
       "      <th>Амарант</th>\n",
       "      <td>187.5</td>\n",
       "    </tr>\n",
       "    <tr>\n",
       "      <th>Хризантема</th>\n",
       "      <td>188.0</td>\n",
       "    </tr>\n",
       "    <tr>\n",
       "      <th>Тюльпан</th>\n",
       "      <td>190.0</td>\n",
       "    </tr>\n",
       "    <tr>\n",
       "      <th>Ромашка</th>\n",
       "      <td>191.0</td>\n",
       "    </tr>\n",
       "    <tr>\n",
       "      <th>Бегония</th>\n",
       "      <td>195.0</td>\n",
       "    </tr>\n",
       "    <tr>\n",
       "      <th>Вербена</th>\n",
       "      <td>199.0</td>\n",
       "    </tr>\n",
       "    <tr>\n",
       "      <th>Гейхера</th>\n",
       "      <td>204.0</td>\n",
       "    </tr>\n",
       "    <tr>\n",
       "      <th>Вероника</th>\n",
       "      <td>212.0</td>\n",
       "    </tr>\n",
       "    <tr>\n",
       "      <th>Левкой</th>\n",
       "      <td>212.5</td>\n",
       "    </tr>\n",
       "    <tr>\n",
       "      <th>Подснежник</th>\n",
       "      <td>218.5</td>\n",
       "    </tr>\n",
       "    <tr>\n",
       "      <th>Доротеантус</th>\n",
       "      <td>220.0</td>\n",
       "    </tr>\n",
       "    <tr>\n",
       "      <th>Диморфотека</th>\n",
       "      <td>224.0</td>\n",
       "    </tr>\n",
       "    <tr>\n",
       "      <th>Немезия</th>\n",
       "      <td>226.0</td>\n",
       "    </tr>\n",
       "    <tr>\n",
       "      <th>Гвоздика</th>\n",
       "      <td>229.0</td>\n",
       "    </tr>\n",
       "    <tr>\n",
       "      <th>Малопа</th>\n",
       "      <td>229.0</td>\n",
       "    </tr>\n",
       "    <tr>\n",
       "      <th>Календула</th>\n",
       "      <td>254.0</td>\n",
       "    </tr>\n",
       "    <tr>\n",
       "      <th>Крокус</th>\n",
       "      <td>257.5</td>\n",
       "    </tr>\n",
       "    <tr>\n",
       "      <th>Василёк</th>\n",
       "      <td>264.0</td>\n",
       "    </tr>\n",
       "    <tr>\n",
       "      <th>Космос</th>\n",
       "      <td>267.0</td>\n",
       "    </tr>\n",
       "    <tr>\n",
       "      <th>Георгина</th>\n",
       "      <td>279.0</td>\n",
       "    </tr>\n",
       "    <tr>\n",
       "      <th>Лаватера</th>\n",
       "      <td>282.0</td>\n",
       "    </tr>\n",
       "    <tr>\n",
       "      <th>Агератум</th>\n",
       "      <td>309.0</td>\n",
       "    </tr>\n",
       "    <tr>\n",
       "      <th>Роза</th>\n",
       "      <td>315.0</td>\n",
       "    </tr>\n",
       "    <tr>\n",
       "      <th>Петуния</th>\n",
       "      <td>319.5</td>\n",
       "    </tr>\n",
       "    <tr>\n",
       "      <th>Гелихризум</th>\n",
       "      <td>342.0</td>\n",
       "    </tr>\n",
       "    <tr>\n",
       "      <th>Астильба</th>\n",
       "      <td>423.0</td>\n",
       "    </tr>\n",
       "  </tbody>\n",
       "</table>\n",
       "</div>"
      ],
      "text/plain": [
       "             time_spent\n",
       "name                   \n",
       "Белоцветник       154.0\n",
       "Бальзамин         158.0\n",
       "Незабудка         161.0\n",
       "Колокольчик       161.0\n",
       "Обриета           167.0\n",
       "Функия            171.5\n",
       "Гацания           178.5\n",
       "Аммобиум          180.5\n",
       "Пион              180.5\n",
       "Бархатцы          181.5\n",
       "Мальва            182.0\n",
       "Ирис              185.0\n",
       "Арктотис          185.0\n",
       "Люпин             186.0\n",
       "Амарант           187.5\n",
       "Хризантема        188.0\n",
       "Тюльпан           190.0\n",
       "Ромашка           191.0\n",
       "Бегония           195.0\n",
       "Вербена           199.0\n",
       "Гейхера           204.0\n",
       "Вероника          212.0\n",
       "Левкой            212.5\n",
       "Подснежник        218.5\n",
       "Доротеантус       220.0\n",
       "Диморфотека       224.0\n",
       "Немезия           226.0\n",
       "Гвоздика          229.0\n",
       "Малопа            229.0\n",
       "Календула         254.0\n",
       "Крокус            257.5\n",
       "Василёк           264.0\n",
       "Космос            267.0\n",
       "Георгина          279.0\n",
       "Лаватера          282.0\n",
       "Агератум          309.0\n",
       "Роза              315.0\n",
       "Петуния           319.5\n",
       "Гелихризум        342.0\n",
       "Астильба          423.0"
      ]
     },
     "execution_count": 69,
     "metadata": {},
     "output_type": "execute_result"
    }
   ],
   "source": [
    "good_stat.sort_values(by='time_spent',ascending=True)"
   ]
  },
  {
   "cell_type": "code",
   "execution_count": 70,
   "id": "cc5914be",
   "metadata": {},
   "outputs": [
    {
     "data": {
      "text/html": [
       "<div>\n",
       "<style scoped>\n",
       "    .dataframe tbody tr th:only-of-type {\n",
       "        vertical-align: middle;\n",
       "    }\n",
       "\n",
       "    .dataframe tbody tr th {\n",
       "        vertical-align: top;\n",
       "    }\n",
       "\n",
       "    .dataframe thead th {\n",
       "        text-align: right;\n",
       "    }\n",
       "</style>\n",
       "<table border=\"1\" class=\"dataframe\">\n",
       "  <thead>\n",
       "    <tr style=\"text-align: right;\">\n",
       "      <th></th>\n",
       "      <th>date_time</th>\n",
       "      <th>id</th>\n",
       "      <th>time_spent</th>\n",
       "      <th>name</th>\n",
       "      <th>local_time</th>\n",
       "      <th>date_hour</th>\n",
       "      <th>too_fast</th>\n",
       "      <th>too_slow</th>\n",
       "    </tr>\n",
       "  </thead>\n",
       "  <tbody>\n",
       "    <tr>\n",
       "      <th>0</th>\n",
       "      <td>2018-04-06 16:53:58</td>\n",
       "      <td>76144fb2</td>\n",
       "      <td>98.0</td>\n",
       "      <td>Василёк</td>\n",
       "      <td>2018-04-06 19:53:58</td>\n",
       "      <td>2018-04-06 20:00:00</td>\n",
       "      <td>False</td>\n",
       "      <td>False</td>\n",
       "    </tr>\n",
       "    <tr>\n",
       "      <th>2</th>\n",
       "      <td>2018-04-03 17:28:24</td>\n",
       "      <td>76144fb2</td>\n",
       "      <td>220.0</td>\n",
       "      <td>Василёк</td>\n",
       "      <td>2018-04-03 20:28:24</td>\n",
       "      <td>2018-04-03 20:00:00</td>\n",
       "      <td>False</td>\n",
       "      <td>False</td>\n",
       "    </tr>\n",
       "    <tr>\n",
       "      <th>6</th>\n",
       "      <td>2018-04-02 08:23:21</td>\n",
       "      <td>76144fb2</td>\n",
       "      <td>555.0</td>\n",
       "      <td>Василёк</td>\n",
       "      <td>2018-04-02 11:23:21</td>\n",
       "      <td>2018-04-02 11:00:00</td>\n",
       "      <td>False</td>\n",
       "      <td>False</td>\n",
       "    </tr>\n",
       "    <tr>\n",
       "      <th>7</th>\n",
       "      <td>2018-04-07 00:34:08</td>\n",
       "      <td>76144fb2</td>\n",
       "      <td>286.0</td>\n",
       "      <td>Василёк</td>\n",
       "      <td>2018-04-07 03:34:08</td>\n",
       "      <td>2018-04-07 04:00:00</td>\n",
       "      <td>False</td>\n",
       "      <td>False</td>\n",
       "    </tr>\n",
       "    <tr>\n",
       "      <th>9</th>\n",
       "      <td>2018-04-05 13:19:39</td>\n",
       "      <td>76144fb2</td>\n",
       "      <td>248.0</td>\n",
       "      <td>Василёк</td>\n",
       "      <td>2018-04-05 16:19:39</td>\n",
       "      <td>2018-04-05 16:00:00</td>\n",
       "      <td>False</td>\n",
       "      <td>False</td>\n",
       "    </tr>\n",
       "  </tbody>\n",
       "</table>\n",
       "</div>"
      ],
      "text/plain": [
       "            date_time        id  time_spent     name          local_time  \\\n",
       "0 2018-04-06 16:53:58  76144fb2        98.0  Василёк 2018-04-06 19:53:58   \n",
       "2 2018-04-03 17:28:24  76144fb2       220.0  Василёк 2018-04-03 20:28:24   \n",
       "6 2018-04-02 08:23:21  76144fb2       555.0  Василёк 2018-04-02 11:23:21   \n",
       "7 2018-04-07 00:34:08  76144fb2       286.0  Василёк 2018-04-07 03:34:08   \n",
       "9 2018-04-05 13:19:39  76144fb2       248.0  Василёк 2018-04-05 16:19:39   \n",
       "\n",
       "            date_hour  too_fast  too_slow  \n",
       "0 2018-04-06 20:00:00     False     False  \n",
       "2 2018-04-03 20:00:00     False     False  \n",
       "6 2018-04-02 11:00:00     False     False  \n",
       "7 2018-04-07 04:00:00     False     False  \n",
       "9 2018-04-05 16:00:00     False     False  "
      ]
     },
     "execution_count": 70,
     "metadata": {},
     "output_type": "execute_result"
    }
   ],
   "source": [
    "good_data.head(5)"
   ]
  },
  {
   "cell_type": "markdown",
   "id": "b1b14402",
   "metadata": {},
   "source": [
    "Пора посмотреть, как заезды распределяются внутри сетей. Для этого про каждую АЗС нужно знать следующее: к какой сети она относится и сколько раз в общей сложности на неё заезжали. Для начала создайте таблицу с этой информацией.\n",
    "Выполните следующие шаги:\n",
    "Создайте переменную id_name, которая для каждой АЗС хранит информацию о названии сети и общем числе заездов. Из одинаковых названий сети выбирайте первое. Используйте good_data, чтобы создать новую таблицу.\n",
    "Выведите на экран первые пять строк id_name."
   ]
  },
  {
   "cell_type": "code",
   "execution_count": 71,
   "id": "55e32372",
   "metadata": {},
   "outputs": [
    {
     "data": {
      "text/html": [
       "<div>\n",
       "<style scoped>\n",
       "    .dataframe tbody tr th:only-of-type {\n",
       "        vertical-align: middle;\n",
       "    }\n",
       "\n",
       "    .dataframe tbody tr th {\n",
       "        vertical-align: top;\n",
       "    }\n",
       "\n",
       "    .dataframe thead tr th {\n",
       "        text-align: left;\n",
       "    }\n",
       "\n",
       "    .dataframe thead tr:last-of-type th {\n",
       "        text-align: right;\n",
       "    }\n",
       "</style>\n",
       "<table border=\"1\" class=\"dataframe\">\n",
       "  <thead>\n",
       "    <tr>\n",
       "      <th></th>\n",
       "      <th>first</th>\n",
       "      <th>count</th>\n",
       "    </tr>\n",
       "    <tr>\n",
       "      <th></th>\n",
       "      <th>name</th>\n",
       "      <th>name</th>\n",
       "    </tr>\n",
       "    <tr>\n",
       "      <th>id</th>\n",
       "      <th></th>\n",
       "      <th></th>\n",
       "    </tr>\n",
       "  </thead>\n",
       "  <tbody>\n",
       "    <tr>\n",
       "      <th>00ca1b70</th>\n",
       "      <td>Вероника</td>\n",
       "      <td>131</td>\n",
       "    </tr>\n",
       "    <tr>\n",
       "      <th>0178ce70</th>\n",
       "      <td>Василёк</td>\n",
       "      <td>164</td>\n",
       "    </tr>\n",
       "    <tr>\n",
       "      <th>01abf4e9</th>\n",
       "      <td>Гацания</td>\n",
       "      <td>30</td>\n",
       "    </tr>\n",
       "    <tr>\n",
       "      <th>030a9067</th>\n",
       "      <td>Колокольчик</td>\n",
       "      <td>228</td>\n",
       "    </tr>\n",
       "    <tr>\n",
       "      <th>03740f2d</th>\n",
       "      <td>Василёк</td>\n",
       "      <td>157</td>\n",
       "    </tr>\n",
       "    <tr>\n",
       "      <th>...</th>\n",
       "      <td>...</td>\n",
       "      <td>...</td>\n",
       "    </tr>\n",
       "    <tr>\n",
       "      <th>fb6610be</th>\n",
       "      <td>Колокольчик</td>\n",
       "      <td>426</td>\n",
       "    </tr>\n",
       "    <tr>\n",
       "      <th>fbbd8cc2</th>\n",
       "      <td>Роза</td>\n",
       "      <td>82</td>\n",
       "    </tr>\n",
       "    <tr>\n",
       "      <th>fc4b1b72</th>\n",
       "      <td>Василёк</td>\n",
       "      <td>543</td>\n",
       "    </tr>\n",
       "    <tr>\n",
       "      <th>fea1d1b8</th>\n",
       "      <td>Ромашка</td>\n",
       "      <td>154</td>\n",
       "    </tr>\n",
       "    <tr>\n",
       "      <th>ff0f01d2</th>\n",
       "      <td>Малопа</td>\n",
       "      <td>95</td>\n",
       "    </tr>\n",
       "  </tbody>\n",
       "</table>\n",
       "<p>386 rows × 2 columns</p>\n",
       "</div>"
      ],
      "text/plain": [
       "                first count\n",
       "                 name  name\n",
       "id                         \n",
       "00ca1b70     Вероника   131\n",
       "0178ce70      Василёк   164\n",
       "01abf4e9      Гацания    30\n",
       "030a9067  Колокольчик   228\n",
       "03740f2d      Василёк   157\n",
       "...               ...   ...\n",
       "fb6610be  Колокольчик   426\n",
       "fbbd8cc2         Роза    82\n",
       "fc4b1b72      Василёк   543\n",
       "fea1d1b8      Ромашка   154\n",
       "ff0f01d2       Малопа    95\n",
       "\n",
       "[386 rows x 2 columns]"
      ]
     },
     "execution_count": 71,
     "metadata": {},
     "output_type": "execute_result"
    }
   ],
   "source": [
    "#id_name\n",
    "good_data.pivot_table(index='id',values='name',aggfunc=['first','count'])"
   ]
  },
  {
   "cell_type": "markdown",
   "id": "422fbee0",
   "metadata": {},
   "source": [
    "Облегчите себе анализ и жизнь, избавившись от двухэтажных названий столбцов. Сделайте их одноэтажными и переименуйте.\n",
    "Выполните следующие шаги:\n",
    "Измените названия столбцов в id_name на name и count.\n",
    "Выведите на экран первые пять строк датафрейма, чтобы проверить результат.\n",
    "Подсказка\n",
    "\n",
    "Используйте атрибут columns для переименования столбцов. Вам нужно переименовать первый столбец в name, а второй — в count. Поскольку переименовываются все столбцы, то в списке атрибута будут записаны только новые названия."
   ]
  },
  {
   "cell_type": "code",
   "execution_count": 72,
   "id": "027c0f6f",
   "metadata": {},
   "outputs": [],
   "source": [
    "id_name = good_data.pivot_table(index='id', values='name', aggfunc=['first', 'count'])"
   ]
  },
  {
   "cell_type": "code",
   "execution_count": 73,
   "id": "b4fde0ca",
   "metadata": {},
   "outputs": [],
   "source": [
    "id_name.columns = ['name', 'count']"
   ]
  },
  {
   "cell_type": "code",
   "execution_count": 74,
   "id": "ef517da7",
   "metadata": {},
   "outputs": [
    {
     "data": {
      "text/html": [
       "<div>\n",
       "<style scoped>\n",
       "    .dataframe tbody tr th:only-of-type {\n",
       "        vertical-align: middle;\n",
       "    }\n",
       "\n",
       "    .dataframe tbody tr th {\n",
       "        vertical-align: top;\n",
       "    }\n",
       "\n",
       "    .dataframe thead th {\n",
       "        text-align: right;\n",
       "    }\n",
       "</style>\n",
       "<table border=\"1\" class=\"dataframe\">\n",
       "  <thead>\n",
       "    <tr style=\"text-align: right;\">\n",
       "      <th></th>\n",
       "      <th>name</th>\n",
       "      <th>count</th>\n",
       "    </tr>\n",
       "    <tr>\n",
       "      <th>id</th>\n",
       "      <th></th>\n",
       "      <th></th>\n",
       "    </tr>\n",
       "  </thead>\n",
       "  <tbody>\n",
       "    <tr>\n",
       "      <th>00ca1b70</th>\n",
       "      <td>Вероника</td>\n",
       "      <td>131</td>\n",
       "    </tr>\n",
       "    <tr>\n",
       "      <th>0178ce70</th>\n",
       "      <td>Василёк</td>\n",
       "      <td>164</td>\n",
       "    </tr>\n",
       "    <tr>\n",
       "      <th>01abf4e9</th>\n",
       "      <td>Гацания</td>\n",
       "      <td>30</td>\n",
       "    </tr>\n",
       "    <tr>\n",
       "      <th>030a9067</th>\n",
       "      <td>Колокольчик</td>\n",
       "      <td>228</td>\n",
       "    </tr>\n",
       "    <tr>\n",
       "      <th>03740f2d</th>\n",
       "      <td>Василёк</td>\n",
       "      <td>157</td>\n",
       "    </tr>\n",
       "    <tr>\n",
       "      <th>...</th>\n",
       "      <td>...</td>\n",
       "      <td>...</td>\n",
       "    </tr>\n",
       "    <tr>\n",
       "      <th>fb6610be</th>\n",
       "      <td>Колокольчик</td>\n",
       "      <td>426</td>\n",
       "    </tr>\n",
       "    <tr>\n",
       "      <th>fbbd8cc2</th>\n",
       "      <td>Роза</td>\n",
       "      <td>82</td>\n",
       "    </tr>\n",
       "    <tr>\n",
       "      <th>fc4b1b72</th>\n",
       "      <td>Василёк</td>\n",
       "      <td>543</td>\n",
       "    </tr>\n",
       "    <tr>\n",
       "      <th>fea1d1b8</th>\n",
       "      <td>Ромашка</td>\n",
       "      <td>154</td>\n",
       "    </tr>\n",
       "    <tr>\n",
       "      <th>ff0f01d2</th>\n",
       "      <td>Малопа</td>\n",
       "      <td>95</td>\n",
       "    </tr>\n",
       "  </tbody>\n",
       "</table>\n",
       "<p>386 rows × 2 columns</p>\n",
       "</div>"
      ],
      "text/plain": [
       "                 name  count\n",
       "id                          \n",
       "00ca1b70     Вероника    131\n",
       "0178ce70      Василёк    164\n",
       "01abf4e9      Гацания     30\n",
       "030a9067  Колокольчик    228\n",
       "03740f2d      Василёк    157\n",
       "...               ...    ...\n",
       "fb6610be  Колокольчик    426\n",
       "fbbd8cc2         Роза     82\n",
       "fc4b1b72      Василёк    543\n",
       "fea1d1b8      Ромашка    154\n",
       "ff0f01d2       Малопа     95\n",
       "\n",
       "[386 rows x 2 columns]"
      ]
     },
     "execution_count": 74,
     "metadata": {},
     "output_type": "execute_result"
    }
   ],
   "source": [
    "id_name"
   ]
  },
  {
   "cell_type": "code",
   "execution_count": 75,
   "id": "cbf9469a",
   "metadata": {},
   "outputs": [],
   "source": [
    "station_stat_full = id_name.join(good_stations_stat,on='id')"
   ]
  },
  {
   "cell_type": "code",
   "execution_count": 76,
   "id": "ed30770b",
   "metadata": {},
   "outputs": [
    {
     "data": {
      "text/plain": [
       "<AxesSubplot:>"
      ]
     },
     "execution_count": 76,
     "metadata": {},
     "output_type": "execute_result"
    },
    {
     "data": {
      "image/png": "[encoded data removed]",
      "text/plain": [
       "<Figure size 432x288 with 1 Axes>"
      ]
     },
     "metadata": {
      "needs_background": "light"
     },
     "output_type": "display_data"
    }
   ],
   "source": [
    "station_stat_full['count'].hist(bins=30)"
   ]
  },
  {
   "cell_type": "code",
   "execution_count": 77,
   "id": "a0c488ae",
   "metadata": {},
   "outputs": [
    {
     "data": {
      "text/plain": [
       "<AxesSubplot:>"
      ]
     },
     "execution_count": 77,
     "metadata": {},
     "output_type": "execute_result"
    },
    {
     "data": {
      "image/png": "[encoded data removed]",
      "text/plain": [
       "<Figure size 432x288 with 1 Axes>"
      ]
     },
     "metadata": {
      "needs_background": "light"
     },
     "output_type": "display_data"
    }
   ],
   "source": [
    "station_stat_full['count'].hist(bins = 30, range = (0, 300))"
   ]
  },
  {
   "cell_type": "code",
   "execution_count": 78,
   "id": "335437cd",
   "metadata": {},
   "outputs": [],
   "source": [
    "good_stat2 = station_stat_full.query('count>30').pivot_table(index='name', values='time_spent',aggfunc=['median', 'count'])"
   ]
  },
  {
   "cell_type": "code",
   "execution_count": 79,
   "id": "09978f45",
   "metadata": {},
   "outputs": [
    {
     "data": {
      "text/html": [
       "<div>\n",
       "<style scoped>\n",
       "    .dataframe tbody tr th:only-of-type {\n",
       "        vertical-align: middle;\n",
       "    }\n",
       "\n",
       "    .dataframe tbody tr th {\n",
       "        vertical-align: top;\n",
       "    }\n",
       "\n",
       "    .dataframe thead tr th {\n",
       "        text-align: left;\n",
       "    }\n",
       "\n",
       "    .dataframe thead tr:last-of-type th {\n",
       "        text-align: right;\n",
       "    }\n",
       "</style>\n",
       "<table border=\"1\" class=\"dataframe\">\n",
       "  <thead>\n",
       "    <tr>\n",
       "      <th></th>\n",
       "      <th>median</th>\n",
       "      <th>count</th>\n",
       "    </tr>\n",
       "    <tr>\n",
       "      <th></th>\n",
       "      <th>time_spent</th>\n",
       "      <th>time_spent</th>\n",
       "    </tr>\n",
       "    <tr>\n",
       "      <th>name</th>\n",
       "      <th></th>\n",
       "      <th></th>\n",
       "    </tr>\n",
       "  </thead>\n",
       "  <tbody>\n",
       "    <tr>\n",
       "      <th>Агератум</th>\n",
       "      <td>308.50</td>\n",
       "      <td>3</td>\n",
       "    </tr>\n",
       "    <tr>\n",
       "      <th>Амарант</th>\n",
       "      <td>169.00</td>\n",
       "      <td>5</td>\n",
       "    </tr>\n",
       "    <tr>\n",
       "      <th>Аммобиум</th>\n",
       "      <td>178.75</td>\n",
       "      <td>4</td>\n",
       "    </tr>\n",
       "    <tr>\n",
       "      <th>Арктотис</th>\n",
       "      <td>190.50</td>\n",
       "      <td>3</td>\n",
       "    </tr>\n",
       "    <tr>\n",
       "      <th>Астильба</th>\n",
       "      <td>435.50</td>\n",
       "      <td>4</td>\n",
       "    </tr>\n",
       "    <tr>\n",
       "      <th>Бальзамин</th>\n",
       "      <td>158.00</td>\n",
       "      <td>1</td>\n",
       "    </tr>\n",
       "    <tr>\n",
       "      <th>Бархатцы</th>\n",
       "      <td>181.50</td>\n",
       "      <td>1</td>\n",
       "    </tr>\n",
       "    <tr>\n",
       "      <th>Бегония</th>\n",
       "      <td>190.00</td>\n",
       "      <td>3</td>\n",
       "    </tr>\n",
       "    <tr>\n",
       "      <th>Белоцветник</th>\n",
       "      <td>154.00</td>\n",
       "      <td>1</td>\n",
       "    </tr>\n",
       "    <tr>\n",
       "      <th>Василёк</th>\n",
       "      <td>252.00</td>\n",
       "      <td>103</td>\n",
       "    </tr>\n",
       "    <tr>\n",
       "      <th>Вербена</th>\n",
       "      <td>199.75</td>\n",
       "      <td>6</td>\n",
       "    </tr>\n",
       "    <tr>\n",
       "      <th>Вероника</th>\n",
       "      <td>223.00</td>\n",
       "      <td>5</td>\n",
       "    </tr>\n",
       "    <tr>\n",
       "      <th>Гацания</th>\n",
       "      <td>178.50</td>\n",
       "      <td>1</td>\n",
       "    </tr>\n",
       "    <tr>\n",
       "      <th>Гвоздика</th>\n",
       "      <td>234.75</td>\n",
       "      <td>2</td>\n",
       "    </tr>\n",
       "    <tr>\n",
       "      <th>Гейхера</th>\n",
       "      <td>192.00</td>\n",
       "      <td>12</td>\n",
       "    </tr>\n",
       "    <tr>\n",
       "      <th>Гелихризум</th>\n",
       "      <td>342.00</td>\n",
       "      <td>1</td>\n",
       "    </tr>\n",
       "    <tr>\n",
       "      <th>Георгина</th>\n",
       "      <td>289.00</td>\n",
       "      <td>9</td>\n",
       "    </tr>\n",
       "    <tr>\n",
       "      <th>Диморфотека</th>\n",
       "      <td>230.00</td>\n",
       "      <td>1</td>\n",
       "    </tr>\n",
       "    <tr>\n",
       "      <th>Доротеантус</th>\n",
       "      <td>221.25</td>\n",
       "      <td>6</td>\n",
       "    </tr>\n",
       "    <tr>\n",
       "      <th>Ирис</th>\n",
       "      <td>185.00</td>\n",
       "      <td>1</td>\n",
       "    </tr>\n",
       "    <tr>\n",
       "      <th>Календула</th>\n",
       "      <td>240.00</td>\n",
       "      <td>36</td>\n",
       "    </tr>\n",
       "    <tr>\n",
       "      <th>Колокольчик</th>\n",
       "      <td>161.00</td>\n",
       "      <td>21</td>\n",
       "    </tr>\n",
       "    <tr>\n",
       "      <th>Космос</th>\n",
       "      <td>267.00</td>\n",
       "      <td>1</td>\n",
       "    </tr>\n",
       "    <tr>\n",
       "      <th>Крокус</th>\n",
       "      <td>257.50</td>\n",
       "      <td>1</td>\n",
       "    </tr>\n",
       "    <tr>\n",
       "      <th>Лаватера</th>\n",
       "      <td>280.50</td>\n",
       "      <td>10</td>\n",
       "    </tr>\n",
       "    <tr>\n",
       "      <th>Левкой</th>\n",
       "      <td>174.50</td>\n",
       "      <td>3</td>\n",
       "    </tr>\n",
       "    <tr>\n",
       "      <th>Люпин</th>\n",
       "      <td>200.00</td>\n",
       "      <td>13</td>\n",
       "    </tr>\n",
       "    <tr>\n",
       "      <th>Малопа</th>\n",
       "      <td>221.00</td>\n",
       "      <td>5</td>\n",
       "    </tr>\n",
       "    <tr>\n",
       "      <th>Мальва</th>\n",
       "      <td>177.75</td>\n",
       "      <td>22</td>\n",
       "    </tr>\n",
       "    <tr>\n",
       "      <th>Незабудка</th>\n",
       "      <td>161.00</td>\n",
       "      <td>1</td>\n",
       "    </tr>\n",
       "    <tr>\n",
       "      <th>Немезия</th>\n",
       "      <td>227.50</td>\n",
       "      <td>21</td>\n",
       "    </tr>\n",
       "    <tr>\n",
       "      <th>Петуния</th>\n",
       "      <td>319.50</td>\n",
       "      <td>1</td>\n",
       "    </tr>\n",
       "    <tr>\n",
       "      <th>Пион</th>\n",
       "      <td>180.00</td>\n",
       "      <td>5</td>\n",
       "    </tr>\n",
       "    <tr>\n",
       "      <th>Подснежник</th>\n",
       "      <td>199.00</td>\n",
       "      <td>2</td>\n",
       "    </tr>\n",
       "    <tr>\n",
       "      <th>Роза</th>\n",
       "      <td>350.00</td>\n",
       "      <td>18</td>\n",
       "    </tr>\n",
       "    <tr>\n",
       "      <th>Ромашка</th>\n",
       "      <td>189.00</td>\n",
       "      <td>7</td>\n",
       "    </tr>\n",
       "    <tr>\n",
       "      <th>Тюльпан</th>\n",
       "      <td>188.75</td>\n",
       "      <td>8</td>\n",
       "    </tr>\n",
       "    <tr>\n",
       "      <th>Функия</th>\n",
       "      <td>171.50</td>\n",
       "      <td>1</td>\n",
       "    </tr>\n",
       "    <tr>\n",
       "      <th>Хризантема</th>\n",
       "      <td>188.25</td>\n",
       "      <td>2</td>\n",
       "    </tr>\n",
       "  </tbody>\n",
       "</table>\n",
       "</div>"
      ],
      "text/plain": [
       "                median      count\n",
       "            time_spent time_spent\n",
       "name                             \n",
       "Агератум        308.50          3\n",
       "Амарант         169.00          5\n",
       "Аммобиум        178.75          4\n",
       "Арктотис        190.50          3\n",
       "Астильба        435.50          4\n",
       "Бальзамин       158.00          1\n",
       "Бархатцы        181.50          1\n",
       "Бегония         190.00          3\n",
       "Белоцветник     154.00          1\n",
       "Василёк         252.00        103\n",
       "Вербена         199.75          6\n",
       "Вероника        223.00          5\n",
       "Гацания         178.50          1\n",
       "Гвоздика        234.75          2\n",
       "Гейхера         192.00         12\n",
       "Гелихризум      342.00          1\n",
       "Георгина        289.00          9\n",
       "Диморфотека     230.00          1\n",
       "Доротеантус     221.25          6\n",
       "Ирис            185.00          1\n",
       "Календула       240.00         36\n",
       "Колокольчик     161.00         21\n",
       "Космос          267.00          1\n",
       "Крокус          257.50          1\n",
       "Лаватера        280.50         10\n",
       "Левкой          174.50          3\n",
       "Люпин           200.00         13\n",
       "Малопа          221.00          5\n",
       "Мальва          177.75         22\n",
       "Незабудка       161.00          1\n",
       "Немезия         227.50         21\n",
       "Петуния         319.50          1\n",
       "Пион            180.00          5\n",
       "Подснежник      199.00          2\n",
       "Роза            350.00         18\n",
       "Ромашка         189.00          7\n",
       "Тюльпан         188.75          8\n",
       "Функия          171.50          1\n",
       "Хризантема      188.25          2"
      ]
     },
     "execution_count": 79,
     "metadata": {},
     "output_type": "execute_result"
    }
   ],
   "source": [
    "good_stat2"
   ]
  },
  {
   "cell_type": "code",
   "execution_count": 80,
   "id": "8c8375c0",
   "metadata": {},
   "outputs": [],
   "source": [
    "good_stat2.columns = ['median_time', 'stations']"
   ]
  },
  {
   "cell_type": "code",
   "execution_count": 81,
   "id": "2fd5f92a",
   "metadata": {},
   "outputs": [],
   "source": [
    "final_stat = stat.join(good_stat2)"
   ]
  },
  {
   "cell_type": "code",
   "execution_count": 83,
   "id": "219910ce",
   "metadata": {},
   "outputs": [
    {
     "data": {
      "text/html": [
       "<div>\n",
       "<style scoped>\n",
       "    .dataframe tbody tr th:only-of-type {\n",
       "        vertical-align: middle;\n",
       "    }\n",
       "\n",
       "    .dataframe tbody tr th {\n",
       "        vertical-align: top;\n",
       "    }\n",
       "\n",
       "    .dataframe thead th {\n",
       "        text-align: right;\n",
       "    }\n",
       "</style>\n",
       "<table border=\"1\" class=\"dataframe\">\n",
       "  <thead>\n",
       "    <tr style=\"text-align: right;\">\n",
       "      <th></th>\n",
       "      <th>time_spent</th>\n",
       "      <th>good_time_spent</th>\n",
       "      <th>median_time</th>\n",
       "      <th>stations</th>\n",
       "    </tr>\n",
       "    <tr>\n",
       "      <th>name</th>\n",
       "      <th></th>\n",
       "      <th></th>\n",
       "      <th></th>\n",
       "      <th></th>\n",
       "    </tr>\n",
       "  </thead>\n",
       "  <tbody>\n",
       "    <tr>\n",
       "      <th>Агератум</th>\n",
       "      <td>337.802721</td>\n",
       "      <td>309.0</td>\n",
       "      <td>308.50</td>\n",
       "      <td>3.0</td>\n",
       "    </tr>\n",
       "    <tr>\n",
       "      <th>Амарант</th>\n",
       "      <td>132.760012</td>\n",
       "      <td>187.5</td>\n",
       "      <td>169.00</td>\n",
       "      <td>5.0</td>\n",
       "    </tr>\n",
       "    <tr>\n",
       "      <th>Аммобиум</th>\n",
       "      <td>256.708042</td>\n",
       "      <td>180.5</td>\n",
       "      <td>178.75</td>\n",
       "      <td>4.0</td>\n",
       "    </tr>\n",
       "    <tr>\n",
       "      <th>Арктотис</th>\n",
       "      <td>73.879984</td>\n",
       "      <td>185.0</td>\n",
       "      <td>190.50</td>\n",
       "      <td>3.0</td>\n",
       "    </tr>\n",
       "    <tr>\n",
       "      <th>Астильба</th>\n",
       "      <td>376.143149</td>\n",
       "      <td>423.0</td>\n",
       "      <td>435.50</td>\n",
       "      <td>4.0</td>\n",
       "    </tr>\n",
       "    <tr>\n",
       "      <th>Бальзамин</th>\n",
       "      <td>134.508411</td>\n",
       "      <td>158.0</td>\n",
       "      <td>158.00</td>\n",
       "      <td>1.0</td>\n",
       "    </tr>\n",
       "    <tr>\n",
       "      <th>Бархатцы</th>\n",
       "      <td>145.300328</td>\n",
       "      <td>181.5</td>\n",
       "      <td>181.50</td>\n",
       "      <td>1.0</td>\n",
       "    </tr>\n",
       "    <tr>\n",
       "      <th>Бегония</th>\n",
       "      <td>163.200647</td>\n",
       "      <td>195.0</td>\n",
       "      <td>190.00</td>\n",
       "      <td>3.0</td>\n",
       "    </tr>\n",
       "    <tr>\n",
       "      <th>Белоцветник</th>\n",
       "      <td>100.818966</td>\n",
       "      <td>154.0</td>\n",
       "      <td>154.00</td>\n",
       "      <td>1.0</td>\n",
       "    </tr>\n",
       "    <tr>\n",
       "      <th>Василёк</th>\n",
       "      <td>268.849897</td>\n",
       "      <td>264.0</td>\n",
       "      <td>252.00</td>\n",
       "      <td>103.0</td>\n",
       "    </tr>\n",
       "    <tr>\n",
       "      <th>Вербена</th>\n",
       "      <td>190.016594</td>\n",
       "      <td>199.0</td>\n",
       "      <td>199.75</td>\n",
       "      <td>6.0</td>\n",
       "    </tr>\n",
       "    <tr>\n",
       "      <th>Вероника</th>\n",
       "      <td>220.019402</td>\n",
       "      <td>212.0</td>\n",
       "      <td>223.00</td>\n",
       "      <td>5.0</td>\n",
       "    </tr>\n",
       "    <tr>\n",
       "      <th>Гацания</th>\n",
       "      <td>160.685185</td>\n",
       "      <td>178.5</td>\n",
       "      <td>178.50</td>\n",
       "      <td>1.0</td>\n",
       "    </tr>\n",
       "    <tr>\n",
       "      <th>Гвоздика</th>\n",
       "      <td>294.317308</td>\n",
       "      <td>229.0</td>\n",
       "      <td>234.75</td>\n",
       "      <td>2.0</td>\n",
       "    </tr>\n",
       "    <tr>\n",
       "      <th>Гейхера</th>\n",
       "      <td>167.445947</td>\n",
       "      <td>204.0</td>\n",
       "      <td>192.00</td>\n",
       "      <td>12.0</td>\n",
       "    </tr>\n",
       "    <tr>\n",
       "      <th>Гелихризум</th>\n",
       "      <td>290.138643</td>\n",
       "      <td>342.0</td>\n",
       "      <td>342.00</td>\n",
       "      <td>1.0</td>\n",
       "    </tr>\n",
       "    <tr>\n",
       "      <th>Георгина</th>\n",
       "      <td>166.615555</td>\n",
       "      <td>279.0</td>\n",
       "      <td>289.00</td>\n",
       "      <td>9.0</td>\n",
       "    </tr>\n",
       "    <tr>\n",
       "      <th>Годеция</th>\n",
       "      <td>113.958333</td>\n",
       "      <td>NaN</td>\n",
       "      <td>NaN</td>\n",
       "      <td>NaN</td>\n",
       "    </tr>\n",
       "    <tr>\n",
       "      <th>Диморфотека</th>\n",
       "      <td>406.161017</td>\n",
       "      <td>224.0</td>\n",
       "      <td>230.00</td>\n",
       "      <td>1.0</td>\n",
       "    </tr>\n",
       "    <tr>\n",
       "      <th>Доротеантус</th>\n",
       "      <td>263.568916</td>\n",
       "      <td>220.0</td>\n",
       "      <td>221.25</td>\n",
       "      <td>6.0</td>\n",
       "    </tr>\n",
       "    <tr>\n",
       "      <th>Ирис</th>\n",
       "      <td>179.931159</td>\n",
       "      <td>185.0</td>\n",
       "      <td>185.00</td>\n",
       "      <td>1.0</td>\n",
       "    </tr>\n",
       "    <tr>\n",
       "      <th>Календула</th>\n",
       "      <td>207.357323</td>\n",
       "      <td>254.0</td>\n",
       "      <td>240.00</td>\n",
       "      <td>36.0</td>\n",
       "    </tr>\n",
       "    <tr>\n",
       "      <th>Колокольчик</th>\n",
       "      <td>119.131564</td>\n",
       "      <td>161.0</td>\n",
       "      <td>161.00</td>\n",
       "      <td>21.0</td>\n",
       "    </tr>\n",
       "    <tr>\n",
       "      <th>Космос</th>\n",
       "      <td>164.867797</td>\n",
       "      <td>267.0</td>\n",
       "      <td>267.00</td>\n",
       "      <td>1.0</td>\n",
       "    </tr>\n",
       "    <tr>\n",
       "      <th>Крокус</th>\n",
       "      <td>349.031746</td>\n",
       "      <td>257.5</td>\n",
       "      <td>257.50</td>\n",
       "      <td>1.0</td>\n",
       "    </tr>\n",
       "    <tr>\n",
       "      <th>Лаватера</th>\n",
       "      <td>249.992844</td>\n",
       "      <td>282.0</td>\n",
       "      <td>280.50</td>\n",
       "      <td>10.0</td>\n",
       "    </tr>\n",
       "    <tr>\n",
       "      <th>Левкой</th>\n",
       "      <td>187.465606</td>\n",
       "      <td>212.5</td>\n",
       "      <td>174.50</td>\n",
       "      <td>3.0</td>\n",
       "    </tr>\n",
       "    <tr>\n",
       "      <th>Лобулярия</th>\n",
       "      <td>96.834350</td>\n",
       "      <td>NaN</td>\n",
       "      <td>NaN</td>\n",
       "      <td>NaN</td>\n",
       "    </tr>\n",
       "    <tr>\n",
       "      <th>Люпин</th>\n",
       "      <td>235.440937</td>\n",
       "      <td>186.0</td>\n",
       "      <td>200.00</td>\n",
       "      <td>13.0</td>\n",
       "    </tr>\n",
       "    <tr>\n",
       "      <th>Малопа</th>\n",
       "      <td>76.070543</td>\n",
       "      <td>229.0</td>\n",
       "      <td>221.00</td>\n",
       "      <td>5.0</td>\n",
       "    </tr>\n",
       "    <tr>\n",
       "      <th>Мальва</th>\n",
       "      <td>136.562234</td>\n",
       "      <td>182.0</td>\n",
       "      <td>177.75</td>\n",
       "      <td>22.0</td>\n",
       "    </tr>\n",
       "    <tr>\n",
       "      <th>Нарцисс</th>\n",
       "      <td>68.166758</td>\n",
       "      <td>NaN</td>\n",
       "      <td>NaN</td>\n",
       "      <td>NaN</td>\n",
       "    </tr>\n",
       "    <tr>\n",
       "      <th>Настурция</th>\n",
       "      <td>154.859694</td>\n",
       "      <td>NaN</td>\n",
       "      <td>NaN</td>\n",
       "      <td>NaN</td>\n",
       "    </tr>\n",
       "    <tr>\n",
       "      <th>Незабудка</th>\n",
       "      <td>120.362398</td>\n",
       "      <td>161.0</td>\n",
       "      <td>161.00</td>\n",
       "      <td>1.0</td>\n",
       "    </tr>\n",
       "    <tr>\n",
       "      <th>Немезия</th>\n",
       "      <td>186.535207</td>\n",
       "      <td>226.0</td>\n",
       "      <td>227.50</td>\n",
       "      <td>21.0</td>\n",
       "    </tr>\n",
       "    <tr>\n",
       "      <th>Обриета</th>\n",
       "      <td>141.777778</td>\n",
       "      <td>167.0</td>\n",
       "      <td>NaN</td>\n",
       "      <td>NaN</td>\n",
       "    </tr>\n",
       "    <tr>\n",
       "      <th>Петуния</th>\n",
       "      <td>265.780822</td>\n",
       "      <td>319.5</td>\n",
       "      <td>319.50</td>\n",
       "      <td>1.0</td>\n",
       "    </tr>\n",
       "    <tr>\n",
       "      <th>Пион</th>\n",
       "      <td>222.565523</td>\n",
       "      <td>180.5</td>\n",
       "      <td>180.00</td>\n",
       "      <td>5.0</td>\n",
       "    </tr>\n",
       "    <tr>\n",
       "      <th>Подснежник</th>\n",
       "      <td>180.286207</td>\n",
       "      <td>218.5</td>\n",
       "      <td>199.00</td>\n",
       "      <td>2.0</td>\n",
       "    </tr>\n",
       "    <tr>\n",
       "      <th>Роза</th>\n",
       "      <td>260.877217</td>\n",
       "      <td>315.0</td>\n",
       "      <td>350.00</td>\n",
       "      <td>18.0</td>\n",
       "    </tr>\n",
       "    <tr>\n",
       "      <th>Ромашка</th>\n",
       "      <td>231.389365</td>\n",
       "      <td>191.0</td>\n",
       "      <td>189.00</td>\n",
       "      <td>7.0</td>\n",
       "    </tr>\n",
       "    <tr>\n",
       "      <th>Тюльпан</th>\n",
       "      <td>187.832210</td>\n",
       "      <td>190.0</td>\n",
       "      <td>188.75</td>\n",
       "      <td>8.0</td>\n",
       "    </tr>\n",
       "    <tr>\n",
       "      <th>Фасоль</th>\n",
       "      <td>133.631957</td>\n",
       "      <td>NaN</td>\n",
       "      <td>NaN</td>\n",
       "      <td>NaN</td>\n",
       "    </tr>\n",
       "    <tr>\n",
       "      <th>Функия</th>\n",
       "      <td>302.494737</td>\n",
       "      <td>171.5</td>\n",
       "      <td>171.50</td>\n",
       "      <td>1.0</td>\n",
       "    </tr>\n",
       "    <tr>\n",
       "      <th>Хризантема</th>\n",
       "      <td>195.738710</td>\n",
       "      <td>188.0</td>\n",
       "      <td>188.25</td>\n",
       "      <td>2.0</td>\n",
       "    </tr>\n",
       "  </tbody>\n",
       "</table>\n",
       "</div>"
      ],
      "text/plain": [
       "             time_spent  good_time_spent  median_time  stations\n",
       "name                                                           \n",
       "Агератум     337.802721            309.0       308.50       3.0\n",
       "Амарант      132.760012            187.5       169.00       5.0\n",
       "Аммобиум     256.708042            180.5       178.75       4.0\n",
       "Арктотис      73.879984            185.0       190.50       3.0\n",
       "Астильба     376.143149            423.0       435.50       4.0\n",
       "Бальзамин    134.508411            158.0       158.00       1.0\n",
       "Бархатцы     145.300328            181.5       181.50       1.0\n",
       "Бегония      163.200647            195.0       190.00       3.0\n",
       "Белоцветник  100.818966            154.0       154.00       1.0\n",
       "Василёк      268.849897            264.0       252.00     103.0\n",
       "Вербена      190.016594            199.0       199.75       6.0\n",
       "Вероника     220.019402            212.0       223.00       5.0\n",
       "Гацания      160.685185            178.5       178.50       1.0\n",
       "Гвоздика     294.317308            229.0       234.75       2.0\n",
       "Гейхера      167.445947            204.0       192.00      12.0\n",
       "Гелихризум   290.138643            342.0       342.00       1.0\n",
       "Георгина     166.615555            279.0       289.00       9.0\n",
       "Годеция      113.958333              NaN          NaN       NaN\n",
       "Диморфотека  406.161017            224.0       230.00       1.0\n",
       "Доротеантус  263.568916            220.0       221.25       6.0\n",
       "Ирис         179.931159            185.0       185.00       1.0\n",
       "Календула    207.357323            254.0       240.00      36.0\n",
       "Колокольчик  119.131564            161.0       161.00      21.0\n",
       "Космос       164.867797            267.0       267.00       1.0\n",
       "Крокус       349.031746            257.5       257.50       1.0\n",
       "Лаватера     249.992844            282.0       280.50      10.0\n",
       "Левкой       187.465606            212.5       174.50       3.0\n",
       "Лобулярия     96.834350              NaN          NaN       NaN\n",
       "Люпин        235.440937            186.0       200.00      13.0\n",
       "Малопа        76.070543            229.0       221.00       5.0\n",
       "Мальва       136.562234            182.0       177.75      22.0\n",
       "Нарцисс       68.166758              NaN          NaN       NaN\n",
       "Настурция    154.859694              NaN          NaN       NaN\n",
       "Незабудка    120.362398            161.0       161.00       1.0\n",
       "Немезия      186.535207            226.0       227.50      21.0\n",
       "Обриета      141.777778            167.0          NaN       NaN\n",
       "Петуния      265.780822            319.5       319.50       1.0\n",
       "Пион         222.565523            180.5       180.00       5.0\n",
       "Подснежник   180.286207            218.5       199.00       2.0\n",
       "Роза         260.877217            315.0       350.00      18.0\n",
       "Ромашка      231.389365            191.0       189.00       7.0\n",
       "Тюльпан      187.832210            190.0       188.75       8.0\n",
       "Фасоль       133.631957              NaN          NaN       NaN\n",
       "Функия       302.494737            171.5       171.50       1.0\n",
       "Хризантема   195.738710            188.0       188.25       2.0"
      ]
     },
     "execution_count": 83,
     "metadata": {},
     "output_type": "execute_result"
    }
   ],
   "source": [
    "final_stat"
   ]
  },
  {
   "cell_type": "markdown",
   "id": "114128ba",
   "metadata": {},
   "source": [
    "Постройте график по данным из station_stat_full, где для каждой АЗС будет отдельная точка: по горизонтальной оси — число заездов на АЗС, по вертикальной — медианное время заправки. Добавьте линии сетки."
   ]
  },
  {
   "cell_type": "code",
   "execution_count": 84,
   "id": "e8a18c99",
   "metadata": {},
   "outputs": [
    {
     "data": {
      "text/html": [
       "<div>\n",
       "<style scoped>\n",
       "    .dataframe tbody tr th:only-of-type {\n",
       "        vertical-align: middle;\n",
       "    }\n",
       "\n",
       "    .dataframe tbody tr th {\n",
       "        vertical-align: top;\n",
       "    }\n",
       "\n",
       "    .dataframe thead th {\n",
       "        text-align: right;\n",
       "    }\n",
       "</style>\n",
       "<table border=\"1\" class=\"dataframe\">\n",
       "  <thead>\n",
       "    <tr style=\"text-align: right;\">\n",
       "      <th></th>\n",
       "      <th>name</th>\n",
       "      <th>count</th>\n",
       "      <th>time_spent</th>\n",
       "    </tr>\n",
       "    <tr>\n",
       "      <th>id</th>\n",
       "      <th></th>\n",
       "      <th></th>\n",
       "      <th></th>\n",
       "    </tr>\n",
       "  </thead>\n",
       "  <tbody>\n",
       "    <tr>\n",
       "      <th>00ca1b70</th>\n",
       "      <td>Вероника</td>\n",
       "      <td>131</td>\n",
       "      <td>166.0</td>\n",
       "    </tr>\n",
       "    <tr>\n",
       "      <th>0178ce70</th>\n",
       "      <td>Василёк</td>\n",
       "      <td>164</td>\n",
       "      <td>234.5</td>\n",
       "    </tr>\n",
       "    <tr>\n",
       "      <th>01abf4e9</th>\n",
       "      <td>Гацания</td>\n",
       "      <td>30</td>\n",
       "      <td>181.5</td>\n",
       "    </tr>\n",
       "    <tr>\n",
       "      <th>030a9067</th>\n",
       "      <td>Колокольчик</td>\n",
       "      <td>228</td>\n",
       "      <td>135.5</td>\n",
       "    </tr>\n",
       "    <tr>\n",
       "      <th>03740f2d</th>\n",
       "      <td>Василёк</td>\n",
       "      <td>157</td>\n",
       "      <td>289.0</td>\n",
       "    </tr>\n",
       "  </tbody>\n",
       "</table>\n",
       "</div>"
      ],
      "text/plain": [
       "                 name  count  time_spent\n",
       "id                                      \n",
       "00ca1b70     Вероника    131       166.0\n",
       "0178ce70      Василёк    164       234.5\n",
       "01abf4e9      Гацания     30       181.5\n",
       "030a9067  Колокольчик    228       135.5\n",
       "03740f2d      Василёк    157       289.0"
      ]
     },
     "execution_count": 84,
     "metadata": {},
     "output_type": "execute_result"
    }
   ],
   "source": [
    "#hw.plot(x='height', y='weight', kind='scatter')\n",
    "station_stat_full.head()"
   ]
  },
  {
   "cell_type": "code",
   "execution_count": 90,
   "id": "05d1cf43",
   "metadata": {},
   "outputs": [
    {
     "data": {
      "text/plain": [
       "<AxesSubplot:xlabel='count', ylabel='time_spent'>"
      ]
     },
     "execution_count": 90,
     "metadata": {},
     "output_type": "execute_result"
    },
    {
     "data": {
      "image/png": "[encoded data removed]",
      "text/plain": [
       "<Figure size 432x288 with 1 Axes>"
      ]
     },
     "metadata": {
      "needs_background": "light"
     },
     "output_type": "display_data"
    }
   ],
   "source": [
    "station_stat_full.plot(x='count',y='time_spent',kind='scatter',grid=True,alpha=0.08)"
   ]
  },
  {
   "cell_type": "markdown",
   "id": "8d714668",
   "metadata": {},
   "source": [
    "Когда точек много и каждая в отдельности не интересна, данные отображают особым способом. График делят на ячейки; пересчитывают точки в каждой ячейке. Затем ячейки заливают цветом: чем больше точек — тем цвет гуще. \n",
    "Такой тип графика задают через параметр kind, ему присваивают значение hexbin (от англ. hexagonal binning plot — «график, поделённый на шестиугольные области»). \n",
    "Число ячеек по горизонтальной оси задают параметром gridsize (от англ. size of a grid — «размер сетки»), аналогом bins для hist(). \n",
    "Языки программирования придуманы людьми, поэтому неидеальны. Бывает, при столкновении с багами приходится ставить «костыли». Здесь это параметр sharex=False. Если значение True, то пропадёт подпись оси Х, а без sharex график выйдет неказистым — это «костыльный» обход бага библиотеки pandas.\n",
    "hw.plot(x='height', y='weight', kind='hexbin', gridsize=20, figsize=(8, 6), sharex=False, grid=True) \n"
   ]
  },
  {
   "cell_type": "markdown",
   "id": "fd48a9f0",
   "metadata": {},
   "source": [
    "Но как оценить численно, насколько тесна взаимосвязь? Для этого находят коэффициент корреляции Пирсона. Он помогает определить наличие линейной связи между величинами и принимает значения от -1 до 1. \n",
    "Если с ростом первой величины растёт вторая, то коэффициент корреляции Пирсона — положительный. \n",
    "Если при изменении одной величины другая остаётся прежней, то коэффициент равен 0.\n",
    "Если рост одной величины связан с уменьшением другой, коэффициент отрицательный. \n",
    "Чем ближе коэффициент корреляции Пирсона к крайним значениям 1 или -1, тем теснее линейная взаимосвязь. Если значение близко к нулю, значит, линейная связь слабая либо отсутствует вовсе. Бывает, что коэффициент нулевой не потому, что связи между значениями нет, а из-за того, что у неё более сложный, не линейный характер. Потому-то коэффициент корреляции такую связь не берёт. "
   ]
  },
  {
   "cell_type": "markdown",
   "id": "ce497ad1",
   "metadata": {},
   "source": [
    "Коэффициент Пирсона находят методом corr() (от англ. correlation — «корреляция»). Метод применяют к столбцу с первой величиной, а столбец со второй передают в параметре. Какая первая, а какая вторая — неважно:\n",
    "\n",
    "\n",
    "### (hw['height'].corr(hw['weight']))\n",
    "\n",
    "\n",
    "print(hw['weight'].corr(hw['height'])) # поменяли местами рост и вес "
   ]
  },
  {
   "cell_type": "code",
   "execution_count": 91,
   "id": "7c13f222",
   "metadata": {},
   "outputs": [
    {
     "name": "stdout",
     "output_type": "stream",
     "text": [
      "0.12242632473597156\n"
     ]
    }
   ],
   "source": [
    "#По данным из таблицы station_stat_full посчитайте коэффициент корреляции Пирсона \n",
    "#между числом заездов на АЗС и временем заправки.\n",
    "#Коэффициент выведите на экран.\n",
    "print(station_stat_full['count'].corr(station_stat_full['time_spent']))"
   ]
  },
  {
   "cell_type": "code",
   "execution_count": null,
   "id": "02f7d070",
   "metadata": {},
   "outputs": [],
   "source": []
  }
 ],
 "metadata": {
  "kernelspec": {
   "display_name": "Python 3",
   "language": "python",
   "name": "python3"
  },
  "language_info": {
   "codemirror_mode": {
    "name": "ipython",
    "version": 3
   },
   "file_extension": ".py",
   "mimetype": "text/x-python",
   "name": "python",
   "nbconvert_exporter": "python",
   "pygments_lexer": "ipython3",
   "version": "3.8.8"
  }
 },
 "nbformat": 4,
 "nbformat_minor": 5
}
