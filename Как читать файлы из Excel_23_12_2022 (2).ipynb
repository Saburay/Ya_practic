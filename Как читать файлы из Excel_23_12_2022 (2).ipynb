{
 "cells": [
  {
   "cell_type": "code",
   "execution_count": 28,
   "id": "cac88e16",
   "metadata": {},
   "outputs": [],
   "source": [
    "import pandas as pd"
   ]
  },
  {
   "cell_type": "markdown",
   "id": "cd0a24fd",
   "metadata": {},
   "source": [
    "[Перевод строковых значений в числа](#str_to_num)"
   ]
  },
  {
   "cell_type": "markdown",
   "id": "cdeaa93f",
   "metadata": {},
   "source": [
    "[Методы Pandas для работы с датой и временем](#D_T)"
   ]
  },
  {
   "cell_type": "markdown",
   "id": "fa892264",
   "metadata": {},
   "source": [
    "[Обработка ошибок try-except](#try_except)"
   ]
  },
  {
   "cell_type": "markdown",
   "id": "41ff46d6",
   "metadata": {},
   "source": [
    "[Сводные таблицы](#pivot_table)"
   ]
  },
  {
   "cell_type": "markdown",
   "id": "56b6ad0a",
   "metadata": {},
   "source": [
    "[Лаборатория ручного поиска дубликатов](#dupl)"
   ]
  },
  {
   "cell_type": "markdown",
   "id": "0a79df38",
   "metadata": {},
   "source": [
    "«Определить, какие товарные категории и подкатегории на сайте представлены в поисковиках хуже всего» \n"
   ]
  },
  {
   "cell_type": "code",
   "execution_count": 29,
   "id": "7381ad18",
   "metadata": {},
   "outputs": [],
   "source": [
    "data = pd.read_excel('seo_data.xlsx',sheet_name='traffic_data')"
   ]
  },
  {
   "cell_type": "code",
   "execution_count": 30,
   "id": "27c2c251",
   "metadata": {},
   "outputs": [
    {
     "name": "stdout",
     "output_type": "stream",
     "text": [
      "<class 'pandas.core.frame.DataFrame'>\n",
      "RangeIndex: 1930 entries, 0 to 1929\n",
      "Data columns (total 4 columns):\n",
      " #   Column          Non-Null Count  Dtype  \n",
      "---  ------          --------------  -----  \n",
      " 0   subcategory_id  1930 non-null   object \n",
      " 1   source          1930 non-null   object \n",
      " 2   visits          1930 non-null   object \n",
      " 3   Unnamed: 3      0 non-null      float64\n",
      "dtypes: float64(1), object(3)\n",
      "memory usage: 60.4+ KB\n"
     ]
    },
    {
     "data": {
      "text/plain": [
       "None"
      ]
     },
     "metadata": {},
     "output_type": "display_data"
    },
    {
     "data": {
      "text/html": [
       "<div>\n",
       "<style scoped>\n",
       "    .dataframe tbody tr th:only-of-type {\n",
       "        vertical-align: middle;\n",
       "    }\n",
       "\n",
       "    .dataframe tbody tr th {\n",
       "        vertical-align: top;\n",
       "    }\n",
       "\n",
       "    .dataframe thead th {\n",
       "        text-align: right;\n",
       "    }\n",
       "</style>\n",
       "<table border=\"1\" class=\"dataframe\">\n",
       "  <thead>\n",
       "    <tr style=\"text-align: right;\">\n",
       "      <th></th>\n",
       "      <th>subcategory_id</th>\n",
       "      <th>source</th>\n",
       "      <th>visits</th>\n",
       "      <th>Unnamed: 3</th>\n",
       "    </tr>\n",
       "  </thead>\n",
       "  <tbody>\n",
       "    <tr>\n",
       "      <th>1920</th>\n",
       "      <td>657ad4152e</td>\n",
       "      <td>organic</td>\n",
       "      <td>24.748969</td>\n",
       "      <td>NaN</td>\n",
       "    </tr>\n",
       "    <tr>\n",
       "      <th>1921</th>\n",
       "      <td>ee2093ef96</td>\n",
       "      <td>organic</td>\n",
       "      <td>24.468693</td>\n",
       "      <td>NaN</td>\n",
       "    </tr>\n",
       "    <tr>\n",
       "      <th>1922</th>\n",
       "      <td>94f5224c98</td>\n",
       "      <td>organic</td>\n",
       "      <td>24.433584</td>\n",
       "      <td>NaN</td>\n",
       "    </tr>\n",
       "    <tr>\n",
       "      <th>1923</th>\n",
       "      <td>3f7f42af50</td>\n",
       "      <td>organic</td>\n",
       "      <td>21.544606</td>\n",
       "      <td>NaN</td>\n",
       "    </tr>\n",
       "    <tr>\n",
       "      <th>1924</th>\n",
       "      <td>779e246861</td>\n",
       "      <td>organic</td>\n",
       "      <td>15.813045</td>\n",
       "      <td>NaN</td>\n",
       "    </tr>\n",
       "    <tr>\n",
       "      <th>1925</th>\n",
       "      <td>c51343bf77</td>\n",
       "      <td>organic</td>\n",
       "      <td>15.640773</td>\n",
       "      <td>NaN</td>\n",
       "    </tr>\n",
       "    <tr>\n",
       "      <th>1926</th>\n",
       "      <td>d942687638</td>\n",
       "      <td>organic</td>\n",
       "      <td>13.87554</td>\n",
       "      <td>NaN</td>\n",
       "    </tr>\n",
       "    <tr>\n",
       "      <th>1927</th>\n",
       "      <td>976642886f</td>\n",
       "      <td>organic</td>\n",
       "      <td>9.204211</td>\n",
       "      <td>NaN</td>\n",
       "    </tr>\n",
       "    <tr>\n",
       "      <th>1928</th>\n",
       "      <td>075994491e</td>\n",
       "      <td>organic</td>\n",
       "      <td>4.606261</td>\n",
       "      <td>NaN</td>\n",
       "    </tr>\n",
       "    <tr>\n",
       "      <th>1929</th>\n",
       "      <td>total</td>\n",
       "      <td>organic</td>\n",
       "      <td>\"5687882\"</td>\n",
       "      <td>NaN</td>\n",
       "    </tr>\n",
       "  </tbody>\n",
       "</table>\n",
       "</div>"
      ],
      "text/plain": [
       "     subcategory_id   source     visits  Unnamed: 3\n",
       "1920     657ad4152e  organic  24.748969         NaN\n",
       "1921     ee2093ef96  organic  24.468693         NaN\n",
       "1922     94f5224c98  organic  24.433584         NaN\n",
       "1923     3f7f42af50  organic  21.544606         NaN\n",
       "1924     779e246861  organic  15.813045         NaN\n",
       "1925     c51343bf77  organic  15.640773         NaN\n",
       "1926     d942687638  organic   13.87554         NaN\n",
       "1927     976642886f  organic   9.204211         NaN\n",
       "1928     075994491e  organic   4.606261         NaN\n",
       "1929          total  organic  \"5687882\"         NaN"
      ]
     },
     "execution_count": 30,
     "metadata": {},
     "output_type": "execute_result"
    }
   ],
   "source": [
    "display(data.info())\n",
    "data.tail(10)"
   ]
  },
  {
   "cell_type": "code",
   "execution_count": 31,
   "id": "22c07d29",
   "metadata": {},
   "outputs": [
    {
     "data": {
      "text/plain": [
       "array(['direct', 'organic'], dtype=object)"
      ]
     },
     "execution_count": 31,
     "metadata": {},
     "output_type": "execute_result"
    }
   ],
   "source": [
    "data['source'].unique()"
   ]
  },
  {
   "cell_type": "code",
   "execution_count": 32,
   "id": "675947d0",
   "metadata": {},
   "outputs": [],
   "source": [
    "subcategory_dict = pd.read_excel('seo_data.xlsx',sheet_name= 'subcategory_ids')"
   ]
  },
  {
   "cell_type": "code",
   "execution_count": 33,
   "id": "d3af50b6",
   "metadata": {},
   "outputs": [
    {
     "data": {
      "text/html": [
       "<div>\n",
       "<style scoped>\n",
       "    .dataframe tbody tr th:only-of-type {\n",
       "        vertical-align: middle;\n",
       "    }\n",
       "\n",
       "    .dataframe tbody tr th {\n",
       "        vertical-align: top;\n",
       "    }\n",
       "\n",
       "    .dataframe thead th {\n",
       "        text-align: right;\n",
       "    }\n",
       "</style>\n",
       "<table border=\"1\" class=\"dataframe\">\n",
       "  <thead>\n",
       "    <tr style=\"text-align: right;\">\n",
       "      <th></th>\n",
       "      <th>subcategory_id</th>\n",
       "      <th>subcategory_name</th>\n",
       "      <th>category_id</th>\n",
       "    </tr>\n",
       "  </thead>\n",
       "  <tbody>\n",
       "    <tr>\n",
       "      <th>0</th>\n",
       "      <td>cf2e61c7af</td>\n",
       "      <td>Мобильные телефоны</td>\n",
       "      <td>09f279a643</td>\n",
       "    </tr>\n",
       "    <tr>\n",
       "      <th>1</th>\n",
       "      <td>0cd903d1cc</td>\n",
       "      <td>Ноутбуки</td>\n",
       "      <td>3509869a61</td>\n",
       "    </tr>\n",
       "    <tr>\n",
       "      <th>2</th>\n",
       "      <td>ef35bc88a7</td>\n",
       "      <td>Телевизоры</td>\n",
       "      <td>09f279a643</td>\n",
       "    </tr>\n",
       "    <tr>\n",
       "      <th>3</th>\n",
       "      <td>6ff9f4014c</td>\n",
       "      <td>Планшеты</td>\n",
       "      <td>3509869a61</td>\n",
       "    </tr>\n",
       "    <tr>\n",
       "      <th>4</th>\n",
       "      <td>72bc238e4d</td>\n",
       "      <td>Наушники и Bluetooth-гарнитуры</td>\n",
       "      <td>09f279a643</td>\n",
       "    </tr>\n",
       "    <tr>\n",
       "      <th>5</th>\n",
       "      <td>88c78ea685</td>\n",
       "      <td>Шины</td>\n",
       "      <td>65922fa39c</td>\n",
       "    </tr>\n",
       "    <tr>\n",
       "      <th>6</th>\n",
       "      <td>179bfacf4a</td>\n",
       "      <td>Умные часы и браслеты</td>\n",
       "      <td>09f279a643</td>\n",
       "    </tr>\n",
       "    <tr>\n",
       "      <th>7</th>\n",
       "      <td>b0fb8f259a</td>\n",
       "      <td>Мониторы</td>\n",
       "      <td>3509869a61</td>\n",
       "    </tr>\n",
       "    <tr>\n",
       "      <th>8</th>\n",
       "      <td>3c67eb2d90</td>\n",
       "      <td>Наручные часы</td>\n",
       "      <td>6074ad29ac</td>\n",
       "    </tr>\n",
       "    <tr>\n",
       "      <th>9</th>\n",
       "      <td>24e6c815c6</td>\n",
       "      <td>Лекарственные препараты и БАДы</td>\n",
       "      <td>10a493e03b</td>\n",
       "    </tr>\n",
       "  </tbody>\n",
       "</table>\n",
       "</div>"
      ],
      "text/plain": [
       "  subcategory_id                subcategory_name category_id\n",
       "0     cf2e61c7af              Мобильные телефоны  09f279a643\n",
       "1     0cd903d1cc                        Ноутбуки  3509869a61\n",
       "2     ef35bc88a7                      Телевизоры  09f279a643\n",
       "3     6ff9f4014c                        Планшеты  3509869a61\n",
       "4     72bc238e4d  Наушники и Bluetooth-гарнитуры  09f279a643\n",
       "5     88c78ea685                            Шины  65922fa39c\n",
       "6     179bfacf4a           Умные часы и браслеты  09f279a643\n",
       "7     b0fb8f259a                        Мониторы  3509869a61\n",
       "8     3c67eb2d90                   Наручные часы  6074ad29ac\n",
       "9     24e6c815c6  Лекарственные препараты и БАДы  10a493e03b"
      ]
     },
     "execution_count": 33,
     "metadata": {},
     "output_type": "execute_result"
    }
   ],
   "source": [
    "subcategory_dict.head(10)"
   ]
  },
  {
   "cell_type": "code",
   "execution_count": 34,
   "id": "28db702b",
   "metadata": {},
   "outputs": [],
   "source": [
    "category_dict = pd.read_excel('seo_data.xlsx',sheet_name= 'category_ids')"
   ]
  },
  {
   "cell_type": "code",
   "execution_count": 35,
   "id": "83ababdc",
   "metadata": {},
   "outputs": [
    {
     "data": {
      "text/html": [
       "<div>\n",
       "<style scoped>\n",
       "    .dataframe tbody tr th:only-of-type {\n",
       "        vertical-align: middle;\n",
       "    }\n",
       "\n",
       "    .dataframe tbody tr th {\n",
       "        vertical-align: top;\n",
       "    }\n",
       "\n",
       "    .dataframe thead th {\n",
       "        text-align: right;\n",
       "    }\n",
       "</style>\n",
       "<table border=\"1\" class=\"dataframe\">\n",
       "  <thead>\n",
       "    <tr style=\"text-align: right;\">\n",
       "      <th></th>\n",
       "      <th>category_id</th>\n",
       "      <th>category_name</th>\n",
       "    </tr>\n",
       "  </thead>\n",
       "  <tbody>\n",
       "    <tr>\n",
       "      <th>0</th>\n",
       "      <td>09f279a643</td>\n",
       "      <td>Электроника</td>\n",
       "    </tr>\n",
       "    <tr>\n",
       "      <th>1</th>\n",
       "      <td>3509869a61</td>\n",
       "      <td>Компьютерная техника</td>\n",
       "    </tr>\n",
       "    <tr>\n",
       "      <th>2</th>\n",
       "      <td>65922fa39c</td>\n",
       "      <td>Авто</td>\n",
       "    </tr>\n",
       "    <tr>\n",
       "      <th>3</th>\n",
       "      <td>6074ad29ac</td>\n",
       "      <td>Одежда, обувь и аксессуары</td>\n",
       "    </tr>\n",
       "    <tr>\n",
       "      <th>4</th>\n",
       "      <td>10a493e03b</td>\n",
       "      <td>Товары для здоровья</td>\n",
       "    </tr>\n",
       "    <tr>\n",
       "      <th>5</th>\n",
       "      <td>5a0d8ac946</td>\n",
       "      <td>Бытовая техника</td>\n",
       "    </tr>\n",
       "    <tr>\n",
       "      <th>6</th>\n",
       "      <td>7dbac4c1a3</td>\n",
       "      <td>Детские товары</td>\n",
       "    </tr>\n",
       "    <tr>\n",
       "      <th>7</th>\n",
       "      <td>ae99947659</td>\n",
       "      <td>Спорт и отдых</td>\n",
       "    </tr>\n",
       "    <tr>\n",
       "      <th>8</th>\n",
       "      <td>655ccc3c49</td>\n",
       "      <td>Товары для красоты</td>\n",
       "    </tr>\n",
       "    <tr>\n",
       "      <th>9</th>\n",
       "      <td>394f20d8fa</td>\n",
       "      <td>Строительство и ремонт</td>\n",
       "    </tr>\n",
       "  </tbody>\n",
       "</table>\n",
       "</div>"
      ],
      "text/plain": [
       "  category_id               category_name\n",
       "0  09f279a643                 Электроника\n",
       "1  3509869a61        Компьютерная техника\n",
       "2  65922fa39c                        Авто\n",
       "3  6074ad29ac  Одежда, обувь и аксессуары\n",
       "4  10a493e03b         Товары для здоровья\n",
       "5  5a0d8ac946             Бытовая техника\n",
       "6  7dbac4c1a3              Детские товары\n",
       "7  ae99947659               Спорт и отдых\n",
       "8  655ccc3c49          Товары для красоты\n",
       "9  394f20d8fa      Строительство и ремонт"
      ]
     },
     "execution_count": 35,
     "metadata": {},
     "output_type": "execute_result"
    }
   ],
   "source": [
    "category_dict.head(10)"
   ]
  },
  {
   "cell_type": "code",
   "execution_count": 36,
   "id": "d467211e",
   "metadata": {},
   "outputs": [
    {
     "name": "stdout",
     "output_type": "stream",
     "text": [
      "source\n",
      "direct     965\n",
      "organic    965\n",
      "Name: source, dtype: int64\n"
     ]
    }
   ],
   "source": [
    "print(data.groupby('source')['source'].count()) "
   ]
  },
  {
   "cell_type": "code",
   "execution_count": 37,
   "id": "95f2f62a",
   "metadata": {},
   "outputs": [
    {
     "name": "stdout",
     "output_type": "stream",
     "text": [
      "<class 'pandas.core.frame.DataFrame'>\n",
      "RangeIndex: 1930 entries, 0 to 1929\n",
      "Data columns (total 4 columns):\n",
      " #   Column          Non-Null Count  Dtype  \n",
      "---  ------          --------------  -----  \n",
      " 0   subcategory_id  1930 non-null   object \n",
      " 1   source          1930 non-null   object \n",
      " 2   visits          1930 non-null   object \n",
      " 3   Unnamed: 3      0 non-null      float64\n",
      "dtypes: float64(1), object(3)\n",
      "memory usage: 60.4+ KB\n",
      "None\n"
     ]
    }
   ],
   "source": [
    "print(data.info())"
   ]
  },
  {
   "cell_type": "markdown",
   "id": "d615a314",
   "metadata": {},
   "source": [
    "Объединим несколько таблиц в одну методом merge(). Передавая тот или иной аргумент методу merge(), можно по-разному объединять таблицы. Подробнее об этом будет рассказано в следующем спринте.\n",
    "merge() применяют к таблице, к которой присоединяют другую. У метода следующие аргументы:\n",
    "right — имя DataFrame или Series, присоединяемого к исходной таблице.\n",
    "on — название общего списка в двух соединяемых таблицах: по нему происходит слияние.\n",
    "how — чьи id включать в итоговую таблицу. Аргумент how может принять значение left: тогда в итоговую таблицу будут включены id из левой таблицы. Аргумент right включает id из правой таблицы."
   ]
  },
  {
   "cell_type": "code",
   "execution_count": 38,
   "id": "61e1a5ef",
   "metadata": {},
   "outputs": [],
   "source": [
    "#Объедините самостоятельно таблицы из переменных subcategory_dict и data. Результат сохраните в переменной data_subcategory\n",
    "data_subcategory = data.merge(subcategory_dict,on='subcategory_id',how='left')"
   ]
  },
  {
   "cell_type": "code",
   "execution_count": 39,
   "id": "2135ed79",
   "metadata": {},
   "outputs": [
    {
     "data": {
      "text/html": [
       "<div>\n",
       "<style scoped>\n",
       "    .dataframe tbody tr th:only-of-type {\n",
       "        vertical-align: middle;\n",
       "    }\n",
       "\n",
       "    .dataframe tbody tr th {\n",
       "        vertical-align: top;\n",
       "    }\n",
       "\n",
       "    .dataframe thead th {\n",
       "        text-align: right;\n",
       "    }\n",
       "</style>\n",
       "<table border=\"1\" class=\"dataframe\">\n",
       "  <thead>\n",
       "    <tr style=\"text-align: right;\">\n",
       "      <th></th>\n",
       "      <th>subcategory_id</th>\n",
       "      <th>source</th>\n",
       "      <th>visits</th>\n",
       "      <th>Unnamed: 3</th>\n",
       "      <th>subcategory_name</th>\n",
       "      <th>category_id</th>\n",
       "    </tr>\n",
       "  </thead>\n",
       "  <tbody>\n",
       "    <tr>\n",
       "      <th>0</th>\n",
       "      <td>cf2e61c7af</td>\n",
       "      <td>direct</td>\n",
       "      <td>501165.668858</td>\n",
       "      <td>NaN</td>\n",
       "      <td>Мобильные телефоны</td>\n",
       "      <td>09f279a643</td>\n",
       "    </tr>\n",
       "    <tr>\n",
       "      <th>1</th>\n",
       "      <td>0cd903d1cc</td>\n",
       "      <td>direct</td>\n",
       "      <td>126342.359505</td>\n",
       "      <td>NaN</td>\n",
       "      <td>Ноутбуки</td>\n",
       "      <td>3509869a61</td>\n",
       "    </tr>\n",
       "    <tr>\n",
       "      <th>2</th>\n",
       "      <td>ef35bc88a7</td>\n",
       "      <td>direct</td>\n",
       "      <td>95626.321402</td>\n",
       "      <td>NaN</td>\n",
       "      <td>Телевизоры</td>\n",
       "      <td>09f279a643</td>\n",
       "    </tr>\n",
       "    <tr>\n",
       "      <th>3</th>\n",
       "      <td>6ff9f4014c</td>\n",
       "      <td>direct</td>\n",
       "      <td>75680.653002</td>\n",
       "      <td>NaN</td>\n",
       "      <td>Планшеты</td>\n",
       "      <td>3509869a61</td>\n",
       "    </tr>\n",
       "    <tr>\n",
       "      <th>4</th>\n",
       "      <td>72bc238e4d</td>\n",
       "      <td>direct</td>\n",
       "      <td>64435.934651</td>\n",
       "      <td>NaN</td>\n",
       "      <td>Наушники и Bluetooth-гарнитуры</td>\n",
       "      <td>09f279a643</td>\n",
       "    </tr>\n",
       "    <tr>\n",
       "      <th>...</th>\n",
       "      <td>...</td>\n",
       "      <td>...</td>\n",
       "      <td>...</td>\n",
       "      <td>...</td>\n",
       "      <td>...</td>\n",
       "      <td>...</td>\n",
       "    </tr>\n",
       "    <tr>\n",
       "      <th>1925</th>\n",
       "      <td>c51343bf77</td>\n",
       "      <td>organic</td>\n",
       "      <td>15.640773</td>\n",
       "      <td>NaN</td>\n",
       "      <td>Свитеры и кардиганы</td>\n",
       "      <td>6074ad29ac</td>\n",
       "    </tr>\n",
       "    <tr>\n",
       "      <th>1926</th>\n",
       "      <td>d942687638</td>\n",
       "      <td>organic</td>\n",
       "      <td>13.87554</td>\n",
       "      <td>NaN</td>\n",
       "      <td>Термобелье</td>\n",
       "      <td>6074ad29ac</td>\n",
       "    </tr>\n",
       "    <tr>\n",
       "      <th>1927</th>\n",
       "      <td>976642886f</td>\n",
       "      <td>organic</td>\n",
       "      <td>9.204211</td>\n",
       "      <td>NaN</td>\n",
       "      <td>Наклейки, шильдики и значки</td>\n",
       "      <td>65922fa39c</td>\n",
       "    </tr>\n",
       "    <tr>\n",
       "      <th>1928</th>\n",
       "      <td>075994491e</td>\n",
       "      <td>organic</td>\n",
       "      <td>4.606261</td>\n",
       "      <td>NaN</td>\n",
       "      <td>Гигиена полости рта</td>\n",
       "      <td>7dbac4c1a3</td>\n",
       "    </tr>\n",
       "    <tr>\n",
       "      <th>1929</th>\n",
       "      <td>total</td>\n",
       "      <td>organic</td>\n",
       "      <td>\"5687882\"</td>\n",
       "      <td>NaN</td>\n",
       "      <td>NaN</td>\n",
       "      <td>NaN</td>\n",
       "    </tr>\n",
       "  </tbody>\n",
       "</table>\n",
       "<p>1930 rows × 6 columns</p>\n",
       "</div>"
      ],
      "text/plain": [
       "     subcategory_id   source         visits  Unnamed: 3  \\\n",
       "0        cf2e61c7af   direct  501165.668858         NaN   \n",
       "1        0cd903d1cc   direct  126342.359505         NaN   \n",
       "2        ef35bc88a7   direct   95626.321402         NaN   \n",
       "3        6ff9f4014c   direct   75680.653002         NaN   \n",
       "4        72bc238e4d   direct   64435.934651         NaN   \n",
       "...             ...      ...            ...         ...   \n",
       "1925     c51343bf77  organic      15.640773         NaN   \n",
       "1926     d942687638  organic       13.87554         NaN   \n",
       "1927     976642886f  organic       9.204211         NaN   \n",
       "1928     075994491e  organic       4.606261         NaN   \n",
       "1929          total  organic      \"5687882\"         NaN   \n",
       "\n",
       "                    subcategory_name category_id  \n",
       "0                 Мобильные телефоны  09f279a643  \n",
       "1                           Ноутбуки  3509869a61  \n",
       "2                         Телевизоры  09f279a643  \n",
       "3                           Планшеты  3509869a61  \n",
       "4     Наушники и Bluetooth-гарнитуры  09f279a643  \n",
       "...                              ...         ...  \n",
       "1925             Свитеры и кардиганы  6074ad29ac  \n",
       "1926                      Термобелье  6074ad29ac  \n",
       "1927     Наклейки, шильдики и значки  65922fa39c  \n",
       "1928             Гигиена полости рта  7dbac4c1a3  \n",
       "1929                             NaN         NaN  \n",
       "\n",
       "[1930 rows x 6 columns]"
      ]
     },
     "execution_count": 39,
     "metadata": {},
     "output_type": "execute_result"
    }
   ],
   "source": [
    "data_subcategory"
   ]
  },
  {
   "cell_type": "code",
   "execution_count": 40,
   "id": "da1cc4b3",
   "metadata": {},
   "outputs": [],
   "source": [
    "#Объедините таблицы из переменных data_subcategory и category_dict.\n",
    "#Результат сохраните в переменной data_final\n",
    "data_final = data_subcategory.merge(category_dict,on='category_id',how='left')"
   ]
  },
  {
   "cell_type": "code",
   "execution_count": 41,
   "id": "ac1d7ee7",
   "metadata": {},
   "outputs": [
    {
     "data": {
      "text/html": [
       "<div>\n",
       "<style scoped>\n",
       "    .dataframe tbody tr th:only-of-type {\n",
       "        vertical-align: middle;\n",
       "    }\n",
       "\n",
       "    .dataframe tbody tr th {\n",
       "        vertical-align: top;\n",
       "    }\n",
       "\n",
       "    .dataframe thead th {\n",
       "        text-align: right;\n",
       "    }\n",
       "</style>\n",
       "<table border=\"1\" class=\"dataframe\">\n",
       "  <thead>\n",
       "    <tr style=\"text-align: right;\">\n",
       "      <th></th>\n",
       "      <th>subcategory_id</th>\n",
       "      <th>source</th>\n",
       "      <th>visits</th>\n",
       "      <th>Unnamed: 3</th>\n",
       "      <th>subcategory_name</th>\n",
       "      <th>category_id</th>\n",
       "      <th>category_name</th>\n",
       "    </tr>\n",
       "  </thead>\n",
       "  <tbody>\n",
       "    <tr>\n",
       "      <th>0</th>\n",
       "      <td>cf2e61c7af</td>\n",
       "      <td>direct</td>\n",
       "      <td>501165.668858</td>\n",
       "      <td>NaN</td>\n",
       "      <td>Мобильные телефоны</td>\n",
       "      <td>09f279a643</td>\n",
       "      <td>Электроника</td>\n",
       "    </tr>\n",
       "    <tr>\n",
       "      <th>1</th>\n",
       "      <td>0cd903d1cc</td>\n",
       "      <td>direct</td>\n",
       "      <td>126342.359505</td>\n",
       "      <td>NaN</td>\n",
       "      <td>Ноутбуки</td>\n",
       "      <td>3509869a61</td>\n",
       "      <td>Компьютерная техника</td>\n",
       "    </tr>\n",
       "    <tr>\n",
       "      <th>2</th>\n",
       "      <td>ef35bc88a7</td>\n",
       "      <td>direct</td>\n",
       "      <td>95626.321402</td>\n",
       "      <td>NaN</td>\n",
       "      <td>Телевизоры</td>\n",
       "      <td>09f279a643</td>\n",
       "      <td>Электроника</td>\n",
       "    </tr>\n",
       "    <tr>\n",
       "      <th>3</th>\n",
       "      <td>6ff9f4014c</td>\n",
       "      <td>direct</td>\n",
       "      <td>75680.653002</td>\n",
       "      <td>NaN</td>\n",
       "      <td>Планшеты</td>\n",
       "      <td>3509869a61</td>\n",
       "      <td>Компьютерная техника</td>\n",
       "    </tr>\n",
       "    <tr>\n",
       "      <th>4</th>\n",
       "      <td>72bc238e4d</td>\n",
       "      <td>direct</td>\n",
       "      <td>64435.934651</td>\n",
       "      <td>NaN</td>\n",
       "      <td>Наушники и Bluetooth-гарнитуры</td>\n",
       "      <td>09f279a643</td>\n",
       "      <td>Электроника</td>\n",
       "    </tr>\n",
       "    <tr>\n",
       "      <th>...</th>\n",
       "      <td>...</td>\n",
       "      <td>...</td>\n",
       "      <td>...</td>\n",
       "      <td>...</td>\n",
       "      <td>...</td>\n",
       "      <td>...</td>\n",
       "      <td>...</td>\n",
       "    </tr>\n",
       "    <tr>\n",
       "      <th>1925</th>\n",
       "      <td>c51343bf77</td>\n",
       "      <td>organic</td>\n",
       "      <td>15.640773</td>\n",
       "      <td>NaN</td>\n",
       "      <td>Свитеры и кардиганы</td>\n",
       "      <td>6074ad29ac</td>\n",
       "      <td>Одежда, обувь и аксессуары</td>\n",
       "    </tr>\n",
       "    <tr>\n",
       "      <th>1926</th>\n",
       "      <td>d942687638</td>\n",
       "      <td>organic</td>\n",
       "      <td>13.87554</td>\n",
       "      <td>NaN</td>\n",
       "      <td>Термобелье</td>\n",
       "      <td>6074ad29ac</td>\n",
       "      <td>Одежда, обувь и аксессуары</td>\n",
       "    </tr>\n",
       "    <tr>\n",
       "      <th>1927</th>\n",
       "      <td>976642886f</td>\n",
       "      <td>organic</td>\n",
       "      <td>9.204211</td>\n",
       "      <td>NaN</td>\n",
       "      <td>Наклейки, шильдики и значки</td>\n",
       "      <td>65922fa39c</td>\n",
       "      <td>Авто</td>\n",
       "    </tr>\n",
       "    <tr>\n",
       "      <th>1928</th>\n",
       "      <td>075994491e</td>\n",
       "      <td>organic</td>\n",
       "      <td>4.606261</td>\n",
       "      <td>NaN</td>\n",
       "      <td>Гигиена полости рта</td>\n",
       "      <td>7dbac4c1a3</td>\n",
       "      <td>Детские товары</td>\n",
       "    </tr>\n",
       "    <tr>\n",
       "      <th>1929</th>\n",
       "      <td>total</td>\n",
       "      <td>organic</td>\n",
       "      <td>\"5687882\"</td>\n",
       "      <td>NaN</td>\n",
       "      <td>NaN</td>\n",
       "      <td>NaN</td>\n",
       "      <td>NaN</td>\n",
       "    </tr>\n",
       "  </tbody>\n",
       "</table>\n",
       "<p>1930 rows × 7 columns</p>\n",
       "</div>"
      ],
      "text/plain": [
       "     subcategory_id   source         visits  Unnamed: 3  \\\n",
       "0        cf2e61c7af   direct  501165.668858         NaN   \n",
       "1        0cd903d1cc   direct  126342.359505         NaN   \n",
       "2        ef35bc88a7   direct   95626.321402         NaN   \n",
       "3        6ff9f4014c   direct   75680.653002         NaN   \n",
       "4        72bc238e4d   direct   64435.934651         NaN   \n",
       "...             ...      ...            ...         ...   \n",
       "1925     c51343bf77  organic      15.640773         NaN   \n",
       "1926     d942687638  organic       13.87554         NaN   \n",
       "1927     976642886f  organic       9.204211         NaN   \n",
       "1928     075994491e  organic       4.606261         NaN   \n",
       "1929          total  organic      \"5687882\"         NaN   \n",
       "\n",
       "                    subcategory_name category_id               category_name  \n",
       "0                 Мобильные телефоны  09f279a643                 Электроника  \n",
       "1                           Ноутбуки  3509869a61        Компьютерная техника  \n",
       "2                         Телевизоры  09f279a643                 Электроника  \n",
       "3                           Планшеты  3509869a61        Компьютерная техника  \n",
       "4     Наушники и Bluetooth-гарнитуры  09f279a643                 Электроника  \n",
       "...                              ...         ...                         ...  \n",
       "1925             Свитеры и кардиганы  6074ad29ac  Одежда, обувь и аксессуары  \n",
       "1926                      Термобелье  6074ad29ac  Одежда, обувь и аксессуары  \n",
       "1927     Наклейки, шильдики и значки  65922fa39c                        Авто  \n",
       "1928             Гигиена полости рта  7dbac4c1a3              Детские товары  \n",
       "1929                             NaN         NaN                         NaN  \n",
       "\n",
       "[1930 rows x 7 columns]"
      ]
     },
     "execution_count": 41,
     "metadata": {},
     "output_type": "execute_result"
    }
   ],
   "source": [
    "data_final"
   ]
  },
  {
   "cell_type": "markdown",
   "id": "b0182959",
   "metadata": {},
   "source": [
    "## Перевод строковых значений в числа\n",
    "<a id='str_to_num'></a>"
   ]
  },
  {
   "cell_type": "code",
   "execution_count": 42,
   "id": "053f1be7",
   "metadata": {},
   "outputs": [],
   "source": [
    "transactions = pd.read_excel('ids.xlsx')"
   ]
  },
  {
   "cell_type": "code",
   "execution_count": 43,
   "id": "7b2b3c95",
   "metadata": {},
   "outputs": [
    {
     "data": {
      "text/plain": [
       "array(['C', 'B', 'D', 'A', 'E', 'Null'], dtype=object)"
      ]
     },
     "metadata": {},
     "output_type": "display_data"
    },
    {
     "data": {
      "text/html": [
       "<div>\n",
       "<style scoped>\n",
       "    .dataframe tbody tr th:only-of-type {\n",
       "        vertical-align: middle;\n",
       "    }\n",
       "\n",
       "    .dataframe tbody tr th {\n",
       "        vertical-align: top;\n",
       "    }\n",
       "\n",
       "    .dataframe thead th {\n",
       "        text-align: right;\n",
       "    }\n",
       "</style>\n",
       "<table border=\"1\" class=\"dataframe\">\n",
       "  <thead>\n",
       "    <tr style=\"text-align: right;\">\n",
       "      <th></th>\n",
       "      <th>id</th>\n",
       "      <th>category</th>\n",
       "      <th>amount</th>\n",
       "    </tr>\n",
       "  </thead>\n",
       "  <tbody>\n",
       "    <tr>\n",
       "      <th>0</th>\n",
       "      <td>600748331392</td>\n",
       "      <td>C</td>\n",
       "      <td>17515.36</td>\n",
       "    </tr>\n",
       "    <tr>\n",
       "      <th>1</th>\n",
       "      <td>600748331404</td>\n",
       "      <td>B</td>\n",
       "      <td>10117.56</td>\n",
       "    </tr>\n",
       "    <tr>\n",
       "      <th>2</th>\n",
       "      <td>600748331412</td>\n",
       "      <td>B</td>\n",
       "      <td>18489.26</td>\n",
       "    </tr>\n",
       "    <tr>\n",
       "      <th>3</th>\n",
       "      <td>600748331430</td>\n",
       "      <td>B</td>\n",
       "      <td>6620.22</td>\n",
       "    </tr>\n",
       "    <tr>\n",
       "      <th>4</th>\n",
       "      <td>600748331447</td>\n",
       "      <td>C</td>\n",
       "      <td>7559.9</td>\n",
       "    </tr>\n",
       "  </tbody>\n",
       "</table>\n",
       "</div>"
      ],
      "text/plain": [
       "             id category    amount\n",
       "0  600748331392        C  17515.36\n",
       "1  600748331404        B  10117.56\n",
       "2  600748331412        B  18489.26\n",
       "3  600748331430        B   6620.22\n",
       "4  600748331447        C    7559.9"
      ]
     },
     "execution_count": 43,
     "metadata": {},
     "output_type": "execute_result"
    }
   ],
   "source": [
    "display(transactions['category'].unique())\n",
    "transactions.head()"
   ]
  },
  {
   "cell_type": "code",
   "execution_count": 44,
   "id": "b96ef1b4",
   "metadata": {},
   "outputs": [
    {
     "name": "stdout",
     "output_type": "stream",
     "text": [
      "<class 'pandas.core.frame.DataFrame'>\n",
      "RangeIndex: 49 entries, 0 to 48\n",
      "Data columns (total 3 columns):\n",
      " #   Column    Non-Null Count  Dtype \n",
      "---  ------    --------------  ----- \n",
      " 0   id        49 non-null     object\n",
      " 1   category  49 non-null     object\n",
      " 2   amount    49 non-null     object\n",
      "dtypes: object(3)\n",
      "memory usage: 1.3+ KB\n"
     ]
    }
   ],
   "source": [
    "transactions.info()"
   ]
  },
  {
   "cell_type": "markdown",
   "id": "fb7f3e5a",
   "metadata": {},
   "source": [
    "transactions['amount'] = pd.to_numeric(transactions['amount']) \n",
    "\n",
    "\n",
    "У метода to_numeric() есть параметр errors. От значений, принимаемых errors, зависят действия to_numeric при встрече с некорректным значением:\n",
    "`errors='raise' — дефолтное поведение: при встрече с некорректным значением выдаётся ошибка, операция перевода в числа прерывается;\n",
    "\n",
    "\n",
    "`errors='coerce' — некорректные значения принудительно заменяются на NaN;\n",
    "\n",
    "\n",
    "`errors='ignore' — некорректные значения игнорируются, но остаются.\n",
    "\n",
    "\n",
    "transactions['amount'] = pd.to_numeric(transactions['amount'], errors='coerce') \n",
    "Методом to_numeric() мы не только превратим строки в числовой тип там, где это возможно, но и выясним, на каких значениях метод не работает.\n",
    "Особенность метода to_numeric() в том, что при переводе все числа будут иметь тип данных float. Это подходит далеко не всем значениям. Но есть и хорошие новости: в нужный тип значения переводят методом astype(). Например, аргумент ('int') метода astype() означает, что значение нужно перевести в целое число:"
   ]
  },
  {
   "cell_type": "code",
   "execution_count": 45,
   "id": "0e06f359",
   "metadata": {},
   "outputs": [],
   "source": [
    "transactions['id'] = pd.to_numeric(transactions['id'],errors='coerce')"
   ]
  },
  {
   "cell_type": "code",
   "execution_count": 46,
   "id": "da54571c",
   "metadata": {},
   "outputs": [
    {
     "data": {
      "text/plain": [
       "44    6.007483e+11\n",
       "45    6.007483e+11\n",
       "46    6.007483e+11\n",
       "47    6.007483e+11\n",
       "48             NaN\n",
       "Name: id, dtype: float64"
      ]
     },
     "execution_count": 46,
     "metadata": {},
     "output_type": "execute_result"
    }
   ],
   "source": [
    "transactions['id'].tail(5)"
   ]
  },
  {
   "cell_type": "code",
   "execution_count": 47,
   "id": "4dc96cbe",
   "metadata": {},
   "outputs": [
    {
     "name": "stdout",
     "output_type": "stream",
     "text": [
      "<class 'pandas.core.frame.DataFrame'>\n",
      "RangeIndex: 49 entries, 0 to 48\n",
      "Data columns (total 3 columns):\n",
      " #   Column    Non-Null Count  Dtype  \n",
      "---  ------    --------------  -----  \n",
      " 0   id        48 non-null     float64\n",
      " 1   category  49 non-null     object \n",
      " 2   amount    49 non-null     object \n",
      "dtypes: float64(1), object(2)\n",
      "memory usage: 1.3+ KB\n"
     ]
    }
   ],
   "source": [
    "transactions.info()"
   ]
  },
  {
   "cell_type": "code",
   "execution_count": 48,
   "id": "87c7556f",
   "metadata": {},
   "outputs": [],
   "source": [
    "transactions['amount'] = pd.to_numeric(transactions['amount'],errors='coerce')"
   ]
  },
  {
   "cell_type": "code",
   "execution_count": 49,
   "id": "e5eb1223",
   "metadata": {},
   "outputs": [
    {
     "name": "stdout",
     "output_type": "stream",
     "text": [
      "<class 'pandas.core.frame.DataFrame'>\n",
      "RangeIndex: 49 entries, 0 to 48\n",
      "Data columns (total 3 columns):\n",
      " #   Column    Non-Null Count  Dtype  \n",
      "---  ------    --------------  -----  \n",
      " 0   id        48 non-null     float64\n",
      " 1   category  49 non-null     object \n",
      " 2   amount    45 non-null     float64\n",
      "dtypes: float64(2), object(1)\n",
      "memory usage: 1.3+ KB\n"
     ]
    }
   ],
   "source": [
    "transactions.info()"
   ]
  },
  {
   "cell_type": "code",
   "execution_count": 50,
   "id": "9629266a",
   "metadata": {},
   "outputs": [
    {
     "data": {
      "text/plain": [
       "596107.1"
      ]
     },
     "execution_count": 50,
     "metadata": {},
     "output_type": "execute_result"
    }
   ],
   "source": [
    "transactions['amount'].sum()"
   ]
  },
  {
   "cell_type": "markdown",
   "id": "276b6a9b",
   "metadata": {},
   "source": [
    "\n",
    "Рассчитайте сумму продаж для каждой категории и сохраните в переменной transactions_per_category. Для этого сгруппируйте датафрейм transactions по столбцу category и примените метод sum() к столбцу amount. Выведите результат на экран."
   ]
  },
  {
   "cell_type": "code",
   "execution_count": 51,
   "id": "bd608aca",
   "metadata": {},
   "outputs": [],
   "source": [
    " transactions_per_category = transactions.groupby('category')['amount'].sum()"
   ]
  },
  {
   "cell_type": "code",
   "execution_count": 52,
   "id": "1b34291d",
   "metadata": {},
   "outputs": [
    {
     "name": "stdout",
     "output_type": "stream",
     "text": [
      "category\n",
      "A       133988.50\n",
      "B       168617.89\n",
      "C       173332.50\n",
      "D        62630.82\n",
      "E        57537.39\n",
      "Null         0.00\n",
      "Name: amount, dtype: float64\n"
     ]
    }
   ],
   "source": [
    "print(transactions_per_category)"
   ]
  },
  {
   "cell_type": "code",
   "execution_count": 53,
   "id": "6e0b3114",
   "metadata": {},
   "outputs": [
    {
     "data": {
      "text/html": [
       "<div>\n",
       "<style scoped>\n",
       "    .dataframe tbody tr th:only-of-type {\n",
       "        vertical-align: middle;\n",
       "    }\n",
       "\n",
       "    .dataframe tbody tr th {\n",
       "        vertical-align: top;\n",
       "    }\n",
       "\n",
       "    .dataframe thead th {\n",
       "        text-align: right;\n",
       "    }\n",
       "</style>\n",
       "<table border=\"1\" class=\"dataframe\">\n",
       "  <thead>\n",
       "    <tr style=\"text-align: right;\">\n",
       "      <th></th>\n",
       "      <th>subcategory_id</th>\n",
       "      <th>source</th>\n",
       "      <th>visits</th>\n",
       "      <th>Unnamed: 3</th>\n",
       "    </tr>\n",
       "  </thead>\n",
       "  <tbody>\n",
       "    <tr>\n",
       "      <th>0</th>\n",
       "      <td>cf2e61c7af</td>\n",
       "      <td>direct</td>\n",
       "      <td>501165.668858</td>\n",
       "      <td>NaN</td>\n",
       "    </tr>\n",
       "    <tr>\n",
       "      <th>1</th>\n",
       "      <td>0cd903d1cc</td>\n",
       "      <td>direct</td>\n",
       "      <td>126342.359505</td>\n",
       "      <td>NaN</td>\n",
       "    </tr>\n",
       "    <tr>\n",
       "      <th>2</th>\n",
       "      <td>ef35bc88a7</td>\n",
       "      <td>direct</td>\n",
       "      <td>95626.321402</td>\n",
       "      <td>NaN</td>\n",
       "    </tr>\n",
       "    <tr>\n",
       "      <th>3</th>\n",
       "      <td>6ff9f4014c</td>\n",
       "      <td>direct</td>\n",
       "      <td>75680.653002</td>\n",
       "      <td>NaN</td>\n",
       "    </tr>\n",
       "    <tr>\n",
       "      <th>4</th>\n",
       "      <td>72bc238e4d</td>\n",
       "      <td>direct</td>\n",
       "      <td>64435.934651</td>\n",
       "      <td>NaN</td>\n",
       "    </tr>\n",
       "    <tr>\n",
       "      <th>...</th>\n",
       "      <td>...</td>\n",
       "      <td>...</td>\n",
       "      <td>...</td>\n",
       "      <td>...</td>\n",
       "    </tr>\n",
       "    <tr>\n",
       "      <th>1925</th>\n",
       "      <td>c51343bf77</td>\n",
       "      <td>organic</td>\n",
       "      <td>15.640773</td>\n",
       "      <td>NaN</td>\n",
       "    </tr>\n",
       "    <tr>\n",
       "      <th>1926</th>\n",
       "      <td>d942687638</td>\n",
       "      <td>organic</td>\n",
       "      <td>13.87554</td>\n",
       "      <td>NaN</td>\n",
       "    </tr>\n",
       "    <tr>\n",
       "      <th>1927</th>\n",
       "      <td>976642886f</td>\n",
       "      <td>organic</td>\n",
       "      <td>9.204211</td>\n",
       "      <td>NaN</td>\n",
       "    </tr>\n",
       "    <tr>\n",
       "      <th>1928</th>\n",
       "      <td>075994491e</td>\n",
       "      <td>organic</td>\n",
       "      <td>4.606261</td>\n",
       "      <td>NaN</td>\n",
       "    </tr>\n",
       "    <tr>\n",
       "      <th>1929</th>\n",
       "      <td>total</td>\n",
       "      <td>organic</td>\n",
       "      <td>\"5687882\"</td>\n",
       "      <td>NaN</td>\n",
       "    </tr>\n",
       "  </tbody>\n",
       "</table>\n",
       "<p>1930 rows × 4 columns</p>\n",
       "</div>"
      ],
      "text/plain": [
       "     subcategory_id   source         visits  Unnamed: 3\n",
       "0        cf2e61c7af   direct  501165.668858         NaN\n",
       "1        0cd903d1cc   direct  126342.359505         NaN\n",
       "2        ef35bc88a7   direct   95626.321402         NaN\n",
       "3        6ff9f4014c   direct   75680.653002         NaN\n",
       "4        72bc238e4d   direct   64435.934651         NaN\n",
       "...             ...      ...            ...         ...\n",
       "1925     c51343bf77  organic      15.640773         NaN\n",
       "1926     d942687638  organic       13.87554         NaN\n",
       "1927     976642886f  organic       9.204211         NaN\n",
       "1928     075994491e  organic       4.606261         NaN\n",
       "1929          total  organic      \"5687882\"         NaN\n",
       "\n",
       "[1930 rows x 4 columns]"
      ]
     },
     "execution_count": 53,
     "metadata": {},
     "output_type": "execute_result"
    }
   ],
   "source": [
    "data"
   ]
  },
  {
   "cell_type": "code",
   "execution_count": 54,
   "id": "6e766bd2",
   "metadata": {},
   "outputs": [
    {
     "ename": "ValueError",
     "evalue": "Unable to parse string \"\"2369468\"\" at position 964",
     "output_type": "error",
     "traceback": [
      "\u001b[1;31m---------------------------------------------------------------------------\u001b[0m",
      "\u001b[1;31mValueError\u001b[0m                                Traceback (most recent call last)",
      "\u001b[1;32mpandas\\_libs\\lib.pyx\u001b[0m in \u001b[0;36mpandas._libs.lib.maybe_convert_numeric\u001b[1;34m()\u001b[0m\n",
      "\u001b[1;31mValueError\u001b[0m: Unable to parse string \"\"2369468\"\"",
      "\nDuring handling of the above exception, another exception occurred:\n",
      "\u001b[1;31mValueError\u001b[0m                                Traceback (most recent call last)",
      "\u001b[1;32m<ipython-input-54-9d2de36f9689>\u001b[0m in \u001b[0;36m<module>\u001b[1;34m\u001b[0m\n\u001b[1;32m----> 1\u001b[1;33m \u001b[0mpd\u001b[0m\u001b[1;33m.\u001b[0m\u001b[0mto_numeric\u001b[0m\u001b[1;33m(\u001b[0m\u001b[0mdata\u001b[0m\u001b[1;33m[\u001b[0m\u001b[1;34m'visits'\u001b[0m\u001b[1;33m]\u001b[0m\u001b[1;33m)\u001b[0m\u001b[1;33m\u001b[0m\u001b[1;33m\u001b[0m\u001b[0m\n\u001b[0m",
      "\u001b[1;32m~\\anaconda3\\lib\\site-packages\\pandas\\core\\tools\\numeric.py\u001b[0m in \u001b[0;36mto_numeric\u001b[1;34m(arg, errors, downcast)\u001b[0m\n\u001b[0;32m    152\u001b[0m         \u001b[0mcoerce_numeric\u001b[0m \u001b[1;33m=\u001b[0m \u001b[0merrors\u001b[0m \u001b[1;32mnot\u001b[0m \u001b[1;32min\u001b[0m \u001b[1;33m(\u001b[0m\u001b[1;34m\"ignore\"\u001b[0m\u001b[1;33m,\u001b[0m \u001b[1;34m\"raise\"\u001b[0m\u001b[1;33m)\u001b[0m\u001b[1;33m\u001b[0m\u001b[1;33m\u001b[0m\u001b[0m\n\u001b[0;32m    153\u001b[0m         \u001b[1;32mtry\u001b[0m\u001b[1;33m:\u001b[0m\u001b[1;33m\u001b[0m\u001b[1;33m\u001b[0m\u001b[0m\n\u001b[1;32m--> 154\u001b[1;33m             values = lib.maybe_convert_numeric(\n\u001b[0m\u001b[0;32m    155\u001b[0m                 \u001b[0mvalues\u001b[0m\u001b[1;33m,\u001b[0m \u001b[0mset\u001b[0m\u001b[1;33m(\u001b[0m\u001b[1;33m)\u001b[0m\u001b[1;33m,\u001b[0m \u001b[0mcoerce_numeric\u001b[0m\u001b[1;33m=\u001b[0m\u001b[0mcoerce_numeric\u001b[0m\u001b[1;33m\u001b[0m\u001b[1;33m\u001b[0m\u001b[0m\n\u001b[0;32m    156\u001b[0m             )\n",
      "\u001b[1;32mpandas\\_libs\\lib.pyx\u001b[0m in \u001b[0;36mpandas._libs.lib.maybe_convert_numeric\u001b[1;34m()\u001b[0m\n",
      "\u001b[1;31mValueError\u001b[0m: Unable to parse string \"\"2369468\"\" at position 964"
     ]
    }
   ],
   "source": [
    "pd.to_numeric(data['visits'])"
   ]
  },
  {
   "cell_type": "code",
   "execution_count": 55,
   "id": "be39bb68",
   "metadata": {},
   "outputs": [
    {
     "data": {
      "text/plain": [
       "subcategory_id        total\n",
       "source               direct\n",
       "visits            \"2369468\"\n",
       "Unnamed: 3              NaN\n",
       "Name: 964, dtype: object"
      ]
     },
     "execution_count": 55,
     "metadata": {},
     "output_type": "execute_result"
    }
   ],
   "source": [
    "data.loc[964]"
   ]
  },
  {
   "cell_type": "code",
   "execution_count": 56,
   "id": "77bfb8f1",
   "metadata": {},
   "outputs": [
    {
     "data": {
      "text/html": [
       "<div>\n",
       "<style scoped>\n",
       "    .dataframe tbody tr th:only-of-type {\n",
       "        vertical-align: middle;\n",
       "    }\n",
       "\n",
       "    .dataframe tbody tr th {\n",
       "        vertical-align: top;\n",
       "    }\n",
       "\n",
       "    .dataframe thead th {\n",
       "        text-align: right;\n",
       "    }\n",
       "</style>\n",
       "<table border=\"1\" class=\"dataframe\">\n",
       "  <thead>\n",
       "    <tr style=\"text-align: right;\">\n",
       "      <th></th>\n",
       "      <th>subcategory_id</th>\n",
       "      <th>source</th>\n",
       "      <th>visits</th>\n",
       "      <th>Unnamed: 3</th>\n",
       "    </tr>\n",
       "  </thead>\n",
       "  <tbody>\n",
       "    <tr>\n",
       "      <th>964</th>\n",
       "      <td>total</td>\n",
       "      <td>direct</td>\n",
       "      <td>\"2369468\"</td>\n",
       "      <td>NaN</td>\n",
       "    </tr>\n",
       "    <tr>\n",
       "      <th>1929</th>\n",
       "      <td>total</td>\n",
       "      <td>organic</td>\n",
       "      <td>\"5687882\"</td>\n",
       "      <td>NaN</td>\n",
       "    </tr>\n",
       "  </tbody>\n",
       "</table>\n",
       "</div>"
      ],
      "text/plain": [
       "     subcategory_id   source     visits  Unnamed: 3\n",
       "964           total   direct  \"2369468\"         NaN\n",
       "1929          total  organic  \"5687882\"         NaN"
      ]
     },
     "execution_count": 56,
     "metadata": {},
     "output_type": "execute_result"
    }
   ],
   "source": [
    "data[data['subcategory_id']=='total']"
   ]
  },
  {
   "cell_type": "code",
   "execution_count": 57,
   "id": "de6c58c0",
   "metadata": {},
   "outputs": [],
   "source": [
    "data = data[data['subcategory_id']!='total']"
   ]
  },
  {
   "cell_type": "code",
   "execution_count": 58,
   "id": "84d99006",
   "metadata": {},
   "outputs": [
    {
     "data": {
      "text/html": [
       "<div>\n",
       "<style scoped>\n",
       "    .dataframe tbody tr th:only-of-type {\n",
       "        vertical-align: middle;\n",
       "    }\n",
       "\n",
       "    .dataframe tbody tr th {\n",
       "        vertical-align: top;\n",
       "    }\n",
       "\n",
       "    .dataframe thead th {\n",
       "        text-align: right;\n",
       "    }\n",
       "</style>\n",
       "<table border=\"1\" class=\"dataframe\">\n",
       "  <thead>\n",
       "    <tr style=\"text-align: right;\">\n",
       "      <th></th>\n",
       "      <th>subcategory_id</th>\n",
       "      <th>source</th>\n",
       "      <th>visits</th>\n",
       "      <th>Unnamed: 3</th>\n",
       "    </tr>\n",
       "  </thead>\n",
       "  <tbody>\n",
       "  </tbody>\n",
       "</table>\n",
       "</div>"
      ],
      "text/plain": [
       "Empty DataFrame\n",
       "Columns: [subcategory_id, source, visits, Unnamed: 3]\n",
       "Index: []"
      ]
     },
     "execution_count": 58,
     "metadata": {},
     "output_type": "execute_result"
    }
   ],
   "source": [
    "data[data['subcategory_id']=='total']"
   ]
  },
  {
   "cell_type": "code",
   "execution_count": 59,
   "id": "0f947da2",
   "metadata": {},
   "outputs": [
    {
     "name": "stderr",
     "output_type": "stream",
     "text": [
      "<ipython-input-59-c5deef310c65>:1: SettingWithCopyWarning: \n",
      "A value is trying to be set on a copy of a slice from a DataFrame.\n",
      "Try using .loc[row_indexer,col_indexer] = value instead\n",
      "\n",
      "See the caveats in the documentation: https://pandas.pydata.org/pandas-docs/stable/user_guide/indexing.html#returning-a-view-versus-a-copy\n",
      "  data['visits'] = data['visits'].astype('int')\n"
     ]
    }
   ],
   "source": [
    "data['visits'] = data['visits'].astype('int')"
   ]
  },
  {
   "cell_type": "code",
   "execution_count": 60,
   "id": "5c937f8b",
   "metadata": {},
   "outputs": [
    {
     "name": "stdout",
     "output_type": "stream",
     "text": [
      "<class 'pandas.core.frame.DataFrame'>\n",
      "Int64Index: 1928 entries, 0 to 1928\n",
      "Data columns (total 4 columns):\n",
      " #   Column          Non-Null Count  Dtype  \n",
      "---  ------          --------------  -----  \n",
      " 0   subcategory_id  1928 non-null   object \n",
      " 1   source          1928 non-null   object \n",
      " 2   visits          1928 non-null   int32  \n",
      " 3   Unnamed: 3      0 non-null      float64\n",
      "dtypes: float64(1), int32(1), object(2)\n",
      "memory usage: 67.8+ KB\n"
     ]
    }
   ],
   "source": [
    "data.info()"
   ]
  },
  {
   "cell_type": "code",
   "execution_count": 61,
   "id": "619d8c6e",
   "metadata": {},
   "outputs": [
    {
     "data": {
      "text/plain": [
       "source\n",
       "direct     2368980\n",
       "organic    5687407\n",
       "Name: visits, dtype: int32"
      ]
     },
     "execution_count": 61,
     "metadata": {},
     "output_type": "execute_result"
    }
   ],
   "source": [
    "data.groupby('source')['visits'].sum()"
   ]
  },
  {
   "cell_type": "markdown",
   "id": "af1cb80d",
   "metadata": {},
   "source": [
    "## Методы Pandas для работы с датой и временем\n",
    "<a id='D_T'></a>"
   ]
  },
  {
   "cell_type": "markdown",
   "id": "8af1042f",
   "metadata": {},
   "source": [
    "Вне зависимости от способа записи, дату и время нужно вводить в арифметические операции. Для этого в Python существует особый тип данных — datetime. \n"
   ]
  },
  {
   "cell_type": "markdown",
   "id": "049e9c29",
   "metadata": {},
   "source": [
    "Методом to_datetime() превратим содержимое этого столбца в понятные для Python даты.\n",
    "Для этого строку форматируют, обращаясь к специальной системе обозначений, где:\n",
    "\n",
    "%d — день месяца (от 01 до 31)\n",
    "\n",
    "%m — номер месяца (от 01 до 12)\n",
    "\n",
    "%Y — четырёхзначный номер года (например, 2019)\n",
    "\n",
    "Z — стандартный разделитель даты и времени\n",
    "\n",
    "%H — номер часа в 24-часовом формате\n",
    "\n",
    "%I — номер часа в 12-часовом формате\n",
    "\n",
    "%M — минуты (от 00 до 59)\n",
    "\n",
    "%S — секунды (от 00 до 59)\n",
    "\n",
    "Преобразуем формат даты 01.04.2019Z11:03:00 из первой строчки датафрейма:\n",
    "\n",
    "\n",
    "Сначала номер дня месяца. В соответствии с таблицей форматов заменяем его на %d:\n",
    "%d.04.2019Z11:03:00\n",
    "\n",
    "\n",
    "Далее точка (ее оставляем без изменений), потом номер месяца: %m: %d.%m.2019Z11:03:00\n",
    "\n",
    "\n",
    "После четырёхзначный номер года, заменяем 2019 на %Y: %d.%m.%YZ11:03:00\n",
    "\n",
    "\n",
    "Букву Z оставляем без изменений: %d.%m.%YZ11:03:00\n",
    "Номер часа в 24-часовом формате заменим на %H: %d.%m.%YZ%H:03:00\n",
    "Количество минут обозначим %M: %d.%m.%YZ%H:%M:00\n",
    "Завершим форматирование обозначением секунд %S: %d.%m.%YZ%H:%M:%S"
   ]
  },
  {
   "cell_type": "markdown",
   "id": "126977c4",
   "metadata": {},
   "source": [
    "## arrivals['date_datetime'] = pd.to_datetime(arrivals['date'], format='%d.%m.%YZ%H:%M:%S')\n",
    "## print(arrivals.head()) "
   ]
  },
  {
   "cell_type": "markdown",
   "id": "23167238",
   "metadata": {},
   "source": [
    "А у значений столбца '*target_time*' другой способ записи даты: 2019-04-01Z11:00:00. Значит, и в аргументе format сохраним другое выражение: '%Y-%m-%dZ%H:%M:%S':\n",
    "\n",
    "\n",
    "## arrivals['target_datetime'] = pd.to_datetime(\n",
    "##    arrivals['target_time'], format='%Y-%m-%dZ%H:%M:%S')"
   ]
  },
  {
   "cell_type": "code",
   "execution_count": 62,
   "id": "9ee3d618",
   "metadata": {},
   "outputs": [],
   "source": [
    "position = pd.read_csv('position.csv')"
   ]
  },
  {
   "cell_type": "code",
   "execution_count": 63,
   "id": "4490a2aa",
   "metadata": {},
   "outputs": [
    {
     "data": {
      "text/html": [
       "<div>\n",
       "<style scoped>\n",
       "    .dataframe tbody tr th:only-of-type {\n",
       "        vertical-align: middle;\n",
       "    }\n",
       "\n",
       "    .dataframe tbody tr th {\n",
       "        vertical-align: top;\n",
       "    }\n",
       "\n",
       "    .dataframe thead th {\n",
       "        text-align: right;\n",
       "    }\n",
       "</style>\n",
       "<table border=\"1\" class=\"dataframe\">\n",
       "  <thead>\n",
       "    <tr style=\"text-align: right;\">\n",
       "      <th></th>\n",
       "      <th>timestamp</th>\n",
       "      <th>level</th>\n",
       "      <th>page_id</th>\n",
       "    </tr>\n",
       "  </thead>\n",
       "  <tbody>\n",
       "    <tr>\n",
       "      <th>0</th>\n",
       "      <td>2019-02-04T13:22:34</td>\n",
       "      <td>1</td>\n",
       "      <td>6ukoNykP</td>\n",
       "    </tr>\n",
       "    <tr>\n",
       "      <th>1</th>\n",
       "      <td>2019-02-06T15:30:54</td>\n",
       "      <td>1</td>\n",
       "      <td>Q62R1Ue7</td>\n",
       "    </tr>\n",
       "    <tr>\n",
       "      <th>2</th>\n",
       "      <td>2019-02-08T14:53:45</td>\n",
       "      <td>1</td>\n",
       "      <td>GmfSxgPs</td>\n",
       "    </tr>\n",
       "    <tr>\n",
       "      <th>3</th>\n",
       "      <td>2019-02-10T16:50:22</td>\n",
       "      <td>2</td>\n",
       "      <td>M56OK96C</td>\n",
       "    </tr>\n",
       "    <tr>\n",
       "      <th>4</th>\n",
       "      <td>2019-02-12T14:16:28</td>\n",
       "      <td>1</td>\n",
       "      <td>q2fqVqPc</td>\n",
       "    </tr>\n",
       "    <tr>\n",
       "      <th>5</th>\n",
       "      <td>2019-02-14T15:10:45</td>\n",
       "      <td>1</td>\n",
       "      <td>LioXfSPk</td>\n",
       "    </tr>\n",
       "    <tr>\n",
       "      <th>6</th>\n",
       "      <td>2019-02-16T14:52:23</td>\n",
       "      <td>3</td>\n",
       "      <td>bQXWpQ2z</td>\n",
       "    </tr>\n",
       "    <tr>\n",
       "      <th>7</th>\n",
       "      <td>2019-02-18T15:45:33</td>\n",
       "      <td>2</td>\n",
       "      <td>gsFVGOTy</td>\n",
       "    </tr>\n",
       "    <tr>\n",
       "      <th>8</th>\n",
       "      <td>2019-02-20T16:35:12</td>\n",
       "      <td>3</td>\n",
       "      <td>zVuiSTm1</td>\n",
       "    </tr>\n",
       "    <tr>\n",
       "      <th>9</th>\n",
       "      <td>2019-02-22T15:52:27</td>\n",
       "      <td>1</td>\n",
       "      <td>kuULtbnm</td>\n",
       "    </tr>\n",
       "    <tr>\n",
       "      <th>10</th>\n",
       "      <td>2019-02-24T12:39:30</td>\n",
       "      <td>2</td>\n",
       "      <td>MKDhBt9L</td>\n",
       "    </tr>\n",
       "    <tr>\n",
       "      <th>11</th>\n",
       "      <td>2019-02-26T12:45:10</td>\n",
       "      <td>3</td>\n",
       "      <td>FEgRztcr</td>\n",
       "    </tr>\n",
       "    <tr>\n",
       "      <th>12</th>\n",
       "      <td>2019-03-04T15:34:46</td>\n",
       "      <td>4</td>\n",
       "      <td>OUBWQSCl</td>\n",
       "    </tr>\n",
       "    <tr>\n",
       "      <th>13</th>\n",
       "      <td>2019-03-06T14:20:57</td>\n",
       "      <td>5</td>\n",
       "      <td>6YeTUHgm</td>\n",
       "    </tr>\n",
       "    <tr>\n",
       "      <th>14</th>\n",
       "      <td>2019-03-08T12:34:43</td>\n",
       "      <td>6</td>\n",
       "      <td>zlrBrZ0d</td>\n",
       "    </tr>\n",
       "  </tbody>\n",
       "</table>\n",
       "</div>"
      ],
      "text/plain": [
       "              timestamp  level   page_id\n",
       "0   2019-02-04T13:22:34      1  6ukoNykP\n",
       "1   2019-02-06T15:30:54      1  Q62R1Ue7\n",
       "2   2019-02-08T14:53:45      1  GmfSxgPs\n",
       "3   2019-02-10T16:50:22      2  M56OK96C\n",
       "4   2019-02-12T14:16:28      1  q2fqVqPc\n",
       "5   2019-02-14T15:10:45      1  LioXfSPk\n",
       "6   2019-02-16T14:52:23      3  bQXWpQ2z\n",
       "7   2019-02-18T15:45:33      2  gsFVGOTy\n",
       "8   2019-02-20T16:35:12      3  zVuiSTm1\n",
       "9   2019-02-22T15:52:27      1  kuULtbnm\n",
       "10  2019-02-24T12:39:30      2  MKDhBt9L\n",
       "11  2019-02-26T12:45:10      3  FEgRztcr\n",
       "12  2019-03-04T15:34:46      4  OUBWQSCl\n",
       "13  2019-03-06T14:20:57      5  6YeTUHgm\n",
       "14  2019-03-08T12:34:43      6  zlrBrZ0d"
      ]
     },
     "execution_count": 63,
     "metadata": {},
     "output_type": "execute_result"
    }
   ],
   "source": [
    "position.head(15)"
   ]
  },
  {
   "cell_type": "code",
   "execution_count": 64,
   "id": "dcc2e3b0",
   "metadata": {},
   "outputs": [
    {
     "name": "stdout",
     "output_type": "stream",
     "text": [
      "<class 'pandas.core.frame.DataFrame'>\n",
      "RangeIndex: 39 entries, 0 to 38\n",
      "Data columns (total 3 columns):\n",
      " #   Column     Non-Null Count  Dtype \n",
      "---  ------     --------------  ----- \n",
      " 0   timestamp  39 non-null     object\n",
      " 1   level      39 non-null     int64 \n",
      " 2   page_id    39 non-null     object\n",
      "dtypes: int64(1), object(2)\n",
      "memory usage: 1.0+ KB\n"
     ]
    }
   ],
   "source": [
    "position.info()"
   ]
  },
  {
   "cell_type": "code",
   "execution_count": 65,
   "id": "10c585ae",
   "metadata": {},
   "outputs": [],
   "source": [
    "position['timestamp'] = pd.to_datetime(position['timestamp'],format='%Y-%m-%dT%H:%M:%S')"
   ]
  },
  {
   "cell_type": "code",
   "execution_count": 66,
   "id": "835e20db",
   "metadata": {},
   "outputs": [
    {
     "name": "stdout",
     "output_type": "stream",
     "text": [
      "<class 'pandas.core.frame.DataFrame'>\n",
      "RangeIndex: 39 entries, 0 to 38\n",
      "Data columns (total 3 columns):\n",
      " #   Column     Non-Null Count  Dtype         \n",
      "---  ------     --------------  -----         \n",
      " 0   timestamp  39 non-null     datetime64[ns]\n",
      " 1   level      39 non-null     int64         \n",
      " 2   page_id    39 non-null     object        \n",
      "dtypes: datetime64[ns](1), int64(1), object(1)\n",
      "memory usage: 1.0+ KB\n"
     ]
    }
   ],
   "source": [
    "position.info()"
   ]
  },
  {
   "cell_type": "code",
   "execution_count": 67,
   "id": "44774651",
   "metadata": {},
   "outputs": [
    {
     "data": {
      "text/html": [
       "<div>\n",
       "<style scoped>\n",
       "    .dataframe tbody tr th:only-of-type {\n",
       "        vertical-align: middle;\n",
       "    }\n",
       "\n",
       "    .dataframe tbody tr th {\n",
       "        vertical-align: top;\n",
       "    }\n",
       "\n",
       "    .dataframe thead th {\n",
       "        text-align: right;\n",
       "    }\n",
       "</style>\n",
       "<table border=\"1\" class=\"dataframe\">\n",
       "  <thead>\n",
       "    <tr style=\"text-align: right;\">\n",
       "      <th></th>\n",
       "      <th>timestamp</th>\n",
       "      <th>level</th>\n",
       "      <th>page_id</th>\n",
       "    </tr>\n",
       "  </thead>\n",
       "  <tbody>\n",
       "    <tr>\n",
       "      <th>22</th>\n",
       "      <td>2019-03-24 13:49:22</td>\n",
       "      <td>9</td>\n",
       "      <td>WklxK6k4</td>\n",
       "    </tr>\n",
       "    <tr>\n",
       "      <th>38</th>\n",
       "      <td>2019-04-27 12:48:14</td>\n",
       "      <td>8</td>\n",
       "      <td>5VRryKr6</td>\n",
       "    </tr>\n",
       "    <tr>\n",
       "      <th>35</th>\n",
       "      <td>2019-04-21 14:40:17</td>\n",
       "      <td>8</td>\n",
       "      <td>JvTMAbs7</td>\n",
       "    </tr>\n",
       "    <tr>\n",
       "      <th>30</th>\n",
       "      <td>2019-04-11 13:39:15</td>\n",
       "      <td>8</td>\n",
       "      <td>9mL07Mjl</td>\n",
       "    </tr>\n",
       "    <tr>\n",
       "      <th>21</th>\n",
       "      <td>2019-03-22 16:36:19</td>\n",
       "      <td>8</td>\n",
       "      <td>s24ZIat3</td>\n",
       "    </tr>\n",
       "    <tr>\n",
       "      <th>15</th>\n",
       "      <td>2019-03-10 13:12:57</td>\n",
       "      <td>7</td>\n",
       "      <td>Vih5ARKA</td>\n",
       "    </tr>\n",
       "    <tr>\n",
       "      <th>34</th>\n",
       "      <td>2019-04-19 15:43:24</td>\n",
       "      <td>7</td>\n",
       "      <td>MSHZViNg</td>\n",
       "    </tr>\n",
       "    <tr>\n",
       "      <th>31</th>\n",
       "      <td>2019-04-13 12:13:26</td>\n",
       "      <td>7</td>\n",
       "      <td>ILfc3WmK</td>\n",
       "    </tr>\n",
       "    <tr>\n",
       "      <th>29</th>\n",
       "      <td>2019-04-09 14:57:20</td>\n",
       "      <td>7</td>\n",
       "      <td>SfnhoGh6</td>\n",
       "    </tr>\n",
       "    <tr>\n",
       "      <th>27</th>\n",
       "      <td>2019-04-05 14:51:38</td>\n",
       "      <td>7</td>\n",
       "      <td>7JKRCdPA</td>\n",
       "    </tr>\n",
       "    <tr>\n",
       "      <th>20</th>\n",
       "      <td>2019-03-20 15:53:36</td>\n",
       "      <td>7</td>\n",
       "      <td>VkTjZ6co</td>\n",
       "    </tr>\n",
       "    <tr>\n",
       "      <th>37</th>\n",
       "      <td>2019-04-25 16:10:50</td>\n",
       "      <td>6</td>\n",
       "      <td>clLGJ4g3</td>\n",
       "    </tr>\n",
       "    <tr>\n",
       "      <th>33</th>\n",
       "      <td>2019-04-17 16:54:17</td>\n",
       "      <td>6</td>\n",
       "      <td>JjIZd3Jy</td>\n",
       "    </tr>\n",
       "    <tr>\n",
       "      <th>28</th>\n",
       "      <td>2019-04-07 16:29:58</td>\n",
       "      <td>6</td>\n",
       "      <td>bsORIc79</td>\n",
       "    </tr>\n",
       "    <tr>\n",
       "      <th>24</th>\n",
       "      <td>2019-03-28 15:28:17</td>\n",
       "      <td>6</td>\n",
       "      <td>aQdvnaZX</td>\n",
       "    </tr>\n",
       "    <tr>\n",
       "      <th>19</th>\n",
       "      <td>2019-03-18 16:47:36</td>\n",
       "      <td>6</td>\n",
       "      <td>057NPKXX</td>\n",
       "    </tr>\n",
       "    <tr>\n",
       "      <th>14</th>\n",
       "      <td>2019-03-08 12:34:43</td>\n",
       "      <td>6</td>\n",
       "      <td>zlrBrZ0d</td>\n",
       "    </tr>\n",
       "    <tr>\n",
       "      <th>18</th>\n",
       "      <td>2019-03-16 16:18:34</td>\n",
       "      <td>5</td>\n",
       "      <td>zPH6tQwc</td>\n",
       "    </tr>\n",
       "    <tr>\n",
       "      <th>36</th>\n",
       "      <td>2019-04-23 13:17:19</td>\n",
       "      <td>5</td>\n",
       "      <td>6KVLFFQF</td>\n",
       "    </tr>\n",
       "    <tr>\n",
       "      <th>13</th>\n",
       "      <td>2019-03-06 14:20:57</td>\n",
       "      <td>5</td>\n",
       "      <td>6YeTUHgm</td>\n",
       "    </tr>\n",
       "    <tr>\n",
       "      <th>23</th>\n",
       "      <td>2019-03-26 15:50:31</td>\n",
       "      <td>5</td>\n",
       "      <td>p4Ofo5uP</td>\n",
       "    </tr>\n",
       "    <tr>\n",
       "      <th>25</th>\n",
       "      <td>2019-04-01 13:43:49</td>\n",
       "      <td>5</td>\n",
       "      <td>7UCXvXJu</td>\n",
       "    </tr>\n",
       "    <tr>\n",
       "      <th>32</th>\n",
       "      <td>2019-04-15 12:28:54</td>\n",
       "      <td>5</td>\n",
       "      <td>sCKAcOTN</td>\n",
       "    </tr>\n",
       "    <tr>\n",
       "      <th>12</th>\n",
       "      <td>2019-03-04 15:34:46</td>\n",
       "      <td>4</td>\n",
       "      <td>OUBWQSCl</td>\n",
       "    </tr>\n",
       "    <tr>\n",
       "      <th>17</th>\n",
       "      <td>2019-03-14 12:46:19</td>\n",
       "      <td>4</td>\n",
       "      <td>g4si3TQ8</td>\n",
       "    </tr>\n",
       "    <tr>\n",
       "      <th>16</th>\n",
       "      <td>2019-03-12 15:33:28</td>\n",
       "      <td>3</td>\n",
       "      <td>Y3wTtqaJ</td>\n",
       "    </tr>\n",
       "    <tr>\n",
       "      <th>6</th>\n",
       "      <td>2019-02-16 14:52:23</td>\n",
       "      <td>3</td>\n",
       "      <td>bQXWpQ2z</td>\n",
       "    </tr>\n",
       "    <tr>\n",
       "      <th>11</th>\n",
       "      <td>2019-02-26 12:45:10</td>\n",
       "      <td>3</td>\n",
       "      <td>FEgRztcr</td>\n",
       "    </tr>\n",
       "    <tr>\n",
       "      <th>8</th>\n",
       "      <td>2019-02-20 16:35:12</td>\n",
       "      <td>3</td>\n",
       "      <td>zVuiSTm1</td>\n",
       "    </tr>\n",
       "    <tr>\n",
       "      <th>3</th>\n",
       "      <td>2019-02-10 16:50:22</td>\n",
       "      <td>2</td>\n",
       "      <td>M56OK96C</td>\n",
       "    </tr>\n",
       "    <tr>\n",
       "      <th>10</th>\n",
       "      <td>2019-02-24 12:39:30</td>\n",
       "      <td>2</td>\n",
       "      <td>MKDhBt9L</td>\n",
       "    </tr>\n",
       "    <tr>\n",
       "      <th>7</th>\n",
       "      <td>2019-02-18 15:45:33</td>\n",
       "      <td>2</td>\n",
       "      <td>gsFVGOTy</td>\n",
       "    </tr>\n",
       "    <tr>\n",
       "      <th>26</th>\n",
       "      <td>2019-04-03 15:12:15</td>\n",
       "      <td>2</td>\n",
       "      <td>NJ1D9dAt</td>\n",
       "    </tr>\n",
       "    <tr>\n",
       "      <th>9</th>\n",
       "      <td>2019-02-22 15:52:27</td>\n",
       "      <td>1</td>\n",
       "      <td>kuULtbnm</td>\n",
       "    </tr>\n",
       "    <tr>\n",
       "      <th>5</th>\n",
       "      <td>2019-02-14 15:10:45</td>\n",
       "      <td>1</td>\n",
       "      <td>LioXfSPk</td>\n",
       "    </tr>\n",
       "    <tr>\n",
       "      <th>4</th>\n",
       "      <td>2019-02-12 14:16:28</td>\n",
       "      <td>1</td>\n",
       "      <td>q2fqVqPc</td>\n",
       "    </tr>\n",
       "    <tr>\n",
       "      <th>1</th>\n",
       "      <td>2019-02-06 15:30:54</td>\n",
       "      <td>1</td>\n",
       "      <td>Q62R1Ue7</td>\n",
       "    </tr>\n",
       "    <tr>\n",
       "      <th>2</th>\n",
       "      <td>2019-02-08 14:53:45</td>\n",
       "      <td>1</td>\n",
       "      <td>GmfSxgPs</td>\n",
       "    </tr>\n",
       "    <tr>\n",
       "      <th>0</th>\n",
       "      <td>2019-02-04 13:22:34</td>\n",
       "      <td>1</td>\n",
       "      <td>6ukoNykP</td>\n",
       "    </tr>\n",
       "  </tbody>\n",
       "</table>\n",
       "</div>"
      ],
      "text/plain": [
       "             timestamp  level   page_id\n",
       "22 2019-03-24 13:49:22      9  WklxK6k4\n",
       "38 2019-04-27 12:48:14      8  5VRryKr6\n",
       "35 2019-04-21 14:40:17      8  JvTMAbs7\n",
       "30 2019-04-11 13:39:15      8  9mL07Mjl\n",
       "21 2019-03-22 16:36:19      8  s24ZIat3\n",
       "15 2019-03-10 13:12:57      7  Vih5ARKA\n",
       "34 2019-04-19 15:43:24      7  MSHZViNg\n",
       "31 2019-04-13 12:13:26      7  ILfc3WmK\n",
       "29 2019-04-09 14:57:20      7  SfnhoGh6\n",
       "27 2019-04-05 14:51:38      7  7JKRCdPA\n",
       "20 2019-03-20 15:53:36      7  VkTjZ6co\n",
       "37 2019-04-25 16:10:50      6  clLGJ4g3\n",
       "33 2019-04-17 16:54:17      6  JjIZd3Jy\n",
       "28 2019-04-07 16:29:58      6  bsORIc79\n",
       "24 2019-03-28 15:28:17      6  aQdvnaZX\n",
       "19 2019-03-18 16:47:36      6  057NPKXX\n",
       "14 2019-03-08 12:34:43      6  zlrBrZ0d\n",
       "18 2019-03-16 16:18:34      5  zPH6tQwc\n",
       "36 2019-04-23 13:17:19      5  6KVLFFQF\n",
       "13 2019-03-06 14:20:57      5  6YeTUHgm\n",
       "23 2019-03-26 15:50:31      5  p4Ofo5uP\n",
       "25 2019-04-01 13:43:49      5  7UCXvXJu\n",
       "32 2019-04-15 12:28:54      5  sCKAcOTN\n",
       "12 2019-03-04 15:34:46      4  OUBWQSCl\n",
       "17 2019-03-14 12:46:19      4  g4si3TQ8\n",
       "16 2019-03-12 15:33:28      3  Y3wTtqaJ\n",
       "6  2019-02-16 14:52:23      3  bQXWpQ2z\n",
       "11 2019-02-26 12:45:10      3  FEgRztcr\n",
       "8  2019-02-20 16:35:12      3  zVuiSTm1\n",
       "3  2019-02-10 16:50:22      2  M56OK96C\n",
       "10 2019-02-24 12:39:30      2  MKDhBt9L\n",
       "7  2019-02-18 15:45:33      2  gsFVGOTy\n",
       "26 2019-04-03 15:12:15      2  NJ1D9dAt\n",
       "9  2019-02-22 15:52:27      1  kuULtbnm\n",
       "5  2019-02-14 15:10:45      1  LioXfSPk\n",
       "4  2019-02-12 14:16:28      1  q2fqVqPc\n",
       "1  2019-02-06 15:30:54      1  Q62R1Ue7\n",
       "2  2019-02-08 14:53:45      1  GmfSxgPs\n",
       "0  2019-02-04 13:22:34      1  6ukoNykP"
      ]
     },
     "execution_count": 67,
     "metadata": {},
     "output_type": "execute_result"
    }
   ],
   "source": [
    "position.sort_values(by = 'level',ascending=False)"
   ]
  },
  {
   "cell_type": "code",
   "execution_count": 68,
   "id": "f3baeab2",
   "metadata": {},
   "outputs": [],
   "source": [
    "position['month'] = pd.DatetimeIndex(position['timestamp']).month"
   ]
  },
  {
   "cell_type": "code",
   "execution_count": 69,
   "id": "94e2cd7d",
   "metadata": {},
   "outputs": [
    {
     "data": {
      "text/html": [
       "<div>\n",
       "<style scoped>\n",
       "    .dataframe tbody tr th:only-of-type {\n",
       "        vertical-align: middle;\n",
       "    }\n",
       "\n",
       "    .dataframe tbody tr th {\n",
       "        vertical-align: top;\n",
       "    }\n",
       "\n",
       "    .dataframe thead th {\n",
       "        text-align: right;\n",
       "    }\n",
       "</style>\n",
       "<table border=\"1\" class=\"dataframe\">\n",
       "  <thead>\n",
       "    <tr style=\"text-align: right;\">\n",
       "      <th></th>\n",
       "      <th>timestamp</th>\n",
       "      <th>level</th>\n",
       "      <th>page_id</th>\n",
       "      <th>month</th>\n",
       "    </tr>\n",
       "  </thead>\n",
       "  <tbody>\n",
       "    <tr>\n",
       "      <th>0</th>\n",
       "      <td>2019-02-04 13:22:34</td>\n",
       "      <td>1</td>\n",
       "      <td>6ukoNykP</td>\n",
       "      <td>2</td>\n",
       "    </tr>\n",
       "    <tr>\n",
       "      <th>1</th>\n",
       "      <td>2019-02-06 15:30:54</td>\n",
       "      <td>1</td>\n",
       "      <td>Q62R1Ue7</td>\n",
       "      <td>2</td>\n",
       "    </tr>\n",
       "    <tr>\n",
       "      <th>2</th>\n",
       "      <td>2019-02-08 14:53:45</td>\n",
       "      <td>1</td>\n",
       "      <td>GmfSxgPs</td>\n",
       "      <td>2</td>\n",
       "    </tr>\n",
       "    <tr>\n",
       "      <th>3</th>\n",
       "      <td>2019-02-10 16:50:22</td>\n",
       "      <td>2</td>\n",
       "      <td>M56OK96C</td>\n",
       "      <td>2</td>\n",
       "    </tr>\n",
       "    <tr>\n",
       "      <th>4</th>\n",
       "      <td>2019-02-12 14:16:28</td>\n",
       "      <td>1</td>\n",
       "      <td>q2fqVqPc</td>\n",
       "      <td>2</td>\n",
       "    </tr>\n",
       "  </tbody>\n",
       "</table>\n",
       "</div>"
      ],
      "text/plain": [
       "            timestamp  level   page_id  month\n",
       "0 2019-02-04 13:22:34      1  6ukoNykP      2\n",
       "1 2019-02-06 15:30:54      1  Q62R1Ue7      2\n",
       "2 2019-02-08 14:53:45      1  GmfSxgPs      2\n",
       "3 2019-02-10 16:50:22      2  M56OK96C      2\n",
       "4 2019-02-12 14:16:28      1  q2fqVqPc      2"
      ]
     },
     "execution_count": 69,
     "metadata": {},
     "output_type": "execute_result"
    }
   ],
   "source": [
    "position.head()"
   ]
  },
  {
   "cell_type": "code",
   "execution_count": 70,
   "id": "1fe862d1",
   "metadata": {},
   "outputs": [
    {
     "data": {
      "text/plain": [
       "month\n",
       "2    1.750000\n",
       "3    5.769231\n",
       "4    6.214286\n",
       "Name: level, dtype: float64"
      ]
     },
     "execution_count": 70,
     "metadata": {},
     "output_type": "execute_result"
    }
   ],
   "source": [
    "position.groupby('month')['level'].mean()"
   ]
  },
  {
   "cell_type": "markdown",
   "id": "d713de60",
   "metadata": {},
   "source": [
    "## Обработка ошибок: try-except\n",
    "<a id='try_except'></a>"
   ]
  },
  {
   "cell_type": "code",
   "execution_count": 71,
   "id": "3e81c34e",
   "metadata": {},
   "outputs": [],
   "source": [
    "position = [\n",
    "    ['2019-05-01', '6'],\n",
    "    ['2019-05-02', '5'],\n",
    "    ['2019-05-03', '5'],\n",
    "    ['2019-05-04', '4'],\n",
    "    ['2019-05-05', '5'],\n",
    "    ['2019-05-06', '5'],\n",
    "    ['2019-05-07', '4'],\n",
    "    ['2019-05-08', '4'],\n",
    "    ['2019-05-09', '3'],\n",
    "    ['2019-05-10', '3'],\n",
    "]"
   ]
  },
  {
   "cell_type": "code",
   "execution_count": 72,
   "id": "c94c9fcf",
   "metadata": {},
   "outputs": [],
   "source": [
    "count_lines = 0\n",
    "total_position = 0"
   ]
  },
  {
   "cell_type": "code",
   "execution_count": 73,
   "id": "fed0813d",
   "metadata": {},
   "outputs": [],
   "source": [
    "for row in position:\n",
    "    count_lines += 1\n",
    "    level = int(row[1]) #в этой переменной сохраните позицию в выдаче \n",
    "    total_position += level#сложите все позиции в этой переменной "
   ]
  },
  {
   "cell_type": "code",
   "execution_count": 74,
   "id": "d89cb456",
   "metadata": {},
   "outputs": [
    {
     "name": "stdout",
     "output_type": "stream",
     "text": [
      "4.4\n"
     ]
    }
   ],
   "source": [
    "print(total_position/count_lines)"
   ]
  },
  {
   "cell_type": "markdown",
   "id": "0a712cf8",
   "metadata": {},
   "source": [
    "Формат выгрузки часто согласуют заранее: это помогает избежать проблем с некорректными данными. Вот и вам разработчики прислали формат на согласование: позиция сайта в выдаче на конкретную дату.\n",
    "Напишите цикл, подсчитывающий количество строк в данных. Результат выведите на экран."
   ]
  },
  {
   "cell_type": "code",
   "execution_count": 75,
   "id": "20539612",
   "metadata": {},
   "outputs": [
    {
     "ename": "ValueError",
     "evalue": "invalid literal for int() with base 10: '- 6'",
     "output_type": "error",
     "traceback": [
      "\u001b[1;31m---------------------------------------------------------------------------\u001b[0m",
      "\u001b[1;31mValueError\u001b[0m                                Traceback (most recent call last)",
      "\u001b[1;32m<ipython-input-75-2288d6cc42b5>\u001b[0m in \u001b[0;36m<module>\u001b[1;34m\u001b[0m\n\u001b[0;32m     16\u001b[0m \u001b[1;32mfor\u001b[0m \u001b[0mrow\u001b[0m \u001b[1;32min\u001b[0m \u001b[0mposition\u001b[0m\u001b[1;33m:\u001b[0m\u001b[1;33m\u001b[0m\u001b[1;33m\u001b[0m\u001b[0m\n\u001b[0;32m     17\u001b[0m     \u001b[0mcount_lines\u001b[0m \u001b[1;33m+=\u001b[0m \u001b[1;36m1\u001b[0m\u001b[1;33m\u001b[0m\u001b[1;33m\u001b[0m\u001b[0m\n\u001b[1;32m---> 18\u001b[1;33m     \u001b[0mlevel\u001b[0m \u001b[1;33m=\u001b[0m \u001b[0mint\u001b[0m\u001b[1;33m(\u001b[0m\u001b[0mrow\u001b[0m\u001b[1;33m[\u001b[0m\u001b[1;36m1\u001b[0m\u001b[1;33m]\u001b[0m\u001b[1;33m)\u001b[0m \u001b[1;31m#в этой переменной сохраните позицию в выдаче\u001b[0m\u001b[1;33m\u001b[0m\u001b[1;33m\u001b[0m\u001b[0m\n\u001b[0m\u001b[0;32m     19\u001b[0m     \u001b[0mtotal_position\u001b[0m \u001b[1;33m+=\u001b[0m \u001b[0mlevel\u001b[0m \u001b[1;31m#сложите все позиции в этой переменной\u001b[0m\u001b[1;33m\u001b[0m\u001b[1;33m\u001b[0m\u001b[0m\n",
      "\u001b[1;31mValueError\u001b[0m: invalid literal for int() with base 10: '- 6'"
     ]
    }
   ],
   "source": [
    "position = [\n",
    "    ['2019-05-01', '- 6'],\n",
    "    ['2019-05-02', '+5'],\n",
    "    ['2019-05-03', ' 5'],\n",
    "    ['2019-05-04', '4'],\n",
    "    ['2019-05-05', '5'],\n",
    "    ['2019-05-06', '5'],\n",
    "    ['2019-05-07', '4'],\n",
    "    ['2019-05-08', 'Error 5'],\n",
    "    ['2019-05-09', '3'],\n",
    "    ['2019-05-10', '3'],\n",
    "]\n",
    "count_lines = 0\n",
    "total_position = 0\n",
    "\n",
    "for row in position:\n",
    "    count_lines += 1\n",
    "    level = int(row[1]) #в этой переменной сохраните позицию в выдаче \n",
    "    total_position += level #сложите все позиции в этой переменной"
   ]
  },
  {
   "cell_type": "code",
   "execution_count": 76,
   "id": "a2c4807e",
   "metadata": {},
   "outputs": [
    {
     "name": "stdout",
     "output_type": "stream",
     "text": [
      "0.0\n"
     ]
    }
   ],
   "source": [
    "print(total_position/count_lines)"
   ]
  },
  {
   "cell_type": "code",
   "execution_count": 77,
   "id": "a531a228",
   "metadata": {},
   "outputs": [
    {
     "data": {
      "text/plain": [
       "1"
      ]
     },
     "execution_count": 77,
     "metadata": {},
     "output_type": "execute_result"
    }
   ],
   "source": [
    "int(+1)"
   ]
  },
  {
   "cell_type": "code",
   "execution_count": 78,
   "id": "f72cf375",
   "metadata": {},
   "outputs": [
    {
     "name": "stdout",
     "output_type": "stream",
     "text": [
      "Количество измерений 10\n",
      "Некорректные строки [['2019-05-01', '- 6'], ['2019-05-08', 'Error 5']]\n"
     ]
    }
   ],
   "source": [
    "position = [\n",
    "    ['2019-05-01', '- 6'],\n",
    "    ['2019-05-02', '+5'],\n",
    "    ['2019-05-03', ' 5'],\n",
    "    ['2019-05-04', '4'],\n",
    "    ['2019-05-05', '5'],\n",
    "    ['2019-05-06', '5'],\n",
    "    ['2019-05-07', '4'],\n",
    "    ['2019-05-08', 'Error 5'],\n",
    "    ['2019-05-09', '3'],\n",
    "    ['2019-05-10', '3'],\n",
    "]\n",
    "\n",
    "\n",
    "count_lines = 0\n",
    "wrong_lines_content = []\n",
    "\n",
    "for row in position:\n",
    "    count_lines+=1\n",
    "    try:\n",
    "        level = int(row[1])\n",
    "        \n",
    "    except:\n",
    "        wrong_lines_content.append(row)\n",
    "print('Количество измерений', count_lines)\n",
    "print('Некорректные строки', wrong_lines_content)"
   ]
  },
  {
   "cell_type": "code",
   "execution_count": 79,
   "id": "28104389",
   "metadata": {},
   "outputs": [
    {
     "data": {
      "text/html": [
       "<div>\n",
       "<style scoped>\n",
       "    .dataframe tbody tr th:only-of-type {\n",
       "        vertical-align: middle;\n",
       "    }\n",
       "\n",
       "    .dataframe tbody tr th {\n",
       "        vertical-align: top;\n",
       "    }\n",
       "\n",
       "    .dataframe thead th {\n",
       "        text-align: right;\n",
       "    }\n",
       "</style>\n",
       "<table border=\"1\" class=\"dataframe\">\n",
       "  <thead>\n",
       "    <tr style=\"text-align: right;\">\n",
       "      <th></th>\n",
       "      <th>subcategory_id</th>\n",
       "      <th>source</th>\n",
       "      <th>visits</th>\n",
       "      <th>Unnamed: 3</th>\n",
       "      <th>subcategory_name</th>\n",
       "      <th>category_id</th>\n",
       "      <th>category_name</th>\n",
       "    </tr>\n",
       "  </thead>\n",
       "  <tbody>\n",
       "    <tr>\n",
       "      <th>0</th>\n",
       "      <td>cf2e61c7af</td>\n",
       "      <td>direct</td>\n",
       "      <td>501165.668858</td>\n",
       "      <td>NaN</td>\n",
       "      <td>Мобильные телефоны</td>\n",
       "      <td>09f279a643</td>\n",
       "      <td>Электроника</td>\n",
       "    </tr>\n",
       "    <tr>\n",
       "      <th>1</th>\n",
       "      <td>0cd903d1cc</td>\n",
       "      <td>direct</td>\n",
       "      <td>126342.359505</td>\n",
       "      <td>NaN</td>\n",
       "      <td>Ноутбуки</td>\n",
       "      <td>3509869a61</td>\n",
       "      <td>Компьютерная техника</td>\n",
       "    </tr>\n",
       "    <tr>\n",
       "      <th>2</th>\n",
       "      <td>ef35bc88a7</td>\n",
       "      <td>direct</td>\n",
       "      <td>95626.321402</td>\n",
       "      <td>NaN</td>\n",
       "      <td>Телевизоры</td>\n",
       "      <td>09f279a643</td>\n",
       "      <td>Электроника</td>\n",
       "    </tr>\n",
       "    <tr>\n",
       "      <th>3</th>\n",
       "      <td>6ff9f4014c</td>\n",
       "      <td>direct</td>\n",
       "      <td>75680.653002</td>\n",
       "      <td>NaN</td>\n",
       "      <td>Планшеты</td>\n",
       "      <td>3509869a61</td>\n",
       "      <td>Компьютерная техника</td>\n",
       "    </tr>\n",
       "    <tr>\n",
       "      <th>4</th>\n",
       "      <td>72bc238e4d</td>\n",
       "      <td>direct</td>\n",
       "      <td>64435.934651</td>\n",
       "      <td>NaN</td>\n",
       "      <td>Наушники и Bluetooth-гарнитуры</td>\n",
       "      <td>09f279a643</td>\n",
       "      <td>Электроника</td>\n",
       "    </tr>\n",
       "    <tr>\n",
       "      <th>...</th>\n",
       "      <td>...</td>\n",
       "      <td>...</td>\n",
       "      <td>...</td>\n",
       "      <td>...</td>\n",
       "      <td>...</td>\n",
       "      <td>...</td>\n",
       "      <td>...</td>\n",
       "    </tr>\n",
       "    <tr>\n",
       "      <th>1925</th>\n",
       "      <td>c51343bf77</td>\n",
       "      <td>organic</td>\n",
       "      <td>15.640773</td>\n",
       "      <td>NaN</td>\n",
       "      <td>Свитеры и кардиганы</td>\n",
       "      <td>6074ad29ac</td>\n",
       "      <td>Одежда, обувь и аксессуары</td>\n",
       "    </tr>\n",
       "    <tr>\n",
       "      <th>1926</th>\n",
       "      <td>d942687638</td>\n",
       "      <td>organic</td>\n",
       "      <td>13.87554</td>\n",
       "      <td>NaN</td>\n",
       "      <td>Термобелье</td>\n",
       "      <td>6074ad29ac</td>\n",
       "      <td>Одежда, обувь и аксессуары</td>\n",
       "    </tr>\n",
       "    <tr>\n",
       "      <th>1927</th>\n",
       "      <td>976642886f</td>\n",
       "      <td>organic</td>\n",
       "      <td>9.204211</td>\n",
       "      <td>NaN</td>\n",
       "      <td>Наклейки, шильдики и значки</td>\n",
       "      <td>65922fa39c</td>\n",
       "      <td>Авто</td>\n",
       "    </tr>\n",
       "    <tr>\n",
       "      <th>1928</th>\n",
       "      <td>075994491e</td>\n",
       "      <td>organic</td>\n",
       "      <td>4.606261</td>\n",
       "      <td>NaN</td>\n",
       "      <td>Гигиена полости рта</td>\n",
       "      <td>7dbac4c1a3</td>\n",
       "      <td>Детские товары</td>\n",
       "    </tr>\n",
       "    <tr>\n",
       "      <th>1929</th>\n",
       "      <td>total</td>\n",
       "      <td>organic</td>\n",
       "      <td>\"5687882\"</td>\n",
       "      <td>NaN</td>\n",
       "      <td>NaN</td>\n",
       "      <td>NaN</td>\n",
       "      <td>NaN</td>\n",
       "    </tr>\n",
       "  </tbody>\n",
       "</table>\n",
       "<p>1930 rows × 7 columns</p>\n",
       "</div>"
      ],
      "text/plain": [
       "     subcategory_id   source         visits  Unnamed: 3  \\\n",
       "0        cf2e61c7af   direct  501165.668858         NaN   \n",
       "1        0cd903d1cc   direct  126342.359505         NaN   \n",
       "2        ef35bc88a7   direct   95626.321402         NaN   \n",
       "3        6ff9f4014c   direct   75680.653002         NaN   \n",
       "4        72bc238e4d   direct   64435.934651         NaN   \n",
       "...             ...      ...            ...         ...   \n",
       "1925     c51343bf77  organic      15.640773         NaN   \n",
       "1926     d942687638  organic       13.87554         NaN   \n",
       "1927     976642886f  organic       9.204211         NaN   \n",
       "1928     075994491e  organic       4.606261         NaN   \n",
       "1929          total  organic      \"5687882\"         NaN   \n",
       "\n",
       "                    subcategory_name category_id               category_name  \n",
       "0                 Мобильные телефоны  09f279a643                 Электроника  \n",
       "1                           Ноутбуки  3509869a61        Компьютерная техника  \n",
       "2                         Телевизоры  09f279a643                 Электроника  \n",
       "3                           Планшеты  3509869a61        Компьютерная техника  \n",
       "4     Наушники и Bluetooth-гарнитуры  09f279a643                 Электроника  \n",
       "...                              ...         ...                         ...  \n",
       "1925             Свитеры и кардиганы  6074ad29ac  Одежда, обувь и аксессуары  \n",
       "1926                      Термобелье  6074ad29ac  Одежда, обувь и аксессуары  \n",
       "1927     Наклейки, шильдики и значки  65922fa39c                        Авто  \n",
       "1928             Гигиена полости рта  7dbac4c1a3              Детские товары  \n",
       "1929                             NaN         NaN                         NaN  \n",
       "\n",
       "[1930 rows x 7 columns]"
      ]
     },
     "execution_count": 79,
     "metadata": {},
     "output_type": "execute_result"
    }
   ],
   "source": [
    "data_final"
   ]
  },
  {
   "cell_type": "markdown",
   "id": "eea1ca56",
   "metadata": {},
   "source": [
    "## Сводные таблицы\n",
    "<a id='pivot_table'></a>"
   ]
  },
  {
   "cell_type": "markdown",
   "id": "2cb74e50",
   "metadata": {},
   "source": [
    " Pandas для подготовки сводных таблиц вызывают метод pivot_table().\n",
    "Аргументы метода:\n",
    "## index — столбец или столбцы, по которым группируют данные (название товара)\n",
    "## columns — столбец, по значениям которого происходит группировка (даты)\n",
    "## values — значения, по которым мы хотим увидеть сводную таблицу (количество проданного товара)\n",
    "## aggfunc — функция, применяемая к значениям (сумма товаров)"
   ]
  },
  {
   "cell_type": "code",
   "execution_count": 80,
   "id": "ba54b453",
   "metadata": {},
   "outputs": [],
   "source": [
    "data_pivot = data_final.pivot_table(index=['category_name','subcategory_name'],columns='source',values='visits',aggfunc='sum')"
   ]
  },
  {
   "cell_type": "code",
   "execution_count": 81,
   "id": "3e21fdd2",
   "metadata": {},
   "outputs": [
    {
     "data": {
      "text/html": [
       "<div>\n",
       "<style scoped>\n",
       "    .dataframe tbody tr th:only-of-type {\n",
       "        vertical-align: middle;\n",
       "    }\n",
       "\n",
       "    .dataframe tbody tr th {\n",
       "        vertical-align: top;\n",
       "    }\n",
       "\n",
       "    .dataframe thead th {\n",
       "        text-align: right;\n",
       "    }\n",
       "</style>\n",
       "<table border=\"1\" class=\"dataframe\">\n",
       "  <thead>\n",
       "    <tr style=\"text-align: right;\">\n",
       "      <th></th>\n",
       "      <th>source</th>\n",
       "      <th>direct</th>\n",
       "      <th>organic</th>\n",
       "    </tr>\n",
       "    <tr>\n",
       "      <th>category_name</th>\n",
       "      <th>subcategory_name</th>\n",
       "      <th></th>\n",
       "      <th></th>\n",
       "    </tr>\n",
       "  </thead>\n",
       "  <tbody>\n",
       "    <tr>\n",
       "      <th rowspan=\"5\" valign=\"top\">Авто</th>\n",
       "      <th>Автоакустика</th>\n",
       "      <td>5915.606541</td>\n",
       "      <td>15433.405558</td>\n",
       "    </tr>\n",
       "    <tr>\n",
       "      <th>Автомагнитолы</th>\n",
       "      <td>7783.806626</td>\n",
       "      <td>18690.016622</td>\n",
       "    </tr>\n",
       "    <tr>\n",
       "      <th>Автомобильные инверторы</th>\n",
       "      <td>145.925199</td>\n",
       "      <td>150.592871</td>\n",
       "    </tr>\n",
       "    <tr>\n",
       "      <th>Автомобильные компрессоры</th>\n",
       "      <td>407.264303</td>\n",
       "      <td>790.164679</td>\n",
       "    </tr>\n",
       "    <tr>\n",
       "      <th>Автомобильные телевизоры</th>\n",
       "      <td>975.978827</td>\n",
       "      <td>2246.595618</td>\n",
       "    </tr>\n",
       "    <tr>\n",
       "      <th>...</th>\n",
       "      <th>...</th>\n",
       "      <td>...</td>\n",
       "      <td>...</td>\n",
       "    </tr>\n",
       "    <tr>\n",
       "      <th rowspan=\"5\" valign=\"top\">Электроника</th>\n",
       "      <th>Чехлы</th>\n",
       "      <td>4582.490928</td>\n",
       "      <td>11758.626255</td>\n",
       "    </tr>\n",
       "    <tr>\n",
       "      <th>Чехлы-аккумуляторы</th>\n",
       "      <td>219.497835</td>\n",
       "      <td>331.593190</td>\n",
       "    </tr>\n",
       "    <tr>\n",
       "      <th>Штативы и моноподы</th>\n",
       "      <td>1152.649574</td>\n",
       "      <td>2540.285866</td>\n",
       "    </tr>\n",
       "    <tr>\n",
       "      <th>Экшн-камеры</th>\n",
       "      <td>4757.007263</td>\n",
       "      <td>12376.961199</td>\n",
       "    </tr>\n",
       "    <tr>\n",
       "      <th>Электронные книги</th>\n",
       "      <td>4515.013986</td>\n",
       "      <td>11364.344055</td>\n",
       "    </tr>\n",
       "  </tbody>\n",
       "</table>\n",
       "<p>934 rows × 2 columns</p>\n",
       "</div>"
      ],
      "text/plain": [
       "source                                        direct       organic\n",
       "category_name subcategory_name                                    \n",
       "Авто          Автоакустика               5915.606541  15433.405558\n",
       "              Автомагнитолы              7783.806626  18690.016622\n",
       "              Автомобильные инверторы     145.925199    150.592871\n",
       "              Автомобильные компрессоры   407.264303    790.164679\n",
       "              Автомобильные телевизоры    975.978827   2246.595618\n",
       "...                                              ...           ...\n",
       "Электроника   Чехлы                      4582.490928  11758.626255\n",
       "              Чехлы-аккумуляторы          219.497835    331.593190\n",
       "              Штативы и моноподы         1152.649574   2540.285866\n",
       "              Экшн-камеры                4757.007263  12376.961199\n",
       "              Электронные книги          4515.013986  11364.344055\n",
       "\n",
       "[934 rows x 2 columns]"
      ]
     },
     "execution_count": 81,
     "metadata": {},
     "output_type": "execute_result"
    }
   ],
   "source": [
    "data_pivot"
   ]
  },
  {
   "cell_type": "code",
   "execution_count": 82,
   "id": "877111b9",
   "metadata": {},
   "outputs": [
    {
     "name": "stdout",
     "output_type": "stream",
     "text": [
      "source category_name            subcategory_name       direct       organic\n",
      "0               Авто                Автоакустика  5915.606541  15433.405558\n",
      "1               Авто               Автомагнитолы  7783.806626  18690.016622\n",
      "2               Авто     Автомобильные инверторы   145.925199    150.592871\n",
      "3               Авто   Автомобильные компрессоры   407.264303    790.164679\n",
      "4               Авто    Автомобильные телевизоры   975.978827   2246.595618\n",
      "5               Авто  Автомобильные холодильники   204.631014    285.110834\n",
      "6               Авто            Автосигнализации   494.025691   1026.092391\n",
      "7               Авто      Аккумуляторные батареи  1175.227510   2657.217881\n",
      "8               Авто                   Антифризы   736.588757   1568.277621\n",
      "9               Авто         Багажники, рейлинги   342.372257    664.308906\n"
     ]
    }
   ],
   "source": [
    "data_pivot_with_reset_index = data_pivot.reset_index()\n",
    "print(data_pivot_with_reset_index.head(10))"
   ]
  },
  {
   "cell_type": "code",
   "execution_count": 83,
   "id": "d24b5d3e",
   "metadata": {},
   "outputs": [],
   "source": [
    "data_pivot['ratio'] = data_pivot['organic']/data_pivot['direct']"
   ]
  },
  {
   "cell_type": "code",
   "execution_count": 84,
   "id": "f82da2ce",
   "metadata": {},
   "outputs": [
    {
     "data": {
      "text/html": [
       "<div>\n",
       "<style scoped>\n",
       "    .dataframe tbody tr th:only-of-type {\n",
       "        vertical-align: middle;\n",
       "    }\n",
       "\n",
       "    .dataframe tbody tr th {\n",
       "        vertical-align: top;\n",
       "    }\n",
       "\n",
       "    .dataframe thead th {\n",
       "        text-align: right;\n",
       "    }\n",
       "</style>\n",
       "<table border=\"1\" class=\"dataframe\">\n",
       "  <thead>\n",
       "    <tr style=\"text-align: right;\">\n",
       "      <th></th>\n",
       "      <th>source</th>\n",
       "      <th>direct</th>\n",
       "      <th>organic</th>\n",
       "      <th>ratio</th>\n",
       "    </tr>\n",
       "    <tr>\n",
       "      <th>category_name</th>\n",
       "      <th>subcategory_name</th>\n",
       "      <th></th>\n",
       "      <th></th>\n",
       "      <th></th>\n",
       "    </tr>\n",
       "  </thead>\n",
       "  <tbody>\n",
       "    <tr>\n",
       "      <th rowspan=\"5\" valign=\"top\">Авто</th>\n",
       "      <th>Автоакустика</th>\n",
       "      <td>5915.606541</td>\n",
       "      <td>15433.405558</td>\n",
       "      <td>2.608930</td>\n",
       "    </tr>\n",
       "    <tr>\n",
       "      <th>Автомагнитолы</th>\n",
       "      <td>7783.806626</td>\n",
       "      <td>18690.016622</td>\n",
       "      <td>2.401141</td>\n",
       "    </tr>\n",
       "    <tr>\n",
       "      <th>Автомобильные инверторы</th>\n",
       "      <td>145.925199</td>\n",
       "      <td>150.592871</td>\n",
       "      <td>1.031987</td>\n",
       "    </tr>\n",
       "    <tr>\n",
       "      <th>Автомобильные компрессоры</th>\n",
       "      <td>407.264303</td>\n",
       "      <td>790.164679</td>\n",
       "      <td>1.940177</td>\n",
       "    </tr>\n",
       "    <tr>\n",
       "      <th>Автомобильные телевизоры</th>\n",
       "      <td>975.978827</td>\n",
       "      <td>2246.595618</td>\n",
       "      <td>2.301890</td>\n",
       "    </tr>\n",
       "    <tr>\n",
       "      <th>...</th>\n",
       "      <th>...</th>\n",
       "      <td>...</td>\n",
       "      <td>...</td>\n",
       "      <td>...</td>\n",
       "    </tr>\n",
       "    <tr>\n",
       "      <th rowspan=\"5\" valign=\"top\">Электроника</th>\n",
       "      <th>Чехлы</th>\n",
       "      <td>4582.490928</td>\n",
       "      <td>11758.626255</td>\n",
       "      <td>2.565990</td>\n",
       "    </tr>\n",
       "    <tr>\n",
       "      <th>Чехлы-аккумуляторы</th>\n",
       "      <td>219.497835</td>\n",
       "      <td>331.593190</td>\n",
       "      <td>1.510690</td>\n",
       "    </tr>\n",
       "    <tr>\n",
       "      <th>Штативы и моноподы</th>\n",
       "      <td>1152.649574</td>\n",
       "      <td>2540.285866</td>\n",
       "      <td>2.203867</td>\n",
       "    </tr>\n",
       "    <tr>\n",
       "      <th>Экшн-камеры</th>\n",
       "      <td>4757.007263</td>\n",
       "      <td>12376.961199</td>\n",
       "      <td>2.601838</td>\n",
       "    </tr>\n",
       "    <tr>\n",
       "      <th>Электронные книги</th>\n",
       "      <td>4515.013986</td>\n",
       "      <td>11364.344055</td>\n",
       "      <td>2.517012</td>\n",
       "    </tr>\n",
       "  </tbody>\n",
       "</table>\n",
       "<p>934 rows × 3 columns</p>\n",
       "</div>"
      ],
      "text/plain": [
       "source                                        direct       organic     ratio\n",
       "category_name subcategory_name                                              \n",
       "Авто          Автоакустика               5915.606541  15433.405558  2.608930\n",
       "              Автомагнитолы              7783.806626  18690.016622  2.401141\n",
       "              Автомобильные инверторы     145.925199    150.592871  1.031987\n",
       "              Автомобильные компрессоры   407.264303    790.164679  1.940177\n",
       "              Автомобильные телевизоры    975.978827   2246.595618  2.301890\n",
       "...                                              ...           ...       ...\n",
       "Электроника   Чехлы                      4582.490928  11758.626255  2.565990\n",
       "              Чехлы-аккумуляторы          219.497835    331.593190  1.510690\n",
       "              Штативы и моноподы         1152.649574   2540.285866  2.203867\n",
       "              Экшн-камеры                4757.007263  12376.961199  2.601838\n",
       "              Электронные книги          4515.013986  11364.344055  2.517012\n",
       "\n",
       "[934 rows x 3 columns]"
      ]
     },
     "execution_count": 84,
     "metadata": {},
     "output_type": "execute_result"
    }
   ],
   "source": [
    "data_pivot"
   ]
  },
  {
   "cell_type": "code",
   "execution_count": 85,
   "id": "5e0efc3a",
   "metadata": {
    "scrolled": true
   },
   "outputs": [
    {
     "name": "stdout",
     "output_type": "stream",
     "text": [
      "source                                                       direct  \\\n",
      "category_name              subcategory_name                           \n",
      "Авто                       Шины                        39638.202995   \n",
      "Бытовая техника            Стиральные машины           22064.436847   \n",
      "Спорт и отдых              Велосипеды                  16009.579071   \n",
      "Детские товары             Коляски                     18079.643217   \n",
      "Строительство и ремонт     Сварочные аппараты           6175.438323   \n",
      "...                                                             ...   \n",
      "Товары для здоровья        Бандажи и ортезы             1659.195233   \n",
      "Электроника                Защитные пленки и стекла     1560.395673   \n",
      "Строительство и ремонт     Нивелиры и лазерные уровни   1651.947395   \n",
      "Одежда, обувь и аксессуары Туфли                        1036.253838   \n",
      "                           Сапоги                       1009.586105   \n",
      "\n",
      "source                                                       organic     ratio  \n",
      "category_name              subcategory_name                                     \n",
      "Авто                       Шины                        153859.454228  3.881595  \n",
      "Бытовая техника            Стиральные машины            64570.606526  2.926456  \n",
      "Спорт и отдых              Велосипеды                   46087.870786  2.878768  \n",
      "Детские товары             Коляски                      52005.251013  2.876453  \n",
      "Строительство и ремонт     Сварочные аппараты           17325.802396  2.805599  \n",
      "...                                                              ...       ...  \n",
      "Товары для здоровья        Бандажи и ортезы              3453.165773  2.081229  \n",
      "Электроника                Защитные пленки и стекла      3246.629811  2.080645  \n",
      "Строительство и ремонт     Нивелиры и лазерные уровни    3436.972506  2.080558  \n",
      "Одежда, обувь и аксессуары Туфли                         2097.368209  2.023991  \n",
      "                           Сапоги                        2021.903456  2.002705  \n",
      "\n",
      "[266 rows x 3 columns]\n"
     ]
    }
   ],
   "source": [
    "print(data_pivot.loc[data_pivot['direct']>1000].sort_values(by='ratio',ascending=False))"
   ]
  },
  {
   "cell_type": "code",
   "execution_count": 86,
   "id": "d04332cb",
   "metadata": {},
   "outputs": [
    {
     "name": "stdout",
     "output_type": "stream",
     "text": [
      "Сырок Мечта        2\n",
      "Сырок Дружба       2\n",
      "Молоко Отличное    1\n",
      "Молоко Вкусное     1\n",
      "Name: name, dtype: int64\n"
     ]
    }
   ],
   "source": [
    "df = pd.DataFrame({\n",
    "    'name': ['Сырок Мечта', 'Молоко Отличное', 'Сырок Мечта', 'Сырок Дружба',\\\n",
    "             'Сырок Дружба', 'Молоко Вкусное'],\n",
    "    'count': [120, 200, 125, 100, 35, 500]\n",
    "})\n",
    "\n",
    "print(df['name'].value_counts())"
   ]
  },
  {
   "cell_type": "code",
   "execution_count": 87,
   "id": "7f8a892c",
   "metadata": {},
   "outputs": [
    {
     "data": {
      "text/html": [
       "<div>\n",
       "<style scoped>\n",
       "    .dataframe tbody tr th:only-of-type {\n",
       "        vertical-align: middle;\n",
       "    }\n",
       "\n",
       "    .dataframe tbody tr th {\n",
       "        vertical-align: top;\n",
       "    }\n",
       "\n",
       "    .dataframe thead th {\n",
       "        text-align: right;\n",
       "    }\n",
       "</style>\n",
       "<table border=\"1\" class=\"dataframe\">\n",
       "  <thead>\n",
       "    <tr style=\"text-align: right;\">\n",
       "      <th></th>\n",
       "      <th>name</th>\n",
       "      <th>count</th>\n",
       "    </tr>\n",
       "  </thead>\n",
       "  <tbody>\n",
       "    <tr>\n",
       "      <th>0</th>\n",
       "      <td>Сырок Мечта</td>\n",
       "      <td>120</td>\n",
       "    </tr>\n",
       "    <tr>\n",
       "      <th>1</th>\n",
       "      <td>Молоко Отличное</td>\n",
       "      <td>200</td>\n",
       "    </tr>\n",
       "    <tr>\n",
       "      <th>2</th>\n",
       "      <td>Сырок Мечта</td>\n",
       "      <td>125</td>\n",
       "    </tr>\n",
       "    <tr>\n",
       "      <th>3</th>\n",
       "      <td>Сырок Дружба</td>\n",
       "      <td>100</td>\n",
       "    </tr>\n",
       "    <tr>\n",
       "      <th>4</th>\n",
       "      <td>Сырок Дружба</td>\n",
       "      <td>35</td>\n",
       "    </tr>\n",
       "    <tr>\n",
       "      <th>5</th>\n",
       "      <td>Молоко Вкусное</td>\n",
       "      <td>500</td>\n",
       "    </tr>\n",
       "  </tbody>\n",
       "</table>\n",
       "</div>"
      ],
      "text/plain": [
       "              name  count\n",
       "0      Сырок Мечта    120\n",
       "1  Молоко Отличное    200\n",
       "2      Сырок Мечта    125\n",
       "3     Сырок Дружба    100\n",
       "4     Сырок Дружба     35\n",
       "5   Молоко Вкусное    500"
      ]
     },
     "execution_count": 87,
     "metadata": {},
     "output_type": "execute_result"
    }
   ],
   "source": [
    "df"
   ]
  },
  {
   "cell_type": "code",
   "execution_count": 88,
   "id": "434d2a47",
   "metadata": {},
   "outputs": [
    {
     "data": {
      "text/plain": [
       "name\n",
       "Молоко Вкусное     500\n",
       "Молоко Отличное    200\n",
       "Сырок Дружба       135\n",
       "Сырок Мечта        245\n",
       "Name: count, dtype: int64"
      ]
     },
     "execution_count": 88,
     "metadata": {},
     "output_type": "execute_result"
    }
   ],
   "source": [
    "df.groupby('name')['count'].sum()"
   ]
  },
  {
   "cell_type": "code",
   "execution_count": 89,
   "id": "f629a857",
   "metadata": {},
   "outputs": [
    {
     "data": {
      "text/plain": [
       "0    False\n",
       "1    False\n",
       "2     True\n",
       "3    False\n",
       "4     True\n",
       "5    False\n",
       "Name: name, dtype: bool"
      ]
     },
     "execution_count": 89,
     "metadata": {},
     "output_type": "execute_result"
    }
   ],
   "source": [
    "df['name'].duplicated()"
   ]
  },
  {
   "cell_type": "code",
   "execution_count": 90,
   "id": "39f8c56a",
   "metadata": {},
   "outputs": [
    {
     "name": "stdout",
     "output_type": "stream",
     "text": [
      "              name  count\n",
      "0      Сырок Мечта    120\n",
      "1  Молоко Отличное    200\n",
      "3     Сырок Дружба    100\n",
      "5   Молоко Вкусное    500\n",
      "              name  count\n",
      "0      Сырок Мечта    120\n",
      "1  Молоко Отличное    200\n",
      "3     Сырок Дружба    100\n",
      "5   Молоко Вкусное    500\n"
     ]
    }
   ],
   "source": [
    "mechta = df[df['name'] == 'Сырок Мечта']['count'].sum()\n",
    "druzhba = df[df['name'] == 'Сырок Дружба']['count'].sum()\n",
    "\n",
    "df = df.drop_duplicates(subset=['name'], keep='first')\n",
    "print(df)\n",
    "df = df.drop_duplicates(subset=['name'], keep='last')\n",
    "print(df)"
   ]
  },
  {
   "cell_type": "code",
   "execution_count": 91,
   "id": "efeb865e",
   "metadata": {},
   "outputs": [
    {
     "name": "stdout",
     "output_type": "stream",
     "text": [
      "              name  count\n",
      "0      Сырок Мечта    120\n",
      "1  Молоко Отличное    200\n",
      "2     Сырок Дружба    100\n",
      "3   Молоко Вкусное    500\n"
     ]
    }
   ],
   "source": [
    "df = df.reset_index(drop=True)\n",
    "print(df)"
   ]
  },
  {
   "cell_type": "code",
   "execution_count": 92,
   "id": "feec16ec",
   "metadata": {},
   "outputs": [
    {
     "name": "stdout",
     "output_type": "stream",
     "text": [
      "              name  count\n",
      "0      Сырок Мечта    245\n",
      "1  Молоко Отличное    200\n",
      "2     Сырок Дружба    135\n",
      "3   Молоко Вкусное    500\n"
     ]
    }
   ],
   "source": [
    "df.loc[0, 'count'] = mechta\n",
    "df.loc[2, 'count'] = druzhba\n",
    "\n",
    "print(df)"
   ]
  },
  {
   "cell_type": "markdown",
   "id": "0c0f64b4",
   "metadata": {},
   "source": [
    "## Лаборатория ручного поиска дубликатов\n",
    "<a id='dupl'></a>"
   ]
  },
  {
   "cell_type": "code",
   "execution_count": 93,
   "id": "4b4d493f",
   "metadata": {},
   "outputs": [],
   "source": [
    "stock = pd.read_excel('stock.xlsx',sheet_name='storehouse')"
   ]
  },
  {
   "cell_type": "code",
   "execution_count": 94,
   "id": "f7f86006",
   "metadata": {},
   "outputs": [
    {
     "data": {
      "text/html": [
       "<div>\n",
       "<style scoped>\n",
       "    .dataframe tbody tr th:only-of-type {\n",
       "        vertical-align: middle;\n",
       "    }\n",
       "\n",
       "    .dataframe tbody tr th {\n",
       "        vertical-align: top;\n",
       "    }\n",
       "\n",
       "    .dataframe thead th {\n",
       "        text-align: right;\n",
       "    }\n",
       "</style>\n",
       "<table border=\"1\" class=\"dataframe\">\n",
       "  <thead>\n",
       "    <tr style=\"text-align: right;\">\n",
       "      <th></th>\n",
       "      <th>id</th>\n",
       "      <th>item</th>\n",
       "      <th>count</th>\n",
       "    </tr>\n",
       "  </thead>\n",
       "  <tbody>\n",
       "    <tr>\n",
       "      <th>0</th>\n",
       "      <td>100480924</td>\n",
       "      <td>Смартфон Xiaomi Redmi 6A 16GB</td>\n",
       "      <td>32</td>\n",
       "    </tr>\n",
       "    <tr>\n",
       "      <th>1</th>\n",
       "      <td>100480929</td>\n",
       "      <td>Смартфон Xiaomi Redmi 6A 16GB</td>\n",
       "      <td>10</td>\n",
       "    </tr>\n",
       "    <tr>\n",
       "      <th>2</th>\n",
       "      <td>100480938</td>\n",
       "      <td>Смартфон Samsung Galaxy A30 32GB</td>\n",
       "      <td>49</td>\n",
       "    </tr>\n",
       "    <tr>\n",
       "      <th>3</th>\n",
       "      <td>100480952</td>\n",
       "      <td>смартфон Samsung Galaxy A30 32gb</td>\n",
       "      <td>11</td>\n",
       "    </tr>\n",
       "    <tr>\n",
       "      <th>4</th>\n",
       "      <td>100480959</td>\n",
       "      <td>Смартфон HUAWEI P30 lite</td>\n",
       "      <td>5</td>\n",
       "    </tr>\n",
       "    <tr>\n",
       "      <th>5</th>\n",
       "      <td>100480975</td>\n",
       "      <td>Смартфон Apple iPhone Xr 64gb</td>\n",
       "      <td>10</td>\n",
       "    </tr>\n",
       "    <tr>\n",
       "      <th>6</th>\n",
       "      <td>100480988</td>\n",
       "      <td>Смартфон Honor 8X 64GB</td>\n",
       "      <td>64</td>\n",
       "    </tr>\n",
       "    <tr>\n",
       "      <th>7</th>\n",
       "      <td>100480998</td>\n",
       "      <td>Смартфон HUAWEI P30 lite</td>\n",
       "      <td>33</td>\n",
       "    </tr>\n",
       "    <tr>\n",
       "      <th>8</th>\n",
       "      <td>100481008</td>\n",
       "      <td>Смартфон Xiaomi Redmi 6A 16GB</td>\n",
       "      <td>2</td>\n",
       "    </tr>\n",
       "    <tr>\n",
       "      <th>9</th>\n",
       "      <td>100481020</td>\n",
       "      <td>Смартфон Apple iPhone Xr 64GB</td>\n",
       "      <td>19</td>\n",
       "    </tr>\n",
       "  </tbody>\n",
       "</table>\n",
       "</div>"
      ],
      "text/plain": [
       "          id                              item  count\n",
       "0  100480924     Смартфон Xiaomi Redmi 6A 16GB     32\n",
       "1  100480929     Смартфон Xiaomi Redmi 6A 16GB     10\n",
       "2  100480938  Смартфон Samsung Galaxy A30 32GB     49\n",
       "3  100480952  смартфон Samsung Galaxy A30 32gb     11\n",
       "4  100480959          Смартфон HUAWEI P30 lite      5\n",
       "5  100480975     Смартфон Apple iPhone Xr 64gb     10\n",
       "6  100480988            Смартфон Honor 8X 64GB     64\n",
       "7  100480998          Смартфон HUAWEI P30 lite     33\n",
       "8  100481008     Смартфон Xiaomi Redmi 6A 16GB      2\n",
       "9  100481020     Смартфон Apple iPhone Xr 64GB     19"
      ]
     },
     "execution_count": 94,
     "metadata": {},
     "output_type": "execute_result"
    }
   ],
   "source": [
    "stock.head(10)"
   ]
  },
  {
   "cell_type": "code",
   "execution_count": 95,
   "id": "eea53027",
   "metadata": {},
   "outputs": [
    {
     "name": "stdout",
     "output_type": "stream",
     "text": [
      "<class 'pandas.core.frame.DataFrame'>\n",
      "RangeIndex: 10 entries, 0 to 9\n",
      "Data columns (total 3 columns):\n",
      " #   Column  Non-Null Count  Dtype \n",
      "---  ------  --------------  ----- \n",
      " 0   id      10 non-null     int64 \n",
      " 1   item    10 non-null     object\n",
      " 2   count   10 non-null     int64 \n",
      "dtypes: int64(2), object(1)\n",
      "memory usage: 368.0+ bytes\n"
     ]
    }
   ],
   "source": [
    "stock.info()"
   ]
  },
  {
   "cell_type": "code",
   "execution_count": 96,
   "id": "6fe93d55",
   "metadata": {},
   "outputs": [
    {
     "data": {
      "text/plain": [
       "3"
      ]
     },
     "execution_count": 96,
     "metadata": {},
     "output_type": "execute_result"
    }
   ],
   "source": [
    "stock['item'].duplicated().sum()"
   ]
  },
  {
   "cell_type": "code",
   "execution_count": 97,
   "id": "dd2778a1",
   "metadata": {},
   "outputs": [
    {
     "data": {
      "text/plain": [
       "Смартфон Xiaomi Redmi 6A 16GB       3\n",
       "Смартфон HUAWEI P30 lite            2\n",
       "Смартфон Apple iPhone Xr 64gb       1\n",
       "Смартфон Samsung Galaxy A30 32GB    1\n",
       "Смартфон Honor 8X 64GB              1\n",
       "Смартфон Apple iPhone Xr 64GB       1\n",
       "смартфон Samsung Galaxy A30 32gb    1\n",
       "Name: item, dtype: int64"
      ]
     },
     "execution_count": 97,
     "metadata": {},
     "output_type": "execute_result"
    }
   ],
   "source": [
    "stock['item'].value_counts()"
   ]
  },
  {
   "cell_type": "code",
   "execution_count": 98,
   "id": "0b03a07b",
   "metadata": {},
   "outputs": [],
   "source": [
    "xiaomi = stock.loc[stock['item']=='Смартфон Xiaomi Redmi 6A 16GB']['count'].sum()"
   ]
  },
  {
   "cell_type": "code",
   "execution_count": 99,
   "id": "1e269281",
   "metadata": {},
   "outputs": [
    {
     "data": {
      "text/plain": [
       "44"
      ]
     },
     "execution_count": 99,
     "metadata": {},
     "output_type": "execute_result"
    }
   ],
   "source": [
    "xiaomi"
   ]
  },
  {
   "cell_type": "code",
   "execution_count": 100,
   "id": "bb185958",
   "metadata": {},
   "outputs": [],
   "source": [
    "huawei = stock.loc[stock['item']=='Смартфон HUAWEI P30 lite']['count'].sum()"
   ]
  },
  {
   "cell_type": "code",
   "execution_count": 101,
   "id": "38ced2b9",
   "metadata": {},
   "outputs": [
    {
     "data": {
      "text/plain": [
       "38"
      ]
     },
     "execution_count": 101,
     "metadata": {},
     "output_type": "execute_result"
    }
   ],
   "source": [
    "huawei\n"
   ]
  },
  {
   "cell_type": "code",
   "execution_count": 102,
   "id": "b253d7c8",
   "metadata": {},
   "outputs": [],
   "source": [
    "stock = stock.drop_duplicates(subset=['item'],keep='first')"
   ]
  },
  {
   "cell_type": "code",
   "execution_count": 103,
   "id": "c3c2b699",
   "metadata": {},
   "outputs": [],
   "source": [
    "stock = stock.reset_index(drop=True)"
   ]
  },
  {
   "cell_type": "code",
   "execution_count": 104,
   "id": "7fc4bcb1",
   "metadata": {},
   "outputs": [
    {
     "data": {
      "text/html": [
       "<div>\n",
       "<style scoped>\n",
       "    .dataframe tbody tr th:only-of-type {\n",
       "        vertical-align: middle;\n",
       "    }\n",
       "\n",
       "    .dataframe tbody tr th {\n",
       "        vertical-align: top;\n",
       "    }\n",
       "\n",
       "    .dataframe thead th {\n",
       "        text-align: right;\n",
       "    }\n",
       "</style>\n",
       "<table border=\"1\" class=\"dataframe\">\n",
       "  <thead>\n",
       "    <tr style=\"text-align: right;\">\n",
       "      <th></th>\n",
       "      <th>id</th>\n",
       "      <th>item</th>\n",
       "      <th>count</th>\n",
       "    </tr>\n",
       "  </thead>\n",
       "  <tbody>\n",
       "    <tr>\n",
       "      <th>0</th>\n",
       "      <td>100480924</td>\n",
       "      <td>Смартфон Xiaomi Redmi 6A 16GB</td>\n",
       "      <td>32</td>\n",
       "    </tr>\n",
       "    <tr>\n",
       "      <th>1</th>\n",
       "      <td>100480938</td>\n",
       "      <td>Смартфон Samsung Galaxy A30 32GB</td>\n",
       "      <td>49</td>\n",
       "    </tr>\n",
       "    <tr>\n",
       "      <th>2</th>\n",
       "      <td>100480952</td>\n",
       "      <td>смартфон Samsung Galaxy A30 32gb</td>\n",
       "      <td>11</td>\n",
       "    </tr>\n",
       "    <tr>\n",
       "      <th>3</th>\n",
       "      <td>100480959</td>\n",
       "      <td>Смартфон HUAWEI P30 lite</td>\n",
       "      <td>5</td>\n",
       "    </tr>\n",
       "    <tr>\n",
       "      <th>4</th>\n",
       "      <td>100480975</td>\n",
       "      <td>Смартфон Apple iPhone Xr 64gb</td>\n",
       "      <td>10</td>\n",
       "    </tr>\n",
       "    <tr>\n",
       "      <th>5</th>\n",
       "      <td>100480988</td>\n",
       "      <td>Смартфон Honor 8X 64GB</td>\n",
       "      <td>64</td>\n",
       "    </tr>\n",
       "    <tr>\n",
       "      <th>6</th>\n",
       "      <td>100481020</td>\n",
       "      <td>Смартфон Apple iPhone Xr 64GB</td>\n",
       "      <td>19</td>\n",
       "    </tr>\n",
       "  </tbody>\n",
       "</table>\n",
       "</div>"
      ],
      "text/plain": [
       "          id                              item  count\n",
       "0  100480924     Смартфон Xiaomi Redmi 6A 16GB     32\n",
       "1  100480938  Смартфон Samsung Galaxy A30 32GB     49\n",
       "2  100480952  смартфон Samsung Galaxy A30 32gb     11\n",
       "3  100480959          Смартфон HUAWEI P30 lite      5\n",
       "4  100480975     Смартфон Apple iPhone Xr 64gb     10\n",
       "5  100480988            Смартфон Honor 8X 64GB     64\n",
       "6  100481020     Смартфон Apple iPhone Xr 64GB     19"
      ]
     },
     "execution_count": 104,
     "metadata": {},
     "output_type": "execute_result"
    }
   ],
   "source": [
    "stock"
   ]
  },
  {
   "cell_type": "code",
   "execution_count": 105,
   "id": "256eda85",
   "metadata": {},
   "outputs": [],
   "source": [
    "stock.loc[0,'count'] = xiaomi"
   ]
  },
  {
   "cell_type": "code",
   "execution_count": 107,
   "id": "91d03f25",
   "metadata": {},
   "outputs": [],
   "source": [
    "stock.loc[3,'count'] = huawei"
   ]
  },
  {
   "cell_type": "code",
   "execution_count": 108,
   "id": "59442683",
   "metadata": {},
   "outputs": [
    {
     "data": {
      "text/html": [
       "<div>\n",
       "<style scoped>\n",
       "    .dataframe tbody tr th:only-of-type {\n",
       "        vertical-align: middle;\n",
       "    }\n",
       "\n",
       "    .dataframe tbody tr th {\n",
       "        vertical-align: top;\n",
       "    }\n",
       "\n",
       "    .dataframe thead th {\n",
       "        text-align: right;\n",
       "    }\n",
       "</style>\n",
       "<table border=\"1\" class=\"dataframe\">\n",
       "  <thead>\n",
       "    <tr style=\"text-align: right;\">\n",
       "      <th></th>\n",
       "      <th>id</th>\n",
       "      <th>item</th>\n",
       "      <th>count</th>\n",
       "    </tr>\n",
       "  </thead>\n",
       "  <tbody>\n",
       "    <tr>\n",
       "      <th>0</th>\n",
       "      <td>100480924</td>\n",
       "      <td>Смартфон Xiaomi Redmi 6A 16GB</td>\n",
       "      <td>44</td>\n",
       "    </tr>\n",
       "    <tr>\n",
       "      <th>1</th>\n",
       "      <td>100480938</td>\n",
       "      <td>Смартфон Samsung Galaxy A30 32GB</td>\n",
       "      <td>49</td>\n",
       "    </tr>\n",
       "    <tr>\n",
       "      <th>2</th>\n",
       "      <td>100480952</td>\n",
       "      <td>смартфон Samsung Galaxy A30 32gb</td>\n",
       "      <td>11</td>\n",
       "    </tr>\n",
       "    <tr>\n",
       "      <th>3</th>\n",
       "      <td>100480959</td>\n",
       "      <td>Смартфон HUAWEI P30 lite</td>\n",
       "      <td>38</td>\n",
       "    </tr>\n",
       "    <tr>\n",
       "      <th>4</th>\n",
       "      <td>100480975</td>\n",
       "      <td>Смартфон Apple iPhone Xr 64gb</td>\n",
       "      <td>10</td>\n",
       "    </tr>\n",
       "    <tr>\n",
       "      <th>5</th>\n",
       "      <td>100480988</td>\n",
       "      <td>Смартфон Honor 8X 64GB</td>\n",
       "      <td>64</td>\n",
       "    </tr>\n",
       "    <tr>\n",
       "      <th>6</th>\n",
       "      <td>100481020</td>\n",
       "      <td>Смартфон Apple iPhone Xr 64GB</td>\n",
       "      <td>19</td>\n",
       "    </tr>\n",
       "  </tbody>\n",
       "</table>\n",
       "</div>"
      ],
      "text/plain": [
       "          id                              item  count\n",
       "0  100480924     Смартфон Xiaomi Redmi 6A 16GB     44\n",
       "1  100480938  Смартфон Samsung Galaxy A30 32GB     49\n",
       "2  100480952  смартфон Samsung Galaxy A30 32gb     11\n",
       "3  100480959          Смартфон HUAWEI P30 lite     38\n",
       "4  100480975     Смартфон Apple iPhone Xr 64gb     10\n",
       "5  100480988            Смартфон Honor 8X 64GB     64\n",
       "6  100481020     Смартфон Apple iPhone Xr 64GB     19"
      ]
     },
     "execution_count": 108,
     "metadata": {},
     "output_type": "execute_result"
    }
   ],
   "source": [
    "stock"
   ]
  },
  {
   "cell_type": "code",
   "execution_count": null,
   "id": "f288ac98",
   "metadata": {},
   "outputs": [],
   "source": []
  }
 ],
 "metadata": {
  "kernelspec": {
   "display_name": "Python 3",
   "language": "python",
   "name": "python3"
  },
  "language_info": {
   "codemirror_mode": {
    "name": "ipython",
    "version": 3
   },
   "file_extension": ".py",
   "mimetype": "text/x-python",
   "name": "python",
   "nbconvert_exporter": "python",
   "pygments_lexer": "ipython3",
   "version": "3.8.8"
  }
 },
 "nbformat": 4,
 "nbformat_minor": 5
}
