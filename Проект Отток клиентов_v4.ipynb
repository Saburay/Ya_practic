{
 "cells": [
  {
   "cell_type": "markdown",
   "id": "454001de",
   "metadata": {},
   "source": [
    "Из «Бета-Банка» стали уходить клиенты. Каждый месяц. Немного, но заметно. Банковские маркетологи посчитали: сохранять текущих клиентов дешевле, чем привлекать новых.\n",
    "Нужно спрогнозировать, уйдёт клиент из банка в ближайшее время или нет. Вам предоставлены исторические данные о поведении клиентов и расторжении договоров с банком. \n",
    "Постройте модель с предельно большим значением F1-меры. Чтобы сдать проект успешно, нужно довести метрику до 0.59. Проверьте F1-меру на тестовой выборке самостоятельно.\n",
    "Дополнительно измеряйте AUC-ROC, сравнивайте её значение с F1-мерой.\n",
    "\n",
    "Описание данных\n",
    "Данные находятся в файле /datasets/Churn.csv (англ. «отток клиентов»). Скачать датасет\n",
    "Признаки\n",
    "RowNumber — индекс строки в данных\n",
    "CustomerId — уникальный идентификатор клиента\n",
    "Surname — фамилия\n",
    "CreditScore — кредитный рейтинг\n",
    "Geography — страна проживания\n",
    "Gender — пол\n",
    "Age — возраст\n",
    "Tenure — сколько лет человек является клиентом банка\n",
    "Balance — баланс на счёте\n",
    "NumOfProducts — количество продуктов банка, используемых клиентом\n",
    "HasCrCard — наличие кредитной карты\n",
    "IsActiveMember — активность клиента\n",
    "EstimatedSalary — предполагаемая зарплата\n",
    "Целевой признак\n",
    "Exited — факт ухода клиента"
   ]
  },
  {
   "cell_type": "markdown",
   "id": "8227574f",
   "metadata": {},
   "source": [
    "Загрузите и подготовьте данные. Поясните порядок действий.\n",
    "Исследуйте баланс классов, обучите модель без учёта дисбаланса. Кратко опишите выводы.\n",
    "Улучшите качество модели, учитывая дисбаланс классов. Обучите разные модели и найдите лучшую. Кратко опишите выводы.\n",
    "Проведите финальное тестирование."
   ]
  },
  {
   "cell_type": "markdown",
   "id": "a5146da4",
   "metadata": {},
   "source": [
    "[делим данные на выборки](#split)\n",
    "\n",
    "[One-Hot Encoding для категориальных данных](#OHE)\n",
    "\n",
    "[Дерево решений на не сбалансированных данных](#pred_tree)"
   ]
  },
  {
   "cell_type": "code",
   "execution_count": null,
   "id": "013a431b",
   "metadata": {},
   "outputs": [],
   "source": []
  },
  {
   "cell_type": "code",
   "execution_count": 333,
   "id": "7723e885",
   "metadata": {},
   "outputs": [],
   "source": [
    "import pandas as pd\n",
    "import seaborn as sns\n",
    "import numpy as np\n",
    "import matplotlib.pyplot as plt\n",
    "\n",
    "from sklearn import tree\n",
    "from sklearn.utils import shuffle\n",
    "from sklearn.preprocessing import OneHotEncoder,StandardScaler, LabelEncoder\n",
    "from sklearn.metrics import accuracy_score, f1_score, recall_score, precision_score, roc_auc_score, roc_curve,\\\n",
    "                            confusion_matrix, mean_absolute_error\n",
    "from sklearn.model_selection import train_test_split\n",
    "from sklearn.linear_model import LogisticRegression\n",
    "from sklearn.tree import DecisionTreeClassifier\n",
    "from sklearn.ensemble import RandomForestClassifier"
   ]
  },
  {
   "cell_type": "code",
   "execution_count": 334,
   "id": "e6adaa4a",
   "metadata": {},
   "outputs": [],
   "source": [
    "try:\n",
    "    df = pd.read_csv('/datasets/Churn_2.csv')\n",
    "except:\n",
    "    df = pd.read_csv('Churn_2.csv') "
   ]
  },
  {
   "cell_type": "code",
   "execution_count": 335,
   "id": "948980c3",
   "metadata": {},
   "outputs": [
    {
     "data": {
      "text/html": [
       "<div>\n",
       "<style scoped>\n",
       "    .dataframe tbody tr th:only-of-type {\n",
       "        vertical-align: middle;\n",
       "    }\n",
       "\n",
       "    .dataframe tbody tr th {\n",
       "        vertical-align: top;\n",
       "    }\n",
       "\n",
       "    .dataframe thead th {\n",
       "        text-align: right;\n",
       "    }\n",
       "</style>\n",
       "<table border=\"1\" class=\"dataframe\">\n",
       "  <thead>\n",
       "    <tr style=\"text-align: right;\">\n",
       "      <th></th>\n",
       "      <th>RowNumber</th>\n",
       "      <th>CustomerId</th>\n",
       "      <th>Surname</th>\n",
       "      <th>CreditScore</th>\n",
       "      <th>Geography</th>\n",
       "      <th>Gender</th>\n",
       "      <th>Age</th>\n",
       "      <th>Tenure</th>\n",
       "      <th>Balance</th>\n",
       "      <th>NumOfProducts</th>\n",
       "      <th>HasCrCard</th>\n",
       "      <th>IsActiveMember</th>\n",
       "      <th>EstimatedSalary</th>\n",
       "      <th>Exited</th>\n",
       "    </tr>\n",
       "  </thead>\n",
       "  <tbody>\n",
       "    <tr>\n",
       "      <th>0</th>\n",
       "      <td>1</td>\n",
       "      <td>15634602</td>\n",
       "      <td>Hargrave</td>\n",
       "      <td>619</td>\n",
       "      <td>France</td>\n",
       "      <td>Female</td>\n",
       "      <td>42</td>\n",
       "      <td>2</td>\n",
       "      <td>0.00</td>\n",
       "      <td>1</td>\n",
       "      <td>1</td>\n",
       "      <td>1</td>\n",
       "      <td>101348.88</td>\n",
       "      <td>1</td>\n",
       "    </tr>\n",
       "    <tr>\n",
       "      <th>1</th>\n",
       "      <td>2</td>\n",
       "      <td>15647311</td>\n",
       "      <td>Hill</td>\n",
       "      <td>608</td>\n",
       "      <td>Spain</td>\n",
       "      <td>Female</td>\n",
       "      <td>41</td>\n",
       "      <td>1</td>\n",
       "      <td>83807.86</td>\n",
       "      <td>1</td>\n",
       "      <td>0</td>\n",
       "      <td>1</td>\n",
       "      <td>112542.58</td>\n",
       "      <td>0</td>\n",
       "    </tr>\n",
       "    <tr>\n",
       "      <th>2</th>\n",
       "      <td>3</td>\n",
       "      <td>15619304</td>\n",
       "      <td>Onio</td>\n",
       "      <td>502</td>\n",
       "      <td>France</td>\n",
       "      <td>Female</td>\n",
       "      <td>42</td>\n",
       "      <td>8</td>\n",
       "      <td>159660.80</td>\n",
       "      <td>3</td>\n",
       "      <td>1</td>\n",
       "      <td>0</td>\n",
       "      <td>113931.57</td>\n",
       "      <td>1</td>\n",
       "    </tr>\n",
       "    <tr>\n",
       "      <th>3</th>\n",
       "      <td>4</td>\n",
       "      <td>15701354</td>\n",
       "      <td>Boni</td>\n",
       "      <td>699</td>\n",
       "      <td>France</td>\n",
       "      <td>Female</td>\n",
       "      <td>39</td>\n",
       "      <td>1</td>\n",
       "      <td>0.00</td>\n",
       "      <td>2</td>\n",
       "      <td>0</td>\n",
       "      <td>0</td>\n",
       "      <td>93826.63</td>\n",
       "      <td>0</td>\n",
       "    </tr>\n",
       "    <tr>\n",
       "      <th>4</th>\n",
       "      <td>5</td>\n",
       "      <td>15737888</td>\n",
       "      <td>Mitchell</td>\n",
       "      <td>850</td>\n",
       "      <td>Spain</td>\n",
       "      <td>Female</td>\n",
       "      <td>43</td>\n",
       "      <td>2</td>\n",
       "      <td>125510.82</td>\n",
       "      <td>1</td>\n",
       "      <td>1</td>\n",
       "      <td>1</td>\n",
       "      <td>79084.10</td>\n",
       "      <td>0</td>\n",
       "    </tr>\n",
       "  </tbody>\n",
       "</table>\n",
       "</div>"
      ],
      "text/plain": [
       "   RowNumber  CustomerId   Surname  CreditScore Geography  Gender  Age  \\\n",
       "0          1    15634602  Hargrave          619    France  Female   42   \n",
       "1          2    15647311      Hill          608     Spain  Female   41   \n",
       "2          3    15619304      Onio          502    France  Female   42   \n",
       "3          4    15701354      Boni          699    France  Female   39   \n",
       "4          5    15737888  Mitchell          850     Spain  Female   43   \n",
       "\n",
       "   Tenure    Balance  NumOfProducts  HasCrCard  IsActiveMember  \\\n",
       "0       2       0.00              1          1               1   \n",
       "1       1   83807.86              1          0               1   \n",
       "2       8  159660.80              3          1               0   \n",
       "3       1       0.00              2          0               0   \n",
       "4       2  125510.82              1          1               1   \n",
       "\n",
       "   EstimatedSalary  Exited  \n",
       "0        101348.88       1  \n",
       "1        112542.58       0  \n",
       "2        113931.57       1  \n",
       "3         93826.63       0  \n",
       "4         79084.10       0  "
      ]
     },
     "execution_count": 335,
     "metadata": {},
     "output_type": "execute_result"
    }
   ],
   "source": [
    "df.head()"
   ]
  },
  {
   "cell_type": "code",
   "execution_count": 336,
   "id": "d189e0b0",
   "metadata": {},
   "outputs": [
    {
     "data": {
      "text/plain": [
       "(10000, 14)"
      ]
     },
     "execution_count": 336,
     "metadata": {},
     "output_type": "execute_result"
    }
   ],
   "source": [
    "df.shape"
   ]
  },
  {
   "cell_type": "code",
   "execution_count": 337,
   "id": "62b0ed5c",
   "metadata": {},
   "outputs": [
    {
     "name": "stdout",
     "output_type": "stream",
     "text": [
      "<class 'pandas.core.frame.DataFrame'>\n",
      "RangeIndex: 10000 entries, 0 to 9999\n",
      "Data columns (total 14 columns):\n",
      " #   Column           Non-Null Count  Dtype  \n",
      "---  ------           --------------  -----  \n",
      " 0   RowNumber        10000 non-null  int64  \n",
      " 1   CustomerId       10000 non-null  int64  \n",
      " 2   Surname          10000 non-null  object \n",
      " 3   CreditScore      10000 non-null  int64  \n",
      " 4   Geography        10000 non-null  object \n",
      " 5   Gender           10000 non-null  object \n",
      " 6   Age              10000 non-null  int64  \n",
      " 7   Tenure           10000 non-null  int64  \n",
      " 8   Balance          10000 non-null  float64\n",
      " 9   NumOfProducts    10000 non-null  int64  \n",
      " 10  HasCrCard        10000 non-null  int64  \n",
      " 11  IsActiveMember   10000 non-null  int64  \n",
      " 12  EstimatedSalary  10000 non-null  float64\n",
      " 13  Exited           10000 non-null  int64  \n",
      "dtypes: float64(2), int64(9), object(3)\n",
      "memory usage: 1.1+ MB\n"
     ]
    }
   ],
   "source": [
    "df.info()"
   ]
  },
  {
   "cell_type": "markdown",
   "id": "dbeecb71",
   "metadata": {},
   "source": [
    "**Названия столбцов:**\n",
    " - RowNumber — индекс строки в данных\n",
    " - CustomerId — уникальный идентификатор клиента\n",
    " - Surname — фамилия\n",
    " - CreditScore — кредитный рейтинг\n",
    " - Geography — страна проживания\n",
    " - Gender — пол\n",
    " - Age — возраст\n",
    " - Tenure — сколько лет человек является клиентом банка\n",
    " - Balance — баланс на счёте\n",
    " - NumOfProducts — количество продуктов банка, используемых клиентом\n",
    " - HasCrCard — наличие кредитной карты\n",
    " - IsActiveMember — активность клиента\n",
    " - EstimatedSalary — предполагаемая зарплата\n",
    " - Exited — факт ухода клиента"
   ]
  },
  {
   "cell_type": "code",
   "execution_count": 338,
   "id": "430047d3",
   "metadata": {},
   "outputs": [
    {
     "data": {
      "text/html": [
       "<style  type=\"text/css\" >\n",
       "#T_bba17a6e_0a92_11ee_8245_e82aea9cd7b7row0_col0,#T_bba17a6e_0a92_11ee_8245_e82aea9cd7b7row1_col0,#T_bba17a6e_0a92_11ee_8245_e82aea9cd7b7row2_col0,#T_bba17a6e_0a92_11ee_8245_e82aea9cd7b7row3_col0,#T_bba17a6e_0a92_11ee_8245_e82aea9cd7b7row4_col0,#T_bba17a6e_0a92_11ee_8245_e82aea9cd7b7row5_col0,#T_bba17a6e_0a92_11ee_8245_e82aea9cd7b7row6_col0,#T_bba17a6e_0a92_11ee_8245_e82aea9cd7b7row7_col0,#T_bba17a6e_0a92_11ee_8245_e82aea9cd7b7row8_col0,#T_bba17a6e_0a92_11ee_8245_e82aea9cd7b7row9_col0,#T_bba17a6e_0a92_11ee_8245_e82aea9cd7b7row10_col0,#T_bba17a6e_0a92_11ee_8245_e82aea9cd7b7row11_col0,#T_bba17a6e_0a92_11ee_8245_e82aea9cd7b7row12_col0,#T_bba17a6e_0a92_11ee_8245_e82aea9cd7b7row13_col0{\n",
       "            background-color:  #3b4cc0;\n",
       "            color:  #f1f1f1;\n",
       "        }</style><table id=\"T_bba17a6e_0a92_11ee_8245_e82aea9cd7b7\" ><thead>    <tr>        <th class=\"blank level0\" ></th>        <th class=\"col_heading level0 col0\" >0</th>    </tr></thead><tbody>\n",
       "                <tr>\n",
       "                        <th id=\"T_bba17a6e_0a92_11ee_8245_e82aea9cd7b7level0_row0\" class=\"row_heading level0 row0\" >RowNumber</th>\n",
       "                        <td id=\"T_bba17a6e_0a92_11ee_8245_e82aea9cd7b7row0_col0\" class=\"data row0 col0\" >0.000000</td>\n",
       "            </tr>\n",
       "            <tr>\n",
       "                        <th id=\"T_bba17a6e_0a92_11ee_8245_e82aea9cd7b7level0_row1\" class=\"row_heading level0 row1\" >CustomerId</th>\n",
       "                        <td id=\"T_bba17a6e_0a92_11ee_8245_e82aea9cd7b7row1_col0\" class=\"data row1 col0\" >0.000000</td>\n",
       "            </tr>\n",
       "            <tr>\n",
       "                        <th id=\"T_bba17a6e_0a92_11ee_8245_e82aea9cd7b7level0_row2\" class=\"row_heading level0 row2\" >Surname</th>\n",
       "                        <td id=\"T_bba17a6e_0a92_11ee_8245_e82aea9cd7b7row2_col0\" class=\"data row2 col0\" >0.000000</td>\n",
       "            </tr>\n",
       "            <tr>\n",
       "                        <th id=\"T_bba17a6e_0a92_11ee_8245_e82aea9cd7b7level0_row3\" class=\"row_heading level0 row3\" >CreditScore</th>\n",
       "                        <td id=\"T_bba17a6e_0a92_11ee_8245_e82aea9cd7b7row3_col0\" class=\"data row3 col0\" >0.000000</td>\n",
       "            </tr>\n",
       "            <tr>\n",
       "                        <th id=\"T_bba17a6e_0a92_11ee_8245_e82aea9cd7b7level0_row4\" class=\"row_heading level0 row4\" >Geography</th>\n",
       "                        <td id=\"T_bba17a6e_0a92_11ee_8245_e82aea9cd7b7row4_col0\" class=\"data row4 col0\" >0.000000</td>\n",
       "            </tr>\n",
       "            <tr>\n",
       "                        <th id=\"T_bba17a6e_0a92_11ee_8245_e82aea9cd7b7level0_row5\" class=\"row_heading level0 row5\" >Gender</th>\n",
       "                        <td id=\"T_bba17a6e_0a92_11ee_8245_e82aea9cd7b7row5_col0\" class=\"data row5 col0\" >0.000000</td>\n",
       "            </tr>\n",
       "            <tr>\n",
       "                        <th id=\"T_bba17a6e_0a92_11ee_8245_e82aea9cd7b7level0_row6\" class=\"row_heading level0 row6\" >Age</th>\n",
       "                        <td id=\"T_bba17a6e_0a92_11ee_8245_e82aea9cd7b7row6_col0\" class=\"data row6 col0\" >0.000000</td>\n",
       "            </tr>\n",
       "            <tr>\n",
       "                        <th id=\"T_bba17a6e_0a92_11ee_8245_e82aea9cd7b7level0_row7\" class=\"row_heading level0 row7\" >Tenure</th>\n",
       "                        <td id=\"T_bba17a6e_0a92_11ee_8245_e82aea9cd7b7row7_col0\" class=\"data row7 col0\" >0.000000</td>\n",
       "            </tr>\n",
       "            <tr>\n",
       "                        <th id=\"T_bba17a6e_0a92_11ee_8245_e82aea9cd7b7level0_row8\" class=\"row_heading level0 row8\" >Balance</th>\n",
       "                        <td id=\"T_bba17a6e_0a92_11ee_8245_e82aea9cd7b7row8_col0\" class=\"data row8 col0\" >0.000000</td>\n",
       "            </tr>\n",
       "            <tr>\n",
       "                        <th id=\"T_bba17a6e_0a92_11ee_8245_e82aea9cd7b7level0_row9\" class=\"row_heading level0 row9\" >NumOfProducts</th>\n",
       "                        <td id=\"T_bba17a6e_0a92_11ee_8245_e82aea9cd7b7row9_col0\" class=\"data row9 col0\" >0.000000</td>\n",
       "            </tr>\n",
       "            <tr>\n",
       "                        <th id=\"T_bba17a6e_0a92_11ee_8245_e82aea9cd7b7level0_row10\" class=\"row_heading level0 row10\" >HasCrCard</th>\n",
       "                        <td id=\"T_bba17a6e_0a92_11ee_8245_e82aea9cd7b7row10_col0\" class=\"data row10 col0\" >0.000000</td>\n",
       "            </tr>\n",
       "            <tr>\n",
       "                        <th id=\"T_bba17a6e_0a92_11ee_8245_e82aea9cd7b7level0_row11\" class=\"row_heading level0 row11\" >IsActiveMember</th>\n",
       "                        <td id=\"T_bba17a6e_0a92_11ee_8245_e82aea9cd7b7row11_col0\" class=\"data row11 col0\" >0.000000</td>\n",
       "            </tr>\n",
       "            <tr>\n",
       "                        <th id=\"T_bba17a6e_0a92_11ee_8245_e82aea9cd7b7level0_row12\" class=\"row_heading level0 row12\" >EstimatedSalary</th>\n",
       "                        <td id=\"T_bba17a6e_0a92_11ee_8245_e82aea9cd7b7row12_col0\" class=\"data row12 col0\" >0.000000</td>\n",
       "            </tr>\n",
       "            <tr>\n",
       "                        <th id=\"T_bba17a6e_0a92_11ee_8245_e82aea9cd7b7level0_row13\" class=\"row_heading level0 row13\" >Exited</th>\n",
       "                        <td id=\"T_bba17a6e_0a92_11ee_8245_e82aea9cd7b7row13_col0\" class=\"data row13 col0\" >0.000000</td>\n",
       "            </tr>\n",
       "    </tbody></table>"
      ],
      "text/plain": [
       "<pandas.io.formats.style.Styler at 0x243ede57a88>"
      ]
     },
     "execution_count": 338,
     "metadata": {},
     "output_type": "execute_result"
    }
   ],
   "source": [
    "#Теперь посмотрим на пропуски,используя  градиент:\n",
    "pd.DataFrame(round(df.isna().mean()*100,1)).style.background_gradient('coolwarm')"
   ]
  },
  {
   "cell_type": "markdown",
   "id": "6ebea8ea",
   "metadata": {},
   "source": []
  },
  {
   "cell_type": "code",
   "execution_count": 339,
   "id": "c84f5586",
   "metadata": {},
   "outputs": [
    {
     "data": {
      "text/plain": [
       "Index(['RowNumber', 'CustomerId', 'Surname', 'CreditScore', 'Geography',\n",
       "       'Gender', 'Age', 'Tenure', 'Balance', 'NumOfProducts', 'HasCrCard',\n",
       "       'IsActiveMember', 'EstimatedSalary', 'Exited'],\n",
       "      dtype='object')"
      ]
     },
     "execution_count": 339,
     "metadata": {},
     "output_type": "execute_result"
    }
   ],
   "source": [
    "#correctness of column names\n",
    "df.columns"
   ]
  },
  {
   "cell_type": "code",
   "execution_count": 340,
   "id": "ba7459c8",
   "metadata": {},
   "outputs": [
    {
     "name": "stdout",
     "output_type": "stream",
     "text": [
      "Count duplicated: 0\n"
     ]
    }
   ],
   "source": [
    "print(f'Count duplicated: {df.duplicated().sum()}')"
   ]
  },
  {
   "cell_type": "markdown",
   "id": "aca360d1",
   "metadata": {},
   "source": [
    "### Исследование задачи"
   ]
  },
  {
   "cell_type": "code",
   "execution_count": 341,
   "id": "40e3fee8",
   "metadata": {},
   "outputs": [],
   "source": [
    "#Удалим из дальнейшей работы столбцы с индексом строки, id клиента и фамилиями,\n",
    "#для построения моделей машинного обучения они нам не потребуются \n",
    "df = df.drop(['RowNumber', 'CustomerId', 'Surname'] , axis=1)"
   ]
  },
  {
   "cell_type": "code",
   "execution_count": 342,
   "id": "b0096f11",
   "metadata": {},
   "outputs": [
    {
     "data": {
      "text/plain": [
       "3"
      ]
     },
     "execution_count": 342,
     "metadata": {},
     "output_type": "execute_result"
    }
   ],
   "source": [
    "df.Geography.nunique()"
   ]
  },
  {
   "cell_type": "code",
   "execution_count": 343,
   "id": "8fa6e907",
   "metadata": {},
   "outputs": [
    {
     "data": {
      "text/plain": [
       "<AxesSubplot:>"
      ]
     },
     "execution_count": 343,
     "metadata": {},
     "output_type": "execute_result"
    },
    {
     "data": {
      "image/png": "[encoded data removed]",
      "text/plain": [
       "<Figure size 900x500 with 1 Axes>"
      ]
     },
     "metadata": {},
     "output_type": "display_data"
    }
   ],
   "source": [
    "# Exited — факт ухода клиента,посмотрим графически на распределение данных в колонке\n",
    "df.Exited.value_counts().plot(kind='bar',figsize=(9,5),color=['g','r'],grid=True)"
   ]
  },
  {
   "cell_type": "code",
   "execution_count": 344,
   "id": "35d38675",
   "metadata": {},
   "outputs": [
    {
     "data": {
      "text/plain": [
       "<AxesSubplot:>"
      ]
     },
     "execution_count": 344,
     "metadata": {},
     "output_type": "execute_result"
    },
    {
     "data": {
      "image/png": "[encoded data removed]",
      "text/plain": [
       "<Figure size 640x480 with 2 Axes>"
      ]
     },
     "metadata": {},
     "output_type": "display_data"
    }
   ],
   "source": [
    "#корреляция целевого показателя в разрезе признаков\n",
    "sns.heatmap(df.corr())\n"
   ]
  },
  {
   "cell_type": "code",
   "execution_count": 345,
   "id": "3b3f136f",
   "metadata": {},
   "outputs": [
    {
     "data": {
      "image/png": "[encoded data removed]",
      "text/plain": [
       "<Figure size 1200x200 with 1 Axes>"
      ]
     },
     "metadata": {},
     "output_type": "display_data"
    },
    {
     "data": {
      "image/png": "[encoded data removed]",
      "text/plain": [
       "<Figure size 1200x200 with 1 Axes>"
      ]
     },
     "metadata": {},
     "output_type": "display_data"
    }
   ],
   "source": [
    "df.query('Exited==0').groupby('Age')['Exited'].count().plot(kind='bar',legend=True,figsize=(12,2))\n",
    "plt.title('График оставшихся клиентов',fontsize=14)\n",
    "plt.xlabel('Возраст', fontsize = 12)\n",
    "plt.ylabel('Количество',fontsize = 12)\n",
    "plt.show()\n",
    "df.query('Exited==1').groupby('Age')['Exited'].count().plot(kind='bar',legend=True,figsize=(12,2))\n",
    "plt.title('График ушедших клиентов',fontsize=14)\n",
    "plt.xlabel('Возраст', fontsize = 12)\n",
    "plt.ylabel('Количество',fontsize = 12)\n",
    "plt.show()"
   ]
  },
  {
   "cell_type": "code",
   "execution_count": 346,
   "id": "d58df204",
   "metadata": {},
   "outputs": [
    {
     "name": "stdout",
     "output_type": "stream",
     "text": [
      "Средний возраст оставшихся клиентов: 37.0\n",
      "Средний возраст ушедших клиентов: 45.0\n"
     ]
    }
   ],
   "source": [
    "print('Средний возраст оставшихся клиентов:', round(df.query('Exited == 0')['Age'].mean()))\n",
    "print('Средний возраст ушедших клиентов:',round(df.query('Exited == 1')['Age'].mean()))"
   ]
  },
  {
   "cell_type": "markdown",
   "id": "5b26d0f6",
   "metadata": {},
   "source": [
    "### делим данные на выборки\n",
    "<a id='split'></a>"
   ]
  },
  {
   "cell_type": "code",
   "execution_count": 347,
   "id": "ec67384b",
   "metadata": {},
   "outputs": [],
   "source": [
    "# данные разбивают на три части: обучающую, валидационную и тестовую, в соотношении 3:1:1\n",
    "# делим обучающую от тестовой  \n",
    "df_train, df_test = train_test_split(df,test_size=0.4,random_state=42,stratify=df['Exited'])\n",
    "X = df_test.drop(['Exited'],axis=1)\n",
    "y = df_test.Exited"
   ]
  },
  {
   "cell_type": "code",
   "execution_count": 348,
   "id": "654d7553",
   "metadata": {},
   "outputs": [
    {
     "name": "stdout",
     "output_type": "stream",
     "text": [
      "(4000, 10) \n",
      " (4000,)\n"
     ]
    }
   ],
   "source": [
    "print(X.shape,'\\n',y.shape)"
   ]
  },
  {
   "cell_type": "code",
   "execution_count": 349,
   "id": "38e902cf",
   "metadata": {},
   "outputs": [],
   "source": [
    "#разобьём выборку на валидационную и тестовую, пополам\n",
    "X_valid, X_test, y_valid, y_test = \\\n",
    "train_test_split(X, y, test_size = 0.5, random_state = 12345, stratify = y)"
   ]
  },
  {
   "cell_type": "code",
   "execution_count": 350,
   "id": "246f4b16",
   "metadata": {},
   "outputs": [
    {
     "name": "stdout",
     "output_type": "stream",
     "text": [
      "(2000, 10) (2000, 10) (2000,) (2000,)\n"
     ]
    }
   ],
   "source": [
    "print(X_valid.shape, X_test.shape, y_valid.shape, y_test.shape)"
   ]
  },
  {
   "cell_type": "code",
   "execution_count": 351,
   "id": "68a38f79",
   "metadata": {},
   "outputs": [
    {
     "name": "stdout",
     "output_type": "stream",
     "text": [
      " Кол-во строк y_valid [1592  408] \n",
      " Кол-во строк y_test  [1593  407]\n"
     ]
    }
   ],
   "source": [
    "print(f' Кол-во строк y_valid {np.bincount(y_valid)}','\\n',f'Кол-во строк y_test  {np.bincount(y_test)}')"
   ]
  },
  {
   "cell_type": "code",
   "execution_count": 352,
   "id": "4d22d095",
   "metadata": {},
   "outputs": [],
   "source": [
    "X_train = df_train.drop(['Exited'], axis = 1)\n",
    "y_train = df_train.Exited"
   ]
  },
  {
   "cell_type": "markdown",
   "id": "5d2b6e4a",
   "metadata": {},
   "source": [
    "Проверим правильность деления выборок:"
   ]
  },
  {
   "cell_type": "code",
   "execution_count": 353,
   "id": "485f5141",
   "metadata": {},
   "outputs": [
    {
     "name": "stdout",
     "output_type": "stream",
     "text": [
      "Размер обучающей выборки: (6000, 10)\n",
      "Размер валидационной выборки: (2000, 10)\n",
      "Размер тестовой выборки: (2000, 10)\n"
     ]
    }
   ],
   "source": [
    "print('Размер обучающей выборки:', X_train.shape)\n",
    "print('Размер валидационной выборки:', X_valid.shape)\n",
    "print('Размер тестовой выборки:', X_test.shape)"
   ]
  },
  {
   "cell_type": "markdown",
   "id": "497e8a2a",
   "metadata": {},
   "source": [
    "##### Переходим к кодированию категориальных признаков"
   ]
  },
  {
   "cell_type": "markdown",
   "id": "d61c5e46",
   "metadata": {},
   "source": [
    "<a id='OHE'></a>"
   ]
  },
  {
   "cell_type": "markdown",
   "id": "fd897b72",
   "metadata": {},
   "source": [
    "Cмотрим на уникальные значения столбцов, которые будем кодировать с помощью библиотеки sklearn.preprocessing.OneHotEncoder"
   ]
  },
  {
   "cell_type": "code",
   "execution_count": 354,
   "id": "fa171a05",
   "metadata": {},
   "outputs": [
    {
     "name": "stdout",
     "output_type": "stream",
     "text": [
      "['Germany' 'France' 'Spain']\n",
      "['Female' 'Male']\n"
     ]
    }
   ],
   "source": [
    "print(X_train.Geography.unique())\n",
    "print(X_train.Gender.unique())"
   ]
  },
  {
   "cell_type": "code",
   "execution_count": 355,
   "id": "a58db1f5",
   "metadata": {},
   "outputs": [],
   "source": [
    "#Создадим новый список с именами колонок с категориальными признаками:\n",
    "category = ['Geography', 'Gender']"
   ]
  },
  {
   "cell_type": "code",
   "execution_count": 356,
   "id": "337d2393",
   "metadata": {},
   "outputs": [],
   "source": [
    "#Приступаем к кодированию:\n",
    "ohe = OneHotEncoder()"
   ]
  },
  {
   "cell_type": "code",
   "execution_count": 357,
   "id": "b6fe3e2d",
   "metadata": {},
   "outputs": [
    {
     "name": "stdout",
     "output_type": "stream",
     "text": [
      "[array(['France', 'Germany', 'Spain'], dtype=object), array(['Female', 'Male'], dtype=object)]\n"
     ]
    }
   ],
   "source": [
    "ohe_values_train = ohe.fit_transform(X_train[category].values)\n",
    "print(ohe.categories_)"
   ]
  },
  {
   "cell_type": "code",
   "execution_count": 358,
   "id": "8d7573cd",
   "metadata": {},
   "outputs": [
    {
     "data": {
      "text/plain": [
       "array([[0., 1., 0., 1., 0.],\n",
       "       [1., 0., 0., 1., 0.],\n",
       "       [0., 1., 0., 0., 1.],\n",
       "       ...,\n",
       "       [1., 0., 0., 1., 0.],\n",
       "       [0., 0., 1., 0., 1.],\n",
       "       [0., 0., 1., 0., 1.]])"
      ]
     },
     "execution_count": 358,
     "metadata": {},
     "output_type": "execute_result"
    }
   ],
   "source": [
    "ohe_values_train.toarray()"
   ]
  },
  {
   "cell_type": "code",
   "execution_count": 359,
   "id": "57555f27",
   "metadata": {},
   "outputs": [],
   "source": [
    "ohe_train = pd.DataFrame(ohe_values_train.toarray())"
   ]
  },
  {
   "cell_type": "code",
   "execution_count": 360,
   "id": "a699d435",
   "metadata": {},
   "outputs": [
    {
     "data": {
      "text/html": [
       "<div>\n",
       "<style scoped>\n",
       "    .dataframe tbody tr th:only-of-type {\n",
       "        vertical-align: middle;\n",
       "    }\n",
       "\n",
       "    .dataframe tbody tr th {\n",
       "        vertical-align: top;\n",
       "    }\n",
       "\n",
       "    .dataframe thead th {\n",
       "        text-align: right;\n",
       "    }\n",
       "</style>\n",
       "<table border=\"1\" class=\"dataframe\">\n",
       "  <thead>\n",
       "    <tr style=\"text-align: right;\">\n",
       "      <th></th>\n",
       "      <th>CreditScore</th>\n",
       "      <th>Geography</th>\n",
       "      <th>Gender</th>\n",
       "      <th>Age</th>\n",
       "      <th>Tenure</th>\n",
       "      <th>Balance</th>\n",
       "      <th>NumOfProducts</th>\n",
       "      <th>HasCrCard</th>\n",
       "      <th>IsActiveMember</th>\n",
       "      <th>EstimatedSalary</th>\n",
       "    </tr>\n",
       "  </thead>\n",
       "  <tbody>\n",
       "    <tr>\n",
       "      <th>0</th>\n",
       "      <td>527</td>\n",
       "      <td>Germany</td>\n",
       "      <td>Female</td>\n",
       "      <td>39</td>\n",
       "      <td>9</td>\n",
       "      <td>96748.89</td>\n",
       "      <td>2</td>\n",
       "      <td>1</td>\n",
       "      <td>0</td>\n",
       "      <td>94711.43</td>\n",
       "    </tr>\n",
       "    <tr>\n",
       "      <th>1</th>\n",
       "      <td>677</td>\n",
       "      <td>France</td>\n",
       "      <td>Female</td>\n",
       "      <td>27</td>\n",
       "      <td>2</td>\n",
       "      <td>0.00</td>\n",
       "      <td>2</td>\n",
       "      <td>0</td>\n",
       "      <td>1</td>\n",
       "      <td>114685.92</td>\n",
       "    </tr>\n",
       "    <tr>\n",
       "      <th>2</th>\n",
       "      <td>628</td>\n",
       "      <td>Germany</td>\n",
       "      <td>Male</td>\n",
       "      <td>40</td>\n",
       "      <td>5</td>\n",
       "      <td>181768.32</td>\n",
       "      <td>2</td>\n",
       "      <td>1</td>\n",
       "      <td>1</td>\n",
       "      <td>129107.97</td>\n",
       "    </tr>\n",
       "    <tr>\n",
       "      <th>3</th>\n",
       "      <td>470</td>\n",
       "      <td>Spain</td>\n",
       "      <td>Female</td>\n",
       "      <td>48</td>\n",
       "      <td>6</td>\n",
       "      <td>140576.11</td>\n",
       "      <td>1</td>\n",
       "      <td>1</td>\n",
       "      <td>1</td>\n",
       "      <td>116971.05</td>\n",
       "    </tr>\n",
       "    <tr>\n",
       "      <th>4</th>\n",
       "      <td>768</td>\n",
       "      <td>Germany</td>\n",
       "      <td>Female</td>\n",
       "      <td>43</td>\n",
       "      <td>2</td>\n",
       "      <td>129264.05</td>\n",
       "      <td>2</td>\n",
       "      <td>0</td>\n",
       "      <td>0</td>\n",
       "      <td>19150.14</td>\n",
       "    </tr>\n",
       "  </tbody>\n",
       "</table>\n",
       "</div>"
      ],
      "text/plain": [
       "   CreditScore Geography  Gender  Age  Tenure    Balance  NumOfProducts  \\\n",
       "0          527   Germany  Female   39       9   96748.89              2   \n",
       "1          677    France  Female   27       2       0.00              2   \n",
       "2          628   Germany    Male   40       5  181768.32              2   \n",
       "3          470     Spain  Female   48       6  140576.11              1   \n",
       "4          768   Germany  Female   43       2  129264.05              2   \n",
       "\n",
       "   HasCrCard  IsActiveMember  EstimatedSalary  \n",
       "0          1               0         94711.43  \n",
       "1          0               1        114685.92  \n",
       "2          1               1        129107.97  \n",
       "3          1               1        116971.05  \n",
       "4          0               0         19150.14  "
      ]
     },
     "execution_count": 360,
     "metadata": {},
     "output_type": "execute_result"
    }
   ],
   "source": [
    "#Уберём индексы строк, чтобы правильно склеить строки:\n",
    "X_train.reset_index(drop= True , inplace= True )\n",
    "X_train.head(5)"
   ]
  },
  {
   "cell_type": "code",
   "execution_count": 361,
   "id": "3665c712",
   "metadata": {},
   "outputs": [],
   "source": [
    "ohe_train.rename(columns = {0: 'France', 1: 'Germany', 2: 'Spain', 3: 'Female', 4: 'Male'}, inplace = True)"
   ]
  },
  {
   "cell_type": "code",
   "execution_count": 362,
   "id": "56ee5aa9",
   "metadata": {},
   "outputs": [],
   "source": [
    "X_train = pd.concat([X_train, ohe_train], axis=1).drop(['Geography', 'Gender'], axis=1)"
   ]
  },
  {
   "cell_type": "code",
   "execution_count": 363,
   "id": "0a32bc3c",
   "metadata": {},
   "outputs": [
    {
     "data": {
      "text/html": [
       "<div>\n",
       "<style scoped>\n",
       "    .dataframe tbody tr th:only-of-type {\n",
       "        vertical-align: middle;\n",
       "    }\n",
       "\n",
       "    .dataframe tbody tr th {\n",
       "        vertical-align: top;\n",
       "    }\n",
       "\n",
       "    .dataframe thead th {\n",
       "        text-align: right;\n",
       "    }\n",
       "</style>\n",
       "<table border=\"1\" class=\"dataframe\">\n",
       "  <thead>\n",
       "    <tr style=\"text-align: right;\">\n",
       "      <th></th>\n",
       "      <th>CreditScore</th>\n",
       "      <th>Age</th>\n",
       "      <th>Tenure</th>\n",
       "      <th>Balance</th>\n",
       "      <th>NumOfProducts</th>\n",
       "      <th>HasCrCard</th>\n",
       "      <th>IsActiveMember</th>\n",
       "      <th>EstimatedSalary</th>\n",
       "      <th>France</th>\n",
       "      <th>Germany</th>\n",
       "      <th>Spain</th>\n",
       "      <th>Female</th>\n",
       "      <th>Male</th>\n",
       "    </tr>\n",
       "  </thead>\n",
       "  <tbody>\n",
       "    <tr>\n",
       "      <th>0</th>\n",
       "      <td>527</td>\n",
       "      <td>39</td>\n",
       "      <td>9</td>\n",
       "      <td>96748.89</td>\n",
       "      <td>2</td>\n",
       "      <td>1</td>\n",
       "      <td>0</td>\n",
       "      <td>94711.43</td>\n",
       "      <td>0.0</td>\n",
       "      <td>1.0</td>\n",
       "      <td>0.0</td>\n",
       "      <td>1.0</td>\n",
       "      <td>0.0</td>\n",
       "    </tr>\n",
       "    <tr>\n",
       "      <th>1</th>\n",
       "      <td>677</td>\n",
       "      <td>27</td>\n",
       "      <td>2</td>\n",
       "      <td>0.00</td>\n",
       "      <td>2</td>\n",
       "      <td>0</td>\n",
       "      <td>1</td>\n",
       "      <td>114685.92</td>\n",
       "      <td>1.0</td>\n",
       "      <td>0.0</td>\n",
       "      <td>0.0</td>\n",
       "      <td>1.0</td>\n",
       "      <td>0.0</td>\n",
       "    </tr>\n",
       "    <tr>\n",
       "      <th>2</th>\n",
       "      <td>628</td>\n",
       "      <td>40</td>\n",
       "      <td>5</td>\n",
       "      <td>181768.32</td>\n",
       "      <td>2</td>\n",
       "      <td>1</td>\n",
       "      <td>1</td>\n",
       "      <td>129107.97</td>\n",
       "      <td>0.0</td>\n",
       "      <td>1.0</td>\n",
       "      <td>0.0</td>\n",
       "      <td>0.0</td>\n",
       "      <td>1.0</td>\n",
       "    </tr>\n",
       "    <tr>\n",
       "      <th>3</th>\n",
       "      <td>470</td>\n",
       "      <td>48</td>\n",
       "      <td>6</td>\n",
       "      <td>140576.11</td>\n",
       "      <td>1</td>\n",
       "      <td>1</td>\n",
       "      <td>1</td>\n",
       "      <td>116971.05</td>\n",
       "      <td>0.0</td>\n",
       "      <td>0.0</td>\n",
       "      <td>1.0</td>\n",
       "      <td>1.0</td>\n",
       "      <td>0.0</td>\n",
       "    </tr>\n",
       "    <tr>\n",
       "      <th>4</th>\n",
       "      <td>768</td>\n",
       "      <td>43</td>\n",
       "      <td>2</td>\n",
       "      <td>129264.05</td>\n",
       "      <td>2</td>\n",
       "      <td>0</td>\n",
       "      <td>0</td>\n",
       "      <td>19150.14</td>\n",
       "      <td>0.0</td>\n",
       "      <td>1.0</td>\n",
       "      <td>0.0</td>\n",
       "      <td>1.0</td>\n",
       "      <td>0.0</td>\n",
       "    </tr>\n",
       "  </tbody>\n",
       "</table>\n",
       "</div>"
      ],
      "text/plain": [
       "   CreditScore  Age  Tenure    Balance  NumOfProducts  HasCrCard  \\\n",
       "0          527   39       9   96748.89              2          1   \n",
       "1          677   27       2       0.00              2          0   \n",
       "2          628   40       5  181768.32              2          1   \n",
       "3          470   48       6  140576.11              1          1   \n",
       "4          768   43       2  129264.05              2          0   \n",
       "\n",
       "   IsActiveMember  EstimatedSalary  France  Germany  Spain  Female  Male  \n",
       "0               0         94711.43     0.0      1.0    0.0     1.0   0.0  \n",
       "1               1        114685.92     1.0      0.0    0.0     1.0   0.0  \n",
       "2               1        129107.97     0.0      1.0    0.0     0.0   1.0  \n",
       "3               1        116971.05     0.0      0.0    1.0     1.0   0.0  \n",
       "4               0         19150.14     0.0      1.0    0.0     1.0   0.0  "
      ]
     },
     "execution_count": 363,
     "metadata": {},
     "output_type": "execute_result"
    }
   ],
   "source": [
    "X_train.head()"
   ]
  },
  {
   "cell_type": "code",
   "execution_count": 364,
   "id": "025a716b",
   "metadata": {},
   "outputs": [
    {
     "data": {
      "text/html": [
       "<div>\n",
       "<style scoped>\n",
       "    .dataframe tbody tr th:only-of-type {\n",
       "        vertical-align: middle;\n",
       "    }\n",
       "\n",
       "    .dataframe tbody tr th {\n",
       "        vertical-align: top;\n",
       "    }\n",
       "\n",
       "    .dataframe thead th {\n",
       "        text-align: right;\n",
       "    }\n",
       "</style>\n",
       "<table border=\"1\" class=\"dataframe\">\n",
       "  <thead>\n",
       "    <tr style=\"text-align: right;\">\n",
       "      <th></th>\n",
       "      <th>CreditScore</th>\n",
       "      <th>Age</th>\n",
       "      <th>Tenure</th>\n",
       "      <th>Balance</th>\n",
       "      <th>NumOfProducts</th>\n",
       "      <th>HasCrCard</th>\n",
       "      <th>IsActiveMember</th>\n",
       "      <th>EstimatedSalary</th>\n",
       "      <th>France</th>\n",
       "      <th>Germany</th>\n",
       "      <th>Spain</th>\n",
       "      <th>Female</th>\n",
       "      <th>Male</th>\n",
       "    </tr>\n",
       "  </thead>\n",
       "  <tbody>\n",
       "    <tr>\n",
       "      <th>0</th>\n",
       "      <td>652</td>\n",
       "      <td>36</td>\n",
       "      <td>1</td>\n",
       "      <td>0.00</td>\n",
       "      <td>2</td>\n",
       "      <td>1</td>\n",
       "      <td>1</td>\n",
       "      <td>151314.98</td>\n",
       "      <td>1.0</td>\n",
       "      <td>0.0</td>\n",
       "      <td>0.0</td>\n",
       "      <td>0.0</td>\n",
       "      <td>1.0</td>\n",
       "    </tr>\n",
       "    <tr>\n",
       "      <th>1</th>\n",
       "      <td>752</td>\n",
       "      <td>42</td>\n",
       "      <td>3</td>\n",
       "      <td>65046.08</td>\n",
       "      <td>2</td>\n",
       "      <td>0</td>\n",
       "      <td>1</td>\n",
       "      <td>140139.28</td>\n",
       "      <td>0.0</td>\n",
       "      <td>1.0</td>\n",
       "      <td>0.0</td>\n",
       "      <td>1.0</td>\n",
       "      <td>0.0</td>\n",
       "    </tr>\n",
       "    <tr>\n",
       "      <th>2</th>\n",
       "      <td>850</td>\n",
       "      <td>34</td>\n",
       "      <td>2</td>\n",
       "      <td>0.00</td>\n",
       "      <td>2</td>\n",
       "      <td>0</td>\n",
       "      <td>0</td>\n",
       "      <td>51919.04</td>\n",
       "      <td>1.0</td>\n",
       "      <td>0.0</td>\n",
       "      <td>0.0</td>\n",
       "      <td>1.0</td>\n",
       "      <td>0.0</td>\n",
       "    </tr>\n",
       "    <tr>\n",
       "      <th>3</th>\n",
       "      <td>683</td>\n",
       "      <td>29</td>\n",
       "      <td>9</td>\n",
       "      <td>0.00</td>\n",
       "      <td>2</td>\n",
       "      <td>1</td>\n",
       "      <td>1</td>\n",
       "      <td>48849.89</td>\n",
       "      <td>1.0</td>\n",
       "      <td>0.0</td>\n",
       "      <td>0.0</td>\n",
       "      <td>1.0</td>\n",
       "      <td>0.0</td>\n",
       "    </tr>\n",
       "    <tr>\n",
       "      <th>4</th>\n",
       "      <td>526</td>\n",
       "      <td>36</td>\n",
       "      <td>1</td>\n",
       "      <td>0.00</td>\n",
       "      <td>1</td>\n",
       "      <td>1</td>\n",
       "      <td>0</td>\n",
       "      <td>160696.72</td>\n",
       "      <td>1.0</td>\n",
       "      <td>0.0</td>\n",
       "      <td>0.0</td>\n",
       "      <td>0.0</td>\n",
       "      <td>1.0</td>\n",
       "    </tr>\n",
       "  </tbody>\n",
       "</table>\n",
       "</div>"
      ],
      "text/plain": [
       "   CreditScore  Age  Tenure   Balance  NumOfProducts  HasCrCard  \\\n",
       "0          652   36       1      0.00              2          1   \n",
       "1          752   42       3  65046.08              2          0   \n",
       "2          850   34       2      0.00              2          0   \n",
       "3          683   29       9      0.00              2          1   \n",
       "4          526   36       1      0.00              1          1   \n",
       "\n",
       "   IsActiveMember  EstimatedSalary  France  Germany  Spain  Female  Male  \n",
       "0               1        151314.98     1.0      0.0    0.0     0.0   1.0  \n",
       "1               1        140139.28     0.0      1.0    0.0     1.0   0.0  \n",
       "2               0         51919.04     1.0      0.0    0.0     1.0   0.0  \n",
       "3               1         48849.89     1.0      0.0    0.0     1.0   0.0  \n",
       "4               0        160696.72     1.0      0.0    0.0     0.0   1.0  "
      ]
     },
     "execution_count": 364,
     "metadata": {},
     "output_type": "execute_result"
    }
   ],
   "source": [
    "#перекодируем категориальные признаки в валидационной и тестовой выборках:\n",
    "ohe_values_valid = ohe.transform(X_valid[category].values)\n",
    "ohe_valid = pd.DataFrame(ohe_values_valid.toarray())\n",
    "X_valid.reset_index(drop= True , inplace= True )\n",
    "ohe_valid.rename(columns = {0: 'France', 1: 'Germany', 2: 'Spain', 3: 'Female', 4: 'Male'}, inplace = True)\n",
    "X_valid = pd.concat([X_valid, ohe_valid], axis=1).drop(['Geography', 'Gender'], axis=1)\n",
    "X_valid.head(5)\n"
   ]
  },
  {
   "cell_type": "code",
   "execution_count": 365,
   "id": "91552884",
   "metadata": {},
   "outputs": [
    {
     "data": {
      "text/html": [
       "<div>\n",
       "<style scoped>\n",
       "    .dataframe tbody tr th:only-of-type {\n",
       "        vertical-align: middle;\n",
       "    }\n",
       "\n",
       "    .dataframe tbody tr th {\n",
       "        vertical-align: top;\n",
       "    }\n",
       "\n",
       "    .dataframe thead th {\n",
       "        text-align: right;\n",
       "    }\n",
       "</style>\n",
       "<table border=\"1\" class=\"dataframe\">\n",
       "  <thead>\n",
       "    <tr style=\"text-align: right;\">\n",
       "      <th></th>\n",
       "      <th>CreditScore</th>\n",
       "      <th>Age</th>\n",
       "      <th>Tenure</th>\n",
       "      <th>Balance</th>\n",
       "      <th>NumOfProducts</th>\n",
       "      <th>HasCrCard</th>\n",
       "      <th>IsActiveMember</th>\n",
       "      <th>EstimatedSalary</th>\n",
       "      <th>France</th>\n",
       "      <th>Germany</th>\n",
       "      <th>Spain</th>\n",
       "      <th>Female</th>\n",
       "      <th>Male</th>\n",
       "    </tr>\n",
       "  </thead>\n",
       "  <tbody>\n",
       "    <tr>\n",
       "      <th>0</th>\n",
       "      <td>-1.283897</td>\n",
       "      <td>0.008566</td>\n",
       "      <td>1.378433</td>\n",
       "      <td>0.330105</td>\n",
       "      <td>0.783996</td>\n",
       "      <td>1</td>\n",
       "      <td>0</td>\n",
       "      <td>-0.084061</td>\n",
       "      <td>0.0</td>\n",
       "      <td>1.0</td>\n",
       "      <td>0.0</td>\n",
       "      <td>1.0</td>\n",
       "      <td>0.0</td>\n",
       "    </tr>\n",
       "    <tr>\n",
       "      <th>1</th>\n",
       "      <td>0.271537</td>\n",
       "      <td>-1.139895</td>\n",
       "      <td>-1.044424</td>\n",
       "      <td>-1.220584</td>\n",
       "      <td>0.783996</td>\n",
       "      <td>0</td>\n",
       "      <td>1</td>\n",
       "      <td>0.264021</td>\n",
       "      <td>1.0</td>\n",
       "      <td>0.0</td>\n",
       "      <td>0.0</td>\n",
       "      <td>1.0</td>\n",
       "      <td>0.0</td>\n",
       "    </tr>\n",
       "    <tr>\n",
       "      <th>2</th>\n",
       "      <td>-0.236571</td>\n",
       "      <td>0.104271</td>\n",
       "      <td>-0.006057</td>\n",
       "      <td>1.692794</td>\n",
       "      <td>0.783996</td>\n",
       "      <td>1</td>\n",
       "      <td>1</td>\n",
       "      <td>0.515344</td>\n",
       "      <td>0.0</td>\n",
       "      <td>1.0</td>\n",
       "      <td>0.0</td>\n",
       "      <td>0.0</td>\n",
       "      <td>1.0</td>\n",
       "    </tr>\n",
       "  </tbody>\n",
       "</table>\n",
       "</div>"
      ],
      "text/plain": [
       "   CreditScore       Age    Tenure   Balance  NumOfProducts  HasCrCard  \\\n",
       "0    -1.283897  0.008566  1.378433  0.330105       0.783996          1   \n",
       "1     0.271537 -1.139895 -1.044424 -1.220584       0.783996          0   \n",
       "2    -0.236571  0.104271 -0.006057  1.692794       0.783996          1   \n",
       "\n",
       "   IsActiveMember  EstimatedSalary  France  Germany  Spain  Female  Male  \n",
       "0               0        -0.084061     0.0      1.0    0.0     1.0   0.0  \n",
       "1               1         0.264021     1.0      0.0    0.0     1.0   0.0  \n",
       "2               1         0.515344     0.0      1.0    0.0     0.0   1.0  "
      ]
     },
     "execution_count": 365,
     "metadata": {},
     "output_type": "execute_result"
    }
   ],
   "source": [
    "#Сохраним все целочисленные признаки в список numeric.\n",
    "#Масштабируем(стандартизируем) признаки\n",
    "numeric = ['CreditScore', 'Age', 'Tenure', 'Balance', 'NumOfProducts', 'EstimatedSalary']\n",
    "scaler = StandardScaler()\n",
    "X_train[numeric] = scaler.fit_transform(X_train[numeric])\n",
    "X_train.head(3)"
   ]
  },
  {
   "cell_type": "code",
   "execution_count": 366,
   "id": "2270548b",
   "metadata": {},
   "outputs": [
    {
     "data": {
      "text/html": [
       "<div>\n",
       "<style scoped>\n",
       "    .dataframe tbody tr th:only-of-type {\n",
       "        vertical-align: middle;\n",
       "    }\n",
       "\n",
       "    .dataframe tbody tr th {\n",
       "        vertical-align: top;\n",
       "    }\n",
       "\n",
       "    .dataframe thead th {\n",
       "        text-align: right;\n",
       "    }\n",
       "</style>\n",
       "<table border=\"1\" class=\"dataframe\">\n",
       "  <thead>\n",
       "    <tr style=\"text-align: right;\">\n",
       "      <th></th>\n",
       "      <th>CreditScore</th>\n",
       "      <th>Age</th>\n",
       "      <th>Tenure</th>\n",
       "      <th>Balance</th>\n",
       "      <th>NumOfProducts</th>\n",
       "      <th>HasCrCard</th>\n",
       "      <th>IsActiveMember</th>\n",
       "      <th>EstimatedSalary</th>\n",
       "      <th>France</th>\n",
       "      <th>Germany</th>\n",
       "      <th>Spain</th>\n",
       "      <th>Female</th>\n",
       "      <th>Male</th>\n",
       "    </tr>\n",
       "  </thead>\n",
       "  <tbody>\n",
       "    <tr>\n",
       "      <th>0</th>\n",
       "      <td>0.012298</td>\n",
       "      <td>-0.278549</td>\n",
       "      <td>-1.390547</td>\n",
       "      <td>-1.220584</td>\n",
       "      <td>0.783996</td>\n",
       "      <td>1</td>\n",
       "      <td>1</td>\n",
       "      <td>0.902331</td>\n",
       "      <td>1.0</td>\n",
       "      <td>0.0</td>\n",
       "      <td>0.0</td>\n",
       "      <td>0.0</td>\n",
       "      <td>1.0</td>\n",
       "    </tr>\n",
       "    <tr>\n",
       "      <th>1</th>\n",
       "      <td>1.049254</td>\n",
       "      <td>0.295681</td>\n",
       "      <td>-0.698302</td>\n",
       "      <td>-0.178027</td>\n",
       "      <td>0.783996</td>\n",
       "      <td>0</td>\n",
       "      <td>1</td>\n",
       "      <td>0.707579</td>\n",
       "      <td>0.0</td>\n",
       "      <td>1.0</td>\n",
       "      <td>0.0</td>\n",
       "      <td>1.0</td>\n",
       "      <td>0.0</td>\n",
       "    </tr>\n",
       "    <tr>\n",
       "      <th>2</th>\n",
       "      <td>2.065472</td>\n",
       "      <td>-0.469960</td>\n",
       "      <td>-1.044424</td>\n",
       "      <td>-1.220584</td>\n",
       "      <td>0.783996</td>\n",
       "      <td>0</td>\n",
       "      <td>0</td>\n",
       "      <td>-0.829776</td>\n",
       "      <td>1.0</td>\n",
       "      <td>0.0</td>\n",
       "      <td>0.0</td>\n",
       "      <td>1.0</td>\n",
       "      <td>0.0</td>\n",
       "    </tr>\n",
       "  </tbody>\n",
       "</table>\n",
       "</div>"
      ],
      "text/plain": [
       "   CreditScore       Age    Tenure   Balance  NumOfProducts  HasCrCard  \\\n",
       "0     0.012298 -0.278549 -1.390547 -1.220584       0.783996          1   \n",
       "1     1.049254  0.295681 -0.698302 -0.178027       0.783996          0   \n",
       "2     2.065472 -0.469960 -1.044424 -1.220584       0.783996          0   \n",
       "\n",
       "   IsActiveMember  EstimatedSalary  France  Germany  Spain  Female  Male  \n",
       "0               1         0.902331     1.0      0.0    0.0     0.0   1.0  \n",
       "1               1         0.707579     0.0      1.0    0.0     1.0   0.0  \n",
       "2               0        -0.829776     1.0      0.0    0.0     1.0   0.0  "
      ]
     },
     "execution_count": 366,
     "metadata": {},
     "output_type": "execute_result"
    }
   ],
   "source": [
    "X_valid[numeric] = scaler.transform(X_valid[numeric])\n",
    "X_valid.head(3)"
   ]
  },
  {
   "cell_type": "code",
   "execution_count": 367,
   "id": "7e3a6129",
   "metadata": {},
   "outputs": [
    {
     "name": "stderr",
     "output_type": "stream",
     "text": [
      "C:\\Users\\radim\\anaconda3\\envs\\ML_STEPIC\\lib\\site-packages\\ipykernel_launcher.py:1: SettingWithCopyWarning: \n",
      "A value is trying to be set on a copy of a slice from a DataFrame.\n",
      "Try using .loc[row_indexer,col_indexer] = value instead\n",
      "\n",
      "See the caveats in the documentation: https://pandas.pydata.org/pandas-docs/stable/user_guide/indexing.html#returning-a-view-versus-a-copy\n",
      "  \"\"\"Entry point for launching an IPython kernel.\n",
      "C:\\Users\\radim\\anaconda3\\envs\\ML_STEPIC\\lib\\site-packages\\pandas\\core\\indexing.py:1736: SettingWithCopyWarning: \n",
      "A value is trying to be set on a copy of a slice from a DataFrame.\n",
      "Try using .loc[row_indexer,col_indexer] = value instead\n",
      "\n",
      "See the caveats in the documentation: https://pandas.pydata.org/pandas-docs/stable/user_guide/indexing.html#returning-a-view-versus-a-copy\n",
      "  isetter(loc, value[:, i].tolist())\n"
     ]
    },
    {
     "data": {
      "text/html": [
       "<div>\n",
       "<style scoped>\n",
       "    .dataframe tbody tr th:only-of-type {\n",
       "        vertical-align: middle;\n",
       "    }\n",
       "\n",
       "    .dataframe tbody tr th {\n",
       "        vertical-align: top;\n",
       "    }\n",
       "\n",
       "    .dataframe thead th {\n",
       "        text-align: right;\n",
       "    }\n",
       "</style>\n",
       "<table border=\"1\" class=\"dataframe\">\n",
       "  <thead>\n",
       "    <tr style=\"text-align: right;\">\n",
       "      <th></th>\n",
       "      <th>CreditScore</th>\n",
       "      <th>Geography</th>\n",
       "      <th>Gender</th>\n",
       "      <th>Age</th>\n",
       "      <th>Tenure</th>\n",
       "      <th>Balance</th>\n",
       "      <th>NumOfProducts</th>\n",
       "      <th>HasCrCard</th>\n",
       "      <th>IsActiveMember</th>\n",
       "      <th>EstimatedSalary</th>\n",
       "    </tr>\n",
       "  </thead>\n",
       "  <tbody>\n",
       "    <tr>\n",
       "      <th>1154</th>\n",
       "      <td>-1.169832</td>\n",
       "      <td>Spain</td>\n",
       "      <td>Male</td>\n",
       "      <td>0.008566</td>\n",
       "      <td>-1.044424</td>\n",
       "      <td>0.747227</td>\n",
       "      <td>0.783996</td>\n",
       "      <td>1</td>\n",
       "      <td>1</td>\n",
       "      <td>-0.715667</td>\n",
       "    </tr>\n",
       "    <tr>\n",
       "      <th>6266</th>\n",
       "      <td>-1.180201</td>\n",
       "      <td>Spain</td>\n",
       "      <td>Female</td>\n",
       "      <td>-0.565665</td>\n",
       "      <td>0.686188</td>\n",
       "      <td>0.960535</td>\n",
       "      <td>-0.919109</td>\n",
       "      <td>1</td>\n",
       "      <td>0</td>\n",
       "      <td>-0.641092</td>\n",
       "    </tr>\n",
       "    <tr>\n",
       "      <th>9482</th>\n",
       "      <td>0.582624</td>\n",
       "      <td>France</td>\n",
       "      <td>Male</td>\n",
       "      <td>0.104271</td>\n",
       "      <td>-1.390547</td>\n",
       "      <td>-1.220584</td>\n",
       "      <td>0.783996</td>\n",
       "      <td>1</td>\n",
       "      <td>0</td>\n",
       "      <td>-1.488990</td>\n",
       "    </tr>\n",
       "  </tbody>\n",
       "</table>\n",
       "</div>"
      ],
      "text/plain": [
       "      CreditScore Geography  Gender       Age    Tenure   Balance  \\\n",
       "1154    -1.169832     Spain    Male  0.008566 -1.044424  0.747227   \n",
       "6266    -1.180201     Spain  Female -0.565665  0.686188  0.960535   \n",
       "9482     0.582624    France    Male  0.104271 -1.390547 -1.220584   \n",
       "\n",
       "      NumOfProducts  HasCrCard  IsActiveMember  EstimatedSalary  \n",
       "1154       0.783996          1               1        -0.715667  \n",
       "6266      -0.919109          1               0        -0.641092  \n",
       "9482       0.783996          1               0        -1.488990  "
      ]
     },
     "execution_count": 367,
     "metadata": {},
     "output_type": "execute_result"
    }
   ],
   "source": [
    "X_test[numeric] = scaler.transform(X_test[numeric])\n",
    "X_test.head(3)"
   ]
  },
  {
   "cell_type": "markdown",
   "id": "24799bdd",
   "metadata": {},
   "source": [
    "### Дерево решений на не сбалансированных данных\n",
    "<a id='pred_tree'></a>"
   ]
  },
  {
   "cell_type": "code",
   "execution_count": 368,
   "id": "83a51e31",
   "metadata": {},
   "outputs": [
    {
     "data": {
      "text/plain": [
       "6851    0\n",
       "7026    0\n",
       "5705    0\n",
       "9058    0\n",
       "9415    0\n",
       "       ..\n",
       "1467    0\n",
       "4644    0\n",
       "8942    0\n",
       "2935    0\n",
       "6206    0\n",
       "Name: Exited, Length: 6000, dtype: int64"
      ]
     },
     "execution_count": 368,
     "metadata": {},
     "output_type": "execute_result"
    }
   ],
   "source": [
    "y_train"
   ]
  },
  {
   "cell_type": "code",
   "execution_count": 371,
   "id": "8297d9c7",
   "metadata": {},
   "outputs": [],
   "source": [
    "best_model_tree = None\n",
    "best_recall_score = 0\n",
    "best_depth_tree = 0\n",
    "best_predictions_tree = 0\n",
    "\n",
    "best_precision_score = 0\n",
    "best_f1_score_tree = 0\n",
    "metric_f1_list = []\n",
    "depth_list = []\n",
    "for depth in range(1, 20):\n",
    "    model_tree = DecisionTreeClassifier(random_state=42, max_depth=depth)\n",
    "    model_tree.fit(X_train, y_train)\n",
    "    predictions_tree = model_tree.predict(X_valid)\n",
    "    f1_score_tree = f1_score(y_valid, predictions_tree)\n",
    "    metric_f1_list.append(f1_score_tree)\n",
    "    depth_list.append(depth)\n",
    "    if f1_score_tree > best_f1_score_tree:\n",
    "        best_model_tree = model_tree\n",
    "        best_predictions_tree = predictions_tree\n",
    "        best_f1_score_tree =f1_score_tree\n",
    "        best_depth_tree = depth"
   ]
  },
  {
   "cell_type": "code",
   "execution_count": 373,
   "id": "32f6f9b7",
   "metadata": {},
   "outputs": [
    {
     "name": "stdout",
     "output_type": "stream",
     "text": [
      "Количество деревьев: 5\n",
      "Лучшая F1-мера 0.5929078014184397\n",
      "Полнота 0.5122549019607843\n",
      "Точность 0.7037037037037037\n"
     ]
    }
   ],
   "source": [
    "print('Количество деревьев:', best_depth_tree)\n",
    "print(\"Лучшая F1-мера\", best_f1_score_tree)\n",
    "print(\"Полнота\" , recall_score(y_valid, best_predictions_tree))\n",
    "print(\"Точность\", precision_score(y_valid, best_predictions_tree))"
   ]
  },
  {
   "cell_type": "code",
   "execution_count": null,
   "id": "fcc8da2e",
   "metadata": {},
   "outputs": [],
   "source": []
  }
 ],
 "metadata": {
  "kernelspec": {
   "display_name": "Python 3 (ipykernel)",
   "language": "python",
   "name": "python3"
  },
  "language_info": {
   "codemirror_mode": {
    "name": "ipython",
    "version": 3
   },
   "file_extension": ".py",
   "mimetype": "text/x-python",
   "name": "python",
   "nbconvert_exporter": "python",
   "pygments_lexer": "ipython3",
   "version": "3.7.16"
  }
 },
 "nbformat": 4,
 "nbformat_minor": 5
}
