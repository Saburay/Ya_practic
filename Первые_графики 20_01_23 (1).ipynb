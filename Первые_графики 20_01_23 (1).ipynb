{
 "cells": [
  {
   "cell_type": "code",
   "execution_count": 93,
   "id": "056f5f29",
   "metadata": {},
   "outputs": [],
   "source": [
    "import pandas as pd\n",
    "import random\n",
    "import matplotlib.pyplot as plt"
   ]
  },
  {
   "cell_type": "code",
   "execution_count": 94,
   "id": "92232cdf",
   "metadata": {},
   "outputs": [],
   "source": [
    "data = pd.read_csv('visits.csv',sep='\\t')"
   ]
  },
  {
   "cell_type": "code",
   "execution_count": 95,
   "id": "b7b8bbe6",
   "metadata": {},
   "outputs": [
    {
     "data": {
      "text/html": [
       "<div>\n",
       "<style scoped>\n",
       "    .dataframe tbody tr th:only-of-type {\n",
       "        vertical-align: middle;\n",
       "    }\n",
       "\n",
       "    .dataframe tbody tr th {\n",
       "        vertical-align: top;\n",
       "    }\n",
       "\n",
       "    .dataframe thead th {\n",
       "        text-align: right;\n",
       "    }\n",
       "</style>\n",
       "<table border=\"1\" class=\"dataframe\">\n",
       "  <thead>\n",
       "    <tr style=\"text-align: right;\">\n",
       "      <th></th>\n",
       "      <th>date_time</th>\n",
       "      <th>id</th>\n",
       "      <th>time_spent</th>\n",
       "      <th>name</th>\n",
       "    </tr>\n",
       "  </thead>\n",
       "  <tbody>\n",
       "    <tr>\n",
       "      <th>0</th>\n",
       "      <td>20180406T165358</td>\n",
       "      <td>76144fb2</td>\n",
       "      <td>98.0</td>\n",
       "      <td>Василёк</td>\n",
       "    </tr>\n",
       "    <tr>\n",
       "      <th>1</th>\n",
       "      <td>20180404T173913</td>\n",
       "      <td>76144fb2</td>\n",
       "      <td>15.0</td>\n",
       "      <td>Василёк</td>\n",
       "    </tr>\n",
       "    <tr>\n",
       "      <th>2</th>\n",
       "      <td>20180403T172824</td>\n",
       "      <td>76144fb2</td>\n",
       "      <td>220.0</td>\n",
       "      <td>Василёк</td>\n",
       "    </tr>\n",
       "    <tr>\n",
       "      <th>3</th>\n",
       "      <td>20180407T070441</td>\n",
       "      <td>76144fb2</td>\n",
       "      <td>19.0</td>\n",
       "      <td>Василёк</td>\n",
       "    </tr>\n",
       "    <tr>\n",
       "      <th>4</th>\n",
       "      <td>20180404T132049</td>\n",
       "      <td>76144fb2</td>\n",
       "      <td>14.0</td>\n",
       "      <td>Василёк</td>\n",
       "    </tr>\n",
       "    <tr>\n",
       "      <th>5</th>\n",
       "      <td>20180403T144234</td>\n",
       "      <td>76144fb2</td>\n",
       "      <td>5.0</td>\n",
       "      <td>Василёк</td>\n",
       "    </tr>\n",
       "    <tr>\n",
       "      <th>6</th>\n",
       "      <td>20180402T082321</td>\n",
       "      <td>76144fb2</td>\n",
       "      <td>555.0</td>\n",
       "      <td>Василёк</td>\n",
       "    </tr>\n",
       "    <tr>\n",
       "      <th>7</th>\n",
       "      <td>20180407T003408</td>\n",
       "      <td>76144fb2</td>\n",
       "      <td>286.0</td>\n",
       "      <td>Василёк</td>\n",
       "    </tr>\n",
       "    <tr>\n",
       "      <th>8</th>\n",
       "      <td>20180404T084711</td>\n",
       "      <td>76144fb2</td>\n",
       "      <td>14.0</td>\n",
       "      <td>Василёк</td>\n",
       "    </tr>\n",
       "    <tr>\n",
       "      <th>9</th>\n",
       "      <td>20180405T131939</td>\n",
       "      <td>76144fb2</td>\n",
       "      <td>248.0</td>\n",
       "      <td>Василёк</td>\n",
       "    </tr>\n",
       "  </tbody>\n",
       "</table>\n",
       "</div>"
      ],
      "text/plain": [
       "         date_time        id  time_spent     name\n",
       "0  20180406T165358  76144fb2        98.0  Василёк\n",
       "1  20180404T173913  76144fb2        15.0  Василёк\n",
       "2  20180403T172824  76144fb2       220.0  Василёк\n",
       "3  20180407T070441  76144fb2        19.0  Василёк\n",
       "4  20180404T132049  76144fb2        14.0  Василёк\n",
       "5  20180403T144234  76144fb2         5.0  Василёк\n",
       "6  20180402T082321  76144fb2       555.0  Василёк\n",
       "7  20180407T003408  76144fb2       286.0  Василёк\n",
       "8  20180404T084711  76144fb2        14.0  Василёк\n",
       "9  20180405T131939  76144fb2       248.0  Василёк"
      ]
     },
     "execution_count": 95,
     "metadata": {},
     "output_type": "execute_result"
    }
   ],
   "source": [
    "data.head(10)"
   ]
  },
  {
   "cell_type": "markdown",
   "id": "745b3c1b",
   "metadata": {},
   "source": [
    "С помощью pivot_table() вычислите среднее время, проведённое на заправках в каждой из сетей, и сохраните результат в переменную stat.\n",
    "Выведите на экран значение переменной stat и проанализируйте полученные данные. Не забудьте, что time_spent хранит значения в секундах."
   ]
  },
  {
   "cell_type": "code",
   "execution_count": 96,
   "id": "eb1a4019",
   "metadata": {},
   "outputs": [],
   "source": [
    " stat = data.pivot_table(index='name',values='time_spent',aggfunc='mean')"
   ]
  },
  {
   "cell_type": "code",
   "execution_count": 97,
   "id": "983333af",
   "metadata": {},
   "outputs": [
    {
     "data": {
      "text/html": [
       "<div>\n",
       "<style scoped>\n",
       "    .dataframe tbody tr th:only-of-type {\n",
       "        vertical-align: middle;\n",
       "    }\n",
       "\n",
       "    .dataframe tbody tr th {\n",
       "        vertical-align: top;\n",
       "    }\n",
       "\n",
       "    .dataframe thead th {\n",
       "        text-align: right;\n",
       "    }\n",
       "</style>\n",
       "<table border=\"1\" class=\"dataframe\">\n",
       "  <thead>\n",
       "    <tr style=\"text-align: right;\">\n",
       "      <th></th>\n",
       "      <th>time_spent</th>\n",
       "    </tr>\n",
       "    <tr>\n",
       "      <th>name</th>\n",
       "      <th></th>\n",
       "    </tr>\n",
       "  </thead>\n",
       "  <tbody>\n",
       "    <tr>\n",
       "      <th>Агератум</th>\n",
       "      <td>337.802721</td>\n",
       "    </tr>\n",
       "    <tr>\n",
       "      <th>Амарант</th>\n",
       "      <td>132.760012</td>\n",
       "    </tr>\n",
       "    <tr>\n",
       "      <th>Аммобиум</th>\n",
       "      <td>256.708042</td>\n",
       "    </tr>\n",
       "    <tr>\n",
       "      <th>Арктотис</th>\n",
       "      <td>73.879984</td>\n",
       "    </tr>\n",
       "    <tr>\n",
       "      <th>Астильба</th>\n",
       "      <td>376.143149</td>\n",
       "    </tr>\n",
       "    <tr>\n",
       "      <th>Бальзамин</th>\n",
       "      <td>134.508411</td>\n",
       "    </tr>\n",
       "    <tr>\n",
       "      <th>Бархатцы</th>\n",
       "      <td>145.300328</td>\n",
       "    </tr>\n",
       "    <tr>\n",
       "      <th>Бегония</th>\n",
       "      <td>163.200647</td>\n",
       "    </tr>\n",
       "    <tr>\n",
       "      <th>Белоцветник</th>\n",
       "      <td>100.818966</td>\n",
       "    </tr>\n",
       "    <tr>\n",
       "      <th>Василёк</th>\n",
       "      <td>268.849897</td>\n",
       "    </tr>\n",
       "    <tr>\n",
       "      <th>Вербена</th>\n",
       "      <td>190.016594</td>\n",
       "    </tr>\n",
       "    <tr>\n",
       "      <th>Вероника</th>\n",
       "      <td>220.019402</td>\n",
       "    </tr>\n",
       "    <tr>\n",
       "      <th>Гацания</th>\n",
       "      <td>160.685185</td>\n",
       "    </tr>\n",
       "    <tr>\n",
       "      <th>Гвоздика</th>\n",
       "      <td>294.317308</td>\n",
       "    </tr>\n",
       "    <tr>\n",
       "      <th>Гейхера</th>\n",
       "      <td>167.445947</td>\n",
       "    </tr>\n",
       "    <tr>\n",
       "      <th>Гелихризум</th>\n",
       "      <td>290.138643</td>\n",
       "    </tr>\n",
       "    <tr>\n",
       "      <th>Георгина</th>\n",
       "      <td>166.615555</td>\n",
       "    </tr>\n",
       "    <tr>\n",
       "      <th>Годеция</th>\n",
       "      <td>113.958333</td>\n",
       "    </tr>\n",
       "    <tr>\n",
       "      <th>Диморфотека</th>\n",
       "      <td>406.161017</td>\n",
       "    </tr>\n",
       "    <tr>\n",
       "      <th>Доротеантус</th>\n",
       "      <td>263.568916</td>\n",
       "    </tr>\n",
       "    <tr>\n",
       "      <th>Ирис</th>\n",
       "      <td>179.931159</td>\n",
       "    </tr>\n",
       "    <tr>\n",
       "      <th>Календула</th>\n",
       "      <td>207.357323</td>\n",
       "    </tr>\n",
       "    <tr>\n",
       "      <th>Колокольчик</th>\n",
       "      <td>119.131564</td>\n",
       "    </tr>\n",
       "    <tr>\n",
       "      <th>Космос</th>\n",
       "      <td>164.867797</td>\n",
       "    </tr>\n",
       "    <tr>\n",
       "      <th>Крокус</th>\n",
       "      <td>349.031746</td>\n",
       "    </tr>\n",
       "    <tr>\n",
       "      <th>Лаватера</th>\n",
       "      <td>249.992844</td>\n",
       "    </tr>\n",
       "    <tr>\n",
       "      <th>Левкой</th>\n",
       "      <td>187.465606</td>\n",
       "    </tr>\n",
       "    <tr>\n",
       "      <th>Лобулярия</th>\n",
       "      <td>96.834350</td>\n",
       "    </tr>\n",
       "    <tr>\n",
       "      <th>Люпин</th>\n",
       "      <td>235.440937</td>\n",
       "    </tr>\n",
       "    <tr>\n",
       "      <th>Малопа</th>\n",
       "      <td>76.070543</td>\n",
       "    </tr>\n",
       "    <tr>\n",
       "      <th>Мальва</th>\n",
       "      <td>136.562234</td>\n",
       "    </tr>\n",
       "    <tr>\n",
       "      <th>Нарцисс</th>\n",
       "      <td>68.166758</td>\n",
       "    </tr>\n",
       "    <tr>\n",
       "      <th>Настурция</th>\n",
       "      <td>154.859694</td>\n",
       "    </tr>\n",
       "    <tr>\n",
       "      <th>Незабудка</th>\n",
       "      <td>120.362398</td>\n",
       "    </tr>\n",
       "    <tr>\n",
       "      <th>Немезия</th>\n",
       "      <td>186.535207</td>\n",
       "    </tr>\n",
       "    <tr>\n",
       "      <th>Обриета</th>\n",
       "      <td>141.777778</td>\n",
       "    </tr>\n",
       "    <tr>\n",
       "      <th>Петуния</th>\n",
       "      <td>265.780822</td>\n",
       "    </tr>\n",
       "    <tr>\n",
       "      <th>Пион</th>\n",
       "      <td>222.565523</td>\n",
       "    </tr>\n",
       "    <tr>\n",
       "      <th>Подснежник</th>\n",
       "      <td>180.286207</td>\n",
       "    </tr>\n",
       "    <tr>\n",
       "      <th>Роза</th>\n",
       "      <td>260.877217</td>\n",
       "    </tr>\n",
       "    <tr>\n",
       "      <th>Ромашка</th>\n",
       "      <td>231.389365</td>\n",
       "    </tr>\n",
       "    <tr>\n",
       "      <th>Тюльпан</th>\n",
       "      <td>187.832210</td>\n",
       "    </tr>\n",
       "    <tr>\n",
       "      <th>Фасоль</th>\n",
       "      <td>133.631957</td>\n",
       "    </tr>\n",
       "    <tr>\n",
       "      <th>Функия</th>\n",
       "      <td>302.494737</td>\n",
       "    </tr>\n",
       "    <tr>\n",
       "      <th>Хризантема</th>\n",
       "      <td>195.738710</td>\n",
       "    </tr>\n",
       "  </tbody>\n",
       "</table>\n",
       "</div>"
      ],
      "text/plain": [
       "             time_spent\n",
       "name                   \n",
       "Агератум     337.802721\n",
       "Амарант      132.760012\n",
       "Аммобиум     256.708042\n",
       "Арктотис      73.879984\n",
       "Астильба     376.143149\n",
       "Бальзамин    134.508411\n",
       "Бархатцы     145.300328\n",
       "Бегония      163.200647\n",
       "Белоцветник  100.818966\n",
       "Василёк      268.849897\n",
       "Вербена      190.016594\n",
       "Вероника     220.019402\n",
       "Гацания      160.685185\n",
       "Гвоздика     294.317308\n",
       "Гейхера      167.445947\n",
       "Гелихризум   290.138643\n",
       "Георгина     166.615555\n",
       "Годеция      113.958333\n",
       "Диморфотека  406.161017\n",
       "Доротеантус  263.568916\n",
       "Ирис         179.931159\n",
       "Календула    207.357323\n",
       "Колокольчик  119.131564\n",
       "Космос       164.867797\n",
       "Крокус       349.031746\n",
       "Лаватера     249.992844\n",
       "Левкой       187.465606\n",
       "Лобулярия     96.834350\n",
       "Люпин        235.440937\n",
       "Малопа        76.070543\n",
       "Мальва       136.562234\n",
       "Нарцисс       68.166758\n",
       "Настурция    154.859694\n",
       "Незабудка    120.362398\n",
       "Немезия      186.535207\n",
       "Обриета      141.777778\n",
       "Петуния      265.780822\n",
       "Пион         222.565523\n",
       "Подснежник   180.286207\n",
       "Роза         260.877217\n",
       "Ромашка      231.389365\n",
       "Тюльпан      187.832210\n",
       "Фасоль       133.631957\n",
       "Функия       302.494737\n",
       "Хризантема   195.738710"
      ]
     },
     "execution_count": 97,
     "metadata": {},
     "output_type": "execute_result"
    }
   ],
   "source": [
    "stat"
   ]
  },
  {
   "cell_type": "code",
   "execution_count": 98,
   "id": "20adf528",
   "metadata": {},
   "outputs": [],
   "source": [
    "total_visits = data['date_time'].count()"
   ]
  },
  {
   "cell_type": "code",
   "execution_count": 99,
   "id": "3c855cc3",
   "metadata": {},
   "outputs": [
    {
     "name": "stdout",
     "output_type": "stream",
     "text": [
      "Количество заездов:317104\n"
     ]
    }
   ],
   "source": [
    "print(f'Количество заездов:{total_visits}')"
   ]
  },
  {
   "cell_type": "code",
   "execution_count": 100,
   "id": "bd003d55",
   "metadata": {},
   "outputs": [],
   "source": [
    "total_stations = data['id'].unique()"
   ]
  },
  {
   "cell_type": "code",
   "execution_count": 101,
   "id": "834e9a7c",
   "metadata": {},
   "outputs": [],
   "source": [
    "total_stations2 = data['id'].nunique()"
   ]
  },
  {
   "cell_type": "code",
   "execution_count": 102,
   "id": "e92d8ede",
   "metadata": {},
   "outputs": [
    {
     "data": {
      "text/plain": [
       "471"
      ]
     },
     "execution_count": 102,
     "metadata": {},
     "output_type": "execute_result"
    }
   ],
   "source": [
    "total_stations2"
   ]
  },
  {
   "cell_type": "code",
   "execution_count": 103,
   "id": "8bccf7cb",
   "metadata": {},
   "outputs": [
    {
     "name": "stdout",
     "output_type": "stream",
     "text": [
      "Количество АЗС:471\n"
     ]
    }
   ],
   "source": [
    "print(f'Количество АЗС:{len(total_stations)}')"
   ]
  },
  {
   "cell_type": "markdown",
   "id": "4ed684bf",
   "metadata": {},
   "source": [
    "Выведите минимальное и максимальное значения столбца date_time через пробел, вызвав функцию print() только один раз."
   ]
  },
  {
   "cell_type": "code",
   "execution_count": 104,
   "id": "f30ec690",
   "metadata": {},
   "outputs": [
    {
     "name": "stdout",
     "output_type": "stream",
     "text": [
      "20180402T000008 20180408T235957\n"
     ]
    }
   ],
   "source": [
    "print(data['date_time'].min(),data['date_time'].max())"
   ]
  },
  {
   "cell_type": "markdown",
   "id": "d07c89d9",
   "metadata": {},
   "source": [
    "Теперь можно найти среднее количество посещений АЗС за день. \n",
    "Сохраните в переменную total_days количество дней.\n",
    "В переменную station_visits_per_day запишите среднее количество визитов на АЗС за день. Чтобы посчитать среднее, используйте значения переменных total_visits, total_stations и total_days .\n",
    "Выведите на экран значение переменной в таком виде:\n",
    "Количество заездов на АЗС в сутки: ... "
   ]
  },
  {
   "cell_type": "code",
   "execution_count": 105,
   "id": "24ad0e67",
   "metadata": {},
   "outputs": [],
   "source": [
    "total_days = 7"
   ]
  },
  {
   "cell_type": "code",
   "execution_count": 106,
   "id": "f341d1ed",
   "metadata": {},
   "outputs": [],
   "source": [
    "station_visits_per_day = (total_visits/total_stations2)/total_days"
   ]
  },
  {
   "cell_type": "code",
   "execution_count": 107,
   "id": "0961cb3a",
   "metadata": {},
   "outputs": [
    {
     "data": {
      "text/plain": [
       "96.17955717318775"
      ]
     },
     "execution_count": 107,
     "metadata": {},
     "output_type": "execute_result"
    }
   ],
   "source": [
    "station_visits_per_day"
   ]
  },
  {
   "cell_type": "code",
   "execution_count": 108,
   "id": "cd3898ef",
   "metadata": {},
   "outputs": [
    {
     "name": "stdout",
     "output_type": "stream",
     "text": [
      "Количество заездов на АЗС в сутки: 96.17955717318775\n"
     ]
    }
   ],
   "source": [
    "print(f'Количество заездов на АЗС в сутки: {station_visits_per_day}')"
   ]
  },
  {
   "cell_type": "code",
   "execution_count": 109,
   "id": "11225bf3",
   "metadata": {},
   "outputs": [
    {
     "name": "stdout",
     "output_type": "stream",
     "text": [
      "Календула      85648\n",
      "Василёк        79006\n",
      "Георгина       34356\n",
      "Немезия        20138\n",
      "Колокольчик    18835\n",
      "Мальва         17386\n",
      "Гейхера        14125\n",
      "Доротеантус     6312\n",
      "Нарцисс         3640\n",
      "Амарант         3221\n",
      "Name: name, dtype: int64\n"
     ]
    }
   ],
   "source": [
    "print(data.name.value_counts().head(10))"
   ]
  },
  {
   "cell_type": "code",
   "execution_count": 110,
   "id": "a5577c53",
   "metadata": {},
   "outputs": [
    {
     "data": {
      "text/plain": [
       "<AxesSubplot:>"
      ]
     },
     "execution_count": 110,
     "metadata": {},
     "output_type": "execute_result"
    },
    {
     "data": {
      "image/png": "[encoded data removed]",
      "text/plain": [
       "<Figure size 432x288 with 1 Axes>"
      ]
     },
     "metadata": {
      "needs_background": "light"
     },
     "output_type": "display_data"
    }
   ],
   "source": [
    "data['time_spent'].hist()"
   ]
  },
  {
   "cell_type": "code",
   "execution_count": 111,
   "id": "8c20a772",
   "metadata": {},
   "outputs": [
    {
     "data": {
      "text/plain": [
       "<AxesSubplot:>"
      ]
     },
     "execution_count": 111,
     "metadata": {},
     "output_type": "execute_result"
    },
    {
     "data": {
      "image/png": "[encoded data removed]",
      "text/plain": [
       "<Figure size 432x288 with 1 Axes>"
      ]
     },
     "metadata": {
      "needs_background": "light"
     },
     "output_type": "display_data"
    }
   ],
   "source": [
    "data['time_spent'].hist(bins=100,range=(0,1500))"
   ]
  },
  {
   "cell_type": "code",
   "execution_count": 112,
   "id": "666299da",
   "metadata": {},
   "outputs": [],
   "source": [
    "import random\n",
    "\n",
    "\n",
    "# Функция, имитирующая один бросок монеты.\n",
    "# От англ. coin - монета, flip - бросок монеты.\n",
    "def coin_flip():\n",
    "    # возможны два варианта:\n",
    "    # - выпала решка, это +0 орлов\n",
    "    # - выпал орёл, это +1 орёл\n",
    "    score = random.randint(0, 1)\n",
    "    return score\n",
    "\n",
    "# Функция для суммирования числа орлов в нескольких бросках.\n",
    "# Орёл и решка переводятся на английский как heads и tails.\n",
    "# Аргумент repeat говорит, сколько раз бросать монету\n",
    "# (от англ. repeat - повторение).\n",
    "def flips_heads(repeat):\n",
    "    total = 0\n",
    "    for i in range(repeat):\n",
    "        flip = coin_flip()\n",
    "        total += flip\n",
    "    return total\n",
    "\n",
    "\n",
    "# Cоздаём пустой список. В него мы\n",
    "# будем складывать результаты экспериментов.\n",
    "experiments = []\n",
    "\n",
    "for i in range(1000):\n",
    "    score = flips_heads(10)\n",
    "\n",
    "    # Напомним: функция append() добавляет новый\n",
    "    # элемент score в конец списка experiments.\n",
    "    experiments.append(score)\n",
    "\n",
    "# превращаем список в DataFrame\n",
    "df_experiments = pd.DataFrame(experiments)"
   ]
  },
  {
   "cell_type": "markdown",
   "id": "481dc9de",
   "metadata": {},
   "source": [
    "Постройте гистограмму полученных значений с диапазоном значений от 0 до 11 и количеством корзин 11.\n"
   ]
  },
  {
   "cell_type": "code",
   "execution_count": 113,
   "id": "51c3a14a",
   "metadata": {},
   "outputs": [
    {
     "data": {
      "text/plain": [
       "array([[<AxesSubplot:title={'center':'0'}>]], dtype=object)"
      ]
     },
     "execution_count": 113,
     "metadata": {},
     "output_type": "execute_result"
    },
    {
     "data": {
      "image/png": "[encoded data removed]",
      "text/plain": [
       "<Figure size 432x288 with 1 Axes>"
      ]
     },
     "metadata": {
      "needs_background": "light"
     },
     "output_type": "display_data"
    }
   ],
   "source": [
    "df_experiments.hist(bins=11,range=(0,11))"
   ]
  },
  {
   "cell_type": "markdown",
   "id": "3ca90f71",
   "metadata": {},
   "source": [
    "Постройте гистограмму полученных значений с диапазоном значений от 0 до 11 и количеством корзин 11.\n"
   ]
  },
  {
   "cell_type": "code",
   "execution_count": 114,
   "id": "5a6d2637",
   "metadata": {},
   "outputs": [
    {
     "data": {
      "text/plain": [
       "array([[<AxesSubplot:title={'center':'0'}>]], dtype=object)"
      ]
     },
     "execution_count": 114,
     "metadata": {},
     "output_type": "execute_result"
    },
    {
     "data": {
      "image/png": "[encoded data removed]",
      "text/plain": [
       "<Figure size 432x288 with 1 Axes>"
      ]
     },
     "metadata": {
      "needs_background": "light"
     },
     "output_type": "display_data"
    }
   ],
   "source": [
    "df_experiments.hist(bins=11,range=(0,11))"
   ]
  },
  {
   "cell_type": "markdown",
   "id": "82639d18",
   "metadata": {},
   "source": [
    "\n",
    "Валерик каждый день едет на работу с тремя пересадками: сперва на автобусе до метро; затем по одной ветке, а потом по другой; и от метро добирается до работы на автобусе. Валерик знает, сколько продолжается поездка на каждом виде транспорта и пересадки, но вечно забывает учесть ожидание автобусов и поездов. Постройте гистограмму опозданий Валерика за 5 лет c параметром bins=10."
   ]
  },
  {
   "cell_type": "code",
   "execution_count": 115,
   "id": "5ed408ac",
   "metadata": {},
   "outputs": [],
   "source": [
    "# Функция, имитирующая время ожидания автобуса.\n",
    "# (от англ. bus - автобус, wait - ждать, time - время)\n",
    "def bus_wait_time():\n",
    "    return random.randint(0, 10)\n",
    "\n",
    "\n",
    "# Функция, имитирующая время ожидания поезда в метро.\n",
    "# (от англ. train - поезд, wait - ждать, time - время)\n",
    "def train_wait_time():\n",
    "    return random.randint(0, 5)\n",
    "\n",
    "\n",
    "# Функция подсчёта полного опоздания за день.\n",
    "# от англ. total - полный, итоговый, delay - задержка, опоздание\n",
    "def total_delay():\n",
    "    # обратите внимание, как в Python переносят длинные строки\n",
    "    return (\n",
    "        bus_wait_time()\n",
    "        + train_wait_time()\n",
    "        + train_wait_time()\n",
    "        + bus_wait_time()\n",
    "    )\n",
    "\n",
    "\n",
    "# создайте пустой список\n",
    "days = []\n",
    "\n",
    "for i in range(365 * 5):\n",
    "    delay = total_delay()\n",
    "\n",
    "    # добавьте опоздание в список days\n",
    "    days.append(delay)\n",
    "\n",
    "# превращаем список в DataFrame\n",
    "df_days = pd.DataFrame(days)"
   ]
  },
  {
   "cell_type": "code",
   "execution_count": 116,
   "id": "f57caba0",
   "metadata": {},
   "outputs": [
    {
     "data": {
      "text/plain": [
       "array([[<AxesSubplot:title={'center':'0'}>]], dtype=object)"
      ]
     },
     "execution_count": 116,
     "metadata": {},
     "output_type": "execute_result"
    },
    {
     "data": {
      "image/png": "[encoded data removed]",
      "text/plain": [
       "<Figure size 432x288 with 1 Axes>"
      ]
     },
     "metadata": {
      "needs_background": "light"
     },
     "output_type": "display_data"
    }
   ],
   "source": [
    "df_days.hist(bins=10)"
   ]
  },
  {
   "cell_type": "code",
   "execution_count": 117,
   "id": "5214b569",
   "metadata": {},
   "outputs": [
    {
     "data": {
      "text/html": [
       "<div>\n",
       "<style scoped>\n",
       "    .dataframe tbody tr th:only-of-type {\n",
       "        vertical-align: middle;\n",
       "    }\n",
       "\n",
       "    .dataframe tbody tr th {\n",
       "        vertical-align: top;\n",
       "    }\n",
       "\n",
       "    .dataframe thead th {\n",
       "        text-align: right;\n",
       "    }\n",
       "</style>\n",
       "<table border=\"1\" class=\"dataframe\">\n",
       "  <thead>\n",
       "    <tr style=\"text-align: right;\">\n",
       "      <th></th>\n",
       "      <th>time_spent</th>\n",
       "    </tr>\n",
       "  </thead>\n",
       "  <tbody>\n",
       "    <tr>\n",
       "      <th>count</th>\n",
       "      <td>317104.000000</td>\n",
       "    </tr>\n",
       "    <tr>\n",
       "      <th>mean</th>\n",
       "      <td>203.382294</td>\n",
       "    </tr>\n",
       "    <tr>\n",
       "      <th>std</th>\n",
       "      <td>395.754791</td>\n",
       "    </tr>\n",
       "    <tr>\n",
       "      <th>min</th>\n",
       "      <td>0.000000</td>\n",
       "    </tr>\n",
       "    <tr>\n",
       "      <th>25%</th>\n",
       "      <td>19.000000</td>\n",
       "    </tr>\n",
       "    <tr>\n",
       "      <th>50%</th>\n",
       "      <td>108.000000</td>\n",
       "    </tr>\n",
       "    <tr>\n",
       "      <th>75%</th>\n",
       "      <td>274.000000</td>\n",
       "    </tr>\n",
       "    <tr>\n",
       "      <th>max</th>\n",
       "      <td>28925.000000</td>\n",
       "    </tr>\n",
       "  </tbody>\n",
       "</table>\n",
       "</div>"
      ],
      "text/plain": [
       "          time_spent\n",
       "count  317104.000000\n",
       "mean      203.382294\n",
       "std       395.754791\n",
       "min         0.000000\n",
       "25%        19.000000\n",
       "50%       108.000000\n",
       "75%       274.000000\n",
       "max     28925.000000"
      ]
     },
     "execution_count": 117,
     "metadata": {},
     "output_type": "execute_result"
    }
   ],
   "source": [
    "data.describe()"
   ]
  },
  {
   "cell_type": "code",
   "execution_count": 118,
   "id": "83d7a4d1",
   "metadata": {},
   "outputs": [
    {
     "data": {
      "image/png": "[encoded data removed]",
      "text/plain": [
       "<Figure size 432x288 with 1 Axes>"
      ]
     },
     "metadata": {
      "needs_background": "light"
     },
     "output_type": "display_data"
    }
   ],
   "source": [
    "data.hist(bins=10)\n",
    "plt.show()"
   ]
  },
  {
   "cell_type": "code",
   "execution_count": 119,
   "id": "b169af44",
   "metadata": {},
   "outputs": [
    {
     "data": {
      "image/png": "[encoded data removed]",
      "text/plain": [
       "<Figure size 432x288 with 1 Axes>"
      ]
     },
     "metadata": {
      "needs_background": "light"
     },
     "output_type": "display_data"
    }
   ],
   "source": [
    "data.hist(bins=100)\n",
    "plt.show()"
   ]
  },
  {
   "cell_type": "code",
   "execution_count": 120,
   "id": "2f441492",
   "metadata": {},
   "outputs": [
    {
     "data": {
      "text/plain": [
       "114797    28925.0\n",
       "27147     28519.0\n",
       "60547     28292.0\n",
       "19042     23696.0\n",
       "118597    21184.0\n",
       "118058    20359.0\n",
       "114406    19886.0\n",
       "132164    19445.0\n",
       "281360    18614.0\n",
       "165326    18569.0\n",
       "Name: time_spent, dtype: float64"
      ]
     },
     "execution_count": 120,
     "metadata": {},
     "output_type": "execute_result"
    }
   ],
   "source": [
    "data['time_spent'].sort_values(ascending=False).head(10)"
   ]
  },
  {
   "cell_type": "markdown",
   "id": "57eda399",
   "metadata": {},
   "source": [
    "Четыре из десяти самых долгих заездов произошли на станции под номером 3c1e4c52. Аналитик данных непременно спросит: «А как распределение времени, проведённого на этой АЗС, соотносится с распределением времени заездов в целом?» Нужно проверить. Для этого сделайте срез данных и извлеките всю информацию о станции 3c1e4c52.\n",
    "Сделайте срез data по АЗС с id == \"3c1e4c52\" и сохраните результат в переменную sample.\n",
    "Выведите на экран число заездов на эту АЗС."
   ]
  },
  {
   "cell_type": "code",
   "execution_count": 121,
   "id": "1388f298",
   "metadata": {},
   "outputs": [],
   "source": [
    " sample= data.query('id==\"3c1e4c52\"')"
   ]
  },
  {
   "cell_type": "code",
   "execution_count": 122,
   "id": "c8d6957f",
   "metadata": {},
   "outputs": [
    {
     "data": {
      "text/html": [
       "<div>\n",
       "<style scoped>\n",
       "    .dataframe tbody tr th:only-of-type {\n",
       "        vertical-align: middle;\n",
       "    }\n",
       "\n",
       "    .dataframe tbody tr th {\n",
       "        vertical-align: top;\n",
       "    }\n",
       "\n",
       "    .dataframe thead th {\n",
       "        text-align: right;\n",
       "    }\n",
       "</style>\n",
       "<table border=\"1\" class=\"dataframe\">\n",
       "  <thead>\n",
       "    <tr style=\"text-align: right;\">\n",
       "      <th></th>\n",
       "      <th>date_time</th>\n",
       "      <th>id</th>\n",
       "      <th>time_spent</th>\n",
       "      <th>name</th>\n",
       "    </tr>\n",
       "  </thead>\n",
       "  <tbody>\n",
       "    <tr>\n",
       "      <th>112900</th>\n",
       "      <td>20180408T140822</td>\n",
       "      <td>3c1e4c52</td>\n",
       "      <td>55.0</td>\n",
       "      <td>Василёк</td>\n",
       "    </tr>\n",
       "    <tr>\n",
       "      <th>112901</th>\n",
       "      <td>20180404T120827</td>\n",
       "      <td>3c1e4c52</td>\n",
       "      <td>113.0</td>\n",
       "      <td>Василёк</td>\n",
       "    </tr>\n",
       "    <tr>\n",
       "      <th>112902</th>\n",
       "      <td>20180405T155422</td>\n",
       "      <td>3c1e4c52</td>\n",
       "      <td>2683.0</td>\n",
       "      <td>Василёк</td>\n",
       "    </tr>\n",
       "    <tr>\n",
       "      <th>112903</th>\n",
       "      <td>20180403T134959</td>\n",
       "      <td>3c1e4c52</td>\n",
       "      <td>14.0</td>\n",
       "      <td>Василёк</td>\n",
       "    </tr>\n",
       "    <tr>\n",
       "      <th>112904</th>\n",
       "      <td>20180405T050229</td>\n",
       "      <td>3c1e4c52</td>\n",
       "      <td>353.0</td>\n",
       "      <td>Василёк</td>\n",
       "    </tr>\n",
       "    <tr>\n",
       "      <th>...</th>\n",
       "      <td>...</td>\n",
       "      <td>...</td>\n",
       "      <td>...</td>\n",
       "      <td>...</td>\n",
       "    </tr>\n",
       "    <tr>\n",
       "      <th>118709</th>\n",
       "      <td>20180404T040613</td>\n",
       "      <td>3c1e4c52</td>\n",
       "      <td>179.0</td>\n",
       "      <td>Василёк</td>\n",
       "    </tr>\n",
       "    <tr>\n",
       "      <th>118710</th>\n",
       "      <td>20180404T213235</td>\n",
       "      <td>3c1e4c52</td>\n",
       "      <td>1604.0</td>\n",
       "      <td>Василёк</td>\n",
       "    </tr>\n",
       "    <tr>\n",
       "      <th>118711</th>\n",
       "      <td>20180404T091754</td>\n",
       "      <td>3c1e4c52</td>\n",
       "      <td>37.0</td>\n",
       "      <td>Василёк</td>\n",
       "    </tr>\n",
       "    <tr>\n",
       "      <th>118712</th>\n",
       "      <td>20180404T101710</td>\n",
       "      <td>3c1e4c52</td>\n",
       "      <td>13.0</td>\n",
       "      <td>Василёк</td>\n",
       "    </tr>\n",
       "    <tr>\n",
       "      <th>118713</th>\n",
       "      <td>20180402T091536</td>\n",
       "      <td>3c1e4c52</td>\n",
       "      <td>230.0</td>\n",
       "      <td>Василёк</td>\n",
       "    </tr>\n",
       "  </tbody>\n",
       "</table>\n",
       "<p>5814 rows × 4 columns</p>\n",
       "</div>"
      ],
      "text/plain": [
       "              date_time        id  time_spent     name\n",
       "112900  20180408T140822  3c1e4c52        55.0  Василёк\n",
       "112901  20180404T120827  3c1e4c52       113.0  Василёк\n",
       "112902  20180405T155422  3c1e4c52      2683.0  Василёк\n",
       "112903  20180403T134959  3c1e4c52        14.0  Василёк\n",
       "112904  20180405T050229  3c1e4c52       353.0  Василёк\n",
       "...                 ...       ...         ...      ...\n",
       "118709  20180404T040613  3c1e4c52       179.0  Василёк\n",
       "118710  20180404T213235  3c1e4c52      1604.0  Василёк\n",
       "118711  20180404T091754  3c1e4c52        37.0  Василёк\n",
       "118712  20180404T101710  3c1e4c52        13.0  Василёк\n",
       "118713  20180402T091536  3c1e4c52       230.0  Василёк\n",
       "\n",
       "[5814 rows x 4 columns]"
      ]
     },
     "execution_count": 122,
     "metadata": {},
     "output_type": "execute_result"
    }
   ],
   "source": [
    "sample"
   ]
  },
  {
   "cell_type": "markdown",
   "id": "1e65bcf7",
   "metadata": {},
   "source": [
    "Нужно сравнить распределение времени пребывания на станции 3c1e4c52 с распределением времени пребывания на всех АЗС. Если они сильно различаются, возможно, станция 3c1e4c52 представляет собой статистический выброс. \n",
    "Методом hist() постройте две гистограммы распределения значений в столбце time_spent: одну для объекта data, вторую — для sample. Не забудьте использовать plt.show() после каждого вызова hist().\n",
    "Для обеих гистограмм задайте одинаковые аргументы: range — от 0 до 1500, bins — 100."
   ]
  },
  {
   "cell_type": "code",
   "execution_count": 123,
   "id": "755e1190",
   "metadata": {},
   "outputs": [
    {
     "data": {
      "image/png": "[encoded data removed]",
      "text/plain": [
       "<Figure size 432x288 with 1 Axes>"
      ]
     },
     "metadata": {
      "needs_background": "light"
     },
     "output_type": "display_data"
    }
   ],
   "source": [
    "sample.hist('time_spent',range=(0,1500), bins=(100))\n",
    "plt.show()"
   ]
  },
  {
   "cell_type": "code",
   "execution_count": 124,
   "id": "262f9501",
   "metadata": {},
   "outputs": [
    {
     "data": {
      "image/png": "[encoded data removed]",
      "text/plain": [
       "<Figure size 432x288 with 1 Axes>"
      ]
     },
     "metadata": {
      "needs_background": "light"
     },
     "output_type": "display_data"
    }
   ],
   "source": [
    "data.hist('time_spent',range=(0,1500), bins=(100))\n",
    "plt.show()"
   ]
  },
  {
   "cell_type": "markdown",
   "id": "b17eb128",
   "metadata": {},
   "source": [
    "В столбце date_time дата и время заезда. Из описания данных известно, что время заезда указали в часовом поясе UTC+0, в формате ISO. Значит, сначала слитно идут год, месяц, день; затем буквенный разделитель даты и времени T; затем часы, минуты и секунды — снова слитно.\n",
    "В курсе по предобработке вы познакомились с методом to_datetime(), который переводит строки в даты.\n",
    "\n",
    "Напомним, что в аргументе format метода to_datetime() указывают специальные обозначения, порядок которых соответствует порядку чисел в строке с датой:\n",
    "### %d — день месяца (от 01 до 31);\n",
    "### %m — номер месяца (от 01 до 12);\n",
    "### %Y — четырёхзначный номер года (например, 2019);\n",
    "### %y — двузначный номер года (например, 19);\n",
    "### Z или T — стандартный разделитель даты и времени;\n",
    "### %H — номер часа в 24-часовом формате;\n",
    "### %I — номер часа в 12-часовом формате;\n",
    "### %M — минуты (от 00 до 59);\n",
    "### |%S — секунды (от 00 до 59).\n",
    "При выводе значений формата datetime на экран Python автоматически разделяет их символами - и :, чтобы человеку было проще воспринимать данные."
   ]
  },
  {
   "cell_type": "code",
   "execution_count": 125,
   "id": "032fdc5d",
   "metadata": {},
   "outputs": [],
   "source": [
    "# Измените тип столбца date_time на более удобный тип для даты. \n",
    "# Методом pd.to_datetime() переведите значения столбца date_time в таблице data в объекты datetime. В параметре format= укажите строку, соответствующую текущему формату date_time, с помощью специальных обозначений.\n",
    "# Выведите на экран первые пять строк data, чтобы проверить, что получилось.\n",
    "data['date_time'] = pd.to_datetime(data['date_time'],format='%Y-%m-%d %H:%M:%S')"
   ]
  },
  {
   "cell_type": "code",
   "execution_count": 126,
   "id": "4c8418f8",
   "metadata": {},
   "outputs": [
    {
     "data": {
      "text/plain": [
       "0   2018-04-06 16:53:58\n",
       "1   2018-04-04 17:39:13\n",
       "2   2018-04-03 17:28:24\n",
       "3   2018-04-07 07:04:41\n",
       "4   2018-04-04 13:20:49\n",
       "Name: date_time, dtype: datetime64[ns]"
      ]
     },
     "execution_count": 126,
     "metadata": {},
     "output_type": "execute_result"
    }
   ],
   "source": [
    "data['date_time'].head()"
   ]
  },
  {
   "cell_type": "markdown",
   "id": "e5994b74",
   "metadata": {},
   "source": [
    "О том, что операции предстоит выполнять именно с датами, аналитик сообщает pandas отдельно, через атрибут dt (от англ. date time). Атрибут dt указывает, что тип данных, к которым будут применены методы, — datetime. А значит, pandas не примет их за строки или числа.  \n",
    "Чтобы округлить время, применяют метод dt.round() (англ. round, «округлять»). В качестве параметра ему передают строку с шагом округления в часах, днях, минутах или секундах: \n",
    "D — day (от англ. «день»);\n",
    "H — hour (от англ. «час»);\n",
    "min или T — minute (от англ. «минута»);\n",
    "S — second (от англ. «секунда»).\n",
    "Чаще всего округляют с шагом в один час:\n",
    "import pandas as pd \n",
    "\n",
    "### df = pd.DataFrame({'time': ['2011-03-01 17:34']})\n",
    "### df['time'] = pd.to_datetime(df['time'], format='%Y-%m-%d %H:%M')\n",
    "## df['time_rounded'] = df['time'].dt.round('1H') # округляем до ближайшего значения с шагом в один час\n",
    "### print(df['time_rounded']) \n",
    "### 0   2011-03-01 18:00:00\n",
    "Name: time, dtype: datetime64[ns] "
   ]
  },
  {
   "cell_type": "markdown",
   "id": "8a41e4d1",
   "metadata": {},
   "source": [
    "Чтобы быть уверенными в том, что время будет округлено к большему значению, обращаются к методу dt.ceil() (от англ. ceiling — «потолок»). К меньшему значению, «вниз», округляют методом dt.floor() (англ. floor — «пол»).\n",
    "import pandas as pd\n",
    "\n",
    "df = pd.DataFrame({'time': ['2011-03-01 17:15']})\n",
    "df['time'] = pd.to_datetime(df['time'], format='%Y-%m-%d %H:%M')\n",
    "### df['ceil'] = df['time'].dt.ceil('1H') # округляем к потолку\n",
    "### df['floor'] = df['time'].dt.floor('1H') # округляем к полу\n",
    "print('Время, округлённое вверх', df['ceil'])\n",
    "print('Время, округлённое вниз', df['floor']) \n",
    "Время, округлённое вверх 0   2011-03-01 18:00:00\n",
    "Name: time, dtype: datetime64[ns]\n",
    "Время, округлённое вниз 0   2011-03-01 17:00:00\n",
    "Name: time, dtype: datetime64[ns] "
   ]
  },
  {
   "cell_type": "code",
   "execution_count": 127,
   "id": "8af55a62",
   "metadata": {},
   "outputs": [
    {
     "data": {
      "text/html": [
       "<div>\n",
       "<style scoped>\n",
       "    .dataframe tbody tr th:only-of-type {\n",
       "        vertical-align: middle;\n",
       "    }\n",
       "\n",
       "    .dataframe tbody tr th {\n",
       "        vertical-align: top;\n",
       "    }\n",
       "\n",
       "    .dataframe thead th {\n",
       "        text-align: right;\n",
       "    }\n",
       "</style>\n",
       "<table border=\"1\" class=\"dataframe\">\n",
       "  <thead>\n",
       "    <tr style=\"text-align: right;\">\n",
       "      <th></th>\n",
       "      <th>date_time</th>\n",
       "      <th>id</th>\n",
       "      <th>time_spent</th>\n",
       "      <th>name</th>\n",
       "    </tr>\n",
       "  </thead>\n",
       "  <tbody>\n",
       "    <tr>\n",
       "      <th>0</th>\n",
       "      <td>2018-04-06 16:53:58</td>\n",
       "      <td>76144fb2</td>\n",
       "      <td>98.0</td>\n",
       "      <td>Василёк</td>\n",
       "    </tr>\n",
       "    <tr>\n",
       "      <th>1</th>\n",
       "      <td>2018-04-04 17:39:13</td>\n",
       "      <td>76144fb2</td>\n",
       "      <td>15.0</td>\n",
       "      <td>Василёк</td>\n",
       "    </tr>\n",
       "    <tr>\n",
       "      <th>2</th>\n",
       "      <td>2018-04-03 17:28:24</td>\n",
       "      <td>76144fb2</td>\n",
       "      <td>220.0</td>\n",
       "      <td>Василёк</td>\n",
       "    </tr>\n",
       "    <tr>\n",
       "      <th>3</th>\n",
       "      <td>2018-04-07 07:04:41</td>\n",
       "      <td>76144fb2</td>\n",
       "      <td>19.0</td>\n",
       "      <td>Василёк</td>\n",
       "    </tr>\n",
       "    <tr>\n",
       "      <th>4</th>\n",
       "      <td>2018-04-04 13:20:49</td>\n",
       "      <td>76144fb2</td>\n",
       "      <td>14.0</td>\n",
       "      <td>Василёк</td>\n",
       "    </tr>\n",
       "    <tr>\n",
       "      <th>5</th>\n",
       "      <td>2018-04-03 14:42:34</td>\n",
       "      <td>76144fb2</td>\n",
       "      <td>5.0</td>\n",
       "      <td>Василёк</td>\n",
       "    </tr>\n",
       "    <tr>\n",
       "      <th>6</th>\n",
       "      <td>2018-04-02 08:23:21</td>\n",
       "      <td>76144fb2</td>\n",
       "      <td>555.0</td>\n",
       "      <td>Василёк</td>\n",
       "    </tr>\n",
       "    <tr>\n",
       "      <th>7</th>\n",
       "      <td>2018-04-07 00:34:08</td>\n",
       "      <td>76144fb2</td>\n",
       "      <td>286.0</td>\n",
       "      <td>Василёк</td>\n",
       "    </tr>\n",
       "    <tr>\n",
       "      <th>8</th>\n",
       "      <td>2018-04-04 08:47:11</td>\n",
       "      <td>76144fb2</td>\n",
       "      <td>14.0</td>\n",
       "      <td>Василёк</td>\n",
       "    </tr>\n",
       "    <tr>\n",
       "      <th>9</th>\n",
       "      <td>2018-04-05 13:19:39</td>\n",
       "      <td>76144fb2</td>\n",
       "      <td>248.0</td>\n",
       "      <td>Василёк</td>\n",
       "    </tr>\n",
       "  </tbody>\n",
       "</table>\n",
       "</div>"
      ],
      "text/plain": [
       "            date_time        id  time_spent     name\n",
       "0 2018-04-06 16:53:58  76144fb2        98.0  Василёк\n",
       "1 2018-04-04 17:39:13  76144fb2        15.0  Василёк\n",
       "2 2018-04-03 17:28:24  76144fb2       220.0  Василёк\n",
       "3 2018-04-07 07:04:41  76144fb2        19.0  Василёк\n",
       "4 2018-04-04 13:20:49  76144fb2        14.0  Василёк\n",
       "5 2018-04-03 14:42:34  76144fb2         5.0  Василёк\n",
       "6 2018-04-02 08:23:21  76144fb2       555.0  Василёк\n",
       "7 2018-04-07 00:34:08  76144fb2       286.0  Василёк\n",
       "8 2018-04-04 08:47:11  76144fb2        14.0  Василёк\n",
       "9 2018-04-05 13:19:39  76144fb2       248.0  Василёк"
      ]
     },
     "execution_count": 127,
     "metadata": {},
     "output_type": "execute_result"
    }
   ],
   "source": [
    "data.head(10)"
   ]
  },
  {
   "cell_type": "code",
   "execution_count": 128,
   "id": "d25ed3b1",
   "metadata": {},
   "outputs": [
    {
     "ename": "KeyError",
     "evalue": "'local_time'",
     "output_type": "error",
     "traceback": [
      "\u001b[1;31m---------------------------------------------------------------------------\u001b[0m",
      "\u001b[1;31mKeyError\u001b[0m                                  Traceback (most recent call last)",
      "File \u001b[1;32m~\\anaconda3\\lib\\site-packages\\pandas\\core\\indexes\\base.py:3621\u001b[0m, in \u001b[0;36mIndex.get_loc\u001b[1;34m(self, key, method, tolerance)\u001b[0m\n\u001b[0;32m   3620\u001b[0m \u001b[38;5;28;01mtry\u001b[39;00m:\n\u001b[1;32m-> 3621\u001b[0m     \u001b[38;5;28;01mreturn\u001b[39;00m \u001b[38;5;28;43mself\u001b[39;49m\u001b[38;5;241;43m.\u001b[39;49m\u001b[43m_engine\u001b[49m\u001b[38;5;241;43m.\u001b[39;49m\u001b[43mget_loc\u001b[49m\u001b[43m(\u001b[49m\u001b[43mcasted_key\u001b[49m\u001b[43m)\u001b[49m\n\u001b[0;32m   3622\u001b[0m \u001b[38;5;28;01mexcept\u001b[39;00m \u001b[38;5;167;01mKeyError\u001b[39;00m \u001b[38;5;28;01mas\u001b[39;00m err:\n",
      "File \u001b[1;32m~\\anaconda3\\lib\\site-packages\\pandas\\_libs\\index.pyx:136\u001b[0m, in \u001b[0;36mpandas._libs.index.IndexEngine.get_loc\u001b[1;34m()\u001b[0m\n",
      "File \u001b[1;32m~\\anaconda3\\lib\\site-packages\\pandas\\_libs\\index.pyx:163\u001b[0m, in \u001b[0;36mpandas._libs.index.IndexEngine.get_loc\u001b[1;34m()\u001b[0m\n",
      "File \u001b[1;32mpandas\\_libs\\hashtable_class_helper.pxi:5198\u001b[0m, in \u001b[0;36mpandas._libs.hashtable.PyObjectHashTable.get_item\u001b[1;34m()\u001b[0m\n",
      "File \u001b[1;32mpandas\\_libs\\hashtable_class_helper.pxi:5206\u001b[0m, in \u001b[0;36mpandas._libs.hashtable.PyObjectHashTable.get_item\u001b[1;34m()\u001b[0m\n",
      "\u001b[1;31mKeyError\u001b[0m: 'local_time'",
      "\nThe above exception was the direct cause of the following exception:\n",
      "\u001b[1;31mKeyError\u001b[0m                                  Traceback (most recent call last)",
      "Input \u001b[1;32mIn [128]\u001b[0m, in \u001b[0;36m<cell line: 7>\u001b[1;34m()\u001b[0m\n\u001b[0;32m      1\u001b[0m \u001b[38;5;66;03m# Данные, связанные со временем, лучше округлять до той величины, которой будет достаточно для детального анализа. \u001b[39;00m\n\u001b[0;32m      2\u001b[0m \u001b[38;5;66;03m# Чтобы проанализировать взаимосвязь между временем прибытия на АЗС и продолжительностью заезда, \u001b[39;00m\n\u001b[0;32m      3\u001b[0m \u001b[38;5;66;03m# точность до минут и секунд не нужна. Округлите время до часов.\u001b[39;00m\n\u001b[0;32m      4\u001b[0m \u001b[38;5;66;03m# Выполните следующие шаги:\u001b[39;00m\n\u001b[0;32m      5\u001b[0m \u001b[38;5;66;03m# Создайте новый столбец date_hour и передайте ему значения столбца local_time, округлённые до часов.\u001b[39;00m\n\u001b[0;32m      6\u001b[0m \u001b[38;5;66;03m# Выведите первые пять строк data, чтобы проверить результаты.\u001b[39;00m\n\u001b[1;32m----> 7\u001b[0m data[\u001b[38;5;124m'\u001b[39m\u001b[38;5;124mdate_hour\u001b[39m\u001b[38;5;124m'\u001b[39m] \u001b[38;5;241m=\u001b[39m \u001b[43mdata\u001b[49m\u001b[43m[\u001b[49m\u001b[38;5;124;43m'\u001b[39;49m\u001b[38;5;124;43mlocal_time\u001b[39;49m\u001b[38;5;124;43m'\u001b[39;49m\u001b[43m]\u001b[49m\u001b[38;5;241m.\u001b[39mdt\u001b[38;5;241m.\u001b[39mround(\u001b[38;5;124m'\u001b[39m\u001b[38;5;124m1H\u001b[39m\u001b[38;5;124m'\u001b[39m)\n",
      "File \u001b[1;32m~\\anaconda3\\lib\\site-packages\\pandas\\core\\frame.py:3505\u001b[0m, in \u001b[0;36mDataFrame.__getitem__\u001b[1;34m(self, key)\u001b[0m\n\u001b[0;32m   3503\u001b[0m \u001b[38;5;28;01mif\u001b[39;00m \u001b[38;5;28mself\u001b[39m\u001b[38;5;241m.\u001b[39mcolumns\u001b[38;5;241m.\u001b[39mnlevels \u001b[38;5;241m>\u001b[39m \u001b[38;5;241m1\u001b[39m:\n\u001b[0;32m   3504\u001b[0m     \u001b[38;5;28;01mreturn\u001b[39;00m \u001b[38;5;28mself\u001b[39m\u001b[38;5;241m.\u001b[39m_getitem_multilevel(key)\n\u001b[1;32m-> 3505\u001b[0m indexer \u001b[38;5;241m=\u001b[39m \u001b[38;5;28;43mself\u001b[39;49m\u001b[38;5;241;43m.\u001b[39;49m\u001b[43mcolumns\u001b[49m\u001b[38;5;241;43m.\u001b[39;49m\u001b[43mget_loc\u001b[49m\u001b[43m(\u001b[49m\u001b[43mkey\u001b[49m\u001b[43m)\u001b[49m\n\u001b[0;32m   3506\u001b[0m \u001b[38;5;28;01mif\u001b[39;00m is_integer(indexer):\n\u001b[0;32m   3507\u001b[0m     indexer \u001b[38;5;241m=\u001b[39m [indexer]\n",
      "File \u001b[1;32m~\\anaconda3\\lib\\site-packages\\pandas\\core\\indexes\\base.py:3623\u001b[0m, in \u001b[0;36mIndex.get_loc\u001b[1;34m(self, key, method, tolerance)\u001b[0m\n\u001b[0;32m   3621\u001b[0m     \u001b[38;5;28;01mreturn\u001b[39;00m \u001b[38;5;28mself\u001b[39m\u001b[38;5;241m.\u001b[39m_engine\u001b[38;5;241m.\u001b[39mget_loc(casted_key)\n\u001b[0;32m   3622\u001b[0m \u001b[38;5;28;01mexcept\u001b[39;00m \u001b[38;5;167;01mKeyError\u001b[39;00m \u001b[38;5;28;01mas\u001b[39;00m err:\n\u001b[1;32m-> 3623\u001b[0m     \u001b[38;5;28;01mraise\u001b[39;00m \u001b[38;5;167;01mKeyError\u001b[39;00m(key) \u001b[38;5;28;01mfrom\u001b[39;00m \u001b[38;5;21;01merr\u001b[39;00m\n\u001b[0;32m   3624\u001b[0m \u001b[38;5;28;01mexcept\u001b[39;00m \u001b[38;5;167;01mTypeError\u001b[39;00m:\n\u001b[0;32m   3625\u001b[0m     \u001b[38;5;66;03m# If we have a listlike key, _check_indexing_error will raise\u001b[39;00m\n\u001b[0;32m   3626\u001b[0m     \u001b[38;5;66;03m#  InvalidIndexError. Otherwise we fall through and re-raise\u001b[39;00m\n\u001b[0;32m   3627\u001b[0m     \u001b[38;5;66;03m#  the TypeError.\u001b[39;00m\n\u001b[0;32m   3628\u001b[0m     \u001b[38;5;28mself\u001b[39m\u001b[38;5;241m.\u001b[39m_check_indexing_error(key)\n",
      "\u001b[1;31mKeyError\u001b[0m: 'local_time'"
     ]
    }
   ],
   "source": [
    "# Данные, связанные со временем, лучше округлять до той величины, которой будет достаточно для детального анализа. \n",
    "# Чтобы проанализировать взаимосвязь между временем прибытия на АЗС и продолжительностью заезда, \n",
    "# точность до минут и секунд не нужна. Округлите время до часов.\n",
    "# Выполните следующие шаги:\n",
    "# Создайте новый столбец date_hour и передайте ему значения столбца local_time, округлённые до часов.\n",
    "# Выведите первые пять строк data, чтобы проверить результаты.\n",
    "data['date_hour'] = data['local_time'].dt.round('1H')"
   ]
  },
  {
   "cell_type": "code",
   "execution_count": 129,
   "id": "09886229",
   "metadata": {},
   "outputs": [
    {
     "data": {
      "text/html": [
       "<div>\n",
       "<style scoped>\n",
       "    .dataframe tbody tr th:only-of-type {\n",
       "        vertical-align: middle;\n",
       "    }\n",
       "\n",
       "    .dataframe tbody tr th {\n",
       "        vertical-align: top;\n",
       "    }\n",
       "\n",
       "    .dataframe thead th {\n",
       "        text-align: right;\n",
       "    }\n",
       "</style>\n",
       "<table border=\"1\" class=\"dataframe\">\n",
       "  <thead>\n",
       "    <tr style=\"text-align: right;\">\n",
       "      <th></th>\n",
       "      <th>date_time</th>\n",
       "      <th>id</th>\n",
       "      <th>time_spent</th>\n",
       "      <th>name</th>\n",
       "    </tr>\n",
       "  </thead>\n",
       "  <tbody>\n",
       "    <tr>\n",
       "      <th>0</th>\n",
       "      <td>2018-04-06 16:53:58</td>\n",
       "      <td>76144fb2</td>\n",
       "      <td>98.0</td>\n",
       "      <td>Василёк</td>\n",
       "    </tr>\n",
       "    <tr>\n",
       "      <th>1</th>\n",
       "      <td>2018-04-04 17:39:13</td>\n",
       "      <td>76144fb2</td>\n",
       "      <td>15.0</td>\n",
       "      <td>Василёк</td>\n",
       "    </tr>\n",
       "    <tr>\n",
       "      <th>2</th>\n",
       "      <td>2018-04-03 17:28:24</td>\n",
       "      <td>76144fb2</td>\n",
       "      <td>220.0</td>\n",
       "      <td>Василёк</td>\n",
       "    </tr>\n",
       "    <tr>\n",
       "      <th>3</th>\n",
       "      <td>2018-04-07 07:04:41</td>\n",
       "      <td>76144fb2</td>\n",
       "      <td>19.0</td>\n",
       "      <td>Василёк</td>\n",
       "    </tr>\n",
       "    <tr>\n",
       "      <th>4</th>\n",
       "      <td>2018-04-04 13:20:49</td>\n",
       "      <td>76144fb2</td>\n",
       "      <td>14.0</td>\n",
       "      <td>Василёк</td>\n",
       "    </tr>\n",
       "  </tbody>\n",
       "</table>\n",
       "</div>"
      ],
      "text/plain": [
       "            date_time        id  time_spent     name\n",
       "0 2018-04-06 16:53:58  76144fb2        98.0  Василёк\n",
       "1 2018-04-04 17:39:13  76144fb2        15.0  Василёк\n",
       "2 2018-04-03 17:28:24  76144fb2       220.0  Василёк\n",
       "3 2018-04-07 07:04:41  76144fb2        19.0  Василёк\n",
       "4 2018-04-04 13:20:49  76144fb2        14.0  Василёк"
      ]
     },
     "execution_count": 129,
     "metadata": {},
     "output_type": "execute_result"
    }
   ],
   "source": [
    "data.head(5)"
   ]
  },
  {
   "cell_type": "markdown",
   "id": "dba32c89",
   "metadata": {},
   "source": [
    "Номер дня в неделе находят методом dt.weekday (англ. weekday — «будний день»).  Понедельник — день под номером 0, а воскресенье — шестой день. \n",
    "import pandas as pd \n",
    "\n",
    "df = pd.DataFrame({'time': ['2011-03-07 17:15', '2011-04-02 17:15']}) # пн и сб\n",
    "df['time'] = pd.to_datetime(df['time'], format='%Y-%m-%d %H:%M')\n",
    "### df['weekday'] = df['time'].dt.weekday"
   ]
  },
  {
   "cell_type": "markdown",
   "id": "bb11411e",
   "metadata": {},
   "source": [
    "Иногда нужно переводить время в другой часовой пояс. \n",
    "### За временные сдвиги отвечает pd.Timedelta() (от англ. time delta — «дельта времени, перепад во времени»). Количество часов передают в параметре: (hours=). \n",
    "Прибавим 9 часов к московскому времени и узнаем, который час был в Петропавловске-Камчатском, когда в Москве происходили события датафрейма: \n",
    "import pandas as pd\n",
    "\n",
    "df = pd.DataFrame({'time': ['11-03-07 17:15', '11-05-02 10:20']})\n",
    "df['moscow_time'] = pd.to_datetime(df['time'], format='%y-%m-%d %H:%M')\n",
    "###df['petropavlovsk-kamchatsky_time'] = df['moscow_time'] + pd.Timedelta(hours=9)"
   ]
  },
  {
   "cell_type": "code",
   "execution_count": 130,
   "id": "73270282",
   "metadata": {},
   "outputs": [],
   "source": [
    "# Напомним, что в датафрейме записано время UTC. Московское рассчитывают как UTC + 3 часа.\n",
    "# Создайте столбец data['local_time'] и сохраните в нём сдвинутое на 3 часа время из столбца data['date_time'].\n",
    "# Напечатайте первые 5 строк таблицы data.\n",
    "data['local_time'] = data['date_time']+pd.Timedelta(hours=3)"
   ]
  },
  {
   "cell_type": "code",
   "execution_count": 131,
   "id": "2caa0799",
   "metadata": {},
   "outputs": [
    {
     "data": {
      "text/html": [
       "<div>\n",
       "<style scoped>\n",
       "    .dataframe tbody tr th:only-of-type {\n",
       "        vertical-align: middle;\n",
       "    }\n",
       "\n",
       "    .dataframe tbody tr th {\n",
       "        vertical-align: top;\n",
       "    }\n",
       "\n",
       "    .dataframe thead th {\n",
       "        text-align: right;\n",
       "    }\n",
       "</style>\n",
       "<table border=\"1\" class=\"dataframe\">\n",
       "  <thead>\n",
       "    <tr style=\"text-align: right;\">\n",
       "      <th></th>\n",
       "      <th>date_time</th>\n",
       "      <th>id</th>\n",
       "      <th>time_spent</th>\n",
       "      <th>name</th>\n",
       "      <th>local_time</th>\n",
       "    </tr>\n",
       "  </thead>\n",
       "  <tbody>\n",
       "    <tr>\n",
       "      <th>0</th>\n",
       "      <td>2018-04-06 16:53:58</td>\n",
       "      <td>76144fb2</td>\n",
       "      <td>98.0</td>\n",
       "      <td>Василёк</td>\n",
       "      <td>2018-04-06 19:53:58</td>\n",
       "    </tr>\n",
       "    <tr>\n",
       "      <th>1</th>\n",
       "      <td>2018-04-04 17:39:13</td>\n",
       "      <td>76144fb2</td>\n",
       "      <td>15.0</td>\n",
       "      <td>Василёк</td>\n",
       "      <td>2018-04-04 20:39:13</td>\n",
       "    </tr>\n",
       "    <tr>\n",
       "      <th>2</th>\n",
       "      <td>2018-04-03 17:28:24</td>\n",
       "      <td>76144fb2</td>\n",
       "      <td>220.0</td>\n",
       "      <td>Василёк</td>\n",
       "      <td>2018-04-03 20:28:24</td>\n",
       "    </tr>\n",
       "    <tr>\n",
       "      <th>3</th>\n",
       "      <td>2018-04-07 07:04:41</td>\n",
       "      <td>76144fb2</td>\n",
       "      <td>19.0</td>\n",
       "      <td>Василёк</td>\n",
       "      <td>2018-04-07 10:04:41</td>\n",
       "    </tr>\n",
       "    <tr>\n",
       "      <th>4</th>\n",
       "      <td>2018-04-04 13:20:49</td>\n",
       "      <td>76144fb2</td>\n",
       "      <td>14.0</td>\n",
       "      <td>Василёк</td>\n",
       "      <td>2018-04-04 16:20:49</td>\n",
       "    </tr>\n",
       "    <tr>\n",
       "      <th>...</th>\n",
       "      <td>...</td>\n",
       "      <td>...</td>\n",
       "      <td>...</td>\n",
       "      <td>...</td>\n",
       "      <td>...</td>\n",
       "    </tr>\n",
       "    <tr>\n",
       "      <th>317099</th>\n",
       "      <td>2018-04-08 05:31:33</td>\n",
       "      <td>9cdb5039</td>\n",
       "      <td>11.0</td>\n",
       "      <td>Гейхера</td>\n",
       "      <td>2018-04-08 08:31:33</td>\n",
       "    </tr>\n",
       "    <tr>\n",
       "      <th>317100</th>\n",
       "      <td>2018-04-03 02:13:53</td>\n",
       "      <td>9cdb5039</td>\n",
       "      <td>181.0</td>\n",
       "      <td>Гейхера</td>\n",
       "      <td>2018-04-03 05:13:53</td>\n",
       "    </tr>\n",
       "    <tr>\n",
       "      <th>317101</th>\n",
       "      <td>2018-04-08 06:26:36</td>\n",
       "      <td>9cdb5039</td>\n",
       "      <td>252.0</td>\n",
       "      <td>Гейхера</td>\n",
       "      <td>2018-04-08 09:26:36</td>\n",
       "    </tr>\n",
       "    <tr>\n",
       "      <th>317102</th>\n",
       "      <td>2018-04-05 23:24:25</td>\n",
       "      <td>9cdb5039</td>\n",
       "      <td>29.0</td>\n",
       "      <td>Гейхера</td>\n",
       "      <td>2018-04-06 02:24:25</td>\n",
       "    </tr>\n",
       "    <tr>\n",
       "      <th>317103</th>\n",
       "      <td>2018-04-05 19:42:38</td>\n",
       "      <td>9cdb5039</td>\n",
       "      <td>20.0</td>\n",
       "      <td>Гейхера</td>\n",
       "      <td>2018-04-05 22:42:38</td>\n",
       "    </tr>\n",
       "  </tbody>\n",
       "</table>\n",
       "<p>317104 rows × 5 columns</p>\n",
       "</div>"
      ],
      "text/plain": [
       "                 date_time        id  time_spent     name          local_time\n",
       "0      2018-04-06 16:53:58  76144fb2        98.0  Василёк 2018-04-06 19:53:58\n",
       "1      2018-04-04 17:39:13  76144fb2        15.0  Василёк 2018-04-04 20:39:13\n",
       "2      2018-04-03 17:28:24  76144fb2       220.0  Василёк 2018-04-03 20:28:24\n",
       "3      2018-04-07 07:04:41  76144fb2        19.0  Василёк 2018-04-07 10:04:41\n",
       "4      2018-04-04 13:20:49  76144fb2        14.0  Василёк 2018-04-04 16:20:49\n",
       "...                    ...       ...         ...      ...                 ...\n",
       "317099 2018-04-08 05:31:33  9cdb5039        11.0  Гейхера 2018-04-08 08:31:33\n",
       "317100 2018-04-03 02:13:53  9cdb5039       181.0  Гейхера 2018-04-03 05:13:53\n",
       "317101 2018-04-08 06:26:36  9cdb5039       252.0  Гейхера 2018-04-08 09:26:36\n",
       "317102 2018-04-05 23:24:25  9cdb5039        29.0  Гейхера 2018-04-06 02:24:25\n",
       "317103 2018-04-05 19:42:38  9cdb5039        20.0  Гейхера 2018-04-05 22:42:38\n",
       "\n",
       "[317104 rows x 5 columns]"
      ]
     },
     "execution_count": 131,
     "metadata": {},
     "output_type": "execute_result"
    }
   ],
   "source": [
    "data"
   ]
  },
  {
   "cell_type": "code",
   "execution_count": null,
   "id": "9a2e3874",
   "metadata": {},
   "outputs": [],
   "source": []
  },
  {
   "cell_type": "code",
   "execution_count": 132,
   "id": "050c06c8",
   "metadata": {},
   "outputs": [],
   "source": [
    "sample = data.query('id == \"3c1e4c52\"')"
   ]
  },
  {
   "cell_type": "code",
   "execution_count": 133,
   "id": "bafebef9",
   "metadata": {},
   "outputs": [
    {
     "data": {
      "text/plain": [
       "<AxesSubplot:title={'center':'Sample'}>"
      ]
     },
     "execution_count": 133,
     "metadata": {},
     "output_type": "execute_result"
    },
    {
     "data": {
      "image/png": "[encoded data removed]",
      "text/plain": [
       "<Figure size 432x288 with 1 Axes>"
      ]
     },
     "metadata": {
      "needs_background": "light"
     },
     "output_type": "display_data"
    }
   ],
   "source": [
    "#Названия для графиков указывают строкой или переменной в параметре title (англ. «название»):\n",
    "sample.plot(title='Sample')"
   ]
  },
  {
   "cell_type": "code",
   "execution_count": 134,
   "id": "fcc4a7bc",
   "metadata": {},
   "outputs": [
    {
     "data": {
      "text/plain": [
       "<AxesSubplot:>"
      ]
     },
     "execution_count": 134,
     "metadata": {},
     "output_type": "execute_result"
    },
    {
     "data": {
      "image/png": "[encoded data removed]",
      "text/plain": [
       "<Figure size 432x288 with 1 Axes>"
      ]
     },
     "metadata": {
      "needs_background": "light"
     },
     "output_type": "display_data"
    }
   ],
   "source": [
    "# Элементов в таблице слишком мало, чтобы они складывались в непрерывную линию. \n",
    "# Добавим графику точности, передадим параметр style, со значением o, чтобы отметить значения таблицы точками.\n",
    "sample.plot(style='o') # 'o' похожа на кружок или точку, запомнить легко"
   ]
  },
  {
   "cell_type": "code",
   "execution_count": 135,
   "id": "bc1ef925",
   "metadata": {},
   "outputs": [
    {
     "data": {
      "text/plain": [
       "<AxesSubplot:>"
      ]
     },
     "execution_count": 135,
     "metadata": {},
     "output_type": "execute_result"
    },
    {
     "data": {
      "image/png": "[encoded data removed]",
      "text/plain": [
       "<Figure size 432x288 with 1 Axes>"
      ]
     },
     "metadata": {
      "needs_background": "light"
     },
     "output_type": "display_data"
    }
   ],
   "source": [
    "#Можно задать и другую форму точек. Например, style='х' пометит точки крестиками:\n",
    "sample.plot(style='x') # 'x' - точь-в-точь крестик "
   ]
  },
  {
   "cell_type": "code",
   "execution_count": 136,
   "id": "0c6fe784",
   "metadata": {},
   "outputs": [
    {
     "data": {
      "text/plain": [
       "<AxesSubplot:xlabel='local_time'>"
      ]
     },
     "execution_count": 136,
     "metadata": {},
     "output_type": "execute_result"
    },
    {
     "data": {
      "image/png": "[encoded data removed]",
      "text/plain": [
       "<Figure size 1008x504 with 1 Axes>"
      ]
     },
     "metadata": {
      "needs_background": "light"
     },
     "output_type": "display_data"
    }
   ],
   "source": [
    "#Когда нужен компромиссный вариант — и линии, и точки, — передают style='o-'.\n",
    "# Пользуясь данными sample, постройте график зависимости продолжительности заправки от времени заезда.\n",
    "# За основу возьмите соответствующие столбцы time_spent и local_time.\n",
    "# Оси X присвойте значения столбца local_time, а оси Y — значения столбца time_spent.\n",
    "# Проверьте, всё ли верно отображено на графике:\n",
    "# Каждый элемент обозначен точкой.\n",
    "# Диапазон оси Y указан от 0 до 1000.\n",
    "# Добавлены сетки.\n",
    "# Размер графика 12х6 дюймов.\n",
    "sample.plot(x='local_time', y='time_spent', ylim=(0, 1000),style='o',grid=True, figsize=(14, 7)) # 'o-' - кружок и линия"
   ]
  },
  {
   "cell_type": "code",
   "execution_count": 137,
   "id": "6519c7e4",
   "metadata": {},
   "outputs": [],
   "source": [
    "# Напомним, что по горизонтальной оси отложены индексы. \n",
    "# Но что, если такой способ представления не годится для анализа?\n",
    "# Можно изменить сами индексы или передать методу plot() параметры осей.\n",
    "# Так, оси абсцисс (x) присвоим значения столбца b, а оси ординат (y) — значения столбца a:\n",
    "# df.plot(x='b', y='a', style='o-')"
   ]
  },
  {
   "cell_type": "code",
   "execution_count": 138,
   "id": "ae018919",
   "metadata": {},
   "outputs": [
    {
     "data": {
      "text/plain": [
       "<AxesSubplot:xlabel='local_time'>"
      ]
     },
     "execution_count": 138,
     "metadata": {},
     "output_type": "execute_result"
    },
    {
     "data": {
      "image/png": "[encoded data removed]",
      "text/plain": [
       "<Figure size 864x432 with 1 Axes>"
      ]
     },
     "metadata": {
      "needs_background": "light"
     },
     "output_type": "display_data"
    }
   ],
   "source": [
    "(data\n",
    " .query('id == \"3c1e4c52\"')\n",
    " .plot(x='local_time', y='time_spent', \n",
    "       ylim=(0, 1000), style='o',\n",
    "       grid=True, figsize=(12, 6)))"
   ]
  },
  {
   "cell_type": "code",
   "execution_count": 153,
   "id": "ed3f1bc0",
   "metadata": {},
   "outputs": [],
   "source": [
    "# Данные, связанные со временем, лучше округлять до той величины, которой будет достаточно для детального анализа. \n",
    "# Чтобы проанализировать взаимосвязь между временем прибытия на АЗС и продолжительностью заезда, \n",
    "# точность до минут и секунд не нужна. Округлите время до часов.\n",
    "# Выполните следующие шаги:\n",
    "# Создайте новый столбец date_hour и передайте ему значения столбца local_time, округлённые до часов.\n",
    "# Выведите первые пять строк data, чтобы проверить результаты.\n",
    "data['date_hour'] = data['local_time'].dt.round('1H')"
   ]
  },
  {
   "cell_type": "markdown",
   "id": "ecb873b2",
   "metadata": {},
   "source": [
    "Вернёмся к данным по АЗС. На графике слишком много точек. Чтобы сделать его нагляднее, будем отмечать не визит, а среднюю продолжительность заправки в час. Вы уже создавали столбец date_hour с округлённым временем заезда на АЗС. \n",
    "Обратимся к pivot_table(). Добавим сводную таблицу в цепочку между query() и plot():"
   ]
  },
  {
   "cell_type": "code",
   "execution_count": 154,
   "id": "f710abf1",
   "metadata": {},
   "outputs": [
    {
     "data": {
      "text/plain": [
       "<AxesSubplot:xlabel='date_hour'>"
      ]
     },
     "execution_count": 154,
     "metadata": {},
     "output_type": "execute_result"
    },
    {
     "data": {
      "image/png": "[encoded data removed]",
      "text/plain": [
       "<Figure size 1008x504 with 1 Axes>"
      ]
     },
     "metadata": {
      "needs_background": "light"
     },
     "output_type": "display_data"
    }
   ],
   "source": [
    "(\n",
    "    data.query('id == \"3c1e4c52\" and time_spent < 1000')\n",
    "    .pivot_table(index='date_hour', values='time_spent', aggfunc='median')\n",
    "    .plot(grid=True, figsize=(14, 7))\n",
    ") "
   ]
  },
  {
   "cell_type": "markdown",
   "id": "7c4fad00",
   "metadata": {},
   "source": [
    "Если между временем прибытия на АЗС и числом заездов нет никакой связи, это серьёзный повод насторожиться. Вряд ли количество заездов в два часа ночи и в восемь утра одинаково. Чтобы понять, что же происходит, постройте график зависимости между временем прибытия и количеством заездов в час.\n",
    "Выполните следующие шаги, помня о бритве Оккама:\n",
    "Сделайте срез из data по АЗС с id==\"3c1e4c52\".\n",
    "Из данных этого среза постройте сводную таблицу, которая будет отображать количество заездов по времени прибытия. Передайте параметру values значение 'time_spent'.\n",
    "Из данных сводной таблицы постройте график зависимости между временем прибытия и количеством заездов в час (по аналогии с примером в уроке). Добавьте линии сетки, задайте размер графика 12х5 дюймов."
   ]
  },
  {
   "cell_type": "code",
   "execution_count": 155,
   "id": "6b66f8d4",
   "metadata": {},
   "outputs": [
    {
     "data": {
      "text/plain": [
       "<AxesSubplot:xlabel='date_hour'>"
      ]
     },
     "execution_count": 155,
     "metadata": {},
     "output_type": "execute_result"
    },
    {
     "data": {
      "image/png": "[encoded data removed]",
      "text/plain": [
       "<Figure size 864x360 with 1 Axes>"
      ]
     },
     "metadata": {
      "needs_background": "light"
     },
     "output_type": "display_data"
    }
   ],
   "source": [
    "(\n",
    "    data.query('id == \"3c1e4c52\" and time_spent < 1000')\n",
    "    .pivot_table(index='date_hour', values='time_spent', aggfunc='count')\n",
    "    .plot(grid=True, figsize=(12, 5))\n",
    ") "
   ]
  },
  {
   "cell_type": "code",
   "execution_count": 156,
   "id": "481fe777",
   "metadata": {},
   "outputs": [
    {
     "data": {
      "text/plain": [
       "0.42213910893586964"
      ]
     },
     "execution_count": 156,
     "metadata": {},
     "output_type": "execute_result"
    }
   ],
   "source": [
    "len(data.query('time_spent<60'))/len(data)"
   ]
  },
  {
   "cell_type": "code",
   "execution_count": 157,
   "id": "aee4495d",
   "metadata": {},
   "outputs": [],
   "source": [
    "data['too_fast'] = data['time_spent'] < 60"
   ]
  },
  {
   "cell_type": "code",
   "execution_count": 158,
   "id": "2bc16618",
   "metadata": {},
   "outputs": [
    {
     "data": {
      "text/html": [
       "<div>\n",
       "<style scoped>\n",
       "    .dataframe tbody tr th:only-of-type {\n",
       "        vertical-align: middle;\n",
       "    }\n",
       "\n",
       "    .dataframe tbody tr th {\n",
       "        vertical-align: top;\n",
       "    }\n",
       "\n",
       "    .dataframe thead th {\n",
       "        text-align: right;\n",
       "    }\n",
       "</style>\n",
       "<table border=\"1\" class=\"dataframe\">\n",
       "  <thead>\n",
       "    <tr style=\"text-align: right;\">\n",
       "      <th></th>\n",
       "      <th>date_time</th>\n",
       "      <th>id</th>\n",
       "      <th>time_spent</th>\n",
       "      <th>name</th>\n",
       "      <th>local_time</th>\n",
       "      <th>too_fast</th>\n",
       "      <th>too_slow</th>\n",
       "      <th>date_hour</th>\n",
       "    </tr>\n",
       "  </thead>\n",
       "  <tbody>\n",
       "    <tr>\n",
       "      <th>0</th>\n",
       "      <td>2018-04-06 16:53:58</td>\n",
       "      <td>76144fb2</td>\n",
       "      <td>98.0</td>\n",
       "      <td>Василёк</td>\n",
       "      <td>2018-04-06 19:53:58</td>\n",
       "      <td>False</td>\n",
       "      <td>False</td>\n",
       "      <td>2018-04-06 20:00:00</td>\n",
       "    </tr>\n",
       "    <tr>\n",
       "      <th>1</th>\n",
       "      <td>2018-04-04 17:39:13</td>\n",
       "      <td>76144fb2</td>\n",
       "      <td>15.0</td>\n",
       "      <td>Василёк</td>\n",
       "      <td>2018-04-04 20:39:13</td>\n",
       "      <td>True</td>\n",
       "      <td>False</td>\n",
       "      <td>2018-04-04 21:00:00</td>\n",
       "    </tr>\n",
       "    <tr>\n",
       "      <th>2</th>\n",
       "      <td>2018-04-03 17:28:24</td>\n",
       "      <td>76144fb2</td>\n",
       "      <td>220.0</td>\n",
       "      <td>Василёк</td>\n",
       "      <td>2018-04-03 20:28:24</td>\n",
       "      <td>False</td>\n",
       "      <td>False</td>\n",
       "      <td>2018-04-03 20:00:00</td>\n",
       "    </tr>\n",
       "    <tr>\n",
       "      <th>3</th>\n",
       "      <td>2018-04-07 07:04:41</td>\n",
       "      <td>76144fb2</td>\n",
       "      <td>19.0</td>\n",
       "      <td>Василёк</td>\n",
       "      <td>2018-04-07 10:04:41</td>\n",
       "      <td>True</td>\n",
       "      <td>False</td>\n",
       "      <td>2018-04-07 10:00:00</td>\n",
       "    </tr>\n",
       "    <tr>\n",
       "      <th>4</th>\n",
       "      <td>2018-04-04 13:20:49</td>\n",
       "      <td>76144fb2</td>\n",
       "      <td>14.0</td>\n",
       "      <td>Василёк</td>\n",
       "      <td>2018-04-04 16:20:49</td>\n",
       "      <td>True</td>\n",
       "      <td>False</td>\n",
       "      <td>2018-04-04 16:00:00</td>\n",
       "    </tr>\n",
       "    <tr>\n",
       "      <th>...</th>\n",
       "      <td>...</td>\n",
       "      <td>...</td>\n",
       "      <td>...</td>\n",
       "      <td>...</td>\n",
       "      <td>...</td>\n",
       "      <td>...</td>\n",
       "      <td>...</td>\n",
       "      <td>...</td>\n",
       "    </tr>\n",
       "    <tr>\n",
       "      <th>317099</th>\n",
       "      <td>2018-04-08 05:31:33</td>\n",
       "      <td>9cdb5039</td>\n",
       "      <td>11.0</td>\n",
       "      <td>Гейхера</td>\n",
       "      <td>2018-04-08 08:31:33</td>\n",
       "      <td>True</td>\n",
       "      <td>False</td>\n",
       "      <td>2018-04-08 09:00:00</td>\n",
       "    </tr>\n",
       "    <tr>\n",
       "      <th>317100</th>\n",
       "      <td>2018-04-03 02:13:53</td>\n",
       "      <td>9cdb5039</td>\n",
       "      <td>181.0</td>\n",
       "      <td>Гейхера</td>\n",
       "      <td>2018-04-03 05:13:53</td>\n",
       "      <td>False</td>\n",
       "      <td>False</td>\n",
       "      <td>2018-04-03 05:00:00</td>\n",
       "    </tr>\n",
       "    <tr>\n",
       "      <th>317101</th>\n",
       "      <td>2018-04-08 06:26:36</td>\n",
       "      <td>9cdb5039</td>\n",
       "      <td>252.0</td>\n",
       "      <td>Гейхера</td>\n",
       "      <td>2018-04-08 09:26:36</td>\n",
       "      <td>False</td>\n",
       "      <td>False</td>\n",
       "      <td>2018-04-08 09:00:00</td>\n",
       "    </tr>\n",
       "    <tr>\n",
       "      <th>317102</th>\n",
       "      <td>2018-04-05 23:24:25</td>\n",
       "      <td>9cdb5039</td>\n",
       "      <td>29.0</td>\n",
       "      <td>Гейхера</td>\n",
       "      <td>2018-04-06 02:24:25</td>\n",
       "      <td>True</td>\n",
       "      <td>False</td>\n",
       "      <td>2018-04-06 02:00:00</td>\n",
       "    </tr>\n",
       "    <tr>\n",
       "      <th>317103</th>\n",
       "      <td>2018-04-05 19:42:38</td>\n",
       "      <td>9cdb5039</td>\n",
       "      <td>20.0</td>\n",
       "      <td>Гейхера</td>\n",
       "      <td>2018-04-05 22:42:38</td>\n",
       "      <td>True</td>\n",
       "      <td>False</td>\n",
       "      <td>2018-04-05 23:00:00</td>\n",
       "    </tr>\n",
       "  </tbody>\n",
       "</table>\n",
       "<p>317104 rows × 8 columns</p>\n",
       "</div>"
      ],
      "text/plain": [
       "                 date_time        id  time_spent     name          local_time  \\\n",
       "0      2018-04-06 16:53:58  76144fb2        98.0  Василёк 2018-04-06 19:53:58   \n",
       "1      2018-04-04 17:39:13  76144fb2        15.0  Василёк 2018-04-04 20:39:13   \n",
       "2      2018-04-03 17:28:24  76144fb2       220.0  Василёк 2018-04-03 20:28:24   \n",
       "3      2018-04-07 07:04:41  76144fb2        19.0  Василёк 2018-04-07 10:04:41   \n",
       "4      2018-04-04 13:20:49  76144fb2        14.0  Василёк 2018-04-04 16:20:49   \n",
       "...                    ...       ...         ...      ...                 ...   \n",
       "317099 2018-04-08 05:31:33  9cdb5039        11.0  Гейхера 2018-04-08 08:31:33   \n",
       "317100 2018-04-03 02:13:53  9cdb5039       181.0  Гейхера 2018-04-03 05:13:53   \n",
       "317101 2018-04-08 06:26:36  9cdb5039       252.0  Гейхера 2018-04-08 09:26:36   \n",
       "317102 2018-04-05 23:24:25  9cdb5039        29.0  Гейхера 2018-04-06 02:24:25   \n",
       "317103 2018-04-05 19:42:38  9cdb5039        20.0  Гейхера 2018-04-05 22:42:38   \n",
       "\n",
       "        too_fast  too_slow           date_hour  \n",
       "0          False     False 2018-04-06 20:00:00  \n",
       "1           True     False 2018-04-04 21:00:00  \n",
       "2          False     False 2018-04-03 20:00:00  \n",
       "3           True     False 2018-04-07 10:00:00  \n",
       "4           True     False 2018-04-04 16:00:00  \n",
       "...          ...       ...                 ...  \n",
       "317099      True     False 2018-04-08 09:00:00  \n",
       "317100     False     False 2018-04-03 05:00:00  \n",
       "317101     False     False 2018-04-08 09:00:00  \n",
       "317102      True     False 2018-04-06 02:00:00  \n",
       "317103      True     False 2018-04-05 23:00:00  \n",
       "\n",
       "[317104 rows x 8 columns]"
      ]
     },
     "execution_count": 158,
     "metadata": {},
     "output_type": "execute_result"
    }
   ],
   "source": [
    "data"
   ]
  },
  {
   "cell_type": "code",
   "execution_count": 159,
   "id": "00e4b205",
   "metadata": {},
   "outputs": [
    {
     "data": {
      "text/plain": [
       "0.42213910893586964"
      ]
     },
     "execution_count": 159,
     "metadata": {},
     "output_type": "execute_result"
    }
   ],
   "source": [
    "data['too_fast'].mean()"
   ]
  },
  {
   "cell_type": "markdown",
   "id": "3e7338d5",
   "metadata": {},
   "source": [
    "Переменная задана, процент посчитан, теперь можно группировать данные по АЗС. Для этого воспользуйтесь сводной таблицей.\n",
    "Создайте переменную too_fast_stat и запишите в неё значения из сводной таблицы, сгруппировав доли быстрых заездов по АЗС.\n",
    "Выведите на экран первые пять строк too_fast_stat."
   ]
  },
  {
   "cell_type": "code",
   "execution_count": 160,
   "id": "7067cea9",
   "metadata": {},
   "outputs": [],
   "source": [
    "too_fast_stat = data.pivot_table(index='id', values='too_fast')"
   ]
  },
  {
   "cell_type": "code",
   "execution_count": 161,
   "id": "02d8600e",
   "metadata": {},
   "outputs": [
    {
     "data": {
      "text/html": [
       "<div>\n",
       "<style scoped>\n",
       "    .dataframe tbody tr th:only-of-type {\n",
       "        vertical-align: middle;\n",
       "    }\n",
       "\n",
       "    .dataframe tbody tr th {\n",
       "        vertical-align: top;\n",
       "    }\n",
       "\n",
       "    .dataframe thead th {\n",
       "        text-align: right;\n",
       "    }\n",
       "</style>\n",
       "<table border=\"1\" class=\"dataframe\">\n",
       "  <thead>\n",
       "    <tr style=\"text-align: right;\">\n",
       "      <th></th>\n",
       "      <th>too_fast</th>\n",
       "    </tr>\n",
       "    <tr>\n",
       "      <th>id</th>\n",
       "      <th></th>\n",
       "    </tr>\n",
       "  </thead>\n",
       "  <tbody>\n",
       "    <tr>\n",
       "      <th>00ca1b70</th>\n",
       "      <td>0.250000</td>\n",
       "    </tr>\n",
       "    <tr>\n",
       "      <th>011f7462</th>\n",
       "      <td>0.637489</td>\n",
       "    </tr>\n",
       "    <tr>\n",
       "      <th>015eaddd</th>\n",
       "      <td>0.726190</td>\n",
       "    </tr>\n",
       "    <tr>\n",
       "      <th>0178ce70</th>\n",
       "      <td>0.211538</td>\n",
       "    </tr>\n",
       "    <tr>\n",
       "      <th>018a83ef</th>\n",
       "      <td>0.510269</td>\n",
       "    </tr>\n",
       "    <tr>\n",
       "      <th>...</th>\n",
       "      <td>...</td>\n",
       "    </tr>\n",
       "    <tr>\n",
       "      <th>fbbd8cc2</th>\n",
       "      <td>0.239669</td>\n",
       "    </tr>\n",
       "    <tr>\n",
       "      <th>fc4b1b72</th>\n",
       "      <td>0.191136</td>\n",
       "    </tr>\n",
       "    <tr>\n",
       "      <th>fc661c22</th>\n",
       "      <td>0.912344</td>\n",
       "    </tr>\n",
       "    <tr>\n",
       "      <th>fea1d1b8</th>\n",
       "      <td>0.326087</td>\n",
       "    </tr>\n",
       "    <tr>\n",
       "      <th>ff0f01d2</th>\n",
       "      <td>0.244094</td>\n",
       "    </tr>\n",
       "  </tbody>\n",
       "</table>\n",
       "<p>471 rows × 1 columns</p>\n",
       "</div>"
      ],
      "text/plain": [
       "          too_fast\n",
       "id                \n",
       "00ca1b70  0.250000\n",
       "011f7462  0.637489\n",
       "015eaddd  0.726190\n",
       "0178ce70  0.211538\n",
       "018a83ef  0.510269\n",
       "...            ...\n",
       "fbbd8cc2  0.239669\n",
       "fc4b1b72  0.191136\n",
       "fc661c22  0.912344\n",
       "fea1d1b8  0.326087\n",
       "ff0f01d2  0.244094\n",
       "\n",
       "[471 rows x 1 columns]"
      ]
     },
     "execution_count": 161,
     "metadata": {},
     "output_type": "execute_result"
    }
   ],
   "source": [
    "too_fast_stat"
   ]
  },
  {
   "cell_type": "markdown",
   "id": "5370d7a7",
   "metadata": {},
   "source": [
    "\n",
    "Теперь вы знаете, сколько быстрых заездов на первых пяти АЗС в процентном отношении. Но что делать дальше — выводить на экран остальные 466 строк и изучать значения для каждой АЗС? Слишком сложно.\n",
    "Гораздо лучше визуализировать распределение быстрых заездов сразу по всем АЗС. Гистограмма, вот что нужно!\n",
    "Постройте гистограмму распределения значений в таблице too_fast_stat на 30 корзин."
   ]
  },
  {
   "cell_type": "code",
   "execution_count": 162,
   "id": "7e728a1a",
   "metadata": {},
   "outputs": [
    {
     "data": {
      "image/png": "[encoded data removed]",
      "text/plain": [
       "<Figure size 432x288 with 1 Axes>"
      ]
     },
     "metadata": {
      "needs_background": "light"
     },
     "output_type": "display_data"
    }
   ],
   "source": [
    "too_fast_stat.hist(bins=(30))\n",
    "plt.show()"
   ]
  },
  {
   "cell_type": "markdown",
   "id": "adba8dbf",
   "metadata": {},
   "source": [
    "\n",
    "Теперь, когда вы разобрались, как использовать булевы значения для подсчёта процентов, примените этот метод для аномально долгих заправок — проверьте их распределение по АЗС. Как вы помните, заезды длиннее 1000 секунд решили исключить. Сейчас станет понятно, сколько АЗС это затронет.\n",
    "Добавьте в data столбец too_slow (пер. «слишком медленный»), в котором значения из столбца time_spent больше 1000 секунд будут отмечены как True, а все остальные — как False.\n",
    "Помня о бритве Оккама:\n",
    "Создайте сводную таблицу с процентом медленных заездов для каждой АЗС.\n",
    "Постройте гистограмму доли медленных заездов по всем АЗС на 30 корзин."
   ]
  },
  {
   "cell_type": "code",
   "execution_count": 163,
   "id": "2b791c9b",
   "metadata": {},
   "outputs": [],
   "source": [
    "data['too_slow'] = data['time_spent']>1000"
   ]
  },
  {
   "cell_type": "code",
   "execution_count": 164,
   "id": "76e6cd2e",
   "metadata": {},
   "outputs": [
    {
     "data": {
      "image/png": "[encoded data removed]",
      "text/plain": [
       "<Figure size 432x288 with 1 Axes>"
      ]
     },
     "metadata": {
      "needs_background": "light"
     },
     "output_type": "display_data"
    }
   ],
   "source": [
    "data.pivot_table(index='id', values='too_slow').hist(bins=(30))\n",
    "plt.show()"
   ]
  },
  {
   "cell_type": "code",
   "execution_count": 165,
   "id": "1f5f8480",
   "metadata": {},
   "outputs": [
    {
     "name": "stdout",
     "output_type": "stream",
     "text": [
      "          too_fast\n",
      "id                \n",
      "c96c61cd  1.000000\n",
      "c527c306  1.000000\n",
      "5372547e  1.000000\n",
      "792b6ded  0.996253\n",
      "bd1d0bb0  0.982044\n"
     ]
    }
   ],
   "source": [
    "#Найдём эту проблемную АЗС. Напомним, что в прошлом уроке вы уже считали долю аномально быстрых заправок для каждой АЗС:\n",
    "print(too_fast_stat.sort_values('too_fast', ascending=False).head()) "
   ]
  },
  {
   "cell_type": "code",
   "execution_count": 150,
   "id": "b75f151e",
   "metadata": {},
   "outputs": [
    {
     "data": {
      "text/html": [
       "<div>\n",
       "<style scoped>\n",
       "    .dataframe tbody tr th:only-of-type {\n",
       "        vertical-align: middle;\n",
       "    }\n",
       "\n",
       "    .dataframe tbody tr th {\n",
       "        vertical-align: top;\n",
       "    }\n",
       "\n",
       "    .dataframe thead th {\n",
       "        text-align: right;\n",
       "    }\n",
       "</style>\n",
       "<table border=\"1\" class=\"dataframe\">\n",
       "  <thead>\n",
       "    <tr style=\"text-align: right;\">\n",
       "      <th></th>\n",
       "      <th>time_spent</th>\n",
       "    </tr>\n",
       "  </thead>\n",
       "  <tbody>\n",
       "    <tr>\n",
       "      <th>count</th>\n",
       "      <td>1.0</td>\n",
       "    </tr>\n",
       "    <tr>\n",
       "      <th>mean</th>\n",
       "      <td>5.0</td>\n",
       "    </tr>\n",
       "    <tr>\n",
       "      <th>std</th>\n",
       "      <td>NaN</td>\n",
       "    </tr>\n",
       "    <tr>\n",
       "      <th>min</th>\n",
       "      <td>5.0</td>\n",
       "    </tr>\n",
       "    <tr>\n",
       "      <th>25%</th>\n",
       "      <td>5.0</td>\n",
       "    </tr>\n",
       "    <tr>\n",
       "      <th>50%</th>\n",
       "      <td>5.0</td>\n",
       "    </tr>\n",
       "    <tr>\n",
       "      <th>75%</th>\n",
       "      <td>5.0</td>\n",
       "    </tr>\n",
       "    <tr>\n",
       "      <th>max</th>\n",
       "      <td>5.0</td>\n",
       "    </tr>\n",
       "  </tbody>\n",
       "</table>\n",
       "</div>"
      ],
      "text/plain": [
       "       time_spent\n",
       "count         1.0\n",
       "mean          5.0\n",
       "std           NaN\n",
       "min           5.0\n",
       "25%           5.0\n",
       "50%           5.0\n",
       "75%           5.0\n",
       "max           5.0"
      ]
     },
     "execution_count": 150,
     "metadata": {},
     "output_type": "execute_result"
    }
   ],
   "source": [
    "#АЗС, где 100% заездов аномально быстрые, оказалось целых три! Наверное, их id нужно передать коллегам, чтобы они искали ошибку. Но сперва посмотрите сами. \n",
    "#Методом describe() можно оценить данные первой АЗС —  id == \"c96c61cd\":\n",
    "data.query('id == \"c96c61cd\"').describe() "
   ]
  },
  {
   "cell_type": "markdown",
   "id": "d7831703",
   "metadata": {},
   "source": [
    "Всего один заезд. Это неудачный баг-репорт, ведь АЗС с одним заездом странная сама по себе. Если на ней и была какая-то проблема, не факт, что она массовая. \n",
    "Для баг-репорта нужна «полноценная» АЗС с достаточным числом аномально быстрых заездов. После аналогичной проверки следующих id в списке было обнаружено, что нормальная статистика есть только по АЗС 792b6ded:\n",
    "data.query('id == \"792b6ded\"').describe() "
   ]
  },
  {
   "cell_type": "markdown",
   "id": "806a0c79",
   "metadata": {},
   "source": [
    "Больше 4000 заездов, но почти все очень-очень короткие. 75% укладывается в 5 секунд. Первый квартиль составляет 2 секунды. Это значит, что как минимум 25% укладывается в 2 секунды.\n",
    "Это очень удачный пример для баг-репорта. Можно передать как сам id, так и статистику по этой АЗС."
   ]
  },
  {
   "cell_type": "code",
   "execution_count": null,
   "id": "e0bc00b0",
   "metadata": {},
   "outputs": [],
   "source": []
  }
 ],
 "metadata": {
  "kernelspec": {
   "display_name": "Python 3 (ipykernel)",
   "language": "python",
   "name": "python3"
  },
  "language_info": {
   "codemirror_mode": {
    "name": "ipython",
    "version": 3
   },
   "file_extension": ".py",
   "mimetype": "text/x-python",
   "name": "python",
   "nbconvert_exporter": "python",
   "pygments_lexer": "ipython3",
   "version": "3.9.12"
  }
 },
 "nbformat": 4,
 "nbformat_minor": 5
}
