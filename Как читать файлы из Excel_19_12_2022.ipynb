{
 "cells": [
  {
   "cell_type": "code",
   "execution_count": 1,
   "id": "cac88e16",
   "metadata": {},
   "outputs": [],
   "source": [
    "import pandas as pd"
   ]
  },
  {
   "cell_type": "markdown",
   "id": "cd0a24fd",
   "metadata": {},
   "source": [
    "[Перевод строковых значений в числа](#str_to_num)"
   ]
  },
  {
   "cell_type": "markdown",
   "id": "cdeaa93f",
   "metadata": {},
   "source": [
    "[Методы Pandas для работы с датой и временем](#D_T)"
   ]
  },
  {
   "cell_type": "markdown",
   "id": "fa892264",
   "metadata": {},
   "source": [
    "[Обработка ошибок try-except](#try_except)"
   ]
  },
  {
   "cell_type": "markdown",
   "id": "0a79df38",
   "metadata": {},
   "source": [
    "«Определить, какие товарные категории и подкатегории на сайте представлены в поисковиках хуже всего» \n"
   ]
  },
  {
   "cell_type": "code",
   "execution_count": 2,
   "id": "7381ad18",
   "metadata": {},
   "outputs": [],
   "source": [
    "data = pd.read_excel('seo_data.xlsx',sheet_name='traffic_data')"
   ]
  },
  {
   "cell_type": "code",
   "execution_count": 3,
   "id": "27c2c251",
   "metadata": {},
   "outputs": [
    {
     "name": "stdout",
     "output_type": "stream",
     "text": [
      "<class 'pandas.core.frame.DataFrame'>\n",
      "RangeIndex: 1930 entries, 0 to 1929\n",
      "Data columns (total 4 columns):\n",
      " #   Column          Non-Null Count  Dtype  \n",
      "---  ------          --------------  -----  \n",
      " 0   subcategory_id  1930 non-null   object \n",
      " 1   source          1930 non-null   object \n",
      " 2   visits          1930 non-null   object \n",
      " 3   Unnamed: 3      0 non-null      float64\n",
      "dtypes: float64(1), object(3)\n",
      "memory usage: 60.4+ KB\n"
     ]
    },
    {
     "data": {
      "text/plain": [
       "None"
      ]
     },
     "metadata": {},
     "output_type": "display_data"
    },
    {
     "data": {
      "text/html": [
       "<div>\n",
       "<style scoped>\n",
       "    .dataframe tbody tr th:only-of-type {\n",
       "        vertical-align: middle;\n",
       "    }\n",
       "\n",
       "    .dataframe tbody tr th {\n",
       "        vertical-align: top;\n",
       "    }\n",
       "\n",
       "    .dataframe thead th {\n",
       "        text-align: right;\n",
       "    }\n",
       "</style>\n",
       "<table border=\"1\" class=\"dataframe\">\n",
       "  <thead>\n",
       "    <tr style=\"text-align: right;\">\n",
       "      <th></th>\n",
       "      <th>subcategory_id</th>\n",
       "      <th>source</th>\n",
       "      <th>visits</th>\n",
       "      <th>Unnamed: 3</th>\n",
       "    </tr>\n",
       "  </thead>\n",
       "  <tbody>\n",
       "    <tr>\n",
       "      <th>1920</th>\n",
       "      <td>657ad4152e</td>\n",
       "      <td>organic</td>\n",
       "      <td>24.748969</td>\n",
       "      <td>NaN</td>\n",
       "    </tr>\n",
       "    <tr>\n",
       "      <th>1921</th>\n",
       "      <td>ee2093ef96</td>\n",
       "      <td>organic</td>\n",
       "      <td>24.468693</td>\n",
       "      <td>NaN</td>\n",
       "    </tr>\n",
       "    <tr>\n",
       "      <th>1922</th>\n",
       "      <td>94f5224c98</td>\n",
       "      <td>organic</td>\n",
       "      <td>24.433584</td>\n",
       "      <td>NaN</td>\n",
       "    </tr>\n",
       "    <tr>\n",
       "      <th>1923</th>\n",
       "      <td>3f7f42af50</td>\n",
       "      <td>organic</td>\n",
       "      <td>21.544606</td>\n",
       "      <td>NaN</td>\n",
       "    </tr>\n",
       "    <tr>\n",
       "      <th>1924</th>\n",
       "      <td>779e246861</td>\n",
       "      <td>organic</td>\n",
       "      <td>15.813045</td>\n",
       "      <td>NaN</td>\n",
       "    </tr>\n",
       "    <tr>\n",
       "      <th>1925</th>\n",
       "      <td>c51343bf77</td>\n",
       "      <td>organic</td>\n",
       "      <td>15.640773</td>\n",
       "      <td>NaN</td>\n",
       "    </tr>\n",
       "    <tr>\n",
       "      <th>1926</th>\n",
       "      <td>d942687638</td>\n",
       "      <td>organic</td>\n",
       "      <td>13.87554</td>\n",
       "      <td>NaN</td>\n",
       "    </tr>\n",
       "    <tr>\n",
       "      <th>1927</th>\n",
       "      <td>976642886f</td>\n",
       "      <td>organic</td>\n",
       "      <td>9.204211</td>\n",
       "      <td>NaN</td>\n",
       "    </tr>\n",
       "    <tr>\n",
       "      <th>1928</th>\n",
       "      <td>075994491e</td>\n",
       "      <td>organic</td>\n",
       "      <td>4.606261</td>\n",
       "      <td>NaN</td>\n",
       "    </tr>\n",
       "    <tr>\n",
       "      <th>1929</th>\n",
       "      <td>total</td>\n",
       "      <td>organic</td>\n",
       "      <td>\"5687882\"</td>\n",
       "      <td>NaN</td>\n",
       "    </tr>\n",
       "  </tbody>\n",
       "</table>\n",
       "</div>"
      ],
      "text/plain": [
       "     subcategory_id   source     visits  Unnamed: 3\n",
       "1920     657ad4152e  organic  24.748969         NaN\n",
       "1921     ee2093ef96  organic  24.468693         NaN\n",
       "1922     94f5224c98  organic  24.433584         NaN\n",
       "1923     3f7f42af50  organic  21.544606         NaN\n",
       "1924     779e246861  organic  15.813045         NaN\n",
       "1925     c51343bf77  organic  15.640773         NaN\n",
       "1926     d942687638  organic   13.87554         NaN\n",
       "1927     976642886f  organic   9.204211         NaN\n",
       "1928     075994491e  organic   4.606261         NaN\n",
       "1929          total  organic  \"5687882\"         NaN"
      ]
     },
     "execution_count": 3,
     "metadata": {},
     "output_type": "execute_result"
    }
   ],
   "source": [
    "display(data.info())\n",
    "data.tail(10)"
   ]
  },
  {
   "cell_type": "code",
   "execution_count": 4,
   "id": "22c07d29",
   "metadata": {},
   "outputs": [
    {
     "data": {
      "text/plain": [
       "array(['direct', 'organic'], dtype=object)"
      ]
     },
     "execution_count": 4,
     "metadata": {},
     "output_type": "execute_result"
    }
   ],
   "source": [
    "data['source'].unique()"
   ]
  },
  {
   "cell_type": "code",
   "execution_count": 5,
   "id": "675947d0",
   "metadata": {},
   "outputs": [],
   "source": [
    "subcategory_dict = pd.read_excel('seo_data.xlsx',sheet_name= 'subcategory_ids')"
   ]
  },
  {
   "cell_type": "code",
   "execution_count": 6,
   "id": "d3af50b6",
   "metadata": {},
   "outputs": [
    {
     "data": {
      "text/html": [
       "<div>\n",
       "<style scoped>\n",
       "    .dataframe tbody tr th:only-of-type {\n",
       "        vertical-align: middle;\n",
       "    }\n",
       "\n",
       "    .dataframe tbody tr th {\n",
       "        vertical-align: top;\n",
       "    }\n",
       "\n",
       "    .dataframe thead th {\n",
       "        text-align: right;\n",
       "    }\n",
       "</style>\n",
       "<table border=\"1\" class=\"dataframe\">\n",
       "  <thead>\n",
       "    <tr style=\"text-align: right;\">\n",
       "      <th></th>\n",
       "      <th>subcategory_id</th>\n",
       "      <th>subcategory_name</th>\n",
       "      <th>category_id</th>\n",
       "    </tr>\n",
       "  </thead>\n",
       "  <tbody>\n",
       "    <tr>\n",
       "      <th>0</th>\n",
       "      <td>cf2e61c7af</td>\n",
       "      <td>Мобильные телефоны</td>\n",
       "      <td>09f279a643</td>\n",
       "    </tr>\n",
       "    <tr>\n",
       "      <th>1</th>\n",
       "      <td>0cd903d1cc</td>\n",
       "      <td>Ноутбуки</td>\n",
       "      <td>3509869a61</td>\n",
       "    </tr>\n",
       "    <tr>\n",
       "      <th>2</th>\n",
       "      <td>ef35bc88a7</td>\n",
       "      <td>Телевизоры</td>\n",
       "      <td>09f279a643</td>\n",
       "    </tr>\n",
       "    <tr>\n",
       "      <th>3</th>\n",
       "      <td>6ff9f4014c</td>\n",
       "      <td>Планшеты</td>\n",
       "      <td>3509869a61</td>\n",
       "    </tr>\n",
       "    <tr>\n",
       "      <th>4</th>\n",
       "      <td>72bc238e4d</td>\n",
       "      <td>Наушники и Bluetooth-гарнитуры</td>\n",
       "      <td>09f279a643</td>\n",
       "    </tr>\n",
       "    <tr>\n",
       "      <th>5</th>\n",
       "      <td>88c78ea685</td>\n",
       "      <td>Шины</td>\n",
       "      <td>65922fa39c</td>\n",
       "    </tr>\n",
       "    <tr>\n",
       "      <th>6</th>\n",
       "      <td>179bfacf4a</td>\n",
       "      <td>Умные часы и браслеты</td>\n",
       "      <td>09f279a643</td>\n",
       "    </tr>\n",
       "    <tr>\n",
       "      <th>7</th>\n",
       "      <td>b0fb8f259a</td>\n",
       "      <td>Мониторы</td>\n",
       "      <td>3509869a61</td>\n",
       "    </tr>\n",
       "    <tr>\n",
       "      <th>8</th>\n",
       "      <td>3c67eb2d90</td>\n",
       "      <td>Наручные часы</td>\n",
       "      <td>6074ad29ac</td>\n",
       "    </tr>\n",
       "    <tr>\n",
       "      <th>9</th>\n",
       "      <td>24e6c815c6</td>\n",
       "      <td>Лекарственные препараты и БАДы</td>\n",
       "      <td>10a493e03b</td>\n",
       "    </tr>\n",
       "  </tbody>\n",
       "</table>\n",
       "</div>"
      ],
      "text/plain": [
       "  subcategory_id                subcategory_name category_id\n",
       "0     cf2e61c7af              Мобильные телефоны  09f279a643\n",
       "1     0cd903d1cc                        Ноутбуки  3509869a61\n",
       "2     ef35bc88a7                      Телевизоры  09f279a643\n",
       "3     6ff9f4014c                        Планшеты  3509869a61\n",
       "4     72bc238e4d  Наушники и Bluetooth-гарнитуры  09f279a643\n",
       "5     88c78ea685                            Шины  65922fa39c\n",
       "6     179bfacf4a           Умные часы и браслеты  09f279a643\n",
       "7     b0fb8f259a                        Мониторы  3509869a61\n",
       "8     3c67eb2d90                   Наручные часы  6074ad29ac\n",
       "9     24e6c815c6  Лекарственные препараты и БАДы  10a493e03b"
      ]
     },
     "execution_count": 6,
     "metadata": {},
     "output_type": "execute_result"
    }
   ],
   "source": [
    "subcategory_dict.head(10)"
   ]
  },
  {
   "cell_type": "code",
   "execution_count": 7,
   "id": "28db702b",
   "metadata": {},
   "outputs": [],
   "source": [
    "category_dict = pd.read_excel('seo_data.xlsx',sheet_name= 'category_ids')"
   ]
  },
  {
   "cell_type": "code",
   "execution_count": 8,
   "id": "83ababdc",
   "metadata": {},
   "outputs": [
    {
     "data": {
      "text/html": [
       "<div>\n",
       "<style scoped>\n",
       "    .dataframe tbody tr th:only-of-type {\n",
       "        vertical-align: middle;\n",
       "    }\n",
       "\n",
       "    .dataframe tbody tr th {\n",
       "        vertical-align: top;\n",
       "    }\n",
       "\n",
       "    .dataframe thead th {\n",
       "        text-align: right;\n",
       "    }\n",
       "</style>\n",
       "<table border=\"1\" class=\"dataframe\">\n",
       "  <thead>\n",
       "    <tr style=\"text-align: right;\">\n",
       "      <th></th>\n",
       "      <th>category_id</th>\n",
       "      <th>category_name</th>\n",
       "    </tr>\n",
       "  </thead>\n",
       "  <tbody>\n",
       "    <tr>\n",
       "      <th>0</th>\n",
       "      <td>09f279a643</td>\n",
       "      <td>Электроника</td>\n",
       "    </tr>\n",
       "    <tr>\n",
       "      <th>1</th>\n",
       "      <td>3509869a61</td>\n",
       "      <td>Компьютерная техника</td>\n",
       "    </tr>\n",
       "    <tr>\n",
       "      <th>2</th>\n",
       "      <td>65922fa39c</td>\n",
       "      <td>Авто</td>\n",
       "    </tr>\n",
       "    <tr>\n",
       "      <th>3</th>\n",
       "      <td>6074ad29ac</td>\n",
       "      <td>Одежда, обувь и аксессуары</td>\n",
       "    </tr>\n",
       "    <tr>\n",
       "      <th>4</th>\n",
       "      <td>10a493e03b</td>\n",
       "      <td>Товары для здоровья</td>\n",
       "    </tr>\n",
       "    <tr>\n",
       "      <th>5</th>\n",
       "      <td>5a0d8ac946</td>\n",
       "      <td>Бытовая техника</td>\n",
       "    </tr>\n",
       "    <tr>\n",
       "      <th>6</th>\n",
       "      <td>7dbac4c1a3</td>\n",
       "      <td>Детские товары</td>\n",
       "    </tr>\n",
       "    <tr>\n",
       "      <th>7</th>\n",
       "      <td>ae99947659</td>\n",
       "      <td>Спорт и отдых</td>\n",
       "    </tr>\n",
       "    <tr>\n",
       "      <th>8</th>\n",
       "      <td>655ccc3c49</td>\n",
       "      <td>Товары для красоты</td>\n",
       "    </tr>\n",
       "    <tr>\n",
       "      <th>9</th>\n",
       "      <td>394f20d8fa</td>\n",
       "      <td>Строительство и ремонт</td>\n",
       "    </tr>\n",
       "  </tbody>\n",
       "</table>\n",
       "</div>"
      ],
      "text/plain": [
       "  category_id               category_name\n",
       "0  09f279a643                 Электроника\n",
       "1  3509869a61        Компьютерная техника\n",
       "2  65922fa39c                        Авто\n",
       "3  6074ad29ac  Одежда, обувь и аксессуары\n",
       "4  10a493e03b         Товары для здоровья\n",
       "5  5a0d8ac946             Бытовая техника\n",
       "6  7dbac4c1a3              Детские товары\n",
       "7  ae99947659               Спорт и отдых\n",
       "8  655ccc3c49          Товары для красоты\n",
       "9  394f20d8fa      Строительство и ремонт"
      ]
     },
     "execution_count": 8,
     "metadata": {},
     "output_type": "execute_result"
    }
   ],
   "source": [
    "category_dict.head(10)"
   ]
  },
  {
   "cell_type": "code",
   "execution_count": 9,
   "id": "d467211e",
   "metadata": {},
   "outputs": [
    {
     "name": "stdout",
     "output_type": "stream",
     "text": [
      "source\n",
      "direct     965\n",
      "organic    965\n",
      "Name: source, dtype: int64\n"
     ]
    }
   ],
   "source": [
    "print(data.groupby('source')['source'].count()) "
   ]
  },
  {
   "cell_type": "code",
   "execution_count": 10,
   "id": "95f2f62a",
   "metadata": {},
   "outputs": [
    {
     "name": "stdout",
     "output_type": "stream",
     "text": [
      "<class 'pandas.core.frame.DataFrame'>\n",
      "RangeIndex: 1930 entries, 0 to 1929\n",
      "Data columns (total 4 columns):\n",
      " #   Column          Non-Null Count  Dtype  \n",
      "---  ------          --------------  -----  \n",
      " 0   subcategory_id  1930 non-null   object \n",
      " 1   source          1930 non-null   object \n",
      " 2   visits          1930 non-null   object \n",
      " 3   Unnamed: 3      0 non-null      float64\n",
      "dtypes: float64(1), object(3)\n",
      "memory usage: 60.4+ KB\n",
      "None\n"
     ]
    }
   ],
   "source": [
    "print(data.info())"
   ]
  },
  {
   "cell_type": "markdown",
   "id": "d615a314",
   "metadata": {},
   "source": [
    "Объединим несколько таблиц в одну методом merge(). Передавая тот или иной аргумент методу merge(), можно по-разному объединять таблицы. Подробнее об этом будет рассказано в следующем спринте.\n",
    "merge() применяют к таблице, к которой присоединяют другую. У метода следующие аргументы:\n",
    "right — имя DataFrame или Series, присоединяемого к исходной таблице.\n",
    "on — название общего списка в двух соединяемых таблицах: по нему происходит слияние.\n",
    "how — чьи id включать в итоговую таблицу. Аргумент how может принять значение left: тогда в итоговую таблицу будут включены id из левой таблицы. Аргумент right включает id из правой таблицы."
   ]
  },
  {
   "cell_type": "code",
   "execution_count": 11,
   "id": "61e1a5ef",
   "metadata": {},
   "outputs": [],
   "source": [
    "#Объедините самостоятельно таблицы из переменных subcategory_dict и data. Результат сохраните в переменной data_subcategory\n",
    "data_subcategory = data.merge(subcategory_dict,on='subcategory_id',how='left')"
   ]
  },
  {
   "cell_type": "code",
   "execution_count": 12,
   "id": "2135ed79",
   "metadata": {},
   "outputs": [
    {
     "data": {
      "text/html": [
       "<div>\n",
       "<style scoped>\n",
       "    .dataframe tbody tr th:only-of-type {\n",
       "        vertical-align: middle;\n",
       "    }\n",
       "\n",
       "    .dataframe tbody tr th {\n",
       "        vertical-align: top;\n",
       "    }\n",
       "\n",
       "    .dataframe thead th {\n",
       "        text-align: right;\n",
       "    }\n",
       "</style>\n",
       "<table border=\"1\" class=\"dataframe\">\n",
       "  <thead>\n",
       "    <tr style=\"text-align: right;\">\n",
       "      <th></th>\n",
       "      <th>subcategory_id</th>\n",
       "      <th>source</th>\n",
       "      <th>visits</th>\n",
       "      <th>Unnamed: 3</th>\n",
       "      <th>subcategory_name</th>\n",
       "      <th>category_id</th>\n",
       "    </tr>\n",
       "  </thead>\n",
       "  <tbody>\n",
       "    <tr>\n",
       "      <th>0</th>\n",
       "      <td>cf2e61c7af</td>\n",
       "      <td>direct</td>\n",
       "      <td>501165.668858</td>\n",
       "      <td>NaN</td>\n",
       "      <td>Мобильные телефоны</td>\n",
       "      <td>09f279a643</td>\n",
       "    </tr>\n",
       "    <tr>\n",
       "      <th>1</th>\n",
       "      <td>0cd903d1cc</td>\n",
       "      <td>direct</td>\n",
       "      <td>126342.359505</td>\n",
       "      <td>NaN</td>\n",
       "      <td>Ноутбуки</td>\n",
       "      <td>3509869a61</td>\n",
       "    </tr>\n",
       "    <tr>\n",
       "      <th>2</th>\n",
       "      <td>ef35bc88a7</td>\n",
       "      <td>direct</td>\n",
       "      <td>95626.321402</td>\n",
       "      <td>NaN</td>\n",
       "      <td>Телевизоры</td>\n",
       "      <td>09f279a643</td>\n",
       "    </tr>\n",
       "    <tr>\n",
       "      <th>3</th>\n",
       "      <td>6ff9f4014c</td>\n",
       "      <td>direct</td>\n",
       "      <td>75680.653002</td>\n",
       "      <td>NaN</td>\n",
       "      <td>Планшеты</td>\n",
       "      <td>3509869a61</td>\n",
       "    </tr>\n",
       "    <tr>\n",
       "      <th>4</th>\n",
       "      <td>72bc238e4d</td>\n",
       "      <td>direct</td>\n",
       "      <td>64435.934651</td>\n",
       "      <td>NaN</td>\n",
       "      <td>Наушники и Bluetooth-гарнитуры</td>\n",
       "      <td>09f279a643</td>\n",
       "    </tr>\n",
       "    <tr>\n",
       "      <th>...</th>\n",
       "      <td>...</td>\n",
       "      <td>...</td>\n",
       "      <td>...</td>\n",
       "      <td>...</td>\n",
       "      <td>...</td>\n",
       "      <td>...</td>\n",
       "    </tr>\n",
       "    <tr>\n",
       "      <th>1925</th>\n",
       "      <td>c51343bf77</td>\n",
       "      <td>organic</td>\n",
       "      <td>15.640773</td>\n",
       "      <td>NaN</td>\n",
       "      <td>Свитеры и кардиганы</td>\n",
       "      <td>6074ad29ac</td>\n",
       "    </tr>\n",
       "    <tr>\n",
       "      <th>1926</th>\n",
       "      <td>d942687638</td>\n",
       "      <td>organic</td>\n",
       "      <td>13.87554</td>\n",
       "      <td>NaN</td>\n",
       "      <td>Термобелье</td>\n",
       "      <td>6074ad29ac</td>\n",
       "    </tr>\n",
       "    <tr>\n",
       "      <th>1927</th>\n",
       "      <td>976642886f</td>\n",
       "      <td>organic</td>\n",
       "      <td>9.204211</td>\n",
       "      <td>NaN</td>\n",
       "      <td>Наклейки, шильдики и значки</td>\n",
       "      <td>65922fa39c</td>\n",
       "    </tr>\n",
       "    <tr>\n",
       "      <th>1928</th>\n",
       "      <td>075994491e</td>\n",
       "      <td>organic</td>\n",
       "      <td>4.606261</td>\n",
       "      <td>NaN</td>\n",
       "      <td>Гигиена полости рта</td>\n",
       "      <td>7dbac4c1a3</td>\n",
       "    </tr>\n",
       "    <tr>\n",
       "      <th>1929</th>\n",
       "      <td>total</td>\n",
       "      <td>organic</td>\n",
       "      <td>\"5687882\"</td>\n",
       "      <td>NaN</td>\n",
       "      <td>NaN</td>\n",
       "      <td>NaN</td>\n",
       "    </tr>\n",
       "  </tbody>\n",
       "</table>\n",
       "<p>1930 rows × 6 columns</p>\n",
       "</div>"
      ],
      "text/plain": [
       "     subcategory_id   source         visits  Unnamed: 3  \\\n",
       "0        cf2e61c7af   direct  501165.668858         NaN   \n",
       "1        0cd903d1cc   direct  126342.359505         NaN   \n",
       "2        ef35bc88a7   direct   95626.321402         NaN   \n",
       "3        6ff9f4014c   direct   75680.653002         NaN   \n",
       "4        72bc238e4d   direct   64435.934651         NaN   \n",
       "...             ...      ...            ...         ...   \n",
       "1925     c51343bf77  organic      15.640773         NaN   \n",
       "1926     d942687638  organic       13.87554         NaN   \n",
       "1927     976642886f  organic       9.204211         NaN   \n",
       "1928     075994491e  organic       4.606261         NaN   \n",
       "1929          total  organic      \"5687882\"         NaN   \n",
       "\n",
       "                    subcategory_name category_id  \n",
       "0                 Мобильные телефоны  09f279a643  \n",
       "1                           Ноутбуки  3509869a61  \n",
       "2                         Телевизоры  09f279a643  \n",
       "3                           Планшеты  3509869a61  \n",
       "4     Наушники и Bluetooth-гарнитуры  09f279a643  \n",
       "...                              ...         ...  \n",
       "1925             Свитеры и кардиганы  6074ad29ac  \n",
       "1926                      Термобелье  6074ad29ac  \n",
       "1927     Наклейки, шильдики и значки  65922fa39c  \n",
       "1928             Гигиена полости рта  7dbac4c1a3  \n",
       "1929                             NaN         NaN  \n",
       "\n",
       "[1930 rows x 6 columns]"
      ]
     },
     "execution_count": 12,
     "metadata": {},
     "output_type": "execute_result"
    }
   ],
   "source": [
    "data_subcategory"
   ]
  },
  {
   "cell_type": "code",
   "execution_count": 13,
   "id": "da1cc4b3",
   "metadata": {},
   "outputs": [],
   "source": [
    "#Объедините таблицы из переменных data_subcategory и category_dict.\n",
    "#Результат сохраните в переменной data_final\n",
    "data_final = data_subcategory.merge(category_dict,on='category_id',how='left')"
   ]
  },
  {
   "cell_type": "code",
   "execution_count": 14,
   "id": "ac1d7ee7",
   "metadata": {},
   "outputs": [
    {
     "data": {
      "text/html": [
       "<div>\n",
       "<style scoped>\n",
       "    .dataframe tbody tr th:only-of-type {\n",
       "        vertical-align: middle;\n",
       "    }\n",
       "\n",
       "    .dataframe tbody tr th {\n",
       "        vertical-align: top;\n",
       "    }\n",
       "\n",
       "    .dataframe thead th {\n",
       "        text-align: right;\n",
       "    }\n",
       "</style>\n",
       "<table border=\"1\" class=\"dataframe\">\n",
       "  <thead>\n",
       "    <tr style=\"text-align: right;\">\n",
       "      <th></th>\n",
       "      <th>subcategory_id</th>\n",
       "      <th>source</th>\n",
       "      <th>visits</th>\n",
       "      <th>Unnamed: 3</th>\n",
       "      <th>subcategory_name</th>\n",
       "      <th>category_id</th>\n",
       "      <th>category_name</th>\n",
       "    </tr>\n",
       "  </thead>\n",
       "  <tbody>\n",
       "    <tr>\n",
       "      <th>0</th>\n",
       "      <td>cf2e61c7af</td>\n",
       "      <td>direct</td>\n",
       "      <td>501165.668858</td>\n",
       "      <td>NaN</td>\n",
       "      <td>Мобильные телефоны</td>\n",
       "      <td>09f279a643</td>\n",
       "      <td>Электроника</td>\n",
       "    </tr>\n",
       "    <tr>\n",
       "      <th>1</th>\n",
       "      <td>0cd903d1cc</td>\n",
       "      <td>direct</td>\n",
       "      <td>126342.359505</td>\n",
       "      <td>NaN</td>\n",
       "      <td>Ноутбуки</td>\n",
       "      <td>3509869a61</td>\n",
       "      <td>Компьютерная техника</td>\n",
       "    </tr>\n",
       "    <tr>\n",
       "      <th>2</th>\n",
       "      <td>ef35bc88a7</td>\n",
       "      <td>direct</td>\n",
       "      <td>95626.321402</td>\n",
       "      <td>NaN</td>\n",
       "      <td>Телевизоры</td>\n",
       "      <td>09f279a643</td>\n",
       "      <td>Электроника</td>\n",
       "    </tr>\n",
       "    <tr>\n",
       "      <th>3</th>\n",
       "      <td>6ff9f4014c</td>\n",
       "      <td>direct</td>\n",
       "      <td>75680.653002</td>\n",
       "      <td>NaN</td>\n",
       "      <td>Планшеты</td>\n",
       "      <td>3509869a61</td>\n",
       "      <td>Компьютерная техника</td>\n",
       "    </tr>\n",
       "    <tr>\n",
       "      <th>4</th>\n",
       "      <td>72bc238e4d</td>\n",
       "      <td>direct</td>\n",
       "      <td>64435.934651</td>\n",
       "      <td>NaN</td>\n",
       "      <td>Наушники и Bluetooth-гарнитуры</td>\n",
       "      <td>09f279a643</td>\n",
       "      <td>Электроника</td>\n",
       "    </tr>\n",
       "    <tr>\n",
       "      <th>...</th>\n",
       "      <td>...</td>\n",
       "      <td>...</td>\n",
       "      <td>...</td>\n",
       "      <td>...</td>\n",
       "      <td>...</td>\n",
       "      <td>...</td>\n",
       "      <td>...</td>\n",
       "    </tr>\n",
       "    <tr>\n",
       "      <th>1925</th>\n",
       "      <td>c51343bf77</td>\n",
       "      <td>organic</td>\n",
       "      <td>15.640773</td>\n",
       "      <td>NaN</td>\n",
       "      <td>Свитеры и кардиганы</td>\n",
       "      <td>6074ad29ac</td>\n",
       "      <td>Одежда, обувь и аксессуары</td>\n",
       "    </tr>\n",
       "    <tr>\n",
       "      <th>1926</th>\n",
       "      <td>d942687638</td>\n",
       "      <td>organic</td>\n",
       "      <td>13.87554</td>\n",
       "      <td>NaN</td>\n",
       "      <td>Термобелье</td>\n",
       "      <td>6074ad29ac</td>\n",
       "      <td>Одежда, обувь и аксессуары</td>\n",
       "    </tr>\n",
       "    <tr>\n",
       "      <th>1927</th>\n",
       "      <td>976642886f</td>\n",
       "      <td>organic</td>\n",
       "      <td>9.204211</td>\n",
       "      <td>NaN</td>\n",
       "      <td>Наклейки, шильдики и значки</td>\n",
       "      <td>65922fa39c</td>\n",
       "      <td>Авто</td>\n",
       "    </tr>\n",
       "    <tr>\n",
       "      <th>1928</th>\n",
       "      <td>075994491e</td>\n",
       "      <td>organic</td>\n",
       "      <td>4.606261</td>\n",
       "      <td>NaN</td>\n",
       "      <td>Гигиена полости рта</td>\n",
       "      <td>7dbac4c1a3</td>\n",
       "      <td>Детские товары</td>\n",
       "    </tr>\n",
       "    <tr>\n",
       "      <th>1929</th>\n",
       "      <td>total</td>\n",
       "      <td>organic</td>\n",
       "      <td>\"5687882\"</td>\n",
       "      <td>NaN</td>\n",
       "      <td>NaN</td>\n",
       "      <td>NaN</td>\n",
       "      <td>NaN</td>\n",
       "    </tr>\n",
       "  </tbody>\n",
       "</table>\n",
       "<p>1930 rows × 7 columns</p>\n",
       "</div>"
      ],
      "text/plain": [
       "     subcategory_id   source         visits  Unnamed: 3  \\\n",
       "0        cf2e61c7af   direct  501165.668858         NaN   \n",
       "1        0cd903d1cc   direct  126342.359505         NaN   \n",
       "2        ef35bc88a7   direct   95626.321402         NaN   \n",
       "3        6ff9f4014c   direct   75680.653002         NaN   \n",
       "4        72bc238e4d   direct   64435.934651         NaN   \n",
       "...             ...      ...            ...         ...   \n",
       "1925     c51343bf77  organic      15.640773         NaN   \n",
       "1926     d942687638  organic       13.87554         NaN   \n",
       "1927     976642886f  organic       9.204211         NaN   \n",
       "1928     075994491e  organic       4.606261         NaN   \n",
       "1929          total  organic      \"5687882\"         NaN   \n",
       "\n",
       "                    subcategory_name category_id               category_name  \n",
       "0                 Мобильные телефоны  09f279a643                 Электроника  \n",
       "1                           Ноутбуки  3509869a61        Компьютерная техника  \n",
       "2                         Телевизоры  09f279a643                 Электроника  \n",
       "3                           Планшеты  3509869a61        Компьютерная техника  \n",
       "4     Наушники и Bluetooth-гарнитуры  09f279a643                 Электроника  \n",
       "...                              ...         ...                         ...  \n",
       "1925             Свитеры и кардиганы  6074ad29ac  Одежда, обувь и аксессуары  \n",
       "1926                      Термобелье  6074ad29ac  Одежда, обувь и аксессуары  \n",
       "1927     Наклейки, шильдики и значки  65922fa39c                        Авто  \n",
       "1928             Гигиена полости рта  7dbac4c1a3              Детские товары  \n",
       "1929                             NaN         NaN                         NaN  \n",
       "\n",
       "[1930 rows x 7 columns]"
      ]
     },
     "execution_count": 14,
     "metadata": {},
     "output_type": "execute_result"
    }
   ],
   "source": [
    "data_final"
   ]
  },
  {
   "cell_type": "markdown",
   "id": "b0182959",
   "metadata": {},
   "source": [
    "## Перевод строковых значений в числа\n",
    "<a id='str_to_num'></a>"
   ]
  },
  {
   "cell_type": "code",
   "execution_count": 15,
   "id": "053f1be7",
   "metadata": {},
   "outputs": [],
   "source": [
    "transactions = pd.read_excel('ids.xlsx')"
   ]
  },
  {
   "cell_type": "code",
   "execution_count": 16,
   "id": "7b2b3c95",
   "metadata": {},
   "outputs": [
    {
     "data": {
      "text/plain": [
       "array(['C', 'B', 'D', 'A', 'E', 'Null'], dtype=object)"
      ]
     },
     "metadata": {},
     "output_type": "display_data"
    },
    {
     "data": {
      "text/html": [
       "<div>\n",
       "<style scoped>\n",
       "    .dataframe tbody tr th:only-of-type {\n",
       "        vertical-align: middle;\n",
       "    }\n",
       "\n",
       "    .dataframe tbody tr th {\n",
       "        vertical-align: top;\n",
       "    }\n",
       "\n",
       "    .dataframe thead th {\n",
       "        text-align: right;\n",
       "    }\n",
       "</style>\n",
       "<table border=\"1\" class=\"dataframe\">\n",
       "  <thead>\n",
       "    <tr style=\"text-align: right;\">\n",
       "      <th></th>\n",
       "      <th>id</th>\n",
       "      <th>category</th>\n",
       "      <th>amount</th>\n",
       "    </tr>\n",
       "  </thead>\n",
       "  <tbody>\n",
       "    <tr>\n",
       "      <th>0</th>\n",
       "      <td>600748331392</td>\n",
       "      <td>C</td>\n",
       "      <td>17515.36</td>\n",
       "    </tr>\n",
       "    <tr>\n",
       "      <th>1</th>\n",
       "      <td>600748331404</td>\n",
       "      <td>B</td>\n",
       "      <td>10117.56</td>\n",
       "    </tr>\n",
       "    <tr>\n",
       "      <th>2</th>\n",
       "      <td>600748331412</td>\n",
       "      <td>B</td>\n",
       "      <td>18489.26</td>\n",
       "    </tr>\n",
       "    <tr>\n",
       "      <th>3</th>\n",
       "      <td>600748331430</td>\n",
       "      <td>B</td>\n",
       "      <td>6620.22</td>\n",
       "    </tr>\n",
       "    <tr>\n",
       "      <th>4</th>\n",
       "      <td>600748331447</td>\n",
       "      <td>C</td>\n",
       "      <td>7559.9</td>\n",
       "    </tr>\n",
       "  </tbody>\n",
       "</table>\n",
       "</div>"
      ],
      "text/plain": [
       "             id category    amount\n",
       "0  600748331392        C  17515.36\n",
       "1  600748331404        B  10117.56\n",
       "2  600748331412        B  18489.26\n",
       "3  600748331430        B   6620.22\n",
       "4  600748331447        C    7559.9"
      ]
     },
     "execution_count": 16,
     "metadata": {},
     "output_type": "execute_result"
    }
   ],
   "source": [
    "display(transactions['category'].unique())\n",
    "transactions.head()"
   ]
  },
  {
   "cell_type": "code",
   "execution_count": 17,
   "id": "b96ef1b4",
   "metadata": {},
   "outputs": [
    {
     "name": "stdout",
     "output_type": "stream",
     "text": [
      "<class 'pandas.core.frame.DataFrame'>\n",
      "RangeIndex: 49 entries, 0 to 48\n",
      "Data columns (total 3 columns):\n",
      " #   Column    Non-Null Count  Dtype \n",
      "---  ------    --------------  ----- \n",
      " 0   id        49 non-null     object\n",
      " 1   category  49 non-null     object\n",
      " 2   amount    49 non-null     object\n",
      "dtypes: object(3)\n",
      "memory usage: 1.3+ KB\n"
     ]
    }
   ],
   "source": [
    "transactions.info()"
   ]
  },
  {
   "cell_type": "markdown",
   "id": "fb7f3e5a",
   "metadata": {},
   "source": [
    "transactions['amount'] = pd.to_numeric(transactions['amount']) \n",
    "\n",
    "\n",
    "У метода to_numeric() есть параметр errors. От значений, принимаемых errors, зависят действия to_numeric при встрече с некорректным значением:\n",
    "`errors='raise' — дефолтное поведение: при встрече с некорректным значением выдаётся ошибка, операция перевода в числа прерывается;\n",
    "\n",
    "\n",
    "`errors='coerce' — некорректные значения принудительно заменяются на NaN;\n",
    "\n",
    "\n",
    "`errors='ignore' — некорректные значения игнорируются, но остаются.\n",
    "\n",
    "\n",
    "transactions['amount'] = pd.to_numeric(transactions['amount'], errors='coerce') \n",
    "Методом to_numeric() мы не только превратим строки в числовой тип там, где это возможно, но и выясним, на каких значениях метод не работает.\n",
    "Особенность метода to_numeric() в том, что при переводе все числа будут иметь тип данных float. Это подходит далеко не всем значениям. Но есть и хорошие новости: в нужный тип значения переводят методом astype(). Например, аргумент ('int') метода astype() означает, что значение нужно перевести в целое число:"
   ]
  },
  {
   "cell_type": "code",
   "execution_count": 18,
   "id": "0e06f359",
   "metadata": {},
   "outputs": [],
   "source": [
    "transactions['id'] = pd.to_numeric(transactions['id'],errors='coerce')"
   ]
  },
  {
   "cell_type": "code",
   "execution_count": 19,
   "id": "da54571c",
   "metadata": {},
   "outputs": [
    {
     "data": {
      "text/plain": [
       "44    6.007483e+11\n",
       "45    6.007483e+11\n",
       "46    6.007483e+11\n",
       "47    6.007483e+11\n",
       "48             NaN\n",
       "Name: id, dtype: float64"
      ]
     },
     "execution_count": 19,
     "metadata": {},
     "output_type": "execute_result"
    }
   ],
   "source": [
    "transactions['id'].tail(5)"
   ]
  },
  {
   "cell_type": "code",
   "execution_count": 20,
   "id": "4dc96cbe",
   "metadata": {},
   "outputs": [
    {
     "name": "stdout",
     "output_type": "stream",
     "text": [
      "<class 'pandas.core.frame.DataFrame'>\n",
      "RangeIndex: 49 entries, 0 to 48\n",
      "Data columns (total 3 columns):\n",
      " #   Column    Non-Null Count  Dtype  \n",
      "---  ------    --------------  -----  \n",
      " 0   id        48 non-null     float64\n",
      " 1   category  49 non-null     object \n",
      " 2   amount    49 non-null     object \n",
      "dtypes: float64(1), object(2)\n",
      "memory usage: 1.3+ KB\n"
     ]
    }
   ],
   "source": [
    "transactions.info()"
   ]
  },
  {
   "cell_type": "code",
   "execution_count": 21,
   "id": "87c7556f",
   "metadata": {},
   "outputs": [],
   "source": [
    "transactions['amount'] = pd.to_numeric(transactions['amount'],errors='coerce')"
   ]
  },
  {
   "cell_type": "code",
   "execution_count": 22,
   "id": "e5eb1223",
   "metadata": {},
   "outputs": [
    {
     "name": "stdout",
     "output_type": "stream",
     "text": [
      "<class 'pandas.core.frame.DataFrame'>\n",
      "RangeIndex: 49 entries, 0 to 48\n",
      "Data columns (total 3 columns):\n",
      " #   Column    Non-Null Count  Dtype  \n",
      "---  ------    --------------  -----  \n",
      " 0   id        48 non-null     float64\n",
      " 1   category  49 non-null     object \n",
      " 2   amount    45 non-null     float64\n",
      "dtypes: float64(2), object(1)\n",
      "memory usage: 1.3+ KB\n"
     ]
    }
   ],
   "source": [
    "transactions.info()"
   ]
  },
  {
   "cell_type": "code",
   "execution_count": 23,
   "id": "9629266a",
   "metadata": {},
   "outputs": [
    {
     "data": {
      "text/plain": [
       "596107.1"
      ]
     },
     "execution_count": 23,
     "metadata": {},
     "output_type": "execute_result"
    }
   ],
   "source": [
    "transactions['amount'].sum()"
   ]
  },
  {
   "cell_type": "markdown",
   "id": "276b6a9b",
   "metadata": {},
   "source": [
    "\n",
    "Рассчитайте сумму продаж для каждой категории и сохраните в переменной transactions_per_category. Для этого сгруппируйте датафрейм transactions по столбцу category и примените метод sum() к столбцу amount. Выведите результат на экран."
   ]
  },
  {
   "cell_type": "code",
   "execution_count": 24,
   "id": "bd608aca",
   "metadata": {},
   "outputs": [],
   "source": [
    " transactions_per_category = transactions.groupby('category')['amount'].sum()"
   ]
  },
  {
   "cell_type": "code",
   "execution_count": 25,
   "id": "1b34291d",
   "metadata": {},
   "outputs": [
    {
     "name": "stdout",
     "output_type": "stream",
     "text": [
      "category\n",
      "A       133988.50\n",
      "B       168617.89\n",
      "C       173332.50\n",
      "D        62630.82\n",
      "E        57537.39\n",
      "Null         0.00\n",
      "Name: amount, dtype: float64\n"
     ]
    }
   ],
   "source": [
    "print(transactions_per_category)"
   ]
  },
  {
   "cell_type": "code",
   "execution_count": 26,
   "id": "6e0b3114",
   "metadata": {},
   "outputs": [
    {
     "data": {
      "text/html": [
       "<div>\n",
       "<style scoped>\n",
       "    .dataframe tbody tr th:only-of-type {\n",
       "        vertical-align: middle;\n",
       "    }\n",
       "\n",
       "    .dataframe tbody tr th {\n",
       "        vertical-align: top;\n",
       "    }\n",
       "\n",
       "    .dataframe thead th {\n",
       "        text-align: right;\n",
       "    }\n",
       "</style>\n",
       "<table border=\"1\" class=\"dataframe\">\n",
       "  <thead>\n",
       "    <tr style=\"text-align: right;\">\n",
       "      <th></th>\n",
       "      <th>subcategory_id</th>\n",
       "      <th>source</th>\n",
       "      <th>visits</th>\n",
       "      <th>Unnamed: 3</th>\n",
       "    </tr>\n",
       "  </thead>\n",
       "  <tbody>\n",
       "    <tr>\n",
       "      <th>0</th>\n",
       "      <td>cf2e61c7af</td>\n",
       "      <td>direct</td>\n",
       "      <td>501165.668858</td>\n",
       "      <td>NaN</td>\n",
       "    </tr>\n",
       "    <tr>\n",
       "      <th>1</th>\n",
       "      <td>0cd903d1cc</td>\n",
       "      <td>direct</td>\n",
       "      <td>126342.359505</td>\n",
       "      <td>NaN</td>\n",
       "    </tr>\n",
       "    <tr>\n",
       "      <th>2</th>\n",
       "      <td>ef35bc88a7</td>\n",
       "      <td>direct</td>\n",
       "      <td>95626.321402</td>\n",
       "      <td>NaN</td>\n",
       "    </tr>\n",
       "    <tr>\n",
       "      <th>3</th>\n",
       "      <td>6ff9f4014c</td>\n",
       "      <td>direct</td>\n",
       "      <td>75680.653002</td>\n",
       "      <td>NaN</td>\n",
       "    </tr>\n",
       "    <tr>\n",
       "      <th>4</th>\n",
       "      <td>72bc238e4d</td>\n",
       "      <td>direct</td>\n",
       "      <td>64435.934651</td>\n",
       "      <td>NaN</td>\n",
       "    </tr>\n",
       "    <tr>\n",
       "      <th>...</th>\n",
       "      <td>...</td>\n",
       "      <td>...</td>\n",
       "      <td>...</td>\n",
       "      <td>...</td>\n",
       "    </tr>\n",
       "    <tr>\n",
       "      <th>1925</th>\n",
       "      <td>c51343bf77</td>\n",
       "      <td>organic</td>\n",
       "      <td>15.640773</td>\n",
       "      <td>NaN</td>\n",
       "    </tr>\n",
       "    <tr>\n",
       "      <th>1926</th>\n",
       "      <td>d942687638</td>\n",
       "      <td>organic</td>\n",
       "      <td>13.87554</td>\n",
       "      <td>NaN</td>\n",
       "    </tr>\n",
       "    <tr>\n",
       "      <th>1927</th>\n",
       "      <td>976642886f</td>\n",
       "      <td>organic</td>\n",
       "      <td>9.204211</td>\n",
       "      <td>NaN</td>\n",
       "    </tr>\n",
       "    <tr>\n",
       "      <th>1928</th>\n",
       "      <td>075994491e</td>\n",
       "      <td>organic</td>\n",
       "      <td>4.606261</td>\n",
       "      <td>NaN</td>\n",
       "    </tr>\n",
       "    <tr>\n",
       "      <th>1929</th>\n",
       "      <td>total</td>\n",
       "      <td>organic</td>\n",
       "      <td>\"5687882\"</td>\n",
       "      <td>NaN</td>\n",
       "    </tr>\n",
       "  </tbody>\n",
       "</table>\n",
       "<p>1930 rows × 4 columns</p>\n",
       "</div>"
      ],
      "text/plain": [
       "     subcategory_id   source         visits  Unnamed: 3\n",
       "0        cf2e61c7af   direct  501165.668858         NaN\n",
       "1        0cd903d1cc   direct  126342.359505         NaN\n",
       "2        ef35bc88a7   direct   95626.321402         NaN\n",
       "3        6ff9f4014c   direct   75680.653002         NaN\n",
       "4        72bc238e4d   direct   64435.934651         NaN\n",
       "...             ...      ...            ...         ...\n",
       "1925     c51343bf77  organic      15.640773         NaN\n",
       "1926     d942687638  organic       13.87554         NaN\n",
       "1927     976642886f  organic       9.204211         NaN\n",
       "1928     075994491e  organic       4.606261         NaN\n",
       "1929          total  organic      \"5687882\"         NaN\n",
       "\n",
       "[1930 rows x 4 columns]"
      ]
     },
     "execution_count": 26,
     "metadata": {},
     "output_type": "execute_result"
    }
   ],
   "source": [
    "data"
   ]
  },
  {
   "cell_type": "code",
   "execution_count": 27,
   "id": "6e766bd2",
   "metadata": {},
   "outputs": [
    {
     "ename": "ValueError",
     "evalue": "Unable to parse string \"\"2369468\"\" at position 964",
     "output_type": "error",
     "traceback": [
      "\u001b[1;31m---------------------------------------------------------------------------\u001b[0m",
      "\u001b[1;31mValueError\u001b[0m                                Traceback (most recent call last)",
      "\u001b[1;32mpandas\\_libs\\lib.pyx\u001b[0m in \u001b[0;36mpandas._libs.lib.maybe_convert_numeric\u001b[1;34m()\u001b[0m\n",
      "\u001b[1;31mValueError\u001b[0m: Unable to parse string \"\"2369468\"\"",
      "\nDuring handling of the above exception, another exception occurred:\n",
      "\u001b[1;31mValueError\u001b[0m                                Traceback (most recent call last)",
      "\u001b[1;32m<ipython-input-27-9d2de36f9689>\u001b[0m in \u001b[0;36m<module>\u001b[1;34m\u001b[0m\n\u001b[1;32m----> 1\u001b[1;33m \u001b[0mpd\u001b[0m\u001b[1;33m.\u001b[0m\u001b[0mto_numeric\u001b[0m\u001b[1;33m(\u001b[0m\u001b[0mdata\u001b[0m\u001b[1;33m[\u001b[0m\u001b[1;34m'visits'\u001b[0m\u001b[1;33m]\u001b[0m\u001b[1;33m)\u001b[0m\u001b[1;33m\u001b[0m\u001b[1;33m\u001b[0m\u001b[0m\n\u001b[0m",
      "\u001b[1;32m~\\anaconda3\\lib\\site-packages\\pandas\\core\\tools\\numeric.py\u001b[0m in \u001b[0;36mto_numeric\u001b[1;34m(arg, errors, downcast)\u001b[0m\n\u001b[0;32m    152\u001b[0m         \u001b[0mcoerce_numeric\u001b[0m \u001b[1;33m=\u001b[0m \u001b[0merrors\u001b[0m \u001b[1;32mnot\u001b[0m \u001b[1;32min\u001b[0m \u001b[1;33m(\u001b[0m\u001b[1;34m\"ignore\"\u001b[0m\u001b[1;33m,\u001b[0m \u001b[1;34m\"raise\"\u001b[0m\u001b[1;33m)\u001b[0m\u001b[1;33m\u001b[0m\u001b[1;33m\u001b[0m\u001b[0m\n\u001b[0;32m    153\u001b[0m         \u001b[1;32mtry\u001b[0m\u001b[1;33m:\u001b[0m\u001b[1;33m\u001b[0m\u001b[1;33m\u001b[0m\u001b[0m\n\u001b[1;32m--> 154\u001b[1;33m             values = lib.maybe_convert_numeric(\n\u001b[0m\u001b[0;32m    155\u001b[0m                 \u001b[0mvalues\u001b[0m\u001b[1;33m,\u001b[0m \u001b[0mset\u001b[0m\u001b[1;33m(\u001b[0m\u001b[1;33m)\u001b[0m\u001b[1;33m,\u001b[0m \u001b[0mcoerce_numeric\u001b[0m\u001b[1;33m=\u001b[0m\u001b[0mcoerce_numeric\u001b[0m\u001b[1;33m\u001b[0m\u001b[1;33m\u001b[0m\u001b[0m\n\u001b[0;32m    156\u001b[0m             )\n",
      "\u001b[1;32mpandas\\_libs\\lib.pyx\u001b[0m in \u001b[0;36mpandas._libs.lib.maybe_convert_numeric\u001b[1;34m()\u001b[0m\n",
      "\u001b[1;31mValueError\u001b[0m: Unable to parse string \"\"2369468\"\" at position 964"
     ]
    }
   ],
   "source": [
    "pd.to_numeric(data['visits'])"
   ]
  },
  {
   "cell_type": "code",
   "execution_count": null,
   "id": "be39bb68",
   "metadata": {},
   "outputs": [],
   "source": [
    "data.loc[964]"
   ]
  },
  {
   "cell_type": "code",
   "execution_count": null,
   "id": "77bfb8f1",
   "metadata": {},
   "outputs": [],
   "source": [
    "data[data['subcategory_id']=='total']"
   ]
  },
  {
   "cell_type": "code",
   "execution_count": null,
   "id": "de6c58c0",
   "metadata": {},
   "outputs": [],
   "source": [
    "data = data[data['subcategory_id']!='total']"
   ]
  },
  {
   "cell_type": "code",
   "execution_count": null,
   "id": "84d99006",
   "metadata": {},
   "outputs": [],
   "source": [
    "data[data['subcategory_id']=='total']"
   ]
  },
  {
   "cell_type": "code",
   "execution_count": null,
   "id": "0f947da2",
   "metadata": {},
   "outputs": [],
   "source": [
    "data['visits'] = data['visits'].astype('int')"
   ]
  },
  {
   "cell_type": "code",
   "execution_count": null,
   "id": "5c937f8b",
   "metadata": {},
   "outputs": [],
   "source": [
    "data.info()"
   ]
  },
  {
   "cell_type": "code",
   "execution_count": null,
   "id": "619d8c6e",
   "metadata": {},
   "outputs": [],
   "source": [
    "data.groupby('source')['visits'].sum()"
   ]
  },
  {
   "cell_type": "markdown",
   "id": "af1cb80d",
   "metadata": {},
   "source": [
    "## Методы Pandas для работы с датой и временем\n",
    "<a id='D_T'></a>"
   ]
  },
  {
   "cell_type": "markdown",
   "id": "8af1042f",
   "metadata": {},
   "source": [
    "Вне зависимости от способа записи, дату и время нужно вводить в арифметические операции. Для этого в Python существует особый тип данных — datetime. \n"
   ]
  },
  {
   "cell_type": "markdown",
   "id": "049e9c29",
   "metadata": {},
   "source": [
    "Методом to_datetime() превратим содержимое этого столбца в понятные для Python даты.\n",
    "Для этого строку форматируют, обращаясь к специальной системе обозначений, где:\n",
    "\n",
    "%d — день месяца (от 01 до 31)\n",
    "\n",
    "%m — номер месяца (от 01 до 12)\n",
    "\n",
    "%Y — четырёхзначный номер года (например, 2019)\n",
    "\n",
    "Z — стандартный разделитель даты и времени\n",
    "\n",
    "%H — номер часа в 24-часовом формате\n",
    "\n",
    "%I — номер часа в 12-часовом формате\n",
    "\n",
    "%M — минуты (от 00 до 59)\n",
    "\n",
    "%S — секунды (от 00 до 59)\n",
    "\n",
    "Преобразуем формат даты 01.04.2019Z11:03:00 из первой строчки датафрейма:\n",
    "\n",
    "\n",
    "Сначала номер дня месяца. В соответствии с таблицей форматов заменяем его на %d:\n",
    "%d.04.2019Z11:03:00\n",
    "\n",
    "\n",
    "Далее точка (ее оставляем без изменений), потом номер месяца: %m: %d.%m.2019Z11:03:00\n",
    "\n",
    "\n",
    "После четырёхзначный номер года, заменяем 2019 на %Y: %d.%m.%YZ11:03:00\n",
    "\n",
    "\n",
    "Букву Z оставляем без изменений: %d.%m.%YZ11:03:00\n",
    "Номер часа в 24-часовом формате заменим на %H: %d.%m.%YZ%H:03:00\n",
    "Количество минут обозначим %M: %d.%m.%YZ%H:%M:00\n",
    "Завершим форматирование обозначением секунд %S: %d.%m.%YZ%H:%M:%S"
   ]
  },
  {
   "cell_type": "markdown",
   "id": "126977c4",
   "metadata": {},
   "source": [
    "## arrivals['date_datetime'] = pd.to_datetime(arrivals['date'], format='%d.%m.%YZ%H:%M:%S')\n",
    "## print(arrivals.head()) "
   ]
  },
  {
   "cell_type": "markdown",
   "id": "23167238",
   "metadata": {},
   "source": [
    "А у значений столбца '*target_time*' другой способ записи даты: 2019-04-01Z11:00:00. Значит, и в аргументе format сохраним другое выражение: '%Y-%m-%dZ%H:%M:%S':\n",
    "\n",
    "\n",
    "## arrivals['target_datetime'] = pd.to_datetime(\n",
    "##    arrivals['target_time'], format='%Y-%m-%dZ%H:%M:%S')"
   ]
  },
  {
   "cell_type": "code",
   "execution_count": null,
   "id": "9ee3d618",
   "metadata": {},
   "outputs": [],
   "source": [
    "position = pd.read_csv('position.csv')"
   ]
  },
  {
   "cell_type": "code",
   "execution_count": null,
   "id": "4490a2aa",
   "metadata": {},
   "outputs": [],
   "source": [
    "position.head(15)"
   ]
  },
  {
   "cell_type": "code",
   "execution_count": null,
   "id": "dcc2e3b0",
   "metadata": {},
   "outputs": [],
   "source": [
    "position.info()"
   ]
  },
  {
   "cell_type": "code",
   "execution_count": null,
   "id": "10c585ae",
   "metadata": {},
   "outputs": [],
   "source": [
    "position['timestamp'] = pd.to_datetime(position['timestamp'],format='%Y-%m-%dT%H:%M:%S')"
   ]
  },
  {
   "cell_type": "code",
   "execution_count": null,
   "id": "835e20db",
   "metadata": {},
   "outputs": [],
   "source": [
    "position.info()"
   ]
  },
  {
   "cell_type": "code",
   "execution_count": null,
   "id": "44774651",
   "metadata": {},
   "outputs": [],
   "source": [
    "position.sort_values(by = 'level',ascending=False)"
   ]
  },
  {
   "cell_type": "code",
   "execution_count": null,
   "id": "f3baeab2",
   "metadata": {},
   "outputs": [],
   "source": [
    "position['month'] = pd.DatetimeIndex(position['timestamp']).month"
   ]
  },
  {
   "cell_type": "code",
   "execution_count": null,
   "id": "94e2cd7d",
   "metadata": {},
   "outputs": [],
   "source": [
    "position.head()"
   ]
  },
  {
   "cell_type": "code",
   "execution_count": null,
   "id": "1fe862d1",
   "metadata": {},
   "outputs": [],
   "source": [
    "position.groupby('month')['level'].mean()"
   ]
  },
  {
   "cell_type": "markdown",
   "id": "d713de60",
   "metadata": {},
   "source": [
    "## Обработка ошибок: try-except\n",
    "<a id='try_except'></a>"
   ]
  },
  {
   "cell_type": "code",
   "execution_count": null,
   "id": "3e81c34e",
   "metadata": {},
   "outputs": [],
   "source": [
    "position = [\n",
    "    ['2019-05-01', '6'],\n",
    "    ['2019-05-02', '5'],\n",
    "    ['2019-05-03', '5'],\n",
    "    ['2019-05-04', '4'],\n",
    "    ['2019-05-05', '5'],\n",
    "    ['2019-05-06', '5'],\n",
    "    ['2019-05-07', '4'],\n",
    "    ['2019-05-08', '4'],\n",
    "    ['2019-05-09', '3'],\n",
    "    ['2019-05-10', '3'],\n",
    "]"
   ]
  },
  {
   "cell_type": "code",
   "execution_count": null,
   "id": "c94c9fcf",
   "metadata": {},
   "outputs": [],
   "source": [
    "count_lines = 0\n",
    "total_position = 0"
   ]
  },
  {
   "cell_type": "code",
   "execution_count": null,
   "id": "fed0813d",
   "metadata": {},
   "outputs": [],
   "source": [
    "for row in position:\n",
    "    count_lines += 1\n",
    "    level = int(row[1]) #в этой переменной сохраните позицию в выдаче \n",
    "    total_position += level#сложите все позиции в этой переменной "
   ]
  },
  {
   "cell_type": "code",
   "execution_count": null,
   "id": "d89cb456",
   "metadata": {},
   "outputs": [],
   "source": [
    "print(total_position/count_lines)"
   ]
  },
  {
   "cell_type": "markdown",
   "id": "0a712cf8",
   "metadata": {},
   "source": [
    "Формат выгрузки часто согласуют заранее: это помогает избежать проблем с некорректными данными. Вот и вам разработчики прислали формат на согласование: позиция сайта в выдаче на конкретную дату.\n",
    "Напишите цикл, подсчитывающий количество строк в данных. Результат выведите на экран."
   ]
  },
  {
   "cell_type": "code",
   "execution_count": null,
   "id": "20539612",
   "metadata": {},
   "outputs": [],
   "source": [
    "position = [\n",
    "    ['2019-05-01', '- 6'],\n",
    "    ['2019-05-02', '+5'],\n",
    "    ['2019-05-03', ' 5'],\n",
    "    ['2019-05-04', '4'],\n",
    "    ['2019-05-05', '5'],\n",
    "    ['2019-05-06', '5'],\n",
    "    ['2019-05-07', '4'],\n",
    "    ['2019-05-08', 'Error 5'],\n",
    "    ['2019-05-09', '3'],\n",
    "    ['2019-05-10', '3'],\n",
    "]\n",
    "count_lines = 0\n",
    "total_position = 0\n",
    "\n",
    "for row in position:\n",
    "    count_lines += 1\n",
    "    level = int(row[1]) #в этой переменной сохраните позицию в выдаче \n",
    "    total_position += level #сложите все позиции в этой переменной"
   ]
  },
  {
   "cell_type": "code",
   "execution_count": null,
   "id": "a2c4807e",
   "metadata": {},
   "outputs": [],
   "source": [
    "print(total_position/count_lines)"
   ]
  },
  {
   "cell_type": "code",
   "execution_count": null,
   "id": "a531a228",
   "metadata": {},
   "outputs": [],
   "source": [
    "int(+1)"
   ]
  },
  {
   "cell_type": "code",
   "execution_count": null,
   "id": "f72cf375",
   "metadata": {},
   "outputs": [],
   "source": [
    "position = [\n",
    "    ['2019-05-01', '- 6'],\n",
    "    ['2019-05-02', '+5'],\n",
    "    ['2019-05-03', ' 5'],\n",
    "    ['2019-05-04', '4'],\n",
    "    ['2019-05-05', '5'],\n",
    "    ['2019-05-06', '5'],\n",
    "    ['2019-05-07', '4'],\n",
    "    ['2019-05-08', 'Error 5'],\n",
    "    ['2019-05-09', '3'],\n",
    "    ['2019-05-10', '3'],\n",
    "]\n",
    "\n",
    "\n",
    "count_lines = 0\n",
    "wrong_lines_content = []\n",
    "\n",
    "for row in position:\n",
    "    count_lines+=1\n",
    "    try:\n",
    "        level = int(row[1])\n",
    "        \n",
    "    except:\n",
    "        wrong_lines_content.append(row)\n",
    "print('Количество измерений', count_lines)\n",
    "print('Некорректные строки', wrong_lines_content)"
   ]
  },
  {
   "cell_type": "code",
   "execution_count": null,
   "id": "28104389",
   "metadata": {},
   "outputs": [],
   "source": []
  }
 ],
 "metadata": {
  "kernelspec": {
   "display_name": "Python 3",
   "language": "python",
   "name": "python3"
  },
  "language_info": {
   "codemirror_mode": {
    "name": "ipython",
    "version": 3
   },
   "file_extension": ".py",
   "mimetype": "text/x-python",
   "name": "python",
   "nbconvert_exporter": "python",
   "pygments_lexer": "ipython3",
   "version": "3.8.8"
  }
 },
 "nbformat": 4,
 "nbformat_minor": 5
}
